{
 "metadata": {
  "language_info": {
   "codemirror_mode": {
    "name": "ipython",
    "version": 3
   },
   "file_extension": ".py",
   "mimetype": "text/x-python",
   "name": "python",
   "nbconvert_exporter": "python",
   "pygments_lexer": "ipython3",
   "version": "3.8.5"
  },
  "orig_nbformat": 4,
  "kernelspec": {
   "name": "python3",
   "display_name": "Python 3.8.5 64-bit ('base': conda)"
  },
  "interpreter": {
   "hash": "3daa3430744053f4748a69c6948da8999f75f0c797f8ffecf263e95f10f995f6"
  }
 },
 "nbformat": 4,
 "nbformat_minor": 2,
 "cells": [
  {
   "source": [
    "# 210618"
   ],
   "cell_type": "markdown",
   "metadata": {}
  },
  {
   "cell_type": "code",
   "execution_count": 4,
   "metadata": {},
   "outputs": [
    {
     "output_type": "execute_result",
     "data": {
      "text/plain": [
       "Pair(3,4)"
      ]
     },
     "metadata": {},
     "execution_count": 4
    }
   ],
   "source": [
    "class Pair :\n",
    "    def __init__(self, x, y) :\n",
    "        self.x = x\n",
    "        self.y = y\n",
    "    def __repr__(self) :\n",
    "        return 'Pair({0.x!r},{0.y!r})'.format(self)\n",
    "    def __str__(self) :\n",
    "        return '({0.x}, {0.y})'.format(self)\n",
    "\n",
    "p = Pair(3, 4)\n",
    "p"
   ]
  },
  {
   "cell_type": "code",
   "execution_count": 6,
   "metadata": {},
   "outputs": [
    {
     "output_type": "execute_result",
     "data": {
      "text/plain": [
       "True"
      ]
     },
     "metadata": {},
     "execution_count": 6
    }
   ],
   "source": [
    "p1 = eval(repr(p))\n",
    "type(p) == type(p1)"
   ]
  },
  {
   "cell_type": "code",
   "execution_count": 5,
   "metadata": {},
   "outputs": [
    {
     "output_type": "execute_result",
     "data": {
      "text/plain": [
       "7"
      ]
     },
     "metadata": {},
     "execution_count": 5
    }
   ],
   "source": [
    "a = '3 + 4'\n",
    "eval(a)"
   ]
  },
  {
   "cell_type": "code",
   "execution_count": 11,
   "metadata": {},
   "outputs": [
    {
     "output_type": "stream",
     "name": "stdout",
     "text": [
      "Test.__init__\n",
      "Test.__enter__\n",
      "Test.__exit__\n",
      "with 외부\n"
     ]
    }
   ],
   "source": [
    "# with의 동작 원리\n",
    "class Test :\n",
    "    def __init__(self) :\n",
    "        print('Test.__init__')\n",
    "    def __enter__(self) :\n",
    "        print('Test.__enter__')\n",
    "    def __exit__(self,exc_ty,exc_val,tb):\n",
    "        print('Test.__exit__')\n",
    "\n",
    "t = Test()\n",
    "a = input('with 호출 직전 :')\n",
    "with t as s :\n",
    "    a = input('with문 내부 :')\n",
    "\n",
    "print('with 외부')\n",
    "\n"
   ]
  },
  {
   "cell_type": "code",
   "execution_count": 14,
   "metadata": {},
   "outputs": [
    {
     "output_type": "stream",
     "name": "stdout",
     "text": [
      "Got 392 bytes\n"
     ]
    }
   ],
   "source": [
    "from socket import socket, AF_INET, SOCK_STREAM\n",
    "\n",
    "class LazyConnection :\n",
    "    def __init__(self, address, family = AF_INET, TYPE = SOCK_STREAM) :\n",
    "        self.address = address\n",
    "        self.family = AF_INET\n",
    "        self.type = SOCK_STREAM\n",
    "        self.sock = None\n",
    "\n",
    "    def __enter__(self) :\n",
    "        if self.sock is not None :\n",
    "            raise RuntimeError(\"Already connected\")\n",
    "        self.sock = socket(self.family, self.type)\n",
    "        self.sock.connect(self.address)\n",
    "        return self.sock\n",
    "    def __exit__(self, exc_ty, exc_val, tb):\n",
    "        self.sock.close()\n",
    "        self.sock = None\n",
    "\n",
    "if __name__ == '__main__' :\n",
    "    from functools import partial\n",
    "    c = LazyConnection(('www.python.org', 80))\n",
    "    with c as s :\n",
    "        s.send(b'GET /index.html HTTP/1.0\\r\\n')\n",
    "        s.send(b'Host:www.python.org\\r\\n')\n",
    "        s.send(b'\\r\\n')\n",
    "        resp = b''.join(iter(partial(s.recv,8192),b''))\n",
    "    print('Got %d bytes' % len(resp))\n"
   ]
  },
  {
   "cell_type": "code",
   "execution_count": 18,
   "metadata": {},
   "outputs": [],
   "source": [
    "class Date :\n",
    "    def __init__(self, year, month, day) :\n",
    "        self.year = year\n",
    "        self.month = month\n",
    "        self.day = day\n",
    "\n",
    "d1 = Date(2021, 6, 18)"
   ]
  },
  {
   "cell_type": "code",
   "execution_count": 16,
   "metadata": {},
   "outputs": [
    {
     "output_type": "execute_result",
     "data": {
      "text/plain": [
       "mappingproxy({'__module__': '__main__',\n",
       "              '__init__': <function __main__.Date.__init__(self, year, month, day)>,\n",
       "              '__dict__': <attribute '__dict__' of 'Date' objects>,\n",
       "              '__weakref__': <attribute '__weakref__' of 'Date' objects>,\n",
       "              '__doc__': None})"
      ]
     },
     "metadata": {},
     "execution_count": 16
    }
   ],
   "source": [
    "Date.__dict__"
   ]
  },
  {
   "cell_type": "code",
   "execution_count": 19,
   "metadata": {},
   "outputs": [
    {
     "output_type": "execute_result",
     "data": {
      "text/plain": [
       "{'year': 2021, 'month': 6, 'day': 18}"
      ]
     },
     "metadata": {},
     "execution_count": 19
    }
   ],
   "source": [
    "d1.__dict__"
   ]
  },
  {
   "cell_type": "code",
   "execution_count": 20,
   "metadata": {},
   "outputs": [],
   "source": [
    "class Date :\n",
    "    __slot__ = ['year','month','day']\n",
    "    def __init__(self, year, month, day) :\n",
    "        self.year = year\n",
    "        self.month = month \n",
    "        self.day = day\n",
    "\n",
    "d1 = Date(2021, 6, 18)"
   ]
  },
  {
   "cell_type": "code",
   "execution_count": 21,
   "metadata": {},
   "outputs": [
    {
     "output_type": "execute_result",
     "data": {
      "text/plain": [
       "{'year': 2021, 'month': 6, 'day': 18}"
      ]
     },
     "metadata": {},
     "execution_count": 21
    }
   ],
   "source": [
    "d1.__dict__"
   ]
  },
  {
   "cell_type": "code",
   "execution_count": 29,
   "metadata": {},
   "outputs": [
    {
     "output_type": "stream",
     "name": "stdout",
     "text": [
      "David\nDave\n"
     ]
    }
   ],
   "source": [
    "class Person :\n",
    "    def __init__(self,first_name) :\n",
    "        self.first_name = first_name\n",
    "\n",
    "    @property\n",
    "    def get_first_name(self) :\n",
    "        return self._first_name\n",
    "    first_name = property(get_first_name)\n",
    "\n",
    "    @first_name.setter\n",
    "    def set_first_name(self,value) :\n",
    "        if not isinstance(value, str) :\n",
    "            raise TypeError('Excepted a string')\n",
    "        self._first_name = value\n",
    "\n",
    "    first_name = property(get_first_name, set_first_name)\n",
    "\n",
    "if __name__ == '__main__' :\n",
    "    \n",
    "    a = Person('David')\n",
    "     \n",
    "    print(a.first_name) \n",
    "    a.first_name = 'Dave'\n",
    "    \n",
    "    print(a.first_name)"
   ]
  }
 ]
}