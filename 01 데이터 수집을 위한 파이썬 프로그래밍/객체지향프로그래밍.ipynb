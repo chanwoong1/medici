{
 "cells": [
  {
   "cell_type": "markdown",
   "id": "25bce880-fb79-4b08-9a71-ccb677c6996d",
   "metadata": {},
   "source": [
    "# 객체지향 프로그래밍\n",
    "<br>\n",
    "\n",
    "## 1. 객체와 클래스\n",
    "<br>\n",
    "\n",
    "### 객체와 클래스 개념\n",
    "- 클래스(Class) : 객체를 만들기 위한 틀\n",
    "- 객체(Object) : 클래스의 인스턴스\n",
    "    - 인스턴스 : 객체를 부르는 또 다른 언어. 객체를 총칭해서 부를 때 사용\n",
    "\n",
    "- 현실 세계의 모든 것을 객체로 간주.\n",
    "- 객체를 속성(Attribute)과 행위(Behavior)를 갖는 소프트웨어적 개념으로 표현한다.\n",
    "    - 속성: 사물의 특징을 나타내는 정보\n",
    "    - 행위: 사물을 이용해 할 수 있는 행동\n",
    "\n",
    "<br>\n",
    "\n",
    "- 객체 예시\n",
    "    - 객체: `연필`\n",
    "        - 속성: `색상`, `굵기` 등\n",
    "        - 행위: `쓰다` 등\n",
    "    <br>\n",
    "    <br>\n",
    "    - `연필` -> 클래스의 이름\n",
    "    - `색상`, `굵기` -> 변수\n",
    "    - `쓰다` -> 함수\n",
    "    \n",
    "<br>\n",
    "\n",
    "- 객체 예시2: 추상적 객체\n",
    "    - 객체: `은행계좌`\n",
    "        - 속성: `계좌번호`, `잔고`, `이율` 등\n",
    "        - 행위: `입금하다`, `출금하다`, `이체하다` 등\n",
    "    <br>\n",
    "    <br>\n",
    "    - `은행계좌` -> 클래스 이름\n",
    "    - `계좌번호`, `잔고`, `이율` -> 변수\n",
    "    - `입금하다`, `출금하다`, `이체하다` -> 함수\n",
    "\n",
    "<br>\n",
    "\n",
    "- ***클래스 vs 객체***\n",
    "    - 클래스는 <u>**하나 이상의 유사한 객체를 묶어 하나의 공통된 특성으로 표현**</u>한 추상적 자료형\n",
    "    - 즉, <u>클래스 안에 여러 객체가 존재한다.</u>\n",
    "    - 객체의 명사적 특징(변수라고 불리는 것들)은 클래스에서 속성(Attribute), 변수에 해당 (클래스에서도 변수를 변수라 그럼)\n",
    "    - 객체의 동석적 특징(함수라고 불리는 것들)은 클래스에서 메서드(Method)라 한다."
   ]
  },
  {
   "cell_type": "code",
   "execution_count": 1,
   "id": "3ef00786-cd7e-430b-a197-b20cd1edd9e5",
   "metadata": {},
   "outputs": [],
   "source": [
    "# 클래스 선언\n",
    "class Person:    # 인간 중에는\n",
    "    pass"
   ]
  },
  {
   "cell_type": "code",
   "execution_count": 2,
   "id": "8d5c60b2-820e-4688-8432-a3e33acb8590",
   "metadata": {},
   "outputs": [
    {
     "data": {
      "text/plain": [
       "<__main__.Person at 0x23818df65b0>"
      ]
     },
     "execution_count": 2,
     "metadata": {},
     "output_type": "execute_result"
    }
   ],
   "source": [
    "# 객체 생성\n",
    "p1 = Person()    # p1이라는 사람이 있다.\n",
    "p1"
   ]
  },
  {
   "cell_type": "code",
   "execution_count": 3,
   "id": "fa5f0cb1-6448-4241-9c78-6ab0e79742bb",
   "metadata": {},
   "outputs": [
    {
     "data": {
      "text/plain": [
       "__main__.Person"
      ]
     },
     "execution_count": 3,
     "metadata": {},
     "output_type": "execute_result"
    }
   ],
   "source": [
    "type(p1)         # p1은 인간이다."
   ]
  },
  {
   "cell_type": "markdown",
   "id": "faac5ca6-8b25-45e3-83ab-783370c8ba98",
   "metadata": {},
   "source": [
    "<br>\n",
    "\n",
    "## 2. 변수와 메서드\n",
    "<br>\n",
    "\n",
    "### 변수 추가"
   ]
  },
  {
   "cell_type": "code",
   "execution_count": 4,
   "id": "5526dcc3-9239-44ca-a938-ecbf14155b5c",
   "metadata": {},
   "outputs": [],
   "source": [
    "# 이름이 홍길동이고 남자인 인간이 있다.\n",
    "class Person:\n",
    "    name = \"홍길동\"\n",
    "    gender = \"남자\""
   ]
  },
  {
   "cell_type": "code",
   "execution_count": 5,
   "id": "e11f9387-c6cf-43a8-9cdc-5baca292e90b",
   "metadata": {},
   "outputs": [],
   "source": [
    "# 나는 어떤 생명체에게 이름이 홍길동이고 성별이 남자인 인간을 부여했다. \n",
    "p1 = Person()"
   ]
  },
  {
   "cell_type": "code",
   "execution_count": 7,
   "id": "9cc39da0-400e-46eb-ae2a-5acae4d8e5e3",
   "metadata": {},
   "outputs": [
    {
     "name": "stdout",
     "output_type": "stream",
     "text": [
      "홍길동\n"
     ]
    }
   ],
   "source": [
    "# p1의 이름은 이제 홍길동이다.\n",
    "print(p1.name)"
   ]
  },
  {
   "cell_type": "markdown",
   "id": "467857ef-9be5-449a-92da-9d2e6e9d0b3a",
   "metadata": {},
   "source": [
    "<br>\n",
    "\n",
    "### 메서드 추가"
   ]
  },
  {
   "cell_type": "code",
   "execution_count": 8,
   "id": "2a69b6c0-ebd3-4e8f-b987-a0fcdb2f9596",
   "metadata": {},
   "outputs": [],
   "source": [
    "# 자신이 인간이라고 말할 수 있는 능력을 가진 인간이 있다.\n",
    "class Person:\n",
    "    def print_info():\n",
    "        print(\"저는 인간입니다.\")"
   ]
  },
  {
   "cell_type": "code",
   "execution_count": 9,
   "id": "33477f93-7abd-44ba-bf8f-8731695ec569",
   "metadata": {},
   "outputs": [],
   "source": [
    "# p1은 자신을 인간이라 말할 수 있는 인간이 되었다.\n",
    "p1 = Person()"
   ]
  },
  {
   "cell_type": "code",
   "execution_count": 10,
   "id": "00de8b7b-8179-4066-9a0a-8938e2244254",
   "metadata": {},
   "outputs": [
    {
     "ename": "TypeError",
     "evalue": "print_info() takes 0 positional arguments but 1 was given",
     "output_type": "error",
     "traceback": [
      "\u001b[1;31m---------------------------------------------------------------------------\u001b[0m",
      "\u001b[1;31mTypeError\u001b[0m                                 Traceback (most recent call last)",
      "\u001b[1;32m<ipython-input-10-c7bd0f6e6eff>\u001b[0m in \u001b[0;36m<module>\u001b[1;34m\u001b[0m\n\u001b[0;32m      1\u001b[0m \u001b[1;31m# p1은 자신을 인간이라 말하려 했으나\u001b[0m\u001b[1;33m\u001b[0m\u001b[1;33m\u001b[0m\u001b[1;33m\u001b[0m\u001b[0m\n\u001b[1;32m----> 2\u001b[1;33m \u001b[0mp1\u001b[0m\u001b[1;33m.\u001b[0m\u001b[0mprint_info\u001b[0m\u001b[1;33m(\u001b[0m\u001b[1;33m)\u001b[0m\u001b[1;33m\u001b[0m\u001b[1;33m\u001b[0m\u001b[0m\n\u001b[0m",
      "\u001b[1;31mTypeError\u001b[0m: print_info() takes 0 positional arguments but 1 was given"
     ]
    }
   ],
   "source": [
    "# p1은 자신을 인간이라 말하려 했으나 말할 수 없었다.\n",
    "p1.print_info()"
   ]
  },
  {
   "cell_type": "markdown",
   "id": "33a994c3-bbfb-45d0-bd50-93cd0578701d",
   "metadata": {},
   "source": [
    "<br>\n",
    "\n",
    "### 클래스를 이용한 참조와 객체를 이용한 참조\n",
    "- 변수는 `클래스 영역`과 `인스턴스 영역`이 분리되어 있다. \n",
    "- 따라서 클래스의 변수와 객체의 변수가 저장되는 영역이 다르다."
   ]
  },
  {
   "cell_type": "markdown",
   "id": "b0fb1203-509d-4b14-a48d-c80dc499864a",
   "metadata": {},
   "source": [
    "위의 예시에서는 `p1.print_info()`와 `Person.print_info()`로 메서드를 실행 시켜보면 메서드가 실행이 안된다.  \n",
    "`Person`클래스의 변수인지 `p1` 객체의 변수인지 구분할 수 없기 때문이다.\n",
    "<br>\n",
    "\n",
    "클래스에 메서드를 정의할 때는 메서드가 실행될 때 클래스의 멤버를 참조해야하는 지,  \n",
    "아니면 객체의 멤버를 참조해야하는지 알려줘야 한다."
   ]
  },
  {
   "cell_type": "markdown",
   "id": "6de6585f-0a85-495d-ab8e-ca6174d8bbde",
   "metadata": {},
   "source": [
    "<br>\n",
    "\n",
    "### 인스턴스 메서드\n",
    "클래스의 함수를 호출할 대 객체를 인수로 전달하면 위의 문제를 해결할 수 있다.  \n",
    "이렇게, 객체를 이용해 참조할 수 있는 메서드를 인스턴스(Instance) 메서드라고 한다.\n",
    "\n",
    "- 인스턴스 메서드의 첫 매개변수는 `self`여야 한다."
   ]
  },
  {
   "cell_type": "code",
   "execution_count": 19,
   "id": "c6be0eab-3449-4bef-8f3e-9e2614d837c9",
   "metadata": {},
   "outputs": [],
   "source": [
    "# 자신이 인간이라고 말할 수 있는 능력을 가진 인간이 있다.\n",
    "class Person:\n",
    "    def print_info(self):\n",
    "        print(\"저는 인간입니다.\")"
   ]
  },
  {
   "cell_type": "code",
   "execution_count": 20,
   "id": "7df7d057-01c0-4602-9774-1129ce304d03",
   "metadata": {},
   "outputs": [],
   "source": [
    "# p1은 자신을 인간이라 말할 수 있는 인간이 되었다.\n",
    "p1 = Person()"
   ]
  },
  {
   "cell_type": "code",
   "execution_count": 22,
   "id": "46f773df-1974-46f2-aab6-012e5446c3af",
   "metadata": {},
   "outputs": [
    {
     "name": "stdout",
     "output_type": "stream",
     "text": [
      "저는 인간입니다.\n"
     ]
    }
   ],
   "source": [
    "# p1은 자신을 인간이라 말했다.\n",
    "p1.print_info()    # p1.print_info(p1)"
   ]
  },
  {
   "cell_type": "markdown",
   "id": "fb47f57a-bade-49ec-a26f-77dad789b906",
   "metadata": {},
   "source": [
    "<br>\n",
    "\n",
    "self 활용"
   ]
  },
  {
   "cell_type": "code",
   "execution_count": 23,
   "id": "c881722e-ba73-4b85-ad84-554080a7887a",
   "metadata": {},
   "outputs": [],
   "source": [
    "# 홍길동을 남자라고 말할 수 있는 인간이 있다.\n",
    "class Person:\n",
    "    name = '홍길동'\n",
    "    gender = '남자'\n",
    "    \n",
    "    def print_info(self):\n",
    "        print(\"{}님은 {}입니다.\".format(name, gender))"
   ]
  },
  {
   "cell_type": "code",
   "execution_count": 25,
   "id": "58938fe5-c472-477b-a7f1-2e9507d35bd8",
   "metadata": {},
   "outputs": [],
   "source": [
    "# p1은 홍길동을 남자라 말할 수 있는 인간이 되었다.\n",
    "p1 = Person()"
   ]
  },
  {
   "cell_type": "code",
   "execution_count": 26,
   "id": "00277ea1-b07c-439f-b7ad-83b1c12f6314",
   "metadata": {},
   "outputs": [
    {
     "ename": "NameError",
     "evalue": "name 'name' is not defined",
     "output_type": "error",
     "traceback": [
      "\u001b[1;31m---------------------------------------------------------------------------\u001b[0m",
      "\u001b[1;31mNameError\u001b[0m                                 Traceback (most recent call last)",
      "\u001b[1;32m<ipython-input-26-123b1e7cbd59>\u001b[0m in \u001b[0;36m<module>\u001b[1;34m\u001b[0m\n\u001b[1;32m----> 1\u001b[1;33m \u001b[0mp1\u001b[0m\u001b[1;33m.\u001b[0m\u001b[0mprint_info\u001b[0m\u001b[1;33m(\u001b[0m\u001b[1;33m)\u001b[0m\u001b[1;33m\u001b[0m\u001b[1;33m\u001b[0m\u001b[0m\n\u001b[0m",
      "\u001b[1;32m<ipython-input-23-1b4dba033a4e>\u001b[0m in \u001b[0;36mprint_info\u001b[1;34m(self)\u001b[0m\n\u001b[0;32m      4\u001b[0m \u001b[1;33m\u001b[0m\u001b[0m\n\u001b[0;32m      5\u001b[0m     \u001b[1;32mdef\u001b[0m \u001b[0mprint_info\u001b[0m\u001b[1;33m(\u001b[0m\u001b[0mself\u001b[0m\u001b[1;33m)\u001b[0m\u001b[1;33m:\u001b[0m\u001b[1;33m\u001b[0m\u001b[1;33m\u001b[0m\u001b[0m\n\u001b[1;32m----> 6\u001b[1;33m         \u001b[0mprint\u001b[0m\u001b[1;33m(\u001b[0m\u001b[1;34m\"{}님은 {}입니다.\"\u001b[0m\u001b[1;33m.\u001b[0m\u001b[0mformat\u001b[0m\u001b[1;33m(\u001b[0m\u001b[0mname\u001b[0m\u001b[1;33m,\u001b[0m \u001b[0mgender\u001b[0m\u001b[1;33m)\u001b[0m\u001b[1;33m)\u001b[0m\u001b[1;33m\u001b[0m\u001b[1;33m\u001b[0m\u001b[0m\n\u001b[0m",
      "\u001b[1;31mNameError\u001b[0m: name 'name' is not defined"
     ]
    }
   ],
   "source": [
    "# 왜 말을 못하니 ㅜㅜ\n",
    "p1.print_info()"
   ]
  },
  {
   "cell_type": "markdown",
   "id": "6ef3dea9-f99b-4e6a-b652-5328b1f20573",
   "metadata": {},
   "source": [
    "<br>\n",
    "\n",
    "객체가 갖는 멤버변수(객체의 변수)에 접근하려면 객체 자신을 참조해야한다.  \n",
    "따라서, `self`를 사용하여 객체의 멤버변수를 참조할 수 있게 한다."
   ]
  },
  {
   "cell_type": "code",
   "execution_count": 27,
   "id": "e30eba3f-c949-40f0-9a69-184b0a49010a",
   "metadata": {},
   "outputs": [],
   "source": [
    "# 홍길동이 남자라고 말할 수 있는 인간이 있다.\n",
    "class Person:\n",
    "    name = '홍길동'\n",
    "    gender = '남자'\n",
    "    \n",
    "    def print_info(self):\n",
    "        print(\"{}님은 {}입니다.\".format(self.name, self.gender))"
   ]
  },
  {
   "cell_type": "code",
   "execution_count": 28,
   "id": "d1288a20-1f42-46af-9a24-859b5b1403d5",
   "metadata": {},
   "outputs": [],
   "source": [
    "# p1은 홍길동이 남자라고 말할 수 있는 인간이 되었다.\n",
    "p1 = Person()"
   ]
  },
  {
   "cell_type": "code",
   "execution_count": 29,
   "id": "d274da7c-cf81-44c2-9661-519b5654127e",
   "metadata": {},
   "outputs": [
    {
     "name": "stdout",
     "output_type": "stream",
     "text": [
      "홍길동님은 남자입니다.\n"
     ]
    }
   ],
   "source": [
    "# p1은 홍길동이 남자라고 말했다.\n",
    "p1.print_info()"
   ]
  },
  {
   "cell_type": "code",
   "execution_count": 32,
   "id": "d78e4f1d-636e-49a3-bb9c-c35e93cea532",
   "metadata": {},
   "outputs": [
    {
     "name": "stdout",
     "output_type": "stream",
     "text": [
      "홍길동님은 남자입니다.\n"
     ]
    }
   ],
   "source": [
    "# 인간 중에 p1이라는 인간에게 홍길동이 남자라고 말하게 했다.\n",
    "Person.print_info(p1)"
   ]
  },
  {
   "cell_type": "markdown",
   "id": "3a3ebb95-5ca7-4ea2-b6ec-8bc78ba0e5f1",
   "metadata": {},
   "source": [
    "<br>\n",
    "\n",
    "### 네임스페이스\n",
    "> 파이썬은 클래스 객체와 인스턴스 객체의 이름공간(namespace)이 분리되어있다.\n",
    "- 클래스 객체와 인스턴스 객체의 이름공간이 다르다는 의미.\n",
    "- 따라서 파이썬은 동적으로 인스턴스 멤버를 추가하는 것이 가능하다. \n",
    "- **객체의 변수가 새로운 값을 할당받게 된다면 객체의 이름공간에 변수가 추가된다.**"
   ]
  },
  {
   "cell_type": "code",
   "execution_count": 33,
   "id": "1a8c189f-dbf4-4073-af69-ae4fc0a47bae",
   "metadata": {},
   "outputs": [],
   "source": [
    "# 홍길동이 남자라고 말할 수 있는 인간이 있다.\n",
    "class Person:\n",
    "    name = '홍길동'\n",
    "    gender = '남자'\n",
    "    \n",
    "    def print_info(self):\n",
    "        print(\"{}님은 {}입니다.\".format(self.name, self.gender))"
   ]
  },
  {
   "cell_type": "code",
   "execution_count": 34,
   "id": "a5fbdcef-abcc-409d-9fc9-27623dc02469",
   "metadata": {},
   "outputs": [],
   "source": [
    "# p1은 홍길동이 남자라고 말할 수 있는 인간이 되었다.\n",
    "p1 = Person()"
   ]
  },
  {
   "cell_type": "code",
   "execution_count": 35,
   "id": "d3acf282-aa5f-41e1-b76a-d6ee27e3f743",
   "metadata": {},
   "outputs": [
    {
     "name": "stdout",
     "output_type": "stream",
     "text": [
      "홍길동님은 남자입니다.\n"
     ]
    }
   ],
   "source": [
    "# p1은 홍길동이 남자라고 말했다.\n",
    "p1.print_info()"
   ]
  },
  {
   "cell_type": "code",
   "execution_count": 36,
   "id": "91a2c9f2-415f-453a-a404-1de210cb27b2",
   "metadata": {},
   "outputs": [
    {
     "name": "stdout",
     "output_type": "stream",
     "text": [
      "홍길동님은 남자입니다.\n"
     ]
    }
   ],
   "source": [
    "# p2은 홍길동이 남자라고 말할 수 있는 인간이 되었다.\n",
    "p2 = Person()\n",
    "# p2은 홍길동이 남자라고 말했다.\n",
    "p2.print_info()"
   ]
  },
  {
   "cell_type": "markdown",
   "id": "dff61538-2e6d-4c3c-a8bd-7a34ed20924c",
   "metadata": {},
   "source": [
    "<br>\n",
    "\n",
    "위에 두 객체에서 참조한 변수는 클래스(`Person`) 네임스페이스의 변수이다.  \n",
    "만약 `p1` 객체의 변수에 새로운 값을 할당하면 객체 네임스페이스에 저장된다."
   ]
  },
  {
   "cell_type": "code",
   "execution_count": 37,
   "id": "4cc42a93-7dff-41fb-944d-88fc6d0428b1",
   "metadata": {},
   "outputs": [],
   "source": [
    "# p1은 허진경이라는 이름과 나자바바라는 닉네임을 알게 되었다.\n",
    "p1.name = \"허진경\"\n",
    "p1.nickname = \"나자바바\""
   ]
  },
  {
   "cell_type": "code",
   "execution_count": 38,
   "id": "5a16cc68-d725-4578-8644-6c766eb81064",
   "metadata": {},
   "outputs": [
    {
     "name": "stdout",
     "output_type": "stream",
     "text": [
      "허진경님은 남자입니다.\n"
     ]
    }
   ],
   "source": [
    "# p1은 허진경은 남자라고 말했다. (이 세상에 성별이 남자 밖에 없다고 생각하기 때문에 남자 밖에 못 말한다.)\n",
    "p1.print_info()"
   ]
  },
  {
   "cell_type": "markdown",
   "id": "aa15847a-429b-429f-be8c-27f42d36f795",
   "metadata": {},
   "source": [
    "<br>\n",
    "<br>\n",
    "\n",
    "#### 근데 p1은 이제 홍길동을 말할 수 없는걸까?"
   ]
  },
  {
   "cell_type": "markdown",
   "id": "0f605b4e-e30c-4e2f-8039-98edfb92e5c7",
   "metadata": {},
   "source": [
    "<br>\n",
    "\n",
    "### 클래스 메서드와 정적 메서드\n",
    "> 클래스는 클래스 메서드(Class Method)와 정적 메서드(Static Method)가 있다.\n",
    "\n",
    "<br>\n",
    "\n",
    "- 클래스 메서드\n",
    "    - 객체를 생성하지 않고 클래스 이름을 이용해서 참조할 수 있다.\n",
    "    - 첫 번째 매개변수는 `cls`\n",
    "    - 메서드 위에 `@classmethod` 아노테이션을 선언해야 한다.\n",
    "    - 클래스 메서드의 첫 번째 인자를 통해 클래스 멤버에 접근할 수 있다.\n",
    "    \n",
    "<br>\n",
    "\n",
    "- 정적 메서드\n",
    "    - 메서드 위에 `@staticmethod` 아노테이션을 선언한다.\n",
    "    - 반드시 파라미터를 가질 필요없다.\n",
    "    - 클래스의 멤버에 접근할 필요가 없을 경우 사용한다.\n",
    "    - 정적 메서드에서 클래스 멤버(변수)에 접근하기 위해서는 클래스 이름을 이용해야 한다.\n",
    "    \n",
    "<br>\n",
    "\n",
    "#### 이 클래스 메서드와 정적 메서드를 통해 p1은 홍길동을 말할 수 있다."
   ]
  },
  {
   "cell_type": "code",
   "execution_count": 40,
   "id": "ff3ef2cb-e592-4af8-8795-03ca6fb07913",
   "metadata": {},
   "outputs": [],
   "source": [
    "# 홍길동을 남자라 말하는 인간이 있다.\n",
    "class Person:\n",
    "    name = \"홍길동\"\n",
    "    gender = \"남자\"\n",
    "    \n",
    "    def print_info(self):\n",
    "        print(\"{}님은 {}입니다.\".format(self.name, self.gender))\n",
    "    \n",
    "    # 홍길동을 말하는 방법1\n",
    "    @classmethod\n",
    "    def do_(cls):\n",
    "        print(\"이름 : {}, 성별 : {}\".format(cls.name, cls.gender))\n",
    "    \n",
    "    # 홍길동을 말하는 방법2\n",
    "    @staticmethod\n",
    "    def that_():\n",
    "        print(\"이름은 {}이고, 성별은 {}입니다.\".format(Person.name, Person.gender))\n",
    "                                   \n",
    "                                   \n",
    "                        "
   ]
  },
  {
   "cell_type": "code",
   "execution_count": 41,
   "id": "38c8472a-94bf-4543-b25b-e241f8cd20e9",
   "metadata": {},
   "outputs": [
    {
     "name": "stdout",
     "output_type": "stream",
     "text": [
      "이름 : 홍길동, 성별 : 남자\n"
     ]
    }
   ],
   "source": [
    "Person.do_()"
   ]
  },
  {
   "cell_type": "code",
   "execution_count": 42,
   "id": "707187b5-6b9d-4f3b-860a-ebd6ec588dc3",
   "metadata": {},
   "outputs": [
    {
     "name": "stdout",
     "output_type": "stream",
     "text": [
      "이름은 홍길동이고, 성별은 남자입니다.\n"
     ]
    }
   ],
   "source": [
    "Person.that_()"
   ]
  },
  {
   "cell_type": "code",
   "execution_count": 43,
   "id": "67b7803d-a01c-4fc5-8682-c48314fb29c1",
   "metadata": {},
   "outputs": [
    {
     "name": "stdout",
     "output_type": "stream",
     "text": [
      "이름 : 홍길동, 성별 : 남자\n"
     ]
    }
   ],
   "source": [
    "p1 = Person()\n",
    "p1.do_()"
   ]
  },
  {
   "cell_type": "code",
   "execution_count": 45,
   "id": "70dea4f3-bfcf-48ce-b75a-d64f8cd37d2e",
   "metadata": {},
   "outputs": [],
   "source": [
    "# p1은 이순신이라는 이름을 알게 되었다.\n",
    "p1.name = \"이순신\"    # 머릿 속(객체 변수)에 저장"
   ]
  },
  {
   "cell_type": "code",
   "execution_count": 49,
   "id": "354859d7-c626-40e4-8d17-92d9b50dfc2f",
   "metadata": {},
   "outputs": [
    {
     "name": "stdout",
     "output_type": "stream",
     "text": [
      "이름 : 홍길동, 성별 : 남자\n"
     ]
    }
   ],
   "source": [
    "# 이순신을 알게 되었더라도 p1은 홍길동을 부르짖을 수 있다.\n",
    "p1.do_()"
   ]
  },
  {
   "cell_type": "code",
   "execution_count": 50,
   "id": "7624930d-d719-4eb7-9ca6-1745932c4025",
   "metadata": {},
   "outputs": [
    {
     "name": "stdout",
     "output_type": "stream",
     "text": [
      "이름은 홍길동이고, 성별은 남자입니다.\n"
     ]
    }
   ],
   "source": [
    "# 부르짖는 방법 2\n",
    "p1.that_()"
   ]
  },
  {
   "cell_type": "code",
   "execution_count": 52,
   "id": "bc90ae7d-35e0-4a27-9b8c-7f0e12195732",
   "metadata": {},
   "outputs": [
    {
     "name": "stdout",
     "output_type": "stream",
     "text": [
      "이름 : 홍길동, 성별 : 남자\n",
      "이름은 홍길동이고, 성별은 남자입니다.\n"
     ]
    }
   ],
   "source": [
    "# 위에 2개가 이거랑 똑같음\n",
    "Person.do_()\n",
    "Person.that_()"
   ]
  },
  {
   "cell_type": "code",
   "execution_count": 48,
   "id": "d461ea7c-9990-4039-b366-45c442c1cc6b",
   "metadata": {},
   "outputs": [
    {
     "name": "stdout",
     "output_type": "stream",
     "text": [
      "이순신님은 남자입니다.\n"
     ]
    }
   ],
   "source": [
    "# 이순신이 남자라고 말하고 싶다면\n",
    "p1.print_info()"
   ]
  },
  {
   "cell_type": "code",
   "execution_count": 51,
   "id": "dd28fe85-0f4b-467a-b13a-2b1fe76f1bd2",
   "metadata": {},
   "outputs": [
    {
     "data": {
      "text/plain": [
       "'이순신'"
      ]
     },
     "execution_count": 51,
     "metadata": {},
     "output_type": "execute_result"
    }
   ],
   "source": [
    "# 이순신만\n",
    "p1.name"
   ]
  },
  {
   "cell_type": "markdown",
   "id": "be48b30d-2d49-48f2-a13d-0fc31176b11c",
   "metadata": {},
   "source": [
    "<br>\n",
    "<br>\n",
    "\n",
    "## 3. 생성자와 소멸자\n",
    "- 생성자(Constructor)\n",
    "    - 객체가 생성될 때 <u>자동으로 실행</u>\n",
    "    - 생성 시 필요한 코드에 포함할 수 있다.\n",
    "    - 생성자의 이름은 `__init__()`\n",
    "    \n",
    "<br>\n",
    "\n",
    "- 소멸자(Destructor)\n",
    "    - 객체가 소멸될 대 <u>자동으로 실행</u>\n",
    "    - 소멸 시 필요한 코드를 포함할 수 있다.\n",
    "    - 소멸자의 이름은 `__del__()`\n",
    "    - 객체는 **레퍼런스 카운트**가 0이 될 때 소멸된다.\n",
    "   \n",
    "> 레퍼런스 카운트?  \n",
    "객체를 가리키는 변수의 수를 의미"
   ]
  },
  {
   "cell_type": "code",
   "execution_count": 53,
   "id": "55548b88-11f5-4c29-b537-0c7c0e7334c3",
   "metadata": {},
   "outputs": [],
   "source": [
    "# 인간이라는게 있다.\n",
    "class Person:\n",
    "    def __init__(self):\n",
    "        print(\"Person 객체({})를 생성합니다.\".format(id(self)))\n",
    "        self.name = \"홍길동\"\n",
    "        self.gender = \"남자\"\n",
    "    \n",
    "    def __del__(self):\n",
    "        print(\"Person 객체({})를 소멸시킵니다.\".format(id(self)))\n",
    "    \n",
    "    def print_info(self):\n",
    "        print(\"{}님은 {}입니다.\".format(self.name, self.gender))"
   ]
  },
  {
   "cell_type": "code",
   "execution_count": 54,
   "id": "caa00977-7d5b-43ff-b934-dfe8014c2071",
   "metadata": {},
   "outputs": [
    {
     "name": "stdout",
     "output_type": "stream",
     "text": [
      "Person 객체(2439959698448)를 생성합니다.\n"
     ]
    }
   ],
   "source": [
    "p1 = Person()"
   ]
  },
  {
   "cell_type": "code",
   "execution_count": 56,
   "id": "893a70d9-f505-47f8-97ca-aeaea4fdffb1",
   "metadata": {},
   "outputs": [
    {
     "name": "stdout",
     "output_type": "stream",
     "text": [
      "홍길동님은 남자입니다.\n"
     ]
    }
   ],
   "source": [
    "p1.print_info()"
   ]
  },
  {
   "cell_type": "markdown",
   "id": "ef8268d9-19b9-418b-84db-fe5d3b9d5b19",
   "metadata": {},
   "source": [
    "<br>\n",
    "\n",
    "`__del__()` 함수는 객체의 레퍼런스 카운트가 0이 될 때 실행된다.\n",
    "<br>\n",
    "\n",
    "레퍼런스 카운트가 0이 되려면\n",
    "- 기존 객체 변수에 새로운 객체를 할당\n",
    "- 객체에 None을 할당\n",
    "- `del` 명령어로 변수를 삭제"
   ]
  },
  {
   "cell_type": "code",
   "execution_count": 57,
   "id": "b19ad424-11ad-4d39-9b11-c3c05dc81e4c",
   "metadata": {},
   "outputs": [
    {
     "name": "stdout",
     "output_type": "stream",
     "text": [
      "Person 객체(2439959697392)를 생성합니다.\n",
      "Person 객체(2439959698448)를 소멸시킵니다.\n"
     ]
    }
   ],
   "source": [
    "# p1은 다시 태어났다.-> 새로운 객체를 할당하면서 소멸자 발동\n",
    "p1 = Person()"
   ]
  },
  {
   "cell_type": "code",
   "execution_count": 58,
   "id": "7706c70c-edd9-42b5-bd78-303593babeaf",
   "metadata": {},
   "outputs": [
    {
     "name": "stdout",
     "output_type": "stream",
     "text": [
      "Person 객체(2439959695664)를 생성합니다.\n"
     ]
    }
   ],
   "source": [
    "# p2는 인간이 되었다. -> 생성자 발동\n",
    "p2 = Person()"
   ]
  },
  {
   "cell_type": "code",
   "execution_count": 59,
   "id": "822b84eb-73ba-4328-94eb-9a2f14251e32",
   "metadata": {},
   "outputs": [
    {
     "name": "stdout",
     "output_type": "stream",
     "text": [
      "Person 객체(2439959695664)를 소멸시킵니다.\n"
     ]
    }
   ],
   "source": [
    "# p2는 아무것도 아니게 되었다. -> 소멸자 발동\n",
    "p2 = None"
   ]
  },
  {
   "cell_type": "code",
   "execution_count": 60,
   "id": "e0d33828-7599-4c80-a8ca-a7b26e0fc040",
   "metadata": {},
   "outputs": [
    {
     "name": "stdout",
     "output_type": "stream",
     "text": [
      "Person 객체(2439959695952)를 생성합니다.\n"
     ]
    }
   ],
   "source": [
    "# p3는 인간이 되었다. -> 생성자 발동\n",
    "p3 = Person()"
   ]
  },
  {
   "cell_type": "code",
   "execution_count": 61,
   "id": "2687aac0-ba8d-41ce-84b9-e7583af109ef",
   "metadata": {},
   "outputs": [
    {
     "name": "stdout",
     "output_type": "stream",
     "text": [
      "Person 객체(2439959695952)를 소멸시킵니다.\n"
     ]
    }
   ],
   "source": [
    "# p3는 소멸되었다. -> 소멸자 발동\n",
    "del p3"
   ]
  },
  {
   "cell_type": "markdown",
   "id": "1c509768-9967-4260-8247-37ebabe97777",
   "metadata": {},
   "source": [
    "<br>\n",
    "\n",
    "### 생성자를 이용한 인스턴스 변수 초기화"
   ]
  },
  {
   "cell_type": "code",
   "execution_count": 65,
   "id": "9841cc3a-014f-4d2a-be01-ff1edee2551d",
   "metadata": {},
   "outputs": [],
   "source": [
    "# 이제 인간의 이름과 성별을 내가 정할 수 있게 되었다.\n",
    "class Person:\n",
    "    def __init__(self, name, gender):\n",
    "        print(\"Person 객체({})를 생성합니다.\".format(id(self)))\n",
    "        self.name = name\n",
    "        self.gender = gender\n",
    "    \n",
    "    def __del__(self):\n",
    "        print(\"Person 객체({})를 소멸시킵니다.\".format(id(self)))\n",
    "    \n",
    "    def print_info(self):\n",
    "        print(\"{}님은 {}입니다.\".format(self.name, self.gender))"
   ]
  },
  {
   "cell_type": "code",
   "execution_count": 66,
   "id": "d33fa390-c232-4660-840f-2667a91f3d4b",
   "metadata": {},
   "outputs": [
    {
     "ename": "NameError",
     "evalue": "name 'p1' is not defined",
     "output_type": "error",
     "traceback": [
      "\u001b[1;31m---------------------------------------------------------------------------\u001b[0m",
      "\u001b[1;31mNameError\u001b[0m                                 Traceback (most recent call last)",
      "\u001b[1;32m<ipython-input-66-8957e38c9334>\u001b[0m in \u001b[0;36m<module>\u001b[1;34m\u001b[0m\n\u001b[1;32m----> 1\u001b[1;33m \u001b[1;32mdel\u001b[0m \u001b[0mp1\u001b[0m\u001b[1;33m,\u001b[0m \u001b[0mp2\u001b[0m\u001b[1;33m\u001b[0m\u001b[1;33m\u001b[0m\u001b[0m\n\u001b[0m",
      "\u001b[1;31mNameError\u001b[0m: name 'p1' is not defined"
     ]
    }
   ],
   "source": [
    "del p1, p2"
   ]
  },
  {
   "cell_type": "code",
   "execution_count": 67,
   "id": "0cd3153d-b3c5-44f4-8020-ecd2578cb080",
   "metadata": {},
   "outputs": [
    {
     "name": "stdout",
     "output_type": "stream",
     "text": [
      "Person 객체(2439958720320)를 생성합니다.\n"
     ]
    }
   ],
   "source": [
    "# p1는 홍길서라는 여자이다.\n",
    "p1 = Person(\"홍길서\", \"여자\")"
   ]
  },
  {
   "cell_type": "code",
   "execution_count": 68,
   "id": "9a1e1525-74d6-42be-a046-f79a6b935361",
   "metadata": {},
   "outputs": [
    {
     "name": "stdout",
     "output_type": "stream",
     "text": [
      "홍길서님은 여자입니다.\n"
     ]
    }
   ],
   "source": [
    "# p1은 홍길서가 여자라고 말했다.\n",
    "p1.print_info()"
   ]
  },
  {
   "cell_type": "code",
   "execution_count": 70,
   "id": "e83bb88c-0be3-490b-9b25-631dbf14b4e6",
   "metadata": {},
   "outputs": [],
   "source": [
    "class Person:\n",
    "    # 무시되는 생성자\n",
    "    def __init__(self, name):\n",
    "        print(\"Person 객체({})를 생성합니다.\".format(id(self)))\n",
    "        self.name = name\n",
    "        self.gender = \"여자\"\n",
    "    # 적용되는 생성자\n",
    "    def __init__(self, name, gender):\n",
    "        print(\"Person 객체({})를 생성합니다.\".format(id(self)))\n",
    "        self.name = name\n",
    "        self.gender = gender\n",
    "    \n",
    "    def __del__(self):\n",
    "        print(\"Person 객체({})를 소멸시킵니다.\".format(id(self)))\n",
    "    \n",
    "    def print_info(self):\n",
    "        print(\"{}님은 {}입니다.\".format(self.name, self.gender))"
   ]
  },
  {
   "cell_type": "code",
   "execution_count": 71,
   "id": "0812861f-f250-4980-aae8-eabbfe9434bb",
   "metadata": {},
   "outputs": [
    {
     "name": "stdout",
     "output_type": "stream",
     "text": [
      "Person 객체(2439958719216)를 소멸시킵니다.\n"
     ]
    },
    {
     "ename": "TypeError",
     "evalue": "__init__() missing 1 required positional argument: 'gender'",
     "output_type": "error",
     "traceback": [
      "\u001b[1;31m---------------------------------------------------------------------------\u001b[0m",
      "\u001b[1;31mTypeError\u001b[0m                                 Traceback (most recent call last)",
      "\u001b[1;32m<ipython-input-71-54d73f26a8ae>\u001b[0m in \u001b[0;36m<module>\u001b[1;34m\u001b[0m\n\u001b[1;32m----> 1\u001b[1;33m \u001b[0mp1\u001b[0m \u001b[1;33m=\u001b[0m \u001b[0mPerson\u001b[0m\u001b[1;33m(\u001b[0m\u001b[1;34m\"홍길동\"\u001b[0m\u001b[1;33m)\u001b[0m\u001b[1;33m\u001b[0m\u001b[1;33m\u001b[0m\u001b[0m\n\u001b[0m",
      "\u001b[1;31mTypeError\u001b[0m: __init__() missing 1 required positional argument: 'gender'"
     ]
    }
   ],
   "source": [
    "# Person(self, name) 형식은 Person(self, name,gender) 형식에 의해 무시\n",
    "p1 = Person(\"홍길동\")"
   ]
  },
  {
   "cell_type": "code",
   "execution_count": 72,
   "id": "a03bf38e-e30a-4d82-9529-6a2eb3741c79",
   "metadata": {},
   "outputs": [
    {
     "name": "stdout",
     "output_type": "stream",
     "text": [
      "Person 객체(2439958716720)를 생성합니다.\n",
      "Person 객체(2439958720320)를 소멸시킵니다.\n"
     ]
    }
   ],
   "source": [
    "p1 = Person(\"홍길서\", \"여자\")"
   ]
  },
  {
   "cell_type": "markdown",
   "id": "1ccf7a5c-4252-4724-bf23-78217c9bccf9",
   "metadata": {},
   "source": [
    "<br>\n",
    "<br>\n",
    "\n",
    "## 4. 상속과 재정의\n",
    "<br>\n",
    "\n",
    "### 상속\n",
    "> 객체 재사용의 한 방법\n",
    "- 상속을 이용하면 부모 클래스의 모든 속성들을 자식 클래스로 물려줄 수 있다.\n",
    "- `()`안에 상속할 부모클래스를 입력한다.\n",
    "- 상속관계는 `is a` 관계라고 부르기도 한다. 만약 `is a` 관계가 성립하지 않으면 상속을 잘못 맺은 것이다.\n",
    "- 클래스의 상속관계를 `issubclass(자식, 부모)`로 확인할 수 있다."
   ]
  },
  {
   "cell_type": "code",
   "execution_count": 73,
   "id": "fb0aeb77-9acc-48d9-b93f-5f57639f248c",
   "metadata": {},
   "outputs": [],
   "source": [
    "# 인간이라는 게 있다.\n",
    "class Person:\n",
    "    pass"
   ]
  },
  {
   "cell_type": "code",
   "execution_count": 74,
   "id": "1abb7104-f82e-47e4-b6ba-2c1fe8f1ca53",
   "metadata": {},
   "outputs": [],
   "source": [
    "# 인간 중에는 학생이라는 게 있다.\n",
    "class Student(Person):\n",
    "    pass"
   ]
  },
  {
   "cell_type": "code",
   "execution_count": 76,
   "id": "1f8af298-94d5-4019-b9f8-39bd84604c6b",
   "metadata": {},
   "outputs": [
    {
     "data": {
      "text/plain": [
       "True"
      ]
     },
     "execution_count": 76,
     "metadata": {},
     "output_type": "execute_result"
    }
   ],
   "source": [
    "# 부모 자식 관계 확인\n",
    "issubclass(Student, Person)"
   ]
  },
  {
   "cell_type": "code",
   "execution_count": 77,
   "id": "7c8c07b9-0f3d-468f-ad03-42708c24819c",
   "metadata": {},
   "outputs": [],
   "source": [
    "# 인간이라는 게 있다.이름과 성별을 가진\n",
    "class Person:\n",
    "    def __init__(self, name, gender):\n",
    "        self.name = name\n",
    "        self.gender = gender\n",
    "        \n",
    "    # 정보출력 1\n",
    "    def __str__(self):\n",
    "        return \"name: {0}, gender: {1}\".format(self.name, self.gender)\n",
    "    # 정보출력 2\n",
    "    def print_info(self):\n",
    "        print(\"{}님은 {}입니다.\".format(self.name, self.gender))"
   ]
  },
  {
   "cell_type": "code",
   "execution_count": 78,
   "id": "344599ff-0893-424a-b803-318fbf5a9f1d",
   "metadata": {},
   "outputs": [],
   "source": [
    "# 인간 중에는 학생이라는 게 있다. 이름과 성별과 전공을 가진\n",
    "class Student(Person):\n",
    "    def __init__(self, name, gender, major):\n",
    "        self.name = name\n",
    "        self.gender = gender\n",
    "        self.major = major\n",
    "    \n",
    "    def __del__(self):\n",
    "        pass"
   ]
  },
  {
   "cell_type": "markdown",
   "id": "0b22dc93-7420-4bb0-8a4f-5ea0d14fc6af",
   "metadata": {},
   "source": [
    "<br>\n",
    "\n",
    "\\<is a\\>\n",
    "Student is a Person.\n",
    "\n",
    "<br>\n",
    "\n",
    "상위 클래스(Super class) = 부모 클래스: `더 일반화`  \n",
    "하위 클래스(Sub class) = 자식 클래스: `더 구체화`\n",
    "\n",
    "<br>\n",
    "\n",
    "### 부모 클래스의 생성자 사용\n",
    "Person 클래스의 생성자를 이용하여 인스턴스 변수를 초기화\n",
    "<br>\n",
    "\n",
    "아래 코드에서 s1은 학생부에 적혀있는 이름, 성별이 아닌, 태어나면서 가진 이름과 성별로 정의한다고 생각하자."
   ]
  },
  {
   "cell_type": "code",
   "execution_count": 79,
   "id": "32bc616d-709d-48cf-9176-3b9becb79bf6",
   "metadata": {},
   "outputs": [],
   "source": [
    "# 인간 중에는 학생이라는 게 있다.\n",
    "class Student(Person):\n",
    "    def __init__(self, name, gender, major):\n",
    "        Person.__init__(self, name, gender)    # 학교에 등록되기 전 내가 갖고 있던 이름과 성별\n",
    "        self.major = major                     # 전공은 학교 가서"
   ]
  },
  {
   "cell_type": "code",
   "execution_count": 80,
   "id": "e2772713-0393-4e1d-808c-6242a432e1ee",
   "metadata": {},
   "outputs": [
    {
     "name": "stdout",
     "output_type": "stream",
     "text": [
      "홍길남님은 남자입니다.\n"
     ]
    }
   ],
   "source": [
    "s1 = Student(\"홍길남\", \"남자\", \"경제학\")\n",
    "s1.print_info()"
   ]
  },
  {
   "cell_type": "markdown",
   "id": "3852ca34-f14d-4c48-870b-7e2fff77dc1e",
   "metadata": {},
   "source": [
    "<br>\n",
    "\n",
    "### 재정의(Overriding)\n",
    "> 부코 클래스에서 정의한 메서드를 자식 클래스에서 다시 정의하는 것"
   ]
  },
  {
   "cell_type": "code",
   "execution_count": null,
   "id": "d06a5acf-ab56-418c-94b2-c2d262e4adc3",
   "metadata": {},
   "outputs": [],
   "source": [
    "# 인간이라는 게 있다.이름과 성별을 가진\n",
    "class Person:\n",
    "    def __init__(self, name, gender):\n",
    "        self.name = name\n",
    "        self.gender = gender\n",
    "        \n",
    "    # 정보출력 1\n",
    "    def __str__(self):\n",
    "        return \"name: {0}, gender: {1}\".format(self.name, self.gender)\n",
    "    # 정보출력 2\n",
    "    def print_info(self):\n",
    "        print(\"{}님은 {}입니다.\".format(self.name, self.gender))"
   ]
  },
  {
   "cell_type": "markdown",
   "id": "64b22b60-1a18-4c68-af94-b3e389c4815c",
   "metadata": {},
   "source": [
    "<br>\n",
    "\n",
    "상속하면서 함수 `print_info()` 함수가 Overriding 된다."
   ]
  },
  {
   "cell_type": "code",
   "execution_count": 81,
   "id": "c7328cd5-4c96-438b-8c6b-430ae5853897",
   "metadata": {},
   "outputs": [],
   "source": [
    "# 인간 중에는 학생이라는 게 있다.\n",
    "class Student(Person):\n",
    "    def __init__(self, name, gender, major):\n",
    "        Person.__init__(self, name, gender)\n",
    "        self.major = major\n",
    "    def __del__(self):\n",
    "        pass\n",
    "    \n",
    "    # Overriding 하여 함수를 새롭게 갱신\n",
    "    def print_info(self):\n",
    "        print(\"{}님은 {}이며, 전공은 {}입니다.\"\\\n",
    "             .format(self.name, self.gender, self.major))"
   ]
  },
  {
   "cell_type": "code",
   "execution_count": 82,
   "id": "1b0920ae-9012-4b2a-ab6e-a570e7946a1b",
   "metadata": {},
   "outputs": [
    {
     "data": {
      "text/plain": [
       "True"
      ]
     },
     "execution_count": 82,
     "metadata": {},
     "output_type": "execute_result"
    }
   ],
   "source": [
    "issubclass(Student, Person)"
   ]
  },
  {
   "cell_type": "code",
   "execution_count": 83,
   "id": "72f991d9-7bd0-401f-a9fa-45bab7c8fc66",
   "metadata": {},
   "outputs": [
    {
     "data": {
      "text/plain": [
       "mappingproxy({'__module__': '__main__',\n",
       "              '__init__': <function __main__.Student.__init__(self, name, gender, major)>,\n",
       "              '__del__': <function __main__.Student.__del__(self)>,\n",
       "              'print_info': <function __main__.Student.print_info(self)>,\n",
       "              '__doc__': None})"
      ]
     },
     "execution_count": 83,
     "metadata": {},
     "output_type": "execute_result"
    }
   ],
   "source": [
    "Student.__dict__"
   ]
  },
  {
   "cell_type": "code",
   "execution_count": 84,
   "id": "09246892-41b7-4ca4-9f91-5770ca70f7e0",
   "metadata": {},
   "outputs": [
    {
     "name": "stdout",
     "output_type": "stream",
     "text": [
      "홍길서님은 여자이며, 전공은 컴퓨터공학입니다.\n"
     ]
    }
   ],
   "source": [
    "# s2는 컴퓨터 공학과 여자, 홍길서가 되었다.\n",
    "s2 = Student(\"홍길서\", \"여자\", \"컴퓨터공학\")\n",
    "s2.print_info()"
   ]
  },
  {
   "cell_type": "markdown",
   "id": "3876a503-fa53-4846-8eca-17730743137f",
   "metadata": {},
   "source": [
    "<br>\n",
    "\n",
    "### super()\n",
    "> 부모클래스의 멤버를 참조"
   ]
  },
  {
   "cell_type": "code",
   "execution_count": null,
   "id": "3973a05d-00da-47f1-99a7-0f2d990c07bf",
   "metadata": {},
   "outputs": [],
   "source": [
    "# 인간이라는 게 있다.이름과 성별을 가진\n",
    "class Person:\n",
    "    def __init__(self, name, gender):\n",
    "        self.name = name\n",
    "        self.gender = gender\n",
    "        \n",
    "    # 정보출력 1\n",
    "    def __str__(self):\n",
    "        return \"name: {0}, gender: {1}\".format(self.name, self.gender)\n",
    "    # 정보출력 2\n",
    "    def print_info(self):\n",
    "        print(\"{}님은 {}입니다.\".format(self.name, self.gender))"
   ]
  },
  {
   "cell_type": "code",
   "execution_count": 85,
   "id": "a4d5d7b6-0f2a-4018-ae71-a76dc9d0cf72",
   "metadata": {},
   "outputs": [],
   "source": [
    "# 인간 중에는 학생이라는 게 있다.\n",
    "class Student(Person):\n",
    "    def __init__(self, name, gender, major):\n",
    "        Person.__init__(self, name, gender)\n",
    "        self.major = major\n",
    "    def __del__(self):\n",
    "        pass\n",
    "    # Person의 __str__에 추가로 전공까지 물어봄\n",
    "    def __str__(self):\n",
    "        return super().__str__() + \", major: {}\".format(self.major)\n",
    "    \n",
    "    def print_info(self):\n",
    "        super().print_info()    # print(\"{}님은 {}입니다.\".format(self.name, self.gender))\n",
    "        print(\"전공은 {}입니다.\".format(self.major))"
   ]
  },
  {
   "cell_type": "code",
   "execution_count": 86,
   "id": "c55b0de1-4d1f-4bef-af23-2b0bebb2da8f",
   "metadata": {},
   "outputs": [],
   "source": [
    "# s3은 학생이다. Person에서 홍길북, 남자 저장, Student에서는 major 저장\n",
    "s3 = Student(\"홍길북\", \"남자\", \"심리학\")"
   ]
  },
  {
   "cell_type": "code",
   "execution_count": 87,
   "id": "132cf918-613e-4def-bb4e-cedf30adbf23",
   "metadata": {},
   "outputs": [
    {
     "name": "stdout",
     "output_type": "stream",
     "text": [
      "name: 홍길북, gender: 남자, major: 심리학\n"
     ]
    }
   ],
   "source": [
    "print(s3)    # print(s3.__str__())"
   ]
  },
  {
   "cell_type": "code",
   "execution_count": 88,
   "id": "53dfdcff-bb71-42f3-9e37-0fa1c81a2689",
   "metadata": {},
   "outputs": [
    {
     "name": "stdout",
     "output_type": "stream",
     "text": [
      "홍길북님은 남자입니다.\n",
      "전공은 심리학입니다.\n"
     ]
    }
   ],
   "source": [
    "s3.print_info()"
   ]
  },
  {
   "cell_type": "markdown",
   "id": "85eec029-7162-4ffd-a019-1fda977d76a7",
   "metadata": {},
   "source": [
    "<br>\n",
    "\n",
    "### 정적 변수\n",
    "> 객체들 사이에 데이터를 공유하고 싶을 때 사용\n",
    "- 클래스 안에 정의된 변수 이름 앞에 `__`를 붙이면 `클래스명._클래스명__변수명` 형식으로 참조 가능"
   ]
  },
  {
   "cell_type": "code",
   "execution_count": 90,
   "id": "8bda0372-5565-4338-bc9e-51b36eb544bc",
   "metadata": {},
   "outputs": [],
   "source": [
    "class Student(Person):\n",
    "    # 객체가 만들어지는 개수를 저장하기 위한 __count 변수 정의\n",
    "    __count = 0\n",
    "    \n",
    "    # 생성자\n",
    "    def __init__(self, name, gender, major):\n",
    "        Student._Student__count += 1            # 객체가 생성될 때 마다 __count + 1\n",
    "        Person.__init__(self, name, gender)\n",
    "        self.major = major\n",
    "    \n",
    "    # 소멸자\n",
    "    def __del__(self):\n",
    "        Student._Student__count -= 1            # 객체가 소멸될 때 마다 __count + 1\n",
    "        \n",
    "    def __str__(self):\n",
    "        return super().__str__() + \", major: {}\".format(self.major)\n",
    "    \n",
    "    def print_info(self):\n",
    "        print(\"{}님은 {}이며, 전공은 {}입니다.\"\\\n",
    "             .format(self.name, self.gender, self.major))\n",
    "    \n",
    "    # 정적변수\n",
    "    @staticmethod\n",
    "    def get_count():\n",
    "        return Student._Student__count\n",
    "        "
   ]
  },
  {
   "cell_type": "code",
   "execution_count": 91,
   "id": "dcd561d1-03fd-4ca5-88bb-de89ff15eda8",
   "metadata": {},
   "outputs": [
    {
     "data": {
      "text/plain": [
       "1"
      ]
     },
     "execution_count": 91,
     "metadata": {},
     "output_type": "execute_result"
    }
   ],
   "source": [
    "# 생성자 발동 -> __count +1\n",
    "s1 = Student(\"홍길동\", \"남자\", \"컴퓨터공학\")\n",
    "Student.get_count()"
   ]
  },
  {
   "cell_type": "code",
   "execution_count": 92,
   "id": "fbb70b4b-db47-4a6a-a42b-a2b0ec65981e",
   "metadata": {},
   "outputs": [
    {
     "data": {
      "text/plain": [
       "2"
      ]
     },
     "execution_count": 92,
     "metadata": {},
     "output_type": "execute_result"
    }
   ],
   "source": [
    "# 생성자 발동 -> __count +1\n",
    "s2 = Student(\"홍길서\", \"여자\", \"컴퓨터공학\")\n",
    "Student.get_count()"
   ]
  },
  {
   "cell_type": "code",
   "execution_count": 93,
   "id": "05138fe1-d942-4224-a49a-fe3b392bf2c8",
   "metadata": {},
   "outputs": [
    {
     "data": {
      "text/plain": [
       "2"
      ]
     },
     "execution_count": 93,
     "metadata": {},
     "output_type": "execute_result"
    }
   ],
   "source": [
    "# 굳이 get_count() 안 써도 객체 수 파악 가능\n",
    "Student._Student__count"
   ]
  },
  {
   "cell_type": "code",
   "execution_count": 94,
   "id": "4c3ed08b-4340-40db-85e1-a6be802dfb08",
   "metadata": {},
   "outputs": [
    {
     "data": {
      "text/plain": [
       "1"
      ]
     },
     "execution_count": 94,
     "metadata": {},
     "output_type": "execute_result"
    }
   ],
   "source": [
    "# s1이 아무것도 아니게 되었다. -> 객체 수 -1\n",
    "s1 = None\n",
    "Student.get_count()"
   ]
  },
  {
   "cell_type": "code",
   "execution_count": 95,
   "id": "02167bb7-09dd-4691-bf48-218f9f0c6b11",
   "metadata": {},
   "outputs": [
    {
     "data": {
      "text/plain": [
       "0"
      ]
     },
     "execution_count": 95,
     "metadata": {},
     "output_type": "execute_result"
    }
   ],
   "source": [
    "# s2 소멸 -> 객체 수 -1\n",
    "del s2\n",
    "Student.get_count()"
   ]
  },
  {
   "cell_type": "code",
   "execution_count": null,
   "id": "a5d39530-b390-44a6-b0f3-5b80395f70c0",
   "metadata": {},
   "outputs": [],
   "source": []
  }
 ],
 "metadata": {
  "kernelspec": {
   "display_name": "Python 3",
   "language": "python",
   "name": "python3"
  },
  "language_info": {
   "codemirror_mode": {
    "name": "ipython",
    "version": 3
   },
   "file_extension": ".py",
   "mimetype": "text/x-python",
   "name": "python",
   "nbconvert_exporter": "python",
   "pygments_lexer": "ipython3",
   "version": "3.8.8"
  }
 },
 "nbformat": 4,
 "nbformat_minor": 5
}
