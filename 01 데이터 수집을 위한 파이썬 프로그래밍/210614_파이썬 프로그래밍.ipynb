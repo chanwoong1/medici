{
 "metadata": {
  "language_info": {
   "codemirror_mode": {
    "name": "ipython",
    "version": 3
   },
   "file_extension": ".py",
   "mimetype": "text/x-python",
   "name": "python",
   "nbconvert_exporter": "python",
   "pygments_lexer": "ipython3",
   "version": "3.8.5"
  },
  "orig_nbformat": 4,
  "kernelspec": {
   "name": "python3",
   "display_name": "Python 3.8.5 64-bit ('base': conda)"
  },
  "interpreter": {
   "hash": "3daa3430744053f4748a69c6948da8999f75f0c797f8ffecf263e95f10f995f6"
  }
 },
 "nbformat": 4,
 "nbformat_minor": 2,
 "cells": [
  {
   "source": [
    "# 5장. 함수\n",
    "\n",
    "## 1절. 함수의 정의 및 사용\n",
    "\n",
    "### 함수 정의하기\n",
    "\n",
    "키워드 def는 함수를 정의한다. def에는 함수 이름과 괄호로 묶인 매개변수의 목록이 올 수 있다. 매개변수는 함수를 실행시킬 때 함수가 필요로 하는 값을 받기 위해 선언하는 변수이다. 함수의 본문을 구성하는 명령문은 다음 행에서 시작하며 들여쓰기 되어야 한다."
   ],
   "cell_type": "markdown",
   "metadata": {}
  },
  {
   "cell_type": "code",
   "execution_count": 1,
   "metadata": {},
   "outputs": [
    {
     "output_type": "stream",
     "name": "stdout",
     "text": [
      "Hello World\n"
     ]
    }
   ],
   "source": [
    "def my_hello() :\n",
    "    print('Hello World')\n",
    "\n",
    "my_hello()"
   ]
  },
  {
   "cell_type": "code",
   "execution_count": 2,
   "metadata": {},
   "outputs": [
    {
     "output_type": "stream",
     "name": "stdout",
     "text": [
      "8\n"
     ]
    }
   ],
   "source": [
    "def my_add(num1, num2) : \n",
    "    print(num1 + num2)\n",
    "\n",
    "my_add(3, 5)"
   ]
  },
  {
   "source": [
    "### docstring\n",
    "\n",
    "함수 본문의 첫 번째 문장에 문자열을 포함할 수 있다. 이 문자열은 함수의 설명서로 사용되며 독스트링이라고 한다. 독스트링은 겹따옴표 3개 혹은 홑따옴표 3개를 사용한다."
   ],
   "cell_type": "markdown",
   "metadata": {}
  },
  {
   "cell_type": "code",
   "execution_count": 4,
   "metadata": {},
   "outputs": [
    {
     "output_type": "stream",
     "name": "stdout",
     "text": [
      "함수의 첫 라인에 독스트링을\n    포함시킬 수 있다.\n    \n"
     ]
    }
   ],
   "source": [
    "def my_function() :\n",
    "    '''함수의 첫 라인에 독스트링을\n",
    "    포함시킬 수 있다.\n",
    "    '''\n",
    "\n",
    "    pass\n",
    "\n",
    "print(my_function.__doc__)"
   ]
  },
  {
   "source": [
    "- 문자열이 여러 개일 경우 맨 처음의 문자열만 독스트링이 된다.\n",
    "- 한줄로 작성할 경우는 겹따옴표 1개 또는 홑따옴표 1개를 이용할 수 있다.\n",
    "- 독스트링은 함수의 설명서를 달아주는 역할을 한다. 주석보다 더 많은 기능을 한다.\n",
    "- 독스트링은 함수 안에 선언할 수 있지만 파이썬 파일의 맨 위에 설정해 모듈의 설명서를 만들 수 있다."
   ],
   "cell_type": "markdown",
   "metadata": {}
  },
  {
   "cell_type": "code",
   "execution_count": 5,
   "metadata": {},
   "outputs": [
    {
     "output_type": "stream",
     "name": "stdout",
     "text": [
      "함수의 첫 라인에 독스트링을\n포함시킬 수 있다.\n"
     ]
    }
   ],
   "source": [
    "# 독스트링 내의 문자열은 첫 라인을 제외하고 이후의 문장은 들여쓰기하지 않아도 된다.\n",
    "\n",
    "def my_function() :\n",
    "    '''함수의 첫 라인에 독스트링을\n",
    "포함시킬 수 있다.'''\n",
    "    pass\n",
    "\n",
    "print(my_function.__doc__)"
   ]
  },
  {
   "source": [
    "### 함수 정의하고 호출하기 예\n",
    "\n",
    "피보나치 수열을 출력하는 함수를 작성해보자."
   ],
   "cell_type": "markdown",
   "metadata": {}
  },
  {
   "cell_type": "code",
   "execution_count": 6,
   "metadata": {},
   "outputs": [
    {
     "output_type": "stream",
     "name": "stdout",
     "text": [
      "1 1 2 3 5 8 13 21 34 55 89 144 \n"
     ]
    }
   ],
   "source": [
    "def fibonacci(n) :\n",
    "    \"n 값 미만까지 피보나치수열을 출력한다.\"\n",
    "    a, b = 0 , 1\n",
    "    while b < n :\n",
    "        print(b, end = ' ')\n",
    "        a, b = b, a + b\n",
    "    print()\n",
    "\n",
    "fibonacci(200)"
   ]
  },
  {
   "cell_type": "code",
   "execution_count": 7,
   "metadata": {},
   "outputs": [
    {
     "output_type": "stream",
     "name": "stdout",
     "text": [
      "1 1 2 3 5 8 13 21 34 55 89 144 233 377 610 987 1597 \n"
     ]
    }
   ],
   "source": [
    "fibonacci(2000)"
   ]
  },
  {
   "cell_type": "code",
   "execution_count": 8,
   "metadata": {},
   "outputs": [
    {
     "output_type": "stream",
     "name": "stdout",
     "text": [
      "n 값 미만까지 피보나치수열을 출력한다.\n"
     ]
    }
   ],
   "source": [
    "print(fibonacci.__doc__)"
   ]
  },
  {
   "source": [
    "### 지역변수와 전역변수\n",
    "\n",
    "함수 안에 선언된 변수를 '지역변수'라고 하며, 함수 밖에 선언된 변수를 '전역변수'라고 한다. 지역변수는 함수 안에서만 사용 가능하며 지역변수가 있는 함수의 실행이 종료되면 더 이상 사용할 수 없다. 반면에 전역변수는 변수가 선언된 이후 여러 함수에서 사용할 수 있다."
   ],
   "cell_type": "markdown",
   "metadata": {}
  },
  {
   "cell_type": "code",
   "execution_count": 15,
   "metadata": {},
   "outputs": [
    {
     "output_type": "stream",
     "name": "stdout",
     "text": [
      "10\n"
     ]
    },
    {
     "output_type": "error",
     "ename": "NameError",
     "evalue": "name 'number' is not defined",
     "traceback": [
      "\u001b[1;31m---------------------------------------------------------------------------\u001b[0m",
      "\u001b[1;31mNameError\u001b[0m                                 Traceback (most recent call last)",
      "\u001b[1;32m<ipython-input-15-72db44cb76de>\u001b[0m in \u001b[0;36m<module>\u001b[1;34m\u001b[0m\n\u001b[0;32m      9\u001b[0m     \u001b[0mprint\u001b[0m\u001b[1;33m(\u001b[0m\u001b[0mnumber\u001b[0m\u001b[1;33m)\u001b[0m  \u001b[1;31m# 에러\u001b[0m\u001b[1;33m\u001b[0m\u001b[1;33m\u001b[0m\u001b[0m\n\u001b[0;32m     10\u001b[0m \u001b[1;33m\u001b[0m\u001b[0m\n\u001b[1;32m---> 11\u001b[1;33m \u001b[0mfunc_b\u001b[0m\u001b[1;33m(\u001b[0m\u001b[1;33m)\u001b[0m\u001b[1;33m\u001b[0m\u001b[1;33m\u001b[0m\u001b[0m\n\u001b[0m",
      "\u001b[1;32m<ipython-input-15-72db44cb76de>\u001b[0m in \u001b[0;36mfunc_b\u001b[1;34m()\u001b[0m\n\u001b[0;32m      7\u001b[0m \u001b[1;33m\u001b[0m\u001b[0m\n\u001b[0;32m      8\u001b[0m \u001b[1;32mdef\u001b[0m \u001b[0mfunc_b\u001b[0m\u001b[1;33m(\u001b[0m\u001b[1;33m)\u001b[0m \u001b[1;33m:\u001b[0m\u001b[1;33m\u001b[0m\u001b[1;33m\u001b[0m\u001b[0m\n\u001b[1;32m----> 9\u001b[1;33m     \u001b[0mprint\u001b[0m\u001b[1;33m(\u001b[0m\u001b[0mnumber\u001b[0m\u001b[1;33m)\u001b[0m  \u001b[1;31m# 에러\u001b[0m\u001b[1;33m\u001b[0m\u001b[1;33m\u001b[0m\u001b[0m\n\u001b[0m\u001b[0;32m     10\u001b[0m \u001b[1;33m\u001b[0m\u001b[0m\n\u001b[0;32m     11\u001b[0m \u001b[0mfunc_b\u001b[0m\u001b[1;33m(\u001b[0m\u001b[1;33m)\u001b[0m\u001b[1;33m\u001b[0m\u001b[1;33m\u001b[0m\u001b[0m\n",
      "\u001b[1;31mNameError\u001b[0m: name 'number' is not defined"
     ]
    }
   ],
   "source": [
    "## 지역변수\n",
    "def func_a() :\n",
    "    number = 10\n",
    "    print(number)  # 10\n",
    "\n",
    "func_a()\n",
    "\n",
    "def func_b() :\n",
    "    print(number)  # 에러\n",
    "\n",
    "func_b()"
   ]
  },
  {
   "cell_type": "code",
   "execution_count": 14,
   "metadata": {},
   "outputs": [
    {
     "output_type": "stream",
     "name": "stdout",
     "text": [
      "20\n20\n"
     ]
    }
   ],
   "source": [
    "## 전역변수\n",
    "num = 20\n",
    "def func_c() :\n",
    "    print(num)  # 20\n",
    "\n",
    "func_c()\n",
    "\n",
    "def func_d() :\n",
    "    print(num)  # 20\n",
    "\n",
    "func_d()"
   ]
  },
  {
   "source": [
    "### 변수의 참조\n",
    "\n",
    "함수가 실행될 때에 지역변수들은 함수 실행을 위한 특별한 영역에 저장된다. 이러한 영역을 '로컬 심볼 테이블' 또는 '지역 심볼 테이블' 이라고 한다. 함수가 실행될 때 함수 안의 모든 지역변수들은 해당 함수의 지역 심볼 테이블에 값을 저장한다.\n",
    "\n",
    "함수 밖에 정의된 전역변수들을 저장하는 공간을 '글로벌 심볼 테이블' 또는 '전역 심볼 테이블' 이라고 부른다\n",
    "\n",
    "변수의 값을 조회하려 할 때 가장 먼저 지역 심볼 테이블에서 해당 변수를 찾는다.\n",
    "지역 심볼 테이블에 해당 변수가 없을 경우 전역 심볼 테이블에서 찾는다. 두 테이블 모두 변수가 없을 경우 마지막으로 내장된 네임스페이스에서 찾는다.\n",
    "\n",
    "다음 코드는 함수 내에서 전역변수를 참조하고 있다. func1() 함수 내에 global_var 변수가 선언되어 있지 않으므로 지역 심볼 테이블에서 값을 찾을 수 있다. 그러므로 심볼 테이블에서 global_var 변수를 찾아 출력한다.\n",
    "\n"
   ],
   "cell_type": "markdown",
   "metadata": {}
  },
  {
   "cell_type": "code",
   "execution_count": 16,
   "metadata": {},
   "outputs": [
    {
     "output_type": "stream",
     "name": "stdout",
     "text": [
      "100\n"
     ]
    }
   ],
   "source": [
    "global_var = 100\n",
    "\n",
    "def func1() :\n",
    "    print(global_var)\n",
    "\n",
    "func1()"
   ]
  },
  {
   "source": [
    "그러나 반대로 함수 안에 선언한 변수를 함수 밖에서 참조할 수 없다. 다음처럼 함수 안의 local_var 변수는 함수의 실행이 종료된 후 참조할 수 없다."
   ],
   "cell_type": "markdown",
   "metadata": {}
  },
  {
   "cell_type": "code",
   "execution_count": 17,
   "metadata": {},
   "outputs": [
    {
     "output_type": "stream",
     "name": "stdout",
     "text": [
      "200\n"
     ]
    }
   ],
   "source": [
    "def func2() :\n",
    "    local_var = 200\n",
    "    print(local_var)\n",
    "\n",
    "func2()"
   ]
  },
  {
   "cell_type": "code",
   "execution_count": 19,
   "metadata": {},
   "outputs": [
    {
     "output_type": "error",
     "ename": "NameError",
     "evalue": "name 'local_var' is not defined",
     "traceback": [
      "\u001b[1;31m---------------------------------------------------------------------------\u001b[0m",
      "\u001b[1;31mNameError\u001b[0m                                 Traceback (most recent call last)",
      "\u001b[1;32m<ipython-input-19-3bfff76e6cd3>\u001b[0m in \u001b[0;36m<module>\u001b[1;34m\u001b[0m\n\u001b[1;32m----> 1\u001b[1;33m \u001b[0mprint\u001b[0m\u001b[1;33m(\u001b[0m\u001b[0mlocal_var\u001b[0m\u001b[1;33m)\u001b[0m\u001b[1;33m\u001b[0m\u001b[1;33m\u001b[0m\u001b[0m\n\u001b[0m",
      "\u001b[1;31mNameError\u001b[0m: name 'local_var' is not defined"
     ]
    }
   ],
   "source": [
    "print(local_var)"
   ]
  },
  {
   "source": [
    "### 렉시컬 특성\n",
    "\n",
    "파이썬은 함수를 어휘적으로 검색하여 변수가 지역변수인지 여부를 확인한다. 만일 이름이 지역 심볼 테이블에 없으면 전역변수로 간주된다. 그러나 이름이 지역 심볼 테이블에 있을 경우 지역변수를 참조한다.\n",
    "\n",
    "다음 코드는 g_var 변수가 지역 심볼 테이블에 있지만 인터프리터는 지역 심볼 테이블에 새로운 변수를 추가하고 200이라는 값을 할당하기 전에 변수를 참조한다."
   ],
   "cell_type": "markdown",
   "metadata": {}
  },
  {
   "cell_type": "code",
   "execution_count": 26,
   "metadata": {},
   "outputs": [
    {
     "output_type": "error",
     "ename": "UnboundLocalError",
     "evalue": "local variable 'g_var' referenced before assignment",
     "traceback": [
      "\u001b[1;31m---------------------------------------------------------------------------\u001b[0m",
      "\u001b[1;31mUnboundLocalError\u001b[0m                         Traceback (most recent call last)",
      "\u001b[1;32m<ipython-input-26-4e7f1c667f20>\u001b[0m in \u001b[0;36m<module>\u001b[1;34m\u001b[0m\n\u001b[0;32m      6\u001b[0m     \u001b[0mprint\u001b[0m\u001b[1;33m(\u001b[0m\u001b[1;34m\"after\"\u001b[0m\u001b[1;33m,\u001b[0m \u001b[0mg_var\u001b[0m\u001b[1;33m)\u001b[0m   \u001b[1;31m# 2\u001b[0m\u001b[1;33m\u001b[0m\u001b[1;33m\u001b[0m\u001b[0m\n\u001b[0;32m      7\u001b[0m \u001b[1;33m\u001b[0m\u001b[0m\n\u001b[1;32m----> 8\u001b[1;33m \u001b[0mfunc1\u001b[0m\u001b[1;33m(\u001b[0m\u001b[1;33m)\u001b[0m\u001b[1;33m\u001b[0m\u001b[1;33m\u001b[0m\u001b[0m\n\u001b[0m",
      "\u001b[1;32m<ipython-input-26-4e7f1c667f20>\u001b[0m in \u001b[0;36mfunc1\u001b[1;34m()\u001b[0m\n\u001b[0;32m      2\u001b[0m \u001b[1;33m\u001b[0m\u001b[0m\n\u001b[0;32m      3\u001b[0m \u001b[1;32mdef\u001b[0m \u001b[0mfunc1\u001b[0m\u001b[1;33m(\u001b[0m\u001b[1;33m)\u001b[0m \u001b[1;33m:\u001b[0m\u001b[1;33m\u001b[0m\u001b[1;33m\u001b[0m\u001b[0m\n\u001b[1;32m----> 4\u001b[1;33m     \u001b[0mprint\u001b[0m\u001b[1;33m(\u001b[0m\u001b[1;34m\"before\"\u001b[0m\u001b[1;33m,\u001b[0m \u001b[0mg_var\u001b[0m\u001b[1;33m)\u001b[0m  \u001b[1;31m# 1\u001b[0m\u001b[1;33m\u001b[0m\u001b[1;33m\u001b[0m\u001b[0m\n\u001b[0m\u001b[0;32m      5\u001b[0m     \u001b[0mg_var\u001b[0m \u001b[1;33m=\u001b[0m \u001b[1;36m200\u001b[0m\u001b[1;33m\u001b[0m\u001b[1;33m\u001b[0m\u001b[0m\n\u001b[0;32m      6\u001b[0m     \u001b[0mprint\u001b[0m\u001b[1;33m(\u001b[0m\u001b[1;34m\"after\"\u001b[0m\u001b[1;33m,\u001b[0m \u001b[0mg_var\u001b[0m\u001b[1;33m)\u001b[0m   \u001b[1;31m# 2\u001b[0m\u001b[1;33m\u001b[0m\u001b[1;33m\u001b[0m\u001b[0m\n",
      "\u001b[1;31mUnboundLocalError\u001b[0m: local variable 'g_var' referenced before assignment"
     ]
    }
   ],
   "source": [
    "g_var = 100\n",
    "\n",
    "def func1() :\n",
    "    print(\"before\", g_var)  # 1\n",
    "    g_var = 200\n",
    "    print(\"after\", g_var)   # 2\n",
    "\n",
    "func1()"
   ]
  },
  {
   "source": [
    "\\#1의 print 문장을 실행하는 인터프리터는 렉시컬 특성에 따라 지역 심볼 테이블에서 g_var의 변수를 찾는다. 그런데 \\#1이 실행되는 시점에는 아직 g_var 변수는 초기화되어있지 않기 때문에 오류가 발생한다.\n",
    "\n",
    "### 전역변수 수정\n",
    "\n",
    "함수 내에서 전역변수를 참조하고 싶다면 함수 안에서 변수 선언 시 global 키워드로 지정해주어야 한다."
   ],
   "cell_type": "markdown",
   "metadata": {}
  },
  {
   "cell_type": "code",
   "execution_count": 21,
   "metadata": {},
   "outputs": [
    {
     "output_type": "stream",
     "name": "stdout",
     "text": [
      "before 100\nafter 200\n"
     ]
    }
   ],
   "source": [
    "g_var2 = 100\n",
    "\n",
    "def func2() :\n",
    "    global g_var2\n",
    "    print(\"before\", g_var2) # 1\n",
    "    g_var2 = 200\n",
    "    print(\"after\", g_var2)  # 2\n",
    "\n",
    "func2()"
   ]
  },
  {
   "cell_type": "code",
   "execution_count": 22,
   "metadata": {},
   "outputs": [
    {
     "output_type": "stream",
     "name": "stdout",
     "text": [
      "200\n"
     ]
    }
   ],
   "source": [
    "print(g_var2)"
   ]
  },
  {
   "source": [
    "### 값에 의한 호출\n",
    "\n",
    "파이썬의 모든 변수는 객체이다. 그래서 파이썬의 변수가 함수 인수로 전달되면 변수의 주소값이 복사되어 전달된다. 그래서 함수의 매개변수가 가리키는 값과 전역 기호 테이블의 변수가 가리키는 값이 같게 된다. 그런데 함수의 인수로 전달되는 변수가 숫자, 논리 문자 등 단일 값을 갖는 스칼라 변수일 경우 함수 안에서의 값의 변경은 할당연산자에 의해서만 가능하다. 그런데 할당 연산자는 변수에 새로운 값의 수조를 가리키게 하므로 스칼라 변수를 인수로 전달한 호출은 함수 안에서의 변수의 변경이 함수 밖의 변수에 영향을 주지 않으므로 값에 의한 호출과 동일한 기능을 한다."
   ],
   "cell_type": "markdown",
   "metadata": {}
  },
  {
   "cell_type": "code",
   "execution_count": 27,
   "metadata": {},
   "outputs": [
    {
     "output_type": "execute_result",
     "data": {
      "text/plain": [
       "140721726043008"
      ]
     },
     "metadata": {},
     "execution_count": 27
    }
   ],
   "source": [
    "foo = 100\n",
    "id(foo)"
   ]
  },
  {
   "cell_type": "code",
   "execution_count": 29,
   "metadata": {},
   "outputs": [
    {
     "output_type": "stream",
     "name": "stdout",
     "text": [
      "before 140721726043008\nafter 140721726046208\n200\n"
     ]
    }
   ],
   "source": [
    "def func1(foo) :\n",
    "    print(\"before\", id(foo))\n",
    "    foo = 200\n",
    "    print(\"after\", id(foo))\n",
    "    print(foo)\n",
    "\n",
    "func1(foo)"
   ]
  },
  {
   "cell_type": "code",
   "execution_count": 30,
   "metadata": {},
   "outputs": [
    {
     "output_type": "stream",
     "name": "stdout",
     "text": [
      "100\n"
     ]
    }
   ],
   "source": [
    "print(foo)"
   ]
  },
  {
   "source": [
    "### 참조에 의한 호출\n",
    "\n",
    "리스트 또는 튜플의 경우 함수 안에서 참조 연산자 \\. 을 이용해 객체를 변경하면 참조의 호출 효과를 얻을 수 있다."
   ],
   "cell_type": "markdown",
   "metadata": {}
  },
  {
   "cell_type": "code",
   "execution_count": 31,
   "metadata": {},
   "outputs": [
    {
     "output_type": "execute_result",
     "data": {
      "text/plain": [
       "2826867101312"
      ]
     },
     "metadata": {},
     "execution_count": 31
    }
   ],
   "source": [
    "L = [1,2,3,4,5]\n",
    "id(L)"
   ]
  },
  {
   "cell_type": "code",
   "execution_count": 32,
   "metadata": {},
   "outputs": [
    {
     "output_type": "stream",
     "name": "stdout",
     "text": [
      "2826867101312\n[1, 2, 3, 4, 5, 6]\n"
     ]
    }
   ],
   "source": [
    "def func2(foo) :\n",
    "    foo.append(6)\n",
    "    print(id(foo))\n",
    "    print(foo)\n",
    "\n",
    "func2(L)"
   ]
  },
  {
   "cell_type": "code",
   "execution_count": 33,
   "metadata": {},
   "outputs": [
    {
     "output_type": "stream",
     "name": "stdout",
     "text": [
      "[1, 2, 3, 4, 5, 6]\n"
     ]
    }
   ],
   "source": [
    "print(L)"
   ]
  },
  {
   "source": [
    "그러나 다음 예처럼 리스트를 함수의 인수에 전달하였더라도 할당 연산자(=)를 이용해 새로운 리스트를 할당하면 인수로 전달한 원본 리스트는 변경되지 않는다."
   ],
   "cell_type": "markdown",
   "metadata": {}
  },
  {
   "cell_type": "code",
   "execution_count": 34,
   "metadata": {},
   "outputs": [
    {
     "output_type": "execute_result",
     "data": {
      "text/plain": [
       "2826868494400"
      ]
     },
     "metadata": {},
     "execution_count": 34
    }
   ],
   "source": [
    "L = [1,2,3,4,5]\n",
    "id(L)"
   ]
  },
  {
   "cell_type": "code",
   "execution_count": 35,
   "metadata": {},
   "outputs": [
    {
     "output_type": "stream",
     "name": "stdout",
     "text": [
      "2826861206528\n[6, 7, 8, 9, 10]\n"
     ]
    }
   ],
   "source": [
    "def func3(foo) :\n",
    "    foo = [6,7,8,9,10]\n",
    "    print(id(foo))\n",
    "    print(foo)\n",
    "\n",
    "func3(L)"
   ]
  },
  {
   "cell_type": "code",
   "execution_count": 36,
   "metadata": {},
   "outputs": [
    {
     "output_type": "stream",
     "name": "stdout",
     "text": [
      "[1, 2, 3, 4, 5]\n"
     ]
    }
   ],
   "source": [
    "print(L)"
   ]
  },
  {
   "source": [
    "### 함수 이름 변경"
   ],
   "cell_type": "markdown",
   "metadata": {}
  },
  {
   "cell_type": "code",
   "execution_count": 3,
   "metadata": {},
   "outputs": [
    {
     "output_type": "stream",
     "name": "stdout",
     "text": [
      "1 1 2 3 5 8 13 21 34 55 89 144 233 377 610 987 1597 \n"
     ]
    }
   ],
   "source": [
    "def fibonacci(n) :\n",
    "    a, b = 0, 1\n",
    "    while b < n :\n",
    "        print(b, end = ' ')\n",
    "        a, b = b, a + b\n",
    "    print()\n",
    "\n",
    "fibo = fibonacci\n",
    "fibo(2000)"
   ]
  },
  {
   "cell_type": "code",
   "execution_count": 38,
   "metadata": {},
   "outputs": [
    {
     "output_type": "stream",
     "name": "stdout",
     "text": [
      "1 1 2 3 5 8 13 21 34 55 89 144 233 377 610 987 1597 \n"
     ]
    }
   ],
   "source": [
    "fibonacci(2000)"
   ]
  },
  {
   "cell_type": "code",
   "execution_count": 39,
   "metadata": {},
   "outputs": [
    {
     "output_type": "execute_result",
     "data": {
      "text/plain": [
       "(2826863884608, 2826863884608)"
      ]
     },
     "metadata": {},
     "execution_count": 39
    }
   ],
   "source": [
    "id(fibonacci), id(fibo)"
   ]
  },
  {
   "cell_type": "code",
   "execution_count": 40,
   "metadata": {},
   "outputs": [
    {
     "output_type": "execute_result",
     "data": {
      "text/plain": [
       "function"
      ]
     },
     "metadata": {},
     "execution_count": 40
    }
   ],
   "source": [
    "type(fibo)"
   ]
  },
  {
   "source": [
    "함수 fibo와 fibonacci는 사실상 이름만 다를 뿐 같은 객체이다."
   ],
   "cell_type": "markdown",
   "metadata": {}
  },
  {
   "source": [
    "### 함수 이름 변경과 함수 실행결과 저장"
   ],
   "cell_type": "markdown",
   "metadata": {}
  },
  {
   "cell_type": "code",
   "execution_count": 2,
   "metadata": {},
   "outputs": [
    {
     "output_type": "error",
     "ename": "NameError",
     "evalue": "name 'fibonacci' is not defined",
     "traceback": [
      "\u001b[1;31m---------------------------------------------------------------------------\u001b[0m",
      "\u001b[1;31mNameError\u001b[0m                                 Traceback (most recent call last)",
      "\u001b[1;32m<ipython-input-2-dbad4015419d>\u001b[0m in \u001b[0;36m<module>\u001b[1;34m\u001b[0m\n\u001b[1;32m----> 1\u001b[1;33m \u001b[0mfibo1\u001b[0m \u001b[1;33m=\u001b[0m \u001b[0mfibonacci\u001b[0m       \u001b[1;31m# 함수를 변수에 할당\u001b[0m\u001b[1;33m\u001b[0m\u001b[1;33m\u001b[0m\u001b[0m\n\u001b[0m\u001b[0;32m      2\u001b[0m \u001b[0mfibo2\u001b[0m \u001b[1;33m=\u001b[0m \u001b[0mfibonacci\u001b[0m\u001b[1;33m(\u001b[0m\u001b[1;36m2000\u001b[0m\u001b[1;33m)\u001b[0m \u001b[1;31m# 함수 실행결과를 변수에 할당함\u001b[0m\u001b[1;33m\u001b[0m\u001b[1;33m\u001b[0m\u001b[0m\n",
      "\u001b[1;31mNameError\u001b[0m: name 'fibonacci' is not defined"
     ]
    }
   ],
   "source": [
    "fibo1 = fibonacci       # 함수를 변수에 할당\n",
    "fibo2 = fibonacci(2000) # 함수 실행결과를 변수에 할당함"
   ]
  },
  {
   "source": [
    "## 2절. 함수의 실행결과를 반환하는 return\n",
    "\n",
    "함수의 반환 값은 함수가 실행한 결과를 함수를 호출한 곳에 전달하기 위해 사용한다.\n",
    "\n",
    "def function_name(param) :\n",
    "    \n",
    "\\# code\n",
    "\n",
    "return return_value\n",
    "\n",
    "- return : 함수의 실행결과를 반환하기 위한 키워드\n",
    "- return_value : 함수가 실행한 결과를 반환하는 값. 변수이름 또는 표현식으로 사용할 수 있다. 변수 또는 표현식의 결과는 모든 자료형이 가능함."
   ],
   "cell_type": "markdown",
   "metadata": {}
  },
  {
   "source": [
    "### 반환 값이 없는 함수\n",
    "\n",
    "앞서 만든 fibonacci() 함수에 인자를 포함해 변수로 할당한다면 이 경우에는 함수를 실행한 결과가 할당되는 것이다. fibonacci() 함수는 반환 값이 없으므로 f200 변수는 아무것도 저장되지 않을 것이다."
   ],
   "cell_type": "markdown",
   "metadata": {}
  },
  {
   "cell_type": "code",
   "execution_count": 4,
   "metadata": {},
   "outputs": [
    {
     "output_type": "stream",
     "name": "stdout",
     "text": [
      "1 1 2 3 5 8 13 21 34 55 89 144 \n"
     ]
    }
   ],
   "source": [
    "f200 = fibonacci(200)\n",
    "f200"
   ]
  },
  {
   "cell_type": "code",
   "execution_count": 5,
   "metadata": {},
   "outputs": [
    {
     "output_type": "error",
     "ename": "TypeError",
     "evalue": "'NoneType' object is not callable",
     "traceback": [
      "\u001b[1;31m---------------------------------------------------------------------------\u001b[0m",
      "\u001b[1;31mTypeError\u001b[0m                                 Traceback (most recent call last)",
      "\u001b[1;32m<ipython-input-5-a380534fcffd>\u001b[0m in \u001b[0;36m<module>\u001b[1;34m\u001b[0m\n\u001b[1;32m----> 1\u001b[1;33m \u001b[0mf200\u001b[0m\u001b[1;33m(\u001b[0m\u001b[1;36m10\u001b[0m\u001b[1;33m)\u001b[0m\u001b[1;33m\u001b[0m\u001b[1;33m\u001b[0m\u001b[0m\n\u001b[0m",
      "\u001b[1;31mTypeError\u001b[0m: 'NoneType' object is not callable"
     ]
    }
   ],
   "source": [
    "f200(10)"
   ]
  },
  {
   "source": [
    "- 함수에서 데이터를 출력하는 것은 바람직하지 못하다. 함수는 어떤 기능을 실행하는 것이기 때문에 데이터를 출력하는 코드는 함수를 호출하는 곳에서 하는 것이 바람직하다. 다음은 함수가 리턴 값을 갖는 경우에 대한 설명이다.\n",
    "\n",
    "### 반환 값이 있는 함수\n",
    "\n",
    "다음 함수는 fibonacci()를 조금 수정하여 fibonacci2() 함수를 만든다. 이 함수는 결과를 저장할 지역변수를 선언하고 그 곳에 함수의 실행결과를 저장한다. 그리고 함수의 마지막 문장에 return 키워드를 이용하여 함수의 실행결과를 반환한다."
   ],
   "cell_type": "markdown",
   "metadata": {}
  },
  {
   "cell_type": "code",
   "execution_count": 6,
   "metadata": {},
   "outputs": [
    {
     "output_type": "execute_result",
     "data": {
      "text/plain": [
       "[1, 1, 2, 3, 5, 8, 13, 21, 34, 55, 89]"
      ]
     },
     "metadata": {},
     "execution_count": 6
    }
   ],
   "source": [
    "def fibonacci2(n) :\n",
    "    result = []\n",
    "    a, b = 0, 1\n",
    "    while b < n :\n",
    "        result.append(b)\n",
    "        a, b = b, a + b\n",
    "    return result\n",
    "\n",
    "f100 = fibonacci2(100)\n",
    "f100"
   ]
  },
  {
   "cell_type": "code",
   "execution_count": 7,
   "metadata": {},
   "outputs": [
    {
     "output_type": "stream",
     "name": "stdout",
     "text": [
      "[1, 1, 2, 3, 5, 8, 13, 21, 34, 55, 89]\n[1, 1, 2, 3, 5, 8, 13, 21, 34, 55, 89]\n"
     ]
    }
   ],
   "source": [
    "print(fibonacci2(100))\n",
    "print(f100)"
   ]
  },
  {
   "source": [
    "### 어러 개 값 반환\n",
    "\n",
    "파이썬은 여러 개 값을 반환할 수 있다. 여러 개 값을 반환하면 그 값들은 튜플에 저장되어 반환된다. 함수가 여러 개 값을 반환했을 경우 반환 값을 하나의 튜플 변수에 저장하거나 함수가 반환하는 값의 개수만큼 변수를 선언하여 반환 값이 저장되도록 할 수 있다."
   ],
   "cell_type": "markdown",
   "metadata": {}
  },
  {
   "cell_type": "code",
   "execution_count": 8,
   "metadata": {},
   "outputs": [],
   "source": [
    "def swap(a, b) :\n",
    "    return b, a"
   ]
  },
  {
   "cell_type": "code",
   "execution_count": 9,
   "metadata": {},
   "outputs": [
    {
     "output_type": "execute_result",
     "data": {
      "text/plain": [
       "tuple"
      ]
     },
     "metadata": {},
     "execution_count": 9
    }
   ],
   "source": [
    "a = swap(1, 2)\n",
    "type(a)"
   ]
  },
  {
   "cell_type": "code",
   "execution_count": 10,
   "metadata": {},
   "outputs": [
    {
     "output_type": "stream",
     "name": "stdout",
     "text": [
      "(2, 1)\n"
     ]
    }
   ],
   "source": [
    "print(a)"
   ]
  },
  {
   "cell_type": "code",
   "execution_count": 11,
   "metadata": {},
   "outputs": [
    {
     "output_type": "stream",
     "name": "stdout",
     "text": [
      "2 1\n"
     ]
    }
   ],
   "source": [
    "x, y = swap(1, 2)\n",
    "print(x ,y)"
   ]
  },
  {
   "source": [
    "## 3절. 함수 매개변수\n",
    "\n",
    "함수 내에서 필요로 하는 값을 받기 위해서 함수 선언부에 정의하는 변수들을 매개변수라고 부른다. 함수 정의 시 매개변수의 개수가 호출 시 인수의 개수와 다르더라도 적용될 수 있도록 함수를 정의할 수 있다. 함수 호출시마다 인수의 수를 다르게 적용할 수 있는데 이것을 가변 인수라고 한다. 다음은 함수의 가변 인수에 결합될 수 있는 3가지 형식을 설명한다.\n",
    "\n",
    "### 기본값을 갖는 매개변수\n",
    "\n",
    "함수 매개변수 정의 시 가장 유용한 형식은 하나 이상의 매개변수에 대한 기본값을 지정하는 것이다. 이렇게 하면 함수를 정의할 때의 매개변수들에 할당되는 인수를 모두 포함하지 않아도 되므로 필요한 인수만 포함해서 함수를 호출할 수 있다."
   ],
   "cell_type": "markdown",
   "metadata": {}
  },
  {
   "cell_type": "code",
   "execution_count": 12,
   "metadata": {},
   "outputs": [
    {
     "output_type": "execute_result",
     "data": {
      "text/plain": [
       "'http://localhost:80'"
      ]
     },
     "metadata": {},
     "execution_count": 12
    }
   ],
   "source": [
    "def make_url(ip, port = 80) :\n",
    "    return \"http://{}:{}\".format(ip, port)\n",
    "\n",
    "make_url(\"localhost\")"
   ]
  },
  {
   "cell_type": "code",
   "execution_count": 13,
   "metadata": {},
   "outputs": [
    {
     "output_type": "execute_result",
     "data": {
      "text/plain": [
       "'http://localhost:8080'"
      ]
     },
     "metadata": {},
     "execution_count": 13
    }
   ],
   "source": [
    "make_url(\"localhost\",8080)"
   ]
  },
  {
   "source": [
    "- 기본값을 갖는 port 인수는 호출 시 값을 지정하지 않아도 된다.\n",
    "\n",
    "### 기본 변수를 갖는 매개변수\n",
    "\n",
    "함수의 매개변수가 기본값으로 변수 이름을 가질 수 있다. 이때 기본값은 함수가 정의되는 지점에 평가된다.\n",
    "\n",
    "다음 함수는 인수의 기본값이 변수이다. 함수가 정의될 때 func2() 함수의 arg 변수에 전달되는 값은 5이다. 나중에 i 값이 바뀌더라도 함수를 호출할 때에 arg 인수를 지정하지 않는다면 arg의 기본값은 5가 된다."
   ],
   "cell_type": "markdown",
   "metadata": {}
  },
  {
   "cell_type": "code",
   "execution_count": 14,
   "metadata": {},
   "outputs": [
    {
     "output_type": "stream",
     "name": "stdout",
     "text": [
      "5\n"
     ]
    }
   ],
   "source": [
    "i = 5\n",
    "\n",
    "def func2(arg = i) :    # arg = i = 5로 저장됨\n",
    "    print(arg)\n",
    "\n",
    "i = 6\n",
    "\n",
    "func2()"
   ]
  },
  {
   "source": [
    "기본값은 한 번만 평가된다. 그런데 기본 변수가 리스트, 딕셔너리 또는 대부분  클래스의 인스턴스와 같은 변경 가능한 객체일 때에는 다르다. 예를 들어, 다음 함수는 함수를 호출한 후 다시 호출할 때 전달된 인수를 사용한다."
   ],
   "cell_type": "markdown",
   "metadata": {}
  },
  {
   "cell_type": "code",
   "execution_count": 15,
   "metadata": {},
   "outputs": [
    {
     "output_type": "stream",
     "name": "stdout",
     "text": [
      "[1]\n"
     ]
    }
   ],
   "source": [
    "list_ = []\n",
    "def func3(a, L = list_) :\n",
    "    L.append(a)\n",
    "    return L\n",
    "\n",
    "print(func3(1))\n"
   ]
  },
  {
   "cell_type": "code",
   "execution_count": 16,
   "metadata": {},
   "outputs": [
    {
     "output_type": "stream",
     "name": "stdout",
     "text": [
      "[1, 2]\n[1, 2, 3]\n"
     ]
    }
   ],
   "source": [
    "print(func3(2))\n",
    "print(func3(3))"
   ]
  },
  {
   "source": [
    "만일 기본 변수를 함수들 호출 사이에 공유하지 않으려면 다음과 같은 형식으로 함수를 구성할 수 있다."
   ],
   "cell_type": "markdown",
   "metadata": {}
  },
  {
   "cell_type": "code",
   "execution_count": 20,
   "metadata": {},
   "outputs": [
    {
     "output_type": "stream",
     "name": "stdout",
     "text": [
      "[1]\n[2]\n"
     ]
    }
   ],
   "source": [
    "def func4(a, L = None) :\n",
    "    if L is None :\n",
    "        L = []\n",
    "    L.append(a)\n",
    "    return L\n",
    "\n",
    "print(func4(1))\n",
    "print(func4(2))"
   ]
  },
  {
   "source": [
    "### 순서 인수와 키워드 인수\n",
    "\n",
    "함수를 호출할 때에 kargs = value 형식의 인수를 사용하여 호출 할 수도 있다. 함수를 정의할 때에 기본값을 지정한 매개변수들은 호출 시 필수는 아니다. 그러나 변수 이름만 있는 매개변수는 함수 호출 시 반드시 인수를 지정해야 한다. 이 인수들은 순서대로 값이 매개변수에 할당되므로 순서 인수라고 부른다.\n",
    "\n",
    "함수를 호출할 때 함수의 인수는 매개변수 이름을 가질 수 있다. 인수에 매개변수 이름을 지정해 선택적으로 사용하는 인수를 키워드 인수라고 부른다."
   ],
   "cell_type": "markdown",
   "metadata": {}
  },
  {
   "cell_type": "code",
   "execution_count": 21,
   "metadata": {},
   "outputs": [
    {
     "output_type": "execute_result",
     "data": {
      "text/plain": [
       "[10]"
      ]
     },
     "metadata": {},
     "execution_count": 21
    }
   ],
   "source": [
    "def func4(a, L = None) :\n",
    "    if L is None :\n",
    "        L = []\n",
    "    L.append(a)\n",
    "    return L\n",
    "\n",
    "list_ = []\n",
    "func4(10, list_)"
   ]
  },
  {
   "cell_type": "code",
   "execution_count": 22,
   "metadata": {},
   "outputs": [
    {
     "output_type": "execute_result",
     "data": {
      "text/plain": [
       "[10, 20]"
      ]
     },
     "metadata": {},
     "execution_count": 22
    }
   ],
   "source": [
    "func4(20, L = list_)"
   ]
  },
  {
   "cell_type": "code",
   "execution_count": 23,
   "metadata": {},
   "outputs": [
    {
     "output_type": "execute_result",
     "data": {
      "text/plain": [
       "[10, 20, 30]"
      ]
     },
     "metadata": {},
     "execution_count": 23
    }
   ],
   "source": [
    "func4(30, L = list_)"
   ]
  },
  {
   "cell_type": "code",
   "execution_count": 25,
   "metadata": {},
   "outputs": [
    {
     "output_type": "execute_result",
     "data": {
      "text/plain": [
       "[10, 20, 30, 40]"
      ]
     },
     "metadata": {},
     "execution_count": 25
    }
   ],
   "source": [
    "func4(L = list_, a = 40)"
   ]
  },
  {
   "cell_type": "code",
   "execution_count": 26,
   "metadata": {},
   "outputs": [
    {
     "output_type": "execute_result",
     "data": {
      "text/plain": [
       "[60]"
      ]
     },
     "metadata": {},
     "execution_count": 26
    }
   ],
   "source": [
    "func4(a = 60)"
   ]
  },
  {
   "source": [
    "### 튜플 매개변수를 이용한 가변인수 설정\n",
    "\n",
    "가변인수는 함수 호출 시 인수의 개수를 0개 이상 사용할 수 있도록 함수의 인수를 정의하는 것이다. 함수의 매개변수 이름 앞에 *를 붙이면 함수 호출 시 필수 매개변수에 할당되고 남는 인수들이 튜플에 저장되어 함수에 전달된다."
   ],
   "cell_type": "markdown",
   "metadata": {}
  },
  {
   "cell_type": "code",
   "execution_count": 28,
   "metadata": {},
   "outputs": [
    {
     "output_type": "execute_result",
     "data": {
      "text/plain": [
       "30"
      ]
     },
     "metadata": {},
     "execution_count": 28
    }
   ],
   "source": [
    "def add(*args) :\n",
    "    sum = 0\n",
    "    for num in args :\n",
    "        sum = sum + num\n",
    "    return sum\n",
    "\n",
    "add(10, 20)"
   ]
  },
  {
   "cell_type": "code",
   "execution_count": 29,
   "metadata": {},
   "outputs": [
    {
     "output_type": "execute_result",
     "data": {
      "text/plain": [
       "60"
      ]
     },
     "metadata": {},
     "execution_count": 29
    }
   ],
   "source": [
    "add(10, 20, 30)"
   ]
  },
  {
   "cell_type": "code",
   "execution_count": 30,
   "metadata": {},
   "outputs": [
    {
     "output_type": "execute_result",
     "data": {
      "text/plain": [
       "100"
      ]
     },
     "metadata": {},
     "execution_count": 30
    }
   ],
   "source": [
    "add(10, 20, 30, 40)"
   ]
  },
  {
   "source": [
    "가변 인수 앞에 0개 이상의 일반 인수가 올 수 있다. 일반적으로 가변 인수는 함수에 전달되는 나머지 모든 입력 인수들을 스쿠핑하기 때문에 형식 인수 목록의 마지막에 온다. *args 매개변수 다음에 나오는 매개변수는 '키워드 전용' 인수이다. 그러므로 위치 인수는 튜플 인수 뒤에 올 수 없다.\n",
    "\n",
    "다음처럼 함수를 정의할 경우에는 아무런 문제가 되지 않는다."
   ],
   "cell_type": "markdown",
   "metadata": {}
  },
  {
   "cell_type": "code",
   "execution_count": 31,
   "metadata": {},
   "outputs": [],
   "source": [
    "def concat(*args, sep) :\n",
    "    return sep.join(args)"
   ]
  },
  {
   "source": [
    "- join() 함수는 문자열 리스트를 구분자를 이용하여 연결하는 함수이다.\n",
    "\n",
    "그러나 함수를 호출할 경우 튜플 인수 뒤의 인수들은 반드시 키워드를 가져야 한다. 만일 튜플 인수 뒤의 인수들이 키워드를 갖지 않는다면 오류가 발생한다."
   ],
   "cell_type": "markdown",
   "metadata": {}
  },
  {
   "cell_type": "code",
   "execution_count": 32,
   "metadata": {},
   "outputs": [
    {
     "output_type": "error",
     "ename": "TypeError",
     "evalue": "concat() missing 1 required keyword-only argument: 'sep'",
     "traceback": [
      "\u001b[1;31m---------------------------------------------------------------------------\u001b[0m",
      "\u001b[1;31mTypeError\u001b[0m                                 Traceback (most recent call last)",
      "\u001b[1;32m<ipython-input-32-02993a1eb887>\u001b[0m in \u001b[0;36m<module>\u001b[1;34m\u001b[0m\n\u001b[1;32m----> 1\u001b[1;33m \u001b[0mconcat\u001b[0m\u001b[1;33m(\u001b[0m\u001b[1;34m\"earth\"\u001b[0m\u001b[1;33m,\u001b[0m \u001b[1;34m\"mars\"\u001b[0m\u001b[1;33m,\u001b[0m \u001b[1;34m\"venus\"\u001b[0m\u001b[1;33m)\u001b[0m\u001b[1;33m\u001b[0m\u001b[1;33m\u001b[0m\u001b[0m\n\u001b[0m",
      "\u001b[1;31mTypeError\u001b[0m: concat() missing 1 required keyword-only argument: 'sep'"
     ]
    }
   ],
   "source": [
    "concat(\"earth\", \"mars\", \"venus\")"
   ]
  },
  {
   "cell_type": "code",
   "execution_count": 33,
   "metadata": {},
   "outputs": [
    {
     "output_type": "execute_result",
     "data": {
      "text/plain": [
       "'earth/mars/venus'"
      ]
     },
     "metadata": {},
     "execution_count": 33
    }
   ],
   "source": [
    "concat(\"earth\", \"mars\", \"venus\", sep = '/')"
   ]
  },
  {
   "source": [
    "그러나 위와 같이 하면 함수를 사용하는 사람이 매개변수의 이름을 기억해야하는 불편함이 있다. 그래서 튜플 인수와 순서 인수를 같이 사용하려면 함수 정의 시 순서 인수는 튜플 인수보다 앞에 오도록 매개변수를 정의하는 것이 좋다."
   ],
   "cell_type": "markdown",
   "metadata": {}
  },
  {
   "cell_type": "code",
   "execution_count": 34,
   "metadata": {},
   "outputs": [],
   "source": [
    "def concat(sep, *args) :\n",
    "    return sep.join(args)"
   ]
  },
  {
   "cell_type": "code",
   "execution_count": 35,
   "metadata": {},
   "outputs": [
    {
     "output_type": "execute_result",
     "data": {
      "text/plain": [
       "'earth/mars/venus'"
      ]
     },
     "metadata": {},
     "execution_count": 35
    }
   ],
   "source": [
    "concat('/' , 'earth','mars','venus')"
   ]
  },
  {
   "source": [
    "키워드 인수를 사용하지 않을 경우 기본값이 지정되도록 한다면 함수를 사용하는 사람이 실수를 더욱 줄일 수 있다."
   ],
   "cell_type": "markdown",
   "metadata": {}
  },
  {
   "cell_type": "code",
   "execution_count": 37,
   "metadata": {},
   "outputs": [
    {
     "output_type": "execute_result",
     "data": {
      "text/plain": [
       "'earth/mars/venus'"
      ]
     },
     "metadata": {},
     "execution_count": 37
    }
   ],
   "source": [
    "def concat(*args, sep = \"/\") :\n",
    "    return sep.join(args)\n",
    "\n",
    "concat('earth','mars','venus')"
   ]
  },
  {
   "cell_type": "code",
   "execution_count": 38,
   "metadata": {},
   "outputs": [
    {
     "output_type": "execute_result",
     "data": {
      "text/plain": [
       "'earth.mars.venus'"
      ]
     },
     "metadata": {},
     "execution_count": 38
    }
   ],
   "source": [
    "concat('earth','mars','venus', sep = '.')"
   ]
  },
  {
   "source": [
    "### 딕셔너리 매개변수\n",
    "\n",
    "매개변수 이름 앞에 ** 가 붙어서 **args 형식의 매개변수가 있으면 함수의 매개변수에 인수들을 매핑시키고 남는 키워드 인수를 딕셔너리 형식으로 받는다."
   ],
   "cell_type": "markdown",
   "metadata": {}
  },
  {
   "cell_type": "code",
   "execution_count": 39,
   "metadata": {},
   "outputs": [
    {
     "output_type": "stream",
     "name": "stdout",
     "text": [
      "('name', 'kildong')\n('age', 30)\n('address', '서울시 강남구')\n"
     ]
    }
   ],
   "source": [
    "def func5(**args) :\n",
    "    for item in args.items() :\n",
    "        print(item)\n",
    "\n",
    "func5(name = 'kildong', age = 30, address = '서울시 강남구')"
   ]
  },
  {
   "source": [
    "딕셔너리 매개변수는 순서 인수를 받는 필수 매개변수, 키워드 인수를 받는 선택 매개변수, 그리고 튜플을 받는 *name 형식의 튜플 매개변수와 함께 사용될 수 있다.\n",
    "\n",
    "예를 들어, 다음과 같은 함수를 정의하면"
   ],
   "cell_type": "markdown",
   "metadata": {}
  },
  {
   "cell_type": "code",
   "execution_count": 40,
   "metadata": {},
   "outputs": [
    {
     "output_type": "stream",
     "name": "stdout",
     "text": [
      "10\n(1, 2, 3)\n{'name': 'kildong', 'age': 20}\n"
     ]
    }
   ],
   "source": [
    "def func6(a, *b, **c) :\n",
    "    print(a)\n",
    "    print(b)\n",
    "    print(c)\n",
    "\n",
    "func6(10, 1, 2, 3, name = 'kildong', age = 20)"
   ]
  },
  {
   "source": [
    "- 키워드 인수가 인쇄되는 순서는 함수 호출에서 제공된 순서와 일치하도록 보장된다.\n",
    "\n",
    "### - 딕셔너리 인자 또는 튜플 인자는 키워드 인수로 사용할 수 없다. 즉 함수 정의 시 초기값을 지정할 수 없다.\n",
    "\n",
    "### 함수 정의 시 매개변수의 순서\n",
    "\n",
    "함수를 만들 때 매개변수의 순서는 함수를 호출할 때 순서 인수, 튜플 인수, 키워드 인수, 딕셔너리 인수 순으로 전달할 수 있도록 정의해야 한다. 튜플 매개변수는 순서 인수가 필수 매개변수에 모두 할당되고 남는 키워드 인수들을 딕셔너리 형식으로 받는다."
   ],
   "cell_type": "markdown",
   "metadata": {}
  },
  {
   "cell_type": "code",
   "execution_count": 41,
   "metadata": {},
   "outputs": [
    {
     "output_type": "stream",
     "name": "stdout",
     "text": [
      "10 20 30 (4, 5) 20 {'name': 'jinkyoung', 'age': 30}\n"
     ]
    }
   ],
   "source": [
    "def func(a, b, c, *d, e = 10, **f) :\n",
    "    print(a, b, c, d, e, f)\n",
    "\n",
    "func(10, 20, 30, 4, 5, e = 20, name = 'jinkyoung', age = 30)"
   ]
  },
  {
   "source": [
    "### 인수 언패킹\n",
    "\n",
    "1) 튜플 인수 언패킹\n",
    "\n",
    "인수가 이미 목록이나 튜플에 있지만 별도의 위치 인수가 필요한 함수 호출에 대해 압축을 풀어야 하는 경우에는 반대 상황이 발생한다. 예를 들어 내장된 range() 함수는 별도의 from 및 to 인수를 필요로 한다. 별도로 사용할 수 없는 경우에는 * 연산자로 함수 호출을 작성하여 인수를 목록 또는 튜플에서 언패킹 한다."
   ],
   "cell_type": "markdown",
   "metadata": {}
  },
  {
   "cell_type": "code",
   "execution_count": 43,
   "metadata": {},
   "outputs": [
    {
     "output_type": "error",
     "ename": "TypeError",
     "evalue": "unsupported operand type(s) for +: 'int' and 'tuple'",
     "traceback": [
      "\u001b[1;31m---------------------------------------------------------------------------\u001b[0m",
      "\u001b[1;31mTypeError\u001b[0m                                 Traceback (most recent call last)",
      "\u001b[1;32m<ipython-input-43-6848390d9529>\u001b[0m in \u001b[0;36m<module>\u001b[1;34m\u001b[0m\n\u001b[0;32m      8\u001b[0m \u001b[1;33m\u001b[0m\u001b[0m\n\u001b[0;32m      9\u001b[0m \u001b[1;31m# numbers 변수를 add() 함수의 인자로 직접 넣을 수는 없다.\u001b[0m\u001b[1;33m\u001b[0m\u001b[1;33m\u001b[0m\u001b[1;33m\u001b[0m\u001b[0m\n\u001b[1;32m---> 10\u001b[1;33m \u001b[0madd\u001b[0m\u001b[1;33m(\u001b[0m\u001b[0mnumbers\u001b[0m\u001b[1;33m)\u001b[0m\u001b[1;33m\u001b[0m\u001b[1;33m\u001b[0m\u001b[0m\n\u001b[0m",
      "\u001b[1;32m<ipython-input-43-6848390d9529>\u001b[0m in \u001b[0;36madd\u001b[1;34m(*args)\u001b[0m\n\u001b[0;32m      2\u001b[0m     \u001b[0msum\u001b[0m \u001b[1;33m=\u001b[0m \u001b[1;36m0\u001b[0m\u001b[1;33m\u001b[0m\u001b[1;33m\u001b[0m\u001b[0m\n\u001b[0;32m      3\u001b[0m     \u001b[1;32mfor\u001b[0m \u001b[0mnum\u001b[0m \u001b[1;32min\u001b[0m \u001b[0margs\u001b[0m \u001b[1;33m:\u001b[0m\u001b[1;33m\u001b[0m\u001b[1;33m\u001b[0m\u001b[0m\n\u001b[1;32m----> 4\u001b[1;33m         \u001b[0msum\u001b[0m \u001b[1;33m=\u001b[0m \u001b[0msum\u001b[0m \u001b[1;33m+\u001b[0m \u001b[0mnum\u001b[0m\u001b[1;33m\u001b[0m\u001b[1;33m\u001b[0m\u001b[0m\n\u001b[0m\u001b[0;32m      5\u001b[0m     \u001b[1;32mreturn\u001b[0m \u001b[0msum\u001b[0m\u001b[1;33m\u001b[0m\u001b[1;33m\u001b[0m\u001b[0m\n\u001b[0;32m      6\u001b[0m \u001b[1;33m\u001b[0m\u001b[0m\n",
      "\u001b[1;31mTypeError\u001b[0m: unsupported operand type(s) for +: 'int' and 'tuple'"
     ]
    }
   ],
   "source": [
    "def add(*args) :\n",
    "    sum = 0\n",
    "    for num in args :\n",
    "        sum = sum + num\n",
    "    return sum\n",
    "\n",
    "numbers = (1,2,3,4,5,6,7,8,9,10)\n",
    "\n",
    "# numbers 변수를 add() 함수의 인자로 직접 넣을 수는 없다.\n",
    "add(numbers)"
   ]
  },
  {
   "cell_type": "code",
   "execution_count": 44,
   "metadata": {},
   "outputs": [
    {
     "output_type": "execute_result",
     "data": {
      "text/plain": [
       "55"
      ]
     },
     "metadata": {},
     "execution_count": 44
    }
   ],
   "source": [
    "# 이럴 경우에 다음과 같이 변수 앞에 *를 붙여 튜플을 언패킹하여 전달한다.\n",
    "\n",
    "add(*numbers)"
   ]
  },
  {
   "source": [
    "2) 딕셔너리 인수 언패킹\n",
    "\n",
    "동일한 방식으로 딕셔너리 데이터는 ** 연산자로 키워드 인수를 전달할 수 있다."
   ],
   "cell_type": "markdown",
   "metadata": {}
  },
  {
   "cell_type": "code",
   "execution_count": 45,
   "metadata": {},
   "outputs": [
    {
     "output_type": "error",
     "ename": "TypeError",
     "evalue": "func5() takes 0 positional arguments but 1 was given",
     "traceback": [
      "\u001b[1;31m---------------------------------------------------------------------------\u001b[0m",
      "\u001b[1;31mTypeError\u001b[0m                                 Traceback (most recent call last)",
      "\u001b[1;32m<ipython-input-45-a45538cb5e94>\u001b[0m in \u001b[0;36m<module>\u001b[1;34m\u001b[0m\n\u001b[0;32m      5\u001b[0m \u001b[0mcustInfo\u001b[0m \u001b[1;33m=\u001b[0m \u001b[1;33m{\u001b[0m\u001b[1;34m'name'\u001b[0m \u001b[1;33m:\u001b[0m \u001b[1;34m'kildong'\u001b[0m\u001b[1;33m,\u001b[0m \u001b[1;34m'age'\u001b[0m \u001b[1;33m:\u001b[0m \u001b[1;36m30\u001b[0m\u001b[1;33m,\u001b[0m \u001b[1;34m'address'\u001b[0m \u001b[1;33m:\u001b[0m \u001b[1;34m'서울시 강남구'\u001b[0m\u001b[1;33m}\u001b[0m\u001b[1;33m\u001b[0m\u001b[1;33m\u001b[0m\u001b[0m\n\u001b[0;32m      6\u001b[0m \u001b[1;33m\u001b[0m\u001b[0m\n\u001b[1;32m----> 7\u001b[1;33m \u001b[0mfunc5\u001b[0m\u001b[1;33m(\u001b[0m\u001b[0mcustInfo\u001b[0m\u001b[1;33m)\u001b[0m\u001b[1;33m\u001b[0m\u001b[1;33m\u001b[0m\u001b[0m\n\u001b[0m",
      "\u001b[1;31mTypeError\u001b[0m: func5() takes 0 positional arguments but 1 was given"
     ]
    }
   ],
   "source": [
    "def func5(**data) :\n",
    "    for item in data.items() :\n",
    "        print(item)\n",
    "\n",
    "custInfo = {'name' : 'kildong', 'age' : 30, 'address' : '서울시 강남구'}\n",
    "\n",
    "func5(custInfo)"
   ]
  },
  {
   "cell_type": "code",
   "execution_count": 46,
   "metadata": {},
   "outputs": [
    {
     "output_type": "stream",
     "name": "stdout",
     "text": [
      "('name', 'kildong')\n('age', 30)\n('address', '서울시 강남구')\n"
     ]
    }
   ],
   "source": [
    "func5(**custInfo)"
   ]
  },
  {
   "source": [
    "### 함수의 인수로 함수 전달하기\n",
    "\n",
    "함수의 인수로 다른 함수 객체를 전달 받아 사용하는 함수를 만들어보자. 다음 함수는 첫 번째 인수로 함수 객체를 받는다."
   ],
   "cell_type": "markdown",
   "metadata": {}
  },
  {
   "cell_type": "code",
   "execution_count": 50,
   "metadata": {},
   "outputs": [
    {
     "output_type": "stream",
     "name": "stdout",
     "text": [
      "-----------------------\n2 3 (4, 5, 6) 10 {'f': 20, 'g': 30}\n20\n=======================\n"
     ]
    }
   ],
   "source": [
    "def template(func, *args, **kwargs) :\n",
    "    print('-----------------------')\n",
    "    print(func(*args, **kwargs))         # 언패킹으로 전달해야 함\n",
    "    print('=======================')\n",
    "\n",
    "def other_func(a, b, *c, d = 0, **e) :\n",
    "    print(a, b, c, d, e)\n",
    "    result = a + b\n",
    "    for item in c :\n",
    "        result += item\n",
    "    return result\n",
    "\n",
    "template(other_func, 2, 3, 4, 5, 6, d = 10, f = 20, g = 30)"
   ]
  },
  {
   "source": [
    "## 4절. 람다식\n",
    "\n",
    "람다식은 작은 익명함수를 의미한다. 람다식은 함수가 실행해야 할 문장이 한 문장일 경우에만 사용할 수 있다.\n",
    "\n",
    "### 람다식\n",
    "\n",
    "작은 익명 함수는 lambda 키워드로 만들 수 있다.\n",
    "\n",
    "람다식을 사용하기 전에 기존의 함수를 사용해보면"
   ],
   "cell_type": "markdown",
   "metadata": {}
  },
  {
   "cell_type": "code",
   "execution_count": 51,
   "metadata": {},
   "outputs": [
    {
     "output_type": "execute_result",
     "data": {
      "text/plain": [
       "3"
      ]
     },
     "metadata": {},
     "execution_count": 51
    }
   ],
   "source": [
    "def add(a, b) :\n",
    "    return a + b\n",
    "\n",
    "add(1, 2)"
   ]
  },
  {
   "cell_type": "code",
   "execution_count": 52,
   "metadata": {},
   "outputs": [
    {
     "output_type": "execute_result",
     "data": {
      "text/plain": [
       "3"
      ]
     },
     "metadata": {},
     "execution_count": 52
    }
   ],
   "source": [
    "# 람다식\n",
    "\n",
    "add2 = lambda a, b : a + b\n",
    "add2(1, 2)"
   ]
  },
  {
   "source": [
    "람다식은 함수 객체가 필요한 곳이면 어디서든지 사용할 수 있다. 람다식은 한 개의 문장만 작성할 수 있다. 사실 람다식은 의미론적으로 정상적인 함수 정의를 위한 문법적 단축 구문일 뿐이다. 중첩된 함수 정의와 마찬가지로 람다 함수는 포함된 범위의 변수들을 참조할 수 있다.\n",
    "\n",
    "### 함수 인수에 람다식 사용\n",
    "\n",
    "함수를 호출할 때 인수로 다른 함수가 실행하고 반환한 결과를 전달할 수 있다. 이것은 당연한 것이다. 그런데 파이썬은 함수의 인수로 함수객체를 전달할 수도 있다. 그러므로 함수의 인수에 람다식을 사용할 수 있다."
   ],
   "cell_type": "markdown",
   "metadata": {}
  },
  {
   "cell_type": "code",
   "execution_count": 53,
   "metadata": {},
   "outputs": [
    {
     "output_type": "execute_result",
     "data": {
      "text/plain": [
       "[2, 4, 6, 8, 10]"
      ]
     },
     "metadata": {},
     "execution_count": 53
    }
   ],
   "source": [
    "def map_template(func, L) :\n",
    "    result = []\n",
    "    for item in L :\n",
    "        result.append(func(item))\n",
    "    return result\n",
    "\n",
    "list_data = [1,2,3,4,5]\n",
    "\n",
    "map_template(lambda x : 2*x , L = list_data)"
   ]
  },
  {
   "source": [
    "위 코드는 map_template() 함수의 첫 번째 인수에 람다식을 사용했다. 이 예제는 리스트의 모든 요소에 2를 곱한 결과를 반환한다.\n",
    "\n",
    "다음 코드는 함수 인수에 람다식을 사용하는 다른 예이다. filter_template() 함수는 첫 번째 인수로 전달한 함수가 True를 반환하는 요소들만 반환한다."
   ],
   "cell_type": "markdown",
   "metadata": {}
  },
  {
   "cell_type": "code",
   "execution_count": 54,
   "metadata": {},
   "outputs": [
    {
     "output_type": "execute_result",
     "data": {
      "text/plain": [
       "[0, 2, 4, 6, 8]"
      ]
     },
     "metadata": {},
     "execution_count": 54
    }
   ],
   "source": [
    "def filter_template(func, L) :\n",
    "    result = []\n",
    "    for item in L :\n",
    "        if func(item) : \n",
    "            result.append(item)\n",
    "    return result\n",
    "\n",
    "list_data = list(range(10))\n",
    "\n",
    "filter_template(lambda x : x%2 == 0 , L = list_data)"
   ]
  },
  {
   "source": [
    "### 리턴문에 함수 사용\n",
    "\n",
    "파이썬에서 함수 또한 객체이므로 리턴문에 함수를 사용할 수 있다.\n",
    "\n",
    "다음 코드에서 make_box() 함수는 리턴문에서 지역 함수 box를 반환한다. 지역 함수 box()는 shape의 길이에 따라서 1차원 리스트 또는 2차원 리스트 객체를 생성하여 반환하는 함수이다. box() 함수의 매개변수 init_value는 리스트에 초기화 할 값을 지정한다."
   ],
   "cell_type": "markdown",
   "metadata": {}
  },
  {
   "cell_type": "code",
   "execution_count": 56,
   "metadata": {},
   "outputs": [
    {
     "output_type": "execute_result",
     "data": {
      "text/plain": [
       "[10, 10, 10, 10, 10]"
      ]
     },
     "metadata": {},
     "execution_count": 56
    }
   ],
   "source": [
    "def make_box(shape) :\n",
    "    def box(init_value) :\n",
    "        if len(shape) == 1:\n",
    "            return [init_value] * shape[0]\n",
    "        if len(shape) == 2:\n",
    "            return [[init_value] * shape[1]] * shape[0]\n",
    "    return box\n",
    "\n",
    "box1 = make_box((5, ))\n",
    "box1(10)"
   ]
  },
  {
   "cell_type": "code",
   "execution_count": 57,
   "metadata": {},
   "outputs": [
    {
     "output_type": "execute_result",
     "data": {
      "text/plain": [
       "[10, 10, 10, 10, 10]"
      ]
     },
     "metadata": {},
     "execution_count": 57
    }
   ],
   "source": [
    "make_box((5, ))(10)"
   ]
  },
  {
   "cell_type": "code",
   "execution_count": 58,
   "metadata": {},
   "outputs": [
    {
     "output_type": "execute_result",
     "data": {
      "text/plain": [
       "[[10, 10, 10], [10, 10, 10]]"
      ]
     },
     "metadata": {},
     "execution_count": 58
    }
   ],
   "source": [
    "box2 = make_box((2, 3))\n",
    "box2(10)"
   ]
  },
  {
   "cell_type": "code",
   "execution_count": 59,
   "metadata": {},
   "outputs": [
    {
     "output_type": "execute_result",
     "data": {
      "text/plain": [
       "[[10, 10, 10], [10, 10, 10]]"
      ]
     },
     "metadata": {},
     "execution_count": 59
    }
   ],
   "source": [
    "make_box((2, 3))(10)"
   ]
  },
  {
   "source": [
    "### 리턴문에 람다식 사용\n",
    "\n",
    "리턴문에 함수 대신 직접 람다식을 작성해서 사용할 수 있다. 앞의 4.3의 예제를 람다식으로 다음처럼 구현할 수 있다."
   ],
   "cell_type": "markdown",
   "metadata": {}
  },
  {
   "cell_type": "code",
   "execution_count": 60,
   "metadata": {},
   "outputs": [],
   "source": [
    "def make_box2(shape) :\n",
    "    if len(shape) == 1 :\n",
    "        return lambda x : [x] * shape[0]\n",
    "    elif len(shape) == 2 :\n",
    "        return lambda x : [[x] * shape[1]] * shape[0]"
   ]
  },
  {
   "cell_type": "code",
   "execution_count": 61,
   "metadata": {},
   "outputs": [
    {
     "output_type": "execute_result",
     "data": {
      "text/plain": [
       "[0, 0]"
      ]
     },
     "metadata": {},
     "execution_count": 61
    }
   ],
   "source": [
    "make_box2((2, ))(0)"
   ]
  },
  {
   "source": [
    "make_box2((2, 3))(0)"
   ],
   "cell_type": "code",
   "metadata": {},
   "execution_count": 62,
   "outputs": [
    {
     "output_type": "execute_result",
     "data": {
      "text/plain": [
       "[[0, 0, 0], [0, 0, 0]]"
      ]
     },
     "metadata": {},
     "execution_count": 62
    }
   ]
  },
  {
   "cell_type": "code",
   "execution_count": 63,
   "metadata": {},
   "outputs": [
    {
     "output_type": "execute_result",
     "data": {
      "text/plain": [
       "[[10, 10, 10, 10, 10],\n",
       " [10, 10, 10, 10, 10],\n",
       " [10, 10, 10, 10, 10],\n",
       " [10, 10, 10, 10, 10]]"
      ]
     },
     "metadata": {},
     "execution_count": 63
    }
   ],
   "source": [
    "make_box2((4,5))(10)"
   ]
  },
  {
   "cell_type": "code",
   "execution_count": 81,
   "metadata": {},
   "outputs": [
    {
     "output_type": "stream",
     "name": "stdout",
     "text": [
      "T - minus 3\nT - minus 2\nT - minus 1\n"
     ]
    }
   ],
   "source": [
    "def countdown(start) : \n",
    "    n = start\n",
    "    def display() :\n",
    "        print('T - minus %d' % n)\n",
    "    while n > 0 :\n",
    "        display()\n",
    "        n -= 1\n",
    "\n",
    "countdown(3)"
   ]
  },
  {
   "cell_type": "code",
   "execution_count": 89,
   "metadata": {},
   "outputs": [
    {
     "output_type": "stream",
     "name": "stdout",
     "text": [
      "T - minus 3\nT - minus 2\nT - minus 1\n"
     ]
    }
   ],
   "source": [
    "def countdown(start) :\n",
    "    n = start\n",
    "    def display() :\n",
    "        print('T - minus %d' % n)\n",
    "    def decrement() :\n",
    "        nonlocal n\n",
    "        n -= 1\n",
    "    while n > 0 :\n",
    "        display()\n",
    "        decrement()\n",
    "\n",
    "\n",
    "countdown(3)"
   ]
  },
  {
   "cell_type": "code",
   "execution_count": 94,
   "metadata": {},
   "outputs": [
    {
     "output_type": "execute_result",
     "data": {
      "text/plain": [
       "8"
      ]
     },
     "metadata": {},
     "execution_count": 94
    }
   ],
   "source": [
    "add = lambda x, y : x + y\n",
    "add(3, 5)"
   ]
  },
  {
   "cell_type": "code",
   "execution_count": 95,
   "metadata": {},
   "outputs": [
    {
     "output_type": "execute_result",
     "data": {
      "text/plain": [
       "[(1, 2), (4, 1), (9, 10), (13, -3)]"
      ]
     },
     "metadata": {},
     "execution_count": 95
    }
   ],
   "source": [
    "a = [(1, 2) , (4, 1), (13, -3), (9, 10)]\n",
    "a.sort()\n",
    "a"
   ]
  },
  {
   "cell_type": "code",
   "execution_count": 97,
   "metadata": {},
   "outputs": [
    {
     "output_type": "stream",
     "name": "stdout",
     "text": [
      "[(9, 10), (1, 2), (4, 1), (13, -3)]\n"
     ]
    }
   ],
   "source": [
    "a.sort(key = lambda x : x[1], reverse = True)\n",
    "print(a)"
   ]
  },
  {
   "cell_type": "code",
   "execution_count": 100,
   "metadata": {},
   "outputs": [
    {
     "output_type": "stream",
     "name": "stdout",
     "text": [
      "<function <lambda> at 0x0000017ACDF32D30> <function <lambda> at 0x0000017ACDF321F0>\n20\n30\n"
     ]
    }
   ],
   "source": [
    "x = 10\n",
    "a = lambda y, x = x : x + y\n",
    "x = 20\n",
    "b = lambda y, x = x : x + y\n",
    "print(a, b)\n",
    "print(a(10))\n",
    "print(b(10))"
   ]
  },
  {
   "cell_type": "code",
   "execution_count": 107,
   "metadata": {},
   "outputs": [
    {
     "output_type": "stream",
     "name": "stdout",
     "text": [
      "4 4 4 4 4 "
     ]
    }
   ],
   "source": [
    "funcs = [lambda x : x + n for n in range(5)]\n",
    "for f in funcs :\n",
    "    print(f(0), end = ' ')"
   ]
  },
  {
   "cell_type": "code",
   "execution_count": 113,
   "metadata": {},
   "outputs": [
    {
     "output_type": "stream",
     "name": "stdout",
     "text": [
      "3 3 3 3 3 "
     ]
    }
   ],
   "source": [
    "funcs = [lambda x, n = n : x + n for n in range(5)]\n",
    "for f in funcs :\n",
    "    print(f(0, 3), end = ' ')"
   ]
  },
  {
   "source": [
    "# 6장. 모듈과 패키지\n",
    "\n",
    "## 1절. 모듈 사용하기\n",
    "\n",
    "### 모듈"
   ],
   "cell_type": "markdown",
   "metadata": {}
  },
  {
   "cell_type": "code",
   "execution_count": 64,
   "metadata": {},
   "outputs": [
    {
     "output_type": "execute_result",
     "data": {
      "text/plain": [
       "'Mon Jun 14 15:44:12 2021'"
      ]
     },
     "metadata": {},
     "execution_count": 64
    }
   ],
   "source": [
    "import time\n",
    "time.ctime()"
   ]
  },
  {
   "cell_type": "code",
   "execution_count": 65,
   "metadata": {},
   "outputs": [],
   "source": [
    "del time"
   ]
  },
  {
   "cell_type": "code",
   "execution_count": 66,
   "metadata": {},
   "outputs": [
    {
     "output_type": "execute_result",
     "data": {
      "text/plain": [
       "'Mon Jun 14 15:45:00 2021'"
      ]
     },
     "metadata": {},
     "execution_count": 66
    }
   ],
   "source": [
    "import time as t\n",
    "\n",
    "t.ctime()"
   ]
  },
  {
   "cell_type": "code",
   "execution_count": 70,
   "metadata": {},
   "outputs": [
    {
     "output_type": "execute_result",
     "data": {
      "text/plain": [
       "'Mon Jun 14 15:45:46 2021'"
      ]
     },
     "metadata": {},
     "execution_count": 70
    }
   ],
   "source": [
    "from time import ctime\n",
    "ctime()"
   ]
  },
  {
   "cell_type": "code",
   "execution_count": 71,
   "metadata": {},
   "outputs": [
    {
     "output_type": "error",
     "ename": "NameError",
     "evalue": "name 'time' is not defined",
     "traceback": [
      "\u001b[1;31m---------------------------------------------------------------------------\u001b[0m",
      "\u001b[1;31mNameError\u001b[0m                                 Traceback (most recent call last)",
      "\u001b[1;32m<ipython-input-71-65b4ff420e9b>\u001b[0m in \u001b[0;36m<module>\u001b[1;34m\u001b[0m\n\u001b[1;32m----> 1\u001b[1;33m \u001b[0mtime\u001b[0m\u001b[1;33m.\u001b[0m\u001b[0mctime\u001b[0m\u001b[1;33m(\u001b[0m\u001b[1;33m)\u001b[0m\u001b[1;33m\u001b[0m\u001b[1;33m\u001b[0m\u001b[0m\n\u001b[0m",
      "\u001b[1;31mNameError\u001b[0m: name 'time' is not defined"
     ]
    }
   ],
   "source": [
    "time.ctime()"
   ]
  },
  {
   "cell_type": "code",
   "execution_count": 78,
   "metadata": {},
   "outputs": [
    {
     "output_type": "execute_result",
     "data": {
      "text/plain": [
       "'Mon Jun 14 15:47:26 2021'"
      ]
     },
     "metadata": {},
     "execution_count": 78
    }
   ],
   "source": [
    "from time import *\n",
    "\n",
    "ctime()"
   ]
  },
  {
   "cell_type": "code",
   "execution_count": null,
   "metadata": {},
   "outputs": [],
   "source": []
  }
 ]
}