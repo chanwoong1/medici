{
 "metadata": {
  "language_info": {
   "codemirror_mode": {
    "name": "ipython",
    "version": 3
   },
   "file_extension": ".py",
   "mimetype": "text/x-python",
   "name": "python",
   "nbconvert_exporter": "python",
   "pygments_lexer": "ipython3",
   "version": "3.8.5"
  },
  "orig_nbformat": 4,
  "kernelspec": {
   "name": "python3",
   "display_name": "Python 3.8.5 64-bit ('base': conda)"
  },
  "interpreter": {
   "hash": "3daa3430744053f4748a69c6948da8999f75f0c797f8ffecf263e95f10f995f6"
  }
 },
 "nbformat": 4,
 "nbformat_minor": 2,
 "cells": [
  {
   "source": [
    "# 210618 / 회원관리 데이터베이스 애플리케이션 프로젝트\n",
    "## 정찬웅"
   ],
   "cell_type": "markdown",
   "metadata": {}
  },
  {
   "cell_type": "code",
   "execution_count": 1,
   "metadata": {},
   "outputs": [
    {
     "output_type": "execute_result",
     "data": {
      "text/plain": [
       "<cx_Oracle.Connection to hr@(DESCRIPTION=(ADDRESS=(PROTOCOL=TCP)(HOST=localhost)(PORT=1521))(CONNECT_DATA=(SID=xe)))>"
      ]
     },
     "metadata": {},
     "execution_count": 1
    }
   ],
   "source": [
    "import cx_Oracle \n",
    "oracle_dsn = cx_Oracle.makedsn(host = \"localhost\", port = 1521, sid = \"xe\")\n",
    "oracle_dsn\n",
    "\n",
    "conn = cx_Oracle.connect(dsn = oracle_dsn, user = \"hr\", password = \"hr1234\")\n",
    "conn"
   ]
  },
  {
   "cell_type": "code",
   "execution_count": 2,
   "metadata": {},
   "outputs": [],
   "source": [
    "import cx_Oracle as oracle"
   ]
  },
  {
   "cell_type": "code",
   "execution_count": 3,
   "metadata": {},
   "outputs": [],
   "source": [
    "# -*- coding: utf-8 -*-\n",
    "\n",
    "# 회원정보를 저장할 클래스 정의\n",
    "class Member :\n",
    "    def __init__(self, name, phone, email, age, grade, etc) :\n",
    "        self.name = name\n",
    "        self.phone = phone\n",
    "        self.email = email\n",
    "        self.age = age\n",
    "        self.grade = grade\n",
    "        self.etc = etc\n",
    "\n",
    "    def __str__(self) :\n",
    "        return (\"name : {}, phone : {}, email : {}, age : {}, grade : {}, etc : {}\".format(self.name, self.phone, self.email, self.age, self.grade, self.etc))\n",
    "\n",
    "    def to_dict(self) :\n",
    "        return {\"name\":self.name, \"phone\":self.phone, \"email\":self.email, \"age\":self.age, \"grade\":self.grade, \"etc\":self.etc}"
   ]
  },
  {
   "cell_type": "code",
   "execution_count": 4,
   "metadata": {},
   "outputs": [],
   "source": [
    "# 회원 정보를 입력받아 데이터베이스에 저장하는 함수\n",
    "def insert_member_info():\n",
    "    cursor = conn.cursor()\n",
    "    name = input(\"이름: \")\n",
    "    phone = input(\"전화번호: \")\n",
    "    email = auto_comp_email()\n",
    "    age = int(input(\"나이: \"))\n",
    "    grade = int(input(\"고객등급(1~5): \"))\n",
    "    etc = input(\"기타정보: \")\n",
    "    member = Member(name, phone, email, age, grade, etc)\n",
    "    sql = \"\"\"insert into member\n",
    "            values(:name, :phone, :email, :age, :grade, :etc)\"\"\"\n",
    "    cursor.execute(sql, member.to_dict())"
   ]
  },
  {
   "cell_type": "code",
   "execution_count": 5,
   "metadata": {},
   "outputs": [],
   "source": [
    "### 회원 이메일 자동 완성 기능 함수\n",
    "def auto_comp_email() :\n",
    "    question = int(input(\"원하는 이메일을 선택하세요. (1 - 네이버, 2 - 구글, 3 - 다음, 4 - 네이트, 0 - 기타)\"))\n",
    "    array = ['@naver.com','@google.com','@hanmail.net','@nate.com']\n",
    "    if question == 1 :\n",
    "        id = input(\"아이디 입력 :\")\n",
    "        email = id + array[question-1]\n",
    "    elif question == 2 :\n",
    "        id = input(\"아이디 입력 :\")\n",
    "        email = id + array[question-1]\n",
    "    elif question == 3 :\n",
    "        id = input(\"아이디 입력 :\")\n",
    "        email = id + array[question-1]\n",
    "    elif question == 4 :\n",
    "        id = input(\"아이디 입력 :\")\n",
    "        email = id + array[question-1]\n",
    "    else :\n",
    "        email = input(\"이메일 입력 :\")\n",
    "    return email\n"
   ]
  },
  {
   "cell_type": "code",
   "execution_count": 6,
   "metadata": {},
   "outputs": [],
   "source": [
    "# 모든 회원 정보를 데이터베이스에서 조회한 후 출력하는 함수\n",
    "def get_all_members() :\n",
    "    cursor = conn.cursor()\n",
    "    cursor.execute(\"select * from member\")\n",
    "    print('\\n','-' * 20, '전체 조회', '-' * 20)\n",
    "    for data in cursor :\n",
    "        print(Member(*data))"
   ]
  },
  {
   "cell_type": "code",
   "execution_count": 7,
   "metadata": {},
   "outputs": [],
   "source": [
    "# 이름으로 회원 정보를 조회하는 함수\n",
    "def search_member(name) :\n",
    "    cursor = conn.cursor()\n",
    "    print('\\n','-'*20,'{} 회원 검색'.format(name),'-'*20)\n",
    "    sql = \"select * from member where name = :name\"\n",
    "    cursor.execute(sql, (name,))\n",
    "    for data in cursor :\n",
    "        print(Member(*data))"
   ]
  },
  {
   "source": [
    "이메일 검색으로 정보 삭제하는 기능을 이름 검색 후 삭제 기능도 추가했습니다.\n",
    "\n",
    "이름이 중복일 경우 중복된 이름 모두 삭제가 되어, 중복일 경우 이메일을 입력하도록 하였습니다."
   ],
   "cell_type": "markdown",
   "metadata": {}
  },
  {
   "cell_type": "code",
   "execution_count": 8,
   "metadata": {},
   "outputs": [],
   "source": [
    "def delete_member_name(name) :\n",
    "    cursor = conn.cursor() ;\n",
    "    sql = \"delete from member where name = :name\"\n",
    "    cursor.execute(sql, (name,))"
   ]
  },
  {
   "cell_type": "code",
   "execution_count": 9,
   "metadata": {},
   "outputs": [],
   "source": [
    "def search_member_name(name) :\n",
    "    cursor = conn.cursor() ;\n",
    "    sql1 = \"select count(*) from member where name = :name\"\n",
    "    cursor.execute(sql1,(name,))\n",
    "    num = cursor.fetchone()[0]\n",
    "    if num >= 2 :\n",
    "        email = input(\"중복 이름입니다. 이메일을 입력해주세요.\")\n",
    "        delete_member(email)\n",
    "        conn.commit()\n",
    "    else :\n",
    "        delete_member_name(name)\n",
    "        conn.commit()"
   ]
  },
  {
   "cell_type": "code",
   "execution_count": 10,
   "metadata": {},
   "outputs": [],
   "source": [
    "# 회원의 정보를 삭제하는 함수. 삭제는 이메일을 이용한다.\n",
    "def delete_member(email) :\n",
    "    cursor = conn.cursor() ;\n",
    "    sql = \"delete from member where email = :email\"\n",
    "    cursor.execute(sql, (email,))"
   ]
  },
  {
   "cell_type": "code",
   "execution_count": 11,
   "metadata": {},
   "outputs": [],
   "source": [
    "# 데이터베이스에서 조회한 정보를 csv파일로 저장하는 함수\n",
    "def export_member() :\n",
    "    file_name = input(\"파일명을 입력하시오.\")\n",
    "    cursor = conn.cursor()\n",
    "    cursor.execute(\"select * from member\")\n",
    "    members = cursor.fetchall()\n",
    "    colnames = [ row[0] for row in cursor.description ]\n",
    "    import csv\n",
    "    with open(file_name, 'w', newline = '', encoding = \"utf-8-sig\") as file:\n",
    "        w = csv.writer(file, quoting = csv.QUOTE_NONNUMERIC)\n",
    "        w.writerow(colnames)\n",
    "        w.writerows(members)"
   ]
  },
  {
   "cell_type": "code",
   "execution_count": 19,
   "metadata": {},
   "outputs": [],
   "source": [
    "# 회원 정보를 수정하는 함수\n",
    "def update_member() :\n",
    "    cursor = conn.cursor()\n",
    "    email = input(\"수정할 사원의 이메일을 입력하시오.\")\n",
    "    sql1 = \"select * from member where email = :email\"\n",
    "    cursor.execute(sql1, (email, ))\n",
    "    data = cursor.fetchone()\n",
    "    m = Member(*data)\n",
    "    while True :\n",
    "        question = int(input(\"수정할 항목을 선택하세요. (1. 이름, 2. 전화번호, 3. 나이, 4. 등급, 5. 기타정보, 0. 수정완료\"))\n",
    "        if question == 0 :\n",
    "            print('\\n', '-'*20, '메뉴로 돌아갑니다', '-'*20)\n",
    "            conn.commit()\n",
    "            break\n",
    "        elif question == 1 :\n",
    "            name = input(f\"이름({m.name}) : \")\n",
    "            sql = \"\"\"update member set name = :name where email = :email\"\"\"\n",
    "            cursor.execute(sql, (name, email,))\n",
    "            print('\\n이름이 변경되었습니다!')\n",
    "            continue\n",
    "        elif question == 2 :\n",
    "            phone = input(f\"전화번호({m.phone}) : \")\n",
    "            sql = \"\"\"update member set phone = :phone where email = :email\"\"\"\n",
    "            cursor.execute(sql, (phone, email))\n",
    "            print('\\n번호가 변경되었습니다!')\n",
    "            continue\n",
    "        elif question == 3 :\n",
    "            age = input(f\"나이({m.age}) : \")\n",
    "            sql = \"\"\"update member set age = :age where email = :email\"\"\"\n",
    "            cursor.execute(sql, (age, email))\n",
    "            print('\\n나이가 변경되었습니다!')\n",
    "            continue\n",
    "        elif question == 4 :\n",
    "            grade = input(f\"등급({m.grade}) : \")\n",
    "            sql = \"\"\"update member set grade = :grade where email = :email\"\"\"\n",
    "            cursor.execute(sql, (grade, email))\n",
    "            print('\\n등급이 변경되었습니다!')\n",
    "            continue\n",
    "        elif question == 5 :\n",
    "            etc = input(f\"기타정보({m.etc}) : \")\n",
    "            sql = \"\"\"update member set etc = :etc where email = :email\"\"\"\n",
    "            cursor.execute(sql, (etc, email))\n",
    "            print('\\n기타정보가 변경되었습니다!')\n",
    "            continue\n",
    "        else :\n",
    "            continue"
   ]
  },
  {
   "source": [
    "원하는 정보만 수정할 수 있도록 기능 변경했습니다."
   ],
   "cell_type": "markdown",
   "metadata": {}
  },
  {
   "cell_type": "code",
   "execution_count": 13,
   "metadata": {},
   "outputs": [],
   "source": [
    "# 메뉴를 출력하고 입력받는 함수\n",
    "def print_menu() :\n",
    "    print(' '*20,\"☆회★원♡관♥리♧애※플♧리♥케♡이★션☆\")\n",
    "    print(\"1. 입력\", \"2. 전체조회\", \"3. 찾기\", \"4. 삭제\", \"5. 내보내기(CSV)\", \"6. 수정\", \"0.종료\", sep = \" | \", end = \"\")\n",
    "    menu = input(\"메뉴선택 : \")\n",
    "    return int(menu)"
   ]
  },
  {
   "cell_type": "code",
   "execution_count": 32,
   "metadata": {},
   "outputs": [],
   "source": [
    "# 무한 반복하면서 메뉴를 입력받아서 선택한 메뉴와 관련된 함수를 실행시키는 메인함수\n",
    "def main() :\n",
    "    while True :\n",
    "        menu = print_menu()\n",
    "        if menu == 1 :\n",
    "            insert_member_info()\n",
    "            conn.commit()\n",
    "            print('\\n', '입력 완료!')\n",
    "        elif menu == 2 :\n",
    "            get_all_members() \n",
    "        elif menu == 3 :\n",
    "            name = input(\"찾고 싶은 회원의 이름을 입력하세요.\")\n",
    "            search_member(name)\n",
    "        elif menu == 4 :\n",
    "            while True :\n",
    "                question = int(input(\"어떤 정보로 삭제하시겠습니까? (1 : 이름, 2 : 이메일, 0 : 뒤로가기)\"))\n",
    "                if question == 0 :\n",
    "                    print('\\n', '-'*20, '메뉴로 돌아갑니다', '-'*20)\n",
    "                    break\n",
    "                elif question == 1 :\n",
    "                    name = input(\"삭제할 회원의 이름을 입력하세요.\")\n",
    "                    delete_member_name(name)\n",
    "                    conn.commit()\n",
    "                    print('\\n','-'*20,'{} 회원 삭제 완료!'.format(name),'-'*20)\n",
    "                    get_all_members()\n",
    "                    break\n",
    "                elif question == 2:\n",
    "                    email = input(\"삭제할 회원의 이메일을 입력하세요.\")\n",
    "                    delete_member(email)\n",
    "                    conn.commit()\n",
    "                    print('\\n','-'*20, '{} 회원 삭제 완료!'.format(email),'-'*20)\n",
    "                    get_all_members()\n",
    "                    break\n",
    "                else :\n",
    "                    continue  \n",
    "        elif menu == 5 :\n",
    "            export_member()\n",
    "        elif menu == 6 :\n",
    "            update_member()\n",
    "        elif menu == 0 :\n",
    "            question = int(input(\"정말 종료하시겠습니까? - 0, 취소 - 1\"))\n",
    "            if question == 0 :\n",
    "                conn.close()\n",
    "                break\n",
    "            else :\n",
    "                print('\\n')\n",
    "                continue"
   ]
  },
  {
   "cell_type": "code",
   "execution_count": 33,
   "metadata": {},
   "outputs": [
    {
     "output_type": "stream",
     "name": "stdout",
     "text": [
      "                     ☆회★원♡관♥리♧애※플♧리♥케♡이★션☆\n",
      "1. 입력 | 2. 전체조회 | 3. 찾기 | 4. 삭제 | 5. 내보내기(CSV) | 6. 수정 | 0.종료\n",
      "\n",
      "                     ☆회★원♡관♥리♧애※플♧리♥케♡이★션☆\n",
      "1. 입력 | 2. 전체조회 | 3. 찾기 | 4. 삭제 | 5. 내보내기(CSV) | 6. 수정 | 0.종료\n",
      "\n",
      "                     ☆회★원♡관♥리♧애※플♧리♥케♡이★션☆\n",
      "1. 입력 | 2. 전체조회 | 3. 찾기 | 4. 삭제 | 5. 내보내기(CSV) | 6. 수정 | 0.종료\n",
      "\n",
      "                     ☆회★원♡관♥리♧애※플♧리♥케♡이★션☆\n",
      "1. 입력 | 2. 전체조회 | 3. 찾기 | 4. 삭제 | 5. 내보내기(CSV) | 6. 수정 | 0.종료"
     ]
    }
   ],
   "source": [
    "import cx_Oracle as oracle\n",
    "oracle_dsn = cx_Oracle.makedsn(host = \"localhost\", port = 1521, sid = \"xe\")\n",
    "\n",
    "if __name__ == '__main__' :\n",
    "    global conn\n",
    "    conn = oracle.connect(dsn = oracle_dsn, user = \"hr\", password = \"hr1234\")\n",
    "    main()"
   ]
  }
 ]
}