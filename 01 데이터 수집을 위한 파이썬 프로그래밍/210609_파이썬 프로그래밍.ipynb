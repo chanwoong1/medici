{
 "metadata": {
  "language_info": {
   "codemirror_mode": {
    "name": "ipython",
    "version": 3
   },
   "file_extension": ".py",
   "mimetype": "text/x-python",
   "name": "python",
   "nbconvert_exporter": "python",
   "pygments_lexer": "ipython3",
   "version": "3.8.5"
  },
  "orig_nbformat": 2,
  "kernelspec": {
   "name": "python385jvsc74a57bd041ee98d3a22971112ca38fe99fa4b41152dcef85adf5662fffee372f20c4c3ad",
   "display_name": "Python 3.8.5 64-bit ('3_Flask': conda)"
  },
  "metadata": {
   "interpreter": {
    "hash": "41ee98d3a22971112ca38fe99fa4b41152dcef85adf5662fffee372f20c4c3ad"
   }
  }
 },
 "nbformat": 4,
 "nbformat_minor": 2,
 "cells": [
  {
   "source": [
    "# 변수"
   ],
   "cell_type": "markdown",
   "metadata": {}
  },
  {
   "source": [
    "## 변수"
   ],
   "cell_type": "markdown",
   "metadata": {}
  },
  {
   "cell_type": "code",
   "execution_count": 1,
   "metadata": {},
   "outputs": [
    {
     "output_type": "execute_result",
     "data": {
      "text/plain": [
       "78.5"
      ]
     },
     "metadata": {},
     "execution_count": 1
    }
   ],
   "source": [
    "5*5*3.14"
   ]
  },
  {
   "cell_type": "code",
   "execution_count": 2,
   "metadata": {},
   "outputs": [
    {
     "output_type": "execute_result",
     "data": {
      "text/plain": [
       "113.04"
      ]
     },
     "metadata": {},
     "execution_count": 2
    }
   ],
   "source": [
    "6 * 6 * 3.14"
   ]
  },
  {
   "cell_type": "code",
   "execution_count": 3,
   "metadata": {},
   "outputs": [],
   "source": [
    "radius = 5"
   ]
  },
  {
   "cell_type": "code",
   "execution_count": 5,
   "metadata": {},
   "outputs": [],
   "source": [
    "area = radius * radius * 3.14"
   ]
  },
  {
   "cell_type": "code",
   "execution_count": 6,
   "metadata": {},
   "outputs": [
    {
     "output_type": "execute_result",
     "data": {
      "text/plain": [
       "78.5"
      ]
     },
     "metadata": {},
     "execution_count": 6
    }
   ],
   "source": [
    "area"
   ]
  },
  {
   "source": [
    "## 변수 이름 만드는 규칙"
   ],
   "cell_type": "markdown",
   "metadata": {}
  },
  {
   "source": [
    "### 변수의 이름은 문자, 숫자 밑줄 문자를 포함.\n",
    "### 변수는 숫자로 시작할 수 없음\n",
    "### 변수에 사용하는 문자는 대소문자를 구분\n",
    "### 공백, 문장부호, 특수문자 등은 사용할 수 없음\n",
    "### 파이썬의 예약어는 사용할 수 없음\n",
    "### 사용 중인 내장 함수나 모듈 이름등은 사용 지양"
   ],
   "cell_type": "markdown",
   "metadata": {}
  },
  {
   "source": [
    "## 변수에 값 할당"
   ],
   "cell_type": "markdown",
   "metadata": {}
  },
  {
   "source": [
    "### 할당 연산자 \" = \""
   ],
   "cell_type": "markdown",
   "metadata": {}
  },
  {
   "cell_type": "code",
   "execution_count": 7,
   "metadata": {},
   "outputs": [
    {
     "output_type": "stream",
     "name": "stdout",
     "text": [
      "10\n"
     ]
    }
   ],
   "source": [
    "a = 10\n",
    "print(a)"
   ]
  },
  {
   "source": [
    "## id()"
   ],
   "cell_type": "markdown",
   "metadata": {}
  },
  {
   "source": [
    "### 객체의 주소 값을 알려줌"
   ],
   "cell_type": "markdown",
   "metadata": {}
  },
  {
   "cell_type": "code",
   "execution_count": 8,
   "metadata": {},
   "outputs": [
    {
     "output_type": "stream",
     "name": "stdout",
     "text": [
      "100\n"
     ]
    }
   ],
   "source": [
    "x = 100\n",
    "print(x)"
   ]
  },
  {
   "cell_type": "code",
   "execution_count": 9,
   "metadata": {},
   "outputs": [
    {
     "output_type": "stream",
     "name": "stdout",
     "text": [
      "140710527579008\n"
     ]
    }
   ],
   "source": [
    "print(id(x))\n",
    "# 결과는 변수 x의 값이 저장돼있는 컴퓨터 안의 메모리 공간의 주소이다. 그러므로 실행하는 컴퓨터마다 다르게 출력될 수 있다."
   ]
  },
  {
   "source": [
    "## 변수 삭제"
   ],
   "cell_type": "markdown",
   "metadata": {}
  },
  {
   "cell_type": "code",
   "execution_count": 10,
   "metadata": {},
   "outputs": [],
   "source": [
    "del x"
   ]
  },
  {
   "cell_type": "code",
   "execution_count": 11,
   "metadata": {},
   "outputs": [
    {
     "output_type": "stream",
     "name": "stdout",
     "text": [
      "10 20\n"
     ]
    }
   ],
   "source": [
    "a = 10\n",
    "b = 20\n",
    "print(a, b)"
   ]
  },
  {
   "cell_type": "code",
   "execution_count": 12,
   "metadata": {},
   "outputs": [
    {
     "output_type": "stream",
     "name": "stdout",
     "text": [
      "Variable   Type      Data/Info\n------------------------------\na          int       10\narea       float     78.5\nb          int       20\nos         module    <module 'os' from 'C:\\\\Us<...>vs\\\\3_Flask\\\\lib\\\\os.py'>\nradius     int       5\nsys        module    <module 'sys' (built-in)>\n"
     ]
    }
   ],
   "source": [
    "whos"
   ]
  },
  {
   "cell_type": "code",
   "execution_count": 13,
   "metadata": {},
   "outputs": [],
   "source": [
    "del a, b, area, os, radius, sys"
   ]
  },
  {
   "cell_type": "code",
   "execution_count": 14,
   "metadata": {},
   "outputs": [
    {
     "output_type": "stream",
     "name": "stdout",
     "text": [
      "Interactive namespace is empty.\n"
     ]
    }
   ],
   "source": [
    "whos"
   ]
  },
  {
   "source": [
    "### 다음 코드는 현재 커늘의 모든 변수를 삭제하기 위한 구문이다. 지금 아래의 코드를 작성하고 실행시킬 필요는 없다"
   ],
   "cell_type": "markdown",
   "metadata": {}
  },
  {
   "cell_type": "code",
   "execution_count": null,
   "metadata": {},
   "outputs": [],
   "source": [
    "for name in dir() :\n",
    "    if not name.startswith('_') :\n",
    "        del globals()[name]\n",
    "\n",
    "# globals()는 현재 커널에 선언돼있는 전역변수 목록을 출력해준다.\n",
    "# del은 변수를 삭제한다."
   ]
  },
  {
   "source": [
    "## 다중 변수 선언"
   ],
   "cell_type": "markdown",
   "metadata": {}
  },
  {
   "cell_type": "code",
   "execution_count": 15,
   "metadata": {},
   "outputs": [
    {
     "output_type": "stream",
     "name": "stdout",
     "text": [
      "30\n"
     ]
    }
   ],
   "source": [
    "a, b = 10, 20\n",
    "print(a + b)"
   ]
  },
  {
   "source": [
    "## 도움말 기능\n",
    "### help([x])"
   ],
   "cell_type": "markdown",
   "metadata": {}
  },
  {
   "cell_type": "code",
   "execution_count": 16,
   "metadata": {},
   "outputs": [
    {
     "output_type": "stream",
     "name": "stdout",
     "text": [
      "Help on built-in function print in module builtins:\n\nprint(...)\n    print(value, ..., sep=' ', end='\\n', file=sys.stdout, flush=False)\n    \n    Prints the values to a stream, or to sys.stdout by default.\n    Optional keyword arguments:\n    file:  a file-like object (stream); defaults to the current sys.stdout.\n    sep:   string inserted between values, default a space.\n    end:   string appended after the last value, default a newline.\n    flush: whether to forcibly flush the stream.\n\n"
     ]
    }
   ],
   "source": [
    "help(print)"
   ]
  },
  {
   "source": [
    "# 2절. 화면 입출력\n",
    "\n",
    "## 사용자 입력 : input()"
   ],
   "cell_type": "markdown",
   "metadata": {}
  },
  {
   "cell_type": "code",
   "execution_count": 17,
   "metadata": {},
   "outputs": [],
   "source": [
    "first_number = input('첫 번째 숫자:')"
   ]
  },
  {
   "cell_type": "code",
   "execution_count": 18,
   "metadata": {},
   "outputs": [],
   "source": [
    "second_number = input('두 번째 숫자:')"
   ]
  },
  {
   "cell_type": "code",
   "execution_count": 19,
   "metadata": {},
   "outputs": [
    {
     "output_type": "stream",
     "name": "stdout",
     "text": [
      "50\n"
     ]
    }
   ],
   "source": [
    "print(int(first_number) + int(second_number))"
   ]
  },
  {
   "source": [
    "## 화면으로의 출력 : print()"
   ],
   "cell_type": "markdown",
   "metadata": {}
  },
  {
   "cell_type": "code",
   "execution_count": 20,
   "metadata": {},
   "outputs": [
    {
     "output_type": "stream",
     "name": "stdout",
     "text": [
      "Hello World\n"
     ]
    }
   ],
   "source": [
    "print('Hello', 'World')"
   ]
  },
  {
   "cell_type": "code",
   "execution_count": 21,
   "metadata": {},
   "outputs": [
    {
     "output_type": "stream",
     "name": "stdout",
     "text": [
      "Hello,World\n"
     ]
    }
   ],
   "source": [
    "print('Hello', 'World', sep = ',')\n"
   ]
  },
  {
   "cell_type": "code",
   "execution_count": 22,
   "metadata": {},
   "outputs": [
    {
     "output_type": "stream",
     "name": "stdout",
     "text": [
      "Hello\tWorld\n"
     ]
    }
   ],
   "source": [
    "print('Hello', end = '\\t')\n",
    "print('World')\n"
   ]
  },
  {
   "source": [
    "# 3절. 기본 자료형\n",
    "\n",
    "대부분의 프로그래밍 언어들은 명시적으로 자료형의 개념을 포함하고 있으며, 변수를 선언할 때 자료형을 지정하는 키워드가 존재한다. 예를 들면 다음과 같다.\n",
    "- 정수 자료형을 지정하는 키워드는 int\n",
    "- 부동소수점 자료형을 지정하는 float 또는 double\n",
    "- 논리 자료형을 지정하는 boolean\n",
    "- 문자 한 개 자료형을 지정하는 char\n",
    "- 문자와 숫자로 이루어진 문자열 자료형을 지정하는 string\n",
    "\n",
    "파이썬도 자료형의 개념을 포함하고 있다. 그러나 파이썬은 변수를 선언할 때 자료형을 지정하는 키워드가 존재하지는 않는다. 파이썬의 기본 자료형은 숫자형, 문자형, 논리형이 있다."
   ],
   "cell_type": "markdown",
   "metadata": {}
  },
  {
   "source": [
    "## 숫자형\n",
    "\n",
    "파이썬의 숫자 유형은 정수, 실수, 복소수 형이 있다.\n",
    "\n",
    "## 1) 정수"
   ],
   "cell_type": "markdown",
   "metadata": {}
  },
  {
   "cell_type": "code",
   "execution_count": 23,
   "metadata": {},
   "outputs": [
    {
     "output_type": "execute_result",
     "data": {
      "text/plain": [
       "int"
      ]
     },
     "metadata": {},
     "execution_count": 23
    }
   ],
   "source": [
    "type(2**31)"
   ]
  },
  {
   "cell_type": "code",
   "execution_count": 27,
   "metadata": {},
   "outputs": [
    {
     "output_type": "execute_result",
     "data": {
      "text/plain": [
       "9223372036854775807"
      ]
     },
     "metadata": {},
     "execution_count": 27
    }
   ],
   "source": [
    "import sys\n",
    "sys.maxsize"
   ]
  },
  {
   "cell_type": "code",
   "execution_count": 28,
   "metadata": {},
   "outputs": [
    {
     "output_type": "execute_result",
     "data": {
      "text/plain": [
       "int"
      ]
     },
     "metadata": {},
     "execution_count": 28
    }
   ],
   "source": [
    "type(sys.maxsize)"
   ]
  },
  {
   "cell_type": "code",
   "execution_count": 29,
   "metadata": {},
   "outputs": [
    {
     "output_type": "execute_result",
     "data": {
      "text/plain": [
       "int"
      ]
     },
     "metadata": {},
     "execution_count": 29
    }
   ],
   "source": [
    "type(sys.maxsize + 1)"
   ]
  },
  {
   "source": [
    "## 실수\n",
    "\n",
    "허수를 포함하는 복소수는 complex형이다. 허수는 제곱해서 -1이 되는 수를 의미한다. 파이썬에서는 허수를 표현하기 위해 문자 j를 사용한다."
   ],
   "cell_type": "code",
   "metadata": {},
   "execution_count": null,
   "outputs": []
  },
  {
   "cell_type": "code",
   "execution_count": 30,
   "metadata": {},
   "outputs": [
    {
     "output_type": "execute_result",
     "data": {
      "text/plain": [
       "complex"
      ]
     },
     "metadata": {},
     "execution_count": 30
    }
   ],
   "source": [
    "d = 3 + 2j\n",
    "type(d)"
   ]
  },
  {
   "cell_type": "code",
   "execution_count": 31,
   "metadata": {},
   "outputs": [
    {
     "output_type": "stream",
     "name": "stdout",
     "text": [
      "(-1+0j)\n"
     ]
    }
   ],
   "source": [
    "d = 1j\n",
    "print(d ** 2)"
   ]
  },
  {
   "source": [
    "## 최근 표현식 변수 _\n",
    "\n",
    "우리가 정의하지 않아도 사용할 수 있는 특별한 변수가 있다 그것은 \\_ 변수이다. 이것을 최근 표현식 변수라고 하고, \\_ 변수에는 마지막으로 인쇄된 결과가 변수 \\_ 에 지정된다"
   ],
   "cell_type": "markdown",
   "metadata": {}
  },
  {
   "cell_type": "code",
   "execution_count": 32,
   "metadata": {},
   "outputs": [
    {
     "output_type": "execute_result",
     "data": {
      "text/plain": [
       "30"
      ]
     },
     "metadata": {},
     "execution_count": 32
    }
   ],
   "source": [
    "a = 10\n",
    "b = 20\n",
    "a + b"
   ]
  },
  {
   "cell_type": "code",
   "execution_count": 33,
   "metadata": {},
   "outputs": [
    {
     "output_type": "stream",
     "name": "stdout",
     "text": [
      "130\n"
     ]
    }
   ],
   "source": [
    "c = 100\n",
    "print(c + _)   # print(c + (a + b)) 와 같음"
   ]
  },
  {
   "cell_type": "code",
   "execution_count": 34,
   "metadata": {},
   "outputs": [
    {
     "output_type": "execute_result",
     "data": {
      "text/plain": [
       "30"
      ]
     },
     "metadata": {},
     "execution_count": 34
    }
   ],
   "source": [
    "_"
   ]
  },
  {
   "cell_type": "code",
   "execution_count": 35,
   "metadata": {},
   "outputs": [
    {
     "output_type": "execute_result",
     "data": {
      "text/plain": [
       "30"
      ]
     },
     "metadata": {},
     "execution_count": 35
    }
   ],
   "source": [
    "c = 2 + 3 + 4\n",
    "_"
   ]
  },
  {
   "source": [
    "## 문자형\n",
    "\n",
    "### 문자형의 표현"
   ],
   "cell_type": "markdown",
   "metadata": {}
  },
  {
   "cell_type": "code",
   "execution_count": 36,
   "metadata": {},
   "outputs": [
    {
     "output_type": "stream",
     "name": "stdout",
     "text": [
      "JinKyoung 서울시 강남구\n"
     ]
    }
   ],
   "source": [
    "name = \"JinKyoung\"\n",
    "address = '서울시 강남구'\n",
    "print(name, address)"
   ]
  },
  {
   "cell_type": "code",
   "execution_count": 43,
   "metadata": {},
   "outputs": [],
   "source": [
    "a = input('학년 :')\n",
    "b = input('이름 :')\n",
    "c = input('주소 :')\n",
    "d = input('email :')"
   ]
  },
  {
   "cell_type": "code",
   "execution_count": 44,
   "metadata": {},
   "outputs": [
    {
     "output_type": "stream",
     "name": "stdout",
     "text": [
      "4\n정찬웅\n경기도 고양시\njcw7468@naver.com\n"
     ]
    }
   ],
   "source": [
    "print(a)\n",
    "print(b)\n",
    "print(c)\n",
    "print(d)"
   ]
  },
  {
   "source": [
    "### 여러 줄 문자 표현\n",
    "\n",
    "여러줄의 문자열을 사용할 때는 겹따옴표 3개 (\"\"\") 혹은 홑따옴표 3개 (''')를 사용한다."
   ],
   "cell_type": "markdown",
   "metadata": {}
  },
  {
   "cell_type": "code",
   "execution_count": 37,
   "metadata": {},
   "outputs": [
    {
     "output_type": "stream",
     "name": "stdout",
     "text": [
      "이렇게 작성하면\n줄 바꿈도 그대로 적용해서\n여러 줄의 문자를 작성할 수 있다.\n"
     ]
    }
   ],
   "source": [
    "text = '''이렇게 작성하면\n",
    "줄 바꿈도 그대로 적용해서\n",
    "여러 줄의 문자를 작성할 수 있다.'''\n",
    "print(text)"
   ]
  },
  {
   "source": [
    "## 소스코드 줄 바꿈\n",
    "\n",
    "코드에서 라인의 맨 마지막에 있는 역슬래시( ' \\ ' )는 코드를 줄 바꿈 하겠다는 의미이다.\n",
    "\n",
    "## 탈출 문자 (Escape Character)\n",
    "\n",
    "'\\n' 처럼 문자열 내에서 역슬래시와 같이 사용되어 특별한 의미를 갖는 문자들을 탈출 문자라고 한다."
   ],
   "cell_type": "markdown",
   "metadata": {}
  },
  {
   "cell_type": "code",
   "execution_count": 45,
   "metadata": {},
   "outputs": [
    {
     "output_type": "stream",
     "name": "stdout",
     "text": [
      "Hello\nWorld\n"
     ]
    }
   ],
   "source": [
    "print('Hello\\nWorld')"
   ]
  },
  {
   "source": [
    "## 문자열 연결하기"
   ],
   "cell_type": "markdown",
   "metadata": {}
  },
  {
   "cell_type": "code",
   "execution_count": 46,
   "metadata": {},
   "outputs": [
    {
     "output_type": "execute_result",
     "data": {
      "text/plain": [
       "'HelloWorld'"
      ]
     },
     "metadata": {},
     "execution_count": 46
    }
   ],
   "source": [
    "'Hello' + 'World'"
   ]
  },
  {
   "cell_type": "code",
   "execution_count": 48,
   "metadata": {},
   "outputs": [
    {
     "output_type": "stream",
     "name": "stdout",
     "text": [
      "\tHello\tHello\tHello\tHello\tHello\n"
     ]
    }
   ],
   "source": [
    "print(5 * '\\tHello')    # 탈출문자도 반복된다"
   ]
  },
  {
   "source": [
    "## 문자열 인덱싱\n",
    "\n",
    "파이썬의 인덱스는 항상 0부터 시작한다. 그러므로 문자열은 첫 문자의 인덱스가 0이다. 음수는 맨 뒤의 문자부터 의미한다.\n",
    "\n",
    "인덱스를 벗어나느 참조는 오류를 발생시킨다."
   ],
   "cell_type": "code",
   "metadata": {},
   "execution_count": null,
   "outputs": []
  },
  {
   "cell_type": "code",
   "execution_count": 50,
   "metadata": {},
   "outputs": [
    {
     "output_type": "execute_result",
     "data": {
      "text/plain": [
       "'P'"
      ]
     },
     "metadata": {},
     "execution_count": 50
    }
   ],
   "source": [
    "'Python'[0]"
   ]
  },
  {
   "cell_type": "code",
   "execution_count": 51,
   "metadata": {},
   "outputs": [
    {
     "output_type": "execute_result",
     "data": {
      "text/plain": [
       "'h'"
      ]
     },
     "metadata": {},
     "execution_count": 51
    }
   ],
   "source": [
    "'Python'[3]"
   ]
  },
  {
   "cell_type": "code",
   "execution_count": 52,
   "metadata": {},
   "outputs": [
    {
     "output_type": "execute_result",
     "data": {
      "text/plain": [
       "'n'"
      ]
     },
     "metadata": {},
     "execution_count": 52
    }
   ],
   "source": [
    "'Python'[-1]"
   ]
  },
  {
   "source": [
    "## 문자열 자르기\n",
    "\n",
    "문자열\\[from : to\\]"
   ],
   "cell_type": "markdown",
   "metadata": {}
  },
  {
   "source": [
    "## raw 문자열\n",
    "\n",
    "문자열 앞에 r을 붙여 raw 문자열을 선언해 사용하기도 한다. r을 붙이면 역슬래시 문자를 해석하지 않고 남겨둔다. 탈출 문자를 사용하지 않고 역슬래시 등의 문자를 그대로 표현해서 사용할 때 유용하다. 특히 정규표현식과 같은 곳에 유용하다. 특히 정규표현식과 같은 곳에 유용하다."
   ],
   "cell_type": "markdown",
   "metadata": {}
  },
  {
   "cell_type": "code",
   "execution_count": 57,
   "metadata": {},
   "outputs": [
    {
     "output_type": "stream",
     "name": "stdout",
     "text": [
      "['010-2345-6789']\n"
     ]
    }
   ],
   "source": [
    "import re\n",
    "data = \"이름 : 홍길동, 주소 : 서울시, 전화번호 010-2345-6789, 특징 : 동해번쩍서해번쩍\"\n",
    "phone_pattern = r'[\\d]{3,4}-[\\d]{4}-[\\d]{4}'\n",
    "phone = re.findall(phone_pattern, data)\n",
    "print(phone)"
   ]
  },
  {
   "source": [
    "## 문자열을 다루는 함수\n",
    "\n",
    "### split()"
   ],
   "cell_type": "markdown",
   "metadata": {}
  },
  {
   "cell_type": "code",
   "execution_count": 58,
   "metadata": {},
   "outputs": [
    {
     "output_type": "execute_result",
     "data": {
      "text/plain": [
       "'Python'"
      ]
     },
     "metadata": {},
     "execution_count": 58
    }
   ],
   "source": [
    "temp = 'Python is easy'\n",
    "lst = temp.split()\n",
    "lst[0]"
   ]
  },
  {
   "cell_type": "code",
   "execution_count": 59,
   "metadata": {},
   "outputs": [
    {
     "output_type": "execute_result",
     "data": {
      "text/plain": [
       "['python', 'java', 'R', 'sas']"
      ]
     },
     "metadata": {},
     "execution_count": 59
    }
   ],
   "source": [
    "temp2 = 'python.java.R.sas'\n",
    "temp2.split('.')"
   ]
  },
  {
   "cell_type": "code",
   "execution_count": null,
   "metadata": {},
   "outputs": [],
   "source": [
    "### join()"
   ]
  },
  {
   "cell_type": "code",
   "execution_count": 60,
   "metadata": {},
   "outputs": [
    {
     "output_type": "execute_result",
     "data": {
      "text/plain": [
       "'Python,java,R,SAS'"
      ]
     },
     "metadata": {},
     "execution_count": 60
    }
   ],
   "source": [
    "temp3 = ['Python','java','R','SAS']\n",
    "','.join(temp3)"
   ]
  },
  {
   "cell_type": "code",
   "execution_count": 61,
   "metadata": {},
   "outputs": [
    {
     "output_type": "execute_result",
     "data": {
      "text/plain": [
       "5"
      ]
     },
     "metadata": {},
     "execution_count": 61
    }
   ],
   "source": [
    "a = 'HelloWorld'\n",
    "a.index('W')"
   ]
  },
  {
   "source": [
    "## 논리형\n",
    "\n",
    "파이썬의 논리형은 True 또는 False 값을 갖는다."
   ],
   "cell_type": "markdown",
   "metadata": {}
  },
  {
   "cell_type": "code",
   "execution_count": 62,
   "metadata": {},
   "outputs": [
    {
     "output_type": "stream",
     "name": "stdout",
     "text": [
      "<class 'bool'>\n"
     ]
    }
   ],
   "source": [
    "a = True\n",
    "print(type(a))"
   ]
  },
  {
   "source": [
    "### FALSE인 경우\n",
    "\n",
    "조건을 비교하기 위해 반드시 논리형만 필요한 것은 아니다.\n",
    "\n",
    "정수형의 경우 0, 실수는 0.0 복소수는 0+0j 문자열이 \"\" or ''이면 false로 판단한다.\n",
    "\n",
    "False로 판단되는 값들\n",
    "- None\n",
    "- False\n",
    "- 숫자 타입 0에 해당하는 것\n",
    "- 빈 문자\n",
    "- 빈 튜플 또는 리스트\n",
    "- 빈 딕셔너리\n"
   ],
   "cell_type": "markdown",
   "metadata": {}
  },
  {
   "source": [
    "## 자료형 확인 및 변환\n",
    "\n",
    "데이터가 어떤 자료형인지 확인하거나 다른 자료형으로 변환할 수 있다.\n",
    "\n",
    "- type() : 자료형 확인\n",
    "- int() : 정수형으로 변환\n",
    "- float() : 실수형으로 변환\n",
    "- str() : 문자형으로 변환\n",
    "- bool() : 논리형으로 변환"
   ],
   "cell_type": "markdown",
   "metadata": {}
  },
  {
   "cell_type": "code",
   "execution_count": 63,
   "metadata": {},
   "outputs": [
    {
     "output_type": "stream",
     "name": "stdout",
     "text": [
      "홍길동님의 나이는 20살 입니다.\n"
     ]
    }
   ],
   "source": [
    "name, age = '홍길동', 20\n",
    "print(name, '님의 나이는 ', age, '살 입니다.', sep = '')"
   ]
  },
  {
   "cell_type": "code",
   "execution_count": 64,
   "metadata": {},
   "outputs": [
    {
     "output_type": "execute_result",
     "data": {
      "text/plain": [
       "'one two'"
      ]
     },
     "metadata": {},
     "execution_count": 64
    }
   ],
   "source": [
    "'%s %s' %('one','two')"
   ]
  },
  {
   "cell_type": "code",
   "execution_count": 65,
   "metadata": {},
   "outputs": [
    {
     "output_type": "execute_result",
     "data": {
      "text/plain": [
       "'one two'"
      ]
     },
     "metadata": {},
     "execution_count": 65
    }
   ],
   "source": [
    "'{} {}'.format('one','two')"
   ]
  },
  {
   "cell_type": "code",
   "execution_count": 67,
   "metadata": {},
   "outputs": [
    {
     "output_type": "stream",
     "name": "stdout",
     "text": [
      "홍길동님의 나이는 20살 입니다.\n"
     ]
    }
   ],
   "source": [
    "name, age = '홍길동', 20\n",
    "print('{}님의 나이는 {}살 입니다.'.format(name, age))"
   ]
  },
  {
   "source": [
    "\n",
    "### 포맷 순서 지정"
   ],
   "cell_type": "markdown",
   "metadata": {}
  },
  {
   "cell_type": "code",
   "execution_count": 69,
   "metadata": {},
   "outputs": [
    {
     "output_type": "stream",
     "name": "stdout",
     "text": [
      "출력 : 10, 20, 30\n"
     ]
    }
   ],
   "source": [
    "a, b, c = 10, 20, 30\n",
    "print('출력 : {}, {}, {}'.format(a,b,c))"
   ]
  },
  {
   "cell_type": "code",
   "execution_count": 70,
   "metadata": {},
   "outputs": [
    {
     "output_type": "stream",
     "name": "stdout",
     "text": [
      "출력 : 30, 20, 10\n"
     ]
    }
   ],
   "source": [
    "print('출력 : {2}, {1}, {0}'.format(a,b,c))"
   ]
  },
  {
   "source": [
    "### 숫자 출력"
   ],
   "cell_type": "markdown",
   "metadata": {}
  },
  {
   "cell_type": "code",
   "execution_count": 71,
   "metadata": {},
   "outputs": [
    {
     "output_type": "stream",
     "name": "stdout",
     "text": [
      "출력 : [12345], [     12345], [12345]\n"
     ]
    }
   ],
   "source": [
    "a = 12345\n",
    "print('출력 : [{}], [{:10}], [{:3}]'.format(a,a,a))"
   ]
  },
  {
   "cell_type": "code",
   "execution_count": 72,
   "metadata": {},
   "outputs": [
    {
     "output_type": "stream",
     "name": "stdout",
     "text": [
      "출력 : [12345],[12345.000000],[11000000111001],[30071],[3039]\n"
     ]
    }
   ],
   "source": [
    "print('출력 : [{:d}],[{:f}],[{:b}],[{:o}],[{:x}]'.format(a,a,a,a,a))"
   ]
  },
  {
   "cell_type": "code",
   "execution_count": 73,
   "metadata": {},
   "outputs": [
    {
     "output_type": "stream",
     "name": "stdout",
     "text": [
      "출력 : [12345.123456789],[12345.123457],[   12345.123457],[  12345.12],[    12345.1234567890]\n"
     ]
    }
   ],
   "source": [
    "a = 12345.123456789\n",
    "print('출력 : [{}],[{:f}],[{:15f}],[{:10.2f}],[{:20.10f}]'\\\n",
    "    .format(a,a,a,a,a))\n"
   ]
  },
  {
   "source": [
    "## 공백 대체 문자"
   ],
   "cell_type": "markdown",
   "metadata": {}
  },
  {
   "cell_type": "code",
   "execution_count": 74,
   "metadata": {},
   "outputs": [
    {
     "output_type": "stream",
     "name": "stdout",
     "text": [
      "출력 : $$$$$$$$10, Hello***************, Hello_____\n"
     ]
    }
   ],
   "source": [
    "a = 10\n",
    "b = 'Hello'\n",
    "print('출력 : {:$>10}, {:*<20}, {:_<10.5s}'.format(a,b,b))"
   ]
  },
  {
   "cell_type": "code",
   "execution_count": 75,
   "metadata": {},
   "outputs": [
    {
     "output_type": "stream",
     "name": "stdout",
     "text": [
      "출력 : [00123], [-0123]\n"
     ]
    }
   ],
   "source": [
    "# 숫자 유형의 경우 크기 앞에 0을 붙이면 남는 자리를 0으로 채워준다. 음수의 경우에는 맨 앞에 -가 표시되며, 부호 표시도 전체 자릿수에 포함된다.\n",
    "a = 123\n",
    "b = -123\n",
    "print('출력 : [{:05}], [{:05}]'.format(a, b))"
   ]
  },
  {
   "cell_type": "code",
   "execution_count": 76,
   "metadata": {},
   "outputs": [
    {
     "output_type": "stream",
     "name": "stdout",
     "text": [
      "출력 : [$$$$$$$$$a].[___123.123]\n"
     ]
    }
   ],
   "source": [
    "a = [10, 123.12345]\n",
    "print('출력 : [{[0]:$>10x}].[{[1]:_>10.3f}]'.format(a,a))"
   ]
  },
  {
   "cell_type": "code",
   "execution_count": 81,
   "metadata": {},
   "outputs": [
    {
     "output_type": "stream",
     "name": "stdout",
     "text": [
      "출력 : [      2.72]\n"
     ]
    }
   ],
   "source": [
    "a = 2.7182818284\n",
    "print('출력 : [{:{}{}.{}{}}]'.format(a, '>', 10, 2, 'f'))"
   ]
  },
  {
   "cell_type": "code",
   "execution_count": 82,
   "metadata": {},
   "outputs": [
    {
     "output_type": "stream",
     "name": "stdout",
     "text": [
      "출력 : [     +2.72]\n"
     ]
    }
   ],
   "source": [
    "print('출력 : [{:{dir}{sign}{width}.{precision}{fmt}}]'\\\n",
    "    .format(a,dir='>', sign='+', width=10, precision=2, fmt='f'))"
   ]
  },
  {
   "source": [
    "### 날짜 출력"
   ],
   "cell_type": "markdown",
   "metadata": {}
  },
  {
   "cell_type": "code",
   "execution_count": 83,
   "metadata": {},
   "outputs": [
    {
     "output_type": "execute_result",
     "data": {
      "text/plain": [
       "time.struct_time(tm_year=2021, tm_mon=6, tm_mday=9, tm_hour=17, tm_min=12, tm_sec=39, tm_wday=2, tm_yday=160, tm_isdst=0)"
      ]
     },
     "metadata": {},
     "execution_count": 83
    }
   ],
   "source": [
    "from datetime import datetime\n",
    "from time import localtime\n",
    "now = localtime()\n",
    "now"
   ]
  },
  {
   "cell_type": "code",
   "execution_count": 84,
   "metadata": {},
   "outputs": [
    {
     "output_type": "execute_result",
     "data": {
      "text/plain": [
       "datetime.datetime(2019, 3, 24, 0, 0)"
      ]
     },
     "metadata": {},
     "execution_count": 84
    }
   ],
   "source": [
    "date_object = datetime.strptime('24 March, 2019', '%d %B, %Y')\n",
    "date_object"
   ]
  },
  {
   "source": [
    "### 파이썬의 f-strings\n",
    "\n",
    "f-스트링은 문자열에 형식을 지정할 때 서식을 쉽게 만들 수 있도록 한다. 이것의 표현 방법은 f가 문자열 앞에 있고 그 값으로 대체 될 표현식을 중괄호로 포함하는 문자열 리터럴이다."
   ],
   "cell_type": "markdown",
   "metadata": {}
  },
  {
   "cell_type": "code",
   "execution_count": 85,
   "metadata": {},
   "outputs": [
    {
     "output_type": "execute_result",
     "data": {
      "text/plain": [
       "'Hello, Eric. You are 23.'"
      ]
     },
     "metadata": {},
     "execution_count": 85
    }
   ],
   "source": [
    "name = 'Eric'\n",
    "age = 23\n",
    "f\"Hello, {name}. You are {age}.\""
   ]
  },
  {
   "cell_type": "code",
   "execution_count": 86,
   "metadata": {},
   "outputs": [
    {
     "output_type": "execute_result",
     "data": {
      "text/plain": [
       "7"
      ]
     },
     "metadata": {},
     "execution_count": 86
    }
   ],
   "source": [
    "3 | 5"
   ]
  },
  {
   "cell_type": "code",
   "execution_count": 88,
   "metadata": {},
   "outputs": [
    {
     "output_type": "execute_result",
     "data": {
      "text/plain": [
       "2"
      ]
     },
     "metadata": {},
     "execution_count": 88
    }
   ],
   "source": [
    "0 or {} or [] or 2"
   ]
  },
  {
   "cell_type": "code",
   "execution_count": 89,
   "metadata": {},
   "outputs": [
    {
     "output_type": "execute_result",
     "data": {
      "text/plain": [
       "3"
      ]
     },
     "metadata": {},
     "execution_count": 89
    }
   ],
   "source": [
    "0 or {} or 3 or [] or 2"
   ]
  }
 ]
}