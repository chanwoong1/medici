{
 "metadata": {
  "language_info": {
   "codemirror_mode": {
    "name": "ipython",
    "version": 3
   },
   "file_extension": ".py",
   "mimetype": "text/x-python",
   "name": "python",
   "nbconvert_exporter": "python",
   "pygments_lexer": "ipython3",
   "version": "3.8.5"
  },
  "orig_nbformat": 4,
  "kernelspec": {
   "name": "python3",
   "display_name": "Python 3.8.5 64-bit ('base': conda)"
  },
  "interpreter": {
   "hash": "3daa3430744053f4748a69c6948da8999f75f0c797f8ffecf263e95f10f995f6"
  }
 },
 "nbformat": 4,
 "nbformat_minor": 2,
 "cells": [
  {
   "source": [
    "# 210617"
   ],
   "cell_type": "markdown",
   "metadata": {}
  },
  {
   "source": [
    "# 파일 입/출력 프로그래밍\n",
    "\n",
    "## 1절. 파일에 데이터 저장하고 불러오기"
   ],
   "cell_type": "markdown",
   "metadata": {}
  },
  {
   "cell_type": "code",
   "execution_count": 6,
   "metadata": {},
   "outputs": [],
   "source": [
    "f = open(\"sample.txt\", \"w\")"
   ]
  },
  {
   "source": [
    "open만 하고 닫지않으면 삭제가 불가능하다. 파이썬에서 사용중이기 때문"
   ],
   "cell_type": "markdown",
   "metadata": {}
  },
  {
   "cell_type": "code",
   "execution_count": 4,
   "metadata": {},
   "outputs": [],
   "source": [
    "f.close()"
   ]
  },
  {
   "source": [
    "닫아주어야 한다."
   ],
   "cell_type": "markdown",
   "metadata": {}
  },
  {
   "cell_type": "code",
   "execution_count": 7,
   "metadata": {},
   "outputs": [
    {
     "output_type": "stream",
     "name": "stdout",
     "text": [
      "True\n"
     ]
    }
   ],
   "source": [
    "f = open(\"sample.txt\", \"w\")\n",
    "\n",
    "print(f.writable())"
   ]
  },
  {
   "cell_type": "code",
   "execution_count": 8,
   "metadata": {},
   "outputs": [
    {
     "output_type": "execute_result",
     "data": {
      "text/plain": [
       "12"
      ]
     },
     "metadata": {},
     "execution_count": 8
    }
   ],
   "source": [
    "f.write(\"Hello\\nWorld\\n\")"
   ]
  },
  {
   "cell_type": "code",
   "execution_count": 9,
   "metadata": {},
   "outputs": [],
   "source": [
    "f.close()"
   ]
  },
  {
   "source": [
    "write로 Hello World를 적은 코드를 실행해본 뒤, sample.txt을 확인해보니 적용되지 않았다.\n",
    "\n",
    "close()를 이용하여 파일을 닫아주어야 저장이된다.\n",
    "\n",
    "with 구문을 이용하면 파일을 열어 사용한 후 매번 닫아주는 코드를 작성하지 않아도 된다. 앞의 코드는 다음처럼 작성하는 것이 더 좋다."
   ],
   "cell_type": "markdown",
   "metadata": {}
  },
  {
   "cell_type": "code",
   "execution_count": 10,
   "metadata": {},
   "outputs": [
    {
     "output_type": "stream",
     "name": "stdout",
     "text": [
      "True\n"
     ]
    }
   ],
   "source": [
    "with open(\"sample.txt\", \"w\") as f :\n",
    "    print(f.writable())\n",
    "    f.write(\"Hello\\n\\nWorld\\n\")"
   ]
  },
  {
   "cell_type": "code",
   "execution_count": 11,
   "metadata": {},
   "outputs": [],
   "source": [
    "# 이미 있는 파일에 내용을 추가하려면 추가 모드('a')로 열어야 한다.\n",
    "\n",
    "with open(\"sample.txt\",\"a\") as f :\n",
    "    print(\"프린트 함수로 쓸 수 있습니다.\", file = f)\n",
    "\n",
    "# 파일 객체의 write() 함수를 이용해서 데이터를 쓸 수 있지만 print() 함수를 이용해서도 파일에 데이터를 쓸 수 있다."
   ]
  },
  {
   "cell_type": "code",
   "execution_count": 16,
   "metadata": {},
   "outputs": [
    {
     "output_type": "stream",
     "name": "stdout",
     "text": [
      "Hello\n\nWorld\n프린트 함수로 쓸 수 있습니다.\n"
     ]
    }
   ],
   "source": [
    "# 읽기 모드로 파일을 열려면 'r' 모드를 사용한다. 이 모드는 기본값이다.\n",
    "\n",
    "with open(\"sample.txt\", \"r\") as f :\n",
    "    lines = f.readlines()\n",
    "    for line in lines :\n",
    "        print(line.strip())"
   ]
  },
  {
   "source": [
    "- readline() 함수는 한 줄씩 읽고 readlines() 함수는 파일의 모든 라인을 한 번에 읽는다. 이렇게 읽은 데이터는 for 반복문을 이용해 처리할 수 있다.\n",
    "- strip() 함수는 문자열의 앞/뒤 공백문자(줄바꿈 포함)를 없애준다."
   ],
   "cell_type": "markdown",
   "metadata": {}
  },
  {
   "cell_type": "code",
   "execution_count": 15,
   "metadata": {},
   "outputs": [
    {
     "output_type": "stream",
     "name": "stdout",
     "text": [
      "Hello  World 프린트 함수로 쓸 수 있습니다. "
     ]
    }
   ],
   "source": [
    "with open(\"sample.txt\", \"r\") as f :\n",
    "    lines = f.readlines()\n",
    "    for line in lines :\n",
    "        print(line.strip(),end = ' ')"
   ]
  },
  {
   "source": [
    "## 2절. 피클을 이용한 객체 저장하고 불러오기\n",
    "\n",
    "\n",
    "### 형식이 있는 텍스트 데이터\n"
   ],
   "cell_type": "markdown",
   "metadata": {}
  },
  {
   "source": [
    "member.txt\n",
    "\n",
    "------------------------------------------------\n",
    "\n",
    "홍길동,20,kildong@hong.com,서울시 강동구\n",
    "\n",
    "홍길서,25,kilseo@hong.com,서울시 강서구\n",
    "\n",
    "이런 파일 하나 생성하기"
   ],
   "cell_type": "markdown",
   "metadata": {}
  },
  {
   "source": [
    "이러한 형식으로 저장된 데이터를 읽어 사용하려면 다음의 작업들이 반복적으로 수행되어야 한다.\n",
    "- 한 라인씩 읽기\n",
    "- 한 라인을 콤마 등의 구분자로 분리하기\n",
    "- 자료형을 변환하기\n",
    "- NA 또는 없는 필드에 대한 예외 처리하기"
   ],
   "cell_type": "markdown",
   "metadata": {}
  },
  {
   "cell_type": "code",
   "execution_count": 17,
   "metadata": {},
   "outputs": [
    {
     "output_type": "stream",
     "name": "stdout",
     "text": [
      "이름 : 홍길동, 나이 : 20, 이메일 : kildong@hong.com, 주소 : 서울시 강동구\n이름 : 홍길서, 나이 : 25, 이메일 : kilseo@hong.com, 주소 : 서울시 강서구\n"
     ]
    }
   ],
   "source": [
    "f = open(\"member.txt\", \"r\", encoding=\"UTF-8-SIG\")\n",
    "lines = f.readlines()\n",
    "for line in lines :\n",
    "    data = line.strip().split(',')\n",
    "    name = data[0]\n",
    "    age = int(data[1])\n",
    "    email = data[2]\n",
    "    address = data[3]\n",
    "    print(\"이름 : {}, 나이 : {}, 이메일 : {}, 주소 : {}\".format(name, age, email, address))\n",
    "\n",
    "f.close()"
   ]
  },
  {
   "source": [
    "피클 모듈은 리스트나 객체들을 파일에 저장할 때 유용하게 사용된다. 피클 모듈은 파이썬 객체 구조를 저장할 수 있다. 이것을 직렬화라고 한다. 저장한 객체를 다시 불러오는 것은 역직렬화 라고 한다.\n",
    "\n",
    "-------------\n",
    "\n",
    "### 피클링\n",
    "\n",
    "피클링은 파이썬 객체 계층 구조가 바이트 스트림으로 변환되고 언피클링은 바이트 스트림이 다시 객체 계층 구조로 변환된다. 피클링을 위해 dump() 함수를 사용한다.\n",
    "\n"
   ],
   "cell_type": "markdown",
   "metadata": {}
  },
  {
   "cell_type": "code",
   "execution_count": 18,
   "metadata": {},
   "outputs": [],
   "source": [
    "class Member :\n",
    "    def __init__(self, name, age, email, address) :\n",
    "        self.name = name\n",
    "        self.age = age\n",
    "        self.email = email\n",
    "        self.address = address\n",
    "\n",
    "    def __str__(self) :\n",
    "        return \"Name : {}, Age : {}, Email : {}, Address : {}\".format(self.name, self.age, self.email, self.address)\n",
    "\n",
    "user1 = Member(\"홍길동\", 20, \"kildong@hong.com\", \"서울시 강동구\")\n",
    "user2 = Member(\"홍길서\", 20, \"kilseo@hong.com\", \"서울시 강서구\")\n",
    "user_list = [user1, user2]"
   ]
  },
  {
   "cell_type": "code",
   "execution_count": 19,
   "metadata": {},
   "outputs": [],
   "source": [
    "f = open(\"member.data\", \"wb\")\n",
    "import pickle\n",
    "pickle.dump(user_list, f)\n",
    "f.close()"
   ]
  },
  {
   "source": [
    "이렇게 피클링한 파일은 메모장에서는 사람이 읽을 수 없는 바이너리 형태로 저장된다. 피클링에서 중요하게 생각해야 할 것은 객체를 파일에 저장한다는 것이다.\n",
    "\n",
    "### 언피클링\n",
    "\n",
    "피클링한 데이터를 다시 불러오는 것을 언피클링이라고 한다. 언피클링을 위해 load() 함수를 사용한다.\n",
    "\n",
    "다음 코드는 피클링한 객체를 불러오는 예이다. 데이터를 읽어 문자열을 분리하거나 형변환하는 작업을 하지 않아도 된다."
   ],
   "cell_type": "markdown",
   "metadata": {}
  },
  {
   "cell_type": "code",
   "execution_count": 20,
   "metadata": {},
   "outputs": [
    {
     "output_type": "execute_result",
     "data": {
      "text/plain": [
       "list"
      ]
     },
     "metadata": {},
     "execution_count": 20
    }
   ],
   "source": [
    "del user_list\n",
    "import pickle\n",
    "f = open(\"member.data\", \"rb\")\n",
    "user_list = pickle.load(f)\n",
    "type(user_list)"
   ]
  },
  {
   "cell_type": "code",
   "execution_count": 21,
   "metadata": {},
   "outputs": [
    {
     "output_type": "stream",
     "name": "stdout",
     "text": [
      "Name : 홍길동, Age : 20, Email : kildong@hong.com, Address : 서울시 강동구\nName : 홍길서, Age : 20, Email : kilseo@hong.com, Address : 서울시 강서구\n"
     ]
    }
   ],
   "source": [
    "for user in user_list :\n",
    "    print(user)\n",
    "f.close()"
   ]
  },
  {
   "source": [
    "## 3절. CSV 형식 파일 읽기/쓰기\n",
    "\n",
    "member.CSV\n",
    "---------------------------------------------------------------\n",
    "\"홍길동\",20,\"kildong@hong.com\",\"서울시 강동구\"\n",
    "\"홍길서\",25,\"kilseo@hong.com\",\"서울시 강서구\"\n",
    "\n",
    "--------------------------------------------\n",
    "\n",
    "이런 파일 생성"
   ],
   "cell_type": "markdown",
   "metadata": {}
  },
  {
   "cell_type": "code",
   "execution_count": 22,
   "metadata": {},
   "outputs": [
    {
     "output_type": "stream",
     "name": "stdout",
     "text": [
      "['홍길동', 20.0, 'kildong@hong.com', '서울시 강동구']\n['홍길서', 25.0, 'kilseo@hong.com', '서울시 강서구']\n"
     ]
    }
   ],
   "source": [
    "import csv\n",
    "with open('member1.csv', 'r', encoding='UTF-8-SIG') as f :\n",
    "    r = csv.reader(f, quotechar = '\"', quoting = csv.QUOTE_NONNUMERIC)\n",
    "    for row in r :\n",
    "        print(row)\n"
   ]
  },
  {
   "source": [
    "위 코드를 보면 문자는 문자대로, 숫자는 float형식으로 출력된 것을 볼 수 있다."
   ],
   "cell_type": "markdown",
   "metadata": {}
  },
  {
   "cell_type": "code",
   "execution_count": 24,
   "metadata": {},
   "outputs": [],
   "source": [
    "user_list = [['홍길동',20.0,'kildong@hong.com','서울시 강동구'],['홍길서',25.0,'kilseo@hong.com','서울시 강서구']]"
   ]
  },
  {
   "cell_type": "code",
   "execution_count": 25,
   "metadata": {},
   "outputs": [],
   "source": [
    "import csv\n",
    "with open('member2.csv', 'w', newline='', encoding = 'UTF-8-SIG') as f :\n",
    "    w = csv.writer(f)           # 모든 값이 문자로 저장\n",
    "    w.writerows(user_list)"
   ]
  },
  {
   "cell_type": "code",
   "execution_count": 26,
   "metadata": {},
   "outputs": [],
   "source": [
    "import csv\n",
    "with open('member2.csv', 'w', newline='', encoding = 'UTF-8-SIG') as f :\n",
    "    w = csv.writer(f, quoting = csv.QUOTE_NONNUMERIC)       # 문자값만 쌍따옴표로 묶임\n",
    "    w.writerows(user_list)"
   ]
  },
  {
   "source": [
    "### DictReader\n",
    "----------------------------------\n",
    "member3.csv\n",
    "\n",
    "Name,Age,Email,Address\n",
    "\n",
    "홍길동,20,kildong@hong.com,서울시 강동구\n",
    "\n",
    "홍길서,25,kilseo@hong.com,서울시 강서구"
   ],
   "cell_type": "markdown",
   "metadata": {}
  },
  {
   "cell_type": "code",
   "execution_count": 27,
   "metadata": {},
   "outputs": [
    {
     "output_type": "stream",
     "name": "stdout",
     "text": [
      "홍길동 20 kildong@hong.com 서울시 강동구\n홍길서 25 kilseo@hong.com 서울시 강서구\n"
     ]
    }
   ],
   "source": [
    "import csv\n",
    "with open(\"member3.csv\",encoding=\"UTF-8-SIG\") as f :\n",
    "    dict_reader = csv.DictReader(f)\n",
    "    for row in dict_reader :\n",
    "        print(row[\"Name\"],row[\"Age\"],row[\"Email\"],row[\"Address\"])"
   ]
  },
  {
   "source": [
    "csv 파일이 헤더 정보를 포함하고 있지 않다면 fieldnames 속성을 이용해서 필드들의 이름을 지정할 수 있다. 다음 코드는 앞에서 저장했던 memeber1.csv 파일의 내용을 불러올 때 각 필드의 이름을 지정하는 예이다."
   ],
   "cell_type": "markdown",
   "metadata": {}
  },
  {
   "cell_type": "code",
   "execution_count": 28,
   "metadata": {},
   "outputs": [
    {
     "output_type": "stream",
     "name": "stdout",
     "text": [
      "홍길동 20 kildong@hong.com 서울시 강동구\n홍길서 25 kilseo@hong.com 서울시 강서구\n"
     ]
    }
   ],
   "source": [
    "import csv\n",
    "with open(\"member1.csv\",encoding=\"UTF-8-SIG\") as f :\n",
    "    dict_reader = csv.DictReader(f,\n",
    "                                fieldnames=[\"Name\",\"Age\",\"Email\",\"Address\"])\n",
    "    for row in dict_reader :\n",
    "        print(row[\"Name\"],row[\"Age\"],row[\"Email\"],row[\"Address\"])"
   ]
  },
  {
   "source": [
    "다음은 지정한 필드의 이름보다 데이터의 수가 많으면 restkey 속성에 지정한 이름에 값이 저장되는 예이다."
   ],
   "cell_type": "markdown",
   "metadata": {}
  },
  {
   "cell_type": "code",
   "execution_count": 30,
   "metadata": {},
   "outputs": [
    {
     "output_type": "stream",
     "name": "stdout",
     "text": [
      "홍길동 20 kildong@hong.com ['서울시 강동구']\n홍길서 25 kilseo@hong.com ['서울시 강서구']\n"
     ]
    }
   ],
   "source": [
    "import csv\n",
    "with open(\"member1.csv\",encoding=\"UTF-8-SIG\") as f :\n",
    "    dict_reader = csv.DictReader(f,\n",
    "                                fieldnames=[\"Name\",\"Age\",\"Email\"], restkey=\"Etc\")\n",
    "    for row in dict_reader :\n",
    "        print(row[\"Name\"],row[\"Age\"],row[\"Email\"],row[\"Etc\"])"
   ]
  },
  {
   "source": [
    "다음은 지정한 필드의 수보다 값의 수가 적으면 restval 속성에 지정한 값이 저장되는 예이다.\n",
    "\n",
    "member3-2.csv\n",
    "\n",
    "--------------------------------------------------------------------------------\n",
    "\n",
    "Name, Age, Email, Address, Etc\n",
    "\n",
    "홍길동,20,kildong@hong.com,서울시 강동구,동해번쩍\n",
    "\n",
    "홍길서,25,kilseo@hong.com,서울시 강서구"
   ],
   "cell_type": "markdown",
   "metadata": {}
  },
  {
   "cell_type": "code",
   "execution_count": 32,
   "metadata": {},
   "outputs": [
    {
     "output_type": "stream",
     "name": "stdout",
     "text": [
      "{'Name': '홍길동', ' Age': '20', ' Email': 'kildong@hong.com', ' Address': '서울시 강동구', ' Etc': '동해번쩍'}\n{'Name': '홍길서', ' Age': '25', ' Email': 'kilseo@hong.com', ' Address': '서울시 강서구', ' Etc': '없음'}\n"
     ]
    }
   ],
   "source": [
    "import csv\n",
    "with open('member3-2.csv', encoding='UTF-8-SIG') as f :\n",
    "    dict_reader = csv.DictReader(f, restval=\"없음\")\n",
    "    for raw in dict_reader :\n",
    "        print(raw)"
   ]
  },
  {
   "source": [
    "### DictWriter\n",
    "\n",
    "파일에 저장하기 위한 딕셔너리 데이터 준비"
   ],
   "cell_type": "markdown",
   "metadata": {}
  },
  {
   "cell_type": "code",
   "execution_count": 33,
   "metadata": {},
   "outputs": [],
   "source": [
    "user1 = {\"Name\" : \"홍길동\", \"Age\" : 20, \"Email\" : \"kildong@hong.com\", \"Address\" : \"서울시 강동구\"}\n",
    "user2 = {\"Name\" : \"홍길서\", \"Age\" : 25, \"Email\" : \"kilseo@hong.com\", \"Address\" : \"서울시 강서구\"}"
   ]
  },
  {
   "cell_type": "code",
   "execution_count": 34,
   "metadata": {},
   "outputs": [],
   "source": [
    "import csv\n",
    "with open('member4.csv', 'w', newline='', encoding='UTF-8-SIG') as f :\n",
    "    fieldnames = ['Name', 'Age', 'Email', 'Address']\n",
    "    dict_writer = csv.DictWriter(f, fieldnames=fieldnames)\n",
    "    dict_writer.writeheader()\n",
    "    dict_writer.writerow(user1)\n",
    "    dict_writer.writerow(user2)\n",
    "    "
   ]
  },
  {
   "source": [
    "딕셔너리 데이터가 리스트에 저장되어 있으면 writerows() 메서드를 이용하면 리스트의 모든 딕셔너리 데이터를 저장한다."
   ],
   "cell_type": "markdown",
   "metadata": {}
  },
  {
   "cell_type": "code",
   "execution_count": 36,
   "metadata": {},
   "outputs": [],
   "source": [
    "user_list = [{\"Name\" : \"홍길동\", \"Age\" : 20, \"Email\" : \"kildong@hong.com\", \"Address\" : \"서울시 강동구\"}, {\"Name\" : \"홍길서\", \"Age\" : 25, \"Email\" : \"kilseo@hong.com\", \"Address\" : \"서울시 강서구\"}]"
   ]
  },
  {
   "cell_type": "code",
   "execution_count": 39,
   "metadata": {},
   "outputs": [],
   "source": [
    "import csv\n",
    "with open('member5.csv','w', newline= '', encoding = 'UTF-8-SIG') as f :\n",
    "    fieldnames = ['Name','Age','Email','Address']\n",
    "    dict_writer = csv.DictWriter(f, fieldnames = fieldnames)\n",
    "\n",
    "    dict_writer.writeheader()\n",
    "    dict_writer.writerows(user_list)"
   ]
  },
  {
   "source": [
    "만일 저장해야 할 데이터가 필드의 수보다 많은 정보를 가지고 있으면 다음처럼 ValueError가 발생한다."
   ],
   "cell_type": "markdown",
   "metadata": {}
  },
  {
   "cell_type": "code",
   "execution_count": 40,
   "metadata": {},
   "outputs": [
    {
     "output_type": "error",
     "ename": "ValueError",
     "evalue": "dict contains fields not in fieldnames: 'Address'",
     "traceback": [
      "\u001b[1;31m---------------------------------------------------------------------------\u001b[0m",
      "\u001b[1;31mValueError\u001b[0m                                Traceback (most recent call last)",
      "\u001b[1;32m<ipython-input-40-5b7bcb6ca048>\u001b[0m in \u001b[0;36m<module>\u001b[1;34m\u001b[0m\n\u001b[0;32m      5\u001b[0m \u001b[1;33m\u001b[0m\u001b[0m\n\u001b[0;32m      6\u001b[0m     \u001b[0mdict_writer\u001b[0m\u001b[1;33m.\u001b[0m\u001b[0mwriteheader\u001b[0m\u001b[1;33m(\u001b[0m\u001b[1;33m)\u001b[0m\u001b[1;33m\u001b[0m\u001b[1;33m\u001b[0m\u001b[0m\n\u001b[1;32m----> 7\u001b[1;33m     \u001b[0mdict_writer\u001b[0m\u001b[1;33m.\u001b[0m\u001b[0mwriterows\u001b[0m\u001b[1;33m(\u001b[0m\u001b[0muser_list\u001b[0m\u001b[1;33m)\u001b[0m\u001b[1;33m\u001b[0m\u001b[1;33m\u001b[0m\u001b[0m\n\u001b[0m",
      "\u001b[1;32m~\\anaconda3\\envs\\3_Flask\\lib\\csv.py\u001b[0m in \u001b[0;36mwriterows\u001b[1;34m(self, rowdicts)\u001b[0m\n\u001b[0;32m    155\u001b[0m \u001b[1;33m\u001b[0m\u001b[0m\n\u001b[0;32m    156\u001b[0m     \u001b[1;32mdef\u001b[0m \u001b[0mwriterows\u001b[0m\u001b[1;33m(\u001b[0m\u001b[0mself\u001b[0m\u001b[1;33m,\u001b[0m \u001b[0mrowdicts\u001b[0m\u001b[1;33m)\u001b[0m\u001b[1;33m:\u001b[0m\u001b[1;33m\u001b[0m\u001b[1;33m\u001b[0m\u001b[0m\n\u001b[1;32m--> 157\u001b[1;33m         \u001b[1;32mreturn\u001b[0m \u001b[0mself\u001b[0m\u001b[1;33m.\u001b[0m\u001b[0mwriter\u001b[0m\u001b[1;33m.\u001b[0m\u001b[0mwriterows\u001b[0m\u001b[1;33m(\u001b[0m\u001b[0mmap\u001b[0m\u001b[1;33m(\u001b[0m\u001b[0mself\u001b[0m\u001b[1;33m.\u001b[0m\u001b[0m_dict_to_list\u001b[0m\u001b[1;33m,\u001b[0m \u001b[0mrowdicts\u001b[0m\u001b[1;33m)\u001b[0m\u001b[1;33m)\u001b[0m\u001b[1;33m\u001b[0m\u001b[1;33m\u001b[0m\u001b[0m\n\u001b[0m\u001b[0;32m    158\u001b[0m \u001b[1;33m\u001b[0m\u001b[0m\n\u001b[0;32m    159\u001b[0m \u001b[1;31m# Guard Sniffer's type checking against builds that exclude complex()\u001b[0m\u001b[1;33m\u001b[0m\u001b[1;33m\u001b[0m\u001b[1;33m\u001b[0m\u001b[0m\n",
      "\u001b[1;32m~\\anaconda3\\envs\\3_Flask\\lib\\csv.py\u001b[0m in \u001b[0;36m_dict_to_list\u001b[1;34m(self, rowdict)\u001b[0m\n\u001b[0;32m    147\u001b[0m             \u001b[0mwrong_fields\u001b[0m \u001b[1;33m=\u001b[0m \u001b[0mrowdict\u001b[0m\u001b[1;33m.\u001b[0m\u001b[0mkeys\u001b[0m\u001b[1;33m(\u001b[0m\u001b[1;33m)\u001b[0m \u001b[1;33m-\u001b[0m \u001b[0mself\u001b[0m\u001b[1;33m.\u001b[0m\u001b[0mfieldnames\u001b[0m\u001b[1;33m\u001b[0m\u001b[1;33m\u001b[0m\u001b[0m\n\u001b[0;32m    148\u001b[0m             \u001b[1;32mif\u001b[0m \u001b[0mwrong_fields\u001b[0m\u001b[1;33m:\u001b[0m\u001b[1;33m\u001b[0m\u001b[1;33m\u001b[0m\u001b[0m\n\u001b[1;32m--> 149\u001b[1;33m                 raise ValueError(\"dict contains fields not in fieldnames: \"\n\u001b[0m\u001b[0;32m    150\u001b[0m                                  + \", \".join([repr(x) for x in wrong_fields]))\n\u001b[0;32m    151\u001b[0m         \u001b[1;32mreturn\u001b[0m \u001b[1;33m(\u001b[0m\u001b[0mrowdict\u001b[0m\u001b[1;33m.\u001b[0m\u001b[0mget\u001b[0m\u001b[1;33m(\u001b[0m\u001b[0mkey\u001b[0m\u001b[1;33m,\u001b[0m \u001b[0mself\u001b[0m\u001b[1;33m.\u001b[0m\u001b[0mrestval\u001b[0m\u001b[1;33m)\u001b[0m \u001b[1;32mfor\u001b[0m \u001b[0mkey\u001b[0m \u001b[1;32min\u001b[0m \u001b[0mself\u001b[0m\u001b[1;33m.\u001b[0m\u001b[0mfieldnames\u001b[0m\u001b[1;33m)\u001b[0m\u001b[1;33m\u001b[0m\u001b[1;33m\u001b[0m\u001b[0m\n",
      "\u001b[1;31mValueError\u001b[0m: dict contains fields not in fieldnames: 'Address'"
     ]
    }
   ],
   "source": [
    "import csv\n",
    "with open('member5.csv', 'w', newline='', encoding='UTF-8-SIG') as f :\n",
    "    fieldnames = ['Name', 'Age', 'Email']\n",
    "    dict_writer = csv.DictWriter(f, fieldnames=fieldnames)\n",
    "\n",
    "    dict_writer.writeheader()\n",
    "    dict_writer.writerows(user_list)"
   ]
  },
  {
   "source": [
    "extrasaction 속성의 값이 'ignore'이면 지정한 필드에 없는 딕셔너리 데이터를 무시한다."
   ],
   "cell_type": "markdown",
   "metadata": {}
  },
  {
   "cell_type": "code",
   "execution_count": 41,
   "metadata": {},
   "outputs": [],
   "source": [
    "import csv\n",
    "with open('member5-2.csv', 'w', newline='', encoding='UTF-8-SIG') as f :\n",
    "    fieldnames = ['Name', 'Age', 'Email']\n",
    "    dict_writer = csv.DictWriter(f, fieldnames=fieldnames, extrasaction='ignore')\n",
    "\n",
    "    dict_writer.writeheader()\n",
    "    dict_writer.writerows(user_list)"
   ]
  },
  {
   "source": [
    "## 4절. JSON 데이터 저장하고 불러오기\n",
    "\n",
    "### JSON 데이터 저장하기\n",
    "\n",
    "다음 코드는 파이썬 객체를 JSON 형식으로 파일에 저장한다."
   ],
   "cell_type": "markdown",
   "metadata": {}
  },
  {
   "cell_type": "code",
   "execution_count": 42,
   "metadata": {},
   "outputs": [],
   "source": [
    "data = ['foo', {'bar' : ('baz', None, 1.0, 2)}]\n",
    "\n",
    "import json\n",
    "with open('sample.json', 'w') as jsonfile :\n",
    "    json.dump(data, jsonfile)"
   ]
  },
  {
   "cell_type": "code",
   "execution_count": 44,
   "metadata": {},
   "outputs": [],
   "source": [
    "data = ['foo', {'bar' : ('baz', None, 1.0, 2)}]\n",
    "\n",
    "import json\n",
    "with open('sample1.json', 'w') as jsonfile :\n",
    "    json.dump(data, jsonfile, indent = True)"
   ]
  },
  {
   "source": [
    "### default를 이용한 JSON 형식으로 객체 저장"
   ],
   "cell_type": "markdown",
   "metadata": {}
  },
  {
   "cell_type": "code",
   "execution_count": 45,
   "metadata": {},
   "outputs": [],
   "source": [
    "class Member :\n",
    "    def __init__(self, name, age, email, address) :\n",
    "        self.name = name\n",
    "        self.age = age\n",
    "        self.email = email\n",
    "        self.address = address\n",
    "\n",
    "    def as_dict(self) :\n",
    "        return {'name' : self.name, 'age' : self.age, 'email' : self.email, 'address' : self.address}"
   ]
  },
  {
   "cell_type": "code",
   "execution_count": 46,
   "metadata": {},
   "outputs": [],
   "source": [
    "user1 = Member('홍길동',20,'kildong@hong.com', '서울시 강동구')\n",
    "user2 = Member('홍길서',25,'kilseo@hong.com', '서울시 강서구')\n",
    "user_list = [user1, user2]"
   ]
  },
  {
   "cell_type": "code",
   "execution_count": 47,
   "metadata": {},
   "outputs": [],
   "source": [
    "import json\n",
    "with open('member.json','w',encoding='UTF-8-SIG') as jsonfile :\n",
    "    json.dump(user_list, jsonfile, ensure_ascii=False, indent=\"\\t\", default = Member.as_dict)"
   ]
  },
  {
   "source": [
    "### JSON load\n",
    "\n",
    "다음 코드는 앞에서 저장한 member.json 파일 데이터를 불러와서 출력한다."
   ],
   "cell_type": "markdown",
   "metadata": {}
  },
  {
   "cell_type": "code",
   "execution_count": 1,
   "metadata": {},
   "outputs": [
    {
     "output_type": "stream",
     "name": "stdout",
     "text": [
      "[{'name': '홍길동', 'age': 20, 'email': 'kildong@hong.com', 'address': '서울시 강동구'}, {'name': '홍길서', 'age': 25, 'email': 'kilseo@hong.com', 'address': '서울시 강서구'}]\n"
     ]
    }
   ],
   "source": [
    "import json\n",
    "with open('member.json', encoding='UTF-8-SIG') as jsonfile :\n",
    "    user_list = json.load(jsonfile)\n",
    "    print(user_list)"
   ]
  },
  {
   "source": [
    "### object_hook을 이용한 JSON 파일을 객체로 역직렬화\n",
    "\n",
    "다음 코드는 object_hook 매개변수에 역직렬화 메서드를 지정해서 JSON 데이터를 Member 타입 객체로 만드는 예다. 객체의 내용을 출력해 보기 위해 앞에서 작성한 Member 클래스에 __str__() 메서드를 추가했다."
   ],
   "cell_type": "markdown",
   "metadata": {}
  },
  {
   "cell_type": "code",
   "execution_count": 2,
   "metadata": {},
   "outputs": [],
   "source": [
    "class Member :\n",
    "    def __init__(self, name, age, email, address) :\n",
    "        self.name = name\n",
    "        self.age = age\n",
    "        self.email = email\n",
    "        self.address = address\n",
    "\n",
    "    def __str__(self) :\n",
    "        return \"name : {}, age : {}, email : {}, address : {}\".format(self.name, self.age, self.email, self.address)\n",
    "\n",
    "    def as_dict(self) :\n",
    "        return {\"name\" : self.name, \"age\" : self.age, \"email\" : self.email, \"address\" : self.address}"
   ]
  },
  {
   "cell_type": "code",
   "execution_count": 6,
   "metadata": {},
   "outputs": [],
   "source": [
    "def as_member(dct) :\n",
    "    return Member(dct['name'], dct['age'], dct['email'], dct['address'])"
   ]
  },
  {
   "cell_type": "code",
   "execution_count": 7,
   "metadata": {},
   "outputs": [
    {
     "output_type": "stream",
     "name": "stdout",
     "text": [
      "name : 홍길동, age : 20, email : kildong@hong.com, address : 서울시 강동구\nname : 홍길서, age : 25, email : kilseo@hong.com, address : 서울시 강서구\n"
     ]
    }
   ],
   "source": [
    "import json\n",
    "with open('member.json', encoding='UTF-8-SIG') as jsonfile :\n",
    "    user_list = json.load(jsonfile, object_hook=as_member)\n",
    "    for user in user_list :\n",
    "        print(user)"
   ]
  },
  {
   "source": [
    "object_hook 인수로 지정한 as_member 메서드는 JSON 형식 데이터를 한 라인씩 읽을 때마다 호출된다. 그리고 이 메서드가 반환하는 객체 유형으로 변환된다.\n",
    "\n",
    "### 인코더\n",
    "\n",
    "파이썬 객체를 JSON 형식으로 변환하기 위해 JSONEncoder 를 사용할 수 있다. 이 클래스를 상속받아 구현한 클래스 dump() 함수의 cls 인수에 사용될 수 있다.\n",
    "\n",
    "다음 코드는 Member 클래스의 객체를 저장하기 위해 Member 객체를 원하는 타입으로 만드는 인코더 클래스이다. MemberEncoder 클래스의 default() 메서드는 객체를 리스트타입으로 반환하도록 구현했다."
   ],
   "cell_type": "markdown",
   "metadata": {}
  },
  {
   "cell_type": "code",
   "execution_count": 9,
   "metadata": {},
   "outputs": [],
   "source": [
    "import json\n",
    "\n",
    "class MemberEncoder(json.JSONEncoder) :\n",
    "    def default(self, obj) :\n",
    "        if isinstance(obj, Member) :\n",
    "            return [obj.name, obj.age, obj.email, obj.address]\n",
    "        return json.JSONEncoder.default(self, obj)"
   ]
  },
  {
   "source": [
    "다음 코드는 cls 인자 값으로 MemberEncoder 클래스를 지정했다.\n"
   ],
   "cell_type": "markdown",
   "metadata": {}
  },
  {
   "cell_type": "code",
   "execution_count": 10,
   "metadata": {},
   "outputs": [],
   "source": [
    "with open('member2.json', 'w', encoding='UTF-8-SIG') as jsonfile :\n",
    "    json.dump(user_list, jsonfile, indent = '\\t', ensure_ascii=False, cls=MemberEncoder)"
   ]
  },
  {
   "source": [
    "### 디코더\n",
    "\n",
    "JSON 형식 데이터를 파이썬 객체로 변환하기 위해 JSONDecoder 를 사용할 수 있다. 이 클래스를 상속받아 구현한 클래스는 각각 load() 함수의 cls 인자에 사용될 수 있다.\n",
    "\n",
    "다음 코드는 member.json 데이터를 읽어 Member 객체로 반환하는 디코더이다. 사용자정의 디코더를 만들 때 반드시 생성자를 작성해야 한다."
   ],
   "cell_type": "markdown",
   "metadata": {}
  },
  {
   "cell_type": "code",
   "execution_count": 11,
   "metadata": {},
   "outputs": [],
   "source": [
    "import json\n",
    "class MemberDecoder(json.JSONDecoder) :\n",
    "    def __init__(self, *args, **kwargs) :\n",
    "        json.JSONDecoder.__init__(self, object_hook=self.object_hook, *args, **kwargs)\n",
    "\n",
    "    def object_hook(self, obj) :\n",
    "        if('name' in obj) :\n",
    "            return Member(obj['name'], obj['age'], obj['email'], obj['address'])\n",
    "        return json.JSONDecoder.object_hook(self,obj)"
   ]
  },
  {
   "source": [
    "다음 코드는 load() 메서드의 cls 인자에 MemberDecoder를 지정한 예이다."
   ],
   "cell_type": "markdown",
   "metadata": {}
  },
  {
   "cell_type": "code",
   "execution_count": 12,
   "metadata": {},
   "outputs": [
    {
     "output_type": "stream",
     "name": "stdout",
     "text": [
      "name : 홍길동, age : 20, email : kildong@hong.com, address : 서울시 강동구\nname : 홍길서, age : 25, email : kilseo@hong.com, address : 서울시 강서구\n"
     ]
    }
   ],
   "source": [
    "with open('member.json', encoding='UTF-8-SIG') as jsonfile :\n",
    "    user_list = json.load(jsonfile, cls = MemberDecoder)\n",
    "    for user in user_list :\n",
    "        print(user)"
   ]
  },
  {
   "source": [
    "-----------------------------------------------------------------------------------\n",
    "\n",
    "## 파일을 이용한 고객관리 애플리케이션 프로젝트\n",
    "\n",
    "1. 파이썬으로 고객관리 애플리케이션을 작성하세요.\n",
    "- 고객정보는 이름, 전화번호, 나이, 고객등급, 이메일, 기타 특징점이다.\n",
    "- 고객 클래스를 이용하여 정보를 저장하고 리스트를 이용하여 관리해야 한다.\n",
    "- 고객 정보들은 파일에 저장하고 불러올 수 있어야 한다. 데이터 저장은 피클을 사용해라\n",
    "- 리스트 데이터는 CSV 파일로 내보내기 기능이 있어야 한다.\n",
    "- 고객의 정보는 입력, 고객정보 전체 조회, 검색(이름으로 검색) , 삭제(이름으로) 할 수 있어야 한다."
   ],
   "cell_type": "markdown",
   "metadata": {}
  },
  {
   "cell_type": "code",
   "execution_count": 24,
   "metadata": {},
   "outputs": [],
   "source": [
    "# 파이썬 고객관리 어플리게이션\n",
    "\n",
    "class Customer:\n",
    "    def __init__(self, name, phone, email, age, grade, etc) :\n",
    "        self.name = name\n",
    "        self.phone = phone\n",
    "        self.email = email\n",
    "        self.age = age\n",
    "        self.grade = grade\n",
    "        self.etc = etc\n",
    "\n",
    "    def print_info(self) :\n",
    "        print('{:>5} {:<3} {:<15} {:<15} {:>3} {:}'.format('*'*self.grade, self.name, self.phone, self.email, self.age, self.etc))\n",
    "\n",
    "def print_customer(cust_list) :\n",
    "    print(\"\\n======================================================\")\n",
    "    print(\" \"*15,\"고 객 정 보 리 스 트\")\n",
    "    print(\"======================================================\")\n",
    "    print('{:<5} {:<6} {:<15} {:<15} {:>3} {:}'.format(\"GRADE\",\"NAME\",\"PHONE\",\"EMAIL\",\"AGE\",\"ETC\"))\n",
    "    print(\"======================================================\")\n",
    "    for cust in cust_list :\n",
    "        cust.print_info()\n",
    "    print(\"======================================================\")\n",
    "\n",
    "def search_customer(cust_list, name) :\n",
    "    search_list = []\n",
    "    for i, cust in enumerate(cust_list) :\n",
    "        if cust.name == name :\n",
    "            search_list.append(cust_list[i])\n",
    "    return search_list ;\n",
    "\n",
    "def delete_customer(cust_list, name) :\n",
    "    for i, cust in enumerate(cust_list) :\n",
    "        if cust.name == name :\n",
    "            del cust_list[i]\n",
    "            break\n",
    "\n",
    "def insert_customer_info() :\n",
    "    name = input(\"이름 :\")\n",
    "    phone = input(\"전화번호 :\")\n",
    "    email = input(\"이메일 :\")\n",
    "    age = input(\"나이 :\")\n",
    "    grade = input(\"고객등급(1~5) :\")\n",
    "    etc = input(\"기타정보 :\")\n",
    "    cust = Customer(name, phone, email, age, int(grade), etc)\n",
    "    return cust\n",
    "\n",
    "    "
   ]
  },
  {
   "cell_type": "code",
   "execution_count": 18,
   "metadata": {},
   "outputs": [
    {
     "output_type": "stream",
     "name": "stdout",
     "text": [
      "======================================================\n                고 객 정 보 리 스 트\n======================================================\nGRADE NAME   PHONE           EMAIL           AGE ETC\n======================================================\n   ** 홍길동 010-111-1111    test1@test.com   25 tester\n  *** 홍길서 010-222-2222    test2@test.com   25 tester\n======================================================\n"
     ]
    }
   ],
   "source": [
    "cu1 = Customer('홍길동', '010-111-1111', 'test1@test.com', 25,2, 'tester')\n",
    "cu2 = Customer('홍길서', '010-222-2222', 'test2@test.com', 25,3, 'tester')\n",
    "culst = [cu1, cu2]\n",
    "print_customer(culst)"
   ]
  },
  {
   "cell_type": "code",
   "execution_count": 20,
   "metadata": {},
   "outputs": [],
   "source": [
    "def save_customer(cust_list) :\n",
    "    try :\n",
    "        f = open(\"customer_db.data\", \"wb\")\n",
    "        import pickle\n",
    "        pickle.dump(cust_list, f)\n",
    "    except Exception as e :\n",
    "        print(\"데이터 저장 예외 :\", e)\n",
    "    finally :\n",
    "        f.close()\n",
    "\n",
    "def load_customer() :\n",
    "    cust_list = []\n",
    "    try :\n",
    "        f = open(\"customer_db.data\", \"rb\")\n",
    "        import pickle\n",
    "        cust_list = pickle.load(f)\n",
    "    except Exception as e :\n",
    "        print(\"데이터 로드 예외 :\", e)\n",
    "    finally :\n",
    "        try :\n",
    "            f.close()\n",
    "        except Exception :\n",
    "            pass\n",
    "    return cust_list"
   ]
  },
  {
   "cell_type": "code",
   "execution_count": 21,
   "metadata": {},
   "outputs": [],
   "source": [
    "save_customer(culst)"
   ]
  },
  {
   "cell_type": "code",
   "execution_count": 22,
   "metadata": {},
   "outputs": [],
   "source": [
    "def print_menu() :\n",
    "    print(\"1. 입력\", \"2. 전체조회\",\"3. 삭제\",\"4. 찾기\", \"5. 내보내기(CSV)\", \"9. 종료\", sep = \"|\" , end = \"\")\n",
    "    menu = input(\"메뉴 선택 :\")\n",
    "    return int(menu)\n",
    "\n",
    "def save_csv(cust_list) :\n",
    "    try :\n",
    "        file.name = input(\"저장할 파일 이름을 입력하세요.\")\n",
    "        f = open(file.name, \"wt\")\n",
    "        for cust in cust_list :\n",
    "            print(cust.name, cust.phone, cust.email, cust.age, cust.grade, cust.etc, sep = ',' , end = '\\n', flie = f)\n",
    "    except Exception as e :\n",
    "        print(\"예외발생 :\", e)\n",
    "    else :\n",
    "        print(\"CSV 파일이 저장되었습니다. 파일명 :\", file_name)\n",
    "    finally :\n",
    "        f.close()\n",
    "\n",
    "def main() :\n",
    "    cust_list = []\n",
    "\n",
    "    try :\n",
    "        cust_list = load_customer()\n",
    "    except OSError as e :\n",
    "        print(e)\n",
    "    else :\n",
    "        print(\"데이터파일이 로드되었습니다.\")\n",
    "    \n",
    "    while True :\n",
    "        menu = print_menu()\n",
    "        if menu == 1 :\n",
    "            cust = insert_customer_info()\n",
    "            cust_list.append(cust)\n",
    "        elif menu == 2:\n",
    "            print_customer(cust_list)\n",
    "        elif menu == 3 :\n",
    "            name = input(\"삭제할 이름을 입력하세요.\")\n",
    "            delete_customer(cust_list, name)\n",
    "        elif menu == 4:\n",
    "            name = input(\"찾을 고객 이름을 입력하세요.\")\n",
    "            print_customer(search_customer(cust_list, name))\n",
    "        elif menu == 5 :\n",
    "            save_csv(cust_list)\n",
    "        elif menu == 9 :\n",
    "            save_customer(cust_list)\n",
    "            break\n"
   ]
  },
  {
   "cell_type": "code",
   "execution_count": 27,
   "metadata": {},
   "outputs": [
    {
     "output_type": "stream",
     "name": "stdout",
     "text": [
      "데이터파일이 로드되었습니다.\n",
      "1. 입력|2. 전체조회|3. 삭제|4. 찾기|5. 내보내기(CSV)|9. 종료\n",
      "======================================================\n",
      "                고 객 정 보 리 스 트\n",
      "======================================================\n",
      "GRADE NAME   PHONE           EMAIL           AGE ETC\n",
      "======================================================\n",
      "   ** 홍길동 010-111-1111    test1@test.com   25 tester\n",
      "  *** 홍길서 010-222-2222    test2@test.com   25 tester\n",
      "    * 정찬웅 010-333-3333    adslncl@annlcs.com  27 졸림\n",
      "======================================================\n",
      "1. 입력|2. 전체조회|3. 삭제|4. 찾기|5. 내보내기(CSV)|9. 종료"
     ]
    }
   ],
   "source": [
    "if __name__ == '__main__' :\n",
    "    main()"
   ]
  },
  {
   "source": [
    "-----------------------------------------------------------------\n",
    "\n",
    "# 10장. 데이터베이스 연동\n",
    "\n",
    "## 오라클 데이터베이스 연결\n",
    "\n",
    "### cx_Oracle 패키지"
   ],
   "cell_type": "markdown",
   "metadata": {}
  },
  {
   "cell_type": "code",
   "execution_count": 1,
   "metadata": {},
   "outputs": [],
   "source": [
    "import cx_Oracle"
   ]
  },
  {
   "cell_type": "code",
   "execution_count": 3,
   "metadata": {},
   "outputs": [
    {
     "output_type": "execute_result",
     "data": {
      "text/plain": [
       "'(DESCRIPTION=(ADDRESS=(PROTOCOL=TCP)(HOST=localhost)(PORT=1521))(CONNECT_DATA=(SID=xe)))'"
      ]
     },
     "metadata": {},
     "execution_count": 3
    }
   ],
   "source": [
    "oracle_dsn = cx_Oracle.makedsn(host = \"localhost\", port = 1521, sid = \"xe\")\n",
    "oracle_dsn"
   ]
  },
  {
   "cell_type": "code",
   "execution_count": 5,
   "metadata": {},
   "outputs": [
    {
     "output_type": "execute_result",
     "data": {
      "text/plain": [
       "<cx_Oracle.Connection to hr@(DESCRIPTION=(ADDRESS=(PROTOCOL=TCP)(HOST=localhost)(PORT=1521))(CONNECT_DATA=(SID=xe)))>"
      ]
     },
     "metadata": {},
     "execution_count": 5
    }
   ],
   "source": [
    "conn = cx_Oracle.connect(dsn = oracle_dsn, user = \"hr\", password = \"hr1234\")\n",
    "conn"
   ]
  },
  {
   "source": [
    "### EMPLOYEES 테이블 데이터 조회하기\n",
    "\n",
    "쿼리문을 실행시키려면 커서(CURSOR) 객체가 있어야 한다. cursor 객체의 execute() 함수를 이용해 쿼리문을 실행시킨다."
   ],
   "cell_type": "markdown",
   "metadata": {}
  },
  {
   "cell_type": "code",
   "execution_count": 6,
   "metadata": {},
   "outputs": [],
   "source": [
    "cursor = conn.cursor()"
   ]
  },
  {
   "cell_type": "code",
   "execution_count": 7,
   "metadata": {},
   "outputs": [
    {
     "output_type": "execute_result",
     "data": {
      "text/plain": [
       "<cx_Oracle.Cursor on <cx_Oracle.Connection to hr@(DESCRIPTION=(ADDRESS=(PROTOCOL=TCP)(HOST=localhost)(PORT=1521))(CONNECT_DATA=(SID=xe)))>>"
      ]
     },
     "metadata": {},
     "execution_count": 7
    }
   ],
   "source": [
    "sql = \"select first_name, last_name from employees\"\n",
    "cursor.execute(sql)"
   ]
  },
  {
   "cell_type": "code",
   "execution_count": 8,
   "metadata": {},
   "outputs": [
    {
     "output_type": "stream",
     "name": "stdout",
     "text": [
      "('Ellen', 'Abel')\n('Sundar', 'Ande')\n('Mozhe', 'Atkinson')\n('David', 'Austin')\n('Hermann', 'Baer')\n('Shelli', 'Baida')\n('Amit', 'Banda')\n('Elizabeth', 'Bates')\n('Sarah', 'Bell')\n('David', 'Bernstein')\n('Laura', 'Bissot')\n('Harrison', 'Bloom')\n('Alexis', 'Bull')\n('Anthony', 'Cabrio')\n('Gerald', 'Cambrault')\n('Nanette', 'Cambrault')\n('John', 'Chen')\n('Kelly', 'Chung')\n('Karen', 'Colmenares')\n('Curtis', 'Davies')\n('Lex', 'De Haan')\n('Julia', 'Dellinger')\n('Jennifer', 'Dilly')\n('Louise', 'Doran')\n('Bruce', 'Ernst')\n('Alberto', 'Errazuriz')\n('Britney', 'Everett')\n('Daniel', 'Faviet')\n('Pat', 'Fay')\n('Kevin', 'Feeney')\n('Jean', 'Fleaur')\n('Tayler', 'Fox')\n('Adam', 'Fripp')\n('Timothy', 'Gates')\n('Ki', 'Gee')\n('Girard', 'Geoni')\n('William', 'Gietz')\n('Douglas', 'Grant')\n('Kimberely', 'Grant')\n('Nancy', 'Greenberg')\n('Danielle', 'Greene')\n('Peter', 'Hall')\n('Michael', 'Hartstein')\n('Shelley', 'Higgins')\n('Guy', 'Himuro')\n('Alexander', 'Hunold')\n('Alyssa', 'Hutton')\n('Charles', 'Johnson')\n('Vance', 'Jones')\n('Payam', 'Kaufling')\n('Alexander', 'Khoo')\n('Janette', 'King')\n('Steven', 'King')\n('Neena', 'Kochhar')\n('Sundita', 'Kumar')\n('Renske', 'Ladwig')\n('James', 'Landry')\n('David', 'Lee')\n('Jack', 'Livingston')\n('Diana', 'Lorentz')\n('Jason', 'Mallin')\n('Steven', 'Markle')\n('James', 'Marlow')\n('Mattea', 'Marvins')\n('Randall', 'Matos')\n('Susan', 'Mavris')\n('Samuel', 'McCain')\n('Allan', 'McEwen')\n('Irene', 'Mikkilineni')\n('Kevin', 'Mourgos')\n('Julia', 'Nayer')\n('Donald', 'OConnell')\n('Christopher', 'Olsen')\n('TJ', 'Olson')\n('Lisa', 'Ozer')\n('Karen', 'Partners')\n('Valli', 'Pataballa')\n('Joshua', 'Patel')\n('Randall', 'Perkins')\n('Hazel', 'Philtanker')\n('Luis', 'Popp')\n('Trenna', 'Rajs')\n('Den', 'Raphaely')\n('Michael', 'Rogers')\n('John', 'Russell')\n('Nandita', 'Sarchand')\n('Ismael', 'Sciarra')\n('John', 'Seo')\n('Sarath', 'Sewall')\n('Lindsey', 'Smith')\n('William', 'Smith')\n('Stephen', 'Stiles')\n('Martha', 'Sullivan')\n('Patrick', 'Sully')\n('Jonathon', 'Taylor')\n('Winston', 'Taylor')\n('Sigal', 'Tobias')\n('Peter', 'Tucker')\n('Oliver', 'Tuvault')\n('Jose Manuel', 'Urman')\n('Peter', 'Vargas')\n('Clara', 'Vishney')\n('Shanta', 'Vollman')\n('Alana', 'Walsh')\n('Matthew', 'Weiss')\n('Jennifer', 'Whalen')\n('Eleni', 'Zlotkey')\n"
     ]
    }
   ],
   "source": [
    "for name in cursor :\n",
    "    print(name)"
   ]
  },
  {
   "cell_type": "code",
   "execution_count": 9,
   "metadata": {},
   "outputs": [
    {
     "output_type": "stream",
     "name": "stdout",
     "text": [
      "(100, 'Steven', 'King', 'SKING', '515.123.4567', datetime.datetime(2003, 6, 17, 0, 0), 'AD_PRES', 24000.0, None, None, 90)\n(101, 'Neena', 'Kochhar', 'NKOCHHAR', '515.123.4568', datetime.datetime(2005, 9, 21, 0, 0), 'AD_VP', 17000.0, None, 100, 90)\n(102, 'Lex', 'De Haan', 'LDEHAAN', '515.123.4569', datetime.datetime(2001, 1, 13, 0, 0), 'AD_VP', 17000.0, None, 100, 90)\n(103, 'Alexander', 'Hunold', 'AHUNOLD', '590.423.4567', datetime.datetime(2006, 1, 3, 0, 0), 'IT_PROG', 9000.0, None, 102, 60)\n(104, 'Bruce', 'Ernst', 'BERNST', '590.423.4568', datetime.datetime(2007, 5, 21, 0, 0), 'IT_PROG', 6000.0, None, 103, 60)\n(105, 'David', 'Austin', 'DAUSTIN', '590.423.4569', datetime.datetime(2005, 6, 25, 0, 0), 'IT_PROG', 4800.0, None, 103, 60)\n(106, 'Valli', 'Pataballa', 'VPATABAL', '590.423.4560', datetime.datetime(2006, 2, 5, 0, 0), 'IT_PROG', 4800.0, None, 103, 60)\n(107, 'Diana', 'Lorentz', 'DLORENTZ', '590.423.5567', datetime.datetime(2007, 2, 7, 0, 0), 'IT_PROG', 4200.0, None, 103, 60)\n(108, 'Nancy', 'Greenberg', 'NGREENBE', '515.124.4569', datetime.datetime(2002, 8, 17, 0, 0), 'FI_MGR', 12008.0, None, 101, 100)\n(109, 'Daniel', 'Faviet', 'DFAVIET', '515.124.4169', datetime.datetime(2002, 8, 16, 0, 0), 'FI_ACCOUNT', 9000.0, None, 108, 100)\n(110, 'John', 'Chen', 'JCHEN', '515.124.4269', datetime.datetime(2005, 9, 28, 0, 0), 'FI_ACCOUNT', 8200.0, None, 108, 100)\n(111, 'Ismael', 'Sciarra', 'ISCIARRA', '515.124.4369', datetime.datetime(2005, 9, 30, 0, 0), 'FI_ACCOUNT', 7700.0, None, 108, 100)\n(112, 'Jose Manuel', 'Urman', 'JMURMAN', '515.124.4469', datetime.datetime(2006, 3, 7, 0, 0), 'FI_ACCOUNT', 7800.0, None, 108, 100)\n(113, 'Luis', 'Popp', 'LPOPP', '515.124.4567', datetime.datetime(2007, 12, 7, 0, 0), 'FI_ACCOUNT', 6900.0, None, 108, 100)\n(114, 'Den', 'Raphaely', 'DRAPHEAL', '515.127.4561', datetime.datetime(2002, 12, 7, 0, 0), 'PU_MAN', 11000.0, None, 100, 30)\n(115, 'Alexander', 'Khoo', 'AKHOO', '515.127.4562', datetime.datetime(2003, 5, 18, 0, 0), 'PU_CLERK', 3100.0, None, 114, 30)\n(116, 'Shelli', 'Baida', 'SBAIDA', '515.127.4563', datetime.datetime(2005, 12, 24, 0, 0), 'PU_CLERK', 2900.0, None, 114, 30)\n(117, 'Sigal', 'Tobias', 'STOBIAS', '515.127.4564', datetime.datetime(2005, 7, 24, 0, 0), 'PU_CLERK', 2800.0, None, 114, 30)\n(118, 'Guy', 'Himuro', 'GHIMURO', '515.127.4565', datetime.datetime(2006, 11, 15, 0, 0), 'PU_CLERK', 2600.0, None, 114, 30)\n(119, 'Karen', 'Colmenares', 'KCOLMENA', '515.127.4566', datetime.datetime(2007, 8, 10, 0, 0), 'PU_CLERK', 2500.0, None, 114, 30)\n(120, 'Matthew', 'Weiss', 'MWEISS', '650.123.1234', datetime.datetime(2004, 7, 18, 0, 0), 'ST_MAN', 8000.0, None, 100, 50)\n(121, 'Adam', 'Fripp', 'AFRIPP', '650.123.2234', datetime.datetime(2005, 4, 10, 0, 0), 'ST_MAN', 8200.0, None, 100, 50)\n(122, 'Payam', 'Kaufling', 'PKAUFLIN', '650.123.3234', datetime.datetime(2003, 5, 1, 0, 0), 'ST_MAN', 7900.0, None, 100, 50)\n(123, 'Shanta', 'Vollman', 'SVOLLMAN', '650.123.4234', datetime.datetime(2005, 10, 10, 0, 0), 'ST_MAN', 6500.0, None, 100, 50)\n(124, 'Kevin', 'Mourgos', 'KMOURGOS', '650.123.5234', datetime.datetime(2007, 11, 16, 0, 0), 'ST_MAN', 5800.0, None, 100, 50)\n(125, 'Julia', 'Nayer', 'JNAYER', '650.124.1214', datetime.datetime(2005, 7, 16, 0, 0), 'ST_CLERK', 3200.0, None, 120, 50)\n(126, 'Irene', 'Mikkilineni', 'IMIKKILI', '650.124.1224', datetime.datetime(2006, 9, 28, 0, 0), 'ST_CLERK', 2700.0, None, 120, 50)\n(127, 'James', 'Landry', 'JLANDRY', '650.124.1334', datetime.datetime(2007, 1, 14, 0, 0), 'ST_CLERK', 2400.0, None, 120, 50)\n(128, 'Steven', 'Markle', 'SMARKLE', '650.124.1434', datetime.datetime(2008, 3, 8, 0, 0), 'ST_CLERK', 2200.0, None, 120, 50)\n(129, 'Laura', 'Bissot', 'LBISSOT', '650.124.5234', datetime.datetime(2005, 8, 20, 0, 0), 'ST_CLERK', 3300.0, None, 121, 50)\n(130, 'Mozhe', 'Atkinson', 'MATKINSO', '650.124.6234', datetime.datetime(2005, 10, 30, 0, 0), 'ST_CLERK', 2800.0, None, 121, 50)\n(131, 'James', 'Marlow', 'JAMRLOW', '650.124.7234', datetime.datetime(2005, 2, 16, 0, 0), 'ST_CLERK', 2500.0, None, 121, 50)\n(132, 'TJ', 'Olson', 'TJOLSON', '650.124.8234', datetime.datetime(2007, 4, 10, 0, 0), 'ST_CLERK', 2100.0, None, 121, 50)\n(133, 'Jason', 'Mallin', 'JMALLIN', '650.127.1934', datetime.datetime(2004, 6, 14, 0, 0), 'ST_CLERK', 3300.0, None, 122, 50)\n(134, 'Michael', 'Rogers', 'MROGERS', '650.127.1834', datetime.datetime(2006, 8, 26, 0, 0), 'ST_CLERK', 2900.0, None, 122, 50)\n(135, 'Ki', 'Gee', 'KGEE', '650.127.1734', datetime.datetime(2007, 12, 12, 0, 0), 'ST_CLERK', 2400.0, None, 122, 50)\n(136, 'Hazel', 'Philtanker', 'HPHILTAN', '650.127.1634', datetime.datetime(2008, 2, 6, 0, 0), 'ST_CLERK', 2200.0, None, 122, 50)\n(137, 'Renske', 'Ladwig', 'RLADWIG', '650.121.1234', datetime.datetime(2003, 7, 14, 0, 0), 'ST_CLERK', 3600.0, None, 123, 50)\n(138, 'Stephen', 'Stiles', 'SSTILES', '650.121.2034', datetime.datetime(2005, 10, 26, 0, 0), 'ST_CLERK', 3200.0, None, 123, 50)\n(139, 'John', 'Seo', 'JSEO', '650.121.2019', datetime.datetime(2006, 2, 12, 0, 0), 'ST_CLERK', 2700.0, None, 123, 50)\n(140, 'Joshua', 'Patel', 'JPATEL', '650.121.1834', datetime.datetime(2006, 4, 6, 0, 0), 'ST_CLERK', 2500.0, None, 123, 50)\n(141, 'Trenna', 'Rajs', 'TRAJS', '650.121.8009', datetime.datetime(2003, 10, 17, 0, 0), 'ST_CLERK', 3500.0, None, 124, 50)\n(142, 'Curtis', 'Davies', 'CDAVIES', '650.121.2994', datetime.datetime(2005, 1, 29, 0, 0), 'ST_CLERK', 3100.0, None, 124, 50)\n(143, 'Randall', 'Matos', 'RMATOS', '650.121.2874', datetime.datetime(2006, 3, 15, 0, 0), 'ST_CLERK', 2600.0, None, 124, 50)\n(144, 'Peter', 'Vargas', 'PVARGAS', '650.121.2004', datetime.datetime(2006, 7, 9, 0, 0), 'ST_CLERK', 2500.0, None, 124, 50)\n(145, 'John', 'Russell', 'JRUSSEL', '011.44.1344.429268', datetime.datetime(2004, 10, 1, 0, 0), 'SA_MAN', 14000.0, 0.4, 100, 80)\n(146, 'Karen', 'Partners', 'KPARTNER', '011.44.1344.467268', datetime.datetime(2005, 1, 5, 0, 0), 'SA_MAN', 13500.0, 0.3, 100, 80)\n(147, 'Alberto', 'Errazuriz', 'AERRAZUR', '011.44.1344.429278', datetime.datetime(2005, 3, 10, 0, 0), 'SA_MAN', 12000.0, 0.3, 100, 80)\n(148, 'Gerald', 'Cambrault', 'GCAMBRAU', '011.44.1344.619268', datetime.datetime(2007, 10, 15, 0, 0), 'SA_MAN', 11000.0, 0.3, 100, 80)\n(149, 'Eleni', 'Zlotkey', 'EZLOTKEY', '011.44.1344.429018', datetime.datetime(2008, 1, 29, 0, 0), 'SA_MAN', 10500.0, 0.2, 100, 80)\n(150, 'Peter', 'Tucker', 'PTUCKER', '011.44.1344.129268', datetime.datetime(2005, 1, 30, 0, 0), 'SA_REP', 10000.0, 0.3, 145, 80)\n(151, 'David', 'Bernstein', 'DBERNSTE', '011.44.1344.345268', datetime.datetime(2005, 3, 24, 0, 0), 'SA_REP', 9500.0, 0.25, 145, 80)\n(152, 'Peter', 'Hall', 'PHALL', '011.44.1344.478968', datetime.datetime(2005, 8, 20, 0, 0), 'SA_REP', 9000.0, 0.25, 145, 80)\n(153, 'Christopher', 'Olsen', 'COLSEN', '011.44.1344.498718', datetime.datetime(2006, 3, 30, 0, 0), 'SA_REP', 8000.0, 0.2, 145, 80)\n(154, 'Nanette', 'Cambrault', 'NCAMBRAU', '011.44.1344.987668', datetime.datetime(2006, 12, 9, 0, 0), 'SA_REP', 7500.0, 0.2, 145, 80)\n(155, 'Oliver', 'Tuvault', 'OTUVAULT', '011.44.1344.486508', datetime.datetime(2007, 11, 23, 0, 0), 'SA_REP', 7000.0, 0.15, 145, 80)\n(156, 'Janette', 'King', 'JKING', '011.44.1345.429268', datetime.datetime(2004, 1, 30, 0, 0), 'SA_REP', 10000.0, 0.35, 146, 80)\n(157, 'Patrick', 'Sully', 'PSULLY', '011.44.1345.929268', datetime.datetime(2004, 3, 4, 0, 0), 'SA_REP', 9500.0, 0.35, 146, 80)\n(158, 'Allan', 'McEwen', 'AMCEWEN', '011.44.1345.829268', datetime.datetime(2004, 8, 1, 0, 0), 'SA_REP', 9000.0, 0.35, 146, 80)\n(159, 'Lindsey', 'Smith', 'LSMITH', '011.44.1345.729268', datetime.datetime(2005, 3, 10, 0, 0), 'SA_REP', 8000.0, 0.3, 146, 80)\n(160, 'Louise', 'Doran', 'LDORAN', '011.44.1345.629268', datetime.datetime(2005, 12, 15, 0, 0), 'SA_REP', 7500.0, 0.3, 146, 80)\n(161, 'Sarath', 'Sewall', 'SSEWALL', '011.44.1345.529268', datetime.datetime(2006, 11, 3, 0, 0), 'SA_REP', 7000.0, 0.25, 146, 80)\n(162, 'Clara', 'Vishney', 'CVISHNEY', '011.44.1346.129268', datetime.datetime(2005, 11, 11, 0, 0), 'SA_REP', 10500.0, 0.25, 147, 80)\n(163, 'Danielle', 'Greene', 'DGREENE', '011.44.1346.229268', datetime.datetime(2007, 3, 19, 0, 0), 'SA_REP', 9500.0, 0.15, 147, 80)\n(164, 'Mattea', 'Marvins', 'MMARVINS', '011.44.1346.329268', datetime.datetime(2008, 1, 24, 0, 0), 'SA_REP', 7200.0, 0.1, 147, 80)\n(165, 'David', 'Lee', 'DLEE', '011.44.1346.529268', datetime.datetime(2008, 2, 23, 0, 0), 'SA_REP', 6800.0, 0.1, 147, 80)\n(166, 'Sundar', 'Ande', 'SANDE', '011.44.1346.629268', datetime.datetime(2008, 3, 24, 0, 0), 'SA_REP', 6400.0, 0.1, 147, 80)\n(167, 'Amit', 'Banda', 'ABANDA', '011.44.1346.729268', datetime.datetime(2008, 4, 21, 0, 0), 'SA_REP', 6200.0, 0.1, 147, 80)\n(168, 'Lisa', 'Ozer', 'LOZER', '011.44.1343.929268', datetime.datetime(2005, 3, 11, 0, 0), 'SA_REP', 11500.0, 0.25, 148, 80)\n(169, 'Harrison', 'Bloom', 'HBLOOM', '011.44.1343.829268', datetime.datetime(2006, 3, 23, 0, 0), 'SA_REP', 10000.0, 0.2, 148, 80)\n(170, 'Tayler', 'Fox', 'TFOX', '011.44.1343.729268', datetime.datetime(2006, 1, 24, 0, 0), 'SA_REP', 9600.0, 0.2, 148, 80)\n(171, 'William', 'Smith', 'WSMITH', '011.44.1343.629268', datetime.datetime(2007, 2, 23, 0, 0), 'SA_REP', 7400.0, 0.15, 148, 80)\n(172, 'Elizabeth', 'Bates', 'EBATES', '011.44.1343.529268', datetime.datetime(2007, 3, 24, 0, 0), 'SA_REP', 7300.0, 0.15, 148, 80)\n(173, 'Sundita', 'Kumar', 'SKUMAR', '011.44.1343.329268', datetime.datetime(2008, 4, 21, 0, 0), 'SA_REP', 6100.0, 0.1, 148, 80)\n(174, 'Ellen', 'Abel', 'EABEL', '011.44.1644.429267', datetime.datetime(2004, 5, 11, 0, 0), 'SA_REP', 11000.0, 0.3, 149, 80)\n(175, 'Alyssa', 'Hutton', 'AHUTTON', '011.44.1644.429266', datetime.datetime(2005, 3, 19, 0, 0), 'SA_REP', 8800.0, 0.25, 149, 80)\n(176, 'Jonathon', 'Taylor', 'JTAYLOR', '011.44.1644.429265', datetime.datetime(2006, 3, 24, 0, 0), 'SA_REP', 8600.0, 0.2, 149, 80)\n(177, 'Jack', 'Livingston', 'JLIVINGS', '011.44.1644.429264', datetime.datetime(2006, 4, 23, 0, 0), 'SA_REP', 8400.0, 0.2, 149, 80)\n(178, 'Kimberely', 'Grant', 'KGRANT', '011.44.1644.429263', datetime.datetime(2007, 5, 24, 0, 0), 'SA_REP', 7000.0, 0.15, 149, None)\n(179, 'Charles', 'Johnson', 'CJOHNSON', '011.44.1644.429262', datetime.datetime(2008, 1, 4, 0, 0), 'SA_REP', 6200.0, 0.1, 149, 80)\n(180, 'Winston', 'Taylor', 'WTAYLOR', '650.507.9876', datetime.datetime(2006, 1, 24, 0, 0), 'SH_CLERK', 3200.0, None, 120, 50)\n(181, 'Jean', 'Fleaur', 'JFLEAUR', '650.507.9877', datetime.datetime(2006, 2, 23, 0, 0), 'SH_CLERK', 3100.0, None, 120, 50)\n(182, 'Martha', 'Sullivan', 'MSULLIVA', '650.507.9878', datetime.datetime(2007, 6, 21, 0, 0), 'SH_CLERK', 2500.0, None, 120, 50)\n(183, 'Girard', 'Geoni', 'GGEONI', '650.507.9879', datetime.datetime(2008, 2, 3, 0, 0), 'SH_CLERK', 2800.0, None, 120, 50)\n(184, 'Nandita', 'Sarchand', 'NSARCHAN', '650.509.1876', datetime.datetime(2004, 1, 27, 0, 0), 'SH_CLERK', 4200.0, None, 121, 50)\n(185, 'Alexis', 'Bull', 'ABULL', '650.509.2876', datetime.datetime(2005, 2, 20, 0, 0), 'SH_CLERK', 4100.0, None, 121, 50)\n(186, 'Julia', 'Dellinger', 'JDELLING', '650.509.3876', datetime.datetime(2006, 6, 24, 0, 0), 'SH_CLERK', 3400.0, None, 121, 50)\n(187, 'Anthony', 'Cabrio', 'ACABRIO', '650.509.4876', datetime.datetime(2007, 2, 7, 0, 0), 'SH_CLERK', 3000.0, None, 121, 50)\n(188, 'Kelly', 'Chung', 'KCHUNG', '650.505.1876', datetime.datetime(2005, 6, 14, 0, 0), 'SH_CLERK', 3800.0, None, 122, 50)\n(189, 'Jennifer', 'Dilly', 'JDILLY', '650.505.2876', datetime.datetime(2005, 8, 13, 0, 0), 'SH_CLERK', 3600.0, None, 122, 50)\n(190, 'Timothy', 'Gates', 'TGATES', '650.505.3876', datetime.datetime(2006, 7, 11, 0, 0), 'SH_CLERK', 2900.0, None, 122, 50)\n(191, 'Randall', 'Perkins', 'RPERKINS', '650.505.4876', datetime.datetime(2007, 12, 19, 0, 0), 'SH_CLERK', 2500.0, None, 122, 50)\n(192, 'Sarah', 'Bell', 'SBELL', '650.501.1876', datetime.datetime(2004, 2, 4, 0, 0), 'SH_CLERK', 4000.0, None, 123, 50)\n(193, 'Britney', 'Everett', 'BEVERETT', '650.501.2876', datetime.datetime(2005, 3, 3, 0, 0), 'SH_CLERK', 3900.0, None, 123, 50)\n(194, 'Samuel', 'McCain', 'SMCCAIN', '650.501.3876', datetime.datetime(2006, 7, 1, 0, 0), 'SH_CLERK', 3200.0, None, 123, 50)\n(195, 'Vance', 'Jones', 'VJONES', '650.501.4876', datetime.datetime(2007, 3, 17, 0, 0), 'SH_CLERK', 2800.0, None, 123, 50)\n(196, 'Alana', 'Walsh', 'AWALSH', '650.507.9811', datetime.datetime(2006, 4, 24, 0, 0), 'SH_CLERK', 3100.0, None, 124, 50)\n(197, 'Kevin', 'Feeney', 'KFEENEY', '650.507.9822', datetime.datetime(2006, 5, 23, 0, 0), 'SH_CLERK', 3000.0, None, 124, 50)\n(198, 'Donald', 'OConnell', 'DOCONNEL', '650.507.9833', datetime.datetime(2007, 6, 21, 0, 0), 'SH_CLERK', 2600.0, None, 124, 50)\n(199, 'Douglas', 'Grant', 'DGRANT', '650.507.9844', datetime.datetime(2008, 1, 13, 0, 0), 'SH_CLERK', 2600.0, None, 124, 50)\n(200, 'Jennifer', 'Whalen', 'JWHALEN', '515.123.4444', datetime.datetime(2003, 9, 17, 0, 0), 'AD_ASST', 4400.0, None, 101, 10)\n(201, 'Michael', 'Hartstein', 'MHARTSTE', '515.123.5555', datetime.datetime(2004, 2, 17, 0, 0), 'MK_MAN', 13000.0, None, 100, 20)\n(202, 'Pat', 'Fay', 'PFAY', '603.123.6666', datetime.datetime(2005, 8, 17, 0, 0), 'MK_REP', 6000.0, None, 201, 20)\n(203, 'Susan', 'Mavris', 'SMAVRIS', '515.123.7777', datetime.datetime(2002, 6, 7, 0, 0), 'HR_REP', 6500.0, None, 101, 40)\n(204, 'Hermann', 'Baer', 'HBAER', '515.123.8888', datetime.datetime(2002, 6, 7, 0, 0), 'PR_REP', 10000.0, None, 101, 70)\n(205, 'Shelley', 'Higgins', 'SHIGGINS', '515.123.8080', datetime.datetime(2002, 6, 7, 0, 0), 'AC_MGR', 12008.0, None, 101, 110)\n(206, 'William', 'Gietz', 'WGIETZ', '515.123.8181', datetime.datetime(2002, 6, 7, 0, 0), 'AC_ACCOUNT', 8300.0, None, 205, 110)\n"
     ]
    }
   ],
   "source": [
    "cursor.execute(\"select * from employees\")\n",
    "for emp in cursor :\n",
    "    print(emp)"
   ]
  },
  {
   "cell_type": "code",
   "execution_count": 11,
   "metadata": {},
   "outputs": [
    {
     "output_type": "stream",
     "name": "stdout",
     "text": [
      "(120, 'Matthew', 'Weiss', 'MWEISS', '650.123.1234', datetime.datetime(2004, 7, 18, 0, 0), 'ST_MAN', 8000.0, None, 100, 50)\n(121, 'Adam', 'Fripp', 'AFRIPP', '650.123.2234', datetime.datetime(2005, 4, 10, 0, 0), 'ST_MAN', 8200.0, None, 100, 50)\n(122, 'Payam', 'Kaufling', 'PKAUFLIN', '650.123.3234', datetime.datetime(2003, 5, 1, 0, 0), 'ST_MAN', 7900.0, None, 100, 50)\n(123, 'Shanta', 'Vollman', 'SVOLLMAN', '650.123.4234', datetime.datetime(2005, 10, 10, 0, 0), 'ST_MAN', 6500.0, None, 100, 50)\n(124, 'Kevin', 'Mourgos', 'KMOURGOS', '650.123.5234', datetime.datetime(2007, 11, 16, 0, 0), 'ST_MAN', 5800.0, None, 100, 50)\n(125, 'Julia', 'Nayer', 'JNAYER', '650.124.1214', datetime.datetime(2005, 7, 16, 0, 0), 'ST_CLERK', 3200.0, None, 120, 50)\n(126, 'Irene', 'Mikkilineni', 'IMIKKILI', '650.124.1224', datetime.datetime(2006, 9, 28, 0, 0), 'ST_CLERK', 2700.0, None, 120, 50)\n(127, 'James', 'Landry', 'JLANDRY', '650.124.1334', datetime.datetime(2007, 1, 14, 0, 0), 'ST_CLERK', 2400.0, None, 120, 50)\n(128, 'Steven', 'Markle', 'SMARKLE', '650.124.1434', datetime.datetime(2008, 3, 8, 0, 0), 'ST_CLERK', 2200.0, None, 120, 50)\n(129, 'Laura', 'Bissot', 'LBISSOT', '650.124.5234', datetime.datetime(2005, 8, 20, 0, 0), 'ST_CLERK', 3300.0, None, 121, 50)\n(130, 'Mozhe', 'Atkinson', 'MATKINSO', '650.124.6234', datetime.datetime(2005, 10, 30, 0, 0), 'ST_CLERK', 2800.0, None, 121, 50)\n(131, 'James', 'Marlow', 'JAMRLOW', '650.124.7234', datetime.datetime(2005, 2, 16, 0, 0), 'ST_CLERK', 2500.0, None, 121, 50)\n(132, 'TJ', 'Olson', 'TJOLSON', '650.124.8234', datetime.datetime(2007, 4, 10, 0, 0), 'ST_CLERK', 2100.0, None, 121, 50)\n(133, 'Jason', 'Mallin', 'JMALLIN', '650.127.1934', datetime.datetime(2004, 6, 14, 0, 0), 'ST_CLERK', 3300.0, None, 122, 50)\n(134, 'Michael', 'Rogers', 'MROGERS', '650.127.1834', datetime.datetime(2006, 8, 26, 0, 0), 'ST_CLERK', 2900.0, None, 122, 50)\n(135, 'Ki', 'Gee', 'KGEE', '650.127.1734', datetime.datetime(2007, 12, 12, 0, 0), 'ST_CLERK', 2400.0, None, 122, 50)\n(136, 'Hazel', 'Philtanker', 'HPHILTAN', '650.127.1634', datetime.datetime(2008, 2, 6, 0, 0), 'ST_CLERK', 2200.0, None, 122, 50)\n(137, 'Renske', 'Ladwig', 'RLADWIG', '650.121.1234', datetime.datetime(2003, 7, 14, 0, 0), 'ST_CLERK', 3600.0, None, 123, 50)\n(138, 'Stephen', 'Stiles', 'SSTILES', '650.121.2034', datetime.datetime(2005, 10, 26, 0, 0), 'ST_CLERK', 3200.0, None, 123, 50)\n(139, 'John', 'Seo', 'JSEO', '650.121.2019', datetime.datetime(2006, 2, 12, 0, 0), 'ST_CLERK', 2700.0, None, 123, 50)\n(140, 'Joshua', 'Patel', 'JPATEL', '650.121.1834', datetime.datetime(2006, 4, 6, 0, 0), 'ST_CLERK', 2500.0, None, 123, 50)\n(141, 'Trenna', 'Rajs', 'TRAJS', '650.121.8009', datetime.datetime(2003, 10, 17, 0, 0), 'ST_CLERK', 3500.0, None, 124, 50)\n(142, 'Curtis', 'Davies', 'CDAVIES', '650.121.2994', datetime.datetime(2005, 1, 29, 0, 0), 'ST_CLERK', 3100.0, None, 124, 50)\n(143, 'Randall', 'Matos', 'RMATOS', '650.121.2874', datetime.datetime(2006, 3, 15, 0, 0), 'ST_CLERK', 2600.0, None, 124, 50)\n(144, 'Peter', 'Vargas', 'PVARGAS', '650.121.2004', datetime.datetime(2006, 7, 9, 0, 0), 'ST_CLERK', 2500.0, None, 124, 50)\n(180, 'Winston', 'Taylor', 'WTAYLOR', '650.507.9876', datetime.datetime(2006, 1, 24, 0, 0), 'SH_CLERK', 3200.0, None, 120, 50)\n(181, 'Jean', 'Fleaur', 'JFLEAUR', '650.507.9877', datetime.datetime(2006, 2, 23, 0, 0), 'SH_CLERK', 3100.0, None, 120, 50)\n(182, 'Martha', 'Sullivan', 'MSULLIVA', '650.507.9878', datetime.datetime(2007, 6, 21, 0, 0), 'SH_CLERK', 2500.0, None, 120, 50)\n(183, 'Girard', 'Geoni', 'GGEONI', '650.507.9879', datetime.datetime(2008, 2, 3, 0, 0), 'SH_CLERK', 2800.0, None, 120, 50)\n(184, 'Nandita', 'Sarchand', 'NSARCHAN', '650.509.1876', datetime.datetime(2004, 1, 27, 0, 0), 'SH_CLERK', 4200.0, None, 121, 50)\n(185, 'Alexis', 'Bull', 'ABULL', '650.509.2876', datetime.datetime(2005, 2, 20, 0, 0), 'SH_CLERK', 4100.0, None, 121, 50)\n(186, 'Julia', 'Dellinger', 'JDELLING', '650.509.3876', datetime.datetime(2006, 6, 24, 0, 0), 'SH_CLERK', 3400.0, None, 121, 50)\n(187, 'Anthony', 'Cabrio', 'ACABRIO', '650.509.4876', datetime.datetime(2007, 2, 7, 0, 0), 'SH_CLERK', 3000.0, None, 121, 50)\n(188, 'Kelly', 'Chung', 'KCHUNG', '650.505.1876', datetime.datetime(2005, 6, 14, 0, 0), 'SH_CLERK', 3800.0, None, 122, 50)\n(189, 'Jennifer', 'Dilly', 'JDILLY', '650.505.2876', datetime.datetime(2005, 8, 13, 0, 0), 'SH_CLERK', 3600.0, None, 122, 50)\n(190, 'Timothy', 'Gates', 'TGATES', '650.505.3876', datetime.datetime(2006, 7, 11, 0, 0), 'SH_CLERK', 2900.0, None, 122, 50)\n(191, 'Randall', 'Perkins', 'RPERKINS', '650.505.4876', datetime.datetime(2007, 12, 19, 0, 0), 'SH_CLERK', 2500.0, None, 122, 50)\n(192, 'Sarah', 'Bell', 'SBELL', '650.501.1876', datetime.datetime(2004, 2, 4, 0, 0), 'SH_CLERK', 4000.0, None, 123, 50)\n(193, 'Britney', 'Everett', 'BEVERETT', '650.501.2876', datetime.datetime(2005, 3, 3, 0, 0), 'SH_CLERK', 3900.0, None, 123, 50)\n(194, 'Samuel', 'McCain', 'SMCCAIN', '650.501.3876', datetime.datetime(2006, 7, 1, 0, 0), 'SH_CLERK', 3200.0, None, 123, 50)\n(195, 'Vance', 'Jones', 'VJONES', '650.501.4876', datetime.datetime(2007, 3, 17, 0, 0), 'SH_CLERK', 2800.0, None, 123, 50)\n(196, 'Alana', 'Walsh', 'AWALSH', '650.507.9811', datetime.datetime(2006, 4, 24, 0, 0), 'SH_CLERK', 3100.0, None, 124, 50)\n(197, 'Kevin', 'Feeney', 'KFEENEY', '650.507.9822', datetime.datetime(2006, 5, 23, 0, 0), 'SH_CLERK', 3000.0, None, 124, 50)\n(198, 'Donald', 'OConnell', 'DOCONNEL', '650.507.9833', datetime.datetime(2007, 6, 21, 0, 0), 'SH_CLERK', 2600.0, None, 124, 50)\n(199, 'Douglas', 'Grant', 'DGRANT', '650.507.9844', datetime.datetime(2008, 1, 13, 0, 0), 'SH_CLERK', 2600.0, None, 124, 50)\n"
     ]
    }
   ],
   "source": [
    "cursor.execute(\"select * from employees where department_id = : dept_id\", {\"dept_id\" : 50})\n",
    "for emp in cursor :\n",
    "    print(emp)"
   ]
  },
  {
   "cell_type": "code",
   "execution_count": 13,
   "metadata": {},
   "outputs": [
    {
     "output_type": "stream",
     "name": "stdout",
     "text": [
      "(141, 'Trenna', 'Rajs', 'TRAJS', '650.121.8009', datetime.datetime(2003, 10, 17, 0, 0), 'ST_CLERK', 3500.0, None, 124, 50)\n(142, 'Curtis', 'Davies', 'CDAVIES', '650.121.2994', datetime.datetime(2005, 1, 29, 0, 0), 'ST_CLERK', 3100.0, None, 124, 50)\n(143, 'Randall', 'Matos', 'RMATOS', '650.121.2874', datetime.datetime(2006, 3, 15, 0, 0), 'ST_CLERK', 2600.0, None, 124, 50)\n(144, 'Peter', 'Vargas', 'PVARGAS', '650.121.2004', datetime.datetime(2006, 7, 9, 0, 0), 'ST_CLERK', 2500.0, None, 124, 50)\n(196, 'Alana', 'Walsh', 'AWALSH', '650.507.9811', datetime.datetime(2006, 4, 24, 0, 0), 'SH_CLERK', 3100.0, None, 124, 50)\n(197, 'Kevin', 'Feeney', 'KFEENEY', '650.507.9822', datetime.datetime(2006, 5, 23, 0, 0), 'SH_CLERK', 3000.0, None, 124, 50)\n(198, 'Donald', 'OConnell', 'DOCONNEL', '650.507.9833', datetime.datetime(2007, 6, 21, 0, 0), 'SH_CLERK', 2600.0, None, 124, 50)\n(199, 'Douglas', 'Grant', 'DGRANT', '650.507.9844', datetime.datetime(2008, 1, 13, 0, 0), 'SH_CLERK', 2600.0, None, 124, 50)\n"
     ]
    }
   ],
   "source": [
    "params = {\"dept_id\" : 50, \"mgr_id\" : 124}\n",
    "cursor.execute(\"\"\"select * from employees\n",
    "    where department_id =: dept_id and manager_id =:mgr_id\"\"\", **params)\n",
    "\n",
    "for emp in cursor :\n",
    "    print(emp)"
   ]
  },
  {
   "source": [
    "커서를 통해 조회한 데이터베이스 정보를 데이터프레임 형식으로 변환하면 데이터를 분석하기 더 쉽다. pandas 패키지의 DataFrame 패키지를 이용하면 커서로부터 조회한 데이터를 데이터프레임 객체로 변환할 수 있다.\n",
    "\n",
    "다음 코드는 커서로부터 데이터를 추출해 데이터프레임 객체로 만든다."
   ],
   "cell_type": "markdown",
   "metadata": {}
  },
  {
   "cell_type": "code",
   "execution_count": 17,
   "metadata": {},
   "outputs": [
    {
     "output_type": "execute_result",
     "data": {
      "text/plain": [
       "107"
      ]
     },
     "metadata": {},
     "execution_count": 17
    }
   ],
   "source": [
    "cursor.execute(\"select * from employees\")\n",
    "from pandas import DataFrame\n",
    "emp_df = DataFrame(cursor.fetchall())\n",
    "cursor.rowcount"
   ]
  },
  {
   "cell_type": "code",
   "execution_count": 18,
   "metadata": {},
   "outputs": [
    {
     "output_type": "execute_result",
     "data": {
      "text/plain": [
       "    0          1        2         3   ...       7   8      9     10\n",
       "0  100     Steven     King     SKING  ...  24000.0 NaN    NaN  90.0\n",
       "1  101      Neena  Kochhar  NKOCHHAR  ...  17000.0 NaN  100.0  90.0\n",
       "2  102        Lex  De Haan   LDEHAAN  ...  17000.0 NaN  100.0  90.0\n",
       "3  103  Alexander   Hunold   AHUNOLD  ...   9000.0 NaN  102.0  60.0\n",
       "4  104      Bruce    Ernst    BERNST  ...   6000.0 NaN  103.0  60.0\n",
       "\n",
       "[5 rows x 11 columns]"
      ],
      "text/html": "<div>\n<style scoped>\n    .dataframe tbody tr th:only-of-type {\n        vertical-align: middle;\n    }\n\n    .dataframe tbody tr th {\n        vertical-align: top;\n    }\n\n    .dataframe thead th {\n        text-align: right;\n    }\n</style>\n<table border=\"1\" class=\"dataframe\">\n  <thead>\n    <tr style=\"text-align: right;\">\n      <th></th>\n      <th>0</th>\n      <th>1</th>\n      <th>2</th>\n      <th>3</th>\n      <th>4</th>\n      <th>5</th>\n      <th>6</th>\n      <th>7</th>\n      <th>8</th>\n      <th>9</th>\n      <th>10</th>\n    </tr>\n  </thead>\n  <tbody>\n    <tr>\n      <th>0</th>\n      <td>100</td>\n      <td>Steven</td>\n      <td>King</td>\n      <td>SKING</td>\n      <td>515.123.4567</td>\n      <td>2003-06-17</td>\n      <td>AD_PRES</td>\n      <td>24000.0</td>\n      <td>NaN</td>\n      <td>NaN</td>\n      <td>90.0</td>\n    </tr>\n    <tr>\n      <th>1</th>\n      <td>101</td>\n      <td>Neena</td>\n      <td>Kochhar</td>\n      <td>NKOCHHAR</td>\n      <td>515.123.4568</td>\n      <td>2005-09-21</td>\n      <td>AD_VP</td>\n      <td>17000.0</td>\n      <td>NaN</td>\n      <td>100.0</td>\n      <td>90.0</td>\n    </tr>\n    <tr>\n      <th>2</th>\n      <td>102</td>\n      <td>Lex</td>\n      <td>De Haan</td>\n      <td>LDEHAAN</td>\n      <td>515.123.4569</td>\n      <td>2001-01-13</td>\n      <td>AD_VP</td>\n      <td>17000.0</td>\n      <td>NaN</td>\n      <td>100.0</td>\n      <td>90.0</td>\n    </tr>\n    <tr>\n      <th>3</th>\n      <td>103</td>\n      <td>Alexander</td>\n      <td>Hunold</td>\n      <td>AHUNOLD</td>\n      <td>590.423.4567</td>\n      <td>2006-01-03</td>\n      <td>IT_PROG</td>\n      <td>9000.0</td>\n      <td>NaN</td>\n      <td>102.0</td>\n      <td>60.0</td>\n    </tr>\n    <tr>\n      <th>4</th>\n      <td>104</td>\n      <td>Bruce</td>\n      <td>Ernst</td>\n      <td>BERNST</td>\n      <td>590.423.4568</td>\n      <td>2007-05-21</td>\n      <td>IT_PROG</td>\n      <td>6000.0</td>\n      <td>NaN</td>\n      <td>103.0</td>\n      <td>60.0</td>\n    </tr>\n  </tbody>\n</table>\n</div>"
     },
     "metadata": {},
     "execution_count": 18
    }
   ],
   "source": [
    "emp_df.head()"
   ]
  },
  {
   "source": [
    "----------------------------------------------------------------\n",
    "\n",
    "# 회원관리 데이터베이스 애플리케이션 프로젝트"
   ],
   "cell_type": "markdown",
   "metadata": {}
  },
  {
   "cell_type": "code",
   "execution_count": 20,
   "metadata": {},
   "outputs": [],
   "source": [
    "# -*- coding: utf-8 -*-\n",
    "\n",
    "class member:\n",
    "    def __init__(self, name, phone, email, age, grade, etc) :\n",
    "        self.name = name\n",
    "        self.phone = phone\n",
    "        self.email = email\n",
    "        self.age = age\n",
    "        self.grade = grade\n",
    "        self.etc = etc\n",
    "\n",
    "    def __str__(self) :\n",
    "        return(\"name : {}, phone : {}, email : {}, age : {}, grade : {}, etc : {}\".format(self.name, self.phone, self.email, self.age, self.grade, self.etc))\n",
    "\n",
    "    def to_dict(self) :\n",
    "        return {\"name\" : self.name, \"phone\" : self.phone, \"email\" : self.email, \"age\" : self.age, \"grade\" : self.grade, \"etc\" : self.etc}    "
   ]
  },
  {
   "cell_type": "code",
   "execution_count": 21,
   "metadata": {},
   "outputs": [],
   "source": [
    "#%% 회원 정보를 입력받아 데이터베이스에 저장하는 함수이다.\n",
    "\n",
    "def insert_member_info() :\n",
    "    cursor = conn.cursor()\n",
    "    name = input(\"이름 : \")\n",
    "    phone = input(\"전화번호 :\")\n",
    "    email = input(\"이메일 :\")\n",
    "    age = int(input(\"나이 :\"))\n",
    "    grade = int(input(\"고객등급(1~5) :\"))\n",
    "    etc = input(\"기타정보 :\")\n",
    "    cust = Customer(name, phone, email, age, int(grade), etc)\n",
    "    sql = '''insert into member values (:name, :phone, :email, :age, :grade, :etc)'''\n",
    "    cursor.execute(sql, member.to_dict())"
   ]
  },
  {
   "cell_type": "code",
   "execution_count": 22,
   "metadata": {},
   "outputs": [],
   "source": [
    "#%% 모든 회원 정보를 데이터베이스에서 조회한 후 출력하는 함수이다.\n",
    "\n",
    "def get_all_members() :\n",
    "    cursor = conn.cursor()\n",
    "    cursor.execute(\"select * from member\")\n",
    "    for data in cursor :\n",
    "        print(Member(*data))"
   ]
  },
  {
   "cell_type": "code",
   "execution_count": 23,
   "metadata": {},
   "outputs": [],
   "source": [
    "#%% 이름으로 회원 정보를 조회하는 함수이다.\n",
    "\n",
    "def search_member(name) :\n",
    "    cursor = conn.cursor()\n",
    "    sql = \"select * from member where name = :name\"\n",
    "    cursor.execute(sql, (name,))\n",
    "    for data in cursor :\n",
    "        print(Member(*data))"
   ]
  },
  {
   "cell_type": "code",
   "execution_count": null,
   "metadata": {},
   "outputs": [],
   "source": [
    "#%% 회원의 정보를 삭제하는 함수이다. 삭제는 이메일을 이용해 삭제한다."
   ]
  }
 ]
}