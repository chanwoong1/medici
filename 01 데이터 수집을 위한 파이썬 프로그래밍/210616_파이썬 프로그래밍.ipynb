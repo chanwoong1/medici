{
 "metadata": {
  "language_info": {
   "codemirror_mode": {
    "name": "ipython",
    "version": 3
   },
   "file_extension": ".py",
   "mimetype": "text/x-python",
   "name": "python",
   "nbconvert_exporter": "python",
   "pygments_lexer": "ipython3",
   "version": "3.8.5"
  },
  "orig_nbformat": 4,
  "kernelspec": {
   "name": "python3",
   "display_name": "Python 3.8.5 64-bit ('base': conda)"
  },
  "interpreter": {
   "hash": "3daa3430744053f4748a69c6948da8999f75f0c797f8ffecf263e95f10f995f6"
  }
 },
 "nbformat": 4,
 "nbformat_minor": 2,
 "cells": [
  {
   "source": [
    "# 210616"
   ],
   "cell_type": "markdown",
   "metadata": {}
  },
  {
   "source": [
    "# 6장 모듈과 패키지\n",
    "\n",
    "## 3절. 패키지\n",
    "\n",
    "### 샘플 패키지\n",
    "\n",
    "패키지를 설명하기 위한 임의 패키지 환경을 구성한다. sample_pac 폴더를 생성하여 ab와 cd 폴더(디렉토리)를 생성하고, 각각의 폴더에 '\\_\\_init\\_\\_.py' 라는 파일을 생성한다. 경로는 다음과 같다."
   ],
   "cell_type": "markdown",
   "metadata": {}
  },
  {
   "cell_type": "code",
   "execution_count": null,
   "metadata": {},
   "outputs": [],
   "source": [
    "# sample_pac/__init__.py\n",
    "####################################\n",
    "\n",
    "# -*- coding: utf-8 -*-\n",
    "\n",
    "print('sample_pac 패키지를 import 합니다.')"
   ]
  },
  {
   "cell_type": "code",
   "execution_count": null,
   "metadata": {},
   "outputs": [],
   "source": [
    "# sample_pac/ab/__init__.py\n",
    "####################################\n",
    "\n",
    "# -*- coding: utf-8 -*-\n",
    "\n",
    "__all__ = ['a']\n",
    "\n",
    "print('ab 패키지를 import 합니다.')"
   ]
  },
  {
   "cell_type": "code",
   "execution_count": null,
   "metadata": {},
   "outputs": [],
   "source": [
    "# sample_pac/ab/a.py\n",
    "####################################\n",
    "\n",
    "# -*- coding: utf-8 -*-\n",
    "\n",
    "def hello() :\n",
    "    print('Hello')"
   ]
  },
  {
   "cell_type": "code",
   "execution_count": null,
   "metadata": {},
   "outputs": [],
   "source": [
    "# sample_pac/ab/b.py\n",
    "####################################\n",
    "\n",
    "# -*- coding: utf-8 -*-\n",
    "\n",
    "def world() :\n",
    "    print('World')"
   ]
  },
  {
   "cell_type": "code",
   "execution_count": null,
   "metadata": {},
   "outputs": [],
   "source": [
    "# sample_pac/cd/__init__.py\n",
    "####################################\n",
    "\n",
    "# -*- coding: utf-8 -*-\n",
    "\n",
    "print('cd 패키지를 import 합니다.')"
   ]
  },
  {
   "cell_type": "code",
   "execution_count": null,
   "metadata": {},
   "outputs": [],
   "source": [
    "## 패키지 경로 추가하기\n",
    "\n",
    "import sys\n",
    "sys.path.append(r'C:\\pythonlib')\n",
    "sys.path"
   ]
  },
  {
   "source": [
    "패키지를 가져올 때, 파이썬은 sys.path의 디렉터리를 검샣가여 패키지 하위 디렉터리를 찾는다.\n",
    "\n",
    "패키지의 경로는\n",
    "- sys.path.insert(index, path) or sys.path.append(path) 로 추가하고,\n",
    "- sys.path.remove(path)로 제거할 수 있다.\n",
    "\n",
    "### 패키지 import 방법\n",
    "\n",
    "패키지를 가져오기 하는 방법은 모듈을 가져오기 하는 방법과 크게 다르지 않다. 패키지를 import 하면 해당 디렉터리 안의 \\_\\_init\\_\\_.py 파일을 실행한다."
   ],
   "cell_type": "markdown",
   "metadata": {}
  },
  {
   "cell_type": "code",
   "execution_count": null,
   "metadata": {},
   "outputs": [],
   "source": [
    "import sample_pac"
   ]
  },
  {
   "cell_type": "code",
   "execution_count": null,
   "metadata": {},
   "outputs": [],
   "source": [
    "import sample_pac.ab.a"
   ]
  },
  {
   "source": [
    "상위 패키지를 import 한다고 해서 하위 패키지까지 로드되지 않는다. 하위 패키지를 사용하려면 하위 패키지까지 지정해야 한다.\n",
    "\n",
    "- sample_pac 패키지가 로드된 상태라면 메세지는 출력되지 않는다.\n",
    "\n",
    "패키지를 다시 로드하려면 importlib.reload() 함수를 이용한다."
   ],
   "cell_type": "markdown",
   "metadata": {}
  },
  {
   "cell_type": "code",
   "execution_count": null,
   "metadata": {},
   "outputs": [],
   "source": [
    "import importlib\n",
    "importlib.reload(sample_pac)"
   ]
  },
  {
   "cell_type": "code",
   "execution_count": null,
   "metadata": {},
   "outputs": [],
   "source": [
    "import importlib\n",
    "importlib.reload(sample_pac.ab)\n"
   ]
  },
  {
   "cell_type": "code",
   "execution_count": null,
   "metadata": {},
   "outputs": [],
   "source": [
    "sample_pac.ab.a.hello()"
   ]
  },
  {
   "source": [
    "모듈의 함수들은 전체 이름으로 참조되어야 한다.\n",
    "\n",
    "### from 패키지명 import 모듈명\n",
    "\n",
    "from A import B 형식은 패키지의 하위 패키지 또는 하위 모듈을 가져오는데 사용한다. 이렇게 하면 하위 패키지 또는 모듈을 사용할 때 패키지 접두사 없이 사용할 수 있다."
   ],
   "cell_type": "markdown",
   "metadata": {}
  },
  {
   "cell_type": "code",
   "execution_count": null,
   "metadata": {},
   "outputs": [],
   "source": [
    "from sample_pac.ab import b\n",
    "b.world()"
   ]
  },
  {
   "source": [
    "### from 페키지명.모듈명 import 함수명\n",
    "\n",
    "from A import B 형식의 다른 변형은 원하는 함수 또는 변수를 직접 가져오는 것이다."
   ],
   "cell_type": "markdown",
   "metadata": {}
  },
  {
   "cell_type": "code",
   "execution_count": null,
   "metadata": {},
   "outputs": [],
   "source": [
    "from sample_pac.ab.b import world\n",
    "world()"
   ]
  },
  {
   "source": [
    "- 패키지 가져오기를 사용할 때 요소는 패키지의 하위 모듈이거나 함수, 클래스 또는 변수와 같이 패키지에 정의된 다른 이름 일 수 있다. import 문은 요소가 패키지에 정의돼있는지 먼저 테스트한다. 그렇지 않다면 모듈이라고 가정하고 모듈을 로드하려고 시도한다. 만일 찾지 못하면 ImportError 예외가 발생한다.\n",
    "\n",
    "- 반대로 import item.subitem.subsubitem 과 같은 구문을 사용할 때 마지막 요소를 제외한 각 요소는 패키지여야 한다. 마지막 요소는 모듈이나 패키지가 될 수 있지만 클래스, 함수 그리고 변수는 될 수 없다."
   ],
   "cell_type": "markdown",
   "metadata": {}
  },
  {
   "source": [
    "### from 패키지명 import *"
   ],
   "cell_type": "markdown",
   "metadata": {}
  },
  {
   "cell_type": "code",
   "execution_count": null,
   "metadata": {},
   "outputs": [],
   "source": [
    "from sample_pac.ab import *"
   ]
  },
  {
   "cell_type": "code",
   "execution_count": null,
   "metadata": {},
   "outputs": [],
   "source": [
    "a.hello()"
   ]
  },
  {
   "cell_type": "code",
   "execution_count": null,
   "metadata": {},
   "outputs": [],
   "source": [
    "b.world()"
   ]
  },
  {
   "source": [
    "b.py 모듈을 사용할 수 없는 이유는 앞에서 정의했던 sample_pac/ab/\\_\\_init\\_\\_.py 파일에 포함돼있는 \\_\\_all\\_\\_ = [\"a\"] 속성 때문이다.\n",
    "\n",
    "### \\_\\_init\\_\\_.py 의 \\_\\_all\\_\\_ 속성\n",
    "\n",
    "from ~ import * 을 이용하면 이것이 어떻게든 파일 시스템으로 나가서 패키지에 있는 서브 모듈을 찾아서 모두 가져오기를 바랄 것이다. 그러나 이 작업에는 오랜 시간이 걸릴 수 있으며 원치 않는 부작용이 발생할 수 있다. 부작용이 발생하지 않게 하는 해결책은 패키지 작성자가 패키지의 명시적 색인을 제공하는 것이다.\n",
    "\n",
    "패키지의 \\_\\_init\\_\\_.py 파일에 \\_\\_all\\_\\_ 속성으로 모듈의 목록을 정의하면 패키지 import * 를 사용할 때 해당 모듈들을 import 한다. 새 패키지 버전이 릴리스 될 때 \\_\\_all\\_\\_ 속성의 목록을 최신 상태로 유지하는 것은 패키지 작성자의 몫이다.\n",
    "\n",
    "\\_\\_all\\_\\_ = \\[\"a\"\\] 는 모듈 a를 임포트 한다는 뜻이다. \n"
   ],
   "cell_type": "markdown",
   "metadata": {}
  },
  {
   "source": [
    "### 내부 패키지 참조\n",
    "\n",
    "패키지가 하위 패키지로 구조화되면 형제 패키지의 하위 모듈을 참조하기 위해 절대경로를 이용해 가져오기를 할 수 있다."
   ],
   "cell_type": "markdown",
   "metadata": {}
  },
  {
   "cell_type": "code",
   "execution_count": null,
   "metadata": {},
   "outputs": [],
   "source": [
    "# sample_pac/cd/c.py\n",
    "####################################\n",
    "\n",
    "# -*- coding: utf-8 -*-\n",
    "from .. ab import ab\n",
    "\n",
    "def nice() :\n",
    "    print('Nice')\n",
    "    a.hello()"
   ]
  },
  {
   "source": [
    "위 구문에서 from 뒤의 ..은 현재 패키지의 상위 패키지를 의미한다.\n",
    "\n",
    "- 상대 가져오기는 현재 모듈의 이름을 기반으로 한다.\n",
    "- 주 모듈의 이름은 항상 \"\\_\\_main\\_\\_\"이기 때문에 파이썬 응용프로그램의 주 모듈로 사용되는 모듈은 항상 절대 가져오기를 사용해야한다.\n",
    "- 최상위 모듈에서는 상대 가져오기를 사용할 수 없다."
   ],
   "cell_type": "markdown",
   "metadata": {}
  },
  {
   "source": [
    "### 모듈 디렉터리의 패키지\n",
    "\n",
    "패키지는 \\_\\_path\\_\\_라는 특수 속성을 지원한다. 이것은 파일의 코드가 실행되기 전에 패키지의 \\_\\_init\\_\\_.py를 담고 있는 디렉터리의 이름을 포함하는 리스트로 초기화된다. 이 변수는 수정할 수 있다. 그렇게 하면 패키지에 포함된 모듈 및 하위 패키지에 대한 향후 검색에 영향을 미친다.\n",
    "\n",
    "예를 들기 위해 다음과 같은 상황이 있다고 가정해보자\n",
    "- mpk와 \\_mpk\\_foo라는 패키지를 가지고 있다.\n",
    "- \\_mpk\\_foo 패키지는 foo.py 모듈을 포함하고 있다.property\n",
    "- 다운로드되어 설치된 패키지 mpk는 foo.py 모듈을 포함하고 있지 않다."
   ],
   "cell_type": "markdown",
   "metadata": {}
  },
  {
   "cell_type": "code",
   "execution_count": null,
   "metadata": {},
   "outputs": [],
   "source": [
    "# _mpk_foo/__init__.py\n",
    "####################################\n",
    "\n",
    "# -*- coding: utf-8 -*-\n",
    "print('_mpk_foo loaded')"
   ]
  },
  {
   "cell_type": "code",
   "execution_count": null,
   "metadata": {},
   "outputs": [],
   "source": [
    "# _mpk_foo/foo.py\n",
    "####################################\n",
    "\n",
    "# -*- coding: utf-8 -*-\n",
    "def foo_hello() :\n",
    "    print('foo hello')"
   ]
  },
  {
   "cell_type": "code",
   "execution_count": null,
   "metadata": {},
   "outputs": [],
   "source": [
    "# mpk/bar.py\n",
    "####################################\n",
    "\n",
    "# -*- coding: utf-8 -*-\n",
    "def bar_hello() :\n",
    "    print('bar hello')"
   ]
  },
  {
   "cell_type": "code",
   "execution_count": null,
   "metadata": {},
   "outputs": [],
   "source": [
    "# mpk/__init__.py\n",
    "####################################\n",
    "\n",
    "# -*- coding: utf-8 -*-\n",
    "try :\n",
    "    import os\n",
    "    import _mpk_foo\n",
    "    print(_mpk_foo.__file__)\n",
    "    __path__.append(os.path.abspath(os.path.dirname(_mpk_foo.__file__)))\n",
    "except ImportError :\n",
    "    pass\n",
    "\n",
    "print('mpk loaded')"
   ]
  },
  {
   "source": [
    "- 이렇게 하면 만일 누군가가 \\_mpk\\_foo를 설치했을 때 mpk.foo 모듈을 사용할 수 있고, 그렇지 않다면 mpk.foo 모듈을 사용할 수 없다.\n"
   ],
   "cell_type": "markdown",
   "metadata": {}
  },
  {
   "cell_type": "code",
   "execution_count": null,
   "metadata": {},
   "outputs": [],
   "source": [
    "import sys\n",
    "sys.path"
   ]
  },
  {
   "cell_type": "code",
   "execution_count": null,
   "metadata": {},
   "outputs": [],
   "source": [
    "from mpk import foo"
   ]
  },
  {
   "cell_type": "code",
   "execution_count": null,
   "metadata": {},
   "outputs": [],
   "source": [
    "foo.foo_hello()"
   ]
  },
  {
   "cell_type": "code",
   "execution_count": null,
   "metadata": {},
   "outputs": [],
   "source": [
    "from mpk import bar\n",
    "bar.bar_hello()"
   ]
  },
  {
   "cell_type": "code",
   "execution_count": null,
   "metadata": {},
   "outputs": [],
   "source": [
    "### 패키지 설치 및 삭제\n",
    "\n",
    "1) pip를 이용한 설치\n",
    "\n",
    "2) whl 파일을 이용한 설치\n",
    "\n",
    "3) conda를 이용한 설치"
   ]
  },
  {
   "cell_type": "code",
   "execution_count": null,
   "metadata": {},
   "outputs": [],
   "source": [
    "pip install PyMySQL"
   ]
  },
  {
   "source": [
    "# 7장. 객체지향 프로그래밍\n",
    "\n",
    "## 객체와 클래스\n",
    "\n",
    "### 클래스 선언\n",
    "\n",
    "클래스를 선언할 때 class 키워드를 이용한다.\n",
    "\n",
    "### 객체 생성\n",
    "\n",
    "정의한 클래스는 객체를 만들기 위해 사용한다. 객체를 만들기 위해서 클래스이름과 괄호를 사용한다. 사실 아래의 코드에서 Person()은 생성자라고 부른다 type() 함수를 이용하면 객체가 어떤 클래스인지 확인해볼 수 있다.\n",
    "\n",
    "클래스를 사용하는 가장 큰 이유는 두 가지이다. 첫 번째는 객체를 이용해 데이터를 저장하기 위한 용도이며, 두 번째는 객체 고유의 기능을 갖기 위해서이다.\n",
    "\n",
    "### 변수 추가\n",
    "\n",
    "다음 코드는 Person 클래스에 name과 gender 변수를 추가했다."
   ],
   "cell_type": "markdown",
   "metadata": {}
  },
  {
   "cell_type": "code",
   "execution_count": null,
   "metadata": {},
   "outputs": [],
   "source": [
    "class Person :\n",
    "    name = '홍길동' \n",
    "    gender = \"남자\"\n",
    "\n",
    "p1 = Person()\n",
    "\n",
    "print(p1.name)"
   ]
  },
  {
   "source": [
    "### 메서드 추가\n",
    "\n",
    "다음은 클래스에 메서드를 추가해본다. 클래스 안에 선언한 함수를 메서드라고 부른다. 클래스 안의 메서드는 객체를 이용해 실행시키기 위해서 만든다."
   ],
   "cell_type": "markdown",
   "metadata": {}
  },
  {
   "cell_type": "code",
   "execution_count": 73,
   "metadata": {},
   "outputs": [
    {
     "output_type": "error",
     "ename": "TypeError",
     "evalue": "print_info() takes 0 positional arguments but 1 was given",
     "traceback": [
      "\u001b[1;31m---------------------------------------------------------------------------\u001b[0m",
      "\u001b[1;31mTypeError\u001b[0m                                 Traceback (most recent call last)",
      "\u001b[1;32m<ipython-input-73-4c9ebbddfdba>\u001b[0m in \u001b[0;36m<module>\u001b[1;34m\u001b[0m\n\u001b[0;32m      4\u001b[0m \u001b[1;33m\u001b[0m\u001b[0m\n\u001b[0;32m      5\u001b[0m \u001b[0mp1\u001b[0m \u001b[1;33m=\u001b[0m \u001b[0mPerson\u001b[0m\u001b[1;33m(\u001b[0m\u001b[1;33m)\u001b[0m\u001b[1;33m\u001b[0m\u001b[1;33m\u001b[0m\u001b[0m\n\u001b[1;32m----> 6\u001b[1;33m \u001b[0mp1\u001b[0m\u001b[1;33m.\u001b[0m\u001b[0mprint_info\u001b[0m\u001b[1;33m(\u001b[0m\u001b[1;33m)\u001b[0m\u001b[1;33m\u001b[0m\u001b[1;33m\u001b[0m\u001b[0m\n\u001b[0m",
      "\u001b[1;31mTypeError\u001b[0m: print_info() takes 0 positional arguments but 1 was given"
     ]
    }
   ],
   "source": [
    "class Person :\n",
    "    def print_info() :\n",
    "        print(\"Person 객체입니다.\")\n",
    "        \n",
    "p1 = Person()\n",
    "p1.print_info()"
   ]
  },
  {
   "source": [
    "위 코드는 오류가 뜨는것이 맞다. 그 이유는 밑에서 설명한다.\n",
    "\n",
    "### 클래스를 이용한 참조와 객체를 이용한 참조\n",
    "\n",
    "변수는 클래스 영역과 인스턴스 영역이 분리되어 있기 때문에 클래스의 변수와 객체의 변수가 저장되는 영역이 다르다. 그러므로 p1.name은 p1 객체의 anem 변수를 참조하고, Person.name은 person 클래스의 name 변수를 참조하는 것을 확인할 수 있다. \n",
    "\n",
    "클래스의 함수는 실행할 코드 영역을 가리키는 주소를 참조하기 때문에 p1.print_info()와 Person.print_info()로 메서드를 실행시킬 경우 메서드의 실행할 코드에서 참조하는 변수가 Person 클래스의 변수인지 p1 객체의 변수인지 구분할 수 없다.\n",
    "\n",
    "그래서 클래스에 메서드를 정의할 때에는 메서드가 실행될 때 클래스의 멤버를 참조해야 하는지 아니면 객체의 멤버를 참조해야 하는지를 알려줘야 한다.\n",
    "\n",
    "### 인스턴스 메서드\n",
    "\n",
    "클래스의 함수를 호출할 때 인수로 객체를 전달하면 함수가 실행될 때 전달받은 객체의 변수들을 참조할 수 있다.\n",
    "\n",
    "객체를 이용해 참조할 수 있는 메서드를 인스턴스 메서드라고 부른다. 인스턴스 메서드의 첫 번째 매개변수는 self여야 한다. self 매개변수는 객체의 멤버에 접근하기 위해 사용한다. 위의 Person 클래스의 print_info() 메서드를 다음과 같이 수정해야 한다."
   ],
   "cell_type": "markdown",
   "metadata": {}
  },
  {
   "cell_type": "code",
   "execution_count": 74,
   "metadata": {},
   "outputs": [
    {
     "output_type": "stream",
     "name": "stdout",
     "text": [
      "Person 객체입니다.\n"
     ]
    }
   ],
   "source": [
    "class Person :\n",
    "    def print_info(self) :\n",
    "        print(\"Person 객체입니다.\")\n",
    "        \n",
    "p1 = Person()\n",
    "p1.print_info()"
   ]
  },
  {
   "cell_type": "code",
   "execution_count": 75,
   "metadata": {},
   "outputs": [
    {
     "output_type": "error",
     "ename": "NameError",
     "evalue": "name 'name' is not defined",
     "traceback": [
      "\u001b[1;31m---------------------------------------------------------------------------\u001b[0m",
      "\u001b[1;31mNameError\u001b[0m                                 Traceback (most recent call last)",
      "\u001b[1;32m<ipython-input-75-8cb5b0a859c8>\u001b[0m in \u001b[0;36m<module>\u001b[1;34m\u001b[0m\n\u001b[0;32m      7\u001b[0m \u001b[1;33m\u001b[0m\u001b[0m\n\u001b[0;32m      8\u001b[0m \u001b[0mp1\u001b[0m \u001b[1;33m=\u001b[0m \u001b[0mPerson\u001b[0m\u001b[1;33m(\u001b[0m\u001b[1;33m)\u001b[0m\u001b[1;33m\u001b[0m\u001b[1;33m\u001b[0m\u001b[0m\n\u001b[1;32m----> 9\u001b[1;33m \u001b[0mp1\u001b[0m\u001b[1;33m.\u001b[0m\u001b[0mprint_info\u001b[0m\u001b[1;33m(\u001b[0m\u001b[1;33m)\u001b[0m\u001b[1;33m\u001b[0m\u001b[1;33m\u001b[0m\u001b[0m\n\u001b[0m",
      "\u001b[1;32m<ipython-input-75-8cb5b0a859c8>\u001b[0m in \u001b[0;36mprint_info\u001b[1;34m(self)\u001b[0m\n\u001b[0;32m      4\u001b[0m \u001b[1;33m\u001b[0m\u001b[0m\n\u001b[0;32m      5\u001b[0m     \u001b[1;32mdef\u001b[0m \u001b[0mprint_info\u001b[0m\u001b[1;33m(\u001b[0m\u001b[0mself\u001b[0m\u001b[1;33m)\u001b[0m \u001b[1;33m:\u001b[0m\u001b[1;33m\u001b[0m\u001b[1;33m\u001b[0m\u001b[0m\n\u001b[1;32m----> 6\u001b[1;33m         \u001b[0mprint\u001b[0m\u001b[1;33m(\u001b[0m\u001b[1;34m\"{}님은 {}입니다.\"\u001b[0m\u001b[1;33m.\u001b[0m\u001b[0mformat\u001b[0m\u001b[1;33m(\u001b[0m\u001b[0mname\u001b[0m\u001b[1;33m,\u001b[0m \u001b[0mgender\u001b[0m\u001b[1;33m)\u001b[0m\u001b[1;33m)\u001b[0m\u001b[1;33m\u001b[0m\u001b[1;33m\u001b[0m\u001b[0m\n\u001b[0m\u001b[0;32m      7\u001b[0m \u001b[1;33m\u001b[0m\u001b[0m\n\u001b[0;32m      8\u001b[0m \u001b[0mp1\u001b[0m \u001b[1;33m=\u001b[0m \u001b[0mPerson\u001b[0m\u001b[1;33m(\u001b[0m\u001b[1;33m)\u001b[0m\u001b[1;33m\u001b[0m\u001b[1;33m\u001b[0m\u001b[0m\n",
      "\u001b[1;31mNameError\u001b[0m: name 'name' is not defined"
     ]
    }
   ],
   "source": [
    "class Person :\n",
    "    name = \"홍길동\"\n",
    "    gender = \"남자\"\n",
    "\n",
    "    def print_info(self) :\n",
    "        print(\"{}님은 {}입니다.\".format(name, gender))\n",
    "\n",
    "p1 = Person()\n",
    "p1.print_info()"
   ]
  },
  {
   "source": [
    "위 클래스의 객체를 만들고 print_info() 메서드를 호출하면 name변수와 gender 변수에서 오류가 발생한다.\n",
    "\n",
    "인스턴스 메서드는 객체를 통해 참조하는 메서드이다. 그러므로 객체가 갖는 멤버에 접근하려면 객체 자신을 참조할 수 있는 그 무엇이 있어야 한다. 그래서 자신 객체를 의미하는 self를 메서드의 인자로 정의해서 자신 객체의 멤버를 참조할 수 있도록 하는 것이다. self 대신에 파이썬의 키워드가 아니라면 다른 단어를 사용할 수 있다. 그러나 자신 객체임을 명백히 알리기 위해 self를 사용할 것을 권장한다."
   ],
   "cell_type": "markdown",
   "metadata": {}
  },
  {
   "cell_type": "code",
   "execution_count": 76,
   "metadata": {},
   "outputs": [
    {
     "output_type": "stream",
     "name": "stdout",
     "text": [
      "홍길동\nname : 홍길동 gender : 남자\nname : 홍길동 gender : 남자\n"
     ]
    }
   ],
   "source": [
    "class Person :\n",
    "    name = '홍길동' \n",
    "    gender = \"남자\"\n",
    "    def print_info(self) :\n",
    "        print(\"name :\", self.name, \"gender :\", self.gender)\n",
    "    def print_info_c() :\n",
    "        print(\"name :\", Person.name, \"gender :\", Person.gender)\n",
    "\n",
    "p1 = Person()\n",
    "\n",
    "print(p1.name)\n",
    "p1.print_info()\n",
    "Person.print_info_c()"
   ]
  },
  {
   "cell_type": "code",
   "execution_count": null,
   "metadata": {},
   "outputs": [],
   "source": [
    "class Person :\n",
    "    name = \"홍길동\"\n",
    "    gender = \"남자\"\n",
    "    def test() :\n",
    "        print(\"Test\")\n",
    "\n",
    "Person.__dict__"
   ]
  },
  {
   "cell_type": "code",
   "execution_count": null,
   "metadata": {},
   "outputs": [],
   "source": [
    "p1 = Person()\n",
    "print(p1.__dict__)\n",
    "print(p1.name)\n",
    "p1.name = \"이순신\"\n",
    "print(p1.name)\n",
    "print(Person.__dict__)\n",
    "print(p1.__dict__)"
   ]
  },
  {
   "cell_type": "code",
   "execution_count": null,
   "metadata": {},
   "outputs": [],
   "source": [
    "p1 = Person()\n",
    "p1.test()"
   ]
  },
  {
   "cell_type": "code",
   "execution_count": null,
   "metadata": {},
   "outputs": [],
   "source": [
    "class Person :\n",
    "    name = \"홍길동\"\n",
    "    gender = \"남자\"\n",
    "    def test() :\n",
    "        print(\"Test\")\n",
    "    def aaa(self) :\n",
    "        self.name = \"이순신\"\n",
    "        print(\"aaa\")\n",
    "\n",
    "Person.__dict__"
   ]
  },
  {
   "cell_type": "code",
   "execution_count": null,
   "metadata": {},
   "outputs": [],
   "source": [
    "p1 = Person()\n",
    "print(p1.__dict__)\n",
    "p1.aaa()\n",
    "Person.test()\n",
    "print(p1.__dict__)\n",
    "print(Person.__dict__)"
   ]
  },
  {
   "cell_type": "code",
   "execution_count": null,
   "metadata": {},
   "outputs": [],
   "source": [
    "class Person :\n",
    "    name = \"홍길동\"\n",
    "    gender = \"남자\"\n",
    "    def test() :\n",
    "        aaa = 10\n",
    "        Person.name = \"안중근\"\n",
    "        print(\"Test\")\n",
    "    def aaa(self, name) :\n",
    "        self.name = name\n",
    "        print(\"aaa\")\n",
    "\n",
    "    def print_info(self) :\n",
    "        print(\"Person 객체입니다.\")\n",
    "    \n",
    "p1 = Person()\n",
    "p1.print_info()\n"
   ]
  },
  {
   "cell_type": "code",
   "execution_count": null,
   "metadata": {},
   "outputs": [],
   "source": [
    "class Person :\n",
    "    name = \"홍길동\"\n",
    "    gender = \"남자\"\n",
    "    def print_info(self) :\n",
    "        print(\"{}님은 {}입니다.\".format(self.name, self.gender))\n",
    "    def info() :\n",
    "        print(\"{}님은 {}입니다.\".format(Person.name, Person.gender))\n",
    "\n",
    "p1 = Person()\n",
    "p1.print_info()"
   ]
  },
  {
   "cell_type": "code",
   "execution_count": 48,
   "metadata": {},
   "outputs": [
    {
     "output_type": "stream",
     "name": "stdout",
     "text": [
      "Person 객체(2185739759232)를 생성합니다.\n"
     ]
    }
   ],
   "source": [
    "class Person :\n",
    "    def __init__(self) :\n",
    "        print(\"Person 객체({})를 생성합니다.\".format(id(self)))\n",
    "        self.name = \"홍길동\"\n",
    "        self.gender = \"남자\"\n",
    "\n",
    "    def __del__(init) :\n",
    "        print(\"Person 객체({})를 소멸시킵니다.\".format(id(self)))\n",
    "\n",
    "    def print_info(self) :\n",
    "        print(\"{}님은 {}입니다.\".format(self.name, self.gender))\n",
    "\n",
    "p1 = Person()"
   ]
  },
  {
   "cell_type": "code",
   "execution_count": null,
   "metadata": {},
   "outputs": [],
   "source": [
    "p1.print_info()\n"
   ]
  },
  {
   "cell_type": "code",
   "execution_count": null,
   "metadata": {},
   "outputs": [],
   "source": [
    "Person.__dict__"
   ]
  },
  {
   "cell_type": "code",
   "execution_count": 49,
   "metadata": {},
   "outputs": [
    {
     "output_type": "execute_result",
     "data": {
      "text/plain": [
       "{'name': '홍길동', 'gender': '남자'}"
      ]
     },
     "metadata": {},
     "execution_count": 49
    }
   ],
   "source": [
    "p1.__dict__"
   ]
  },
  {
   "cell_type": "code",
   "execution_count": 56,
   "metadata": {},
   "outputs": [
    {
     "output_type": "stream",
     "name": "stdout",
     "text": [
      "Person 객체(2185738708640)를 생성합니다.\n"
     ]
    }
   ],
   "source": [
    "p1 = Person()"
   ]
  },
  {
   "cell_type": "code",
   "execution_count": 57,
   "metadata": {},
   "outputs": [
    {
     "output_type": "execute_result",
     "data": {
      "text/plain": [
       "2"
      ]
     },
     "metadata": {},
     "execution_count": 57
    }
   ],
   "source": [
    "import sys\n",
    "sys.getrefcount(p1)"
   ]
  },
  {
   "cell_type": "code",
   "execution_count": 52,
   "metadata": {},
   "outputs": [
    {
     "output_type": "execute_result",
     "data": {
      "text/plain": [
       "3"
      ]
     },
     "metadata": {},
     "execution_count": 52
    }
   ],
   "source": [
    "p2 = p1\n",
    "sys.getrefcount(p2)"
   ]
  },
  {
   "cell_type": "code",
   "execution_count": 53,
   "metadata": {},
   "outputs": [],
   "source": [
    "del p2"
   ]
  },
  {
   "cell_type": "code",
   "execution_count": 54,
   "metadata": {},
   "outputs": [],
   "source": [
    "del p1"
   ]
  },
  {
   "cell_type": "code",
   "execution_count": 58,
   "metadata": {},
   "outputs": [
    {
     "output_type": "stream",
     "name": "stdout",
     "text": [
      "Person 객체(홍길서,여자)를 생성홥니다.\n"
     ]
    },
    {
     "output_type": "execute_result",
     "data": {
      "text/plain": [
       "{'name': '홍길서', 'gender': '여자'}"
      ]
     },
     "metadata": {},
     "execution_count": 58
    }
   ],
   "source": [
    "class Person :\n",
    "    def __init__(self, name, gender) :\n",
    "        print(\"Person 객체({},{})를 생성홥니다.\".format(name, gender))\n",
    "        self.name = name\n",
    "        self.gender = gender\n",
    "    def __del__(self) :\n",
    "        print(\"Person 객체({},{})를 소멸시킵니다.\".format(self.name, self.gender))\n",
    "    def print_info(self) :\n",
    "        print(\"{}님은 {}입니다.\".format(self.name, self.gender))\n",
    "\n",
    "\n",
    "p1 = Person(\"홍길서\", \"여자\")\n",
    "p1.__dict__"
   ]
  },
  {
   "cell_type": "code",
   "execution_count": 59,
   "metadata": {},
   "outputs": [],
   "source": [
    "del p1"
   ]
  },
  {
   "source": [
    "### 상속\n",
    "상속은 객체 재사용의 한 방법이다. 상속을 이용하면 부모 클래스의 모든 속성들을 자식 클래스로 물려줄 수 있다.\n",
    "\n",
    "다음 코드는 Person 클래스를 정의하고 Person 클래스를 상속받는 Student 클래스를 정의하는 예이다. 현재는 클래스에 아무것도 구현하지 않았으므로 pass를 포함시켰다."
   ],
   "cell_type": "markdown",
   "metadata": {}
  },
  {
   "cell_type": "code",
   "execution_count": 60,
   "metadata": {},
   "outputs": [],
   "source": [
    "class Person:\n",
    "    pass"
   ]
  },
  {
   "cell_type": "code",
   "execution_count": 61,
   "metadata": {},
   "outputs": [],
   "source": [
    "class Student(Person) :\n",
    "    pass"
   ]
  },
  {
   "cell_type": "code",
   "execution_count": 62,
   "metadata": {},
   "outputs": [
    {
     "output_type": "execute_result",
     "data": {
      "text/plain": [
       "True"
      ]
     },
     "metadata": {},
     "execution_count": 62
    }
   ],
   "source": [
    "issubclass(Student, Person) # 클래스의 상속관계 확인"
   ]
  },
  {
   "source": [
    "다음 코드는 Person 클래스를 정의하고 있다. 생성자를 포함했으며, 객체의 정보를 출력할 수 있도록 __str__() 메서드와 print_info() 메서드를 정의했다."
   ],
   "cell_type": "markdown",
   "metadata": {}
  },
  {
   "cell_type": "code",
   "execution_count": 65,
   "metadata": {},
   "outputs": [],
   "source": [
    "class Person :\n",
    "    def __init__(self, name, gender) :\n",
    "        self.name = name\n",
    "        self.gender = gender\n",
    "\n",
    "    def __str__(self) :\n",
    "        return \"name : {0}, gender : {1}\".format(self.name, self.gender)\n",
    "\n",
    "    def print_info(self) :\n",
    "        print(\"{}님은 {}전공, {}입니다.\".format(self.name, self.major, self.gender))\n",
    "\n",
    "class Student(Person) :\n",
    "    def __init__(self, name, gender, major):\n",
    "        self.name = name\n",
    "        self.gender = gender\n",
    "        self.major = major\n",
    "\n",
    "    def __del__(init) :\n",
    "        pass"
   ]
  },
  {
   "cell_type": "code",
   "execution_count": null,
   "metadata": {},
   "outputs": [],
   "source": [
    "상속관계는 'is a' 관계라고 부르기도 한다. 위의 코드를 예로 들면 'Student is a Person' 의 관계가 성립한다는 의미이다. 'is a' 관계가 성립하지 않는다면 상속관계를 잘못 맺었을 경우이다.\n",
    "\n",
    "상위 클래스는 하위 클래스에 비해 더 일반화된 클래스이며 반대로 하위 클래스는 상위 클래스에 비해 더 구체화된 클래스이다."
   ]
  },
  {
   "cell_type": "code",
   "execution_count": 66,
   "metadata": {},
   "outputs": [
    {
     "output_type": "stream",
     "name": "stdout",
     "text": [
      "홍길남님은 경제학전공, 남자입니다.\n"
     ]
    }
   ],
   "source": [
    "s1 = Student(\"홍길남\", \"남자\", \"경제학\")\n",
    "s1.print_info()"
   ]
  },
  {
   "source": [
    "### 부모 클래스의 생성자 이용\n",
    "\n",
    "Student 클래스의 생성자는 Person 클래스의 생성자를 이용하여 인스턴스 변수를 초기화 할 수 있다. 다음 코드는 student 클래스의 생성자를 수정한 것이다. 이렇게 하면 부모 클래스의 생성자를 호출하여 자식 클래스의 변수들을 쉽게 초기화 할 수 있다."
   ],
   "cell_type": "markdown",
   "metadata": {}
  },
  {
   "cell_type": "code",
   "execution_count": 67,
   "metadata": {},
   "outputs": [
    {
     "output_type": "stream",
     "name": "stdout",
     "text": [
      "홍길남님은 경제학전공, 남자입니다.\n"
     ]
    }
   ],
   "source": [
    "class Student(Person) :\n",
    "    def __init__(self, name, gender, major) :\n",
    "        Person.__init__(self, name, gender) \n",
    "        self.major = major\n",
    "\n",
    "s1 = Student(\"홍길남\", \"남자\", \"경제학\")\n",
    "s1.print_info()"
   ]
  },
  {
   "source": [
    "### 재정의\n",
    "\n",
    "부모 클래스에서 정의한 매서드를 자식 클래스에서 다시 정의하는 것을 재정의라고 부른다. 메서드의 재정의는 상속을 전제로 한다. 상속관계가 없는 상태에서 메서드를 만드는 것은 재정의가 아니다. 재정의할 경우 자식 클래스의 메서드가 부모 클래스의 메서드와 이름과 인수의 목록이 같아야 한다.\n",
    "\n",
    "다음 코드는 Student 클래스가 Person 클래스의 print_info() 메서드를 재정의 하는 예이다."
   ],
   "cell_type": "markdown",
   "metadata": {}
  },
  {
   "cell_type": "code",
   "execution_count": 69,
   "metadata": {},
   "outputs": [],
   "source": [
    "class Student(Person) :\n",
    "    def __init__(self, name, gender, major) :\n",
    "        Person.__init__(self, name, gender)\n",
    "        self.major = major\n",
    "    \n",
    "    def __del__(self) :\n",
    "        pass\n",
    "\n",
    "    def print_info(self) :\n",
    "        print(\"{}님은 {}이며, 전공은 {}입니다.\".format(self.name, self.gender, self.major))\n",
    "\n"
   ]
  },
  {
   "cell_type": "code",
   "execution_count": 70,
   "metadata": {},
   "outputs": [
    {
     "output_type": "execute_result",
     "data": {
      "text/plain": [
       "True"
      ]
     },
     "metadata": {},
     "execution_count": 70
    }
   ],
   "source": [
    "issubclass(Student, Person)"
   ]
  },
  {
   "cell_type": "code",
   "execution_count": 71,
   "metadata": {},
   "outputs": [
    {
     "output_type": "execute_result",
     "data": {
      "text/plain": [
       "mappingproxy({'__module__': '__main__',\n",
       "              '__init__': <function __main__.Student.__init__(self, name, gender, major)>,\n",
       "              '__del__': <function __main__.Student.__del__(self)>,\n",
       "              'print_info': <function __main__.Student.print_info(self)>,\n",
       "              '__doc__': None})"
      ]
     },
     "metadata": {},
     "execution_count": 71
    }
   ],
   "source": [
    "Student.__dict__"
   ]
  },
  {
   "cell_type": "code",
   "execution_count": 72,
   "metadata": {},
   "outputs": [
    {
     "output_type": "stream",
     "name": "stdout",
     "text": [
      "홍길서님은 여자이며, 전공은 컴퓨터공학입니다.\n"
     ]
    }
   ],
   "source": [
    "s2 = Student(\"홍길서\", \"여자\", \"컴퓨터공학\")\n",
    "s2.print_info()"
   ]
  },
  {
   "source": [
    "### super()\n",
    "\n",
    "super()는 부모 클래스의 멤버를 강조한다. 다음 코드는 Student 클래스에 \\_\\_str\\_\\_()메서드를 재정의해서 추가한다. \\_\\_str\\_\\_()메서드에서 super().\\_\\_str\\_\\_()을 통해 Person의 \\_\\_str\\_\\_() 메서드를 호출한다. print\\_info() 메서드느 리턴 문장이 없으므로 재정의 시 부모의 print\\_info() 함수를 사용하기 위해 print() 안에 super()를 넣으면 안된다."
   ],
   "cell_type": "markdown",
   "metadata": {}
  },
  {
   "cell_type": "code",
   "execution_count": null,
   "metadata": {},
   "outputs": [],
   "source": [
    "class Student(Person) :\n",
    "    def __init__(self, name, gender, major) :"
   ]
  },
  {
   "source": [
    "# 8장. 예외처리\n",
    "\n",
    "## 1절. 예외처리\n",
    "\n",
    "다음과 같은 상황들은 예외처리를 해야할 필요가 있다.\n",
    "- 파일을 다룰 때 파일이 없거나 쓰기 금지로 인한 오류\n",
    "- 데이터베이스 프로그래밍 시 제약조건 등에 의한 데이터베이스 서버 오류\n",
    "- 네트워크 프로그래밍 시 네트워크 연결 실패로 인한 오류\n",
    "- 리스트 또는 튜플의 인덱스를 벗어난 참조로 인한 오류\n",
    "\n",
    "다음은 예외 상황에 따른 미리 정의돼있는 예외 클래스들이다."
   ],
   "cell_type": "markdown",
   "metadata": {}
  },
  {
   "cell_type": "code",
   "execution_count": 77,
   "metadata": {},
   "outputs": [
    {
     "output_type": "error",
     "ename": "ZeroDivisionError",
     "evalue": "division by zero",
     "traceback": [
      "\u001b[1;31m---------------------------------------------------------------------------\u001b[0m",
      "\u001b[1;31mZeroDivisionError\u001b[0m                         Traceback (most recent call last)",
      "\u001b[1;32m<ipython-input-77-87ac9c94a8c2>\u001b[0m in \u001b[0;36m<module>\u001b[1;34m\u001b[0m\n\u001b[1;32m----> 1\u001b[1;33m \u001b[1;36m4\u001b[0m \u001b[1;33m/\u001b[0m \u001b[1;36m0\u001b[0m\u001b[1;33m\u001b[0m\u001b[1;33m\u001b[0m\u001b[0m\n\u001b[0m",
      "\u001b[1;31mZeroDivisionError\u001b[0m: division by zero"
     ]
    }
   ],
   "source": [
    "4 / 0"
   ]
  },
  {
   "cell_type": "code",
   "execution_count": 78,
   "metadata": {},
   "outputs": [
    {
     "output_type": "error",
     "ename": "IndexError",
     "evalue": "list index out of range",
     "traceback": [
      "\u001b[1;31m---------------------------------------------------------------------------\u001b[0m",
      "\u001b[1;31mIndexError\u001b[0m                                Traceback (most recent call last)",
      "\u001b[1;32m<ipython-input-78-47894dcd86df>\u001b[0m in \u001b[0;36m<module>\u001b[1;34m\u001b[0m\n\u001b[0;32m      1\u001b[0m \u001b[0ma\u001b[0m \u001b[1;33m=\u001b[0m \u001b[1;33m[\u001b[0m\u001b[1;36m1\u001b[0m\u001b[1;33m,\u001b[0m\u001b[1;36m2\u001b[0m\u001b[1;33m,\u001b[0m\u001b[1;36m3\u001b[0m\u001b[1;33m]\u001b[0m\u001b[1;33m\u001b[0m\u001b[1;33m\u001b[0m\u001b[0m\n\u001b[1;32m----> 2\u001b[1;33m \u001b[0ma\u001b[0m\u001b[1;33m[\u001b[0m\u001b[1;36m3\u001b[0m\u001b[1;33m]\u001b[0m\u001b[1;33m\u001b[0m\u001b[1;33m\u001b[0m\u001b[0m\n\u001b[0m",
      "\u001b[1;31mIndexError\u001b[0m: list index out of range"
     ]
    }
   ],
   "source": [
    "a = [1,2,3]\n",
    "a[3]"
   ]
  },
  {
   "source": [
    "### try ~ except\n",
    "\n",
    "try 구문은 예외를 처리할 때 예외가 발생할 가능성이 있는 문장을 작성하기 위해 사용하는 블록의 시작 부분이다. try절에서 예외가 발생하면 except 절을 찾는다. except 블록에 예외가 발생했을 경우 실행되어야 할 코드를 작성한다.\n",
    "\n",
    "다음 예에서는 유효한 정수가 입력될 때까지 사용자에게 입력을 요청한다. 유효한 정수가 입력되면 try 블록의 나머지 문장을 실행하기 때문에 break에 의해 while 반복문을 종료한다. 만일 입력한 값이 정수가 아니면 int() 함수에 의해 정수형으로 반환하는 도중 예외가 발생한다. 이때 발생하는 예외는 ValueError 이다. try 블록에서 예외가 발생하면 해당 예외를 처리할 수 있는 except 블록으로 제어가 이동한다."
   ],
   "cell_type": "markdown",
   "metadata": {}
  },
  {
   "cell_type": "code",
   "execution_count": 79,
   "metadata": {},
   "outputs": [
    {
     "output_type": "stream",
     "name": "stdout",
     "text": [
      "유효한 정수가 아닙니다. 다시 입력하세요.\n",
      "유효한 정수가 아닙니다. 다시 입력하세요.\n",
      "입력한 정수는 12345입니다.\n",
      "100을 입력한 수로 나누면 0.008100445524503848입니다.\n"
     ]
    }
   ],
   "source": [
    "while True : \n",
    "    try :\n",
    "        x = int(input('정수를 입력하세요 :'))\n",
    "        print('입력한 정수는 {}입니다.'.format(x))\n",
    "        print('100을 입력한 수로 나누면 {}입니다.'.format(100/x))\n",
    "        break\n",
    "    except :\n",
    "        print('유효한 정수가 아닙니다. 다시 입력하세요.')"
   ]
  },
  {
   "source": [
    "### 예외를 지정한 처리"
   ],
   "cell_type": "markdown",
   "metadata": {}
  },
  {
   "cell_type": "code",
   "execution_count": 80,
   "metadata": {},
   "outputs": [
    {
     "output_type": "stream",
     "name": "stdout",
     "text": [
      "입력한 정수는 0입니다.\n",
      "0으로 누를 수 없습니다.\n",
      "유효한 정수가 아닙니다. 다시 입력하세요.\n",
      "입력한 정수는 123입니다.\n",
      "100을 입력한 수로 나누면 0.8130081300813008입니다.\n"
     ]
    }
   ],
   "source": [
    "while True : \n",
    "    try :\n",
    "        x = int(input('정수를 입력하세요 :'))\n",
    "        print('입력한 정수는 {}입니다.'.format(x))\n",
    "        print('100을 입력한 수로 나누면 {}입니다.'.format(100/x))\n",
    "        break\n",
    "    except ValueError:\n",
    "        print('유효한 정수가 아닙니다. 다시 입력하세요.')\n",
    "    except ZeroDivisionError :\n",
    "        print('0으로 누를 수 없습니다.')"
   ]
  },
  {
   "cell_type": "code",
   "execution_count": null,
   "metadata": {},
   "outputs": [],
   "source": [
    "while True : \n",
    "    try :\n",
    "        x = int(input('정수를 입력하세요 :'))\n",
    "        print('입력한 정수는 {}입니다.'.format(x))\n",
    "        print('100을 입력한 수로 나누면 {}입니다.'.format(100/x))\n",
    "        break\n",
    "    except ValueError:\n",
    "        print('유효한 정수가 아닙니다. 다시 입력하세요.')\n",
    "    except ZeroDivisionError :\n",
    "        print('0으로 누를 수 없습니다.')\n",
    "    except Exception :\n",
    "        print('에러 발생')"
   ]
  },
  {
   "source": [
    "### 예외별로 처리하기\n",
    "\n",
    "try 블록에서 발생할 수 있는 예외가 여러 개일 경우 각각의 예외를 처리하도록 except 블록을 정의해 놓을 수 있다. 괄호는 반드시 포함해야 한다."
   ],
   "cell_type": "markdown",
   "metadata": {}
  },
  {
   "cell_type": "code",
   "execution_count": 82,
   "metadata": {},
   "outputs": [
    {
     "output_type": "stream",
     "name": "stdout",
     "text": [
      "유효한 정수가 아닙니다. 다시 입력하세요.\n",
      "입력한 정수는 30입니다.\n",
      "100을 입력한 수로 나누면 3.3333333333333335입니다.\n",
      "에러 발생\n",
      "유효한 정수가 아닙니다. 다시 입력하세요.\n",
      "입력한 정수는 100입니다.\n",
      "100을 입력한 수로 나누면 1.0입니다.\n"
     ]
    }
   ],
   "source": [
    "while True : \n",
    "    try :\n",
    "        x = int(input('정수를 입력하세요 :'))\n",
    "        print('입력한 정수는 {}입니다.'.format(x))\n",
    "        print('100을 입력한 수로 나누면 {}입니다.'.format(100/x))\n",
    "        if x == 30 :\n",
    "            raise NameError('aaaaa')\n",
    "        break\n",
    "    except ValueError:\n",
    "        print('유효한 정수가 아닙니다. 다시 입력하세요.')\n",
    "    except ZeroDivisionError :\n",
    "        print('0으로 누를 수 없습니다.')\n",
    "    except Exception :\n",
    "        print('에러 발생')"
   ]
  },
  {
   "cell_type": "code",
   "execution_count": 84,
   "metadata": {},
   "outputs": [
    {
     "output_type": "stream",
     "name": "stdout",
     "text": [
      "hello world\n"
     ]
    }
   ],
   "source": [
    "try :\n",
    "    f = open('myfile.txt', 'r')\n",
    "except FileNotFoundError :\n",
    "    print('파일이 없습니다.')\n",
    "else :\n",
    "    data = f.read()\n",
    "    print(data)"
   ]
  },
  {
   "cell_type": "code",
   "execution_count": 87,
   "metadata": {},
   "outputs": [
    {
     "output_type": "stream",
     "name": "stdout",
     "text": [
      "데이터의 길이기 0이면 입력할 수 없습니다.\n"
     ]
    }
   ],
   "source": [
    "def insert(data) :\n",
    "    if len(data) == 0 :\n",
    "        raise Exception(\"데이터의 길이기 0이면 입력할 수 없습니다.\")\n",
    "    print(data, \"을 입력합니다.\", sep = '')\n",
    "\n",
    "data = []\n",
    "try :\n",
    "    insert(data)\n",
    "except Exception as e :\n",
    "    print(e.args[0])\n",
    "else :\n",
    "    print(\"정상 실행되었습니다.\")"
   ]
  },
  {
   "source": [
    "## raise로 추상 클래스 정의하기\n",
    "\n",
    "### 추상 클래스"
   ],
   "cell_type": "markdown",
   "metadata": {}
  },
  {
   "cell_type": "code",
   "execution_count": 88,
   "metadata": {},
   "outputs": [
    {
     "output_type": "error",
     "ename": "NotImplementedError",
     "evalue": "",
     "traceback": [
      "\u001b[1;31m---------------------------------------------------------------------------\u001b[0m",
      "\u001b[1;31mNotImplementedError\u001b[0m                       Traceback (most recent call last)",
      "\u001b[1;32m<ipython-input-88-2f91f20ae003>\u001b[0m in \u001b[0;36m<module>\u001b[1;34m\u001b[0m\n\u001b[0;32m      3\u001b[0m         \u001b[1;32mraise\u001b[0m \u001b[0mNotImplementedError\u001b[0m\u001b[1;33m\u001b[0m\u001b[1;33m\u001b[0m\u001b[0m\n\u001b[0;32m      4\u001b[0m \u001b[1;33m\u001b[0m\u001b[0m\n\u001b[1;32m----> 5\u001b[1;33m \u001b[0mmyShape\u001b[0m \u001b[1;33m=\u001b[0m \u001b[0mShape\u001b[0m\u001b[1;33m(\u001b[0m\u001b[1;33m)\u001b[0m\u001b[1;33m\u001b[0m\u001b[1;33m\u001b[0m\u001b[0m\n\u001b[0m",
      "\u001b[1;32m<ipython-input-88-2f91f20ae003>\u001b[0m in \u001b[0;36m__init__\u001b[1;34m(self)\u001b[0m\n\u001b[0;32m      1\u001b[0m \u001b[1;32mclass\u001b[0m \u001b[0mShape\u001b[0m \u001b[1;33m:\u001b[0m\u001b[1;33m\u001b[0m\u001b[1;33m\u001b[0m\u001b[0m\n\u001b[0;32m      2\u001b[0m     \u001b[1;32mdef\u001b[0m \u001b[0m__init__\u001b[0m\u001b[1;33m(\u001b[0m\u001b[0mself\u001b[0m\u001b[1;33m)\u001b[0m \u001b[1;33m:\u001b[0m\u001b[1;33m\u001b[0m\u001b[1;33m\u001b[0m\u001b[0m\n\u001b[1;32m----> 3\u001b[1;33m         \u001b[1;32mraise\u001b[0m \u001b[0mNotImplementedError\u001b[0m\u001b[1;33m\u001b[0m\u001b[1;33m\u001b[0m\u001b[0m\n\u001b[0m\u001b[0;32m      4\u001b[0m \u001b[1;33m\u001b[0m\u001b[0m\n\u001b[0;32m      5\u001b[0m \u001b[0mmyShape\u001b[0m \u001b[1;33m=\u001b[0m \u001b[0mShape\u001b[0m\u001b[1;33m(\u001b[0m\u001b[1;33m)\u001b[0m\u001b[1;33m\u001b[0m\u001b[1;33m\u001b[0m\u001b[0m\n",
      "\u001b[1;31mNotImplementedError\u001b[0m: "
     ]
    }
   ],
   "source": [
    "class Shape :\n",
    "    def __init__(self) :\n",
    "        raise NotImplementedError\n",
    "\n",
    "myShape = Shape()"
   ]
  },
  {
   "source": [
    "raise를 이용하면 객체를 생성하지 못하도록 할 수 있다. 이런 클래스는 반드시 자식 클래스를 만들어서 사용할 수 있도록 한다. 다음 shape 클래스는 생성자에서 raise를 이용해 예외를 발생시킨다.\n",
    "\n",
    "위처럼 객체를 생성하려고 시도하면 오류가 발생한다.\n",
    "\n",
    "이러한 상황에 Shape 클래스는 부모 클래스로만 사용된다."
   ],
   "cell_type": "markdown",
   "metadata": {}
  },
  {
   "cell_type": "code",
   "execution_count": 91,
   "metadata": {},
   "outputs": [
    {
     "output_type": "stream",
     "name": "stdout",
     "text": [
      "<__main__.Circle object at 0x000001FCE83CE0D0>\n"
     ]
    },
    {
     "output_type": "error",
     "ename": "NotImplementedError",
     "evalue": "",
     "traceback": [
      "\u001b[1;31m---------------------------------------------------------------------------\u001b[0m",
      "\u001b[1;31mNotImplementedError\u001b[0m                       Traceback (most recent call last)",
      "\u001b[1;32m<ipython-input-91-8781e551ae3a>\u001b[0m in \u001b[0;36m<module>\u001b[1;34m\u001b[0m\n\u001b[0;32m     11\u001b[0m \u001b[0mmy_circle\u001b[0m \u001b[1;33m=\u001b[0m \u001b[0mCircle\u001b[0m\u001b[1;33m(\u001b[0m\u001b[1;33m)\u001b[0m\u001b[1;33m\u001b[0m\u001b[1;33m\u001b[0m\u001b[0m\n\u001b[0;32m     12\u001b[0m \u001b[0mprint\u001b[0m\u001b[1;33m(\u001b[0m\u001b[0mmy_circle\u001b[0m\u001b[1;33m)\u001b[0m\u001b[1;33m\u001b[0m\u001b[1;33m\u001b[0m\u001b[0m\n\u001b[1;32m---> 13\u001b[1;33m \u001b[0mmy_circle\u001b[0m\u001b[1;33m.\u001b[0m\u001b[0mdraw\u001b[0m\u001b[1;33m(\u001b[0m\u001b[1;33m)\u001b[0m\u001b[1;33m\u001b[0m\u001b[1;33m\u001b[0m\u001b[0m\n\u001b[0m",
      "\u001b[1;32m<ipython-input-91-8781e551ae3a>\u001b[0m in \u001b[0;36mdraw\u001b[1;34m(self)\u001b[0m\n\u001b[0;32m      3\u001b[0m         \u001b[1;32mraise\u001b[0m \u001b[0mNotImplementedError\u001b[0m\u001b[1;33m\u001b[0m\u001b[1;33m\u001b[0m\u001b[0m\n\u001b[0;32m      4\u001b[0m     \u001b[1;32mdef\u001b[0m \u001b[0mdraw\u001b[0m\u001b[1;33m(\u001b[0m\u001b[0mself\u001b[0m\u001b[1;33m)\u001b[0m \u001b[1;33m:\u001b[0m\u001b[1;33m\u001b[0m\u001b[1;33m\u001b[0m\u001b[0m\n\u001b[1;32m----> 5\u001b[1;33m         \u001b[1;32mraise\u001b[0m \u001b[0mNotImplementedError\u001b[0m\u001b[1;33m\u001b[0m\u001b[1;33m\u001b[0m\u001b[0m\n\u001b[0m\u001b[0;32m      6\u001b[0m \u001b[1;33m\u001b[0m\u001b[0m\n\u001b[0;32m      7\u001b[0m \u001b[1;32mclass\u001b[0m \u001b[0mCircle\u001b[0m\u001b[1;33m(\u001b[0m\u001b[0mShape\u001b[0m\u001b[1;33m)\u001b[0m \u001b[1;33m:\u001b[0m\u001b[1;33m\u001b[0m\u001b[1;33m\u001b[0m\u001b[0m\n",
      "\u001b[1;31mNotImplementedError\u001b[0m: "
     ]
    }
   ],
   "source": [
    "class Shape :\n",
    "    def __init__(self) :\n",
    "        raise NotImplementedError\n",
    "    def draw(self) :\n",
    "        raise NotImplementedError\n",
    "\n",
    "class Circle(Shape) :\n",
    "    def __init__(self) :\n",
    "        pass\n",
    "\n",
    "my_circle = Circle()\n",
    "print(my_circle)\n",
    "my_circle.draw()"
   ]
  },
  {
   "cell_type": "code",
   "execution_count": 95,
   "metadata": {},
   "outputs": [
    {
     "output_type": "stream",
     "name": "stdout",
     "text": [
      "원\n삼각형\n"
     ]
    }
   ],
   "source": [
    "class Circle(Shape) :\n",
    "    def __init__(self) :\n",
    "        pass\n",
    "    def draw(self) :\n",
    "        print(\"원\")\n",
    "\n",
    "class Tri(Shape) :\n",
    "    def __init__(self) :\n",
    "        pass\n",
    "    def draw(self) :\n",
    "        print(\"삼각형\") \n",
    "\n",
    "class Rect(Shape) :\n",
    "    \n",
    "\n",
    "my_circle = Circle()   \n",
    "my_circle.draw()\n",
    "my_tri = Tri()\n",
    "my_tri.draw()     "
   ]
  },
  {
   "cell_type": "code",
   "execution_count": 98,
   "metadata": {},
   "outputs": [
    {
     "output_type": "stream",
     "name": "stdout",
     "text": [
      "hello world\none\ntwo\n"
     ]
    }
   ],
   "source": [
    "try :\n",
    "    f = open('myfile.txt', 'r')\n",
    "\n",
    "except FileNotFoundError as e :\n",
    "    print(str(e))\n",
    "\n",
    "else :\n",
    "    data = f.read()\n",
    "    print(data)\n",
    "\n",
    "finally :\n",
    "    f.close()"
   ]
  }
 ]
}