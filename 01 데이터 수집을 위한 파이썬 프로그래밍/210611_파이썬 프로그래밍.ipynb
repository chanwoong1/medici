{
 "metadata": {
  "language_info": {
   "codemirror_mode": {
    "name": "ipython",
    "version": 3
   },
   "file_extension": ".py",
   "mimetype": "text/x-python",
   "name": "python",
   "nbconvert_exporter": "python",
   "pygments_lexer": "ipython3",
   "version": "3.8.5"
  },
  "orig_nbformat": 2,
  "kernelspec": {
   "name": "python385jvsc74a57bd03daa3430744053f4748a69c6948da8999f75f0c797f8ffecf263e95f10f995f6",
   "display_name": "Python 3.8.5 64-bit ('base': conda)"
  }
 },
 "nbformat": 4,
 "nbformat_minor": 2,
 "cells": [
  {
   "source": [
    "# 210611"
   ],
   "cell_type": "markdown",
   "metadata": {}
  },
  {
   "cell_type": "code",
   "execution_count": 17,
   "metadata": {},
   "outputs": [
    {
     "output_type": "stream",
     "name": "stdout",
     "text": [
      "잘못된 입력 값 입니다.\n잘못된 입력 값 입니다.\n\n--------------------------------------------------\n\n--------------------------------------------------\n100  200  \n--------------------------------------------------\n"
     ]
    }
   ],
   "source": [
    "# STEP 7\n",
    "# 루틴 테스트\n",
    "# main() 함수 만들기\n",
    "\n",
    "def bit_set(df, index,flag_room) :\n",
    "    if (flag_room < index) :               # 세팅한 방의 갯수보다 큰 값을 입력했을 때\n",
    "        print(\"잘못된 입력 값 입니다.\")\n",
    "        return\n",
    "    df[int(index/64)] |= (1 << (index % 64))\n",
    "\n",
    "def bit_clear(df, index) :\n",
    "    if (len(df)*64 < index) :\n",
    "        return\n",
    "    df[index//64] &= ~(1 << (index % 64))\n",
    "\n",
    "def bit_is_set(df, index) :\n",
    "    if (len(df)*64 < index) :\n",
    "        return\n",
    "    return df[index // 64] & (1 << (index % 64))\n",
    "\n",
    "def BIT(index) :            # index 수에 따라서 빈 방 생성\n",
    "    df = []\n",
    "    cnt = index\n",
    "    for i in range((index // 64) + 1) :     # 방이 60개 일 경우 몫은 0이 되는데 그러면 range(0)이 되므로 안돌아감 그래서 + 1 해준다.\n",
    "        df.append(0)\n",
    "    return df, cnt\n",
    "\n",
    "\n",
    "### 방을 출력시켜주는 함수를 하나 더 만들었다.\n",
    "\n",
    "def print_room(df) : \n",
    "    for i in range(len(df)*64) :\n",
    "        if (bit_is_set(df, i)) :\n",
    "            print(\"%d\" % i, end = '  ')\n",
    "    print(\"\\n%s\" %('-' * 50))\n",
    "\n",
    "#--------------------------------------------------------------------    \n",
    "\n",
    "\n",
    "def main() :\n",
    "    flag1, flag_rooms = BIT(200)\n",
    "#    flag1 = BIT(200)       # 1000개의 방을 만들고 싶다\n",
    "    bit_set(flag1, 250, flag_rooms)\n",
    "    bit_set(flag1, 800, flag_rooms)\n",
    "    \n",
    "    print_room(flag1)\n",
    "\n",
    "    bit_clear(flag1, 700)\n",
    "\n",
    "    print_room(flag1)\n",
    "    \n",
    "    bit_set(flag1, 100, flag_rooms)\n",
    "    bit_set(flag1, 200, flag_rooms)\n",
    "\n",
    "    print_room(flag1)\n",
    "\n",
    "if __name__ == '__main__' :\n",
    "    main()"
   ]
  },
  {
   "source": [
    "잘 돌아감"
   ],
   "cell_type": "markdown",
   "metadata": {}
  },
  {
   "cell_type": "code",
   "execution_count": 18,
   "metadata": {},
   "outputs": [
    {
     "output_type": "execute_result",
     "data": {
      "text/plain": [
       "['c:\\\\Users\\\\medici\\\\Desktop\\\\Python',\n",
       " 'c:\\\\Users\\\\medici\\\\.vscode\\\\extensions\\\\ms-toolsai.jupyter-2021.6.832593372\\\\pythonFiles',\n",
       " 'c:\\\\Users\\\\medici\\\\.vscode\\\\extensions\\\\ms-toolsai.jupyter-2021.6.832593372\\\\pythonFiles\\\\lib\\\\python',\n",
       " 'C:\\\\Users\\\\medici\\\\anaconda3\\\\python38.zip',\n",
       " 'C:\\\\Users\\\\medici\\\\anaconda3\\\\DLLs',\n",
       " 'C:\\\\Users\\\\medici\\\\anaconda3\\\\lib',\n",
       " 'C:\\\\Users\\\\medici\\\\anaconda3',\n",
       " '',\n",
       " 'C:\\\\Users\\\\medici\\\\anaconda3\\\\lib\\\\site-packages',\n",
       " 'C:\\\\Users\\\\medici\\\\anaconda3\\\\lib\\\\site-packages\\\\win32',\n",
       " 'C:\\\\Users\\\\medici\\\\anaconda3\\\\lib\\\\site-packages\\\\win32\\\\lib',\n",
       " 'C:\\\\Users\\\\medici\\\\anaconda3\\\\lib\\\\site-packages\\\\Pythonwin',\n",
       " 'C:\\\\Users\\\\medici\\\\anaconda3\\\\lib\\\\site-packages\\\\IPython\\\\extensions',\n",
       " 'C:\\\\Users\\\\medici\\\\.ipython',\n",
       " 'C:\\\\pythonlib']"
      ]
     },
     "metadata": {},
     "execution_count": 18
    }
   ],
   "source": [
    "import sys\n",
    "sys.path.append(r'C:\\pythonlib')\n",
    "sys.path"
   ]
  },
  {
   "cell_type": "code",
   "execution_count": 27,
   "metadata": {},
   "outputs": [
    {
     "output_type": "stream",
     "name": "stdout",
     "text": [
      "250  800  \n--------------------------------------------------\n800  \n--------------------------------------------------\n100  200  800  \n--------------------------------------------------\n"
     ]
    }
   ],
   "source": [
    "# 저장해놓은 모듈 실행시켜보기\n",
    "import bitlib\n",
    "\n",
    "flag, flag_rooms = BIT(1000)\n",
    "bit_set(flag, 250, flag_rooms)\n",
    "bit_set(flag, 800, flag_rooms)\n",
    "    \n",
    "print_room(flag)\n",
    "\n",
    "bit_clear(flag, 250)\n",
    "\n",
    "print_room(flag)\n",
    "    \n",
    "bit_set(flag, 100, flag_rooms)\n",
    "bit_set(flag, 200, flag_rooms)\n",
    "\n",
    "print_room(flag)\n"
   ]
  },
  {
   "cell_type": "code",
   "execution_count": 29,
   "metadata": {},
   "outputs": [
    {
     "output_type": "stream",
     "name": "stdout",
     "text": [
      "250  800  \n--------------------------------------------------\n800  \n--------------------------------------------------\n100  200  800  \n--------------------------------------------------\n"
     ]
    }
   ],
   "source": [
    "# 저장해놓은 모듈 실행시켜보기\n",
    "from bitlib import *\n",
    "\n",
    "flag, flag_rooms = BIT(1000)\n",
    "bit_set(flag, 250, flag_rooms)\n",
    "bit_set(flag, 800, flag_rooms)\n",
    "    \n",
    "print_room(flag)\n",
    "\n",
    "bit_clear(flag, 250)\n",
    "\n",
    "print_room(flag)\n",
    "    \n",
    "bit_set(flag, 100, flag_rooms)\n",
    "bit_set(flag, 200, flag_rooms)\n",
    "\n",
    "print_room(flag)\n"
   ]
  },
  {
   "source": [
    "## 2절 튜플\n",
    "\n",
    "튜플은 소괄호를 이용해 만든다. 튜플은 리스트와 유사하지만 읽기 전용이다. 튜플은 속도가 빨라 수정이 필요 없는 배열 형태의 자료형에 사용한다. 튜플은 데이터를 수정할 수 없으므로 제공되는 함수가 많지 않다. 제공되는 함수도 count(), index() 정도이다."
   ],
   "cell_type": "markdown",
   "metadata": {}
  },
  {
   "cell_type": "code",
   "execution_count": 30,
   "metadata": {},
   "outputs": [
    {
     "output_type": "execute_result",
     "data": {
      "text/plain": [
       "tuple"
      ]
     },
     "metadata": {},
     "execution_count": 30
    }
   ],
   "source": [
    "numbers1 = (1,2,3,4,5)\n",
    "type(numbers1)"
   ]
  },
  {
   "cell_type": "code",
   "execution_count": 32,
   "metadata": {},
   "outputs": [
    {
     "output_type": "error",
     "ename": "TypeError",
     "evalue": "'tuple' object does not support item assignment",
     "traceback": [
      "\u001b[1;31m---------------------------------------------------------------------------\u001b[0m",
      "\u001b[1;31mTypeError\u001b[0m                                 Traceback (most recent call last)",
      "\u001b[1;32m<ipython-input-32-c5bc6276bafa>\u001b[0m in \u001b[0;36m<module>\u001b[1;34m\u001b[0m\n\u001b[1;32m----> 1\u001b[1;33m \u001b[0mnumbers1\u001b[0m\u001b[1;33m[\u001b[0m\u001b[1;36m0\u001b[0m\u001b[1;33m]\u001b[0m \u001b[1;33m=\u001b[0m \u001b[1;36m4\u001b[0m\u001b[1;33m\u001b[0m\u001b[1;33m\u001b[0m\u001b[0m\n\u001b[0m",
      "\u001b[1;31mTypeError\u001b[0m: 'tuple' object does not support item assignment"
     ]
    }
   ],
   "source": [
    "numbers1[0] = 4"
   ]
  },
  {
   "source": [
    "## 3절. 딕셔너리\n",
    "\n",
    "딕셔너리는 중괄호를 이용한다. 딕셔너리 유형은 키와 값의 쌍으로 구성된 자료 구조이며 딕셔너리의 키는 중복이 없이 유일한 값이어야 한다. 값은 중복이 가능하며 모든 유형이 가능하다. 키에는 리스트 유형을 사용할 수 없다. 그러나 튜플 유형은 사용할 수 있다."
   ],
   "cell_type": "markdown",
   "metadata": {}
  },
  {
   "cell_type": "code",
   "execution_count": 35,
   "metadata": {},
   "outputs": [
    {
     "output_type": "execute_result",
     "data": {
      "text/plain": [
       "dict"
      ]
     },
     "metadata": {},
     "execution_count": 35
    }
   ],
   "source": [
    "my_favorite = { \"fruit\" : \"apple\", \"number\" : 1, \"sport\" : \"golf\"}\n",
    "type(my_favorite)"
   ]
  },
  {
   "cell_type": "code",
   "execution_count": 37,
   "metadata": {},
   "outputs": [
    {
     "output_type": "execute_result",
     "data": {
      "text/plain": [
       "1"
      ]
     },
     "metadata": {},
     "execution_count": 37
    }
   ],
   "source": [
    "my_favorite.get(\"number\")"
   ]
  },
  {
   "cell_type": "code",
   "execution_count": 38,
   "metadata": {},
   "outputs": [
    {
     "output_type": "execute_result",
     "data": {
      "text/plain": [
       "1"
      ]
     },
     "metadata": {},
     "execution_count": 38
    }
   ],
   "source": [
    "my_favorite[\"number\"]"
   ]
  },
  {
   "cell_type": "code",
   "execution_count": 41,
   "metadata": {},
   "outputs": [
    {
     "output_type": "execute_result",
     "data": {
      "text/plain": [
       "{1: 'hello', 2: 'world', 'KEY': 'value'}"
      ]
     },
     "metadata": {},
     "execution_count": 41
    }
   ],
   "source": [
    "my_dic1 = {1 : \"hello\", 2 : \"world\", \"KEY\" : \"value\"}\n",
    "my_dic1"
   ]
  },
  {
   "cell_type": "code",
   "execution_count": 42,
   "metadata": {},
   "outputs": [
    {
     "output_type": "execute_result",
     "data": {
      "text/plain": [
       "'value'"
      ]
     },
     "metadata": {},
     "execution_count": 42
    }
   ],
   "source": [
    "my_dic1[\"KEY\"]"
   ]
  },
  {
   "cell_type": "code",
   "execution_count": 44,
   "metadata": {},
   "outputs": [
    {
     "output_type": "execute_result",
     "data": {
      "text/plain": [
       "{1: 'world', 'KEY': 'value'}"
      ]
     },
     "metadata": {},
     "execution_count": 44
    }
   ],
   "source": [
    "my_dic2 = {1 : \"hello\", True : \"world\", \"KEY\" : \"value\"}\n",
    "my_dic2"
   ]
  },
  {
   "source": [
    "위의 True 키와 \"hello\"가 출력이 되지 않음을 확인할 수 있다. True는 1로 판단되어 원래 있던 키인 1과 중복이 된다. 따라서 \"hello\"가 저장된 후, 다시 \"world\"로 덮이게 된다."
   ],
   "cell_type": "code",
   "metadata": {},
   "execution_count": null,
   "outputs": []
  },
  {
   "cell_type": "code",
   "execution_count": 46,
   "metadata": {},
   "outputs": [
    {
     "output_type": "execute_result",
     "data": {
      "text/plain": [
       "{1: 'hello'}"
      ]
     },
     "metadata": {},
     "execution_count": 46
    }
   ],
   "source": [
    "my_dic2 = {1:\"hello\"}\n",
    "my_dic2"
   ]
  },
  {
   "cell_type": "code",
   "execution_count": 47,
   "metadata": {},
   "outputs": [
    {
     "output_type": "execute_result",
     "data": {
      "text/plain": [
       "{True: 'Hello'}"
      ]
     },
     "metadata": {},
     "execution_count": 47
    }
   ],
   "source": [
    "my_dic2 = {True : \"Hello\"}\n",
    "my_dic2"
   ]
  },
  {
   "cell_type": "code",
   "execution_count": 50,
   "metadata": {},
   "outputs": [
    {
     "output_type": "execute_result",
     "data": {
      "text/plain": [
       "{True: 'test'}"
      ]
     },
     "metadata": {},
     "execution_count": 50
    }
   ],
   "source": [
    "my_dic2[1] = \"test\"\n",
    "my_dic2"
   ]
  },
  {
   "source": [
    "먼저 키 값이 True로 지정되어 있어서 1로 판단되는데, 나중에 1로 \"test\"를 넣는다고 해도 True는 바뀌지 않는다."
   ],
   "cell_type": "markdown",
   "metadata": {}
  },
  {
   "cell_type": "code",
   "execution_count": 51,
   "metadata": {},
   "outputs": [
    {
     "output_type": "execute_result",
     "data": {
      "text/plain": [
       "{'Key': 'value', 'key': 'value', 'KEY': 'value'}"
      ]
     },
     "metadata": {},
     "execution_count": 51
    }
   ],
   "source": [
    "my_dic3 = {'Key' : 'value', 'key' : 'value', 'KEY' : 'value'}\n",
    "my_dic3"
   ]
  },
  {
   "source": [
    "키 값은 대소문자를 구분한다."
   ],
   "cell_type": "markdown",
   "metadata": {}
  },
  {
   "cell_type": "code",
   "execution_count": 52,
   "metadata": {},
   "outputs": [
    {
     "output_type": "execute_result",
     "data": {
      "text/plain": [
       "['__add__',\n",
       " '__class__',\n",
       " '__contains__',\n",
       " '__delattr__',\n",
       " '__dir__',\n",
       " '__doc__',\n",
       " '__eq__',\n",
       " '__format__',\n",
       " '__ge__',\n",
       " '__getattribute__',\n",
       " '__getitem__',\n",
       " '__getnewargs__',\n",
       " '__gt__',\n",
       " '__hash__',\n",
       " '__init__',\n",
       " '__init_subclass__',\n",
       " '__iter__',\n",
       " '__le__',\n",
       " '__len__',\n",
       " '__lt__',\n",
       " '__mul__',\n",
       " '__ne__',\n",
       " '__new__',\n",
       " '__reduce__',\n",
       " '__reduce_ex__',\n",
       " '__repr__',\n",
       " '__rmul__',\n",
       " '__setattr__',\n",
       " '__sizeof__',\n",
       " '__str__',\n",
       " '__subclasshook__',\n",
       " 'count',\n",
       " 'index']"
      ]
     },
     "metadata": {},
     "execution_count": 52
    }
   ],
   "source": [
    "tup = (1,2,3,4,5)\n",
    "dir(tup)"
   ]
  },
  {
   "cell_type": "code",
   "execution_count": null,
   "metadata": {},
   "outputs": [],
   "source": [
    "튜플은 count와 index 함수만 사용 가능하다."
   ]
  },
  {
   "cell_type": "code",
   "execution_count": 53,
   "metadata": {},
   "outputs": [
    {
     "output_type": "execute_result",
     "data": {
      "text/plain": [
       "['__add__',\n",
       " '__class__',\n",
       " '__contains__',\n",
       " '__delattr__',\n",
       " '__delitem__',\n",
       " '__dir__',\n",
       " '__doc__',\n",
       " '__eq__',\n",
       " '__format__',\n",
       " '__ge__',\n",
       " '__getattribute__',\n",
       " '__getitem__',\n",
       " '__gt__',\n",
       " '__hash__',\n",
       " '__iadd__',\n",
       " '__imul__',\n",
       " '__init__',\n",
       " '__init_subclass__',\n",
       " '__iter__',\n",
       " '__le__',\n",
       " '__len__',\n",
       " '__lt__',\n",
       " '__mul__',\n",
       " '__ne__',\n",
       " '__new__',\n",
       " '__reduce__',\n",
       " '__reduce_ex__',\n",
       " '__repr__',\n",
       " '__reversed__',\n",
       " '__rmul__',\n",
       " '__setattr__',\n",
       " '__setitem__',\n",
       " '__sizeof__',\n",
       " '__str__',\n",
       " '__subclasshook__',\n",
       " 'append',\n",
       " 'clear',\n",
       " 'copy',\n",
       " 'count',\n",
       " 'extend',\n",
       " 'index',\n",
       " 'insert',\n",
       " 'pop',\n",
       " 'remove',\n",
       " 'reverse',\n",
       " 'sort']"
      ]
     },
     "metadata": {},
     "execution_count": 53
    }
   ],
   "source": [
    "lst = [1,2,3,4,5]\n",
    "dir(lst)"
   ]
  },
  {
   "cell_type": "code",
   "execution_count": null,
   "metadata": {},
   "outputs": [],
   "source": [
    "리스트에서는 조금 더 다양한 함수를 사욛할 수 있다."
   ]
  },
  {
   "cell_type": "code",
   "execution_count": 56,
   "metadata": {},
   "outputs": [],
   "source": [
    "my_favorite = {'fruit' : 'apple', 'sports' : 'golf' , 'number' : 1, 'food' : '라면'}\n"
   ]
  },
  {
   "cell_type": "code",
   "execution_count": 57,
   "metadata": {},
   "outputs": [
    {
     "output_type": "execute_result",
     "data": {
      "text/plain": [
       "{'fruit': 'apple', 'sports': 'golf', 'food': '라면'}"
      ]
     },
     "metadata": {},
     "execution_count": 57
    }
   ],
   "source": [
    "a = my_favorite.pop(\"number\")\n",
    "my_favorite"
   ]
  },
  {
   "cell_type": "code",
   "execution_count": 59,
   "metadata": {},
   "outputs": [
    {
     "output_type": "stream",
     "name": "stdout",
     "text": [
      "1\n"
     ]
    }
   ],
   "source": [
    "print(a)"
   ]
  },
  {
   "cell_type": "code",
   "execution_count": 60,
   "metadata": {},
   "outputs": [
    {
     "output_type": "stream",
     "name": "stdout",
     "text": [
      "fruit\nsports\nfood\n"
     ]
    }
   ],
   "source": [
    "for key in my_favorite.keys() :\n",
    "    print(key)"
   ]
  },
  {
   "cell_type": "code",
   "execution_count": 61,
   "metadata": {},
   "outputs": [
    {
     "output_type": "stream",
     "name": "stdout",
     "text": [
      "('fruit', 'apple')\n('sports', 'golf')\n('food', '라면')\n"
     ]
    }
   ],
   "source": [
    "for item in my_favorite.items() :\n",
    "    print(item)"
   ]
  },
  {
   "cell_type": "code",
   "execution_count": 62,
   "metadata": {},
   "outputs": [
    {
     "output_type": "stream",
     "name": "stdout",
     "text": [
      "fruit apple\nsports golf\nfood 라면\n"
     ]
    }
   ],
   "source": [
    "for item in my_favorite.items() :\n",
    "    print(item[0], item[1])"
   ]
  },
  {
   "cell_type": "code",
   "execution_count": 63,
   "metadata": {},
   "outputs": [
    {
     "output_type": "stream",
     "name": "stdout",
     "text": [
      "fruit apple\nsports golf\nfood 라면\n"
     ]
    }
   ],
   "source": [
    "for key, value in my_favorite.items() :\n",
    "    print(key, value)"
   ]
  },
  {
   "cell_type": "code",
   "execution_count": 65,
   "metadata": {},
   "outputs": [
    {
     "output_type": "execute_result",
     "data": {
      "text/plain": [
       "True"
      ]
     },
     "metadata": {},
     "execution_count": 65
    }
   ],
   "source": [
    "my_favorite = {'fruit' : 'apple' , 'number' : 1, 'sports' : 'golf'}\n",
    "'fruit' in my_favorite"
   ]
  },
  {
   "source": [
    "## 4절. 셋\n",
    "\n",
    "셋(set)은 순서가 정해지지 않고, 중복을 허용하지 않는 집합을 의미한다. 셋은 중괄호를 이용하여 정의한다. 다른 데이터 구조를 셋으로 바꾸려면 set() 함수를 이용한다."
   ],
   "cell_type": "markdown",
   "metadata": {}
  },
  {
   "cell_type": "code",
   "execution_count": 66,
   "metadata": {},
   "outputs": [
    {
     "output_type": "execute_result",
     "data": {
      "text/plain": [
       "{'apple', 'banana', 'orange', 'pear'}"
      ]
     },
     "metadata": {},
     "execution_count": 66
    }
   ],
   "source": [
    "fruits = {'apple', 'orange', 'banana', 'apple', 'pear'}\n",
    "fruits"
   ]
  },
  {
   "source": [
    "'apple' 중복으로 1개 빠짐\n",
    "\n",
    "set() 함수는 리스트, 튜플, 딕셔너리를 셋으로 바꾼다. 딕셔너리는 키만 셋에 추가된다."
   ],
   "cell_type": "markdown",
   "metadata": {}
  },
  {
   "cell_type": "code",
   "execution_count": 67,
   "metadata": {},
   "outputs": [
    {
     "output_type": "execute_result",
     "data": {
      "text/plain": [
       "{1, 2, 3}"
      ]
     },
     "metadata": {},
     "execution_count": 67
    }
   ],
   "source": [
    "s1 = set([1,2,3,])\n",
    "s1"
   ]
  },
  {
   "cell_type": "code",
   "execution_count": 68,
   "metadata": {},
   "outputs": [
    {
     "output_type": "execute_result",
     "data": {
      "text/plain": [
       "{10, 20}"
      ]
     },
     "metadata": {},
     "execution_count": 68
    }
   ],
   "source": [
    "s2 = set((10, 20))\n",
    "s2"
   ]
  },
  {
   "cell_type": "code",
   "execution_count": 69,
   "metadata": {},
   "outputs": [
    {
     "output_type": "execute_result",
     "data": {
      "text/plain": [
       "{'key'}"
      ]
     },
     "metadata": {},
     "execution_count": 69
    }
   ],
   "source": [
    "s3 = set({'key' : 'value'})\n",
    "s3"
   ]
  },
  {
   "cell_type": "code",
   "execution_count": 70,
   "metadata": {},
   "outputs": [
    {
     "output_type": "stream",
     "name": "stdout",
     "text": [
      "{False, 2}\n{False, 2}\n"
     ]
    }
   ],
   "source": [
    "s1 = {False, 2}\n",
    "print(s1)\n",
    "s1.add(0)\n",
    "print(s1)"
   ]
  },
  {
   "cell_type": "code",
   "execution_count": 71,
   "metadata": {},
   "outputs": [
    {
     "output_type": "stream",
     "name": "stdout",
     "text": [
      "데이터는 banana 입니다.\n데이터는 grape 입니다.\n데이터는 apple 입니다.\n데이터는 mango 입니다.\n데이터는 watermelon 입니다.\n데이터는 orange 입니다.\n"
     ]
    }
   ],
   "source": [
    "fruits = {'watermelon','orange','mango','grape','banana','apple'}\n",
    "\n",
    "for fruit in fruits :\n",
    "    print('데이터는 {} 입니다.'.format(fruit))"
   ]
  },
  {
   "cell_type": "code",
   "execution_count": 79,
   "metadata": {},
   "outputs": [
    {
     "output_type": "stream",
     "name": "stdout",
     "text": [
      "1 번째 데이터는 watermelon 입니다.\n2 번째 데이터는 orange 입니다.\n3 번째 데이터는 mango 입니다.\n4 번째 데이터는 grape 입니다.\n5 번째 데이터는 banana 입니다.\n6 번째 데이터는 apple 입니다.\n"
     ]
    }
   ],
   "source": [
    "fruits = ['watermelon','orange','mango','grape','banana','apple']\n",
    "for i in range(len(fruits)) :\n",
    "    print(\"{} 번째 데이터는 {} 입니다.\".format(i+1, fruits[i]))"
   ]
  },
  {
   "cell_type": "code",
   "execution_count": 81,
   "metadata": {},
   "outputs": [
    {
     "output_type": "stream",
     "name": "stdout",
     "text": [
      "1번째 데이터는 watermelon입니다.\n2번째 데이터는 orange입니다.\n3번째 데이터는 mango입니다.\n4번째 데이터는 grape입니다.\n5번째 데이터는 banana입니다.\n6번째 데이터는 apple입니다.\n"
     ]
    }
   ],
   "source": [
    "for index, value in enumerate(fruits) :\n",
    "    print(\"{}번째 데이터는 {}입니다.\".format(index+1 , value))"
   ]
  },
  {
   "cell_type": "code",
   "execution_count": 82,
   "metadata": {},
   "outputs": [
    {
     "output_type": "stream",
     "name": "stdout",
     "text": [
      "<list_iterator object at 0x000002B835E229D0>\n"
     ]
    }
   ],
   "source": [
    "it = iter(fruits)\n",
    "print(it)"
   ]
  },
  {
   "source": [
    " # 4장. 제어문\n",
    " \n",
    " ## 1절. 조건문\n",
    "\n",
    " ### if"
   ],
   "cell_type": "markdown",
   "metadata": {}
  },
  {
   "cell_type": "code",
   "execution_count": 83,
   "metadata": {},
   "outputs": [
    {
     "output_type": "stream",
     "name": "stdout",
     "text": [
      "grade A\n"
     ]
    }
   ],
   "source": [
    "score = 92\n",
    "if score >= 90 :\n",
    "    print('grade A')"
   ]
  },
  {
   "cell_type": "code",
   "execution_count": 84,
   "metadata": {},
   "outputs": [
    {
     "output_type": "stream",
     "name": "stdout",
     "text": [
      "불합격\n"
     ]
    }
   ],
   "source": [
    "score = 59\n",
    "if score >= 60 :\n",
    "    print('합격')\n",
    "else :\n",
    "    print('불합격')"
   ]
  },
  {
   "cell_type": "code",
   "execution_count": 85,
   "metadata": {},
   "outputs": [
    {
     "output_type": "stream",
     "name": "stdout",
     "text": [
      "C\n"
     ]
    }
   ],
   "source": [
    "score = 79\n",
    "if score >= 90 :\n",
    "    print('A')\n",
    "elif score >= 80 :\n",
    "    print('B')\n",
    "elif score >= 70 :\n",
    "    print('C')\n",
    "elif score >= 60 :\n",
    "    print('D')\n",
    "else :\n",
    "    print('F')"
   ]
  },
  {
   "source": [
    "## 2. 반복문\n",
    "\n",
    "### for"
   ],
   "cell_type": "markdown",
   "metadata": {}
  },
  {
   "cell_type": "code",
   "execution_count": 86,
   "metadata": {},
   "outputs": [
    {
     "output_type": "stream",
     "name": "stdout",
     "text": [
      "0 1 2 3 4 5 "
     ]
    }
   ],
   "source": [
    "for i in [0,1,2,3,4,5] :\n",
    "    print(i, end = ' ')"
   ]
  },
  {
   "cell_type": "code",
   "execution_count": 89,
   "metadata": {},
   "outputs": [
    {
     "output_type": "execute_result",
     "data": {
      "text/plain": [
       "['one', 'two', 'three', 'four']"
      ]
     },
     "metadata": {},
     "execution_count": 89
    }
   ],
   "source": [
    "dict = {'one' : 1, 'two' : 2, 'three' : 3, 'four' : 4}\n",
    "\n",
    "lst1 = [x for x in dict]\n",
    "lst1"
   ]
  },
  {
   "cell_type": "code",
   "execution_count": 90,
   "metadata": {},
   "outputs": [
    {
     "output_type": "execute_result",
     "data": {
      "text/plain": [
       "['one', 'two', 'three', 'four']"
      ]
     },
     "metadata": {},
     "execution_count": 90
    }
   ],
   "source": [
    "lst2 = []\n",
    "for x in dict :\n",
    "    lst2.append(x)\n",
    "\n",
    "lst2"
   ]
  },
  {
   "cell_type": "code",
   "execution_count": 92,
   "metadata": {},
   "outputs": [
    {
     "output_type": "execute_result",
     "data": {
      "text/plain": [
       "[2, 4, 6, 8, 10]"
      ]
     },
     "metadata": {},
     "execution_count": 92
    }
   ],
   "source": [
    "dict = [1,2,3,4,5,6,7,8,9,10]\n",
    "lst1 = [x for x in dict if x % 2 == 0]\n",
    "lst1"
   ]
  },
  {
   "source": [
    "### while"
   ],
   "cell_type": "markdown",
   "metadata": {}
  },
  {
   "cell_type": "code",
   "execution_count": 93,
   "metadata": {},
   "outputs": [
    {
     "output_type": "stream",
     "name": "stdout",
     "text": [
      "0 1 2 3 4 5 6 7 8 9 "
     ]
    }
   ],
   "source": [
    "i = 0\n",
    "while i < 10 :\n",
    "    print(i, end = ' ')\n",
    "    i += 1"
   ]
  },
  {
   "cell_type": "code",
   "execution_count": 13,
   "metadata": {},
   "outputs": [
    {
     "output_type": "stream",
     "name": "stdout",
     "text": [
      "1 3 5 7 9 "
     ]
    }
   ],
   "source": [
    "num = 0\n",
    "while num < 10:\n",
    "    num += 1\n",
    "    if num % 2 == 0:\n",
    "        continue\n",
    "    print(num, end = ' ')"
   ]
  },
  {
   "cell_type": "code",
   "execution_count": 34,
   "metadata": {},
   "outputs": [
    {
     "output_type": "execute_result",
     "data": {
      "text/plain": [
       "[[[1, 2, 3, 4, 5], [11, 12, 13, 14, 15], [21, 22, 23, 24, 25]],\n",
       " [[6, 7, 8, 9, 10], [16, 17, 18, 19, 20], [26, 27, 28, 29, 30]]]"
      ]
     },
     "metadata": {},
     "execution_count": 34
    }
   ],
   "source": [
    "list_3d = [\n",
    "    [[1,2,3,4,5],\n",
    "    [11,12,13,14,15],\n",
    "    [21,22,23,24,25]],\n",
    "    \n",
    "    [[6,7,8,9,10],\n",
    "    [16,17,18,19,20],\n",
    "    [26,27,28,29,30]]\n",
    "]\n",
    "list_3d"
   ]
  },
  {
   "cell_type": "code",
   "execution_count": 16,
   "metadata": {},
   "outputs": [
    {
     "output_type": "execute_result",
     "data": {
      "text/plain": [
       "23"
      ]
     },
     "metadata": {},
     "execution_count": 16
    }
   ],
   "source": [
    "list_3d[0][2][2]"
   ]
  },
  {
   "cell_type": "code",
   "execution_count": 35,
   "metadata": {},
   "outputs": [
    {
     "output_type": "stream",
     "name": "stdout",
     "text": [
      "\n1 2 3 4 5 \n11 12 13 14 15 \n21 22 23 24 25 \n\n\n6 7 8 9 10 \n16 17 18 19 20 \n26 27 28 29 30 \n\n"
     ]
    }
   ],
   "source": [
    "for i in range(len(list_3d)) :\n",
    "    for j in range(len(list_3d[i])) :\n",
    "        print()\n",
    "        for k in range(len(list_3d[i][j])) :\n",
    "            print(list_3d[i][j][k], end = ' ')\n",
    "    print('\\n')"
   ]
  },
  {
   "cell_type": "code",
   "execution_count": 32,
   "metadata": {},
   "outputs": [],
   "source": [
    "list_3d[0][2][2] = 100\n",
    "\n",
    "for i in range(len(list_3d)) :\n",
    "    for j in range(len(list_3d[i])) :\n",
    "        print('\\n')\n",
    "        for k in range(len(list_3d[i][j])) :\n",
    "            print(list_3d[i][j][k], end = ' ')\n",
    "    print('\\n')"
   ]
  }
 ]
}