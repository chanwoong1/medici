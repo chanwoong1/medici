{
 "metadata": {
  "language_info": {
   "codemirror_mode": {
    "name": "ipython",
    "version": 3
   },
   "file_extension": ".py",
   "mimetype": "text/x-python",
   "name": "python",
   "nbconvert_exporter": "python",
   "pygments_lexer": "ipython3",
   "version": "3.8.5"
  },
  "orig_nbformat": 2,
  "kernelspec": {
   "name": "python385jvsc74a57bd03daa3430744053f4748a69c6948da8999f75f0c797f8ffecf263e95f10f995f6",
   "display_name": "Python 3.8.5 64-bit ('base': conda)"
  }
 },
 "nbformat": 4,
 "nbformat_minor": 2,
 "cells": [
  {
   "cell_type": "code",
   "execution_count": 1,
   "metadata": {},
   "outputs": [
    {
     "output_type": "stream",
     "name": "stdout",
     "text": [
      "True\n"
     ]
    }
   ],
   "source": [
    "a = False\n",
    "if not a :\n",
    "    print(True)\n",
    "else :\n",
    "    print(False)"
   ]
  },
  {
   "cell_type": "code",
   "execution_count": 4,
   "metadata": {},
   "outputs": [
    {
     "output_type": "execute_result",
     "data": {
      "text/plain": [
       "False"
      ]
     },
     "metadata": {},
     "execution_count": 4
    }
   ],
   "source": [
    "'Hello' > 'World'"
   ]
  },
  {
   "source": [
    "위의 논리 연산자가 거짓인 이유는 아스키코드 상 대문자 h가 대문자 w보다 앞선 수이기 때문이다. 만약 첫 문자가 둘 다 대문자 h로 같다면, 그 다음 문자로 아스키코드 비교를 수행한다."
   ],
   "cell_type": "markdown",
   "metadata": {}
  },
  {
   "source": [
    "### 비트 연산자"
   ],
   "cell_type": "markdown",
   "metadata": {}
  },
  {
   "cell_type": "code",
   "execution_count": 11,
   "metadata": {},
   "outputs": [
    {
     "output_type": "execute_result",
     "data": {
      "text/plain": [
       "5"
      ]
     },
     "metadata": {},
     "execution_count": 11
    }
   ],
   "source": [
    "11 >> 1"
   ]
  },
  {
   "cell_type": "code",
   "execution_count": 12,
   "metadata": {},
   "outputs": [
    {
     "output_type": "execute_result",
     "data": {
      "text/plain": [
       "2"
      ]
     },
     "metadata": {},
     "execution_count": 12
    }
   ],
   "source": [
    "#   1011\n",
    "# & 0110\n",
    "#--------\n",
    "#   0010\n",
    "11 & 6"
   ]
  },
  {
   "cell_type": "code",
   "execution_count": 13,
   "metadata": {},
   "outputs": [
    {
     "output_type": "execute_result",
     "data": {
      "text/plain": [
       "15"
      ]
     },
     "metadata": {},
     "execution_count": 13
    }
   ],
   "source": [
    "#   1011\n",
    "# | 0110\n",
    "#--------\n",
    "#   1111\n",
    "11 | 6"
   ]
  },
  {
   "cell_type": "code",
   "execution_count": 14,
   "metadata": {},
   "outputs": [
    {
     "output_type": "execute_result",
     "data": {
      "text/plain": [
       "13"
      ]
     },
     "metadata": {},
     "execution_count": 14
    }
   ],
   "source": [
    "#   1011\n",
    "# ^ 0110      (다르면 1, 같으면 0 반환)\n",
    "#--------\n",
    "#   1101\n",
    "11 ^ 6"
   ]
  },
  {
   "cell_type": "code",
   "execution_count": 15,
   "metadata": {},
   "outputs": [
    {
     "output_type": "execute_result",
     "data": {
      "text/plain": [
       "-12"
      ]
     },
     "metadata": {},
     "execution_count": 15
    }
   ],
   "source": [
    "~11"
   ]
  },
  {
   "cell_type": "code",
   "execution_count": 19,
   "metadata": {},
   "outputs": [
    {
     "output_type": "execute_result",
     "data": {
      "text/plain": [
       "'0b1011'"
      ]
     },
     "metadata": {},
     "execution_count": 19
    }
   ],
   "source": [
    "bin(11)"
   ]
  },
  {
   "cell_type": "code",
   "execution_count": 17,
   "metadata": {},
   "outputs": [
    {
     "output_type": "execute_result",
     "data": {
      "text/plain": [
       "'-0b1100'"
      ]
     },
     "metadata": {},
     "execution_count": 17
    }
   ],
   "source": [
    "bin(-12)"
   ]
  },
  {
   "cell_type": "code",
   "execution_count": 20,
   "metadata": {},
   "outputs": [
    {
     "output_type": "execute_result",
     "data": {
      "text/plain": [
       "True"
      ]
     },
     "metadata": {},
     "execution_count": 20
    }
   ],
   "source": [
    "isinstance(10, int)"
   ]
  },
  {
   "cell_type": "code",
   "execution_count": 21,
   "metadata": {},
   "outputs": [
    {
     "output_type": "execute_result",
     "data": {
      "text/plain": [
       "9.734"
      ]
     },
     "metadata": {},
     "execution_count": 21
    }
   ],
   "source": [
    "a = 3.14\n",
    "b = 2\n",
    "c = 3.1\n",
    "if isinstance(a, float) :\n",
    "    a = a * c\n",
    "else :\n",
    "    a = a * b\n",
    "a"
   ]
  },
  {
   "source": [
    "# 3장. 데이터 구조\n",
    "\n",
    "## 1절. 리스트\n",
    "\n",
    "### 리스트 만들기\n",
    "\n",
    "- 변수명 = \\[ ... \\] : 1차원 리스트\n",
    "- 변수명 = \\[ \\[ ... \\] , \\[ ... ] ] : 2차원 리스트\n",
    "- 변수명 = \\[ \\[ \\[ ... ], \\[ ... ] , ... ] , ... ] : 3차원 리스트"
   ],
   "cell_type": "markdown",
   "metadata": {}
  },
  {
   "cell_type": "code",
   "execution_count": 40,
   "metadata": {},
   "outputs": [
    {
     "output_type": "stream",
     "name": "stdout",
     "text": [
      "3185537231232\n3185537843952\n3185537843376\n3185537844912\n3185537844464\n3185537843952\n3185537843376\n3185537844912\n3185537844464\n"
     ]
    }
   ],
   "source": [
    "fruits = ['banana','apple', 'orange', 'grape']\n",
    "print(id(fruits))\n",
    "print(id(fruits[0]))\n",
    "print(id(fruits[1]))\n",
    "print(id(fruits[2]))\n",
    "print(id(fruits[3]))\n",
    "print(id('banana'))\n",
    "print(id('apple'))\n",
    "print(id('orange'))\n",
    "print(id('grape'))"
   ]
  },
  {
   "cell_type": "code",
   "execution_count": 37,
   "metadata": {},
   "outputs": [
    {
     "output_type": "execute_result",
     "data": {
      "text/plain": [
       "'p'"
      ]
     },
     "metadata": {},
     "execution_count": 37
    }
   ],
   "source": [
    "fruits[1][1]"
   ]
  },
  {
   "cell_type": "code",
   "execution_count": 39,
   "metadata": {},
   "outputs": [
    {
     "output_type": "execute_result",
     "data": {
      "text/plain": [
       "['banana', 'mango', 'orange', 'grape']"
      ]
     },
     "metadata": {},
     "execution_count": 39
    }
   ],
   "source": [
    "fruits[1] = 'mango'\n",
    "fruits"
   ]
  },
  {
   "cell_type": "code",
   "execution_count": 42,
   "metadata": {},
   "outputs": [
    {
     "output_type": "stream",
     "name": "stdout",
     "text": [
      "[[1, 2, 3, 4, 5], [10, 20, 30, 40, 50], [1, 3, 5, 7, 9], [2, 4, 6, 8, 10]]\n"
     ]
    }
   ],
   "source": [
    "number_2d = [[1,2,3,4,5],[10,20,30,40,50],[1,3,5,7,9],[2,4,6,8,10]]\n",
    "print(number_2d)"
   ]
  },
  {
   "cell_type": "code",
   "execution_count": 43,
   "metadata": {},
   "outputs": [
    {
     "output_type": "execute_result",
     "data": {
      "text/plain": [
       "[0, 1, 2, 3, 4, 5, 6, 7, 8, 9]"
      ]
     },
     "metadata": {},
     "execution_count": 43
    }
   ],
   "source": [
    "list(range(10))"
   ]
  },
  {
   "cell_type": "code",
   "execution_count": 44,
   "metadata": {},
   "outputs": [
    {
     "output_type": "stream",
     "name": "stdout",
     "text": [
      "0 1 2 "
     ]
    }
   ],
   "source": [
    "for i in range(3) :\n",
    "    print(i, end= ' ')"
   ]
  },
  {
   "cell_type": "code",
   "execution_count": 45,
   "metadata": {},
   "outputs": [
    {
     "output_type": "execute_result",
     "data": {
      "text/plain": [
       "[0, 1, 2, 3, 4, 5, 6, 7, 8, 9]"
      ]
     },
     "metadata": {},
     "execution_count": 45
    }
   ],
   "source": [
    "lst = []\n",
    "for i in range(10) :\n",
    "    lst.append(i)\n",
    "\n",
    "lst"
   ]
  },
  {
   "cell_type": "code",
   "execution_count": 50,
   "metadata": {},
   "outputs": [],
   "source": [
    "def lst(a) :\n",
    "    lst= []\n",
    "    for i in range(1,a+1) :\n",
    "        lst.append(i)\n",
    "    return lst\n"
   ]
  },
  {
   "cell_type": "code",
   "execution_count": 51,
   "metadata": {},
   "outputs": [
    {
     "output_type": "execute_result",
     "data": {
      "text/plain": [
       "[1, 2, 3, 4, 5, 6, 7, 8, 9, 10, 11, 12, 13, 14, 15, 16, 17, 18, 19, 20]"
      ]
     },
     "metadata": {},
     "execution_count": 51
    }
   ],
   "source": [
    "lst(20)"
   ]
  },
  {
   "cell_type": "code",
   "execution_count": 53,
   "metadata": {},
   "outputs": [],
   "source": [
    "def tmin(lst) :\n",
    "    min = 9999;\n",
    "    for i in range(len(lst)-1) :\n",
    "        if lst[i] < min :\n",
    "            min = lst[i]\n",
    "    return min"
   ]
  },
  {
   "cell_type": "code",
   "execution_count": 54,
   "metadata": {},
   "outputs": [
    {
     "output_type": "execute_result",
     "data": {
      "text/plain": [
       "1"
      ]
     },
     "metadata": {},
     "execution_count": 54
    }
   ],
   "source": [
    "tmin(lst(20))"
   ]
  },
  {
   "cell_type": "code",
   "execution_count": 55,
   "metadata": {},
   "outputs": [],
   "source": [
    "numbers = [1,2,3,4,5]\n",
    "number_2d = [[1,2,3,4,5],[10,20,30,40,50],[1,3,5,7,9],[2,4,6,8,10]]"
   ]
  },
  {
   "cell_type": "code",
   "execution_count": 56,
   "metadata": {},
   "outputs": [
    {
     "output_type": "execute_result",
     "data": {
      "text/plain": [
       "[1, 2, 3, 4, 5, 1, 2, 3, 4, 5]"
      ]
     },
     "metadata": {},
     "execution_count": 56
    }
   ],
   "source": [
    "numbers + numbers"
   ]
  },
  {
   "cell_type": "code",
   "execution_count": 57,
   "metadata": {},
   "outputs": [
    {
     "output_type": "execute_result",
     "data": {
      "text/plain": [
       "[1, 2, 3, 4, 5, 1, 2, 3, 4, 5, 1, 2, 3, 4, 5]"
      ]
     },
     "metadata": {},
     "execution_count": 57
    }
   ],
   "source": [
    "3 * numbers"
   ]
  },
  {
   "cell_type": "code",
   "execution_count": 59,
   "metadata": {},
   "outputs": [
    {
     "output_type": "execute_result",
     "data": {
      "text/plain": [
       "[1, 2, 3, 4, 5, 10, 10]"
      ]
     },
     "metadata": {},
     "execution_count": 59
    }
   ],
   "source": [
    "numbers.append(10)\n",
    "numbers"
   ]
  },
  {
   "cell_type": "code",
   "execution_count": 60,
   "metadata": {},
   "outputs": [
    {
     "output_type": "execute_result",
     "data": {
      "text/plain": [
       "[1, 2, 3, 4, 5, 10, 10, [20, 30, 40, 50], 'Hello']"
      ]
     },
     "metadata": {},
     "execution_count": 60
    }
   ],
   "source": [
    "numbers.append([20,30,40,50])\n",
    "numbers.append('Hello')\n",
    "numbers"
   ]
  },
  {
   "cell_type": "code",
   "execution_count": 61,
   "metadata": {},
   "outputs": [
    {
     "output_type": "execute_result",
     "data": {
      "text/plain": [
       "[1, 2, 3, 4, 5, 10, 20, 30, 40, 50]"
      ]
     },
     "metadata": {},
     "execution_count": 61
    }
   ],
   "source": [
    "numbers = [1,2,3,4,5]\n",
    "numbers.extend([10,20,30,40,50])\n",
    "numbers"
   ]
  },
  {
   "cell_type": "code",
   "execution_count": 63,
   "metadata": {},
   "outputs": [
    {
     "output_type": "execute_result",
     "data": {
      "text/plain": [
       "[1, 2, 3, 4, 5, 'H', 'e', 'l', 'l', 'o']"
      ]
     },
     "metadata": {},
     "execution_count": 63
    }
   ],
   "source": [
    "numbers = [1,2,3,4,5]\n",
    "numbers.extend('Hello')\n",
    "numbers"
   ]
  },
  {
   "source": [
    "numbers = [1,3,5,7,9,1,2,3,4,5]\n",
    "numbers[0:5]"
   ],
   "cell_type": "code",
   "metadata": {},
   "execution_count": 64,
   "outputs": [
    {
     "output_type": "execute_result",
     "data": {
      "text/plain": [
       "[1, 3, 5, 7, 9]"
      ]
     },
     "metadata": {},
     "execution_count": 64
    }
   ]
  },
  {
   "cell_type": "code",
   "execution_count": 65,
   "metadata": {},
   "outputs": [
    {
     "output_type": "execute_result",
     "data": {
      "text/plain": [
       "[20, 30, 1, 2, 3, 4, 5]"
      ]
     },
     "metadata": {},
     "execution_count": 65
    }
   ],
   "source": [
    "numbers[0:5] = [20,30]\n",
    "numbers"
   ]
  },
  {
   "cell_type": "code",
   "execution_count": 67,
   "metadata": {},
   "outputs": [
    {
     "output_type": "execute_result",
     "data": {
      "text/plain": [
       "[100, 30, 200, 2, 3, 4, 5]"
      ]
     },
     "metadata": {},
     "execution_count": 67
    }
   ],
   "source": [
    "numbers[0:4:2] = [100,200]\n",
    "numbers"
   ]
  },
  {
   "cell_type": "code",
   "execution_count": 68,
   "metadata": {},
   "outputs": [
    {
     "output_type": "execute_result",
     "data": {
      "text/plain": [
       "[6, 2, 7, 4, 10, 8, 3, 9, 1, 5]"
      ]
     },
     "metadata": {},
     "execution_count": 68
    }
   ],
   "source": [
    "numbers = [6,2,7,4,10,8,3,9,1,5]\n",
    "numbers"
   ]
  },
  {
   "cell_type": "code",
   "execution_count": 69,
   "metadata": {},
   "outputs": [
    {
     "output_type": "execute_result",
     "data": {
      "text/plain": [
       "[1, 2, 3, 4, 5, 6, 7, 8, 9, 10]"
      ]
     },
     "metadata": {},
     "execution_count": 69
    }
   ],
   "source": [
    "numbers.sort()\n",
    "numbers"
   ]
  },
  {
   "cell_type": "code",
   "execution_count": 70,
   "metadata": {},
   "outputs": [
    {
     "output_type": "execute_result",
     "data": {
      "text/plain": [
       "[5, 1, 9, 3, 8, 10, 4, 7, 2, 6]"
      ]
     },
     "metadata": {},
     "execution_count": 70
    }
   ],
   "source": [
    "numbers = [6,2,7,4,10,8,3,9,1,5]\n",
    "numbers.reverse()\n",
    "numbers"
   ]
  },
  {
   "cell_type": "code",
   "execution_count": 71,
   "metadata": {},
   "outputs": [
    {
     "output_type": "stream",
     "name": "stdout",
     "text": [
      "[6, 2, 7, 4, 10, 8, 3, 9, 1, 5] [6, 2, 7, 4, 10, 8, 3, 9, 1, 5]\n"
     ]
    }
   ],
   "source": [
    "numbers = [6,2,7,4,10,8,3,9,1,5]\n",
    "new_numbers = numbers.copy()\n",
    "print(numbers, new_numbers)"
   ]
  },
  {
   "cell_type": "code",
   "execution_count": 72,
   "metadata": {},
   "outputs": [
    {
     "output_type": "stream",
     "name": "stdout",
     "text": [
      "[[1, 2, 3, 4], [5, 6, 7, 8]]\n[[9, 2, 3, 4], [5, 6, 7, 8]]\n"
     ]
    }
   ],
   "source": [
    "L = [[1,2,3,4],[5,6,7,8]]\n",
    "L2 = [sub.copy() for sub in L]\n",
    "L2[0][0] = 9\n",
    "print(L)\n",
    "print(L2)"
   ]
  },
  {
   "cell_type": "code",
   "execution_count": 73,
   "metadata": {},
   "outputs": [
    {
     "output_type": "stream",
     "name": "stdout",
     "text": [
      "[1, 2, 3, 4]\n[5, 6, 7, 8]\n"
     ]
    }
   ],
   "source": [
    "L =[[1,2,3,4],[5,6,7,8]]\n",
    "for sub in L :\n",
    "    print(sub)"
   ]
  },
  {
   "cell_type": "code",
   "execution_count": 75,
   "metadata": {},
   "outputs": [
    {
     "output_type": "stream",
     "name": "stdout",
     "text": [
      "[[1, 2, 3, 4], [5, 6, 7, 8]]\n[[9, 2, 3, 4], [5, 6, 7, 8]]\n"
     ]
    }
   ],
   "source": [
    "L2 = []\n",
    "for sub in L :\n",
    "    L2.append(sub.copy())\n",
    "\n",
    "L2[0][0] = 9\n",
    "print(L)\n",
    "print(L2)"
   ]
  },
  {
   "cell_type": "code",
   "execution_count": 76,
   "metadata": {},
   "outputs": [
    {
     "output_type": "stream",
     "name": "stdout",
     "text": [
      "[[1, 2, 3, 4], [5, 6, 7, 8]]\n[[9, 2, 3, 4], [5, 6, 7, 8]]\n"
     ]
    }
   ],
   "source": [
    "L =[[1,2,3,4],[5,6,7,8]]\n",
    "L2 = []\n",
    "for subs in L:\n",
    "    L3 = []\n",
    "    for sub in subs :\n",
    "        L3.append(sub)\n",
    "    L2.append(L3)\n",
    "L2[0][0] = 9\n",
    "print(L)\n",
    "print(L2)"
   ]
  },
  {
   "cell_type": "code",
   "execution_count": 79,
   "metadata": {},
   "outputs": [
    {
     "output_type": "stream",
     "name": "stdout",
     "text": [
      "0  3  \n--------------------------------------------------\n0  \n--------------------------------------------------\n"
     ]
    }
   ],
   "source": [
    "# STEP 1\n",
    "# LIST를 이용한 FLAG 처리\n",
    "flag = [0,0,0,0]\n",
    "flag[0] = 1\n",
    "flag[3] = 1\n",
    "\n",
    "for i in range(len(flag)) :\n",
    "    if flag[i] :\n",
    "        print(\"%d\" % i, end = '  ')\n",
    "print(\"\\n%s\" %('-' * 50))\n",
    "\n",
    "flag[3] = 0\n",
    "\n",
    "for i in range(len(flag)) :\n",
    "    if flag[i] :\n",
    "        print(\"%d\" % i, end = '  ')\n",
    "print(\"\\n%s\" %('-' * 50))\n"
   ]
  },
  {
   "cell_type": "code",
   "execution_count": 101,
   "metadata": {},
   "outputs": [
    {
     "output_type": "stream",
     "name": "stdout",
     "text": [
      "0  3  5  6  7  8  9  \n--------------------------------------------------\n0  5  6  7  8  9  \n--------------------------------------------------\n"
     ]
    }
   ],
   "source": [
    "# STEP 2\n",
    "# 비트 연산자를 활용한 FLAG 처리\n",
    "\n",
    "flag = 0\n",
    "\n",
    "flag |= 1\n",
    "flag |= 1000\n",
    "\n",
    "for i in range(len(bin(flag)) - 2) :\n",
    "    if (flag & (1 << i)) :\n",
    "        print(\"%d\" % i, end = '  ')\n",
    "print(\"\\n%s\" %('-' * 50))\n",
    "\n",
    "flag &= ~8\n",
    "\n",
    "for i in range(len(bin(flag)) - 2) :\n",
    "    if (flag & (1 << i)) :\n",
    "        print(\"%d\" % i, end = '  ')\n",
    "print(\"\\n%s\" %('-' * 50))"
   ]
  },
  {
   "cell_type": "code",
   "execution_count": 111,
   "metadata": {},
   "outputs": [
    {
     "output_type": "stream",
     "name": "stdout",
     "text": [
      "0  3  \n--------------------------------------------------\n0  \n--------------------------------------------------\n"
     ]
    }
   ],
   "source": [
    "# STEP 3\n",
    "# shift 연산자를 활용하여 가독성을 높이기\n",
    "\n",
    "flag = 0\n",
    "\n",
    "flag |= 1 << 0\n",
    "flag |= 1 << 3\n",
    "\n",
    "for i in range(len(bin(flag)) - 2) :\n",
    "    if (flag & (1 << i)) :\n",
    "        print(\"%d\" % i, end = '  ')\n",
    "print(\"\\n%s\" %('-' * 50))\n",
    "\n",
    "flag &= ~(1 << 3)\n",
    "\n",
    "for i in range(len(bin(flag)) - 2) :\n",
    "    if (flag & (1 << i)) :\n",
    "        print(\"%d\" % i, end = '  ')\n",
    "print(\"\\n%s\" %('-' * 50))"
   ]
  },
  {
   "cell_type": "code",
   "execution_count": 1,
   "metadata": {},
   "outputs": [
    {
     "output_type": "stream",
     "name": "stdout",
     "text": [
      "700  800  \n--------------------------------------------------\n700  \n--------------------------------------------------\n"
     ]
    }
   ],
   "source": [
    "# STEP 4\n",
    "# 1000개의 아이템 사용하기\n",
    "\n",
    "flag = list()\n",
    "\n",
    "for i in range(16) :\n",
    "    flag.append(0)\n",
    "\n",
    "flag[int(700/64)] |= ( 1 << (700 % 64))\n",
    "flag[int(800/64)] |= ( 1 << (800 % 64))\n",
    "\n",
    "for i in range(len(flag)*64) :\n",
    "    if (flag[i // 64] & (1 << (i % 64))) :\n",
    "        print(\"%d\" % i, end = '  ')\n",
    "print(\"\\n%s\" %('-' * 50))\n",
    "\n",
    "flag[int(800/64)] &= ~( 1 << (800 % 64))\n",
    "\n",
    "for i in range(1024) :\n",
    "    if (flag[i // 64] & (1 << (i % 64))) :\n",
    "        print(\"%d\" % i, end = '  ')\n",
    "print(\"\\n%s\" %('-' * 50))"
   ]
  },
  {
   "cell_type": "code",
   "execution_count": 121,
   "metadata": {},
   "outputs": [
    {
     "output_type": "stream",
     "name": "stdout",
     "text": [
      "700  800  \n--------------------------------------------------\n700  \n--------------------------------------------------\n"
     ]
    }
   ],
   "source": [
    "# STEP 5\n",
    "# 함수를 사용한 모듈화\n",
    "\n",
    "def bit_set(index) :\n",
    "    flag[int(index/64)] |= (1 << (index % 64))\n",
    "\n",
    "def bit_clear(index) :\n",
    "    flag[index//64] &= ~(1 << (index % 64))\n",
    "\n",
    "def bit_is_set(index) :\n",
    "    return flag[index // 64] & (1 << (index % 64))\n",
    "\n",
    "\n",
    "flag = list()\n",
    "\n",
    "for i in range(16) :\n",
    "    flag.append(0)\n",
    "\n",
    "bit_set(700)\n",
    "bit_set(800)\n",
    "\n",
    "for i in range(len(flag)*64) :\n",
    "    if (bit_is_set(i)) :\n",
    "        print(\"%d\" % i, end = '  ')\n",
    "print(\"\\n%s\" %('-' * 50))\n",
    "\n",
    "bit_clear(800)\n",
    "\n",
    "for i in range(1024) :\n",
    "    if (bit_is_set(i)) :\n",
    "        print(\"%d\" % i, end = '  ')\n",
    "print(\"\\n%s\" %('-' * 50))"
   ]
  },
  {
   "cell_type": "code",
   "execution_count": 123,
   "metadata": {},
   "outputs": [
    {
     "output_type": "stream",
     "name": "stdout",
     "text": [
      "700  800  \n--------------------------------------------------\n700  \n--------------------------------------------------\n"
     ]
    }
   ],
   "source": [
    "# STEP 6\n",
    "# BIT 자료형 생성, 초기화 및 할당\n",
    "\n",
    "def bit_set(index) :\n",
    "    flag[int(index/64)] |= (1 << (index % 64))\n",
    "\n",
    "def bit_clear(index) :\n",
    "    flag[index//64] &= ~(1 << (index % 64))\n",
    "\n",
    "def bit_is_set(index) :\n",
    "    return flag[index // 64] & (1 << (index % 64))\n",
    "\n",
    "def BIT(index) :\n",
    "    flag = []\n",
    "    for i in range(index) :\n",
    "        flag.append(0)\n",
    "    return flag\n",
    "\n",
    "#--------------------------------------------------------------------    \n",
    "\n",
    "flag = BIT(16)\n",
    "\n",
    "bit_set(700)\n",
    "bit_set(800)\n",
    "\n",
    "for i in range(len(flag)*64) :\n",
    "    if (bit_is_set(i)) :\n",
    "        print(\"%d\" % i, end = '  ')\n",
    "print(\"\\n%s\" %('-' * 50))\n",
    "\n",
    "bit_clear(800)\n",
    "\n",
    "for i in range(1024) :\n",
    "    if (bit_is_set(i)) :\n",
    "        print(\"%d\" % i, end = '  ')\n",
    "print(\"\\n%s\" %('-' * 50))"
   ]
  },
  {
   "cell_type": "code",
   "execution_count": 3,
   "metadata": {},
   "outputs": [
    {
     "output_type": "stream",
     "name": "stdout",
     "text": [
      "700  800  \n--------------------------------------------------\n800  \n--------------------------------------------------\n"
     ]
    }
   ],
   "source": [
    "# STEP 7\n",
    "# 루틴 테스트\n",
    "# main() 함수 만들기\n",
    "\n",
    "def bit_set(df, index) :\n",
    "    df[int(index/64)] |= (1 << (index % 64))\n",
    "\n",
    "def bit_clear(df, index) :\n",
    "    df[index//64] &= ~(1 << (index % 64))\n",
    "\n",
    "def bit_is_set(df, index) :\n",
    "    return df[index // 64] & (1 << (index % 64))\n",
    "\n",
    "def BIT(index) :\n",
    "    df = []\n",
    "    for i in range(index) :\n",
    "        df.append(0)\n",
    "    return df\n",
    "\n",
    "def print_room(df) : \n",
    "    for i in range(len(df)*64) :\n",
    "        if (bit_is_set(df, i)) :\n",
    "            print(\"%d\" % i, end = '  ')\n",
    "    print(\"\\n%s\" %('-' * 50))\n",
    "\n",
    "#--------------------------------------------------------------------    \n",
    "\n",
    "\n",
    "def main() :\n",
    "    flag1 = BIT(16)\n",
    "    bit_set(flag1, 700)\n",
    "    bit_set(flag1, 800)\n",
    "    \n",
    "    print_room(flag1)\n",
    "\n",
    "    bit_clear(flag1, 700)\n",
    "\n",
    "    print_room(flag1)\n",
    "\n",
    "if __name__ == '__main__' :\n",
    "    main()"
   ]
  },
  {
   "cell_type": "code",
   "execution_count": 150,
   "metadata": {},
   "outputs": [
    {
     "output_type": "stream",
     "name": "stdout",
     "text": [
      "700  800  \n--------------------------------------------------\n800  \n--------------------------------------------------\n100  200  \n--------------------------------------------------\n100  \n--------------------------------------------------\n"
     ]
    }
   ],
   "source": [
    "# STEP 7\n",
    "# 루틴 테스트\n",
    "# main() 함수 만들기\n",
    "\n",
    "def bit_set(df, index) :\n",
    "    df[int(index/64)] |= (1 << (index % 64))\n",
    "\n",
    "def bit_clear(df, index) :\n",
    "    df[index//64] &= ~(1 << (index % 64))\n",
    "\n",
    "def bit_is_set(df, index) :\n",
    "    return df[index // 64] & (1 << (index % 64))\n",
    "\n",
    "def BIT(index) :\n",
    "    df = []\n",
    "    for i in range(index) :\n",
    "        df.append(0)\n",
    "    return df\n",
    "\n",
    "#--------------------------------------------------------------------    \n",
    "\n",
    "\n",
    "def main() :\n",
    "    flag1 = BIT(16)\n",
    "    bit_set(flag1, 700)\n",
    "    bit_set(flag1, 800)\n",
    "\n",
    "    flag2 = BIT(16)\n",
    "\n",
    "    for i in range(1024) :\n",
    "        if (bit_is_set(flag1, i)) :\n",
    "            print(\"%d\" % i, end = '  ')\n",
    "    print(\"\\n%s\" %('-' * 50))\n",
    "\n",
    "    bit_clear(flag1, 700)\n",
    "\n",
    "    for i in range(1024) :\n",
    "        if (bit_is_set(flag1, i)) :\n",
    "            print(\"%d\" % i, end = '  ')\n",
    "    print(\"\\n%s\" %('-' * 50))\n",
    "\n",
    "    bit_set(flag2, 100)\n",
    "    bit_set(flag2, 200)\n",
    "\n",
    "    for i in range(1024) :\n",
    "        if (bit_is_set(flag2, i)) :\n",
    "            print(\"%d\" % i, end = '  ')\n",
    "    print(\"\\n%s\" %('-' * 50))\n",
    "\n",
    "    bit_clear(flag2, 200)\n",
    "\n",
    "    for i in range(1024) :\n",
    "        if (bit_is_set(flag2, i)) :\n",
    "            print(\"%d\" % i, end = '  ')\n",
    "    print(\"\\n%s\" %('-' * 50))\n",
    "\n",
    "if __name__ == '__main__' :\n",
    "    main()"
   ]
  },
  {
   "cell_type": "code",
   "execution_count": 158,
   "metadata": {},
   "outputs": [
    {
     "output_type": "execute_result",
     "data": {
      "text/plain": [
       "['c:\\\\Users\\\\medici\\\\Desktop\\\\Python\\\\JupyterNotebook',\n",
       " 'c:\\\\Users\\\\medici\\\\.vscode\\\\extensions\\\\ms-toolsai.jupyter-2021.6.832593372\\\\pythonFiles',\n",
       " 'c:\\\\Users\\\\medici\\\\.vscode\\\\extensions\\\\ms-toolsai.jupyter-2021.6.832593372\\\\pythonFiles\\\\lib\\\\python',\n",
       " 'C:\\\\Users\\\\medici\\\\anaconda3\\\\python38.zip',\n",
       " 'C:\\\\Users\\\\medici\\\\anaconda3\\\\DLLs',\n",
       " 'C:\\\\Users\\\\medici\\\\anaconda3\\\\lib',\n",
       " 'C:\\\\Users\\\\medici\\\\anaconda3',\n",
       " '',\n",
       " 'C:\\\\Users\\\\medici\\\\anaconda3\\\\lib\\\\site-packages',\n",
       " 'C:\\\\Users\\\\medici\\\\anaconda3\\\\lib\\\\site-packages\\\\win32',\n",
       " 'C:\\\\Users\\\\medici\\\\anaconda3\\\\lib\\\\site-packages\\\\win32\\\\lib',\n",
       " 'C:\\\\Users\\\\medici\\\\anaconda3\\\\lib\\\\site-packages\\\\Pythonwin',\n",
       " 'C:\\\\Users\\\\medici\\\\anaconda3\\\\lib\\\\site-packages\\\\IPython\\\\extensions',\n",
       " 'C:\\\\Users\\\\medici\\\\.ipython',\n",
       " 'C:/pythonlib',\n",
       " 'C:\\\\pythonlib',\n",
       " 'C:\\\\pythonlib',\n",
       " 'C:\\\\pythonlib']"
      ]
     },
     "metadata": {},
     "execution_count": 158
    }
   ],
   "source": [
    "import sys\n",
    "sys.path.append(r'C:\\pythonlib')\n",
    "sys.path"
   ]
  },
  {
   "cell_type": "code",
   "execution_count": 156,
   "metadata": {},
   "outputs": [
    {
     "output_type": "error",
     "ename": "ModuleNotFoundError",
     "evalue": "No module named 'bit'",
     "traceback": [
      "\u001b[1;31m---------------------------------------------------------------------------\u001b[0m",
      "\u001b[1;31mModuleNotFoundError\u001b[0m                       Traceback (most recent call last)",
      "\u001b[1;32m<ipython-input-156-06da5552ff0f>\u001b[0m in \u001b[0;36m<module>\u001b[1;34m\u001b[0m\n\u001b[1;32m----> 1\u001b[1;33m \u001b[1;32mfrom\u001b[0m \u001b[0mbit\u001b[0m \u001b[1;32mimport\u001b[0m \u001b[1;33m*\u001b[0m\u001b[1;33m\u001b[0m\u001b[1;33m\u001b[0m\u001b[0m\n\u001b[0m\u001b[0;32m      2\u001b[0m \u001b[1;33m\u001b[0m\u001b[0m\n\u001b[0;32m      3\u001b[0m \u001b[1;32mdef\u001b[0m \u001b[0mmain\u001b[0m\u001b[1;33m(\u001b[0m\u001b[1;33m)\u001b[0m \u001b[1;33m:\u001b[0m\u001b[1;33m\u001b[0m\u001b[1;33m\u001b[0m\u001b[0m\n\u001b[0;32m      4\u001b[0m     \u001b[0mflag1\u001b[0m \u001b[1;33m=\u001b[0m \u001b[0mbit\u001b[0m\u001b[1;33m.\u001b[0m\u001b[0mBIT\u001b[0m\u001b[1;33m(\u001b[0m\u001b[1;36m16\u001b[0m\u001b[1;33m)\u001b[0m\u001b[1;33m\u001b[0m\u001b[1;33m\u001b[0m\u001b[0m\n\u001b[0;32m      5\u001b[0m     \u001b[0mbit\u001b[0m\u001b[1;33m.\u001b[0m\u001b[0mbit_set\u001b[0m\u001b[1;33m(\u001b[0m\u001b[0mflag1\u001b[0m\u001b[1;33m,\u001b[0m \u001b[1;36m700\u001b[0m\u001b[1;33m)\u001b[0m\u001b[1;33m\u001b[0m\u001b[1;33m\u001b[0m\u001b[0m\n",
      "\u001b[1;31mModuleNotFoundError\u001b[0m: No module named 'bit'"
     ]
    }
   ],
   "source": [
    "from bit import *\n",
    "\n",
    "def main() :\n",
    "    flag1 = bit.BIT(16)\n",
    "    bit.bit_set(flag1, 700)\n",
    "    bit.bit_set(flag1, 800)\n",
    "\n",
    "    flag2 = BIT(16)\n",
    "\n",
    "    for i in range(1024) :\n",
    "        if (bit.bit_is_set(flag1, i)) :\n",
    "            print(\"%d\" % i, end = '  ')\n",
    "    print(\"\\n%s\" %('-' * 50))\n",
    "\n",
    "    bit.bit_clear(flag1, 800)\n",
    "\n",
    "    for i in range(1024) :\n",
    "        if (bit.bit_is_set(flag1, i)) :\n",
    "            print(\"%d\" % i, end = '  ')\n",
    "    print(\"\\n%s\" %('-' * 50))\n",
    "\n",
    "if __name__ == '__main__' :\n",
    "    main()"
   ]
  }
 ]
}