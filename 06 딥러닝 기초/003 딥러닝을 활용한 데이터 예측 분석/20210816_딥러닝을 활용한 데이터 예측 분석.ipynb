{
 "cells": [
  {
   "cell_type": "markdown",
   "id": "7f9a2b63",
   "metadata": {},
   "source": [
    "# 다층 신경망 XOR"
   ]
  },
  {
   "cell_type": "code",
   "execution_count": 64,
   "id": "3c5fcc06",
   "metadata": {},
   "outputs": [],
   "source": [
    "import numpy as np\n",
    "import matplotlib.pyplot as plt\n",
    "from keras.models import Sequential\n",
    "from keras.layers import Dense, LeakyReLU, Activation, Flatten, Dropout\n",
    "from keras.datasets import fashion_mnist\n",
    "from sklearn.metrics import confusion_matrix\n",
    "from sklearn import datasets\n",
    "import seaborn as sns"
   ]
  },
  {
   "cell_type": "code",
   "execution_count": 4,
   "id": "9f7820c2",
   "metadata": {},
   "outputs": [
    {
     "name": "stdout",
     "output_type": "stream",
     "text": [
      "[[0.00146818]\n",
      " [0.9982675 ]\n",
      " [0.99906284]\n",
      " [0.00203001]]\n",
      "[[False]\n",
      " [ True]\n",
      " [ True]\n",
      " [False]]\n"
     ]
    }
   ],
   "source": [
    "X = np.array([[0,0],[0,1],[1,0],[1,1]])\n",
    "y = np.array([[0],[1],[1],[0]])\n",
    "\n",
    "model = Sequential()\n",
    "model.add(Dense(5, activation='sigmoid'))\n",
    "model.add(Dense(5, activation='sigmoid'))\n",
    "model.add(Dense(1, activation='sigmoid'))\n",
    "model.compile(loss='binary_crossentropy', optimizer='adam')\n",
    "hist = model.fit(X, y,  epochs=7000, verbose=0)\n",
    "print(model.predict(X))\n",
    "print(model.predict(X) > 0.5)  # accuracy"
   ]
  },
  {
   "cell_type": "markdown",
   "id": "2b2add07",
   "metadata": {},
   "source": [
    "# ReLU 활성화 함수"
   ]
  },
  {
   "cell_type": "code",
   "execution_count": 6,
   "id": "0eb6e3a5",
   "metadata": {},
   "outputs": [
    {
     "name": "stdout",
     "output_type": "stream",
     "text": [
      "WARNING:tensorflow:5 out of the last 7 calls to <function Model.make_predict_function.<locals>.predict_function at 0x000001F583C275E0> triggered tf.function retracing. Tracing is expensive and the excessive number of tracings could be due to (1) creating @tf.function repeatedly in a loop, (2) passing tensors with different shapes, (3) passing Python objects instead of tensors. For (1), please define your @tf.function outside of the loop. For (2), @tf.function has experimental_relax_shapes=True option that relaxes argument shapes that can avoid unnecessary retracing. For (3), please refer to https://www.tensorflow.org/guide/function#controlling_retracing and https://www.tensorflow.org/api_docs/python/tf/function for  more details.\n",
      "[[0.26768702]\n",
      " [0.62468374]\n",
      " [0.6247496 ]\n",
      " [0.624829  ]]\n",
      "[[False]\n",
      " [ True]\n",
      " [ True]\n",
      " [ True]]\n"
     ]
    }
   ],
   "source": [
    "model = Sequential()\n",
    "model.add(Dense(5, activation='sigmoid'))\n",
    "model.add(Dense(5, activation='sigmoid'))\n",
    "model.add(Dense(5, activation='sigmoid'))\n",
    "model.add(Dense(5, activation='sigmoid'))\n",
    "model.add(Dense(5, activation='sigmoid'))\n",
    "model.add(Dense(5, activation='sigmoid'))\n",
    "model.add(Dense(5, activation='sigmoid'))\n",
    "model.add(Dense(5, activation='sigmoid'))\n",
    "model.add(Dense(5, activation='sigmoid'))\n",
    "model.add(Dense(1, activation='sigmoid'))\n",
    "model.compile(loss='binary_crossentropy', optimizer='adam')\n",
    "hist = model.fit(X, y,  epochs=7000, verbose=0)\n",
    "print(model.predict(X))\n",
    "print(model.predict(X) > 0.5)  # accuracy"
   ]
  },
  {
   "cell_type": "code",
   "execution_count": 8,
   "id": "3ee2c550",
   "metadata": {},
   "outputs": [
    {
     "name": "stdout",
     "output_type": "stream",
     "text": [
      "1/1 [==============================] - 0s 129ms/step - loss: 8.8104e-04 - accuracy: 1.0000\n",
      "1/1 [==============================] - 0s 247ms/step - loss: 0.4775 - accuracy: 0.7500\n",
      "1/1 [==============================] - 0s 181ms/step - loss: 0.4775 - accuracy: 0.7500\n",
      "WARNING:tensorflow:5 out of the last 5 calls to <function Model.make_test_function.<locals>.test_function at 0x000001F586654700> triggered tf.function retracing. Tracing is expensive and the excessive number of tracings could be due to (1) creating @tf.function repeatedly in a loop, (2) passing tensors with different shapes, (3) passing Python objects instead of tensors. For (1), please define your @tf.function outside of the loop. For (2), @tf.function has experimental_relax_shapes=True option that relaxes argument shapes that can avoid unnecessary retracing. For (3), please refer to https://www.tensorflow.org/guide/function#controlling_retracing and https://www.tensorflow.org/api_docs/python/tf/function for  more details.\n",
      "1/1 [==============================] - 0s 203ms/step - loss: 8.2339e-04 - accuracy: 1.0000\n",
      "WARNING:tensorflow:6 out of the last 6 calls to <function Model.make_test_function.<locals>.test_function at 0x000001F582AC1820> triggered tf.function retracing. Tracing is expensive and the excessive number of tracings could be due to (1) creating @tf.function repeatedly in a loop, (2) passing tensors with different shapes, (3) passing Python objects instead of tensors. For (1), please define your @tf.function outside of the loop. For (2), @tf.function has experimental_relax_shapes=True option that relaxes argument shapes that can avoid unnecessary retracing. For (3), please refer to https://www.tensorflow.org/guide/function#controlling_retracing and https://www.tensorflow.org/api_docs/python/tf/function for  more details.\n",
      "1/1 [==============================] - 0s 179ms/step - loss: 0.4775 - accuracy: 0.7500\n",
      "1/1 [==============================] - 0s 172ms/step - loss: 0.0102 - accuracy: 1.0000\n",
      "1/1 [==============================] - 0s 163ms/step - loss: 0.4775 - accuracy: 0.7500\n",
      "1/1 [==============================] - 0s 183ms/step - loss: 0.4776 - accuracy: 0.7500\n",
      "1/1 [==============================] - 0s 168ms/step - loss: 0.0012 - accuracy: 1.0000\n",
      "1/1 [==============================] - 0s 172ms/step - loss: 0.0020 - accuracy: 1.0000\n"
     ]
    }
   ],
   "source": [
    "accs = []\n",
    "for  i  in range(10) :\n",
    "    model = Sequential()\n",
    "    model.add(Dense(5, activation='sigmoid'))\n",
    "    model.add(Dense(5, activation='sigmoid'))\n",
    "    model.add(Dense(5, activation='sigmoid'))\n",
    "    model.add(Dense(5, activation='sigmoid'))\n",
    "    model.add(Dense(5, activation='sigmoid'))\n",
    "    model.add(Dense(5, activation='sigmoid'))\n",
    "    model.add(Dense(5, activation='sigmoid'))\n",
    "    model.add(Dense(1, activation='sigmoid'))\n",
    "    model.compile(loss='binary_crossentropy', optimizer='adam', metrics = ['accuracy'])\n",
    "    hist = model.fit(X, y,  epochs=7000, verbose=0)\n",
    "    acc = model.evaluate(X, y)\n",
    "    accs.append(acc[1]) "
   ]
  },
  {
   "cell_type": "code",
   "execution_count": 9,
   "id": "2abdc9cf",
   "metadata": {},
   "outputs": [
    {
     "name": "stdout",
     "output_type": "stream",
     "text": [
      "WARNING:tensorflow:6 out of the last 9 calls to <function Model.make_predict_function.<locals>.predict_function at 0x000001F584DB9B80> triggered tf.function retracing. Tracing is expensive and the excessive number of tracings could be due to (1) creating @tf.function repeatedly in a loop, (2) passing tensors with different shapes, (3) passing Python objects instead of tensors. For (1), please define your @tf.function outside of the loop. For (2), @tf.function has experimental_relax_shapes=True option that relaxes argument shapes that can avoid unnecessary retracing. For (3), please refer to https://www.tensorflow.org/guide/function#controlling_retracing and https://www.tensorflow.org/api_docs/python/tf/function for  more details.\n",
      "[[0.01183984]\n",
      " [0.99999976]\n",
      " [0.99998766]\n",
      " [0.01183984]]\n",
      "1/1 [==============================] - 0s 178ms/step - loss: 0.0060 - accuracy: 1.0000\n",
      "[0.0059583899565041065, 1.0]\n"
     ]
    }
   ],
   "source": [
    "model = Sequential()\n",
    "model.add(Dense(5, activation='relu'))\n",
    "model.add(Dense(5, activation='relu'))\n",
    "model.add(Dense(5, activation='relu'))\n",
    "model.add(Dense(5, activation='relu'))\n",
    "model.add(Dense(5, activation='relu'))\n",
    "model.add(Dense(5, activation='relu'))\n",
    "model.add(Dense(1, activation='sigmoid'))\n",
    "model.compile(loss='binary_crossentropy', optimizer='adam', metrics=['accuracy'])\n",
    "hist = model.fit(X, y,  epochs=7000, verbose=0)\n",
    "print(model.predict(X))\n",
    "print(model.evaluate(X, y))"
   ]
  },
  {
   "cell_type": "code",
   "execution_count": 10,
   "id": "34ec9548",
   "metadata": {},
   "outputs": [
    {
     "data": {
      "text/plain": [
       "[<matplotlib.lines.Line2D at 0x1f586b1b280>]"
      ]
     },
     "execution_count": 10,
     "metadata": {},
     "output_type": "execute_result"
    },
    {
     "data": {
      "image/png": "[encoded data removed]",
      "text/plain": [
       "<Figure size 432x288 with 1 Axes>"
      ]
     },
     "metadata": {
      "needs_background": "light"
     },
     "output_type": "display_data"
    }
   ],
   "source": [
    "plt.plot(hist.history['accuracy'])"
   ]
  },
  {
   "cell_type": "code",
   "execution_count": 15,
   "id": "fd1eadaa",
   "metadata": {},
   "outputs": [
    {
     "name": "stdout",
     "output_type": "stream",
     "text": [
      "[[6.6661584e-01]\n",
      " [6.6661584e-01]\n",
      " [6.6661584e-01]\n",
      " [1.4537573e-04]]\n",
      "1/1 [==============================] - 0s 96ms/step - loss: 0.4774 - accuracy: 0.7500\n",
      "[0.47742193937301636, 0.75]\n"
     ]
    },
    {
     "data": {
      "text/plain": [
       "[<matplotlib.lines.Line2D at 0x1f583d24250>]"
      ]
     },
     "execution_count": 15,
     "metadata": {},
     "output_type": "execute_result"
    },
    {
     "data": {
      "image/png": "[encoded data removed]",
      "text/plain": [
       "<Figure size 432x288 with 1 Axes>"
      ]
     },
     "metadata": {
      "needs_background": "light"
     },
     "output_type": "display_data"
    }
   ],
   "source": [
    "# LeakyReLU\n",
    "model = Sequential()\n",
    "model.add(Dense(5, activation = LeakyReLU(0.1)))\n",
    "model.add(Dense(5, activation = LeakyReLU(0.1)))\n",
    "model.add(Dense(5, activation='relu'))\n",
    "model.add(Dense(1, activation='sigmoid'))\n",
    "model.compile(loss='binary_crossentropy', optimizer='adam', metrics=['accuracy'])\n",
    "hist = model.fit(X, y,  epochs=3000, verbose=0)\n",
    "print(model.predict(X))\n",
    "print(model.evaluate(X, y))\n",
    "plt.plot(hist.history['accuracy'])"
   ]
  },
  {
   "cell_type": "code",
   "execution_count": 18,
   "id": "8bff5a6c",
   "metadata": {},
   "outputs": [
    {
     "data": {
      "text/plain": [
       "[<matplotlib.lines.Line2D at 0x1f58bf35610>]"
      ]
     },
     "execution_count": 18,
     "metadata": {},
     "output_type": "execute_result"
    },
    {
     "data": {
      "image/png": "[encoded data removed]",
      "text/plain": [
       "<Figure size 432x288 with 1 Axes>"
      ]
     },
     "metadata": {
      "needs_background": "light"
     },
     "output_type": "display_data"
    }
   ],
   "source": [
    "model = Sequential()\n",
    "\n",
    "for i in range(10) :\n",
    "    model.add(Dense(5, activation = LeakyReLU(0.1)))\n",
    "model.add(Dense(1, activation = 'sigmoid'))\n",
    "model.compile(loss='binary_crossentropy', optimizer='adam', metrics=['accuracy'])\n",
    "hist = model.fit(X, y, epochs = 3000, verbose = 0)\n",
    "plt.plot(hist.history['accuracy'])"
   ]
  },
  {
   "cell_type": "code",
   "execution_count": 19,
   "id": "82c1ffaf",
   "metadata": {},
   "outputs": [
    {
     "name": "stdout",
     "output_type": "stream",
     "text": [
      "1/1 [==============================] - 0s 135ms/step - loss: 3.3061e-04 - accuracy: 1.0000\n",
      "[0.0003306063008494675, 1.0]\n",
      "1/1 [==============================] - 0s 130ms/step - loss: 2.8707e-05 - accuracy: 1.0000\n",
      "[2.8706572265946306e-05, 1.0]\n",
      "1/1 [==============================] - 0s 153ms/step - loss: 1.3075e-05 - accuracy: 1.0000\n",
      "[1.3074870366835967e-05, 1.0]\n",
      "1/1 [==============================] - 0s 327ms/step - loss: 7.3597e-06 - accuracy: 1.0000\n",
      "[7.359747542068362e-06, 1.0]\n",
      "1/1 [==============================] - 0s 348ms/step - loss: 3.9657e-06 - accuracy: 1.0000\n",
      "[3.965749328926904e-06, 1.0]\n"
     ]
    }
   ],
   "source": [
    "layers = [3, 5, 10, 15, 20]\n",
    "\n",
    "for ex in layers :\n",
    "    model = Sequential()\n",
    "    for i in range(ex) :\n",
    "        model.add(Dense(5, activation=LeakyReLU(0.1)))\n",
    "\n",
    "    model.add(Dense(1, activation='sigmoid'))\n",
    "    model.compile(loss='binary_crossentropy', optimizer='adam', metrics=['accuracy'])\n",
    "    hist = model.fit(X, y,  epochs=3000, verbose=0)\n",
    "    print(model.evaluate(X, y))"
   ]
  },
  {
   "cell_type": "code",
   "execution_count": 21,
   "id": "cbbda08b",
   "metadata": {
    "scrolled": true
   },
   "outputs": [
    {
     "data": {
      "text/plain": [
       "[<matplotlib.lines.Line2D at 0x1f58c3197c0>]"
      ]
     },
     "execution_count": 21,
     "metadata": {},
     "output_type": "execute_result"
    },
    {
     "data": {
      "image/png": "[encoded data removed]",
      "text/plain": [
       "<Figure size 864x720 with 1 Axes>"
      ]
     },
     "metadata": {
      "needs_background": "light"
     },
     "output_type": "display_data"
    }
   ],
   "source": [
    "plt.figure(figsize = (12, 10))\n",
    "plt.plot(hist.history['loss'])\n",
    "plt.plot(hist.history['accuracy'])"
   ]
  },
  {
   "cell_type": "markdown",
   "id": "a059dfa9",
   "metadata": {},
   "source": [
    "# 가중치 초기화"
   ]
  },
  {
   "cell_type": "code",
   "execution_count": 28,
   "id": "d44b0783",
   "metadata": {
    "scrolled": true
   },
   "outputs": [
    {
     "data": {
      "text/plain": [
       "[<matplotlib.lines.Line2D at 0x1f586bbebe0>]"
      ]
     },
     "execution_count": 28,
     "metadata": {},
     "output_type": "execute_result"
    },
    {
     "data": {
      "image/png": "[encoded data removed]",
      "text/plain": [
       "<Figure size 432x288 with 1 Axes>"
      ]
     },
     "metadata": {
      "needs_background": "light"
     },
     "output_type": "display_data"
    }
   ],
   "source": [
    "model = Sequential()\n",
    "model.add(Dense(5, activation=LeakyReLU(0.1), kernel_initializer='he_normal'))\n",
    "model.add(Dense(10, activation=LeakyReLU(0.1), kernel_initializer='he_normal'))\n",
    "model.add(Dense(1, activation='sigmoid', kernel_initializer='he_normal'))\n",
    "model.compile(loss='binary_crossentropy', optimizer='adam', metrics=['accuracy'])\n",
    "hist = model.fit(X, y,  epochs=3000, verbose=0)\n",
    "plt.plot(hist.history['accuracy'])"
   ]
  },
  {
   "cell_type": "markdown",
   "id": "c0794e01",
   "metadata": {},
   "source": [
    "# fashion-mnist 영상 인식"
   ]
  },
  {
   "cell_type": "code",
   "execution_count": 30,
   "id": "2df42860",
   "metadata": {},
   "outputs": [
    {
     "name": "stdout",
     "output_type": "stream",
     "text": [
      "Downloading data from https://storage.googleapis.com/tensorflow/tf-keras-datasets/train-labels-idx1-ubyte.gz\n",
      "32768/29515 [=================================] - 0s 0us/step\n",
      "40960/29515 [=========================================] - 0s 0us/step\n",
      "Downloading data from https://storage.googleapis.com/tensorflow/tf-keras-datasets/train-images-idx3-ubyte.gz\n",
      "26427392/26421880 [==============================] - 3s 0us/step\n",
      "26435584/26421880 [==============================] - 3s 0us/step\n",
      "Downloading data from https://storage.googleapis.com/tensorflow/tf-keras-datasets/t10k-labels-idx1-ubyte.gz\n",
      "16384/5148 [===============================================================================================] - 0s 0s/step\n",
      "Downloading data from https://storage.googleapis.com/tensorflow/tf-keras-datasets/t10k-images-idx3-ubyte.gz\n",
      "4423680/4422102 [==============================] - 1s 0us/step\n",
      "4431872/4422102 [==============================] - 1s 0us/step\n"
     ]
    }
   ],
   "source": [
    "class_names = ['T-shirt/top', 'Trouser', 'Pullover', 'Dress', 'Coat',\n",
    "               'Sandal', 'Shirt', 'Sneaker', 'Bag', 'Ankle boot']\n",
    "\n",
    "(x_train, y_train), (x_test, y_test) = fashion_mnist.load_data()               "
   ]
  },
  {
   "cell_type": "code",
   "execution_count": 31,
   "id": "a9e32842",
   "metadata": {},
   "outputs": [
    {
     "name": "stdout",
     "output_type": "stream",
     "text": [
      "(60000, 28, 28)\n",
      "(60000,)\n",
      "(10000, 28, 28)\n",
      "(10000,)\n"
     ]
    }
   ],
   "source": [
    "print(x_train.shape)\n",
    "print(y_train.shape)\n",
    "print(x_test.shape)\n",
    "print(y_test.shape)"
   ]
  },
  {
   "cell_type": "code",
   "execution_count": 32,
   "id": "416cdf4f",
   "metadata": {},
   "outputs": [
    {
     "data": {
      "text/plain": [
       "<matplotlib.image.AxesImage at 0x1f585f5caf0>"
      ]
     },
     "execution_count": 32,
     "metadata": {},
     "output_type": "execute_result"
    },
    {
     "data": {
      "image/png": "[encoded data removed]",
      "text/plain": [
       "<Figure size 432x288 with 1 Axes>"
      ]
     },
     "metadata": {
      "needs_background": "light"
     },
     "output_type": "display_data"
    }
   ],
   "source": [
    "# 이미지 확인(범위)\n",
    "x_train[0]   #흑백이미지 28x28  0~255\n",
    "plt.imshow(x_train[233], cmap='gray')"
   ]
  },
  {
   "cell_type": "code",
   "execution_count": 33,
   "id": "1fc725b2",
   "metadata": {},
   "outputs": [
    {
     "data": {
      "text/plain": [
       "array([9, 0, 0, ..., 3, 0, 5], dtype=uint8)"
      ]
     },
     "execution_count": 33,
     "metadata": {},
     "output_type": "execute_result"
    }
   ],
   "source": [
    "# 레이블 확인  (레이블, one-hot, 정렬)\n",
    "y_train"
   ]
  },
  {
   "cell_type": "code",
   "execution_count": 34,
   "id": "39d897aa",
   "metadata": {},
   "outputs": [
    {
     "data": {
      "text/plain": [
       "Text(0.5, 1.0, 'Ankle boot')"
      ]
     },
     "execution_count": 34,
     "metadata": {},
     "output_type": "execute_result"
    },
    {
     "data": {
      "image/png": "[encoded data removed]",
      "text/plain": [
       "<Figure size 432x288 with 1 Axes>"
      ]
     },
     "metadata": {
      "needs_background": "light"
     },
     "output_type": "display_data"
    }
   ],
   "source": [
    "plt.imshow(x_train[0], cmap='gray')\n",
    "plt.title(class_names[y_train[0]])"
   ]
  },
  {
   "cell_type": "code",
   "execution_count": 37,
   "id": "01b8e609",
   "metadata": {},
   "outputs": [
    {
     "name": "stdout",
     "output_type": "stream",
     "text": [
      "(60000, 784)\n",
      "Model: \"sequential_33\"\n",
      "_________________________________________________________________\n",
      "Layer (type)                 Output Shape              Param #   \n",
      "=================================================================\n",
      "dense_231 (Dense)            (None, 128)               100480    \n",
      "_________________________________________________________________\n",
      "activation (Activation)      (None, 128)               0         \n",
      "_________________________________________________________________\n",
      "dense_232 (Dense)            (None, 64)                8256      \n",
      "_________________________________________________________________\n",
      "activation_1 (Activation)    (None, 64)                0         \n",
      "_________________________________________________________________\n",
      "dense_233 (Dense)            (None, 10)                650       \n",
      "_________________________________________________________________\n",
      "activation_2 (Activation)    (None, 10)                0         \n",
      "=================================================================\n",
      "Total params: 109,386\n",
      "Trainable params: 109,386\n",
      "Non-trainable params: 0\n",
      "_________________________________________________________________\n",
      "Epoch 1/2\n",
      "1875/1875 [==============================] - 4s 2ms/step - loss: 2.3173 - accuracy: 0.7454\n",
      "Epoch 2/2\n",
      "1875/1875 [==============================] - 4s 2ms/step - loss: 0.5813 - accuracy: 0.8090\n"
     ]
    },
    {
     "data": {
      "text/plain": [
       "<keras.callbacks.History at 0x1f586973c10>"
      ]
     },
     "execution_count": 37,
     "metadata": {},
     "output_type": "execute_result"
    }
   ],
   "source": [
    "# 네트워크 구성\n",
    "\n",
    "x_train_1d = x_train.reshape(-1, 784)\n",
    "print(x_train_1d.shape)\n",
    "\n",
    "model = Sequential([\n",
    "    Dense(128, input_shape=(784,)),   #  70% - 150% (2^ 사용)\n",
    "    Activation('relu'),\n",
    "\n",
    "    Dense(64),   #  70% - 150% (2^ 사용)\n",
    "    Activation('relu'),\n",
    "\n",
    "    Dense(10),\n",
    "    Activation('softmax'),\n",
    "])\n",
    "\n",
    "model.summary()\n",
    "\n",
    "model.compile(loss='sparse_categorical_crossentropy', optimizer=\"adam\", metrics=[\"accuracy\"])\n",
    "model.fit(x_train_1d, y_train, epochs=2)"
   ]
  },
  {
   "cell_type": "code",
   "execution_count": 38,
   "id": "0a27caa9",
   "metadata": {},
   "outputs": [
    {
     "name": "stdout",
     "output_type": "stream",
     "text": [
      "Model: \"sequential_34\"\n",
      "_________________________________________________________________\n",
      "Layer (type)                 Output Shape              Param #   \n",
      "=================================================================\n",
      "flatten (Flatten)            (None, 784)               0         \n",
      "_________________________________________________________________\n",
      "dense_234 (Dense)            (None, 128)               100480    \n",
      "_________________________________________________________________\n",
      "activation_3 (Activation)    (None, 128)               0         \n",
      "_________________________________________________________________\n",
      "dense_235 (Dense)            (None, 64)                8256      \n",
      "_________________________________________________________________\n",
      "activation_4 (Activation)    (None, 64)                0         \n",
      "_________________________________________________________________\n",
      "dense_236 (Dense)            (None, 10)                650       \n",
      "_________________________________________________________________\n",
      "activation_5 (Activation)    (None, 10)                0         \n",
      "=================================================================\n",
      "Total params: 109,386\n",
      "Trainable params: 109,386\n",
      "Non-trainable params: 0\n",
      "_________________________________________________________________\n",
      "Epoch 1/2\n",
      "1875/1875 [==============================] - 4s 2ms/step - loss: 2.0544 - accuracy: 0.7442\n",
      "Epoch 2/2\n",
      "1875/1875 [==============================] - 3s 2ms/step - loss: 0.5369 - accuracy: 0.8138\n"
     ]
    },
    {
     "data": {
      "text/plain": [
       "<keras.callbacks.History at 0x1f5ff79f5e0>"
      ]
     },
     "execution_count": 38,
     "metadata": {},
     "output_type": "execute_result"
    }
   ],
   "source": [
    "#Flatten 레이어 사용하기\n",
    "#a = np.array([[[1,2], [3,4]]])\n",
    "#print(a.shape)\n",
    "#a.flatten()\n",
    "\n",
    "model = Sequential([\n",
    "\n",
    "    Flatten(input_shape=(28, 28)),  \n",
    "\n",
    "    Dense(128), \n",
    "    Activation('relu'),\n",
    "\n",
    "    Dense(64),  \n",
    "    Activation('relu'),\n",
    "\n",
    "    Dense(10),\n",
    "    Activation('softmax'),\n",
    "])\n",
    "\n",
    "model.summary()\n",
    "\n",
    "model.compile(loss='sparse_categorical_crossentropy', optimizer=\"adam\", metrics=[\"accuracy\"])\n",
    "model.fit(x_train, y_train, epochs=2)"
   ]
  },
  {
   "cell_type": "code",
   "execution_count": 39,
   "id": "3a412996",
   "metadata": {},
   "outputs": [
    {
     "name": "stdout",
     "output_type": "stream",
     "text": [
      "Epoch 1/70\n",
      "1875/1875 [==============================] - 4s 2ms/step - loss: 0.4764 - accuracy: 0.8306\n",
      "Epoch 2/70\n",
      "1875/1875 [==============================] - 4s 2ms/step - loss: 0.4395 - accuracy: 0.8416\n",
      "Epoch 3/70\n",
      "1875/1875 [==============================] - 3s 2ms/step - loss: 0.4177 - accuracy: 0.8492\n",
      "Epoch 4/70\n",
      "1875/1875 [==============================] - 3s 2ms/step - loss: 0.4011 - accuracy: 0.8582\n",
      "Epoch 5/70\n",
      "1875/1875 [==============================] - 3s 2ms/step - loss: 0.3874 - accuracy: 0.8606\n",
      "Epoch 6/70\n",
      "1875/1875 [==============================] - 4s 2ms/step - loss: 0.3789 - accuracy: 0.8632\n",
      "Epoch 7/70\n",
      "1875/1875 [==============================] - 4s 2ms/step - loss: 0.3690 - accuracy: 0.8676\n",
      "Epoch 8/70\n",
      "1875/1875 [==============================] - 4s 2ms/step - loss: 0.3636 - accuracy: 0.8699\n",
      "Epoch 9/70\n",
      "1875/1875 [==============================] - 3s 2ms/step - loss: 0.3557 - accuracy: 0.8746\n",
      "Epoch 10/70\n",
      "1875/1875 [==============================] - 3s 2ms/step - loss: 0.3546 - accuracy: 0.8742\n",
      "Epoch 11/70\n",
      "1875/1875 [==============================] - 3s 2ms/step - loss: 0.3484 - accuracy: 0.8758\n",
      "Epoch 12/70\n",
      "1875/1875 [==============================] - 4s 2ms/step - loss: 0.3418 - accuracy: 0.8785\n",
      "Epoch 13/70\n",
      "1875/1875 [==============================] - 4s 2ms/step - loss: 0.3365 - accuracy: 0.8789\n",
      "Epoch 14/70\n",
      "1875/1875 [==============================] - 4s 2ms/step - loss: 0.3304 - accuracy: 0.8826\n",
      "Epoch 15/70\n",
      "1875/1875 [==============================] - 4s 2ms/step - loss: 0.3295 - accuracy: 0.8815\n",
      "Epoch 16/70\n",
      "1875/1875 [==============================] - 4s 2ms/step - loss: 0.3290 - accuracy: 0.8835\n",
      "Epoch 17/70\n",
      "1875/1875 [==============================] - 4s 2ms/step - loss: 0.3196 - accuracy: 0.8853\n",
      "Epoch 18/70\n",
      "1875/1875 [==============================] - 3s 2ms/step - loss: 0.3258 - accuracy: 0.8848\n",
      "Epoch 19/70\n",
      "1875/1875 [==============================] - 3s 2ms/step - loss: 0.3197 - accuracy: 0.8867\n",
      "Epoch 20/70\n",
      "1875/1875 [==============================] - 3s 2ms/step - loss: 0.3136 - accuracy: 0.8880\n",
      "Epoch 21/70\n",
      "1875/1875 [==============================] - 3s 2ms/step - loss: 0.3124 - accuracy: 0.8890\n",
      "Epoch 22/70\n",
      "1875/1875 [==============================] - 3s 2ms/step - loss: 0.3136 - accuracy: 0.8885\n",
      "Epoch 23/70\n",
      "1875/1875 [==============================] - 3s 2ms/step - loss: 0.3158 - accuracy: 0.8888\n",
      "Epoch 24/70\n",
      "1875/1875 [==============================] - 3s 2ms/step - loss: 0.3087 - accuracy: 0.8897\n",
      "Epoch 25/70\n",
      "1875/1875 [==============================] - 3s 2ms/step - loss: 0.3066 - accuracy: 0.8904\n",
      "Epoch 26/70\n",
      "1875/1875 [==============================] - 3s 2ms/step - loss: 0.3052 - accuracy: 0.8904\n",
      "Epoch 27/70\n",
      "1875/1875 [==============================] - 3s 2ms/step - loss: 0.3052 - accuracy: 0.8901\n",
      "Epoch 28/70\n",
      "1875/1875 [==============================] - 3s 2ms/step - loss: 0.3083 - accuracy: 0.8909\n",
      "Epoch 29/70\n",
      "1875/1875 [==============================] - 3s 2ms/step - loss: 0.2992 - accuracy: 0.8919\n",
      "Epoch 30/70\n",
      "1875/1875 [==============================] - 4s 2ms/step - loss: 0.2929 - accuracy: 0.8946\n",
      "Epoch 31/70\n",
      "1875/1875 [==============================] - 4s 2ms/step - loss: 0.2983 - accuracy: 0.8948\n",
      "Epoch 32/70\n",
      "1875/1875 [==============================] - 4s 2ms/step - loss: 0.2978 - accuracy: 0.8929\n",
      "Epoch 33/70\n",
      "1875/1875 [==============================] - 4s 2ms/step - loss: 0.3006 - accuracy: 0.8939\n",
      "Epoch 34/70\n",
      "1875/1875 [==============================] - 4s 2ms/step - loss: 0.2968 - accuracy: 0.8951\n",
      "Epoch 35/70\n",
      "1875/1875 [==============================] - 4s 2ms/step - loss: 0.2984 - accuracy: 0.8951\n",
      "Epoch 36/70\n",
      "1875/1875 [==============================] - 3s 2ms/step - loss: 0.2900 - accuracy: 0.8970\n",
      "Epoch 37/70\n",
      "1875/1875 [==============================] - 3s 2ms/step - loss: 0.2968 - accuracy: 0.8945\n",
      "Epoch 38/70\n",
      "1875/1875 [==============================] - 4s 2ms/step - loss: 0.2894 - accuracy: 0.8964\n",
      "Epoch 39/70\n",
      "1875/1875 [==============================] - 3s 2ms/step - loss: 0.2862 - accuracy: 0.8982\n",
      "Epoch 40/70\n",
      "1875/1875 [==============================] - 4s 2ms/step - loss: 0.2860 - accuracy: 0.8973\n",
      "Epoch 41/70\n",
      "1875/1875 [==============================] - 5s 3ms/step - loss: 0.2859 - accuracy: 0.8979\n",
      "Epoch 42/70\n",
      "1875/1875 [==============================] - 4s 2ms/step - loss: 0.2839 - accuracy: 0.8987\n",
      "Epoch 43/70\n",
      "1875/1875 [==============================] - 4s 2ms/step - loss: 0.2868 - accuracy: 0.8978\n",
      "Epoch 44/70\n",
      "1875/1875 [==============================] - 4s 2ms/step - loss: 0.2851 - accuracy: 0.8989\n",
      "Epoch 45/70\n",
      "1875/1875 [==============================] - 4s 2ms/step - loss: 0.2949 - accuracy: 0.8971\n",
      "Epoch 46/70\n",
      "1875/1875 [==============================] - 4s 2ms/step - loss: 0.2748 - accuracy: 0.9018\n",
      "Epoch 47/70\n",
      "1875/1875 [==============================] - 5s 2ms/step - loss: 0.2812 - accuracy: 0.9001\n",
      "Epoch 48/70\n",
      "1875/1875 [==============================] - 4s 2ms/step - loss: 0.2840 - accuracy: 0.8994\n",
      "Epoch 49/70\n",
      "1875/1875 [==============================] - 4s 2ms/step - loss: 0.2810 - accuracy: 0.9008\n",
      "Epoch 50/70\n",
      "1875/1875 [==============================] - 3s 2ms/step - loss: 0.2781 - accuracy: 0.9016\n",
      "Epoch 51/70\n",
      "1875/1875 [==============================] - 3s 2ms/step - loss: 0.2770 - accuracy: 0.9015\n",
      "Epoch 52/70\n",
      "1875/1875 [==============================] - 3s 2ms/step - loss: 0.2760 - accuracy: 0.9007\n",
      "Epoch 53/70\n",
      "1875/1875 [==============================] - 3s 2ms/step - loss: 0.2809 - accuracy: 0.9010\n",
      "Epoch 54/70\n",
      "1875/1875 [==============================] - 3s 2ms/step - loss: 0.2765 - accuracy: 0.9006\n",
      "Epoch 55/70\n",
      "1875/1875 [==============================] - 3s 2ms/step - loss: 0.2796 - accuracy: 0.9025\n",
      "Epoch 56/70\n",
      "1875/1875 [==============================] - 4s 2ms/step - loss: 0.2748 - accuracy: 0.9023\n",
      "Epoch 57/70\n",
      "1875/1875 [==============================] - 4s 2ms/step - loss: 0.2787 - accuracy: 0.9026\n",
      "Epoch 58/70\n",
      "1875/1875 [==============================] - 4s 2ms/step - loss: 0.2746 - accuracy: 0.9023\n",
      "Epoch 59/70\n",
      "1875/1875 [==============================] - 4s 2ms/step - loss: 0.2721 - accuracy: 0.9031\n",
      "Epoch 60/70\n",
      "1875/1875 [==============================] - 4s 2ms/step - loss: 0.2704 - accuracy: 0.9039\n",
      "Epoch 61/70\n",
      "1875/1875 [==============================] - 4s 2ms/step - loss: 0.2690 - accuracy: 0.9037\n",
      "Epoch 62/70\n",
      "1875/1875 [==============================] - 4s 2ms/step - loss: 0.2738 - accuracy: 0.9030\n",
      "Epoch 63/70\n",
      "1875/1875 [==============================] - 3s 2ms/step - loss: 0.2721 - accuracy: 0.9040\n",
      "Epoch 64/70\n",
      "1875/1875 [==============================] - 3s 2ms/step - loss: 0.2711 - accuracy: 0.9050\n",
      "Epoch 65/70\n",
      "1875/1875 [==============================] - 4s 2ms/step - loss: 0.2680 - accuracy: 0.9059\n",
      "Epoch 66/70\n",
      "1875/1875 [==============================] - 3s 2ms/step - loss: 0.2631 - accuracy: 0.9063: 0s - loss: 0.2624 - accuracy\n",
      "Epoch 67/70\n",
      "1875/1875 [==============================] - 3s 2ms/step - loss: 0.2689 - accuracy: 0.9063\n",
      "Epoch 68/70\n",
      "1875/1875 [==============================] - 3s 2ms/step - loss: 0.2657 - accuracy: 0.9064\n",
      "Epoch 69/70\n",
      "1875/1875 [==============================] - 4s 2ms/step - loss: 0.2713 - accuracy: 0.9053\n",
      "Epoch 70/70\n",
      "1875/1875 [==============================] - 3s 2ms/step - loss: 0.2732 - accuracy: 0.9043\n",
      "Wall time: 4min 12s\n"
     ]
    }
   ],
   "source": [
    "%%time\n",
    "hist = model.fit(x_train, y_train, epochs=70)"
   ]
  },
  {
   "cell_type": "markdown",
   "id": "06cc2d7a",
   "metadata": {},
   "source": [
    "# 테스트 데이터에 대한 인식률 분석"
   ]
  },
  {
   "cell_type": "code",
   "execution_count": 40,
   "id": "da1093ec",
   "metadata": {},
   "outputs": [
    {
     "name": "stdout",
     "output_type": "stream",
     "text": [
      "313/313 [==============================] - 0s 1ms/step - loss: 0.6101 - accuracy: 0.8650\n"
     ]
    },
    {
     "data": {
      "text/plain": [
       "(0.6100871562957764, 0.8650000095367432)"
      ]
     },
     "execution_count": 40,
     "metadata": {},
     "output_type": "execute_result"
    }
   ],
   "source": [
    "loss, accuracy = model.evaluate(x_test, y_test)\n",
    "loss, accuracy"
   ]
  },
  {
   "cell_type": "code",
   "execution_count": 43,
   "id": "a4fd7f55",
   "metadata": {},
   "outputs": [
    {
     "name": "stdout",
     "output_type": "stream",
     "text": [
      "(10000, 10)\n",
      "[9 2 1 ... 8 1 5]\n",
      "0.865\n"
     ]
    }
   ],
   "source": [
    "p = model.predict(x_test)\n",
    "print(p.shape)\n",
    "p[0]\n",
    "y_= np.argmax(p, axis=1)\n",
    "print(y_)\n",
    "print(  np.mean(y_  == y_test))"
   ]
  },
  {
   "cell_type": "code",
   "execution_count": 44,
   "id": "75cbee00",
   "metadata": {},
   "outputs": [
    {
     "data": {
      "text/plain": [
       "Text(0.5, 1.0, 'Sandal Sneaker')"
      ]
     },
     "execution_count": 44,
     "metadata": {},
     "output_type": "execute_result"
    },
    {
     "data": {
      "image/png": "[encoded data removed]",
      "text/plain": [
       "<Figure size 432x288 with 1 Axes>"
      ]
     },
     "metadata": {
      "needs_background": "light"
     },
     "output_type": "display_data"
    }
   ],
   "source": [
    "# 첫번째 test 이미지에 대해서 이미지, 예측결과(레이블), 확률값을 그래프로 출력\n",
    "img = x_test[12]\n",
    "\n",
    "p = model.predict(img.reshape(1,28,28))   # 1 28 28 ,       p=1x10\n",
    "y_ = np.argmax(p)\n",
    "\n",
    "plt.imshow(img, cmap='gray')\n",
    "plt.title(class_names[y_] + ' ' + class_names[y_test[12]])"
   ]
  },
  {
   "cell_type": "code",
   "execution_count": 45,
   "id": "3abcf581",
   "metadata": {},
   "outputs": [
    {
     "data": {
      "text/plain": [
       "<BarContainer object of 10 artists>"
      ]
     },
     "execution_count": 45,
     "metadata": {},
     "output_type": "execute_result"
    },
    {
     "data": {
      "image/png": "[encoded data removed]",
      "text/plain": [
       "<Figure size 432x288 with 1 Axes>"
      ]
     },
     "metadata": {
      "needs_background": "light"
     },
     "output_type": "display_data"
    }
   ],
   "source": [
    "plt.bar(range(0,10), p[0,:])"
   ]
  },
  {
   "cell_type": "code",
   "execution_count": 47,
   "id": "a40ed77f",
   "metadata": {},
   "outputs": [
    {
     "data": {
      "text/plain": [
       "Text(0.5, 1.0, 'Sandal Sneaker')"
      ]
     },
     "execution_count": 47,
     "metadata": {},
     "output_type": "execute_result"
    },
    {
     "data": {
      "image/png": "[encoded data removed]",
      "text/plain": [
       "<Figure size 432x288 with 2 Axes>"
      ]
     },
     "metadata": {
      "needs_background": "light"
     },
     "output_type": "display_data"
    }
   ],
   "source": [
    "title = class_names[y_] + ' ' + class_names[y_test[12]]\n",
    "plt.subplot(1,2,1)\n",
    "plt.imshow(img, cmap='gray')\n",
    "plt.subplot(1,2,2)\n",
    "plt.bar(range(0,10), p[0])\n",
    "plt.title(title)"
   ]
  },
  {
   "cell_type": "code",
   "execution_count": 48,
   "id": "58fd02a2",
   "metadata": {},
   "outputs": [
    {
     "data": {
      "text/plain": [
       "Text(0.5, 1.0, 'predict:Pullover   T:Coat')"
      ]
     },
     "execution_count": 48,
     "metadata": {},
     "output_type": "execute_result"
    },
    {
     "data": {
      "image/png": "[encoded data removed]",
      "text/plain": [
       "<Figure size 432x288 with 2 Axes>"
      ]
     },
     "metadata": {
      "needs_background": "light"
     },
     "output_type": "display_data"
    }
   ],
   "source": [
    "idx = 17\n",
    "\n",
    "img = x_test[idx]\n",
    "p = model.predict(img.reshape(1,28,28)) \n",
    "y_ = np.argmax(p)\n",
    "\n",
    "title = f\"predict:{class_names[y_]}   T:{class_names[y_test[idx]]}\"\n",
    "plt.subplot(1,2,1)\n",
    "plt.imshow(img, cmap='gray')\n",
    "plt.subplot(1,2,2)\n",
    "plt.bar(range(0,10), p[0])\n",
    "plt.title(title)"
   ]
  },
  {
   "cell_type": "code",
   "execution_count": 49,
   "id": "19c4764c",
   "metadata": {},
   "outputs": [
    {
     "name": "stdout",
     "output_type": "stream",
     "text": [
      "(array([  12,   17,   23, ..., 9985, 9989, 9991], dtype=int64),) (1350,)\n"
     ]
    }
   ],
   "source": [
    "p = model.predict(x_test)\n",
    "y_= np.argmax(p, axis=1)\n",
    "o = y_test == y_\n",
    "error = np.where( o == False)\n",
    "\n",
    "print(error, error[0].shape)"
   ]
  },
  {
   "cell_type": "markdown",
   "id": "1bc7e43b",
   "metadata": {},
   "source": [
    "# confusion matrix"
   ]
  },
  {
   "cell_type": "code",
   "execution_count": 55,
   "id": "52d2f680",
   "metadata": {},
   "outputs": [
    {
     "name": "stdout",
     "output_type": "stream",
     "text": [
      "[[864   3  22  24   7   3  70   0   7   0]\n",
      " [  3 965   4  20   3   0   5   0   0   0]\n",
      " [ 12   3 777  14 130   0  62   0   2   0]\n",
      " [ 37  10  10 882  23   1  32   0   5   0]\n",
      " [  0   1  89  42 828   0  34   0   6   0]\n",
      " [  2   0   0   0   0 964   0  18   1  15]\n",
      " [189   5 108  29 124   1 533   0  11   0]\n",
      " [  0   0   0   0   0  25   0 917   1  57]\n",
      " [  5   1   4   5   2   9  12   3 959   0]\n",
      " [  1   0   0   0   0  15   1  22   0 961]]\n"
     ]
    },
    {
     "data": {
      "text/plain": [
       "<AxesSubplot:>"
      ]
     },
     "execution_count": 55,
     "metadata": {},
     "output_type": "execute_result"
    },
    {
     "data": {
      "image/png": "[encoded data removed]",
      "text/plain": [
       "<Figure size 432x288 with 2 Axes>"
      ]
     },
     "metadata": {
      "needs_background": "light"
     },
     "output_type": "display_data"
    }
   ],
   "source": [
    "p = np.argmax(model.predict(x_test), axis=-1)\n",
    "cm = confusion_matrix(y_test, p)\n",
    "print(cm)\n",
    "sns.heatmap(cm, annot=True)"
   ]
  },
  {
   "cell_type": "code",
   "execution_count": 56,
   "id": "16a0ed73",
   "metadata": {},
   "outputs": [
    {
     "data": {
      "text/plain": [
       "<AxesSubplot:>"
      ]
     },
     "execution_count": 56,
     "metadata": {},
     "output_type": "execute_result"
    },
    {
     "data": {
      "image/png": "[encoded data removed]",
      "text/plain": [
       "<Figure size 432x288 with 2 Axes>"
      ]
     },
     "metadata": {
      "needs_background": "light"
     },
     "output_type": "display_data"
    }
   ],
   "source": [
    "cm_r = cm /  np.sum(cm, axis=1).reshape(-1, 1)       #       Nxm    /   m\n",
    "sns.heatmap(cm_r, annot=True)"
   ]
  },
  {
   "cell_type": "code",
   "execution_count": 57,
   "id": "7cb44937",
   "metadata": {},
   "outputs": [
    {
     "data": {
      "text/plain": [
       "('Trouser', 'Sandal', 'Sneaker', 'Bag')"
      ]
     },
     "execution_count": 57,
     "metadata": {},
     "output_type": "execute_result"
    }
   ],
   "source": [
    "class_names[1],class_names[5], class_names[7], class_names[8]"
   ]
  },
  {
   "cell_type": "code",
   "execution_count": 58,
   "id": "a6867ab5",
   "metadata": {},
   "outputs": [
    {
     "name": "stdout",
     "output_type": "stream",
     "text": [
      "[ 6 18]\n"
     ]
    },
    {
     "data": {
      "text/plain": [
       "array([[0.16666667, 0.33333333, 0.5       ],\n",
       "       [0.22222222, 0.33333333, 0.44444444]])"
      ]
     },
     "execution_count": 58,
     "metadata": {},
     "output_type": "execute_result"
    }
   ],
   "source": [
    "a= np.array([[1,2,3], \n",
    "             [4,6,8]])\n",
    "\n",
    "m = np.sum(a, axis=1)\n",
    "print(m)\n",
    "\n",
    "a / m.reshape(-1, 1)"
   ]
  },
  {
   "cell_type": "markdown",
   "id": "408fba24",
   "metadata": {},
   "source": [
    "# mini-batch"
   ]
  },
  {
   "cell_type": "code",
   "execution_count": 59,
   "id": "cf31baa9",
   "metadata": {},
   "outputs": [
    {
     "name": "stdout",
     "output_type": "stream",
     "text": [
      "Model: \"sequential_35\"\n",
      "_________________________________________________________________\n",
      "Layer (type)                 Output Shape              Param #   \n",
      "=================================================================\n",
      "flatten_1 (Flatten)          (None, 784)               0         \n",
      "_________________________________________________________________\n",
      "dense_237 (Dense)            (None, 128)               100480    \n",
      "_________________________________________________________________\n",
      "activation_6 (Activation)    (None, 128)               0         \n",
      "_________________________________________________________________\n",
      "dense_238 (Dense)            (None, 64)                8256      \n",
      "_________________________________________________________________\n",
      "activation_7 (Activation)    (None, 64)                0         \n",
      "_________________________________________________________________\n",
      "dense_239 (Dense)            (None, 10)                650       \n",
      "_________________________________________________________________\n",
      "activation_8 (Activation)    (None, 10)                0         \n",
      "=================================================================\n",
      "Total params: 109,386\n",
      "Trainable params: 109,386\n",
      "Non-trainable params: 0\n",
      "_________________________________________________________________\n",
      "Epoch 1/70\n",
      "10/10 [==============================] - 1s 29ms/step - loss: 71.4125 - accuracy: 0.4001\n",
      "Epoch 2/70\n",
      "10/10 [==============================] - 0s 28ms/step - loss: 13.7482 - accuracy: 0.6339\n",
      "Epoch 3/70\n",
      "10/10 [==============================] - 0s 25ms/step - loss: 8.6883 - accuracy: 0.6887\n",
      "Epoch 4/70\n",
      "10/10 [==============================] - 0s 27ms/step - loss: 6.8500 - accuracy: 0.7188\n",
      "Epoch 5/70\n",
      "10/10 [==============================] - 0s 27ms/step - loss: 5.7993 - accuracy: 0.7457\n",
      "Epoch 6/70\n",
      "10/10 [==============================] - 0s 27ms/step - loss: 5.0868 - accuracy: 0.7595\n",
      "Epoch 7/70\n",
      "10/10 [==============================] - 0s 26ms/step - loss: 4.5675 - accuracy: 0.7665\n",
      "Epoch 8/70\n",
      "10/10 [==============================] - 0s 27ms/step - loss: 4.1417 - accuracy: 0.7744\n",
      "Epoch 9/70\n",
      "10/10 [==============================] - 0s 27ms/step - loss: 3.8502 - accuracy: 0.7763\n",
      "Epoch 10/70\n",
      "10/10 [==============================] - 0s 28ms/step - loss: 3.5594 - accuracy: 0.7814\n",
      "Epoch 11/70\n",
      "10/10 [==============================] - 0s 29ms/step - loss: 3.2739 - accuracy: 0.7854\n",
      "Epoch 12/70\n",
      "10/10 [==============================] - 0s 29ms/step - loss: 3.0650 - accuracy: 0.7879\n",
      "Epoch 13/70\n",
      "10/10 [==============================] - 0s 27ms/step - loss: 2.8686 - accuracy: 0.7922\n",
      "Epoch 14/70\n",
      "10/10 [==============================] - 0s 25ms/step - loss: 2.7029 - accuracy: 0.7952\n",
      "Epoch 15/70\n",
      "10/10 [==============================] - 0s 25ms/step - loss: 2.5358 - accuracy: 0.7994\n",
      "Epoch 16/70\n",
      "10/10 [==============================] - 0s 27ms/step - loss: 2.3793 - accuracy: 0.8009\n",
      "Epoch 17/70\n",
      "10/10 [==============================] - 0s 27ms/step - loss: 2.2654 - accuracy: 0.8016\n",
      "Epoch 18/70\n",
      "10/10 [==============================] - 0s 26ms/step - loss: 2.1746 - accuracy: 0.8032\n",
      "Epoch 19/70\n",
      "10/10 [==============================] - 0s 26ms/step - loss: 2.0481 - accuracy: 0.8071\n",
      "Epoch 20/70\n",
      "10/10 [==============================] - 0s 26ms/step - loss: 1.9569 - accuracy: 0.8098\n",
      "Epoch 21/70\n",
      "10/10 [==============================] - 0s 27ms/step - loss: 1.8812 - accuracy: 0.8101\n",
      "Epoch 22/70\n",
      "10/10 [==============================] - 0s 28ms/step - loss: 1.7815 - accuracy: 0.8136\n",
      "Epoch 23/70\n",
      "10/10 [==============================] - 0s 28ms/step - loss: 1.7123 - accuracy: 0.8156\n",
      "Epoch 24/70\n",
      "10/10 [==============================] - 0s 28ms/step - loss: 1.6556 - accuracy: 0.8178\n",
      "Epoch 25/70\n",
      "10/10 [==============================] - 0s 31ms/step - loss: 1.5902 - accuracy: 0.8182\n",
      "Epoch 26/70\n",
      "10/10 [==============================] - 0s 28ms/step - loss: 1.5398 - accuracy: 0.8177\n",
      "Epoch 27/70\n",
      "10/10 [==============================] - 0s 28ms/step - loss: 1.4734 - accuracy: 0.8227\n",
      "Epoch 28/70\n",
      "10/10 [==============================] - 0s 27ms/step - loss: 1.4503 - accuracy: 0.8213\n",
      "Epoch 29/70\n",
      "10/10 [==============================] - 0s 30ms/step - loss: 1.4207 - accuracy: 0.8226\n",
      "Epoch 30/70\n",
      "10/10 [==============================] - 0s 29ms/step - loss: 1.3376 - accuracy: 0.8266\n",
      "Epoch 31/70\n",
      "10/10 [==============================] - 0s 26ms/step - loss: 1.2802 - accuracy: 0.8287\n",
      "Epoch 32/70\n",
      "10/10 [==============================] - 0s 26ms/step - loss: 1.2420 - accuracy: 0.8300\n",
      "Epoch 33/70\n",
      "10/10 [==============================] - 0s 23ms/step - loss: 1.1984 - accuracy: 0.8315\n",
      "Epoch 34/70\n",
      "10/10 [==============================] - 0s 25ms/step - loss: 1.1514 - accuracy: 0.8335\n",
      "Epoch 35/70\n",
      "10/10 [==============================] - 0s 24ms/step - loss: 1.1239 - accuracy: 0.8316 0s - loss: 1.1520 - accuracy: \n",
      "Epoch 36/70\n",
      "10/10 [==============================] - 0s 26ms/step - loss: 1.0985 - accuracy: 0.8343\n",
      "Epoch 37/70\n",
      "10/10 [==============================] - 0s 29ms/step - loss: 1.0817 - accuracy: 0.8330\n",
      "Epoch 38/70\n",
      "10/10 [==============================] - 0s 25ms/step - loss: 1.0527 - accuracy: 0.8348\n",
      "Epoch 39/70\n",
      "10/10 [==============================] - 0s 24ms/step - loss: 1.0112 - accuracy: 0.8374\n",
      "Epoch 40/70\n",
      "10/10 [==============================] - 0s 24ms/step - loss: 1.0015 - accuracy: 0.8375\n",
      "Epoch 41/70\n",
      "10/10 [==============================] - 0s 27ms/step - loss: 0.9720 - accuracy: 0.8386\n",
      "Epoch 42/70\n",
      "10/10 [==============================] - 0s 27ms/step - loss: 0.9425 - accuracy: 0.8401\n",
      "Epoch 43/70\n",
      "10/10 [==============================] - 0s 25ms/step - loss: 0.9000 - accuracy: 0.8456\n",
      "Epoch 44/70\n",
      "10/10 [==============================] - 0s 26ms/step - loss: 0.8790 - accuracy: 0.8438\n",
      "Epoch 45/70\n",
      "10/10 [==============================] - 0s 26ms/step - loss: 0.8589 - accuracy: 0.8456\n",
      "Epoch 46/70\n",
      "10/10 [==============================] - 0s 25ms/step - loss: 0.8435 - accuracy: 0.8453\n",
      "Epoch 47/70\n",
      "10/10 [==============================] - 0s 26ms/step - loss: 0.8284 - accuracy: 0.8464\n",
      "Epoch 48/70\n",
      "10/10 [==============================] - 0s 26ms/step - loss: 0.8152 - accuracy: 0.8470\n",
      "Epoch 49/70\n",
      "10/10 [==============================] - 0s 28ms/step - loss: 0.8070 - accuracy: 0.8456\n",
      "Epoch 50/70\n",
      "10/10 [==============================] - 0s 27ms/step - loss: 0.7791 - accuracy: 0.8486\n",
      "Epoch 51/70\n",
      "10/10 [==============================] - 0s 26ms/step - loss: 0.7550 - accuracy: 0.8508\n",
      "Epoch 52/70\n",
      "10/10 [==============================] - 0s 27ms/step - loss: 0.7374 - accuracy: 0.8526\n",
      "Epoch 53/70\n",
      "10/10 [==============================] - 0s 27ms/step - loss: 0.7385 - accuracy: 0.8497\n",
      "Epoch 54/70\n",
      "10/10 [==============================] - 0s 25ms/step - loss: 0.7061 - accuracy: 0.8537\n",
      "Epoch 55/70\n",
      "10/10 [==============================] - 0s 23ms/step - loss: 0.7067 - accuracy: 0.8536\n",
      "Epoch 56/70\n",
      "10/10 [==============================] - 0s 26ms/step - loss: 0.7269 - accuracy: 0.8480\n",
      "Epoch 57/70\n",
      "10/10 [==============================] - 0s 27ms/step - loss: 0.6979 - accuracy: 0.8515\n",
      "Epoch 58/70\n",
      "10/10 [==============================] - 0s 26ms/step - loss: 0.6607 - accuracy: 0.8574\n",
      "Epoch 59/70\n",
      "10/10 [==============================] - 0s 27ms/step - loss: 0.6691 - accuracy: 0.8522\n",
      "Epoch 60/70\n",
      "10/10 [==============================] - 0s 24ms/step - loss: 0.6632 - accuracy: 0.8534\n",
      "Epoch 61/70\n",
      "10/10 [==============================] - 0s 27ms/step - loss: 0.6455 - accuracy: 0.8552\n",
      "Epoch 62/70\n",
      "10/10 [==============================] - 0s 29ms/step - loss: 0.6275 - accuracy: 0.8577\n",
      "Epoch 63/70\n",
      "10/10 [==============================] - 0s 29ms/step - loss: 0.6127 - accuracy: 0.8591\n",
      "Epoch 64/70\n",
      "10/10 [==============================] - 0s 27ms/step - loss: 0.5906 - accuracy: 0.8624\n",
      "Epoch 65/70\n",
      "10/10 [==============================] - 0s 26ms/step - loss: 0.5792 - accuracy: 0.8615\n",
      "Epoch 66/70\n",
      "10/10 [==============================] - 0s 27ms/step - loss: 0.5758 - accuracy: 0.8619\n",
      "Epoch 67/70\n",
      "10/10 [==============================] - 0s 25ms/step - loss: 0.5666 - accuracy: 0.8637\n",
      "Epoch 68/70\n",
      "10/10 [==============================] - 0s 23ms/step - loss: 0.5528 - accuracy: 0.8649\n",
      "Epoch 69/70\n"
     ]
    },
    {
     "name": "stdout",
     "output_type": "stream",
     "text": [
      "10/10 [==============================] - 0s 24ms/step - loss: 0.5456 - accuracy: 0.8658\n",
      "Epoch 70/70\n",
      "10/10 [==============================] - 0s 24ms/step - loss: 0.5470 - accuracy: 0.8637\n"
     ]
    }
   ],
   "source": [
    "model = Sequential([\n",
    "\n",
    "    Flatten(input_shape=(28, 28)),  \n",
    "\n",
    "    Dense(128, kernel_initializer='he_normal'), \n",
    "    Activation('relu'),\n",
    "\n",
    "    Dense(64, kernel_initializer='he_normal'),  \n",
    "    Activation('relu'),\n",
    "\n",
    "    Dense(10, kernel_initializer='he_normal'),\n",
    "    Activation('softmax'),\n",
    "])\n",
    "\n",
    "model.summary()\n",
    "\n",
    "model.compile(loss='sparse_categorical_crossentropy', optimizer=\"adam\", metrics=[\"accuracy\"])\n",
    "\n",
    "hist = model.fit(x_train, y_train, epochs=70, batch_size = 6000) #  60번 update\n"
   ]
  },
  {
   "cell_type": "code",
   "execution_count": 60,
   "id": "15e1d7d1",
   "metadata": {},
   "outputs": [
    {
     "name": "stdout",
     "output_type": "stream",
     "text": [
      "313/313 [==============================] - 1s 1ms/step - loss: 1.0657 - accuracy: 0.8229\n"
     ]
    },
    {
     "data": {
      "text/plain": [
       "[1.0656837224960327, 0.8228999972343445]"
      ]
     },
     "execution_count": 60,
     "metadata": {},
     "output_type": "execute_result"
    }
   ],
   "source": [
    "# 속도 빠르기, 정확도\n",
    "model.evaluate(x_test, y_test, batch_size=32)"
   ]
  },
  {
   "cell_type": "code",
   "execution_count": 61,
   "id": "2e55b811",
   "metadata": {},
   "outputs": [
    {
     "name": "stdout",
     "output_type": "stream",
     "text": [
      "Wall time: 0 ns\n",
      "Epoch 1/2\n",
      "469/469 [==============================] - 1s 3ms/step - loss: 1.1568 - accuracy: 0.7929\n",
      "Epoch 2/2\n",
      "469/469 [==============================] - 1s 2ms/step - loss: 0.6246 - accuracy: 0.8208\n"
     ]
    },
    {
     "data": {
      "text/plain": [
       "<keras.callbacks.History at 0x1f58e7bd280>"
      ]
     },
     "execution_count": 61,
     "metadata": {},
     "output_type": "execute_result"
    }
   ],
   "source": [
    "%time\n",
    "model.fit(x_train, y_train, epochs = 2, batch_size = 128)"
   ]
  },
  {
   "cell_type": "code",
   "execution_count": 62,
   "id": "bf8134eb",
   "metadata": {},
   "outputs": [
    {
     "name": "stdout",
     "output_type": "stream",
     "text": [
      "Wall time: 0 ns\n",
      "Epoch 1/2\n",
      "235/235 [==============================] - 1s 4ms/step - loss: 0.4319 - accuracy: 0.8523\n",
      "Epoch 2/2\n",
      "235/235 [==============================] - 1s 4ms/step - loss: 0.4003 - accuracy: 0.8601\n"
     ]
    },
    {
     "data": {
      "text/plain": [
       "<keras.callbacks.History at 0x1f58e7a78b0>"
      ]
     },
     "execution_count": 62,
     "metadata": {},
     "output_type": "execute_result"
    }
   ],
   "source": [
    "%time\n",
    "model.fit(x_train, y_train, epochs=2, batch_size=256)"
   ]
  },
  {
   "cell_type": "markdown",
   "id": "5812f794",
   "metadata": {},
   "source": [
    "# DropOut 적용"
   ]
  },
  {
   "cell_type": "code",
   "execution_count": 66,
   "id": "b0ddd2d5",
   "metadata": {},
   "outputs": [
    {
     "name": "stdout",
     "output_type": "stream",
     "text": [
      "Model: \"sequential_37\"\n",
      "_________________________________________________________________\n",
      "Layer (type)                 Output Shape              Param #   \n",
      "=================================================================\n",
      "flatten_4 (Flatten)          (None, 784)               0         \n",
      "_________________________________________________________________\n",
      "dense_246 (Dense)            (None, 256)               200960    \n",
      "_________________________________________________________________\n",
      "activation_15 (Activation)   (None, 256)               0         \n",
      "_________________________________________________________________\n",
      "dropout_4 (Dropout)          (None, 256)               0         \n",
      "_________________________________________________________________\n",
      "dense_247 (Dense)            (None, 256)               65792     \n",
      "_________________________________________________________________\n",
      "activation_16 (Activation)   (None, 256)               0         \n",
      "_________________________________________________________________\n",
      "dropout_5 (Dropout)          (None, 256)               0         \n",
      "_________________________________________________________________\n",
      "dense_248 (Dense)            (None, 256)               65792     \n",
      "_________________________________________________________________\n",
      "activation_17 (Activation)   (None, 256)               0         \n",
      "_________________________________________________________________\n",
      "dropout_6 (Dropout)          (None, 256)               0         \n",
      "_________________________________________________________________\n",
      "dense_249 (Dense)            (None, 128)               32896     \n",
      "_________________________________________________________________\n",
      "activation_18 (Activation)   (None, 128)               0         \n",
      "_________________________________________________________________\n",
      "dropout_7 (Dropout)          (None, 128)               0         \n",
      "_________________________________________________________________\n",
      "dense_250 (Dense)            (None, 10)                1290      \n",
      "_________________________________________________________________\n",
      "activation_19 (Activation)   (None, 10)                0         \n",
      "=================================================================\n",
      "Total params: 366,730\n",
      "Trainable params: 366,730\n",
      "Non-trainable params: 0\n",
      "_________________________________________________________________\n",
      "Epoch 1/5\n",
      "938/938 [==============================] - ETA: 0s - loss: 6.1780 - accuracy: 0.29 - 5s 5ms/step - loss: 6.1436 - accuracy: 0.2931\n",
      "Epoch 2/5\n",
      "938/938 [==============================] - 4s 4ms/step - loss: 1.6163 - accuracy: 0.3837\n",
      "Epoch 3/5\n",
      "938/938 [==============================] - 4s 5ms/step - loss: 1.3377 - accuracy: 0.4609\n",
      "Epoch 4/5\n",
      "938/938 [==============================] - 4s 5ms/step - loss: 1.1641 - accuracy: 0.5360\n",
      "Epoch 5/5\n",
      "938/938 [==============================] - 4s 4ms/step - loss: 1.0566 - accuracy: 0.5699\n"
     ]
    }
   ],
   "source": [
    "model = Sequential([\n",
    "\n",
    "    Flatten(input_shape=(28, 28)),  \n",
    "\n",
    "    Dense(256, kernel_initializer='he_normal'), \n",
    "    Activation('relu'),\n",
    "    Dropout(0.3),\n",
    "\n",
    "    Dense(256, kernel_initializer='he_normal'), \n",
    "    Activation('relu'),\n",
    "    Dropout(0.3),\n",
    "\n",
    "\n",
    "    Dense(256, kernel_initializer='he_normal'), \n",
    "    Activation('relu'),\n",
    "    Dropout(0.3),\n",
    "\n",
    "\n",
    "    Dense(128, kernel_initializer='he_normal'),  \n",
    "    Activation('relu'),\n",
    "    Dropout(0.3),\n",
    "\n",
    "    Dense(10, kernel_initializer='he_normal'),\n",
    "    Activation('softmax')\n",
    "    \n",
    "])\n",
    "\n",
    "model.compile(loss='sparse_categorical_crossentropy', optimizer=\"adam\", metrics=[\"accuracy\"])\n",
    "\n",
    "model.summary()\n",
    "\n",
    "hist = model.fit(x_train, y_train, epochs=5, batch_size=64) \n"
   ]
  }
 ],
 "metadata": {
  "kernelspec": {
   "display_name": "Python 3",
   "language": "python",
   "name": "python3"
  },
  "language_info": {
   "codemirror_mode": {
    "name": "ipython",
    "version": 3
   },
   "file_extension": ".py",
   "mimetype": "text/x-python",
   "name": "python",
   "nbconvert_exporter": "python",
   "pygments_lexer": "ipython3",
   "version": "3.8.8"
  }
 },
 "nbformat": 4,
 "nbformat_minor": 5
}
