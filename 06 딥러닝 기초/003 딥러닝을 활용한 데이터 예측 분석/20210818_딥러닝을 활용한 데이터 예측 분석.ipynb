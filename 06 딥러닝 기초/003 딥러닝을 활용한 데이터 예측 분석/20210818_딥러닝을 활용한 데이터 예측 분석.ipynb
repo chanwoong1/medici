{
 "cells": [
  {
   "cell_type": "markdown",
   "id": "5799548e",
   "metadata": {},
   "source": [
    "https://www.youtube.com/watch?v=CeOn7tt-ecM\n",
    "\n",
    "https://colab.research.google.com/drive/1HfVvEbGPjxBukZXYr8VWRk2kaDWLbpzP?usp=sharing"
   ]
  },
  {
   "cell_type": "code",
   "execution_count": null,
   "id": "f04968d7",
   "metadata": {},
   "outputs": [],
   "source": []
  }
 ],
 "metadata": {
  "kernelspec": {
   "display_name": "Python 3",
   "language": "python",
   "name": "python3"
  },
  "language_info": {
   "codemirror_mode": {
    "name": "ipython",
    "version": 3
   },
   "file_extension": ".py",
   "mimetype": "text/x-python",
   "name": "python",
   "nbconvert_exporter": "python",
   "pygments_lexer": "ipython3",
   "version": "3.8.8"
  }
 },
 "nbformat": 4,
 "nbformat_minor": 5
}
