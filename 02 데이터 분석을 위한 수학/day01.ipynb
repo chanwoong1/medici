{
 "cells": [
  {
   "cell_type": "code",
   "execution_count": 2,
   "id": "a6a7b180",
   "metadata": {},
   "outputs": [],
   "source": [
    "import numpy as np"
   ]
  },
  {
   "cell_type": "code",
   "execution_count": 8,
   "id": "3ba3df4f",
   "metadata": {},
   "outputs": [
    {
     "name": "stdout",
     "output_type": "stream",
     "text": [
      "[3, 5, 7, 9, 13]\n",
      "[3, 5, 7, 9, 13]\n",
      "[ 3  5  7  9 11 15]\n"
     ]
    }
   ],
   "source": [
    "x = [1,2,3,4,6]\n",
    "\n",
    "#y = 2* x + 1\n",
    "\n",
    "y = []\n",
    "for i in x :\n",
    "    y.append(2*i + 1)\n",
    "print(y)\n",
    "\n",
    "y = [2*i|1 for i in x]    \n",
    "print(y)\n",
    "\n",
    "\n",
    "x =  np.array([1,2,3,4,5,7])\n",
    "y = 2*x + 1\n",
    "print(y)\n",
    "\n",
    "\n",
    "\n"
   ]
  },
  {
   "cell_type": "markdown",
   "id": "aa235438",
   "metadata": {},
   "source": [
    "# 1. 오차의 이해"
   ]
  },
  {
   "cell_type": "code",
   "execution_count": 16,
   "id": "a5b33002",
   "metadata": {},
   "outputs": [
    {
     "name": "stdout",
     "output_type": "stream",
     "text": [
      "0.4\n",
      "4.729999999999999\n"
     ]
    }
   ],
   "source": [
    "x = np.array([1, 2, 3, 4, 5])\n",
    "y = np.array([3, 6, 7, 9, 12])\n",
    "\n",
    "w = 2\n",
    "b = 1\n",
    "#np.sum((w*x + b - y)**2) / 5\n",
    "e1 =  np.mean((w*x + b - y)**2)\n",
    "print(e1)\n",
    "w = 3\n",
    "b = 0.1\n",
    "e2 =  np.mean((w*x + b - y)**2)\n",
    "print(e2)"
   ]
  },
  {
   "cell_type": "markdown",
   "id": "16569ba1",
   "metadata": {},
   "source": [
    "# 2.행렬 기초"
   ]
  },
  {
   "cell_type": "code",
   "execution_count": 25,
   "id": "007cb71d",
   "metadata": {},
   "outputs": [
    {
     "name": "stdout",
     "output_type": "stream",
     "text": [
      "[[1 2 3]\n",
      " [4 5 6]\n",
      " [7 8 9]]\n",
      "[[15 25 35]\n",
      " [45 55 65]\n",
      " [75 85 95]]\n",
      "[[0 0 1]\n",
      " [1 0 0]\n",
      " [0 1 0]]\n",
      "[[18 28 41]\n",
      " [52 58 68]\n",
      " [78 96 98]]\n",
      "[[ 3  8]\n",
      " [21 32]]\n"
     ]
    }
   ],
   "source": [
    "a = np.array([  [1,2,3],\n",
    "                [4,5,6],\n",
    "                [7,8,9]\n",
    "             ])\n",
    "print(a)\n",
    "\n",
    "b = a * 10 + 5\n",
    "print(b)\n",
    "\n",
    "c = np.array([\n",
    "    [0,0,1],\n",
    "    [1,0,0],\n",
    "    [0,1,0]\n",
    "])\n",
    "print(c)\n",
    "d = a * c + b + 3 \n",
    "print(d)\n",
    "\n",
    "\n",
    "a = np.array([[1,2], [3,4]])\n",
    "b = np.array([[3,4], [7,8]])\n",
    "print(a*b)"
   ]
  },
  {
   "cell_type": "markdown",
   "id": "c585d906",
   "metadata": {},
   "source": [
    "# 행렬연산"
   ]
  },
  {
   "cell_type": "code",
   "execution_count": 13,
   "id": "a0dc037f",
   "metadata": {},
   "outputs": [
    {
     "name": "stdout",
     "output_type": "stream",
     "text": [
      "[[1. 0. 0.]\n",
      " [0. 1. 0.]\n",
      " [0. 0. 1.]]\n",
      "[[ 5 10 15]\n",
      " [20 25 30]\n",
      " [35 40 45]]\n"
     ]
    },
    {
     "data": {
      "text/plain": [
       "array([[1., 2., 3.],\n",
       "       [4., 5., 6.],\n",
       "       [7., 8., 9.]])"
      ]
     },
     "execution_count": 13,
     "metadata": {},
     "output_type": "execute_result"
    }
   ],
   "source": [
    "I = np.eye(3)\n",
    "print(I)\n",
    "\n",
    "\n",
    "b = 5 * a\n",
    "print(b)\n",
    "\n",
    "a = np.array([[1,2],\n",
    "              [3,4]])\n",
    "b = np.array([[1,2],\n",
    "              [3,4],\n",
    "               [7,8]])\n",
    "\n",
    "\n",
    "# = np.matmul(a, b)  # 2by2  2by2  =  2by2\n",
    "#print(c)\n",
    "\n",
    "a = np.array([[1,2,3], [4,5,6], [7,8,9]])\n",
    "np.matmul(I, a)     #   3by3  3by3 \n"
   ]
  },
  {
   "cell_type": "markdown",
   "id": "78621b54",
   "metadata": {},
   "source": [
    "# 역행렬"
   ]
  },
  {
   "cell_type": "code",
   "execution_count": 19,
   "id": "c8bbe6ed",
   "metadata": {},
   "outputs": [
    {
     "name": "stdout",
     "output_type": "stream",
     "text": [
      "[[ 0.11111111 -0.22222222]\n",
      " [-0.22222222  1.44444444]]\n",
      "[[ 1.0000000e+00  0.0000000e+00]\n",
      " [-4.4408921e-16  1.0000000e+00]]\n"
     ]
    }
   ],
   "source": [
    "a = np.array([[13, 2], \n",
    "              [2, 1]])\n",
    "    \n",
    "inv = np.linalg.inv(a)\n",
    "print(inv)\n",
    "print(np.matmul(inv, a))"
   ]
  },
  {
   "cell_type": "markdown",
   "id": "7f90fcde",
   "metadata": {},
   "source": [
    "# 역행렬을 이용한 최적해"
   ]
  },
  {
   "cell_type": "code",
   "execution_count": 20,
   "id": "7ecee85f",
   "metadata": {},
   "outputs": [
    {
     "name": "stdout",
     "output_type": "stream",
     "text": [
      "[[ 2.4]\n",
      " [-0.4]]\n"
     ]
    }
   ],
   "source": [
    "A = np.array([[1, 1], \n",
    "              [2, 1]])\n",
    "y = np.array([[2], \n",
    "              [4.4]]) \n",
    "\n",
    "inv = np.linalg.inv(A)\n",
    "W = np.matmul(inv, y)\n",
    "print(W)"
   ]
  },
  {
   "cell_type": "code",
   "execution_count": 39,
   "id": "06843c6b",
   "metadata": {},
   "outputs": [
    {
     "name": "stdout",
     "output_type": "stream",
     "text": [
      "16.400000000000006\n",
      "[14.  16.4 18.8 23.6]\n",
      "<class 'numpy.float64'>\n",
      "[14.  16.4 18.8 23.6]\n",
      "<class 'numpy.ndarray'>\n",
      "[[16.4]\n",
      " [18.8]\n",
      " [21.2]]\n"
     ]
    }
   ],
   "source": [
    "w = W[0,0]\n",
    "b = W[1,0]\n",
    "#print(w[0])\n",
    "#print(b[0])\n",
    "w, b\n",
    "x = 7\n",
    "h = w * x + b\n",
    "print(h)\n",
    "\n",
    "x = np.array([6,7,8,10])\n",
    "h = w * x + b\n",
    "print(h)\n",
    "print(type(w))\n",
    "\n",
    "x = np.array([6,7,8,10])\n",
    "h = W[0]* x + W[1]\n",
    "print(h)\n",
    "print(type(W[0]))\n",
    "\n",
    "\n",
    "x = np.array([[7, 1], \n",
    "              [8, 1],\n",
    "              [9, 1]])\n",
    "\n",
    "h = np.matmul(x, W)\n",
    "print(h)"
   ]
  },
  {
   "cell_type": "markdown",
   "id": "82be1eb1",
   "metadata": {},
   "source": [
    "# 의사역행렬"
   ]
  },
  {
   "cell_type": "code",
   "execution_count": 53,
   "id": "cd5672e9",
   "metadata": {},
   "outputs": [
    {
     "name": "stdout",
     "output_type": "stream",
     "text": [
      "[[-5.00000000e-01 -3.19189120e-16  5.00000000e-01]\n",
      " [ 1.33333333e+00  3.33333333e-01 -6.66666667e-01]]\n",
      "[[ 2.2       ]\n",
      " [-0.26666667]]\n"
     ]
    }
   ],
   "source": [
    "a = np.array([[1,1],\n",
    "             [2,1],\n",
    "             [3,1]])\n",
    "y = np.array([[2], \n",
    "              [4],\n",
    "              [6.4]])\n",
    "y = np.array([2,4,6.4]).reshape(3, 1)\n",
    "y = np.array([2,4,6.4]).reshape(-1, 1)\n",
    "y = np.array([[2,4,6.4]]).T\n",
    "#y = np.array([2,4,6.4]).T\n",
    "\n",
    "pinv  = np.linalg.pinv(a)\n",
    "print(pinv)\n",
    "\n",
    "np.matmul(pinv, a)\n",
    "\n",
    "W = np.matmul(pinv, y)\n",
    "print(W)"
   ]
  },
  {
   "cell_type": "code",
   "execution_count": 60,
   "id": "e32c71e6",
   "metadata": {},
   "outputs": [
    {
     "name": "stdout",
     "output_type": "stream",
     "text": [
      "0.008888888888888925\n"
     ]
    }
   ],
   "source": [
    "#print(a)\n",
    "mse = np.mean((np.matmul(a, W) - y)**2)\n",
    "print(mse)"
   ]
  },
  {
   "cell_type": "markdown",
   "id": "f745d896",
   "metadata": {},
   "source": [
    "# 택시비 추정하기\n",
    "\n",
    "- a회사 :  1km  8000   2km   9200    3km   12000km\n",
    "- b회사 :  1km  5000   2km   8500    3km   11900km\n",
    "-  20km?"
   ]
  },
  {
   "cell_type": "code",
   "execution_count": 68,
   "id": "1f5e9453",
   "metadata": {},
   "outputs": [
    {
     "name": "stdout",
     "output_type": "stream",
     "text": [
      "[[2000.        ]\n",
      " [5733.33333333]]\n",
      "[[3000.        ]\n",
      " [2166.66666667]]\n"
     ]
    },
    {
     "data": {
      "text/plain": [
       "(array([[45733.33333333]]), array([[62166.66666667]]))"
      ]
     },
     "execution_count": 68,
     "metadata": {},
     "output_type": "execute_result"
    }
   ],
   "source": [
    "# 수학자 \n",
    "# 문제 -> 수학적 모델링    ,    행렬식변화, 역행렬\n",
    "# 개발자 -> 코딩\n",
    "\n",
    "A = np.array([ [1,  1],\n",
    "               [2, 1 ],\n",
    "               [3, 1]])\n",
    "y_A = np.array([8000, 9200, 12000]).reshape(-1,1)\n",
    "y_B = np.array([5000, 8500, 11000]).reshape(-1,1)\n",
    "\n",
    "pinv = np.linalg.pinv(A)\n",
    "\n",
    "W_A = np.matmul( pinv  ,   y_A )\n",
    "W_B = np.matmul( pinv,   y_B )\n",
    "print(W_A)\n",
    "print(W_B)\n",
    "#20km?\n",
    "x = np.array([[20, 1]])\n",
    "np.matmul(x, W_A),  np.matmul(x, W_B)\n",
    "\n",
    "# 2000x + 5733 = 3000x + 2166"
   ]
  },
  {
   "cell_type": "markdown",
   "id": "c5e512ba",
   "metadata": {},
   "source": [
    "# 주가 분석"
   ]
  },
  {
   "cell_type": "code",
   "execution_count": null,
   "id": "bb6efbc7",
   "metadata": {},
   "outputs": [],
   "source": [
    "[이자율, 실업률]   -  주가\n",
    "\n",
    "[3.4,  1.5   .. ] 1900\n",
    "[2.1,  2.5   .. ] 1700\n",
    "y = w1*이자율 + w2*실업률 + b*1\n",
    "\n",
    "[3.4 1.5 1]          1900\n",
    "[2.1 2.5 1] -1       1700\n",
    "[3.4 2.1 1]          1500\n",
    "[1.7 2.4 1]          1000\n",
    "\n",
    "(4x3)-1 * 4*1 \n",
    "(3x4) (4x1) = 3x1"
   ]
  },
  {
   "cell_type": "code",
   "execution_count": 84,
   "id": "967b228f",
   "metadata": {},
   "outputs": [
    {
     "name": "stdout",
     "output_type": "stream",
     "text": [
      "[[ 345.54008701]\n",
      " [-250.14657137]\n",
      " [1798.40397763]]\n"
     ]
    },
    {
     "data": {
      "text/plain": [
       "array([[2828.0265693]])"
      ]
     },
     "execution_count": 84,
     "metadata": {},
     "output_type": "execute_result"
    }
   ],
   "source": [
    "# 이자율, 실업률\n",
    "ir  = [2.75,2.5,2.5,2.5,2.5,2.5,2.5,2.25,2.25,2.25,2,2,2,1.75,1.75,1.75,1.75,1.75,1.75,1.75,1.75,1.75,1.75,1.75],\n",
    "ur =  [5.3,5.3,5.3,5.3,5.4,5.6,5.5,5.5,5.5,5.6,5.7,5.9,6,5.9,5.8,6.1,6.2,6.1,6.1,6.1,5.9,6.2,6.2,6.1]\n",
    "y = [1464,1394,1357,1293,1256,1254,1234,1195,1159,1167,1130,1075,1047,965,943,958,971,949,884,866,876,822,704,719]     \n",
    "\n",
    "#이자율 4.5%, 실업률 2.1일때 주가는?\n",
    "A = np.hstack((np.array(ir).reshape(-1,1), \n",
    "               np.array(ur).reshape(-1,1), \n",
    "               np.ones((24,1))  ))\n",
    "W = np.matmul(np.linalg.pinv(A), np.array(y).reshape(-1,1))\n",
    "print(W)\n",
    "X = [[4.5, 2.1, 1]]\n",
    "np.matmul(X, W)"
   ]
  },
  {
   "cell_type": "code",
   "execution_count": 82,
   "id": "b0e27a03",
   "metadata": {},
   "outputs": [],
   "source": [
    "# 이자율, 실업률\n",
    "A =  [ [2.75,2.5,2.5,2.5,2.5,2.5,2.5,2.25,2.25,2.25,2,2,2,1.75,1.75,1.75,1.75,1.75,1.75,1.75,1.75,1.75,1.75,1.75],\n",
    "       [5.3,5.3,5.3,5.3,5.4,5.6,5.5,5.5,5.5,5.6,5.7,5.9,6,5.9,5.8,6.1,6.2,6.1,6.1,6.1,5.9,6.2,6.2,6.1],\n",
    "       [1,1,1,1,1,1,1,1,1,1,1,1,1,1,1,1,1,1,1,1,1,1,1,1]]\n",
    "A = np.array(A).T\n",
    "y =[1464,1394,1357,1293,1256,1254,1234,1195,1159,1167,1130,1075,1047,965,943,958,971,949,884,866,876,822,704,719]     \n",
    "y = np.array(y).reshape(-1,1)"
   ]
  },
  {
   "cell_type": "markdown",
   "id": "a06acc37",
   "metadata": {},
   "source": [
    "# 미분"
   ]
  },
  {
   "cell_type": "code",
   "execution_count": 85,
   "id": "7c9d1449",
   "metadata": {},
   "outputs": [
    {
     "name": "stdout",
     "output_type": "stream",
     "text": [
      "[4, 5, 6, 10]\n",
      "[1, 1, 4]\n"
     ]
    }
   ],
   "source": [
    "a= [4, 5 , 6 , 10]\n",
    "b= [5-4,   6-5,   10-6]\n",
    "print(a)\n",
    "print(b)\n",
    "\n"
   ]
  },
  {
   "cell_type": "code",
   "execution_count": 91,
   "id": "61987176",
   "metadata": {},
   "outputs": [
    {
     "data": {
      "text/plain": [
       "4.000000000559112"
      ]
     },
     "execution_count": 91,
     "metadata": {},
     "output_type": "execute_result"
    }
   ],
   "source": [
    "def f(x) :\n",
    "    return 4*x + 7\n",
    "\n",
    "x = 0\n",
    "dx = 0.000000001\n",
    "(f(x+dx) - f(x) ) /  dx\n",
    "\n",
    "def df(x) :\n",
    "    dx = 0.000001\n",
    "    return (f(x+dx) - f(x) ) /  dx\n",
    "\n",
    "df(1)"
   ]
  },
  {
   "cell_type": "code",
   "execution_count": 93,
   "id": "6c943c75",
   "metadata": {},
   "outputs": [
    {
     "data": {
      "text/plain": [
       "(195, 60.00000399808414)"
      ]
     },
     "execution_count": 93,
     "metadata": {},
     "output_type": "execute_result"
    }
   ],
   "source": [
    "def f2(x) :\n",
    "    return 4*x**2 +   20*x - 5   #    8x+20\n",
    "\n",
    "def df2(x) :\n",
    "    dx = 0.000001\n",
    "    return (f2(x+dx) - f2(x) ) /  dx\n",
    "\n",
    "f2(5), df2(5)"
   ]
  },
  {
   "cell_type": "code",
   "execution_count": 95,
   "id": "91bf2455",
   "metadata": {},
   "outputs": [
    {
     "data": {
      "text/plain": [
       "5.000000001587068"
      ]
     },
     "execution_count": 95,
     "metadata": {},
     "output_type": "execute_result"
    }
   ],
   "source": [
    "def df_g(f, x) :\n",
    "    dx = 0.000001\n",
    "    return (f(x+dx) - f(x) ) /  dx  \n",
    "\n",
    "def fun1(x) : \n",
    "    return 5*x + 7\n",
    "\n",
    "df_g(fun1, 6)"
   ]
  },
  {
   "cell_type": "code",
   "execution_count": 102,
   "id": "2c614a66",
   "metadata": {},
   "outputs": [
    {
     "name": "stderr",
     "output_type": "stream",
     "text": [
      "<ipython-input-102-fdf0e74219f9>:2: RuntimeWarning: overflow encountered in exp\n",
      "  return  1 / (1 + np.exp(-x))\n"
     ]
    },
    {
     "data": {
      "text/plain": [
       "0.0"
      ]
     },
     "execution_count": 102,
     "metadata": {},
     "output_type": "execute_result"
    }
   ],
   "source": [
    "def sig(x) :\n",
    "    return  1 / (1 + np.exp(-x))\n",
    "df_g(sig, -10000)"
   ]
  },
  {
   "cell_type": "code",
   "execution_count": null,
   "id": "0ab928f0",
   "metadata": {},
   "outputs": [],
   "source": [
    "x=0        1 /   (1   + exp(-0)  ) =   1 / ( 1+1) = 0.5\n",
    "x=inf      1/ (  1+   exp(-inf)  ) =   1 / ( 1 + 0) )  =  1\n",
    "x=-inf     1 / (  (1 +  exp(inf) ) =   1 / 무한대 = 0 "
   ]
  },
  {
   "cell_type": "code",
   "execution_count": null,
   "id": "f994c876",
   "metadata": {},
   "outputs": [],
   "source": [
    "z = (7x1 + 4x2 - 6)^2\n"
   ]
  },
  {
   "cell_type": "markdown",
   "id": "e037f453",
   "metadata": {},
   "source": [
    "# 합성함수 미분\n",
    "\n",
    "- (4x + 7)^2     ->   z=4x+7              2(4x+7)4\n",
    "\n"
   ]
  },
  {
   "cell_type": "code",
   "execution_count": null,
   "id": "48d84361",
   "metadata": {},
   "outputs": [],
   "source": [
    "MSE =  sum  (wx + b - y)^2 \n",
    "    \n",
    "z = wx + b - y\n",
    "\n",
    "MSE/dw =  2zx = 2(wx+b-y)x\n",
    "MSE/db =  2z1 = 2(wx+b-y)\n",
    "\n",
    "(wx+b-y)*x = 0\n",
    "(wx+b-y) = 0"
   ]
  }
 ],
 "metadata": {
  "kernelspec": {
   "display_name": "Python 3",
   "language": "python",
   "name": "python3"
  },
  "language_info": {
   "codemirror_mode": {
    "name": "ipython",
    "version": 3
   },
   "file_extension": ".py",
   "mimetype": "text/x-python",
   "name": "python",
   "nbconvert_exporter": "python",
   "pygments_lexer": "ipython3",
   "version": "3.8.8"
  }
 },
 "nbformat": 4,
 "nbformat_minor": 5
}
