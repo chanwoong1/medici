{
 "metadata": {
  "language_info": {
   "codemirror_mode": {
    "name": "ipython",
    "version": 3
   },
   "file_extension": ".py",
   "mimetype": "text/x-python",
   "name": "python",
   "nbconvert_exporter": "python",
   "pygments_lexer": "ipython3",
   "version": "3.8.5"
  },
  "orig_nbformat": 4,
  "kernelspec": {
   "name": "python3",
   "display_name": "Python 3.8.5 64-bit ('base': conda)"
  },
  "interpreter": {
   "hash": "3daa3430744053f4748a69c6948da8999f75f0c797f8ffecf263e95f10f995f6"
  }
 },
 "nbformat": 4,
 "nbformat_minor": 2,
 "cells": [
  {
   "cell_type": "code",
   "execution_count": 3,
   "metadata": {},
   "outputs": [
    {
     "output_type": "error",
     "ename": "TypeError",
     "evalue": "can only concatenate list (not \"int\") to list",
     "traceback": [
      "\u001b[1;31m---------------------------------------------------------------------------\u001b[0m",
      "\u001b[1;31mTypeError\u001b[0m                                 Traceback (most recent call last)",
      "\u001b[1;32m<ipython-input-3-1cfb96615736>\u001b[0m in \u001b[0;36m<module>\u001b[1;34m\u001b[0m\n\u001b[0;32m      1\u001b[0m \u001b[0mx\u001b[0m \u001b[1;33m=\u001b[0m \u001b[1;33m[\u001b[0m\u001b[1;36m1\u001b[0m\u001b[1;33m,\u001b[0m \u001b[1;36m2\u001b[0m\u001b[1;33m,\u001b[0m \u001b[1;36m3\u001b[0m\u001b[1;33m,\u001b[0m \u001b[1;36m4\u001b[0m\u001b[1;33m,\u001b[0m \u001b[1;36m6\u001b[0m\u001b[1;33m]\u001b[0m\u001b[1;33m\u001b[0m\u001b[1;33m\u001b[0m\u001b[0m\n\u001b[0;32m      2\u001b[0m \u001b[1;33m\u001b[0m\u001b[0m\n\u001b[1;32m----> 3\u001b[1;33m \u001b[1;36m2\u001b[0m \u001b[1;33m*\u001b[0m \u001b[0mx\u001b[0m \u001b[1;33m+\u001b[0m \u001b[1;36m1\u001b[0m\u001b[1;33m\u001b[0m\u001b[1;33m\u001b[0m\u001b[0m\n\u001b[0m\u001b[0;32m      4\u001b[0m \u001b[1;33m\u001b[0m\u001b[0m\n",
      "\u001b[1;31mTypeError\u001b[0m: can only concatenate list (not \"int\") to list"
     ]
    }
   ],
   "source": [
    "x = [1, 2, 3, 4, 6]\n",
    "\n",
    "y = 2 * x + 1\n",
    "\n"
   ]
  },
  {
   "cell_type": "code",
   "execution_count": 9,
   "metadata": {},
   "outputs": [
    {
     "output_type": "stream",
     "name": "stdout",
     "text": [
      "[3, 5, 7, 9, 13]\n"
     ]
    }
   ],
   "source": [
    "y = []\n",
    "for i in x :\n",
    "    t = 2 * i + 1\n",
    "    y.append(t)\n",
    "print(y)"
   ]
  },
  {
   "cell_type": "code",
   "execution_count": 7,
   "metadata": {},
   "outputs": [
    {
     "output_type": "stream",
     "name": "stdout",
     "text": [
      "[3, 5, 7, 9, 13]\n"
     ]
    }
   ],
   "source": [
    "y = [2 * i + 1 for i in x]\n",
    "print(y)"
   ]
  },
  {
   "source": [
    "numpy 를 사용하여 계산할 수도 있다."
   ],
   "cell_type": "markdown",
   "metadata": {}
  },
  {
   "cell_type": "code",
   "execution_count": 10,
   "metadata": {},
   "outputs": [
    {
     "output_type": "stream",
     "name": "stdout",
     "text": [
      "[ 3  5  7  9 11 15]\n"
     ]
    }
   ],
   "source": [
    "import numpy as np\n",
    "\n",
    "x = np.array([1,2,3,4,5,7])\n",
    "y = 2 * x + 1\n",
    "print(y)"
   ]
  },
  {
   "source": [
    "# 1. 오차의 이해"
   ],
   "cell_type": "markdown",
   "metadata": {}
  },
  {
   "cell_type": "code",
   "execution_count": 19,
   "metadata": {},
   "outputs": [
    {
     "output_type": "stream",
     "name": "stdout",
     "text": [
      "0.4\n4.729999999999999\n"
     ]
    }
   ],
   "source": [
    "x = np.array([1,2,3,4,5])\n",
    "y = np.array([3,6,7,9,12])\n",
    "\n",
    "w = 2\n",
    "b = 1\n",
    "\n",
    "#np.sum((w * x + b - y) ** 2) / 5\n",
    "e1 = np.mean((w * x + b - y) ** 2)\n",
    "\n",
    "w = 3\n",
    "b = 0.1\n",
    "e2 = np.mean((w * x + b - y) ** 2)\n",
    "\n",
    "print(e1, e2, sep = \"\\n\")"
   ]
  },
  {
   "source": [
    "# 2.행렬 기초"
   ],
   "cell_type": "markdown",
   "metadata": {}
  },
  {
   "cell_type": "code",
   "execution_count": 27,
   "metadata": {},
   "outputs": [
    {
     "output_type": "stream",
     "name": "stdout",
     "text": [
      "[[1 2 3]\n [4 5 6]\n [7 8 9]]\n\n[[15 25 35]\n [45 55 65]\n [75 85 95]]\n\n[[0 0 1]\n [1 0 0]\n [0 1 0]]\n\n[[18 28 41]\n [52 58 68]\n [78 96 98]]\n"
     ]
    }
   ],
   "source": [
    "a = np.array([[1,2,3],\n",
    "              [4,5,6],\n",
    "              [7,8,9]])\n",
    "\n",
    "print(a)\n",
    "print()\n",
    "\n",
    "b = a * 10 + 5\n",
    "print(b)\n",
    "print()\n",
    "\n",
    "c = np.array([[0,0,1],\n",
    "              [1,0,0],\n",
    "              [0,1,0]])\n",
    "print(c)\n",
    "print()\n",
    "\n",
    "d = a * c + b + 3\n",
    "print(d)\n",
    "\n"
   ]
  },
  {
   "cell_type": "code",
   "execution_count": 28,
   "metadata": {},
   "outputs": [
    {
     "output_type": "stream",
     "name": "stdout",
     "text": [
      "[[ 3  8]\n [21 32]]\n"
     ]
    }
   ],
   "source": [
    "a = np.array([[1, 2], [3, 4]])\n",
    "b = np.array([[3, 4], [7, 8]])\n",
    "print(a * b)"
   ]
  },
  {
   "source": [
    "# 행렬 연산"
   ],
   "cell_type": "markdown",
   "metadata": {}
  },
  {
   "cell_type": "code",
   "execution_count": 33,
   "metadata": {},
   "outputs": [
    {
     "output_type": "stream",
     "name": "stdout",
     "text": [
      "[[1. 0. 0.]\n [0. 1. 0.]\n [0. 0. 1.]]\n\n[[ 5 10 15]\n [20 25 30]\n [35 40 45]]\n\n[[ 7 10]\n [15 22]]\n\n[[1. 2. 3.]\n [4. 5. 6.]\n [7. 8. 9.]]\n"
     ]
    }
   ],
   "source": [
    "i = np.eye(3)\n",
    "print(i)\n",
    "print()\n",
    "\n",
    "b = a * 5\n",
    "print(b)\n",
    "print()\n",
    "\n",
    "a = np.array([[1,2], [3,4]])\n",
    "\n",
    "b = np.matmul(a, a)\n",
    "print(b)\n",
    "print()\n",
    "\n",
    "a = np.array([[1,2,3],[4,5,6],[7,8,9]])\n",
    "print(np.matmul(i, a))"
   ]
  },
  {
   "source": [
    "# 역행렬"
   ],
   "cell_type": "markdown",
   "metadata": {}
  },
  {
   "cell_type": "code",
   "execution_count": 36,
   "metadata": {},
   "outputs": [
    {
     "output_type": "stream",
     "name": "stdout",
     "text": [
      "[[-1.  1.]\n [ 2. -1.]]\n\n[[1. 0.]\n [0. 1.]]\n"
     ]
    }
   ],
   "source": [
    "a = np.array([[1, 1], \n",
    "             [2, 1]])\n",
    "\n",
    "inv = np.linalg.inv(a)\n",
    "print(inv)\n",
    "print()\n",
    "print(np.matmul(a, inv))\n",
    "\n"
   ]
  },
  {
   "cell_type": "code",
   "execution_count": 62,
   "metadata": {},
   "outputs": [
    {
     "output_type": "stream",
     "name": "stdout",
     "text": [
      "ainv\n[[-1.  1.]\n [ 2. -1.]]\n\ny\n[[2. ]\n [4.4]]\n\nwb\n[[ 2.4]\n [-0.4]]\n\nw, b\n2.4000000000000004 -0.40000000000000036\n\n16.4\n\nh\n[14.  16.4 18.8 23.6]\n\nh\n[[16.4]\n [18.8]\n [21.2]]\n"
     ]
    }
   ],
   "source": [
    "a1 = a[0][0]\n",
    "a2 = a[0][1]\n",
    "a3 = a[1][0]\n",
    "a4 = a[1][1]\n",
    "\n",
    "ainv = (1/(a1*a4 - a2*a3))*np.array([[a4, -a2], [-a3, a1]])\n",
    "print('ainv')\n",
    "print(ainv)\n",
    "print()\n",
    "\n",
    "y = np.array([[2],[4.4]])\n",
    "print('y')\n",
    "print(y)\n",
    "print()\n",
    "\n",
    "wb = np.matmul(ainv, y)\n",
    "print('wb')\n",
    "print(wb)\n",
    "print()\n",
    "w = wb[0][0]\n",
    "b = wb[1][0]\n",
    "print('w, b')\n",
    "print(w,b)\n",
    "print()\n",
    "\n",
    "h = w * x + b\n",
    "x = 7\n",
    "print(round(h, 5))\n",
    "print()\n",
    "\n",
    "x = np.array([6,7,8,10])\n",
    "h = w * x + b\n",
    "print('h')\n",
    "print(h)\n",
    "print()\n",
    "\n",
    "x = np.array([[7, 1],\n",
    "              [8, 1],\n",
    "              [9, 1]])\n",
    "\n",
    "h = np.matmul(x, wb)\n",
    "print('h')\n",
    "print(h)"
   ]
  },
  {
   "source": [
    "# 의사역행렬"
   ],
   "cell_type": "markdown",
   "metadata": {}
  },
  {
   "cell_type": "code",
   "execution_count": 69,
   "metadata": {},
   "outputs": [
    {
     "output_type": "stream",
     "name": "stdout",
     "text": [
      "[[-5.00000000e-01 -3.19189120e-16  5.00000000e-01]\n [ 1.33333333e+00  3.33333333e-01 -6.66666667e-01]]\n\n[[ 2.2       ]\n [-0.26666667]]\n"
     ]
    }
   ],
   "source": [
    "a = np.array([[1, 1],\n",
    "                [2,1],\n",
    "                [3,1]])\n",
    "y = np.array([[2],\n",
    "                [4],\n",
    "                [6.4]])\n",
    "pinv = np.linalg.pinv(a)\n",
    "print(pinv)\n",
    "print()\n",
    "y = np.array([[2, 4, 6.4]]).T\n",
    "\n",
    "np.matmul(pinv, a)\n",
    "\n",
    "W = np.matmul(pinv, y)\n",
    "print(W)"
   ]
  },
  {
   "cell_type": "code",
   "execution_count": 75,
   "metadata": {},
   "outputs": [
    {
     "output_type": "stream",
     "name": "stdout",
     "text": [
      "0.008888888888888925\n"
     ]
    }
   ],
   "source": [
    "#print(a)\n",
    "mse = np.mean((np.matmul(a,W) - y) ** 2)\n",
    "print(mse)\n",
    "\n"
   ]
  },
  {
   "source": [
    "# 택시비 추정하기\n",
    "\n",
    "a 회차 : 1km    8000    2km   9200  3km     12000\n",
    "\n",
    "B 회차 : 1km    5000    2km   8500  3km     11000\n",
    "\n",
    "20km?"
   ],
   "cell_type": "markdown",
   "metadata": {}
  },
  {
   "cell_type": "code",
   "execution_count": 104,
   "metadata": {},
   "outputs": [
    {
     "output_type": "stream",
     "name": "stdout",
     "text": [
      "[[ 8000]\n [ 9200]\n [12000]]\n\n[[2000.        ]\n [5733.33333333]]\n\n[[3000.        ]\n [2166.66666667]]\n\n[45733.33333333]\n[62166.66666667]\n"
     ]
    },
    {
     "output_type": "execute_result",
     "data": {
      "text/plain": [
       "(array([[45733.33333333]]), array([[62166.66666667]]))"
      ]
     },
     "metadata": {},
     "execution_count": 104
    }
   ],
   "source": [
    "a = np.array([[1, 1],\n",
    "              [2, 1],\n",
    "              [3, 1]])\n",
    "\n",
    "y_a = np.array([8000, 9200, 12000]).reshape(-1, 1)\n",
    "y_b = np.array([5000, 8500, 11000]).reshape(-1, 1)\n",
    "print(y_a)\n",
    "print()\n",
    "\n",
    "w_a = np.matmul(np.linalg.pinv(a), y_a)\n",
    "print(w_a)\n",
    "print()\n",
    "\n",
    "\n",
    "w_b = np.matmul(np.linalg.pinv(a), y_b)\n",
    "print(w_b)\n",
    "print()\n",
    "\n",
    "x = 20\n",
    "h_a = w_a[0] * x + w_a[1]\n",
    "h_b = w_b[0] * x + w_b[1]\n",
    "\n",
    "print(h_a, h_b, sep = '\\n')\n",
    "\n",
    "x_array = np.array([[20, 1]])\n",
    "np.matmul(x_array, w_a), np.matmul(x_array, w_b)"
   ]
  },
  {
   "source": [
    "a 가 더 낮은 금액으로 20km를 갈 수 있다."
   ],
   "cell_type": "markdown",
   "metadata": {}
  },
  {
   "source": [
    "# 주가 분석"
   ],
   "cell_type": "markdown",
   "metadata": {}
  },
  {
   "source": [
    "'''\n",
    "[이자율, 실업률]   -  주가\n",
    "\n",
    "[3.4,  1.5   .. ] 1900\n",
    "[2.1,  2.5   .. ] 1700\n",
    "y = w1*이자율 + w2*실업률 + b*1\n",
    "\n",
    "[3.4 1.5 1]          1900\n",
    "[2.1 2.5 1] -1       1700\n",
    "[3.4 2.1 1]          1500\n",
    "[1.7 2.4 1]          1000\n",
    "\n",
    "(4x3)-1 * 4*1 \n",
    "(3x4) (4x1) = 3x1\n",
    "'''"
   ],
   "cell_type": "code",
   "metadata": {},
   "execution_count": null,
   "outputs": []
  },
  {
   "cell_type": "code",
   "execution_count": 92,
   "metadata": {},
   "outputs": [],
   "source": [
    "# 이자율, 실업률\n",
    "ir  = [2.75,2.5,2.5,2.5,2.5,2.5,2.5,2.25,2.25,2.25,2,2,2,1.75,1.75,1.75,1.75,1.75,1.75,1.75,1.75,1.75,1.75,1.75]\n",
    "ur =  [5.3,5.3,5.3,5.3,5.4,5.6,5.5,5.5,5.5,5.6,5.7,5.9,6,5.9,5.8,6.1,6.2,6.1,6.1,6.1,5.9,6.2,6.2,6.1]\n",
    "y = [1464,1394,1357,1293,1256,1254,1234,1195,1159,1167,1130,1075,1047,965,943,958,971,949,884,866,876,822,704,719]     \n",
    "\n",
    "\n",
    "#이자율 4.5%, 실업률 2.1일때 주가는?"
   ]
  },
  {
   "cell_type": "code",
   "execution_count": 116,
   "metadata": {},
   "outputs": [
    {
     "output_type": "execute_result",
     "data": {
      "text/plain": [
       "2828.026569297707"
      ]
     },
     "metadata": {},
     "execution_count": 116
    }
   ],
   "source": [
    "b = [1 for i in range(len(ir))]\n",
    "irur_array = np.array([ir,ur,b]).T\n",
    "y_array = np.array(y).T\n",
    "\n",
    "ir_ur_b = np.matmul(np.linalg.pinv(irur_array), y_array)    # ir, ur, b\n",
    "x = np.array([4.5, 2.1, 1])     #ir, ur, b\n",
    "np.matmul(x, ir_ur_b)"
   ]
  },
  {
   "source": [
    "# 미분"
   ],
   "cell_type": "markdown",
   "metadata": {}
  },
  {
   "cell_type": "code",
   "execution_count": 117,
   "metadata": {},
   "outputs": [
    {
     "output_type": "stream",
     "name": "stdout",
     "text": [
      "[4, 5, 6, 10]\n[1, 1, 4]\n"
     ]
    }
   ],
   "source": [
    "a = [4, 5, 6, 10]\n",
    "b = [5 - 4, 6 - 5, 10 - 6]\n",
    "print(a)\n",
    "print(b)"
   ]
  },
  {
   "cell_type": "code",
   "execution_count": 131,
   "metadata": {},
   "outputs": [
    {
     "output_type": "execute_result",
     "data": {
      "text/plain": [
       "4.000000000559112"
      ]
     },
     "metadata": {},
     "execution_count": 131
    }
   ],
   "source": [
    "def f(x) :\n",
    "    return 4 * x + 7\n",
    "\n",
    "x = 0\n",
    "dx = 0.00000000001\n",
    "(f(x + dx) - f(x)) / dx\n",
    "\n",
    "def df(x) :\n",
    "    dx = 0.000001\n",
    "    return (f(x + dx) - f(x)) / dx\n",
    "\n",
    "df(2)\n"
   ]
  },
  {
   "cell_type": "code",
   "execution_count": 132,
   "metadata": {},
   "outputs": [
    {
     "output_type": "execute_result",
     "data": {
      "text/plain": [
       "(195, 60.0000399970213)"
      ]
     },
     "metadata": {},
     "execution_count": 132
    }
   ],
   "source": [
    "def f2(x) :\n",
    "    return 4 * x ** 2 + 20 * x - 5\n",
    "\n",
    "def df2(x) :\n",
    "    dx = 0.00001\n",
    "    return((f2(x + dx) - f2(x)) / dx)\n",
    "\n",
    "f2(5), df2(5)"
   ]
  },
  {
   "cell_type": "code",
   "execution_count": 134,
   "metadata": {},
   "outputs": [
    {
     "output_type": "execute_result",
     "data": {
      "text/plain": [
       "5.000000001587068"
      ]
     },
     "metadata": {},
     "execution_count": 134
    }
   ],
   "source": [
    "def df_g(f, x) :\n",
    "    dx = 0.000001\n",
    "    return ((f(x + dx) - f(x) )/ dx)\n",
    "\n",
    "def fun1(x) :\n",
    "    return 5 * x + 7\n",
    "\n",
    "df_g(fun1, 6)"
   ]
  },
  {
   "cell_type": "code",
   "execution_count": 142,
   "metadata": {},
   "outputs": [
    {
     "output_type": "execute_result",
     "data": {
      "text/plain": [
       "0.2500000000349445"
      ]
     },
     "metadata": {},
     "execution_count": 142
    }
   ],
   "source": [
    "def sig(x) :\n",
    "    return 1 / (1 + np.exp(-x))\n",
    "\n",
    "df_g(sig, 0)"
   ]
  },
  {
   "source": [
    "# 합성함수 미분\n",
    "\n",
    "z = (7x1 + 4x2 - 6)^2"
   ],
   "cell_type": "markdown",
   "metadata": {}
  },
  {
   "cell_type": "code",
   "execution_count": null,
   "metadata": {},
   "outputs": [],
   "source": [
    "MSE =  sum  (wx + b - y)^2 \n",
    "    \n",
    "z = wx + b - y\n",
    "\n",
    "MSE/dw =  2zx = 2(wx+b-y)x\n",
    "MSE/db =  2z1 = 2(wx+b-y)\n",
    "\n",
    "(wx+b-y)*x = 0\n",
    "(wx+b-y) = 0"
   ]
  }
 ]
}