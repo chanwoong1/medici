{
 "cells": [
  {
   "cell_type": "markdown",
   "metadata": {},
   "source": [
    "# 포멧 문자열"
   ]
  },
  {
   "cell_type": "code",
   "execution_count": 1,
   "metadata": {},
   "outputs": [],
   "source": [
    "a1 = '홍길동'\r\n",
    "a2 = 30"
   ]
  },
  {
   "cell_type": "code",
   "execution_count": 5,
   "metadata": {},
   "outputs": [
    {
     "name": "stdout",
     "output_type": "stream",
     "text": [
      "이름은 홍길동이고 나이는 30입니다\n"
     ]
    }
   ],
   "source": [
    "str1 = '이름은 ' + a1 + '이고 나이는 '+ str(a2) + '입니다'\r\n",
    "print(str1)"
   ]
  },
  {
   "cell_type": "code",
   "execution_count": 9,
   "metadata": {},
   "outputs": [
    {
     "name": "stdout",
     "output_type": "stream",
     "text": [
      "이름은 홍길동 이고 나이는 30 살 입니다\n"
     ]
    }
   ],
   "source": [
    "str2 = '이름은 %s 이고 나이는 %d 살 입니다'% (a1, a2)\r\n",
    "print(str2)"
   ]
  },
  {
   "cell_type": "code",
   "execution_count": 11,
   "metadata": {},
   "outputs": [
    {
     "name": "stdout",
     "output_type": "stream",
     "text": [
      "이름은 홍길동이고 나이는 30살 입니다. 홍길동은 파스타를 좋아합니다\n"
     ]
    }
   ],
   "source": [
    "a1 = '홍길동'\r\n",
    "a2 = 30\r\n",
    "a3 = '파스타'\r\n",
    "\r\n",
    "str3 = '이름은 %s이고 나이는 %d살 입니다. %s은 %s를 좋아합니다' % (a1, a2, a1 ,a3)\r\n",
    "print(str3)"
   ]
  },
  {
   "cell_type": "code",
   "execution_count": 13,
   "metadata": {},
   "outputs": [
    {
     "name": "stdout",
     "output_type": "stream",
     "text": [
      "이름은 홍길동이고 나이는 30입니다. 홍길동은 파스타을 좋아합니다\n"
     ]
    }
   ],
   "source": [
    "str4 = '이름은 {0}이고 나이는 {1}입니다. {0}은 {2}을 좋아합니다'.format(a1, a2 ,a3)\r\n",
    "print(str4)"
   ]
  },
  {
   "cell_type": "code",
   "execution_count": 14,
   "metadata": {},
   "outputs": [
    {
     "name": "stdout",
     "output_type": "stream",
     "text": [
      "이름은 홍길동이고 나이는 30입니다. 홍길동은 30를 좋아합니다\n"
     ]
    }
   ],
   "source": [
    "str5 = f'이름은 {a1}이고 나이는 {a2}입니다. {a1}은 {a2}를 좋아합니다'\r\n",
    "print(str5)"
   ]
  },
  {
   "cell_type": "markdown",
   "metadata": {},
   "source": [
    "# apply 함수"
   ]
  },
  {
   "cell_type": "code",
   "execution_count": 2,
   "metadata": {},
   "outputs": [
    {
     "data": {
      "text/plain": [
       "0    1\n",
       "1    2\n",
       "2    3\n",
       "3    4\n",
       "4    5\n",
       "dtype: int64"
      ]
     },
     "execution_count": 2,
     "metadata": {},
     "output_type": "execute_result"
    }
   ],
   "source": [
    "import numpy as np\r\n",
    "import pandas as pd\r\n",
    "\r\n",
    "a1 = pd.Series([1, 2, 3, 4, 5])\r\n",
    "\r\n",
    "a1.apply(lambda x : x)"
   ]
  },
  {
   "cell_type": "code",
   "execution_count": null,
   "metadata": {},
   "outputs": [],
   "source": []
  }
 ],
 "metadata": {
  "interpreter": {
   "hash": "3daa3430744053f4748a69c6948da8999f75f0c797f8ffecf263e95f10f995f6"
  },
  "kernelspec": {
   "display_name": "Python 3.8.5 64-bit ('base': conda)",
   "name": "python3"
  },
  "language_info": {
   "codemirror_mode": {
    "name": "ipython",
    "version": 3
   },
   "file_extension": ".py",
   "mimetype": "text/x-python",
   "name": "python",
   "nbconvert_exporter": "python",
   "pygments_lexer": "ipython3",
   "version": "3.8.5"
  },
  "orig_nbformat": 4
 },
 "nbformat": 4,
 "nbformat_minor": 2
}