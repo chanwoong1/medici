{
 "metadata": {
  "language_info": {
   "codemirror_mode": {
    "name": "ipython",
    "version": 3
   },
   "file_extension": ".py",
   "mimetype": "text/x-python",
   "name": "python",
   "nbconvert_exporter": "python",
   "pygments_lexer": "ipython3",
   "version": "3.8.5"
  },
  "orig_nbformat": 4,
  "kernelspec": {
   "name": "python3",
   "display_name": "Python 3.8.5 64-bit ('base': conda)"
  },
  "interpreter": {
   "hash": "3daa3430744053f4748a69c6948da8999f75f0c797f8ffecf263e95f10f995f6"
  }
 },
 "nbformat": 4,
 "nbformat_minor": 2,
 "cells": [
  {
   "source": [
    "- 노트북의 모드\n",
    "- esc : command mode. 셀들을 관리할 수 있다.\n",
    "- enter : edit mode. 셀에 원하는 내용을 입력할 수 있다.\n",
    "-----------------------------------------------------\n",
    "- 셀의 모드\n",
    "- m : mark down. 설명을 작성할 수 있다.\n",
    "- y : code mode. 파이썬 코드를 작성할 수 있다.\n",
    "---\n",
    "- 공통 단축키\n",
    "- shift + enter : 현재 셀을 실행하고 다음 셀로 이동한다.\n",
    "- ctrl + enter : 현재 셀을 실행하고 다음 셀로 이동하지 않는다.\n",
    "---\n",
    "- command mode 단축키\n",
    "- 화살표 위 아래 : 셀을 이동한다.\n",
    "- a : 현재 셀을 기준으로 상단에 셀을 추가하고 이동한다.\n",
    "- b : 현재 셀을 기준으로 하단에 셀을 추가하고 이동한다.\n",
    "- dd : 현재 셀을 삭제한다.\n",
    "- shift + m : 선택한 셀들을 하나로 합쳐준다.\n",
    "---\n",
    "- edit mode 단축키\n",
    "- 화살표 위 아래 : 셀 내에서 위 아래로 이동한다. 단 첫 번째 줄에 있을 경우는 이전셀로 이동하고 마지막 줄에 있을 경우에는 다음 셀로 이동한다.\n",
    "- ctrl + shift + -(빼기) : 현재 위치를 기준으로 셀을 나눈다."
   ],
   "cell_type": "markdown",
   "metadata": {}
  },
  {
   "source": [
    "# 제목1\n",
    "## 제목2\n",
    "### 제목3\n",
    "#### 제목4\n",
    "##### 제목5"
   ],
   "cell_type": "markdown",
   "metadata": {}
  },
  {
   "source": [
    "- html을 지원한다\n",
    "\n",
    "동해물과 <span style = 'color : red'> 백두산이 </span> 마르고 닳도록"
   ],
   "cell_type": "markdown",
   "metadata": {}
  },
  {
   "source": [
    "<img src = 'image/다운로드.jpeg' />"
   ],
   "cell_type": "markdown",
   "metadata": {}
  }
 ]
}