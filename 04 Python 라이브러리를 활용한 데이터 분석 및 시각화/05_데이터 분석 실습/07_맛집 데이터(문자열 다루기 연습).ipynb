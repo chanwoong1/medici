{
 "cells": [
  {
   "cell_type": "markdown",
   "metadata": {},
   "source": [
    "# 기본 모듈"
   ]
  },
  {
   "cell_type": "code",
   "execution_count": 25,
   "metadata": {},
   "outputs": [],
   "source": [
    "import numpy as np\r\n",
    "import pandas as pd\r\n",
    "import matplotlib.pyplot as plt\r\n",
    "import seaborn as sns\r\n",
    "\r\n",
    "# 불필요한 경고 메시지를 나오지 않도록 한다.\r\n",
    "import warnings\r\n",
    "warnings.filterwarnings('ignore')\r\n",
    "\r\n",
    "\r\n",
    "# seaborn 에서 제공하는 그래프 테마\r\n",
    "# sns.set_style('ticks')\r\n",
    "# sns.set_style('darkgrid')\r\n",
    "# sns.set_style('whitegrid')\r\n",
    "\r\n",
    "# 그래프를 그리기 위한 기본 설정\r\n",
    "# 폰트 설정 - 윈도우\r\n",
    "plt.rcParams['font.family'] = 'Malgun Gothic'\r\n",
    "\r\n",
    "# 그래프의 크기\r\n",
    "plt.rcParams['figure.figsize'] = 12, 6\r\n",
    "\r\n",
    "# 글자 크기\r\n",
    "plt.rcParams['font.size'] = 14\r\n",
    "\r\n",
    "# 폰트 설정 시 - 기호 깨는거 방지하기\r\n",
    "plt.rcParams['axes.unicode_minus'] = False"
   ]
  },
  {
   "cell_type": "markdown",
   "metadata": {},
   "source": [
    "# 맛집 데이터 불러오기"
   ]
  },
  {
   "cell_type": "code",
   "execution_count": 26,
   "metadata": {},
   "outputs": [
    {
     "data": {
      "text/html": [
       "<div>\n",
       "<style scoped>\n",
       "    .dataframe tbody tr th:only-of-type {\n",
       "        vertical-align: middle;\n",
       "    }\n",
       "\n",
       "    .dataframe tbody tr th {\n",
       "        vertical-align: top;\n",
       "    }\n",
       "\n",
       "    .dataframe thead th {\n",
       "        text-align: right;\n",
       "    }\n",
       "</style>\n",
       "<table border=\"1\" class=\"dataframe\">\n",
       "  <thead>\n",
       "    <tr style=\"text-align: right;\">\n",
       "      <th></th>\n",
       "      <th>Restaurant Name</th>\n",
       "      <th>Rating</th>\n",
       "      <th>Address</th>\n",
       "      <th>Tel</th>\n",
       "      <th>Food</th>\n",
       "      <th>Price</th>\n",
       "      <th>Parking</th>\n",
       "      <th>Operating Time</th>\n",
       "      <th>Holiday</th>\n",
       "    </tr>\n",
       "  </thead>\n",
       "  <tbody>\n",
       "    <tr>\n",
       "      <th>0</th>\n",
       "      <td>이나니와요스케</td>\n",
       "      <td>4.4</td>\n",
       "      <td>서울시 중구 을지로1가 192-11</td>\n",
       "      <td>02-772-9994</td>\n",
       "      <td>라멘 / 소바 / 우동</td>\n",
       "      <td>만원-2만원</td>\n",
       "      <td>주차공간없음</td>\n",
       "      <td>11:00 - 23:00</td>\n",
       "      <td>일</td>\n",
       "    </tr>\n",
       "    <tr>\n",
       "      <th>1</th>\n",
       "      <td>바오차이</td>\n",
       "      <td>4.4</td>\n",
       "      <td>서울시 중구 을지로2가 203</td>\n",
       "      <td>02-6031-0107</td>\n",
       "      <td>정통 중식 / 일반 중식</td>\n",
       "      <td>2만원-3만원</td>\n",
       "      <td>유료주차 가능</td>\n",
       "      <td>11:30 - 21:30</td>\n",
       "      <td>NaN</td>\n",
       "    </tr>\n",
       "    <tr>\n",
       "      <th>2</th>\n",
       "      <td>라칸티나</td>\n",
       "      <td>4.4</td>\n",
       "      <td>서울시 중구 을지로1가 50</td>\n",
       "      <td>02-777-2579</td>\n",
       "      <td>이탈리안</td>\n",
       "      <td>3만원-4만원</td>\n",
       "      <td>NaN</td>\n",
       "      <td>월-토: 11:30 - 23:00 일: 17:30 - 23:00</td>\n",
       "      <td>NaN</td>\n",
       "    </tr>\n",
       "    <tr>\n",
       "      <th>3</th>\n",
       "      <td>라세느</td>\n",
       "      <td>4.3</td>\n",
       "      <td>서울시 중구 소공동 1</td>\n",
       "      <td>02-317-7171</td>\n",
       "      <td>뷔페</td>\n",
       "      <td>4만원 이상</td>\n",
       "      <td>발렛</td>\n",
       "      <td>06:00 - 22:00</td>\n",
       "      <td>NaN</td>\n",
       "    </tr>\n",
       "    <tr>\n",
       "      <th>4</th>\n",
       "      <td>산수갑산</td>\n",
       "      <td>4.3</td>\n",
       "      <td>서울시 중구 인현동1가 15-4</td>\n",
       "      <td>02-2275-6654</td>\n",
       "      <td>탕 / 찌개 / 전골</td>\n",
       "      <td>만원 미만</td>\n",
       "      <td>유료주차 가능</td>\n",
       "      <td>월-금: 11:30 - 22:00 토: 11:30 - 20:00</td>\n",
       "      <td>일</td>\n",
       "    </tr>\n",
       "    <tr>\n",
       "      <th>...</th>\n",
       "      <td>...</td>\n",
       "      <td>...</td>\n",
       "      <td>...</td>\n",
       "      <td>...</td>\n",
       "      <td>...</td>\n",
       "      <td>...</td>\n",
       "      <td>...</td>\n",
       "      <td>...</td>\n",
       "      <td>...</td>\n",
       "    </tr>\n",
       "    <tr>\n",
       "      <th>395</th>\n",
       "      <td>누룩나무</td>\n",
       "      <td>4</td>\n",
       "      <td>서울시 종로구 관훈동 118-19</td>\n",
       "      <td>02-722-3398</td>\n",
       "      <td>전통 주점 / 포차</td>\n",
       "      <td>만원-2만원</td>\n",
       "      <td>주차공간없음</td>\n",
       "      <td>17:00 - 01:30</td>\n",
       "      <td>일</td>\n",
       "    </tr>\n",
       "    <tr>\n",
       "      <th>396</th>\n",
       "      <td>옴</td>\n",
       "      <td>4</td>\n",
       "      <td>서울시 종로구 신문로1가 2</td>\n",
       "      <td>02-723-4848</td>\n",
       "      <td>인도 음식</td>\n",
       "      <td>만원-2만원</td>\n",
       "      <td>주차공간없음</td>\n",
       "      <td>11:00 - 22:00</td>\n",
       "      <td>NaN</td>\n",
       "    </tr>\n",
       "    <tr>\n",
       "      <th>397</th>\n",
       "      <td>코블러</td>\n",
       "      <td>4</td>\n",
       "      <td>서울시 종로구 내자동 157</td>\n",
       "      <td>02-733-6421</td>\n",
       "      <td>칵테일 / 와인</td>\n",
       "      <td>만원-2만원</td>\n",
       "      <td>유료주차 가능</td>\n",
       "      <td>19:00 - 03:00</td>\n",
       "      <td>일</td>\n",
       "    </tr>\n",
       "    <tr>\n",
       "      <th>398</th>\n",
       "      <td>클류치</td>\n",
       "      <td>4</td>\n",
       "      <td>서울시 종로구 명륜3가 79-1</td>\n",
       "      <td>010-2702-1496</td>\n",
       "      <td>카페 / 디저트</td>\n",
       "      <td>만원 미만</td>\n",
       "      <td>주차공간없음</td>\n",
       "      <td>월-토: 10:00 - 23:00 일: 11:00 - 20:00</td>\n",
       "      <td>NaN</td>\n",
       "    </tr>\n",
       "    <tr>\n",
       "      <th>399</th>\n",
       "      <td>도토리</td>\n",
       "      <td>4</td>\n",
       "      <td>서울시 종로구 안국동 24-1</td>\n",
       "      <td>02-6405-8153</td>\n",
       "      <td>기타 한식</td>\n",
       "      <td>만원 미만</td>\n",
       "      <td>유료주차 가능</td>\n",
       "      <td>월-금: 10:30 - 21:00 토-일: 10:30 - 22:00</td>\n",
       "      <td>NaN</td>\n",
       "    </tr>\n",
       "  </tbody>\n",
       "</table>\n",
       "<p>400 rows × 9 columns</p>\n",
       "</div>"
      ],
      "text/plain": [
       "    Restaurant Name Rating              Address            Tel           Food  \\\n",
       "0           이나니와요스케    4.4  서울시 중구 을지로1가 192-11    02-772-9994   라멘 / 소바 / 우동   \n",
       "1              바오차이    4.4     서울시 중구 을지로2가 203   02-6031-0107  정통 중식 / 일반 중식   \n",
       "2              라칸티나    4.4      서울시 중구 을지로1가 50    02-777-2579           이탈리안   \n",
       "3               라세느    4.3         서울시 중구 소공동 1    02-317-7171             뷔페   \n",
       "4              산수갑산    4.3    서울시 중구 인현동1가 15-4   02-2275-6654    탕 / 찌개 / 전골   \n",
       "..              ...    ...                  ...            ...            ...   \n",
       "395            누룩나무      4   서울시 종로구 관훈동 118-19    02-722-3398     전통 주점 / 포차   \n",
       "396               옴      4      서울시 종로구 신문로1가 2    02-723-4848          인도 음식   \n",
       "397             코블러      4      서울시 종로구 내자동 157    02-733-6421       칵테일 / 와인   \n",
       "398             클류치      4    서울시 종로구 명륜3가 79-1  010-2702-1496       카페 / 디저트   \n",
       "399             도토리      4     서울시 종로구 안국동 24-1   02-6405-8153          기타 한식   \n",
       "\n",
       "       Price  Parking                         Operating Time Holiday  \n",
       "0     만원-2만원   주차공간없음                          11:00 - 23:00       일  \n",
       "1    2만원-3만원  유료주차 가능                          11:30 - 21:30     NaN  \n",
       "2    3만원-4만원      NaN    월-토: 11:30 - 23:00 일: 17:30 - 23:00     NaN  \n",
       "3     4만원 이상       발렛                          06:00 - 22:00     NaN  \n",
       "4      만원 미만  유료주차 가능    월-금: 11:30 - 22:00 토: 11:30 - 20:00       일  \n",
       "..       ...      ...                                    ...     ...  \n",
       "395   만원-2만원   주차공간없음                          17:00 - 01:30       일  \n",
       "396   만원-2만원   주차공간없음                          11:00 - 22:00     NaN  \n",
       "397   만원-2만원  유료주차 가능                          19:00 - 03:00       일  \n",
       "398    만원 미만   주차공간없음    월-토: 10:00 - 23:00 일: 11:00 - 20:00     NaN  \n",
       "399    만원 미만  유료주차 가능  월-금: 10:30 - 21:00 토-일: 10:30 - 22:00     NaN  \n",
       "\n",
       "[400 rows x 9 columns]"
      ]
     },
     "execution_count": 26,
     "metadata": {},
     "output_type": "execute_result"
    }
   ],
   "source": [
    "# 데이터를 읽어온다\r\n",
    "matzip = pd.read_csv('data2/matzipData.csv')\r\n",
    "matzip"
   ]
  },
  {
   "cell_type": "markdown",
   "metadata": {},
   "source": [
    "# 맛집 데이터 처리"
   ]
  },
  {
   "cell_type": "code",
   "execution_count": 27,
   "metadata": {},
   "outputs": [
    {
     "name": "stdout",
     "output_type": "stream",
     "text": [
      "<class 'pandas.core.frame.DataFrame'>\n",
      "RangeIndex: 400 entries, 0 to 399\n",
      "Data columns (total 9 columns):\n",
      " #   Column           Non-Null Count  Dtype \n",
      "---  ------           --------------  ----- \n",
      " 0   Restaurant Name  400 non-null    object\n",
      " 1   Rating           400 non-null    object\n",
      " 2   Address          400 non-null    object\n",
      " 3   Tel              350 non-null    object\n",
      " 4   Food             400 non-null    object\n",
      " 5   Price            397 non-null    object\n",
      " 6   Parking          329 non-null    object\n",
      " 7   Operating Time   364 non-null    object\n",
      " 8   Holiday          126 non-null    object\n",
      "dtypes: object(9)\n",
      "memory usage: 28.2+ KB\n"
     ]
    }
   ],
   "source": [
    "# 정보 확인\r\n",
    "matzip.info()"
   ]
  },
  {
   "cell_type": "code",
   "execution_count": 28,
   "metadata": {},
   "outputs": [
    {
     "data": {
      "text/plain": [
       "Restaurant Name      0\n",
       "Rating               0\n",
       "Address              0\n",
       "Tel                 50\n",
       "Food                 0\n",
       "Price                3\n",
       "Parking             71\n",
       "Operating Time      36\n",
       "Holiday            274\n",
       "dtype: int64"
      ]
     },
     "execution_count": 28,
     "metadata": {},
     "output_type": "execute_result"
    }
   ],
   "source": [
    "# 결측치 확인\r\n",
    "matzip.isna().sum()"
   ]
  },
  {
   "cell_type": "markdown",
   "metadata": {},
   "source": [
    "# 결측치 처리\r\n",
    "\r\n",
    "\r\n",
    "\r\n",
    "\r\n"
   ]
  },
  {
   "cell_type": "markdown",
   "metadata": {},
   "source": [
    "## 휴일에 대한 결측치 처리"
   ]
  },
  {
   "cell_type": "code",
   "execution_count": 29,
   "metadata": {},
   "outputs": [
    {
     "data": {
      "text/plain": [
       "일                     75\n",
       "월                     21\n",
       "토, 일                   7\n",
       "화                      3\n",
       "월, 화                   2\n",
       "일, 첫째 월                2\n",
       "일, 월                   2\n",
       "수                      2\n",
       "둘째/넷째 일                2\n",
       "첫째/셋째 일                1\n",
       "토                      1\n",
       "월, 셋째 화                1\n",
       "월, 일                   1\n",
       "첫째, 셋째 월, 둘째, 넷째 일     1\n",
       "월, 마지막 화               1\n",
       "토-일                    1\n",
       "넷째 일, 월                1\n",
       "둘째, 넷째 일               1\n",
       "격주 월                   1\n",
       "Name: Holiday, dtype: int64"
      ]
     },
     "execution_count": 29,
     "metadata": {},
     "output_type": "execute_result"
    }
   ],
   "source": [
    "# 휴일 구조 파악\r\n",
    "matzip['Holiday'].value_counts()"
   ]
  },
  {
   "cell_type": "code",
   "execution_count": 30,
   "metadata": {},
   "outputs": [
    {
     "data": {
      "text/plain": [
       "Restaurant Name     0\n",
       "Rating              0\n",
       "Address             0\n",
       "Tel                50\n",
       "Food                0\n",
       "Price               3\n",
       "Parking            71\n",
       "Operating Time     36\n",
       "Holiday             0\n",
       "dtype: int64"
      ]
     },
     "execution_count": 30,
     "metadata": {},
     "output_type": "execute_result"
    }
   ],
   "source": [
    "# 휴일의 결측치는 연중무휴로 채워준다.\r\n",
    "matzip['Holiday'].fillna('연중무휴', inplace = True)\r\n",
    "matzip.isna().sum()"
   ]
  },
  {
   "cell_type": "code",
   "execution_count": 31,
   "metadata": {},
   "outputs": [
    {
     "data": {
      "text/plain": [
       "연중무휴                  274\n",
       "일                      75\n",
       "월                      21\n",
       "토, 일                    7\n",
       "화                       3\n",
       "둘째/넷째 일                 2\n",
       "수                       2\n",
       "월, 화                    2\n",
       "일, 월                    2\n",
       "일, 첫째 월                 2\n",
       "둘째, 넷째 일                1\n",
       "넷째 일, 월                 1\n",
       "토-일                     1\n",
       "격주 월                    1\n",
       "첫째, 셋째 월, 둘째, 넷째 일      1\n",
       "월, 셋째 화                 1\n",
       "첫째/셋째 일                 1\n",
       "토                       1\n",
       "월, 마지막 화                1\n",
       "월, 일                    1\n",
       "Name: Holiday, dtype: int64"
      ]
     },
     "execution_count": 31,
     "metadata": {},
     "output_type": "execute_result"
    }
   ],
   "source": [
    "matzip['Holiday'].value_counts()"
   ]
  },
  {
   "cell_type": "markdown",
   "metadata": {},
   "source": [
    "## 가격에 대한 결측치 처리와 변환"
   ]
  },
  {
   "cell_type": "code",
   "execution_count": 32,
   "metadata": {},
   "outputs": [
    {
     "data": {
      "text/plain": [
       "만원-2만원     161\n",
       "만원 미만      159\n",
       "2만원-3만원     46\n",
       "4만원 이상      22\n",
       "3만원-4만원      9\n",
       "Name: Price, dtype: int64"
      ]
     },
     "execution_count": 32,
     "metadata": {},
     "output_type": "execute_result"
    }
   ],
   "source": [
    "# 가격 데이터 확인\r\n",
    "matzip['Price'].value_counts()"
   ]
  },
  {
   "cell_type": "code",
   "execution_count": 33,
   "metadata": {},
   "outputs": [
    {
     "data": {
      "text/plain": [
       "3"
      ]
     },
     "execution_count": 33,
     "metadata": {},
     "output_type": "execute_result"
    }
   ],
   "source": [
    "# 결측치 확인\r\n",
    "matzip['Price'].isna().sum()"
   ]
  },
  {
   "cell_type": "code",
   "execution_count": 34,
   "metadata": {},
   "outputs": [
    {
     "data": {
      "text/plain": [
       "0"
      ]
     },
     "execution_count": 34,
     "metadata": {},
     "output_type": "execute_result"
    }
   ],
   "source": [
    "# 결측치는 10000으로 채워준다\r\n",
    "# 그리고 가격을 숫자 값으로 변환. 가장 작은 값을 10000으로 설정. \r\n",
    "matzip['Price'].fillna('10000', inplace = True)\r\n",
    "matzip['Price'].isna().sum()"
   ]
  },
  {
   "cell_type": "code",
   "execution_count": 35,
   "metadata": {},
   "outputs": [
    {
     "data": {
      "text/plain": [
       "만원-2만원     161\n",
       "만원 미만      159\n",
       "2만원-3만원     46\n",
       "4만원 이상      22\n",
       "3만원-4만원      9\n",
       "10000        3\n",
       "Name: Price, dtype: int64"
      ]
     },
     "execution_count": 35,
     "metadata": {},
     "output_type": "execute_result"
    }
   ],
   "source": [
    "matzip['Price'].value_counts()"
   ]
  },
  {
   "cell_type": "code",
   "execution_count": 39,
   "metadata": {},
   "outputs": [
    {
     "data": {
      "text/plain": [
       "10000    162\n",
       "20000    161\n",
       "30000     46\n",
       "40000     31\n",
       "Name: Price, dtype: int64"
      ]
     },
     "execution_count": 39,
     "metadata": {},
     "output_type": "execute_result"
    }
   ],
   "source": [
    "# 값을 변경한다\r\n",
    "# 만원이라는 글자를 10000으로 변경한다.\r\n",
    "matzip['Price'] = matzip['Price'].str.replace('만원', '10000')\r\n",
    "# 210000 to 20000\r\n",
    "matzip['Price'] = matzip['Price'].str.replace('210000', '20000')\r\n",
    "# 310000 to 30000\r\n",
    "matzip['Price'] = matzip['Price'].str.replace('310000', '30000')\r\n",
    "# 410000 to 40000\r\n",
    "matzip['Price'] = matzip['Price'].str.replace('410000', '40000')\r\n",
    "# 10000-, 20000-, 30000- to Null\r\n",
    "matzip['Price'] = matzip['Price'].str.replace('10000-', '')\r\n",
    "matzip['Price'] = matzip['Price'].str.replace('20000-', '')\r\n",
    "matzip['Price'] = matzip['Price'].str.replace('30000-', '')\r\n",
    "# 공백을 포함한 미만, 이상을 공백으로 바꿔준다\r\n",
    "matzip['Price'] = matzip['Price'].str.replace(' 미만', '')\r\n",
    "matzip['Price'] = matzip['Price'].str.replace(' 이상', '')\r\n",
    "\r\n",
    "matzip['Price'].value_counts()"
   ]
  },
  {
   "cell_type": "code",
   "execution_count": 40,
   "metadata": {},
   "outputs": [
    {
     "data": {
      "text/plain": [
       "dtype('O')"
      ]
     },
     "execution_count": 40,
     "metadata": {},
     "output_type": "execute_result"
    }
   ],
   "source": [
    "# 변경 후 값의 타입을 확인한다\r\n",
    "matzip['Price'].dtype"
   ]
  },
  {
   "cell_type": "code",
   "execution_count": 41,
   "metadata": {},
   "outputs": [
    {
     "data": {
      "text/plain": [
       "dtype('int64')"
      ]
     },
     "execution_count": 41,
     "metadata": {},
     "output_type": "execute_result"
    }
   ],
   "source": [
    "# 숫자로 변경한다\r\n",
    "matzip['Price'] = matzip['Price'].astype('int64')\r\n",
    "matzip['Price'].dtype"
   ]
  },
  {
   "cell_type": "markdown",
   "metadata": {},
   "source": [
    "## 평점"
   ]
  },
  {
   "cell_type": "code",
   "execution_count": 42,
   "metadata": {},
   "outputs": [
    {
     "data": {
      "text/plain": [
       "-      155\n",
       "4       53\n",
       "4.1     47\n",
       "4.2     40\n",
       "4.3     37\n",
       "4.4     20\n",
       "4.5      9\n",
       "3.9      7\n",
       "3.7      6\n",
       "4.6      5\n",
       "3.3      5\n",
       "3.4      4\n",
       "3.6      4\n",
       "4.7      3\n",
       "3.8      2\n",
       "2.7      1\n",
       "3.2      1\n",
       "3.1      1\n",
       "Name: Rating, dtype: int64"
      ]
     },
     "execution_count": 42,
     "metadata": {},
     "output_type": "execute_result"
    }
   ],
   "source": [
    "# 평점에 저장되어 있는 데이터 확인\r\n",
    "matzip['Rating'].value_counts()"
   ]
  },
  {
   "cell_type": "code",
   "execution_count": 43,
   "metadata": {},
   "outputs": [
    {
     "data": {
      "text/plain": [
       "0"
      ]
     },
     "execution_count": 43,
     "metadata": {},
     "output_type": "execute_result"
    }
   ],
   "source": [
    "# 결측치 확인\r\n",
    "matzip['Rating'].isna().sum()"
   ]
  },
  {
   "cell_type": "code",
   "execution_count": 44,
   "metadata": {},
   "outputs": [
    {
     "data": {
      "text/plain": [
       "0.0    155\n",
       "4       53\n",
       "4.1     47\n",
       "4.2     40\n",
       "4.3     37\n",
       "4.4     20\n",
       "4.5      9\n",
       "3.9      7\n",
       "3.7      6\n",
       "3.3      5\n",
       "4.6      5\n",
       "3.6      4\n",
       "3.4      4\n",
       "4.7      3\n",
       "3.8      2\n",
       "3.2      1\n",
       "2.7      1\n",
       "3.1      1\n",
       "Name: Rating, dtype: int64"
      ]
     },
     "execution_count": 44,
     "metadata": {},
     "output_type": "execute_result"
    }
   ],
   "source": [
    "# -를 0.0으로 변경한다\r\n",
    "matzip['Rating'] = matzip['Rating'].str.replace('-', '0.0')\r\n",
    "matzip['Rating'].value_counts()"
   ]
  },
  {
   "cell_type": "code",
   "execution_count": 45,
   "metadata": {},
   "outputs": [
    {
     "data": {
      "text/plain": [
       "dtype('O')"
      ]
     },
     "execution_count": 45,
     "metadata": {},
     "output_type": "execute_result"
    }
   ],
   "source": [
    "# 값의 타입을 확인한다\r\n",
    "matzip['Rating'].dtype"
   ]
  },
  {
   "cell_type": "code",
   "execution_count": 46,
   "metadata": {},
   "outputs": [
    {
     "data": {
      "text/plain": [
       "dtype('float64')"
      ]
     },
     "execution_count": 46,
     "metadata": {},
     "output_type": "execute_result"
    }
   ],
   "source": [
    "# 실수로 변환한다\r\n",
    "matzip['Rating'] = matzip['Rating'].astype('float64')\r\n",
    "matzip['Rating'].dtype"
   ]
  },
  {
   "cell_type": "markdown",
   "metadata": {},
   "source": [
    "## 전화번호"
   ]
  },
  {
   "cell_type": "code",
   "execution_count": 49,
   "metadata": {},
   "outputs": [
    {
     "data": {
      "text/plain": [
       "0"
      ]
     },
     "execution_count": 49,
     "metadata": {},
     "output_type": "execute_result"
    }
   ],
   "source": [
    "# 결측치 확인\r\n",
    "matzip['Tel'].isna().sum()"
   ]
  },
  {
   "cell_type": "code",
   "execution_count": 50,
   "metadata": {},
   "outputs": [
    {
     "data": {
      "text/plain": [
       "0"
      ]
     },
     "execution_count": 50,
     "metadata": {},
     "output_type": "execute_result"
    }
   ],
   "source": [
    "matzip['Tel'].fillna('번호없음', inplace = True)\r\n",
    "matzip['Tel'].isna().sum()"
   ]
  },
  {
   "cell_type": "markdown",
   "metadata": {},
   "source": [
    "## 주차공간"
   ]
  },
  {
   "cell_type": "code",
   "execution_count": 51,
   "metadata": {},
   "outputs": [
    {
     "data": {
      "text/plain": [
       "71"
      ]
     },
     "execution_count": 51,
     "metadata": {},
     "output_type": "execute_result"
    }
   ],
   "source": [
    "matzip['Parking'].isna().sum()"
   ]
  },
  {
   "cell_type": "code",
   "execution_count": 53,
   "metadata": {},
   "outputs": [
    {
     "data": {
      "text/plain": [
       "주차공간없음                199\n",
       "유료주차 가능                89\n",
       "무료주차 가능                24\n",
       "발렛                      8\n",
       "유료주차 가능 2시간 무료          3\n",
       "무료주차 가능 2시간 무료          2\n",
       "유료주차 가능 1시간 무료          1\n",
       "유료주차 가능 주차권 2시간 제공      1\n",
       "유료주차 가능 1.5시간 무료        1\n",
       "무료주차 가능 당일 무료           1\n",
       "Name: Parking, dtype: int64"
      ]
     },
     "execution_count": 53,
     "metadata": {},
     "output_type": "execute_result"
    }
   ],
   "source": [
    "# 주차공간에 저장되어 있는 값들을 확인한다\r\n",
    "matzip['Parking'].value_counts()"
   ]
  },
  {
   "cell_type": "code",
   "execution_count": 54,
   "metadata": {},
   "outputs": [
    {
     "data": {
      "text/plain": [
       "0"
      ]
     },
     "execution_count": 54,
     "metadata": {},
     "output_type": "execute_result"
    }
   ],
   "source": [
    "# 결측치를 주차공간없음으로 채워준다\r\n",
    "matzip['Parking'].fillna('주차공간없음', inplace = True)\r\n",
    "matzip['Parking'].isna().sum()"
   ]
  },
  {
   "cell_type": "code",
   "execution_count": 55,
   "metadata": {},
   "outputs": [
    {
     "data": {
      "text/plain": [
       "주차공간없음                270\n",
       "유료주차 가능                89\n",
       "무료주차 가능                24\n",
       "발렛                      8\n",
       "유료주차 가능 2시간 무료          3\n",
       "무료주차 가능 2시간 무료          2\n",
       "유료주차 가능 1시간 무료          1\n",
       "유료주차 가능 주차권 2시간 제공      1\n",
       "유료주차 가능 1.5시간 무료        1\n",
       "무료주차 가능 당일 무료           1\n",
       "Name: Parking, dtype: int64"
      ]
     },
     "execution_count": 55,
     "metadata": {},
     "output_type": "execute_result"
    }
   ],
   "source": [
    "matzip['Parking'].value_counts()"
   ]
  },
  {
   "cell_type": "markdown",
   "metadata": {},
   "source": [
    "## 영업 시간"
   ]
  },
  {
   "cell_type": "code",
   "execution_count": 56,
   "metadata": {},
   "outputs": [
    {
     "data": {
      "text/plain": [
       "36"
      ]
     },
     "execution_count": 56,
     "metadata": {},
     "output_type": "execute_result"
    }
   ],
   "source": [
    "# 결측치 확인\r\n",
    "matzip['Operating Time'].isna().sum()"
   ]
  },
  {
   "cell_type": "code",
   "execution_count": 57,
   "metadata": {},
   "outputs": [
    {
     "data": {
      "text/plain": [
       "11:00 - 22:00                            25\n",
       "11:30 - 22:00                            15\n",
       "11:30 - 21:30                            15\n",
       "00:00 - 24:00                            12\n",
       "11:00 - 21:00                            11\n",
       "                                         ..\n",
       "월-금: 08:00 - 21:00 토-일: 10:00 - 21:00     1\n",
       "화-금: 11:30 - 21:50 토-일: 17:30 - 21:20     1\n",
       "월-금: 13:00 - 01:00 토-일: 13:00 - 24:00     1\n",
       "12:00 - 21:00                             1\n",
       "19:00 - 03:00                             1\n",
       "Name: Operating Time, Length: 204, dtype: int64"
      ]
     },
     "execution_count": 57,
     "metadata": {},
     "output_type": "execute_result"
    }
   ],
   "source": [
    "# 저장되어 있는 값 확인\r\n",
    "matzip['Operating Time'].value_counts()"
   ]
  },
  {
   "cell_type": "code",
   "execution_count": 59,
   "metadata": {},
   "outputs": [
    {
     "data": {
      "text/plain": [
       "0"
      ]
     },
     "execution_count": 59,
     "metadata": {},
     "output_type": "execute_result"
    }
   ],
   "source": [
    "# 결측치를 00:00 - 24:00으로 채워준다\r\n",
    "matzip['Operating Time'].fillna('00:00 - 24::00', inplace = True)\r\n",
    "matzip['Operating Time'].isna().sum()"
   ]
  },
  {
   "cell_type": "code",
   "execution_count": 60,
   "metadata": {},
   "outputs": [
    {
     "data": {
      "text/plain": [
       "Restaurant Name    0\n",
       "Rating             0\n",
       "Address            0\n",
       "Tel                0\n",
       "Food               0\n",
       "Price              0\n",
       "Parking            0\n",
       "Operating Time     0\n",
       "Holiday            0\n",
       "dtype: int64"
      ]
     },
     "execution_count": 60,
     "metadata": {},
     "output_type": "execute_result"
    }
   ],
   "source": [
    "matzip.isna().sum()"
   ]
  },
  {
   "cell_type": "markdown",
   "metadata": {},
   "source": [
    "# 데이터 분석"
   ]
  },
  {
   "cell_type": "markdown",
   "metadata": {},
   "source": [
    "## 가격 분포 확인"
   ]
  },
  {
   "cell_type": "code",
   "execution_count": 63,
   "metadata": {},
   "outputs": [
    {
     "data": {
      "image/png": "[encoded data removed]",
      "text/plain": [
       "<Figure size 864x432 with 1 Axes>"
      ]
     },
     "metadata": {
      "needs_background": "light"
     },
     "output_type": "display_data"
    }
   ],
   "source": [
    "# 막대 그래프\r\n",
    "# 컬럼의 값의 종류가 적을 경우(카테고리형 데이터)\r\n",
    "# 컬럼에 저장되어 있는 값 종류별 양을 비교할 때\r\n",
    "a1 = matzip['Price'].value_counts()\r\n",
    "\r\n",
    "a1.plot.bar()\r\n",
    "plt.show()"
   ]
  },
  {
   "cell_type": "code",
   "execution_count": 64,
   "metadata": {},
   "outputs": [
    {
     "data": {
      "image/png": "[encoded data removed]",
      "text/plain": [
       "<Figure size 864x432 with 1 Axes>"
      ]
     },
     "metadata": {
      "needs_background": "light"
     },
     "output_type": "display_data"
    }
   ],
   "source": [
    "sns.countplot(x = 'Price', data = matzip)\r\n",
    "plt.show()"
   ]
  },
  {
   "cell_type": "code",
   "execution_count": 65,
   "metadata": {},
   "outputs": [
    {
     "data": {
      "image/png": "[encoded data removed]",
      "text/plain": [
       "<Figure size 864x432 with 1 Axes>"
      ]
     },
     "metadata": {
      "needs_background": "light"
     },
     "output_type": "display_data"
    }
   ],
   "source": [
    "# 히스토그램\r\n",
    "# 범위형 데이터의 분포를 보고자 할 때 사용한다\r\n",
    "# 최소와 최대안에서 주어진 그룹의 개수만큼 범위를 분할하여 각 범위 안에 해당하는 데이터의 개수를 시각화한다\r\n",
    "# 분포, 왜도, 첨도, 밀도 등 통계에서 많이 사용하는 그래프이다\r\n",
    "matzip['Price'].plot.hist()\r\n",
    "plt.show()"
   ]
  },
  {
   "cell_type": "markdown",
   "metadata": {},
   "source": [
    "### 10000, 20000원 대가 많고 30000, 40000원대는 적다"
   ]
  },
  {
   "cell_type": "markdown",
   "metadata": {},
   "source": [
    "## 주차 공간과 평점간의 관계"
   ]
  },
  {
   "cell_type": "code",
   "execution_count": 66,
   "metadata": {},
   "outputs": [
    {
     "ename": "TypeError",
     "evalue": "no numeric data to plot",
     "output_type": "error",
     "traceback": [
      "\u001b[1;31m---------------------------------------------------------------------------\u001b[0m",
      "\u001b[1;31mTypeError\u001b[0m                                 Traceback (most recent call last)",
      "\u001b[1;32m<ipython-input-66-9e731af519cc>\u001b[0m in \u001b[0;36m<module>\u001b[1;34m\u001b[0m\n\u001b[0;32m      1\u001b[0m \u001b[1;31m# 주차 공간의 분포를 확인한다\u001b[0m\u001b[1;33m\u001b[0m\u001b[1;33m\u001b[0m\u001b[1;33m\u001b[0m\u001b[0m\n\u001b[1;32m----> 2\u001b[1;33m \u001b[0mmatzip\u001b[0m\u001b[1;33m[\u001b[0m\u001b[1;34m'Parking'\u001b[0m\u001b[1;33m]\u001b[0m\u001b[1;33m.\u001b[0m\u001b[0mplot\u001b[0m\u001b[1;33m.\u001b[0m\u001b[0mhist\u001b[0m\u001b[1;33m(\u001b[0m\u001b[1;33m)\u001b[0m\u001b[1;33m\u001b[0m\u001b[1;33m\u001b[0m\u001b[0m\n\u001b[0m\u001b[0;32m      3\u001b[0m \u001b[0mplt\u001b[0m\u001b[1;33m.\u001b[0m\u001b[0mshow\u001b[0m\u001b[1;33m(\u001b[0m\u001b[1;33m)\u001b[0m\u001b[1;33m\u001b[0m\u001b[1;33m\u001b[0m\u001b[0m\n",
      "\u001b[1;32m~\\anaconda3\\lib\\site-packages\\pandas\\plotting\\_core.py\u001b[0m in \u001b[0;36mhist\u001b[1;34m(self, by, bins, **kwargs)\u001b[0m\n\u001b[0;32m   1288\u001b[0m             \u001b[1;33m>>\u001b[0m\u001b[1;33m>\u001b[0m \u001b[0max\u001b[0m \u001b[1;33m=\u001b[0m \u001b[0mdf\u001b[0m\u001b[1;33m.\u001b[0m\u001b[0mplot\u001b[0m\u001b[1;33m.\u001b[0m\u001b[0mhist\u001b[0m\u001b[1;33m(\u001b[0m\u001b[0mbins\u001b[0m\u001b[1;33m=\u001b[0m\u001b[1;36m12\u001b[0m\u001b[1;33m,\u001b[0m \u001b[0malpha\u001b[0m\u001b[1;33m=\u001b[0m\u001b[1;36m0.5\u001b[0m\u001b[1;33m)\u001b[0m\u001b[1;33m\u001b[0m\u001b[1;33m\u001b[0m\u001b[0m\n\u001b[0;32m   1289\u001b[0m         \"\"\"\n\u001b[1;32m-> 1290\u001b[1;33m         \u001b[1;32mreturn\u001b[0m \u001b[0mself\u001b[0m\u001b[1;33m(\u001b[0m\u001b[0mkind\u001b[0m\u001b[1;33m=\u001b[0m\u001b[1;34m\"hist\"\u001b[0m\u001b[1;33m,\u001b[0m \u001b[0mby\u001b[0m\u001b[1;33m=\u001b[0m\u001b[0mby\u001b[0m\u001b[1;33m,\u001b[0m \u001b[0mbins\u001b[0m\u001b[1;33m=\u001b[0m\u001b[0mbins\u001b[0m\u001b[1;33m,\u001b[0m \u001b[1;33m**\u001b[0m\u001b[0mkwargs\u001b[0m\u001b[1;33m)\u001b[0m\u001b[1;33m\u001b[0m\u001b[1;33m\u001b[0m\u001b[0m\n\u001b[0m\u001b[0;32m   1291\u001b[0m \u001b[1;33m\u001b[0m\u001b[0m\n\u001b[0;32m   1292\u001b[0m     \u001b[1;32mdef\u001b[0m \u001b[0mkde\u001b[0m\u001b[1;33m(\u001b[0m\u001b[0mself\u001b[0m\u001b[1;33m,\u001b[0m \u001b[0mbw_method\u001b[0m\u001b[1;33m=\u001b[0m\u001b[1;32mNone\u001b[0m\u001b[1;33m,\u001b[0m \u001b[0mind\u001b[0m\u001b[1;33m=\u001b[0m\u001b[1;32mNone\u001b[0m\u001b[1;33m,\u001b[0m \u001b[1;33m**\u001b[0m\u001b[0mkwargs\u001b[0m\u001b[1;33m)\u001b[0m\u001b[1;33m:\u001b[0m\u001b[1;33m\u001b[0m\u001b[1;33m\u001b[0m\u001b[0m\n",
      "\u001b[1;32m~\\anaconda3\\lib\\site-packages\\pandas\\plotting\\_core.py\u001b[0m in \u001b[0;36m__call__\u001b[1;34m(self, *args, **kwargs)\u001b[0m\n\u001b[0;32m    947\u001b[0m                     \u001b[0mdata\u001b[0m\u001b[1;33m.\u001b[0m\u001b[0mcolumns\u001b[0m \u001b[1;33m=\u001b[0m \u001b[0mlabel_name\u001b[0m\u001b[1;33m\u001b[0m\u001b[1;33m\u001b[0m\u001b[0m\n\u001b[0;32m    948\u001b[0m \u001b[1;33m\u001b[0m\u001b[0m\n\u001b[1;32m--> 949\u001b[1;33m         \u001b[1;32mreturn\u001b[0m \u001b[0mplot_backend\u001b[0m\u001b[1;33m.\u001b[0m\u001b[0mplot\u001b[0m\u001b[1;33m(\u001b[0m\u001b[0mdata\u001b[0m\u001b[1;33m,\u001b[0m \u001b[0mkind\u001b[0m\u001b[1;33m=\u001b[0m\u001b[0mkind\u001b[0m\u001b[1;33m,\u001b[0m \u001b[1;33m**\u001b[0m\u001b[0mkwargs\u001b[0m\u001b[1;33m)\u001b[0m\u001b[1;33m\u001b[0m\u001b[1;33m\u001b[0m\u001b[0m\n\u001b[0m\u001b[0;32m    950\u001b[0m \u001b[1;33m\u001b[0m\u001b[0m\n\u001b[0;32m    951\u001b[0m     \u001b[0m__call__\u001b[0m\u001b[1;33m.\u001b[0m\u001b[0m__doc__\u001b[0m \u001b[1;33m=\u001b[0m \u001b[0m__doc__\u001b[0m\u001b[1;33m\u001b[0m\u001b[1;33m\u001b[0m\u001b[0m\n",
      "\u001b[1;32m~\\anaconda3\\lib\\site-packages\\pandas\\plotting\\_matplotlib\\__init__.py\u001b[0m in \u001b[0;36mplot\u001b[1;34m(data, kind, **kwargs)\u001b[0m\n\u001b[0;32m     59\u001b[0m             \u001b[0mkwargs\u001b[0m\u001b[1;33m[\u001b[0m\u001b[1;34m\"ax\"\u001b[0m\u001b[1;33m]\u001b[0m \u001b[1;33m=\u001b[0m \u001b[0mgetattr\u001b[0m\u001b[1;33m(\u001b[0m\u001b[0max\u001b[0m\u001b[1;33m,\u001b[0m \u001b[1;34m\"left_ax\"\u001b[0m\u001b[1;33m,\u001b[0m \u001b[0max\u001b[0m\u001b[1;33m)\u001b[0m\u001b[1;33m\u001b[0m\u001b[1;33m\u001b[0m\u001b[0m\n\u001b[0;32m     60\u001b[0m     \u001b[0mplot_obj\u001b[0m \u001b[1;33m=\u001b[0m \u001b[0mPLOT_CLASSES\u001b[0m\u001b[1;33m[\u001b[0m\u001b[0mkind\u001b[0m\u001b[1;33m]\u001b[0m\u001b[1;33m(\u001b[0m\u001b[0mdata\u001b[0m\u001b[1;33m,\u001b[0m \u001b[1;33m**\u001b[0m\u001b[0mkwargs\u001b[0m\u001b[1;33m)\u001b[0m\u001b[1;33m\u001b[0m\u001b[1;33m\u001b[0m\u001b[0m\n\u001b[1;32m---> 61\u001b[1;33m     \u001b[0mplot_obj\u001b[0m\u001b[1;33m.\u001b[0m\u001b[0mgenerate\u001b[0m\u001b[1;33m(\u001b[0m\u001b[1;33m)\u001b[0m\u001b[1;33m\u001b[0m\u001b[1;33m\u001b[0m\u001b[0m\n\u001b[0m\u001b[0;32m     62\u001b[0m     \u001b[0mplot_obj\u001b[0m\u001b[1;33m.\u001b[0m\u001b[0mdraw\u001b[0m\u001b[1;33m(\u001b[0m\u001b[1;33m)\u001b[0m\u001b[1;33m\u001b[0m\u001b[1;33m\u001b[0m\u001b[0m\n\u001b[0;32m     63\u001b[0m     \u001b[1;32mreturn\u001b[0m \u001b[0mplot_obj\u001b[0m\u001b[1;33m.\u001b[0m\u001b[0mresult\u001b[0m\u001b[1;33m\u001b[0m\u001b[1;33m\u001b[0m\u001b[0m\n",
      "\u001b[1;32m~\\anaconda3\\lib\\site-packages\\pandas\\plotting\\_matplotlib\\core.py\u001b[0m in \u001b[0;36mgenerate\u001b[1;34m(self)\u001b[0m\n\u001b[0;32m    267\u001b[0m     \u001b[1;32mdef\u001b[0m \u001b[0mgenerate\u001b[0m\u001b[1;33m(\u001b[0m\u001b[0mself\u001b[0m\u001b[1;33m)\u001b[0m\u001b[1;33m:\u001b[0m\u001b[1;33m\u001b[0m\u001b[1;33m\u001b[0m\u001b[0m\n\u001b[0;32m    268\u001b[0m         \u001b[0mself\u001b[0m\u001b[1;33m.\u001b[0m\u001b[0m_args_adjust\u001b[0m\u001b[1;33m(\u001b[0m\u001b[1;33m)\u001b[0m\u001b[1;33m\u001b[0m\u001b[1;33m\u001b[0m\u001b[0m\n\u001b[1;32m--> 269\u001b[1;33m         \u001b[0mself\u001b[0m\u001b[1;33m.\u001b[0m\u001b[0m_compute_plot_data\u001b[0m\u001b[1;33m(\u001b[0m\u001b[1;33m)\u001b[0m\u001b[1;33m\u001b[0m\u001b[1;33m\u001b[0m\u001b[0m\n\u001b[0m\u001b[0;32m    270\u001b[0m         \u001b[0mself\u001b[0m\u001b[1;33m.\u001b[0m\u001b[0m_setup_subplots\u001b[0m\u001b[1;33m(\u001b[0m\u001b[1;33m)\u001b[0m\u001b[1;33m\u001b[0m\u001b[1;33m\u001b[0m\u001b[0m\n\u001b[0;32m    271\u001b[0m         \u001b[0mself\u001b[0m\u001b[1;33m.\u001b[0m\u001b[0m_make_plot\u001b[0m\u001b[1;33m(\u001b[0m\u001b[1;33m)\u001b[0m\u001b[1;33m\u001b[0m\u001b[1;33m\u001b[0m\u001b[0m\n",
      "\u001b[1;32m~\\anaconda3\\lib\\site-packages\\pandas\\plotting\\_matplotlib\\core.py\u001b[0m in \u001b[0;36m_compute_plot_data\u001b[1;34m(self)\u001b[0m\n\u001b[0;32m    416\u001b[0m         \u001b[1;31m# no non-numeric frames or series allowed\u001b[0m\u001b[1;33m\u001b[0m\u001b[1;33m\u001b[0m\u001b[1;33m\u001b[0m\u001b[0m\n\u001b[0;32m    417\u001b[0m         \u001b[1;32mif\u001b[0m \u001b[0mis_empty\u001b[0m\u001b[1;33m:\u001b[0m\u001b[1;33m\u001b[0m\u001b[1;33m\u001b[0m\u001b[0m\n\u001b[1;32m--> 418\u001b[1;33m             \u001b[1;32mraise\u001b[0m \u001b[0mTypeError\u001b[0m\u001b[1;33m(\u001b[0m\u001b[1;34m\"no numeric data to plot\"\u001b[0m\u001b[1;33m)\u001b[0m\u001b[1;33m\u001b[0m\u001b[1;33m\u001b[0m\u001b[0m\n\u001b[0m\u001b[0;32m    419\u001b[0m \u001b[1;33m\u001b[0m\u001b[0m\n\u001b[0;32m    420\u001b[0m         \u001b[1;31m# GH25587: cast ExtensionArray of pandas (IntegerArray, etc.) to\u001b[0m\u001b[1;33m\u001b[0m\u001b[1;33m\u001b[0m\u001b[1;33m\u001b[0m\u001b[0m\n",
      "\u001b[1;31mTypeError\u001b[0m: no numeric data to plot"
     ]
    }
   ],
   "source": [
    "# 주차 공간의 분포를 확인한다\r\n",
    "# 문자열 데이터를 가지고 범위를 잡아 그룹을 나누는 것 자체가 말이 되지 않기 때문에 오류가 발생한다\r\n",
    "matzip['Parking'].plot.hist()\r\n",
    "plt.show()"
   ]
  },
  {
   "cell_type": "code",
   "execution_count": 76,
   "metadata": {},
   "outputs": [
    {
     "data": {
      "image/png": "[encoded data removed]",
      "text/plain": [
       "<Figure size 864x432 with 1 Axes>"
      ]
     },
     "metadata": {
      "needs_background": "light"
     },
     "output_type": "display_data"
    }
   ],
   "source": [
    "# 막대 그래프로 확인한다\r\n",
    "\r\n",
    "# sns.countplot으로 출력해보니 x축 라벨이 겹친다\r\n",
    "# sns.countplot(x = 'Parking', data = matzip)\r\n",
    "\r\n",
    "# a1 = matzip['Parking'].value_counts()\r\n",
    "# a1.plot.bar()\r\n",
    "\r\n",
    "# 하지만... x축 라벨을 회전을 시켜본다면 ?!\r\n",
    "plt.xticks(rotation = 90)\r\n",
    "sns.countplot(x = 'Parking', data = matzip)\r\n",
    "\r\n",
    "\r\n",
    "plt.show()"
   ]
  },
  {
   "cell_type": "code",
   "execution_count": 79,
   "metadata": {},
   "outputs": [
    {
     "data": {
      "text/plain": [
       "Index(['주차공간없음', '유료주차 가능', '무료주차 가능', '발렛', '유료주차 가능 2시간 무료',\n",
       "       '무료주차 가능 2시간 무료', '유료주차 가능 1시간 무료', '유료주차 가능 주차권 2시간 제공',\n",
       "       '유료주차 가능 1.5시간 무료', '무료주차 가능 당일 무료'],\n",
       "      dtype='object')"
      ]
     },
     "execution_count": 79,
     "metadata": {},
     "output_type": "execute_result"
    }
   ],
   "source": [
    "# Parking에 저장되어 있는 값의 목록을 출력한다.\r\n",
    "a1 = matzip['Parking'].value_counts().index\r\n",
    "a1"
   ]
  },
  {
   "cell_type": "code",
   "execution_count": 80,
   "metadata": {},
   "outputs": [
    {
     "data": {
      "text/html": [
       "<div>\n",
       "<style scoped>\n",
       "    .dataframe tbody tr th:only-of-type {\n",
       "        vertical-align: middle;\n",
       "    }\n",
       "\n",
       "    .dataframe tbody tr th {\n",
       "        vertical-align: top;\n",
       "    }\n",
       "\n",
       "    .dataframe thead th {\n",
       "        text-align: right;\n",
       "    }\n",
       "</style>\n",
       "<table border=\"1\" class=\"dataframe\">\n",
       "  <thead>\n",
       "    <tr style=\"text-align: right;\">\n",
       "      <th></th>\n",
       "      <th>Restaurant Name</th>\n",
       "      <th>Rating</th>\n",
       "      <th>Address</th>\n",
       "      <th>Tel</th>\n",
       "      <th>Food</th>\n",
       "      <th>Price</th>\n",
       "      <th>Parking</th>\n",
       "      <th>Operating Time</th>\n",
       "      <th>Holiday</th>\n",
       "    </tr>\n",
       "  </thead>\n",
       "  <tbody>\n",
       "    <tr>\n",
       "      <th>0</th>\n",
       "      <td>이나니와요스케</td>\n",
       "      <td>4.4</td>\n",
       "      <td>서울시 중구 을지로1가 192-11</td>\n",
       "      <td>02-772-9994</td>\n",
       "      <td>라멘 / 소바 / 우동</td>\n",
       "      <td>20000</td>\n",
       "      <td>주차공간없음</td>\n",
       "      <td>11:00 - 23:00</td>\n",
       "      <td>일</td>\n",
       "    </tr>\n",
       "    <tr>\n",
       "      <th>1</th>\n",
       "      <td>바오차이</td>\n",
       "      <td>4.4</td>\n",
       "      <td>서울시 중구 을지로2가 203</td>\n",
       "      <td>02-6031-0107</td>\n",
       "      <td>정통 중식 / 일반 중식</td>\n",
       "      <td>30000</td>\n",
       "      <td>유료주차 가능</td>\n",
       "      <td>11:30 - 21:30</td>\n",
       "      <td>연중무휴</td>\n",
       "    </tr>\n",
       "    <tr>\n",
       "      <th>2</th>\n",
       "      <td>라칸티나</td>\n",
       "      <td>4.4</td>\n",
       "      <td>서울시 중구 을지로1가 50</td>\n",
       "      <td>02-777-2579</td>\n",
       "      <td>이탈리안</td>\n",
       "      <td>40000</td>\n",
       "      <td>주차공간없음</td>\n",
       "      <td>월-토: 11:30 - 23:00 일: 17:30 - 23:00</td>\n",
       "      <td>연중무휴</td>\n",
       "    </tr>\n",
       "    <tr>\n",
       "      <th>3</th>\n",
       "      <td>라세느</td>\n",
       "      <td>4.3</td>\n",
       "      <td>서울시 중구 소공동 1</td>\n",
       "      <td>02-317-7171</td>\n",
       "      <td>뷔페</td>\n",
       "      <td>40000</td>\n",
       "      <td>발렛</td>\n",
       "      <td>06:00 - 22:00</td>\n",
       "      <td>연중무휴</td>\n",
       "    </tr>\n",
       "    <tr>\n",
       "      <th>4</th>\n",
       "      <td>산수갑산</td>\n",
       "      <td>4.3</td>\n",
       "      <td>서울시 중구 인현동1가 15-4</td>\n",
       "      <td>02-2275-6654</td>\n",
       "      <td>탕 / 찌개 / 전골</td>\n",
       "      <td>10000</td>\n",
       "      <td>유료주차 가능</td>\n",
       "      <td>월-금: 11:30 - 22:00 토: 11:30 - 20:00</td>\n",
       "      <td>일</td>\n",
       "    </tr>\n",
       "    <tr>\n",
       "      <th>...</th>\n",
       "      <td>...</td>\n",
       "      <td>...</td>\n",
       "      <td>...</td>\n",
       "      <td>...</td>\n",
       "      <td>...</td>\n",
       "      <td>...</td>\n",
       "      <td>...</td>\n",
       "      <td>...</td>\n",
       "      <td>...</td>\n",
       "    </tr>\n",
       "    <tr>\n",
       "      <th>395</th>\n",
       "      <td>누룩나무</td>\n",
       "      <td>4.0</td>\n",
       "      <td>서울시 종로구 관훈동 118-19</td>\n",
       "      <td>02-722-3398</td>\n",
       "      <td>전통 주점 / 포차</td>\n",
       "      <td>20000</td>\n",
       "      <td>주차공간없음</td>\n",
       "      <td>17:00 - 01:30</td>\n",
       "      <td>일</td>\n",
       "    </tr>\n",
       "    <tr>\n",
       "      <th>396</th>\n",
       "      <td>옴</td>\n",
       "      <td>4.0</td>\n",
       "      <td>서울시 종로구 신문로1가 2</td>\n",
       "      <td>02-723-4848</td>\n",
       "      <td>인도 음식</td>\n",
       "      <td>20000</td>\n",
       "      <td>주차공간없음</td>\n",
       "      <td>11:00 - 22:00</td>\n",
       "      <td>연중무휴</td>\n",
       "    </tr>\n",
       "    <tr>\n",
       "      <th>397</th>\n",
       "      <td>코블러</td>\n",
       "      <td>4.0</td>\n",
       "      <td>서울시 종로구 내자동 157</td>\n",
       "      <td>02-733-6421</td>\n",
       "      <td>칵테일 / 와인</td>\n",
       "      <td>20000</td>\n",
       "      <td>유료주차 가능</td>\n",
       "      <td>19:00 - 03:00</td>\n",
       "      <td>일</td>\n",
       "    </tr>\n",
       "    <tr>\n",
       "      <th>398</th>\n",
       "      <td>클류치</td>\n",
       "      <td>4.0</td>\n",
       "      <td>서울시 종로구 명륜3가 79-1</td>\n",
       "      <td>010-2702-1496</td>\n",
       "      <td>카페 / 디저트</td>\n",
       "      <td>10000</td>\n",
       "      <td>주차공간없음</td>\n",
       "      <td>월-토: 10:00 - 23:00 일: 11:00 - 20:00</td>\n",
       "      <td>연중무휴</td>\n",
       "    </tr>\n",
       "    <tr>\n",
       "      <th>399</th>\n",
       "      <td>도토리</td>\n",
       "      <td>4.0</td>\n",
       "      <td>서울시 종로구 안국동 24-1</td>\n",
       "      <td>02-6405-8153</td>\n",
       "      <td>기타 한식</td>\n",
       "      <td>10000</td>\n",
       "      <td>유료주차 가능</td>\n",
       "      <td>월-금: 10:30 - 21:00 토-일: 10:30 - 22:00</td>\n",
       "      <td>연중무휴</td>\n",
       "    </tr>\n",
       "  </tbody>\n",
       "</table>\n",
       "<p>245 rows × 9 columns</p>\n",
       "</div>"
      ],
      "text/plain": [
       "    Restaurant Name  Rating              Address            Tel  \\\n",
       "0           이나니와요스케     4.4  서울시 중구 을지로1가 192-11    02-772-9994   \n",
       "1              바오차이     4.4     서울시 중구 을지로2가 203   02-6031-0107   \n",
       "2              라칸티나     4.4      서울시 중구 을지로1가 50    02-777-2579   \n",
       "3               라세느     4.3         서울시 중구 소공동 1    02-317-7171   \n",
       "4              산수갑산     4.3    서울시 중구 인현동1가 15-4   02-2275-6654   \n",
       "..              ...     ...                  ...            ...   \n",
       "395            누룩나무     4.0   서울시 종로구 관훈동 118-19    02-722-3398   \n",
       "396               옴     4.0      서울시 종로구 신문로1가 2    02-723-4848   \n",
       "397             코블러     4.0      서울시 종로구 내자동 157    02-733-6421   \n",
       "398             클류치     4.0    서울시 종로구 명륜3가 79-1  010-2702-1496   \n",
       "399             도토리     4.0     서울시 종로구 안국동 24-1   02-6405-8153   \n",
       "\n",
       "              Food  Price  Parking                         Operating Time  \\\n",
       "0     라멘 / 소바 / 우동  20000   주차공간없음                          11:00 - 23:00   \n",
       "1    정통 중식 / 일반 중식  30000  유료주차 가능                          11:30 - 21:30   \n",
       "2             이탈리안  40000   주차공간없음    월-토: 11:30 - 23:00 일: 17:30 - 23:00   \n",
       "3               뷔페  40000       발렛                          06:00 - 22:00   \n",
       "4      탕 / 찌개 / 전골  10000  유료주차 가능    월-금: 11:30 - 22:00 토: 11:30 - 20:00   \n",
       "..             ...    ...      ...                                    ...   \n",
       "395     전통 주점 / 포차  20000   주차공간없음                          17:00 - 01:30   \n",
       "396          인도 음식  20000   주차공간없음                          11:00 - 22:00   \n",
       "397       칵테일 / 와인  20000  유료주차 가능                          19:00 - 03:00   \n",
       "398       카페 / 디저트  10000   주차공간없음    월-토: 10:00 - 23:00 일: 11:00 - 20:00   \n",
       "399          기타 한식  10000  유료주차 가능  월-금: 10:30 - 21:00 토-일: 10:30 - 22:00   \n",
       "\n",
       "    Holiday  \n",
       "0         일  \n",
       "1      연중무휴  \n",
       "2      연중무휴  \n",
       "3      연중무휴  \n",
       "4         일  \n",
       "..      ...  \n",
       "395       일  \n",
       "396    연중무휴  \n",
       "397       일  \n",
       "398    연중무휴  \n",
       "399    연중무휴  \n",
       "\n",
       "[245 rows x 9 columns]"
      ]
     },
     "execution_count": 80,
     "metadata": {},
     "output_type": "execute_result"
    }
   ],
   "source": [
    "# 평점이 0.0인 것은 제거한다.\r\n",
    "idx2 = matzip.query('Rating == 0.0').index\r\n",
    "matzip_temp = matzip.drop(idx2)\r\n",
    "matzip_temp"
   ]
  },
  {
   "cell_type": "code",
   "execution_count": 87,
   "metadata": {},
   "outputs": [
    {
     "name": "stdout",
     "output_type": "stream",
     "text": [
      "주차공간없음 : 4.106000000000003\n"
     ]
    },
    {
     "data": {
      "image/png": "[encoded data removed]",
      "text/plain": [
       "<Figure size 864x432 with 1 Axes>"
      ]
     },
     "metadata": {
      "needs_background": "light"
     },
     "output_type": "display_data"
    },
    {
     "name": "stdout",
     "output_type": "stream",
     "text": [
      "유료주차 가능 : 4.090163934426228\n"
     ]
    },
    {
     "data": {
      "image/png": "[encoded data removed]",
      "text/plain": [
       "<Figure size 864x432 with 1 Axes>"
      ]
     },
     "metadata": {
      "needs_background": "light"
     },
     "output_type": "display_data"
    },
    {
     "name": "stdout",
     "output_type": "stream",
     "text": [
      "무료주차 가능 : 4.173684210526316\n"
     ]
    },
    {
     "data": {
      "image/png": "[encoded data removed]",
      "text/plain": [
       "<Figure size 864x432 with 1 Axes>"
      ]
     },
     "metadata": {
      "needs_background": "light"
     },
     "output_type": "display_data"
    },
    {
     "name": "stdout",
     "output_type": "stream",
     "text": [
      "발렛 : 4.1875\n"
     ]
    },
    {
     "data": {
      "image/png": "[encoded data removed]",
      "text/plain": [
       "<Figure size 864x432 with 1 Axes>"
      ]
     },
     "metadata": {
      "needs_background": "light"
     },
     "output_type": "display_data"
    },
    {
     "name": "stdout",
     "output_type": "stream",
     "text": [
      "유료주차 가능 2시간 무료 : 4.066666666666666\n"
     ]
    },
    {
     "data": {
      "image/png": "[encoded data removed]",
      "text/plain": [
       "<Figure size 864x432 with 1 Axes>"
      ]
     },
     "metadata": {
      "needs_background": "light"
     },
     "output_type": "display_data"
    },
    {
     "name": "stdout",
     "output_type": "stream",
     "text": [
      "무료주차 가능 2시간 무료 : 4.7\n"
     ]
    },
    {
     "data": {
      "image/png": "[encoded data removed]",
      "text/plain": [
       "<Figure size 864x432 with 1 Axes>"
      ]
     },
     "metadata": {
      "needs_background": "light"
     },
     "output_type": "display_data"
    },
    {
     "name": "stdout",
     "output_type": "stream",
     "text": [
      "유료주차 가능 1시간 무료 : 4.4\n"
     ]
    },
    {
     "data": {
      "image/png": "[encoded data removed]",
      "text/plain": [
       "<Figure size 864x432 with 1 Axes>"
      ]
     },
     "metadata": {
      "needs_background": "light"
     },
     "output_type": "display_data"
    },
    {
     "name": "stdout",
     "output_type": "stream",
     "text": [
      "유료주차 가능 주차권 2시간 제공 : 4.1\n"
     ]
    },
    {
     "data": {
      "image/png": "[encoded data removed]",
      "text/plain": [
       "<Figure size 864x432 with 1 Axes>"
      ]
     },
     "metadata": {
      "needs_background": "light"
     },
     "output_type": "display_data"
    },
    {
     "name": "stdout",
     "output_type": "stream",
     "text": [
      "유료주차 가능 1.5시간 무료 : 4.4\n"
     ]
    },
    {
     "data": {
      "image/png": "[encoded data removed]",
      "text/plain": [
       "<Figure size 864x432 with 1 Axes>"
      ]
     },
     "metadata": {
      "needs_background": "light"
     },
     "output_type": "display_data"
    },
    {
     "name": "stdout",
     "output_type": "stream",
     "text": [
      "무료주차 가능 당일 무료 : nan\n"
     ]
    },
    {
     "data": {
      "image/png": "[encoded data removed]",
      "text/plain": [
       "<Figure size 864x432 with 1 Axes>"
      ]
     },
     "metadata": {
      "needs_background": "light"
     },
     "output_type": "display_data"
    }
   ],
   "source": [
    "# Parking에 저장되어 있는 값 만큼 반복한다\r\n",
    "for value in a1 :\r\n",
    "    # print(value)\r\n",
    "    # 각 값에 해당하는 로우의 인덱스를 가져온다\r\n",
    "    idx = matzip_temp.query(f'Parking == @value').index\r\n",
    "    # display(idx)\r\n",
    "\r\n",
    "    # idx에 해당하는 데이터들 중 평점을 가져온다\r\n",
    "    rating = matzip_temp.loc[idx, 'Rating']\r\n",
    "    # display(rating)\r\n",
    "\r\n",
    "    # 평점 평균을 구한다\r\n",
    "    rating_mean = rating.mean()\r\n",
    "    print(f'{value} : {rating_mean}')\r\n",
    "\r\n",
    "    # 평점 분포를 확인한다\r\n",
    "    rating.plot.hist()\r\n",
    "    plt.xlim(0, 5)\r\n",
    "    plt.show()"
   ]
  }
 ],
 "metadata": {
  "interpreter": {
   "hash": "3daa3430744053f4748a69c6948da8999f75f0c797f8ffecf263e95f10f995f6"
  },
  "kernelspec": {
   "display_name": "Python 3.8.5 64-bit ('base': conda)",
   "name": "python3"
  },
  "language_info": {
   "codemirror_mode": {
    "name": "ipython",
    "version": 3
   },
   "file_extension": ".py",
   "mimetype": "text/x-python",
   "name": "python",
   "nbconvert_exporter": "python",
   "pygments_lexer": "ipython3",
   "version": "3.8.5"
  },
  "orig_nbformat": 4
 },
 "nbformat": 4,
 "nbformat_minor": 2
}