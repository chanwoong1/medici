{
 "metadata": {
  "language_info": {
   "codemirror_mode": {
    "name": "ipython",
    "version": 3
   },
   "file_extension": ".py",
   "mimetype": "text/x-python",
   "name": "python",
   "nbconvert_exporter": "python",
   "pygments_lexer": "ipython3",
   "version": "3.8.5"
  },
  "orig_nbformat": 4,
  "kernelspec": {
   "name": "python3",
   "display_name": "Python 3.8.5 64-bit ('base': conda)"
  },
  "interpreter": {
   "hash": "3daa3430744053f4748a69c6948da8999f75f0c797f8ffecf263e95f10f995f6"
  }
 },
 "nbformat": 4,
 "nbformat_minor": 2,
 "cells": [
  {
   "source": [
    "### 변수\n",
    "- 값 하나를 저장하고 저장된 값을 가져다 사용할 수 있도록 제공되는 요소\n"
   ],
   "cell_type": "markdown",
   "metadata": {}
  },
  {
   "cell_type": "code",
   "execution_count": 5,
   "metadata": {},
   "outputs": [
    {
     "output_type": "stream",
     "name": "stdout",
     "text": [
      "100\n11.11\nTrue\n문자열\n(10+3j)\n1000000000\n"
     ]
    }
   ],
   "source": [
    "a1 = 100\n",
    "a2 = 11.11\n",
    "a3 = True\n",
    "a4 = '문자열'\n",
    "a5 = 10 + 3j\n",
    "a6 = 1_000_000_000\n",
    "\n",
    "print(a1)\n",
    "print(a2)\n",
    "print(a3)\n",
    "print(a4)\n",
    "print(a5)\n",
    "print(a6)"
   ]
  },
  {
   "source": [
    "### 튜플\n",
    "- 인덱스 번호(0 부터 시작)을 통해 데이터를 관리한다.\n",
    "- 읽기 전용\n",
    "- 리스트에 비해 속도가 빠르고 메모리 사용량이 적다.\n"
   ],
   "cell_type": "markdown",
   "metadata": {}
  },
  {
   "cell_type": "code",
   "execution_count": 4,
   "metadata": {},
   "outputs": [
    {
     "output_type": "stream",
     "name": "stdout",
     "text": [
      "()\n()\n(10, 20, 30, 40, 50)\n(10, 20, 30, 40, 50)\n"
     ]
    }
   ],
   "source": [
    "# 튜플 생성\n",
    "t1 = tuple()\n",
    "t2 = ()\n",
    "t3 = (10, 20, 30, 40, 50)\n",
    "t4 = 10, 20, 30, 40, 50\n",
    "print(t1)\n",
    "print(t2)\n",
    "print(t3)\n",
    "print(t4)"
   ]
  },
  {
   "cell_type": "code",
   "execution_count": 7,
   "metadata": {},
   "outputs": [
    {
     "output_type": "stream",
     "name": "stdout",
     "text": [
      "10\n20\n30\n40\n50\n(10, 20, 30, 40, 50)\n"
     ]
    }
   ],
   "source": [
    "# 언패킹\n",
    "# 튜플이나 리스트가 가지고 있는 값의 수 만큼 변수를 작성해주면\n",
    "# 1 : 1 대응되서 값이 들어간다.\n",
    "a1, a2, a3, a4, a5 = t4\n",
    "print(a1)\n",
    "print(a2)\n",
    "print(a3)\n",
    "print(a4)\n",
    "print(a5)\n",
    "\n",
    "print(t4)"
   ]
  },
  {
   "cell_type": "code",
   "execution_count": 10,
   "metadata": {},
   "outputs": [],
   "source": [
    "def test1(a1, a2) :\n",
    "    r1 = a1 + a2\n",
    "    r2 = a1 * a2\n",
    "    r3 = a1 - a2\n",
    "    r4 = a1 // a2\n",
    "\n",
    "    return r1, r2, r3, r4"
   ]
  },
  {
   "cell_type": "code",
   "execution_count": 11,
   "metadata": {},
   "outputs": [
    {
     "output_type": "stream",
     "name": "stdout",
     "text": [
      "13\n30\n7\n3\n"
     ]
    }
   ],
   "source": [
    "v1, v2, v3, v4 = test1(10, 3)\n",
    "print(v1)\n",
    "print(v2)\n",
    "print(v3)\n",
    "print(v4)"
   ]
  },
  {
   "cell_type": "code",
   "execution_count": 12,
   "metadata": {},
   "outputs": [],
   "source": [
    "t1 = 10, 20, 30, 40, 50, 60, 70, 80, 90, 100"
   ]
  },
  {
   "cell_type": "code",
   "execution_count": 13,
   "metadata": {},
   "outputs": [
    {
     "output_type": "stream",
     "name": "stdout",
     "text": [
      "10\n20\n100\n90\n"
     ]
    }
   ],
   "source": [
    "# 인덱싱, 원하는 데이터 하나를 가져오는 것\n",
    "# 0부터 1씩 증가하는 인덱스를 사용한다.\n",
    "print(t1[0])\n",
    "print(t1[1])\n",
    "print(t1[-1])\n",
    "print(t1[-2])"
   ]
  },
  {
   "cell_type": "code",
   "execution_count": 17,
   "metadata": {},
   "outputs": [
    {
     "output_type": "stream",
     "name": "stdout",
     "text": [
      "(30, 40, 50)\n"
     ]
    }
   ],
   "source": [
    "# 슬라이싱. 원하는 범위의 해당하는 값을 추출하여 새로운 요소를 생성해서 반환한다.\n",
    "# 2 ~ 5 -1\n",
    "print(t1[2 : 5])"
   ]
  },
  {
   "source": [
    "### 리스트\n",
    "- 기본적으로는 튜플과 동일하다.\n",
    "- 추가, 수정, 삭제 등이 가능하다."
   ],
   "cell_type": "markdown",
   "metadata": {}
  },
  {
   "cell_type": "code",
   "execution_count": 18,
   "metadata": {},
   "outputs": [],
   "source": [
    "list1 = [10, 20, 30, 40, 50]"
   ]
  },
  {
   "cell_type": "code",
   "execution_count": 19,
   "metadata": {},
   "outputs": [
    {
     "output_type": "stream",
     "name": "stdout",
     "text": [
      "[10, 20, 30, 40, 50]\n[10, 20, 30, 40, 50, 60, 70]\n"
     ]
    }
   ],
   "source": [
    "# 추가\n",
    "print(list1)\n",
    "\n",
    "list1.append(60)\n",
    "list1.append(70)\n",
    "\n",
    "print(list1)"
   ]
  },
  {
   "cell_type": "code",
   "execution_count": 20,
   "metadata": {},
   "outputs": [
    {
     "output_type": "stream",
     "name": "stdout",
     "text": [
      "[10, 20, 30, 40, 50, 60, 70]\n[10, 20, 30, 40, 50, 60, 70, 80, 90, 100]\n"
     ]
    }
   ],
   "source": [
    "# 다수의 값을 동시에 추가하기\n",
    "print(list1)\n",
    "\n",
    "list1.extend([80,90,100])\n",
    "print(list1)"
   ]
  },
  {
   "cell_type": "code",
   "execution_count": 24,
   "metadata": {},
   "outputs": [
    {
     "output_type": "stream",
     "name": "stdout",
     "text": [
      "[10, 20, 30, 40, 50, 60, 70, 80, 90, 100]\n[10, 20, 30, 40, 41, 50, 60, 70, 80, 90, 100]\n"
     ]
    }
   ],
   "source": [
    "# 삽입\n",
    "print(list1)\n",
    "\n",
    "list1.insert(4, 41)\n",
    "\n",
    "print(list1)"
   ]
  },
  {
   "cell_type": "code",
   "execution_count": 25,
   "metadata": {},
   "outputs": [
    {
     "output_type": "stream",
     "name": "stdout",
     "text": [
      "[10, 20, 30, 40, 41, 50, 60, 70, 80, 90, 100]\n[10, 20, 30, 40, 50, 60, 70, 80, 90, 100]\n"
     ]
    }
   ],
   "source": [
    "# 삭제, 인덱스를 통한 삭제\n",
    "print(list1)\n",
    "del list1[4]\n",
    "\n",
    "print(list1)"
   ]
  },
  {
   "cell_type": "code",
   "execution_count": 27,
   "metadata": {},
   "outputs": [
    {
     "output_type": "stream",
     "name": "stdout",
     "text": [
      "[10, 20, 30, 40, 50, 60, 70, 80, 90, 100]\n[10, 20, 30, 40, 50, 60, 80, 90, 100]\n"
     ]
    }
   ],
   "source": [
    "# 삭제. 값을 통한 삭제\n",
    "# 동일한 값이 있을 경우에는 제일 왼쪽 값을 삭제\n",
    "print(list1)\n",
    "list1.remove(70)\n",
    "print(list1)"
   ]
  },
  {
   "source": [
    "### 딕셔너리\n",
    "- 데이터를 이름을 가지고 관리한다.\n",
    "- 추가, 수정, 삭제 등이 가능하다."
   ],
   "cell_type": "markdown",
   "metadata": {}
  },
  {
   "cell_type": "code",
   "execution_count": 28,
   "metadata": {},
   "outputs": [],
   "source": [
    "d1 = {\n",
    "    'a1' : 100,\n",
    "    'a2' : 200,\n",
    "    10 : '안녕하세요'\n",
    "}"
   ]
  },
  {
   "cell_type": "code",
   "execution_count": 29,
   "metadata": {},
   "outputs": [
    {
     "output_type": "stream",
     "name": "stdout",
     "text": [
      "100\n200\n안녕하세요\n"
     ]
    }
   ],
   "source": [
    "print(d1['a1'])\n",
    "print(d1['a2'])\n",
    "print(d1[10])"
   ]
  }
 ]
}