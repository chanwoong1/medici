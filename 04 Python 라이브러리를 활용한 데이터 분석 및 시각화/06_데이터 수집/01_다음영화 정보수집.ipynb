{
 "cells": [
  {
   "cell_type": "code",
   "execution_count": 35,
   "metadata": {},
   "outputs": [],
   "source": [
    "from selenium import webdriver\r\n",
    "import requests\r\n",
    "import time\r\n",
    "import pandas as pd\r\n",
    "from IPython.display import clear_output"
   ]
  },
  {
   "cell_type": "code",
   "execution_count": 36,
   "metadata": {},
   "outputs": [],
   "source": [
    "# 웹드라이브 실행\r\n",
    "driver = webdriver.Chrome('chromedriver')"
   ]
  },
  {
   "cell_type": "code",
   "execution_count": 37,
   "metadata": {},
   "outputs": [],
   "source": [
    "# 다음 영화 사이트를 들어간다.\r\n",
    "site = 'https://movie.daum.net/premovie/theater'\r\n",
    "time.sleep(1)\r\n",
    "driver.get(site)"
   ]
  },
  {
   "cell_type": "code",
   "execution_count": 38,
   "metadata": {},
   "outputs": [],
   "source": [
    "# 스크롤 한다\r\n",
    "for idx in range(10) :\r\n",
    "    time.sleep(2)\r\n",
    "    script = 'window.scrollTo(0, document.body.scrollHeight)'\r\n",
    "    driver.execute_script(script)"
   ]
  },
  {
   "cell_type": "code",
   "execution_count": 39,
   "metadata": {},
   "outputs": [
    {
     "data": {
      "text/plain": [
       "<selenium.webdriver.remote.webelement.WebElement (session=\"4c7e223201c2f39204e0e676bddcaf99\", element=\"4609f4d5-215e-4a19-83e6-a58fb6b27f6a\")>"
      ]
     },
     "execution_count": 39,
     "metadata": {},
     "output_type": "execute_result"
    }
   ],
   "source": [
    "# 영화 전체 목록을 가져온다.\r\n",
    "a1 = driver.find_element_by_css_selector('#mainContent > div > div.box_movie > ol')\r\n",
    "a1"
   ]
  },
  {
   "cell_type": "code",
   "execution_count": 40,
   "metadata": {},
   "outputs": [
    {
     "data": {
      "text/plain": [
       "[<selenium.webdriver.remote.webelement.WebElement (session=\"4c7e223201c2f39204e0e676bddcaf99\", element=\"40b6babb-4105-47fd-a293-6de8266d1ad2\")>,\n",
       " <selenium.webdriver.remote.webelement.WebElement (session=\"4c7e223201c2f39204e0e676bddcaf99\", element=\"720c67af-e4c2-41ed-a60b-f54ffb8c3944\")>,\n",
       " <selenium.webdriver.remote.webelement.WebElement (session=\"4c7e223201c2f39204e0e676bddcaf99\", element=\"1f9759c9-8837-40e4-9dbf-70d1cde086e7\")>,\n",
       " <selenium.webdriver.remote.webelement.WebElement (session=\"4c7e223201c2f39204e0e676bddcaf99\", element=\"2692fb75-4550-44af-b25e-2e2c9b8f8a71\")>,\n",
       " <selenium.webdriver.remote.webelement.WebElement (session=\"4c7e223201c2f39204e0e676bddcaf99\", element=\"bfe9e1da-0ce9-4048-9fb2-4a21140e99ea\")>,\n",
       " <selenium.webdriver.remote.webelement.WebElement (session=\"4c7e223201c2f39204e0e676bddcaf99\", element=\"a9302f76-8d5b-4579-83e4-73746a947364\")>,\n",
       " <selenium.webdriver.remote.webelement.WebElement (session=\"4c7e223201c2f39204e0e676bddcaf99\", element=\"3fb60cdf-1825-45f0-8535-d67a67cd3cd2\")>,\n",
       " <selenium.webdriver.remote.webelement.WebElement (session=\"4c7e223201c2f39204e0e676bddcaf99\", element=\"b1a532d3-8336-4efa-8ce7-68d236408ba8\")>,\n",
       " <selenium.webdriver.remote.webelement.WebElement (session=\"4c7e223201c2f39204e0e676bddcaf99\", element=\"b86de35d-4bf0-4edc-a4f3-9f5c3fdbb4d8\")>,\n",
       " <selenium.webdriver.remote.webelement.WebElement (session=\"4c7e223201c2f39204e0e676bddcaf99\", element=\"58681854-1f7a-4b05-b6b6-c975b3a6f888\")>,\n",
       " <selenium.webdriver.remote.webelement.WebElement (session=\"4c7e223201c2f39204e0e676bddcaf99\", element=\"10edc51a-a23e-4ee6-b0cd-7087a21c8e4f\")>,\n",
       " <selenium.webdriver.remote.webelement.WebElement (session=\"4c7e223201c2f39204e0e676bddcaf99\", element=\"df63f9ec-688b-47be-960e-e3da6d4a200a\")>,\n",
       " <selenium.webdriver.remote.webelement.WebElement (session=\"4c7e223201c2f39204e0e676bddcaf99\", element=\"d0fd68b8-5417-46c6-80af-1e4d62821001\")>,\n",
       " <selenium.webdriver.remote.webelement.WebElement (session=\"4c7e223201c2f39204e0e676bddcaf99\", element=\"0cdf67ff-6447-4860-b832-208749e01c2d\")>,\n",
       " <selenium.webdriver.remote.webelement.WebElement (session=\"4c7e223201c2f39204e0e676bddcaf99\", element=\"7b638414-b0d7-4659-a7a3-4981ab00b3e5\")>,\n",
       " <selenium.webdriver.remote.webelement.WebElement (session=\"4c7e223201c2f39204e0e676bddcaf99\", element=\"92a66141-bd6c-4169-829a-25e361c8b331\")>,\n",
       " <selenium.webdriver.remote.webelement.WebElement (session=\"4c7e223201c2f39204e0e676bddcaf99\", element=\"de00d5e7-1d15-4c15-9f54-6eaad2a31207\")>,\n",
       " <selenium.webdriver.remote.webelement.WebElement (session=\"4c7e223201c2f39204e0e676bddcaf99\", element=\"c324063a-d8a0-47ab-bc12-83a085b0e179\")>,\n",
       " <selenium.webdriver.remote.webelement.WebElement (session=\"4c7e223201c2f39204e0e676bddcaf99\", element=\"23586610-3598-406a-a0d9-17c213e981d9\")>,\n",
       " <selenium.webdriver.remote.webelement.WebElement (session=\"4c7e223201c2f39204e0e676bddcaf99\", element=\"4dd170b6-9c75-4918-b563-776547413e0f\")>,\n",
       " <selenium.webdriver.remote.webelement.WebElement (session=\"4c7e223201c2f39204e0e676bddcaf99\", element=\"3cbc6a6b-d8fc-45a6-ae56-38852fea7760\")>,\n",
       " <selenium.webdriver.remote.webelement.WebElement (session=\"4c7e223201c2f39204e0e676bddcaf99\", element=\"7dfa2d98-5fd0-497c-800b-6fe9a147521b\")>,\n",
       " <selenium.webdriver.remote.webelement.WebElement (session=\"4c7e223201c2f39204e0e676bddcaf99\", element=\"7109b109-e500-4895-a6dd-1e68910ae85d\")>,\n",
       " <selenium.webdriver.remote.webelement.WebElement (session=\"4c7e223201c2f39204e0e676bddcaf99\", element=\"4305a640-a88e-44d1-879f-18ed5ebbcbf6\")>,\n",
       " <selenium.webdriver.remote.webelement.WebElement (session=\"4c7e223201c2f39204e0e676bddcaf99\", element=\"08494724-dab4-45ab-8765-c300657d9baa\")>,\n",
       " <selenium.webdriver.remote.webelement.WebElement (session=\"4c7e223201c2f39204e0e676bddcaf99\", element=\"e1da99e3-2e20-48a7-a5a7-5975b37acab3\")>,\n",
       " <selenium.webdriver.remote.webelement.WebElement (session=\"4c7e223201c2f39204e0e676bddcaf99\", element=\"1abb946b-eb30-403c-b7f4-5b9305eb12a0\")>,\n",
       " <selenium.webdriver.remote.webelement.WebElement (session=\"4c7e223201c2f39204e0e676bddcaf99\", element=\"02f84518-edc0-4a7e-b3f8-75a86ac0e686\")>,\n",
       " <selenium.webdriver.remote.webelement.WebElement (session=\"4c7e223201c2f39204e0e676bddcaf99\", element=\"8de842f7-caf6-4a02-8f17-f434c54aa1b6\")>,\n",
       " <selenium.webdriver.remote.webelement.WebElement (session=\"4c7e223201c2f39204e0e676bddcaf99\", element=\"42ce4277-7748-4eb8-8285-e853c7427de3\")>,\n",
       " <selenium.webdriver.remote.webelement.WebElement (session=\"4c7e223201c2f39204e0e676bddcaf99\", element=\"819d8905-9484-4c49-91bf-14827c9c3400\")>,\n",
       " <selenium.webdriver.remote.webelement.WebElement (session=\"4c7e223201c2f39204e0e676bddcaf99\", element=\"45e31153-a654-4873-8259-64edbbb4ff47\")>,\n",
       " <selenium.webdriver.remote.webelement.WebElement (session=\"4c7e223201c2f39204e0e676bddcaf99\", element=\"5f654596-a1cf-4308-a4a5-0d1ca8a69e05\")>,\n",
       " <selenium.webdriver.remote.webelement.WebElement (session=\"4c7e223201c2f39204e0e676bddcaf99\", element=\"aafe1712-51e1-4ed6-b93f-a05ee4ebedea\")>]"
      ]
     },
     "execution_count": 40,
     "metadata": {},
     "output_type": "execute_result"
    }
   ],
   "source": [
    "# 영화 전체 목록에서 li 태그들을 가져온다.\r\n",
    "li_list = a1.find_elements_by_css_selector('li')\r\n",
    "li_list"
   ]
  },
  {
   "cell_type": "code",
   "execution_count": 42,
   "metadata": {},
   "outputs": [
    {
     "name": "stdout",
     "output_type": "stream",
     "text": [
      "저장완료\n"
     ]
    }
   ],
   "source": [
    "# 데이터를 담을 딕셔너리\r\n",
    "data_dict = {\r\n",
    "    '제목' : [],\r\n",
    "    '예매율' : [],\r\n",
    "    '평점' : [],\r\n",
    "    '개봉일' : []\r\n",
    "}\r\n",
    "\r\n",
    "# 영화의 수 만큼 반복한다\r\n",
    "for movie_tag in li_list :\r\n",
    "    # 영화 제목을 가져온다\r\n",
    "    title_tag = movie_tag.find_element_by_css_selector('div > div.thumb_cont > strong > a')\r\n",
    "    title = title_tag.text.strip()\r\n",
    "\r\n",
    "    # 평점\r\n",
    "    rating_tag = movie_tag.find_element_by_css_selector('div > div.thumb_cont > span.txt_append > span:nth-child(1) > span')\r\n",
    "    rating = rating_tag.text.strip()\r\n",
    "\r\n",
    "    # 예매율\r\n",
    "    ticket_tag = movie_tag.find_element_by_css_selector('div > div.thumb_cont > span.txt_append > span:nth-child(2) > span')\r\n",
    "    ticket = ticket_tag.text.strip().replace('%','')\r\n",
    "\r\n",
    "    # 개봉일\r\n",
    "    open_date_tag = movie_tag.find_element_by_css_selector('div > div.thumb_cont > span.txt_info > span')\r\n",
    "    open_date = open_date_tag.text.strip()\r\n",
    "\r\n",
    "    # 영화 포스터\r\n",
    "    poster_tag = movie_tag.find_element_by_css_selector('div > div.thumb_item > div.poster_movie > img')\r\n",
    "    # src 속성의 값을 가져온다\r\n",
    "    src_attr = poster_tag.get_attribute('src')\r\n",
    "\r\n",
    "    # 영화의 제목을 파일명으로 사용할 것이기 때문에\r\n",
    "    # os에서 거부하는 파일명을 정제한다\r\n",
    "    char_list = ['\\\\', '/', ':', '*', '?', '\"', '<', '>', '|']\r\n",
    "\r\n",
    "    file_name = title\r\n",
    "    for c1 in char_list :\r\n",
    "        file_name = file_name.replace(c1, ' ')\r\n",
    "\r\n",
    "    # 이미지 데이터를 내려받는다\r\n",
    "    img_res = requests.get(src_attr)\r\n",
    "\r\n",
    "    # 저장한다\r\n",
    "    with open(f'poster/{file_name}.jpg', 'wb') as fp :\r\n",
    "        fp.write(img_res.content)\r\n",
    "\r\n",
    "    # print(title)\r\n",
    "    # print(rating)\r\n",
    "    # print(ticket)\r\n",
    "    # print(open_date)\r\n",
    "    # print('-------------------------')\r\n",
    "\r\n",
    "    # 데이터를 담는다\r\n",
    "    data_dict['제목'].append(title)\r\n",
    "    data_dict['예매율'].append(ticket)\r\n",
    "    data_dict['평점'].append(rating)\r\n",
    "    data_dict['개봉일'].append(open_date)\r\n",
    "    \r\n",
    "# 데이터 프레임 생성\r\n",
    "df1 = pd.DataFrame(data_dict)\r\n",
    "\r\n",
    "# 저장\r\n",
    "df1.to_csv('daum_movie.csv', encoding='utf-8-sig', index = False)\r\n",
    "print('저장완료')"
   ]
  },
  {
   "cell_type": "code",
   "execution_count": null,
   "metadata": {},
   "outputs": [],
   "source": []
  }
 ],
 "metadata": {
  "interpreter": {
   "hash": "3daa3430744053f4748a69c6948da8999f75f0c797f8ffecf263e95f10f995f6"
  },
  "kernelspec": {
   "display_name": "Python 3.8.5 64-bit ('base': conda)",
   "name": "python3"
  },
  "language_info": {
   "codemirror_mode": {
    "name": "ipython",
    "version": 3
   },
   "file_extension": ".py",
   "mimetype": "text/x-python",
   "name": "python",
   "nbconvert_exporter": "python",
   "pygments_lexer": "ipython3",
   "version": "3.8.5"
  },
  "orig_nbformat": 4
 },
 "nbformat": 4,
 "nbformat_minor": 2
}