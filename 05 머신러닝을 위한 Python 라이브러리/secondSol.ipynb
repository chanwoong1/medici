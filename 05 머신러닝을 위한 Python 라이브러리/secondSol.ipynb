{
 "cells": [
  {
   "cell_type": "code",
   "execution_count": null,
   "id": "7079423d",
   "metadata": {},
   "outputs": [],
   "source": [
    "1. trees.csv를 읽어들여서 아래에 대해\n",
    "1) 상관관계, 다중공선성을 확인하시요\n",
    "2) crossvalidation score 를 구하시요.\n",
    "3) 아래의 데이터를 이용하여 Volume을 예측하시요\n",
    "Girth 8.8, 10.5\n",
    "Height 63, 72\n",
    "\n",
    "2. volume이 40 이상이면 크다\n",
    "30이상이면 보통 미만이면 적음으로\n",
    "아래와 같이 출력하시요\n",
    "volume  정도\n",
    "============\n",
    " 10.3    적음\n",
    "...\n",
    "\n",
    "3. Height  가 가장 작은값과 큰값을\n",
    "구하시요\n",
    "\n",
    "4. girth(테두리) 가 가장큰 top5를\n",
    "구하시요(girth, height, volume)\n",
    "\n",
    "05:25분까지 제출 팀별 1개씩\n",
    "17:45분\n",
    "\n",
    "\n",
    "1조.ipynb"
   ]
  },
  {
   "cell_type": "code",
   "execution_count": 11,
   "id": "9b5f74f2",
   "metadata": {},
   "outputs": [],
   "source": [
    "import matplotlib.pyplot as plt\n",
    "import numpy as np\n",
    "from sklearn.linear_model import LinearRegression, SGDRegressor #LinearRegression(공식).SGDregressor(학습_경사하강법)\n",
    "from sklearn.neural_network import MLPRegressor #학습을 통해 만들어짐(딥러닝)\n",
    "import matplotlib.pyplot as plt\n",
    "import matplotlib\n",
    "import pandas as pd\n",
    "matplotlib.rcParams['font.family']='Malgun Gothic'\n",
    "matplotlib.rcParams['axes.unicode_minus']=False\n",
    "\n",
    "from sklearn.metrics import r2_score# 선형 모델(Linear Models)\n",
    "from sklearn.datasets import load_boston, load_iris\n",
    "from sklearn.model_selection import train_test_split, cross_val_score, KFold\n",
    "from sklearn.preprocessing import StandardScaler, MinMaxScaler, RobustScaler # 연속변수의 표준화\n",
    "from sklearn.preprocessing import LabelEncoder # 범주형 변수 수치화\n",
    "\n",
    "from sklearn.pipeline import make_pipeline\n",
    "from statsmodels.stats.outliers_influence import variance_inflation_factor #vif\n",
    "\n",
    "import seaborn as sb"
   ]
  },
  {
   "cell_type": "code",
   "execution_count": 3,
   "id": "f9cc671e",
   "metadata": {},
   "outputs": [
    {
     "data": {
      "text/html": [
       "<div>\n",
       "<style scoped>\n",
       "    .dataframe tbody tr th:only-of-type {\n",
       "        vertical-align: middle;\n",
       "    }\n",
       "\n",
       "    .dataframe tbody tr th {\n",
       "        vertical-align: top;\n",
       "    }\n",
       "\n",
       "    .dataframe thead th {\n",
       "        text-align: right;\n",
       "    }\n",
       "</style>\n",
       "<table border=\"1\" class=\"dataframe\">\n",
       "  <thead>\n",
       "    <tr style=\"text-align: right;\">\n",
       "      <th></th>\n",
       "      <th>Girth</th>\n",
       "      <th>Height</th>\n",
       "      <th>Volume</th>\n",
       "    </tr>\n",
       "  </thead>\n",
       "  <tbody>\n",
       "    <tr>\n",
       "      <th>0</th>\n",
       "      <td>8.3</td>\n",
       "      <td>70</td>\n",
       "      <td>10.3</td>\n",
       "    </tr>\n",
       "    <tr>\n",
       "      <th>1</th>\n",
       "      <td>8.6</td>\n",
       "      <td>65</td>\n",
       "      <td>10.3</td>\n",
       "    </tr>\n",
       "    <tr>\n",
       "      <th>2</th>\n",
       "      <td>8.8</td>\n",
       "      <td>63</td>\n",
       "      <td>10.2</td>\n",
       "    </tr>\n",
       "    <tr>\n",
       "      <th>3</th>\n",
       "      <td>10.5</td>\n",
       "      <td>72</td>\n",
       "      <td>16.4</td>\n",
       "    </tr>\n",
       "    <tr>\n",
       "      <th>4</th>\n",
       "      <td>10.7</td>\n",
       "      <td>81</td>\n",
       "      <td>18.8</td>\n",
       "    </tr>\n",
       "  </tbody>\n",
       "</table>\n",
       "</div>"
      ],
      "text/plain": [
       "   Girth  Height  Volume\n",
       "0    8.3      70    10.3\n",
       "1    8.6      65    10.3\n",
       "2    8.8      63    10.2\n",
       "3   10.5      72    16.4\n",
       "4   10.7      81    18.8"
      ]
     },
     "execution_count": 3,
     "metadata": {},
     "output_type": "execute_result"
    }
   ],
   "source": [
    "data=pd.read_csv('../data/trees.csv')\n",
    "data.head()"
   ]
  },
  {
   "cell_type": "code",
   "execution_count": 4,
   "id": "872c68c5",
   "metadata": {},
   "outputs": [],
   "source": [
    "x_data=data[[\"Girth\",\"Height\"]]\n",
    "y_data=data[['Volume']]"
   ]
  },
  {
   "cell_type": "code",
   "execution_count": 6,
   "id": "4c118d86",
   "metadata": {},
   "outputs": [
    {
     "data": {
      "image/png": "[encoded data removed]",
      "text/plain": [
       "<Figure size 432x288 with 2 Axes>"
      ]
     },
     "metadata": {
      "needs_background": "light"
     },
     "output_type": "display_data"
    }
   ],
   "source": [
    "sb.heatmap(x_data.corr(),annot=True, cmap=\"summer\", vmin=-1, vmax=1)\n",
    "plt.show()"
   ]
  },
  {
   "cell_type": "code",
   "execution_count": 7,
   "id": "0262471b",
   "metadata": {},
   "outputs": [
    {
     "data": {
      "text/html": [
       "<div>\n",
       "<style scoped>\n",
       "    .dataframe tbody tr th:only-of-type {\n",
       "        vertical-align: middle;\n",
       "    }\n",
       "\n",
       "    .dataframe tbody tr th {\n",
       "        vertical-align: top;\n",
       "    }\n",
       "\n",
       "    .dataframe thead th {\n",
       "        text-align: right;\n",
       "    }\n",
       "</style>\n",
       "<table border=\"1\" class=\"dataframe\">\n",
       "  <thead>\n",
       "    <tr style=\"text-align: right;\">\n",
       "      <th></th>\n",
       "      <th>VIF Factor</th>\n",
       "      <th>features</th>\n",
       "    </tr>\n",
       "  </thead>\n",
       "  <tbody>\n",
       "    <tr>\n",
       "      <th>0</th>\n",
       "      <td>25.633257</td>\n",
       "      <td>Girth</td>\n",
       "    </tr>\n",
       "    <tr>\n",
       "      <th>1</th>\n",
       "      <td>25.633257</td>\n",
       "      <td>Height</td>\n",
       "    </tr>\n",
       "  </tbody>\n",
       "</table>\n",
       "</div>"
      ],
      "text/plain": [
       "   VIF Factor features\n",
       "0   25.633257    Girth\n",
       "1   25.633257   Height"
      ]
     },
     "execution_count": 7,
     "metadata": {},
     "output_type": "execute_result"
    }
   ],
   "source": [
    "vif = pd.DataFrame()\n",
    "vif['VIF Factor']= [ variance_inflation_factor(x_data.values, i )  for i in range( x_data.shape[1] ) ]\n",
    "vif['features'] = x_data.columns\n",
    "vif"
   ]
  },
  {
   "cell_type": "markdown",
   "id": "632f7991",
   "metadata": {},
   "source": [
    "1. trees.csv를 읽어들여서 아래에 대해\n",
    "1) 상관관계, 다중공선성을 확인하시요\n",
    "2) crossvalidation score 를 구하시요.\n",
    "3) 아래의 데이터를 이용하여 Volume을 예측하시요\n",
    "Girth 8.8, 10.5\n",
    "Height 63, 72"
   ]
  },
  {
   "cell_type": "code",
   "execution_count": 8,
   "id": "ce067cba",
   "metadata": {},
   "outputs": [],
   "source": [
    "x_train, x_test, y_train, y_test = train_test_split(x_data, y_data, \n",
    "                                test_size=0.2,random_state=1)"
   ]
  },
  {
   "cell_type": "code",
   "execution_count": 9,
   "id": "b17eb589",
   "metadata": {},
   "outputs": [
    {
     "data": {
      "text/plain": [
       "Pipeline(steps=[('standardscaler', StandardScaler()),\n",
       "                ('linearregression', LinearRegression())])"
      ]
     },
     "execution_count": 9,
     "metadata": {},
     "output_type": "execute_result"
    }
   ],
   "source": [
    "model=make_pipeline(StandardScaler(),LinearRegression() )\n",
    "model.fit(x_train, y_train)"
   ]
  },
  {
   "cell_type": "code",
   "execution_count": 12,
   "id": "62211727",
   "metadata": {},
   "outputs": [
    {
     "name": "stdout",
     "output_type": "stream",
     "text": [
      "[0.58366522 0.94278568 0.58818264 0.93891028 0.95601278]\n",
      "0.8019113206616655\n"
     ]
    }
   ],
   "source": [
    "kfold = KFold( n_splits=5, shuffle=True)\n",
    "# tree_s=cross_val_score(model, x_train, y_train, cv=5, scoring='r2')\n",
    "tree_s=cross_val_score(model, x_train, y_train, cv=kfold, scoring='r2')\n",
    "print(tree_s)\n",
    "print(tree_s.mean())"
   ]
  },
  {
   "cell_type": "code",
   "execution_count": 13,
   "id": "c78f80bd",
   "metadata": {},
   "outputs": [
    {
     "data": {
      "text/plain": [
       "array([[ 5.84983575],\n",
       "       [16.27579072]])"
      ]
     },
     "execution_count": 13,
     "metadata": {},
     "output_type": "execute_result"
    }
   ],
   "source": [
    "p=model.predict([[8.8,63],[10.5,72]])\n",
    "p"
   ]
  },
  {
   "cell_type": "code",
   "execution_count": null,
   "id": "73aa83aa",
   "metadata": {},
   "outputs": [],
   "source": [
    "2. volume이 40 이상이면 크다\n",
    "30이상이면 보통 미만이면 적음으로\n",
    "아래와 같이 출력하시요\n",
    "volume  정도\n",
    "============\n",
    " 10.3    적음\n",
    "..."
   ]
  },
  {
   "cell_type": "markdown",
   "id": "208771e0",
   "metadata": {},
   "source": [
    "### numpy solution"
   ]
  },
  {
   "cell_type": "code",
   "execution_count": 19,
   "id": "bad8456e",
   "metadata": {},
   "outputs": [],
   "source": [
    "v = data['Volume'].values"
   ]
  },
  {
   "cell_type": "code",
   "execution_count": 21,
   "id": "1be9b3c3",
   "metadata": {},
   "outputs": [],
   "source": [
    "result = np.select( [ v>=40,v>=30,v<30 ], ['크다', '보통','적음'])"
   ]
  },
  {
   "cell_type": "code",
   "execution_count": 34,
   "id": "c14f5f29",
   "metadata": {
    "collapsed": true
   },
   "outputs": [
    {
     "name": "stdout",
     "output_type": "stream",
     "text": [
      "volume\t정도\n",
      "==================\n",
      "10.3\t적음\n",
      "10.3\t적음\n",
      "10.2\t적음\n",
      "16.4\t적음\n",
      "18.8\t적음\n",
      "19.7\t적음\n",
      "15.6\t적음\n",
      "18.2\t적음\n",
      "22.6\t적음\n",
      "19.9\t적음\n",
      "24.2\t적음\n",
      "21.0\t적음\n",
      "21.4\t적음\n",
      "21.3\t적음\n",
      "19.1\t적음\n",
      "22.2\t적음\n",
      "33.8\t보통\n",
      "27.4\t적음\n",
      "25.7\t적음\n",
      "24.9\t적음\n",
      "34.5\t보통\n",
      "31.7\t보통\n",
      "36.3\t보통\n",
      "38.3\t보통\n",
      "42.6\t크다\n",
      "55.4\t크다\n",
      "55.7\t크다\n",
      "58.3\t크다\n",
      "51.5\t크다\n",
      "51.0\t크다\n",
      "77.0\t크다\n"
     ]
    }
   ],
   "source": [
    "print( 'volume', '정도', sep='\\t')\n",
    "print( \"==================\")\n",
    "for a,b in np.hstack( [v.reshape( -1,1), result.reshape( -1,1)] ):\n",
    "    print( a, b ,sep='\\t')"
   ]
  },
  {
   "cell_type": "markdown",
   "id": "a3e7b6da",
   "metadata": {},
   "source": [
    "#### hstack vstack sample"
   ]
  },
  {
   "cell_type": "code",
   "execution_count": 35,
   "id": "d25ff42c",
   "metadata": {},
   "outputs": [],
   "source": [
    "arr1 = np.array( [[1,2],[3,4]])\n",
    "arr2 = np.array( [[5,6],[7,8]])"
   ]
  },
  {
   "cell_type": "code",
   "execution_count": 36,
   "id": "fd33d62b",
   "metadata": {
    "collapsed": true
   },
   "outputs": [
    {
     "data": {
      "text/plain": [
       "array([[1, 2, 5, 6],\n",
       "       [3, 4, 7, 8]])"
      ]
     },
     "execution_count": 36,
     "metadata": {},
     "output_type": "execute_result"
    }
   ],
   "source": [
    "np.hstack( [arr1,arr2])"
   ]
  },
  {
   "cell_type": "code",
   "execution_count": 37,
   "id": "f2aace49",
   "metadata": {
    "collapsed": true
   },
   "outputs": [
    {
     "data": {
      "text/plain": [
       "array([[1, 2],\n",
       "       [3, 4],\n",
       "       [5, 6],\n",
       "       [7, 8]])"
      ]
     },
     "execution_count": 37,
     "metadata": {},
     "output_type": "execute_result"
    }
   ],
   "source": [
    "np.vstack( [arr1,arr2])"
   ]
  },
  {
   "cell_type": "markdown",
   "id": "b3f41f37",
   "metadata": {},
   "source": [
    "### pandas solution"
   ]
  },
  {
   "cell_type": "code",
   "execution_count": 41,
   "id": "ee4fdb0e",
   "metadata": {},
   "outputs": [],
   "source": [
    "def fn( v):\n",
    "    if v>=40:\n",
    "        return '크다'\n",
    "    elif v>=30:\n",
    "        return '보통'\n",
    "    else:\n",
    "        return '적음'"
   ]
  },
  {
   "cell_type": "code",
   "execution_count": 43,
   "id": "e0af8ab8",
   "metadata": {
    "collapsed": true
   },
   "outputs": [
    {
     "data": {
      "text/plain": [
       "0     적음\n",
       "1     적음\n",
       "2     적음\n",
       "3     적음\n",
       "4     적음\n",
       "5     적음\n",
       "6     적음\n",
       "7     적음\n",
       "8     적음\n",
       "9     적음\n",
       "10    적음\n",
       "11    적음\n",
       "12    적음\n",
       "13    적음\n",
       "14    적음\n",
       "15    적음\n",
       "16    보통\n",
       "17    적음\n",
       "18    적음\n",
       "19    적음\n",
       "20    보통\n",
       "21    보통\n",
       "22    보통\n",
       "23    보통\n",
       "24    크다\n",
       "25    크다\n",
       "26    크다\n",
       "27    크다\n",
       "28    크다\n",
       "29    크다\n",
       "30    크다\n",
       "Name: Volume, dtype: object"
      ]
     },
     "execution_count": 43,
     "metadata": {},
     "output_type": "execute_result"
    }
   ],
   "source": [
    "result = data['Volume'].apply( fn )\n",
    "result"
   ]
  },
  {
   "cell_type": "code",
   "execution_count": 44,
   "id": "68599035",
   "metadata": {},
   "outputs": [],
   "source": [
    "data['정도'] = result"
   ]
  },
  {
   "cell_type": "code",
   "execution_count": 46,
   "id": "7a46be58",
   "metadata": {
    "collapsed": true
   },
   "outputs": [
    {
     "data": {
      "text/html": [
       "<div>\n",
       "<style scoped>\n",
       "    .dataframe tbody tr th:only-of-type {\n",
       "        vertical-align: middle;\n",
       "    }\n",
       "\n",
       "    .dataframe tbody tr th {\n",
       "        vertical-align: top;\n",
       "    }\n",
       "\n",
       "    .dataframe thead th {\n",
       "        text-align: right;\n",
       "    }\n",
       "</style>\n",
       "<table border=\"1\" class=\"dataframe\">\n",
       "  <thead>\n",
       "    <tr style=\"text-align: right;\">\n",
       "      <th></th>\n",
       "      <th>Volume</th>\n",
       "      <th>정도</th>\n",
       "    </tr>\n",
       "  </thead>\n",
       "  <tbody>\n",
       "    <tr>\n",
       "      <th>0</th>\n",
       "      <td>10.3</td>\n",
       "      <td>적음</td>\n",
       "    </tr>\n",
       "    <tr>\n",
       "      <th>1</th>\n",
       "      <td>10.3</td>\n",
       "      <td>적음</td>\n",
       "    </tr>\n",
       "    <tr>\n",
       "      <th>2</th>\n",
       "      <td>10.2</td>\n",
       "      <td>적음</td>\n",
       "    </tr>\n",
       "    <tr>\n",
       "      <th>3</th>\n",
       "      <td>16.4</td>\n",
       "      <td>적음</td>\n",
       "    </tr>\n",
       "    <tr>\n",
       "      <th>4</th>\n",
       "      <td>18.8</td>\n",
       "      <td>적음</td>\n",
       "    </tr>\n",
       "    <tr>\n",
       "      <th>5</th>\n",
       "      <td>19.7</td>\n",
       "      <td>적음</td>\n",
       "    </tr>\n",
       "    <tr>\n",
       "      <th>6</th>\n",
       "      <td>15.6</td>\n",
       "      <td>적음</td>\n",
       "    </tr>\n",
       "    <tr>\n",
       "      <th>7</th>\n",
       "      <td>18.2</td>\n",
       "      <td>적음</td>\n",
       "    </tr>\n",
       "    <tr>\n",
       "      <th>8</th>\n",
       "      <td>22.6</td>\n",
       "      <td>적음</td>\n",
       "    </tr>\n",
       "    <tr>\n",
       "      <th>9</th>\n",
       "      <td>19.9</td>\n",
       "      <td>적음</td>\n",
       "    </tr>\n",
       "    <tr>\n",
       "      <th>10</th>\n",
       "      <td>24.2</td>\n",
       "      <td>적음</td>\n",
       "    </tr>\n",
       "    <tr>\n",
       "      <th>11</th>\n",
       "      <td>21.0</td>\n",
       "      <td>적음</td>\n",
       "    </tr>\n",
       "    <tr>\n",
       "      <th>12</th>\n",
       "      <td>21.4</td>\n",
       "      <td>적음</td>\n",
       "    </tr>\n",
       "    <tr>\n",
       "      <th>13</th>\n",
       "      <td>21.3</td>\n",
       "      <td>적음</td>\n",
       "    </tr>\n",
       "    <tr>\n",
       "      <th>14</th>\n",
       "      <td>19.1</td>\n",
       "      <td>적음</td>\n",
       "    </tr>\n",
       "    <tr>\n",
       "      <th>15</th>\n",
       "      <td>22.2</td>\n",
       "      <td>적음</td>\n",
       "    </tr>\n",
       "    <tr>\n",
       "      <th>16</th>\n",
       "      <td>33.8</td>\n",
       "      <td>보통</td>\n",
       "    </tr>\n",
       "    <tr>\n",
       "      <th>17</th>\n",
       "      <td>27.4</td>\n",
       "      <td>적음</td>\n",
       "    </tr>\n",
       "    <tr>\n",
       "      <th>18</th>\n",
       "      <td>25.7</td>\n",
       "      <td>적음</td>\n",
       "    </tr>\n",
       "    <tr>\n",
       "      <th>19</th>\n",
       "      <td>24.9</td>\n",
       "      <td>적음</td>\n",
       "    </tr>\n",
       "    <tr>\n",
       "      <th>20</th>\n",
       "      <td>34.5</td>\n",
       "      <td>보통</td>\n",
       "    </tr>\n",
       "    <tr>\n",
       "      <th>21</th>\n",
       "      <td>31.7</td>\n",
       "      <td>보통</td>\n",
       "    </tr>\n",
       "    <tr>\n",
       "      <th>22</th>\n",
       "      <td>36.3</td>\n",
       "      <td>보통</td>\n",
       "    </tr>\n",
       "    <tr>\n",
       "      <th>23</th>\n",
       "      <td>38.3</td>\n",
       "      <td>보통</td>\n",
       "    </tr>\n",
       "    <tr>\n",
       "      <th>24</th>\n",
       "      <td>42.6</td>\n",
       "      <td>크다</td>\n",
       "    </tr>\n",
       "    <tr>\n",
       "      <th>25</th>\n",
       "      <td>55.4</td>\n",
       "      <td>크다</td>\n",
       "    </tr>\n",
       "    <tr>\n",
       "      <th>26</th>\n",
       "      <td>55.7</td>\n",
       "      <td>크다</td>\n",
       "    </tr>\n",
       "    <tr>\n",
       "      <th>27</th>\n",
       "      <td>58.3</td>\n",
       "      <td>크다</td>\n",
       "    </tr>\n",
       "    <tr>\n",
       "      <th>28</th>\n",
       "      <td>51.5</td>\n",
       "      <td>크다</td>\n",
       "    </tr>\n",
       "    <tr>\n",
       "      <th>29</th>\n",
       "      <td>51.0</td>\n",
       "      <td>크다</td>\n",
       "    </tr>\n",
       "    <tr>\n",
       "      <th>30</th>\n",
       "      <td>77.0</td>\n",
       "      <td>크다</td>\n",
       "    </tr>\n",
       "  </tbody>\n",
       "</table>\n",
       "</div>"
      ],
      "text/plain": [
       "    Volume  정도\n",
       "0     10.3  적음\n",
       "1     10.3  적음\n",
       "2     10.2  적음\n",
       "3     16.4  적음\n",
       "4     18.8  적음\n",
       "5     19.7  적음\n",
       "6     15.6  적음\n",
       "7     18.2  적음\n",
       "8     22.6  적음\n",
       "9     19.9  적음\n",
       "10    24.2  적음\n",
       "11    21.0  적음\n",
       "12    21.4  적음\n",
       "13    21.3  적음\n",
       "14    19.1  적음\n",
       "15    22.2  적음\n",
       "16    33.8  보통\n",
       "17    27.4  적음\n",
       "18    25.7  적음\n",
       "19    24.9  적음\n",
       "20    34.5  보통\n",
       "21    31.7  보통\n",
       "22    36.3  보통\n",
       "23    38.3  보통\n",
       "24    42.6  크다\n",
       "25    55.4  크다\n",
       "26    55.7  크다\n",
       "27    58.3  크다\n",
       "28    51.5  크다\n",
       "29    51.0  크다\n",
       "30    77.0  크다"
      ]
     },
     "execution_count": 46,
     "metadata": {},
     "output_type": "execute_result"
    }
   ],
   "source": [
    "data[['Volume','정도']]"
   ]
  },
  {
   "cell_type": "markdown",
   "id": "9dbc6ce2",
   "metadata": {},
   "source": [
    "3. Height  가 가장 작은값과 큰값을\n",
    "구하시요"
   ]
  },
  {
   "cell_type": "code",
   "execution_count": 49,
   "id": "ac4a17aa",
   "metadata": {},
   "outputs": [
    {
     "data": {
      "text/plain": [
       "87"
      ]
     },
     "execution_count": 49,
     "metadata": {},
     "output_type": "execute_result"
    }
   ],
   "source": [
    "data['Height'].max()"
   ]
  },
  {
   "cell_type": "code",
   "execution_count": 50,
   "id": "0f005dc7",
   "metadata": {},
   "outputs": [
    {
     "data": {
      "text/plain": [
       "63"
      ]
     },
     "execution_count": 50,
     "metadata": {},
     "output_type": "execute_result"
    }
   ],
   "source": [
    "data['Height'].min()"
   ]
  },
  {
   "cell_type": "markdown",
   "id": "764f5446",
   "metadata": {},
   "source": [
    "4. girth(테두리) 가 가장큰 top5를\n",
    "구하시요(girth, height, volume)"
   ]
  },
  {
   "cell_type": "code",
   "execution_count": 55,
   "id": "175cbdd0",
   "metadata": {},
   "outputs": [
    {
     "data": {
      "text/html": [
       "<div>\n",
       "<style scoped>\n",
       "    .dataframe tbody tr th:only-of-type {\n",
       "        vertical-align: middle;\n",
       "    }\n",
       "\n",
       "    .dataframe tbody tr th {\n",
       "        vertical-align: top;\n",
       "    }\n",
       "\n",
       "    .dataframe thead th {\n",
       "        text-align: right;\n",
       "    }\n",
       "</style>\n",
       "<table border=\"1\" class=\"dataframe\">\n",
       "  <thead>\n",
       "    <tr style=\"text-align: right;\">\n",
       "      <th></th>\n",
       "      <th>Girth</th>\n",
       "      <th>Height</th>\n",
       "      <th>Volume</th>\n",
       "    </tr>\n",
       "  </thead>\n",
       "  <tbody>\n",
       "    <tr>\n",
       "      <th>30</th>\n",
       "      <td>20.6</td>\n",
       "      <td>87</td>\n",
       "      <td>77.0</td>\n",
       "    </tr>\n",
       "    <tr>\n",
       "      <th>28</th>\n",
       "      <td>18.0</td>\n",
       "      <td>80</td>\n",
       "      <td>51.5</td>\n",
       "    </tr>\n",
       "    <tr>\n",
       "      <th>29</th>\n",
       "      <td>18.0</td>\n",
       "      <td>80</td>\n",
       "      <td>51.0</td>\n",
       "    </tr>\n",
       "    <tr>\n",
       "      <th>27</th>\n",
       "      <td>17.9</td>\n",
       "      <td>80</td>\n",
       "      <td>58.3</td>\n",
       "    </tr>\n",
       "    <tr>\n",
       "      <th>26</th>\n",
       "      <td>17.5</td>\n",
       "      <td>82</td>\n",
       "      <td>55.7</td>\n",
       "    </tr>\n",
       "  </tbody>\n",
       "</table>\n",
       "</div>"
      ],
      "text/plain": [
       "    Girth  Height  Volume\n",
       "30   20.6      87    77.0\n",
       "28   18.0      80    51.5\n",
       "29   18.0      80    51.0\n",
       "27   17.9      80    58.3\n",
       "26   17.5      82    55.7"
      ]
     },
     "execution_count": 55,
     "metadata": {},
     "output_type": "execute_result"
    }
   ],
   "source": [
    "data.nlargest(5,'Girth' )[['Girth','Height','Volume']]"
   ]
  }
 ],
 "metadata": {
  "kernelspec": {
   "display_name": "Python 3",
   "language": "python",
   "name": "python3"
  },
  "language_info": {
   "codemirror_mode": {
    "name": "ipython",
    "version": 3
   },
   "file_extension": ".py",
   "mimetype": "text/x-python",
   "name": "python",
   "nbconvert_exporter": "python",
   "pygments_lexer": "ipython3",
   "version": "3.8.8"
  }
 },
 "nbformat": 4,
 "nbformat_minor": 5
}
