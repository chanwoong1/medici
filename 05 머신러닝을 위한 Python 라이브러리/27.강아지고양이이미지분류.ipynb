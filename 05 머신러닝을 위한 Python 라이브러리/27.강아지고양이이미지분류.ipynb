{
 "cells": [
  {
   "cell_type": "code",
   "execution_count": 15,
   "id": "10c71972",
   "metadata": {},
   "outputs": [],
   "source": [
    "import numpy as np \n",
    "import pandas as pd \n",
    "import seaborn as sb \n",
    "import matplotlib.pyplot as plt\n",
    "import mglearn\n",
    "from sklearn.model_selection import train_test_split\n",
    "from sklearn.neural_network import MLPClassifier\n",
    "from sklearn.linear_model import LogisticRegression\n",
    "\n",
    "from tensorflow.keras.preprocessing.image import ImageDataGenerator, load_img, img_to_array\n",
    "\n",
    "import warnings\n",
    "warnings.simplefilter('ignore')"
   ]
  },
  {
   "cell_type": "code",
   "execution_count": 2,
   "id": "40fcc153",
   "metadata": {},
   "outputs": [
    {
     "name": "stdout",
     "output_type": "stream",
     "text": [
      "Found 32 images belonging to 2 classes.\n"
     ]
    }
   ],
   "source": [
    "data_generator = ImageDataGenerator( rescale= 1./255 )\n",
    "traingen = data_generator.flow_from_directory( 'myimg', target_size=(98,98),\n",
    "                                              class_mode='sparse', seed=1 )"
   ]
  },
  {
   "cell_type": "code",
   "execution_count": 6,
   "id": "0d73be65",
   "metadata": {},
   "outputs": [
    {
     "data": {
      "text/plain": [
       "{'cat': 0, 'dog': 1}"
      ]
     },
     "execution_count": 6,
     "metadata": {},
     "output_type": "execute_result"
    }
   ],
   "source": [
    "traingen.class_indices"
   ]
  },
  {
   "cell_type": "code",
   "execution_count": 3,
   "id": "2a6ae5e5",
   "metadata": {},
   "outputs": [],
   "source": [
    "x_train, y_train = traingen.next()"
   ]
  },
  {
   "cell_type": "code",
   "execution_count": 7,
   "id": "544454d1",
   "metadata": {},
   "outputs": [
    {
     "data": {
      "text/plain": [
       "(32, 98, 98, 3)"
      ]
     },
     "execution_count": 7,
     "metadata": {},
     "output_type": "execute_result"
    }
   ],
   "source": [
    "x_train.shape"
   ]
  },
  {
   "cell_type": "code",
   "execution_count": 5,
   "id": "49eca78b",
   "metadata": {},
   "outputs": [
    {
     "data": {
      "text/plain": [
       "array([1., 0., 1., 1., 1., 1., 1., 1., 1., 0., 1., 0., 1., 1., 0., 0., 1.,\n",
       "       0., 0., 0., 1., 0., 1., 0., 0., 1., 1., 0., 0., 0., 0., 0.],\n",
       "      dtype=float32)"
      ]
     },
     "execution_count": 5,
     "metadata": {},
     "output_type": "execute_result"
    }
   ],
   "source": [
    "y_train"
   ]
  },
  {
   "cell_type": "code",
   "execution_count": 8,
   "id": "7d10d8e6",
   "metadata": {},
   "outputs": [],
   "source": [
    "x_data = x_train.reshape( 32, -1)"
   ]
  },
  {
   "cell_type": "code",
   "execution_count": 9,
   "id": "ab445d61",
   "metadata": {},
   "outputs": [
    {
     "data": {
      "text/plain": [
       "(32, 28812)"
      ]
     },
     "execution_count": 9,
     "metadata": {},
     "output_type": "execute_result"
    }
   ],
   "source": [
    "x_data.shape"
   ]
  },
  {
   "cell_type": "code",
   "execution_count": 10,
   "id": "a3bfccb6",
   "metadata": {
    "collapsed": true
   },
   "outputs": [
    {
     "name": "stdout",
     "output_type": "stream",
     "text": [
      "Iteration 1, loss = 0.84443502\n",
      "Iteration 2, loss = 7.97150850\n",
      "Iteration 3, loss = 7.84918575\n",
      "Iteration 4, loss = 6.42065075\n",
      "Iteration 5, loss = 7.12956300\n",
      "Iteration 6, loss = 6.85469360\n",
      "Iteration 7, loss = 5.97993977\n",
      "Iteration 8, loss = 4.25327569\n",
      "Iteration 9, loss = 2.06693865\n",
      "Iteration 10, loss = 0.64580311\n",
      "Iteration 11, loss = 2.24101769\n",
      "Iteration 12, loss = 3.20189463\n",
      "Iteration 13, loss = 3.43324295\n",
      "Iteration 14, loss = 3.08630151\n",
      "Iteration 15, loss = 2.26093426\n",
      "Iteration 16, loss = 1.13231912\n",
      "Iteration 17, loss = 0.57068675\n",
      "Iteration 18, loss = 1.29675336\n",
      "Iteration 19, loss = 1.85028226\n",
      "Iteration 20, loss = 1.95576445\n",
      "Iteration 21, loss = 1.65830079\n",
      "Iteration 22, loss = 1.75514224\n",
      "Iteration 23, loss = 0.51655998\n",
      "Iteration 24, loss = 0.74758361\n",
      "Iteration 25, loss = 1.20867897\n",
      "Iteration 26, loss = 1.35207519\n",
      "Iteration 27, loss = 1.14174023\n",
      "Iteration 28, loss = 0.71474049\n",
      "Iteration 29, loss = 0.45731053\n",
      "Iteration 30, loss = 0.64842523\n",
      "Iteration 31, loss = 0.89194204\n",
      "Iteration 32, loss = 0.92562509\n",
      "Iteration 33, loss = 0.74428779\n",
      "Iteration 34, loss = 0.49859987\n",
      "Iteration 35, loss = 0.44022318\n",
      "Iteration 36, loss = 0.59758590\n",
      "Iteration 37, loss = 0.70346350\n",
      "Iteration 38, loss = 0.44242718\n",
      "Iteration 39, loss = 0.40440635\n",
      "Iteration 40, loss = 0.59279803\n",
      "Iteration 41, loss = 0.39482479\n",
      "Iteration 42, loss = 0.50706112\n",
      "Iteration 43, loss = 0.35878495\n",
      "Iteration 44, loss = 0.46439969\n",
      "Iteration 45, loss = 0.35042354\n",
      "Iteration 46, loss = 0.39580578\n",
      "Iteration 47, loss = 0.36715709\n",
      "Iteration 48, loss = 0.33775836\n",
      "Iteration 49, loss = 0.65411997\n",
      "Iteration 50, loss = 0.50055552\n",
      "Iteration 51, loss = 0.29708261\n",
      "Iteration 52, loss = 0.53279847\n",
      "Iteration 53, loss = 0.40419578\n",
      "Iteration 54, loss = 0.28203266\n",
      "Iteration 55, loss = 0.43284302\n",
      "Iteration 56, loss = 0.34521625\n",
      "Iteration 57, loss = 0.58967653\n",
      "Iteration 58, loss = 0.34263568\n",
      "Iteration 59, loss = 0.26893708\n",
      "Iteration 60, loss = 0.43645774\n",
      "Iteration 61, loss = 0.33924030\n",
      "Iteration 62, loss = 0.23030421\n",
      "Iteration 63, loss = 0.34423036\n",
      "Iteration 64, loss = 0.33443781\n",
      "Iteration 65, loss = 0.22967103\n",
      "Iteration 66, loss = 0.23547216\n",
      "Iteration 67, loss = 0.51347929\n",
      "Iteration 68, loss = 0.26052282\n",
      "Iteration 69, loss = 0.30443685\n",
      "Iteration 70, loss = 0.37859091\n",
      "Iteration 71, loss = 0.20306819\n",
      "Iteration 72, loss = 0.29026483\n",
      "Iteration 73, loss = 0.29906030\n",
      "Iteration 74, loss = 0.18190238\n",
      "Iteration 75, loss = 0.26037178\n",
      "Iteration 76, loss = 0.25396365\n",
      "Iteration 77, loss = 0.17272829\n",
      "Iteration 78, loss = 0.22271886\n",
      "Iteration 79, loss = 0.22327595\n",
      "Iteration 80, loss = 0.16285896\n",
      "Iteration 81, loss = 0.19588595\n",
      "Iteration 82, loss = 0.20242819\n",
      "Iteration 83, loss = 0.15770078\n",
      "Iteration 84, loss = 0.16982263\n",
      "Iteration 85, loss = 0.18475240\n",
      "Iteration 86, loss = 0.15097215\n",
      "Iteration 87, loss = 0.15376795\n",
      "Iteration 88, loss = 0.16813715\n",
      "Iteration 89, loss = 0.14798739\n",
      "Iteration 90, loss = 0.13976059\n",
      "Iteration 91, loss = 0.15337676\n",
      "Iteration 92, loss = 0.14256383\n",
      "Iteration 93, loss = 0.13162415\n",
      "Iteration 94, loss = 0.14015128\n",
      "Iteration 95, loss = 0.13730768\n",
      "Iteration 96, loss = 0.12587735\n",
      "Iteration 97, loss = 0.12882956\n",
      "Iteration 98, loss = 0.13062124\n",
      "Iteration 99, loss = 0.12154839\n",
      "Iteration 100, loss = 0.12042670\n",
      "Iteration 101, loss = 0.12329580\n",
      "Iteration 102, loss = 0.11795363\n",
      "Iteration 103, loss = 0.11391466\n",
      "Iteration 104, loss = 0.11607215\n",
      "Iteration 105, loss = 0.11380943\n",
      "Iteration 106, loss = 0.10921109\n",
      "Iteration 107, loss = 0.10957790\n",
      "Iteration 108, loss = 0.10923984\n",
      "Iteration 109, loss = 0.10543673\n",
      "Iteration 110, loss = 0.10404507\n",
      "Iteration 111, loss = 0.10435184\n",
      "Iteration 112, loss = 0.10187978\n",
      "Iteration 113, loss = 0.09960953\n",
      "Iteration 114, loss = 0.09952709\n",
      "Iteration 115, loss = 0.09827243\n",
      "Iteration 116, loss = 0.09590707\n",
      "Iteration 117, loss = 0.09509224\n",
      "Iteration 118, loss = 0.09449300\n",
      "Iteration 119, loss = 0.09258935\n",
      "Iteration 120, loss = 0.09122023\n",
      "Iteration 121, loss = 0.09068959\n",
      "Iteration 122, loss = 0.08939474\n",
      "Iteration 123, loss = 0.08782986\n",
      "Iteration 124, loss = 0.08705574\n",
      "Iteration 125, loss = 0.08618572\n",
      "Iteration 126, loss = 0.08476698\n",
      "Iteration 127, loss = 0.08372100\n",
      "Iteration 128, loss = 0.08298930\n",
      "Iteration 129, loss = 0.08186390\n",
      "Iteration 130, loss = 0.08069405\n",
      "Iteration 131, loss = 0.07989961\n",
      "Iteration 132, loss = 0.07901847\n",
      "Iteration 133, loss = 0.07790727\n",
      "Iteration 134, loss = 0.07699785\n",
      "Iteration 135, loss = 0.07622295\n",
      "Iteration 136, loss = 0.07526500\n",
      "Iteration 137, loss = 0.07430380\n",
      "Iteration 138, loss = 0.07352277\n",
      "Iteration 139, loss = 0.07270373\n",
      "Iteration 140, loss = 0.07178408\n",
      "Iteration 141, loss = 0.07096250\n",
      "Iteration 142, loss = 0.07021243\n",
      "Iteration 143, loss = 0.06938453\n",
      "Iteration 144, loss = 0.06855431\n",
      "Iteration 145, loss = 0.06781384\n",
      "Iteration 146, loss = 0.06706855\n",
      "Iteration 147, loss = 0.06627767\n",
      "Iteration 148, loss = 0.06553098\n",
      "Iteration 149, loss = 0.06482943\n",
      "Iteration 150, loss = 0.06410051\n",
      "Iteration 151, loss = 0.06336715\n",
      "Iteration 152, loss = 0.06267973\n",
      "Iteration 153, loss = 0.06200285\n",
      "Iteration 154, loss = 0.06130715\n",
      "Iteration 155, loss = 0.06062984\n",
      "Iteration 156, loss = 0.05998243\n",
      "Iteration 157, loss = 0.05933142\n",
      "Iteration 158, loss = 0.05867715\n",
      "Iteration 159, loss = 0.05804613\n",
      "Iteration 160, loss = 0.05743000\n",
      "Iteration 161, loss = 0.05680961\n",
      "Iteration 162, loss = 0.05619661\n",
      "Iteration 163, loss = 0.05560290\n",
      "Iteration 164, loss = 0.05501560\n",
      "Iteration 165, loss = 0.05442840\n",
      "Iteration 166, loss = 0.05385287\n",
      "Iteration 167, loss = 0.05329096\n",
      "Iteration 168, loss = 0.05273262\n",
      "Iteration 169, loss = 0.05217828\n",
      "Iteration 170, loss = 0.05163579\n",
      "Iteration 171, loss = 0.05110265\n",
      "Iteration 172, loss = 0.05057311\n",
      "Iteration 173, loss = 0.05004994\n",
      "Iteration 174, loss = 0.04953708\n",
      "Iteration 175, loss = 0.04903116\n",
      "Iteration 176, loss = 0.04852948\n",
      "Iteration 177, loss = 0.04803515\n",
      "Iteration 178, loss = 0.04754942\n",
      "Iteration 179, loss = 0.04706945\n",
      "Iteration 180, loss = 0.04659446\n",
      "Iteration 181, loss = 0.04612673\n",
      "Iteration 182, loss = 0.04566625\n",
      "Iteration 183, loss = 0.04521098\n",
      "Iteration 184, loss = 0.04476112\n",
      "Iteration 185, loss = 0.04431803\n",
      "Iteration 186, loss = 0.04388119\n",
      "Iteration 187, loss = 0.04344946\n",
      "Iteration 188, loss = 0.04302312\n",
      "Iteration 189, loss = 0.04260301\n",
      "Iteration 190, loss = 0.04218853\n",
      "Iteration 191, loss = 0.04177900\n",
      "Iteration 192, loss = 0.04137476\n",
      "Iteration 193, loss = 0.04097612\n",
      "Iteration 194, loss = 0.04058271\n",
      "Iteration 195, loss = 0.04019407\n",
      "Iteration 196, loss = 0.03981048\n",
      "Iteration 197, loss = 0.03943209\n",
      "Iteration 198, loss = 0.03905852\n",
      "Iteration 199, loss = 0.03868957\n",
      "Iteration 200, loss = 0.03832543\n"
     ]
    },
    {
     "data": {
      "text/plain": [
       "MLPClassifier(verbose=1)"
      ]
     },
     "execution_count": 10,
     "metadata": {},
     "output_type": "execute_result"
    }
   ],
   "source": [
    "model = MLPClassifier( verbose=1 )\n",
    "model.fit( x_data, y_train )"
   ]
  },
  {
   "cell_type": "code",
   "execution_count": 11,
   "id": "0a4ce161",
   "metadata": {},
   "outputs": [
    {
     "data": {
      "text/plain": [
       "1.0"
      ]
     },
     "execution_count": 11,
     "metadata": {},
     "output_type": "execute_result"
    }
   ],
   "source": [
    "model.score( x_data, y_train)"
   ]
  },
  {
   "cell_type": "code",
   "execution_count": 13,
   "id": "3b848f33",
   "metadata": {},
   "outputs": [
    {
     "data": {
      "image/png": "[encoded data removed]",
      "text/plain": [
       "<PIL.Image.Image image mode=RGB size=98x98 at 0x25218ED0E50>"
      ]
     },
     "execution_count": 13,
     "metadata": {},
     "output_type": "execute_result"
    }
   ],
   "source": [
    "imgData = load_img( 'k.jpg', target_size=(98,98))\n",
    "imgData"
   ]
  },
  {
   "cell_type": "code",
   "execution_count": 14,
   "id": "8026ed38",
   "metadata": {},
   "outputs": [
    {
     "data": {
      "text/plain": [
       "PIL.Image.Image"
      ]
     },
     "execution_count": 14,
     "metadata": {},
     "output_type": "execute_result"
    }
   ],
   "source": [
    "type(imgData)"
   ]
  },
  {
   "cell_type": "code",
   "execution_count": 16,
   "id": "2fd5a380",
   "metadata": {},
   "outputs": [],
   "source": [
    "testImg = img_to_array( imgData )/255"
   ]
  },
  {
   "cell_type": "code",
   "execution_count": 18,
   "id": "61c21afa",
   "metadata": {},
   "outputs": [
    {
     "data": {
      "text/plain": [
       "(98, 98, 3)"
      ]
     },
     "execution_count": 18,
     "metadata": {},
     "output_type": "execute_result"
    }
   ],
   "source": [
    "testImg.shape"
   ]
  },
  {
   "cell_type": "code",
   "execution_count": 19,
   "id": "96d5376d",
   "metadata": {},
   "outputs": [
    {
     "data": {
      "text/plain": [
       "array([0.], dtype=float32)"
      ]
     },
     "execution_count": 19,
     "metadata": {},
     "output_type": "execute_result"
    }
   ],
   "source": [
    "model.predict( testImg.reshape(1,-1) )"
   ]
  },
  {
   "cell_type": "markdown",
   "id": "960f8f6d",
   "metadata": {},
   "source": [
    "# 모델저장"
   ]
  },
  {
   "cell_type": "code",
   "execution_count": 20,
   "id": "de381b61",
   "metadata": {},
   "outputs": [],
   "source": [
    "import joblib"
   ]
  },
  {
   "cell_type": "code",
   "execution_count": null,
   "id": "d2cdde15",
   "metadata": {},
   "outputs": [],
   "source": [
    "# from sklearn.externals import joblib"
   ]
  },
  {
   "cell_type": "code",
   "execution_count": 21,
   "id": "be13ace3",
   "metadata": {},
   "outputs": [
    {
     "data": {
      "text/plain": [
       "['catdog.pkl']"
      ]
     },
     "execution_count": 21,
     "metadata": {},
     "output_type": "execute_result"
    }
   ],
   "source": [
    "joblib.dump( model, 'catdog.pkl' )"
   ]
  },
  {
   "cell_type": "markdown",
   "id": "8f22e43f",
   "metadata": {},
   "source": [
    "## 모델읽기"
   ]
  },
  {
   "cell_type": "code",
   "execution_count": 22,
   "id": "52c0a08c",
   "metadata": {},
   "outputs": [],
   "source": [
    "mymodel = joblib.load( 'catdog.pkl')"
   ]
  },
  {
   "cell_type": "code",
   "execution_count": 23,
   "id": "5446aa25",
   "metadata": {},
   "outputs": [
    {
     "data": {
      "text/plain": [
       "array([0.], dtype=float32)"
      ]
     },
     "execution_count": 23,
     "metadata": {},
     "output_type": "execute_result"
    }
   ],
   "source": [
    "mymodel.predict( testImg.reshape(1,-1))"
   ]
  },
  {
   "cell_type": "code",
   "execution_count": null,
   "id": "da39837f",
   "metadata": {},
   "outputs": [],
   "source": []
  }
 ],
 "metadata": {
  "kernelspec": {
   "display_name": "Python 3",
   "language": "python",
   "name": "python3"
  },
  "language_info": {
   "codemirror_mode": {
    "name": "ipython",
    "version": 3
   },
   "file_extension": ".py",
   "mimetype": "text/x-python",
   "name": "python",
   "nbconvert_exporter": "python",
   "pygments_lexer": "ipython3",
   "version": "3.8.8"
  }
 },
 "nbformat": 4,
 "nbformat_minor": 5
}
