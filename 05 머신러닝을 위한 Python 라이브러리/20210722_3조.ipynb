{
 "cells": [
  {
   "cell_type": "code",
   "execution_count": 94,
   "id": "67858d9e",
   "metadata": {
    "ExecuteTime": {
     "end_time": "2021-07-22T08:47:19.781621Z",
     "start_time": "2021-07-22T08:47:19.756695Z"
    }
   },
   "outputs": [],
   "source": [
    "from sklearn.datasets import make_classification, load_breast_cancer\n",
    "from sklearn.linear_model import LogisticRegression\n",
    "from sklearn.model_selection import train_test_split\n",
    "\n",
    "import pandas as pd\n",
    "import matplotlib.pyplot as plt\n",
    "import numpy as np\n",
    "import seaborn as sns\n",
    "\n",
    "from sklearn.pipeline import make_pipeline\n",
    "from sklearn.preprocessing import StandardScaler\n",
    "from sklearn.preprocessing import OneHotEncoder, LabelEncoder\n",
    "from sklearn.model_selection import train_test_split\n",
    "from sklearn.model_selection import GridSearchCV\n",
    "from sklearn.compose import make_column_transformer\n",
    "from sklearn.metrics import confusion_matrix, precision_score, recall_score, f1_score, roc_curve\n",
    "\n",
    "import matplotlib\n",
    "matplotlib.rcParams[\"font.family\"]=\"Malgun Gothic\"\n",
    "matplotlib.rcParams[\"axes.unicode_minus\"]= False"
   ]
  },
  {
   "cell_type": "code",
   "execution_count": 95,
   "id": "78284909",
   "metadata": {
    "ExecuteTime": {
     "end_time": "2021-07-22T08:47:20.017986Z",
     "start_time": "2021-07-22T08:47:19.912269Z"
    },
    "scrolled": true
   },
   "outputs": [
    {
     "data": {
      "text/html": [
       "<div>\n",
       "<style scoped>\n",
       "    .dataframe tbody tr th:only-of-type {\n",
       "        vertical-align: middle;\n",
       "    }\n",
       "\n",
       "    .dataframe tbody tr th {\n",
       "        vertical-align: top;\n",
       "    }\n",
       "\n",
       "    .dataframe thead th {\n",
       "        text-align: right;\n",
       "    }\n",
       "</style>\n",
       "<table border=\"1\" class=\"dataframe\">\n",
       "  <thead>\n",
       "    <tr style=\"text-align: right;\">\n",
       "      <th></th>\n",
       "      <th>survived</th>\n",
       "      <th>pclass</th>\n",
       "      <th>sex</th>\n",
       "      <th>age</th>\n",
       "      <th>sibsp</th>\n",
       "      <th>parch</th>\n",
       "      <th>fare</th>\n",
       "      <th>embarked</th>\n",
       "      <th>class</th>\n",
       "      <th>who</th>\n",
       "      <th>adult_male</th>\n",
       "      <th>deck</th>\n",
       "      <th>embark_town</th>\n",
       "      <th>alive</th>\n",
       "      <th>alone</th>\n",
       "    </tr>\n",
       "  </thead>\n",
       "  <tbody>\n",
       "    <tr>\n",
       "      <th>0</th>\n",
       "      <td>0</td>\n",
       "      <td>3</td>\n",
       "      <td>male</td>\n",
       "      <td>22.0</td>\n",
       "      <td>1</td>\n",
       "      <td>0</td>\n",
       "      <td>7.2500</td>\n",
       "      <td>S</td>\n",
       "      <td>Third</td>\n",
       "      <td>man</td>\n",
       "      <td>True</td>\n",
       "      <td>NaN</td>\n",
       "      <td>Southampton</td>\n",
       "      <td>no</td>\n",
       "      <td>False</td>\n",
       "    </tr>\n",
       "    <tr>\n",
       "      <th>1</th>\n",
       "      <td>1</td>\n",
       "      <td>1</td>\n",
       "      <td>female</td>\n",
       "      <td>38.0</td>\n",
       "      <td>1</td>\n",
       "      <td>0</td>\n",
       "      <td>71.2833</td>\n",
       "      <td>C</td>\n",
       "      <td>First</td>\n",
       "      <td>woman</td>\n",
       "      <td>False</td>\n",
       "      <td>C</td>\n",
       "      <td>Cherbourg</td>\n",
       "      <td>yes</td>\n",
       "      <td>False</td>\n",
       "    </tr>\n",
       "    <tr>\n",
       "      <th>2</th>\n",
       "      <td>1</td>\n",
       "      <td>3</td>\n",
       "      <td>female</td>\n",
       "      <td>26.0</td>\n",
       "      <td>0</td>\n",
       "      <td>0</td>\n",
       "      <td>7.9250</td>\n",
       "      <td>S</td>\n",
       "      <td>Third</td>\n",
       "      <td>woman</td>\n",
       "      <td>False</td>\n",
       "      <td>NaN</td>\n",
       "      <td>Southampton</td>\n",
       "      <td>yes</td>\n",
       "      <td>True</td>\n",
       "    </tr>\n",
       "    <tr>\n",
       "      <th>3</th>\n",
       "      <td>1</td>\n",
       "      <td>1</td>\n",
       "      <td>female</td>\n",
       "      <td>35.0</td>\n",
       "      <td>1</td>\n",
       "      <td>0</td>\n",
       "      <td>53.1000</td>\n",
       "      <td>S</td>\n",
       "      <td>First</td>\n",
       "      <td>woman</td>\n",
       "      <td>False</td>\n",
       "      <td>C</td>\n",
       "      <td>Southampton</td>\n",
       "      <td>yes</td>\n",
       "      <td>False</td>\n",
       "    </tr>\n",
       "    <tr>\n",
       "      <th>4</th>\n",
       "      <td>0</td>\n",
       "      <td>3</td>\n",
       "      <td>male</td>\n",
       "      <td>35.0</td>\n",
       "      <td>0</td>\n",
       "      <td>0</td>\n",
       "      <td>8.0500</td>\n",
       "      <td>S</td>\n",
       "      <td>Third</td>\n",
       "      <td>man</td>\n",
       "      <td>True</td>\n",
       "      <td>NaN</td>\n",
       "      <td>Southampton</td>\n",
       "      <td>no</td>\n",
       "      <td>True</td>\n",
       "    </tr>\n",
       "    <tr>\n",
       "      <th>...</th>\n",
       "      <td>...</td>\n",
       "      <td>...</td>\n",
       "      <td>...</td>\n",
       "      <td>...</td>\n",
       "      <td>...</td>\n",
       "      <td>...</td>\n",
       "      <td>...</td>\n",
       "      <td>...</td>\n",
       "      <td>...</td>\n",
       "      <td>...</td>\n",
       "      <td>...</td>\n",
       "      <td>...</td>\n",
       "      <td>...</td>\n",
       "      <td>...</td>\n",
       "      <td>...</td>\n",
       "    </tr>\n",
       "    <tr>\n",
       "      <th>886</th>\n",
       "      <td>0</td>\n",
       "      <td>2</td>\n",
       "      <td>male</td>\n",
       "      <td>27.0</td>\n",
       "      <td>0</td>\n",
       "      <td>0</td>\n",
       "      <td>13.0000</td>\n",
       "      <td>S</td>\n",
       "      <td>Second</td>\n",
       "      <td>man</td>\n",
       "      <td>True</td>\n",
       "      <td>NaN</td>\n",
       "      <td>Southampton</td>\n",
       "      <td>no</td>\n",
       "      <td>True</td>\n",
       "    </tr>\n",
       "    <tr>\n",
       "      <th>887</th>\n",
       "      <td>1</td>\n",
       "      <td>1</td>\n",
       "      <td>female</td>\n",
       "      <td>19.0</td>\n",
       "      <td>0</td>\n",
       "      <td>0</td>\n",
       "      <td>30.0000</td>\n",
       "      <td>S</td>\n",
       "      <td>First</td>\n",
       "      <td>woman</td>\n",
       "      <td>False</td>\n",
       "      <td>B</td>\n",
       "      <td>Southampton</td>\n",
       "      <td>yes</td>\n",
       "      <td>True</td>\n",
       "    </tr>\n",
       "    <tr>\n",
       "      <th>888</th>\n",
       "      <td>0</td>\n",
       "      <td>3</td>\n",
       "      <td>female</td>\n",
       "      <td>NaN</td>\n",
       "      <td>1</td>\n",
       "      <td>2</td>\n",
       "      <td>23.4500</td>\n",
       "      <td>S</td>\n",
       "      <td>Third</td>\n",
       "      <td>woman</td>\n",
       "      <td>False</td>\n",
       "      <td>NaN</td>\n",
       "      <td>Southampton</td>\n",
       "      <td>no</td>\n",
       "      <td>False</td>\n",
       "    </tr>\n",
       "    <tr>\n",
       "      <th>889</th>\n",
       "      <td>1</td>\n",
       "      <td>1</td>\n",
       "      <td>male</td>\n",
       "      <td>26.0</td>\n",
       "      <td>0</td>\n",
       "      <td>0</td>\n",
       "      <td>30.0000</td>\n",
       "      <td>C</td>\n",
       "      <td>First</td>\n",
       "      <td>man</td>\n",
       "      <td>True</td>\n",
       "      <td>C</td>\n",
       "      <td>Cherbourg</td>\n",
       "      <td>yes</td>\n",
       "      <td>True</td>\n",
       "    </tr>\n",
       "    <tr>\n",
       "      <th>890</th>\n",
       "      <td>0</td>\n",
       "      <td>3</td>\n",
       "      <td>male</td>\n",
       "      <td>32.0</td>\n",
       "      <td>0</td>\n",
       "      <td>0</td>\n",
       "      <td>7.7500</td>\n",
       "      <td>Q</td>\n",
       "      <td>Third</td>\n",
       "      <td>man</td>\n",
       "      <td>True</td>\n",
       "      <td>NaN</td>\n",
       "      <td>Queenstown</td>\n",
       "      <td>no</td>\n",
       "      <td>True</td>\n",
       "    </tr>\n",
       "  </tbody>\n",
       "</table>\n",
       "<p>891 rows × 15 columns</p>\n",
       "</div>"
      ],
      "text/plain": [
       "     survived  pclass     sex   age  sibsp  parch     fare embarked   class  \\\n",
       "0           0       3    male  22.0      1      0   7.2500        S   Third   \n",
       "1           1       1  female  38.0      1      0  71.2833        C   First   \n",
       "2           1       3  female  26.0      0      0   7.9250        S   Third   \n",
       "3           1       1  female  35.0      1      0  53.1000        S   First   \n",
       "4           0       3    male  35.0      0      0   8.0500        S   Third   \n",
       "..        ...     ...     ...   ...    ...    ...      ...      ...     ...   \n",
       "886         0       2    male  27.0      0      0  13.0000        S  Second   \n",
       "887         1       1  female  19.0      0      0  30.0000        S   First   \n",
       "888         0       3  female   NaN      1      2  23.4500        S   Third   \n",
       "889         1       1    male  26.0      0      0  30.0000        C   First   \n",
       "890         0       3    male  32.0      0      0   7.7500        Q   Third   \n",
       "\n",
       "       who  adult_male deck  embark_town alive  alone  \n",
       "0      man        True  NaN  Southampton    no  False  \n",
       "1    woman       False    C    Cherbourg   yes  False  \n",
       "2    woman       False  NaN  Southampton   yes   True  \n",
       "3    woman       False    C  Southampton   yes  False  \n",
       "4      man        True  NaN  Southampton    no   True  \n",
       "..     ...         ...  ...          ...   ...    ...  \n",
       "886    man        True  NaN  Southampton    no   True  \n",
       "887  woman       False    B  Southampton   yes   True  \n",
       "888  woman       False  NaN  Southampton    no  False  \n",
       "889    man        True    C    Cherbourg   yes   True  \n",
       "890    man        True  NaN   Queenstown    no   True  \n",
       "\n",
       "[891 rows x 15 columns]"
      ]
     },
     "execution_count": 95,
     "metadata": {},
     "output_type": "execute_result"
    }
   ],
   "source": [
    "titanic = sns.load_dataset('titanic')\n",
    "titanic"
   ]
  },
  {
   "cell_type": "markdown",
   "id": "7b1f8fb8",
   "metadata": {},
   "source": [
    "# 문제\n",
    "\n",
    "feature: pclass, sex, fare\n",
    "label: survived\n",
    "1. 1등급, female, 32달러 인경우 생사유무를 예측하시요 \n",
    "2. train, test, f1 score 를 구하시요\n",
    "3. confusion matrix 를 구하고 heatmap 을 그리시요.\n",
    "4. roc curve 를 그리시요.\n",
    "5~ 8 .titanic 통계값을 구하시요(문제는 자율)"
   ]
  },
  {
   "cell_type": "code",
   "execution_count": 96,
   "id": "76273c96",
   "metadata": {
    "ExecuteTime": {
     "end_time": "2021-07-22T08:47:20.311202Z",
     "start_time": "2021-07-22T08:47:20.259341Z"
    }
   },
   "outputs": [],
   "source": [
    "titanic1 = pd.get_dummies(titanic)"
   ]
  },
  {
   "cell_type": "code",
   "execution_count": 97,
   "id": "de1ff44f",
   "metadata": {
    "ExecuteTime": {
     "end_time": "2021-07-22T08:47:20.452826Z",
     "start_time": "2021-07-22T08:47:20.432877Z"
    }
   },
   "outputs": [],
   "source": [
    "x_data = titanic1[['pclass','sex_female','sex_male','fare']]\n",
    "y_data = titanic['survived']"
   ]
  },
  {
   "cell_type": "code",
   "execution_count": 98,
   "id": "6db1fd7f",
   "metadata": {
    "ExecuteTime": {
     "end_time": "2021-07-22T08:47:20.655280Z",
     "start_time": "2021-07-22T08:47:20.590462Z"
    },
    "scrolled": true
   },
   "outputs": [
    {
     "data": {
      "text/plain": [
       "Pipeline(steps=[('standardscaler', StandardScaler()),\n",
       "                ('logisticregression', LogisticRegression())])"
      ]
     },
     "execution_count": 98,
     "metadata": {},
     "output_type": "execute_result"
    }
   ],
   "source": [
    "x_train, x_test, y_train, y_test = train_test_split(x_data, y_data, \n",
    "                                test_size=0.2,random_state=1)\n",
    "model=make_pipeline(StandardScaler(),LogisticRegression() )\n",
    "model.fit(x_train, y_train)\n"
   ]
  },
  {
   "cell_type": "markdown",
   "id": "24b8da9f",
   "metadata": {},
   "source": [
    "### 1. 1등급, female, 32달러 인경우 생사유무를 예측하시요 "
   ]
  },
  {
   "cell_type": "code",
   "execution_count": 99,
   "id": "0cf08a81",
   "metadata": {
    "ExecuteTime": {
     "end_time": "2021-07-22T08:47:20.949537Z",
     "start_time": "2021-07-22T08:47:20.920613Z"
    },
    "scrolled": false
   },
   "outputs": [
    {
     "data": {
      "text/plain": [
       "array([1], dtype=int64)"
      ]
     },
     "execution_count": 99,
     "metadata": {},
     "output_type": "execute_result"
    }
   ],
   "source": [
    "p=model.predict([[1,1,0,32]])\n",
    "p # survived = 1 "
   ]
  },
  {
   "cell_type": "markdown",
   "id": "7a7b174c",
   "metadata": {},
   "source": [
    "### 2. train, test, f1 score 를 구하시요"
   ]
  },
  {
   "cell_type": "code",
   "execution_count": 100,
   "id": "5b22dbe7",
   "metadata": {
    "ExecuteTime": {
     "end_time": "2021-07-22T08:47:21.309513Z",
     "start_time": "2021-07-22T08:47:21.276595Z"
    },
    "scrolled": true
   },
   "outputs": [
    {
     "name": "stdout",
     "output_type": "stream",
     "text": [
      "train:  0.7893258426966292\n",
      "test:  0.776536312849162\n"
     ]
    }
   ],
   "source": [
    "print('train: ', model.score(x_train, y_train))\n",
    "print('test: ', model.score(x_test, y_test))"
   ]
  },
  {
   "cell_type": "code",
   "execution_count": 101,
   "id": "040f5423",
   "metadata": {
    "ExecuteTime": {
     "end_time": "2021-07-22T08:47:21.483048Z",
     "start_time": "2021-07-22T08:47:21.436177Z"
    },
    "scrolled": true
   },
   "outputs": [
    {
     "name": "stdout",
     "output_type": "stream",
     "text": [
      "precision :  0.7538461538461538\n",
      "recall :  0.6712328767123288\n",
      "f1 score :  0.7101449275362318\n"
     ]
    }
   ],
   "source": [
    "y_test_pred = model.predict(x_test)\n",
    "ps = precision_score(y_test, y_test_pred)\n",
    "rs = recall_score(y_test, y_test_pred)\n",
    "f1score = (2 * ps * rs) / (ps + rs)\n",
    "print('precision : ', precision_score(y_test, y_test_pred))\n",
    "print('recall : ', recall_score(y_test, y_test_pred))\n",
    "print('f1 score : ', f1score)"
   ]
  },
  {
   "cell_type": "markdown",
   "id": "90a9edbc",
   "metadata": {},
   "source": [
    "### 3. confusion matrix 를 구하고 heatmap 을 그리시요."
   ]
  },
  {
   "cell_type": "code",
   "execution_count": 102,
   "id": "571561d4",
   "metadata": {
    "ExecuteTime": {
     "end_time": "2021-07-22T08:47:22.302374Z",
     "start_time": "2021-07-22T08:47:21.778252Z"
    },
    "scrolled": false
   },
   "outputs": [
    {
     "data": {
      "image/png": "[encoded data removed]",
      "text/plain": [
       "<Figure size 864x720 with 2 Axes>"
      ]
     },
     "metadata": {
      "needs_background": "light"
     },
     "output_type": "display_data"
    }
   ],
   "source": [
    "cm_train = confusion_matrix(y_test, y_test_pred)\n",
    "plt.figure(figsize=(12,10))\n",
    "sns.heatmap(cm_train, annot = True,fmt='d',yticklabels = ['사망', '생존'], xticklabels = ['사망예측', '생존예측'])\n",
    "plt.show()"
   ]
  },
  {
   "cell_type": "markdown",
   "id": "11525b8c",
   "metadata": {},
   "source": [
    "### 4. roc curve 를 그리시요."
   ]
  },
  {
   "cell_type": "code",
   "execution_count": 103,
   "id": "bbd49e69",
   "metadata": {
    "ExecuteTime": {
     "end_time": "2021-07-22T08:47:22.333803Z",
     "start_time": "2021-07-22T08:47:22.305367Z"
    }
   },
   "outputs": [
    {
     "data": {
      "text/plain": [
       "array([[0.08894919, 0.91105081],\n",
       "       [0.90923917, 0.09076083],\n",
       "       [0.20878765, 0.79121235],\n",
       "       [0.41519249, 0.58480751],\n",
       "       [0.20787783, 0.79212217],\n",
       "       [0.90924038, 0.09075962],\n",
       "       [0.78737235, 0.21262765],\n",
       "       [0.088181  , 0.911819  ],\n",
       "       [0.57459024, 0.42540976],\n",
       "       [0.4145665 , 0.5854335 ],\n",
       "       [0.90923917, 0.09076083],\n",
       "       [0.41521056, 0.58478944],\n",
       "       [0.57718296, 0.42281704],\n",
       "       [0.78813364, 0.21186636],\n",
       "       [0.41522545, 0.58477455],\n",
       "       [0.57934506, 0.42065494],\n",
       "       [0.90865932, 0.09134068],\n",
       "       [0.90900176, 0.09099824],\n",
       "       [0.90923917, 0.09076083],\n",
       "       [0.20831072, 0.79168928],\n",
       "       [0.90923833, 0.09076167],\n",
       "       [0.90904943, 0.09095057],\n",
       "       [0.08828232, 0.91171768],\n",
       "       [0.78457375, 0.21542625],\n",
       "       [0.4146554 , 0.5853446 ],\n",
       "       [0.90921701, 0.09078299],\n",
       "       [0.08246263, 0.91753737],\n",
       "       [0.20864304, 0.79135696],\n",
       "       [0.78827981, 0.21172019],\n",
       "       [0.08544757, 0.91455243],\n",
       "       [0.41499017, 0.58500983],\n",
       "       [0.57900786, 0.42099214],\n",
       "       [0.41322618, 0.58677382],\n",
       "       [0.41521056, 0.58478944],\n",
       "       [0.90924339, 0.09075661],\n",
       "       [0.41321662, 0.58678338],\n",
       "       [0.57936747, 0.42063253],\n",
       "       [0.90925603, 0.09074397],\n",
       "       [0.57687699, 0.42312301],\n",
       "       [0.90924038, 0.09075962],\n",
       "       [0.41521056, 0.58478944],\n",
       "       [0.41493774, 0.58506226],\n",
       "       [0.08819638, 0.91180362],\n",
       "       [0.57917861, 0.42082139],\n",
       "       [0.78672637, 0.21327363],\n",
       "       [0.90926362, 0.09073638],\n",
       "       [0.90810549, 0.09189451],\n",
       "       [0.78813364, 0.21186636],\n",
       "       [0.5374155 , 0.4625845 ],\n",
       "       [0.78827981, 0.21172019],\n",
       "       [0.78801372, 0.21198628],\n",
       "       [0.20878765, 0.79121235],\n",
       "       [0.78827981, 0.21172019],\n",
       "       [0.78827981, 0.21172019],\n",
       "       [0.90919279, 0.09080721],\n",
       "       [0.41453675, 0.58546325],\n",
       "       [0.78827981, 0.21172019],\n",
       "       [0.5788524 , 0.4211476 ],\n",
       "       [0.90856116, 0.09143884],\n",
       "       [0.41514785, 0.58485215],\n",
       "       [0.40997951, 0.59002049],\n",
       "       [0.90925844, 0.09074156],\n",
       "       [0.7869616 , 0.2130384 ],\n",
       "       [0.57934506, 0.42065494],\n",
       "       [0.57707718, 0.42292282],\n",
       "       [0.41458811, 0.58541189],\n",
       "       [0.90901214, 0.09098786],\n",
       "       [0.90892387, 0.09107613],\n",
       "       [0.41499478, 0.58500522],\n",
       "       [0.78735769, 0.21264231],\n",
       "       [0.90876827, 0.09123173],\n",
       "       [0.90831608, 0.09168392],\n",
       "       [0.57484456, 0.42515544],\n",
       "       [0.90923917, 0.09076083],\n",
       "       [0.20878765, 0.79121235],\n",
       "       [0.78672637, 0.21327363],\n",
       "       [0.08821199, 0.91178801],\n",
       "       [0.90924339, 0.09075661],\n",
       "       [0.57907616, 0.42092384],\n",
       "       [0.08724492, 0.91275508],\n",
       "       [0.90782464, 0.09217536],\n",
       "       [0.90744133, 0.09255867],\n",
       "       [0.90923472, 0.09076528],\n",
       "       [0.90927963, 0.09072037],\n",
       "       [0.20859726, 0.79140274],\n",
       "       [0.90919328, 0.09080672],\n",
       "       [0.90923472, 0.09076528],\n",
       "       [0.90925856, 0.09074144],\n",
       "       [0.41322618, 0.58677382],\n",
       "       [0.20818078, 0.79181922],\n",
       "       [0.57942721, 0.42057279],\n",
       "       [0.90921556, 0.09078444],\n",
       "       [0.90924363, 0.09075637],\n",
       "       [0.41522545, 0.58477455],\n",
       "       [0.90919279, 0.09080721],\n",
       "       [0.57924263, 0.42075737],\n",
       "       [0.90925784, 0.09074216],\n",
       "       [0.4152701 , 0.5847299 ],\n",
       "       [0.90923917, 0.09076083],\n",
       "       [0.90923917, 0.09076083],\n",
       "       [0.57823075, 0.42176925],\n",
       "       [0.5816096 , 0.4183904 ],\n",
       "       [0.90902651, 0.09097349],\n",
       "       [0.4146554 , 0.5853446 ],\n",
       "       [0.08804369, 0.91195631],\n",
       "       [0.90920075, 0.09079925],\n",
       "       [0.90923472, 0.09076528],\n",
       "       [0.90923977, 0.09076023],\n",
       "       [0.90831608, 0.09168392],\n",
       "       [0.90921701, 0.09078299],\n",
       "       [0.57674982, 0.42325018],\n",
       "       [0.90925844, 0.09074156],\n",
       "       [0.78813364, 0.21186636],\n",
       "       [0.90924266, 0.09075734],\n",
       "       [0.78813364, 0.21186636],\n",
       "       [0.90924266, 0.09075734],\n",
       "       [0.78766539, 0.21233461],\n",
       "       [0.5771712 , 0.4228288 ],\n",
       "       [0.20789225, 0.79210775],\n",
       "       [0.41514608, 0.58485392],\n",
       "       [0.20789225, 0.79210775],\n",
       "       [0.57480604, 0.42519396],\n",
       "       [0.90923917, 0.09076083],\n",
       "       [0.78822135, 0.21177865],\n",
       "       [0.08508379, 0.91491621],\n",
       "       [0.08883371, 0.91116629],\n",
       "       [0.20864304, 0.79135696],\n",
       "       [0.41522332, 0.58477668],\n",
       "       [0.90744133, 0.09255867],\n",
       "       [0.90924339, 0.09075661],\n",
       "       [0.90923917, 0.09076083],\n",
       "       [0.90923833, 0.09076167],\n",
       "       [0.41424706, 0.58575294],\n",
       "       [0.57505605, 0.42494395],\n",
       "       [0.41453675, 0.58546325],\n",
       "       [0.08558532, 0.91441468],\n",
       "       [0.08743617, 0.91256383],\n",
       "       [0.90810549, 0.09189451],\n",
       "       [0.90927963, 0.09072037],\n",
       "       [0.41524246, 0.58475754],\n",
       "       [0.08544757, 0.91455243],\n",
       "       [0.90876827, 0.09123173],\n",
       "       [0.08631508, 0.91368492],\n",
       "       [0.41519993, 0.58480007],\n",
       "       [0.90924266, 0.09075734],\n",
       "       [0.414371  , 0.585629  ],\n",
       "       [0.78827981, 0.21172019],\n",
       "       [0.90923472, 0.09076528],\n",
       "       [0.41340878, 0.58659122],\n",
       "       [0.90923917, 0.09076083],\n",
       "       [0.41483961, 0.58516039],\n",
       "       [0.90946713, 0.09053287],\n",
       "       [0.9086237 , 0.0913763 ],\n",
       "       [0.41522545, 0.58477455],\n",
       "       [0.90782464, 0.09217536],\n",
       "       [0.90922568, 0.09077432],\n",
       "       [0.90925784, 0.09074216],\n",
       "       [0.90924917, 0.09075083],\n",
       "       [0.20859341, 0.79140659],\n",
       "       [0.78813364, 0.21186636],\n",
       "       [0.78737235, 0.21262765],\n",
       "       [0.90919279, 0.09080721],\n",
       "       [0.41523395, 0.58476605],\n",
       "       [0.57858093, 0.42141907],\n",
       "       [0.90921701, 0.09078299],\n",
       "       [0.4146554 , 0.5853446 ],\n",
       "       [0.20783458, 0.79216542],\n",
       "       [0.90782464, 0.09217536],\n",
       "       [0.90923472, 0.09076528],\n",
       "       [0.57192517, 0.42807483],\n",
       "       [0.07607621, 0.92392379],\n",
       "       [0.41322618, 0.58677382],\n",
       "       [0.08724492, 0.91275508],\n",
       "       [0.90924038, 0.09075962],\n",
       "       [0.08894919, 0.91105081],\n",
       "       [0.5816096 , 0.4183904 ],\n",
       "       [0.90924387, 0.09075613],\n",
       "       [0.90924387, 0.09075613],\n",
       "       [0.41424706, 0.58575294]])"
      ]
     },
     "execution_count": 103,
     "metadata": {},
     "output_type": "execute_result"
    }
   ],
   "source": [
    "p = model.predict_proba (x_test)\n",
    "p"
   ]
  },
  {
   "cell_type": "code",
   "execution_count": 104,
   "id": "b2ebb3fc",
   "metadata": {
    "ExecuteTime": {
     "end_time": "2021-07-22T08:47:22.365718Z",
     "start_time": "2021-07-22T08:47:22.335798Z"
    }
   },
   "outputs": [
    {
     "data": {
      "text/html": [
       "<div>\n",
       "<style scoped>\n",
       "    .dataframe tbody tr th:only-of-type {\n",
       "        vertical-align: middle;\n",
       "    }\n",
       "\n",
       "    .dataframe tbody tr th {\n",
       "        vertical-align: top;\n",
       "    }\n",
       "\n",
       "    .dataframe thead th {\n",
       "        text-align: right;\n",
       "    }\n",
       "</style>\n",
       "<table border=\"1\" class=\"dataframe\">\n",
       "  <thead>\n",
       "    <tr style=\"text-align: right;\">\n",
       "      <th></th>\n",
       "      <th>survived</th>\n",
       "    </tr>\n",
       "  </thead>\n",
       "  <tbody>\n",
       "    <tr>\n",
       "      <th>862</th>\n",
       "      <td>1</td>\n",
       "    </tr>\n",
       "    <tr>\n",
       "      <th>223</th>\n",
       "      <td>0</td>\n",
       "    </tr>\n",
       "    <tr>\n",
       "      <th>84</th>\n",
       "      <td>1</td>\n",
       "    </tr>\n",
       "    <tr>\n",
       "      <th>680</th>\n",
       "      <td>0</td>\n",
       "    </tr>\n",
       "    <tr>\n",
       "      <th>535</th>\n",
       "      <td>1</td>\n",
       "    </tr>\n",
       "    <tr>\n",
       "      <th>...</th>\n",
       "      <td>...</td>\n",
       "    </tr>\n",
       "    <tr>\n",
       "      <th>796</th>\n",
       "      <td>1</td>\n",
       "    </tr>\n",
       "    <tr>\n",
       "      <th>815</th>\n",
       "      <td>0</td>\n",
       "    </tr>\n",
       "    <tr>\n",
       "      <th>629</th>\n",
       "      <td>0</td>\n",
       "    </tr>\n",
       "    <tr>\n",
       "      <th>421</th>\n",
       "      <td>0</td>\n",
       "    </tr>\n",
       "    <tr>\n",
       "      <th>448</th>\n",
       "      <td>1</td>\n",
       "    </tr>\n",
       "  </tbody>\n",
       "</table>\n",
       "<p>179 rows × 1 columns</p>\n",
       "</div>"
      ],
      "text/plain": [
       "     survived\n",
       "862         1\n",
       "223         0\n",
       "84          1\n",
       "680         0\n",
       "535         1\n",
       "..        ...\n",
       "796         1\n",
       "815         0\n",
       "629         0\n",
       "421         0\n",
       "448         1\n",
       "\n",
       "[179 rows x 1 columns]"
      ]
     },
     "execution_count": 104,
     "metadata": {},
     "output_type": "execute_result"
    }
   ],
   "source": [
    "df = pd.DataFrame([y_test])\n",
    "df = df.T\n",
    "df # df['proba'] = p[:,1]"
   ]
  },
  {
   "cell_type": "code",
   "execution_count": 105,
   "id": "1b61e700",
   "metadata": {
    "ExecuteTime": {
     "end_time": "2021-07-22T08:47:22.493398Z",
     "start_time": "2021-07-22T08:47:22.458491Z"
    }
   },
   "outputs": [
    {
     "data": {
      "text/html": [
       "<div>\n",
       "<style scoped>\n",
       "    .dataframe tbody tr th:only-of-type {\n",
       "        vertical-align: middle;\n",
       "    }\n",
       "\n",
       "    .dataframe tbody tr th {\n",
       "        vertical-align: top;\n",
       "    }\n",
       "\n",
       "    .dataframe thead th {\n",
       "        text-align: right;\n",
       "    }\n",
       "</style>\n",
       "<table border=\"1\" class=\"dataframe\">\n",
       "  <thead>\n",
       "    <tr style=\"text-align: right;\">\n",
       "      <th></th>\n",
       "      <th>survived</th>\n",
       "      <th>proba</th>\n",
       "    </tr>\n",
       "  </thead>\n",
       "  <tbody>\n",
       "    <tr>\n",
       "      <th>862</th>\n",
       "      <td>1</td>\n",
       "      <td>0.911051</td>\n",
       "    </tr>\n",
       "    <tr>\n",
       "      <th>223</th>\n",
       "      <td>0</td>\n",
       "      <td>0.090761</td>\n",
       "    </tr>\n",
       "    <tr>\n",
       "      <th>84</th>\n",
       "      <td>1</td>\n",
       "      <td>0.791212</td>\n",
       "    </tr>\n",
       "    <tr>\n",
       "      <th>680</th>\n",
       "      <td>0</td>\n",
       "      <td>0.584808</td>\n",
       "    </tr>\n",
       "    <tr>\n",
       "      <th>535</th>\n",
       "      <td>1</td>\n",
       "      <td>0.792122</td>\n",
       "    </tr>\n",
       "    <tr>\n",
       "      <th>...</th>\n",
       "      <td>...</td>\n",
       "      <td>...</td>\n",
       "    </tr>\n",
       "    <tr>\n",
       "      <th>796</th>\n",
       "      <td>1</td>\n",
       "      <td>0.911051</td>\n",
       "    </tr>\n",
       "    <tr>\n",
       "      <th>815</th>\n",
       "      <td>0</td>\n",
       "      <td>0.418390</td>\n",
       "    </tr>\n",
       "    <tr>\n",
       "      <th>629</th>\n",
       "      <td>0</td>\n",
       "      <td>0.090756</td>\n",
       "    </tr>\n",
       "    <tr>\n",
       "      <th>421</th>\n",
       "      <td>0</td>\n",
       "      <td>0.090756</td>\n",
       "    </tr>\n",
       "    <tr>\n",
       "      <th>448</th>\n",
       "      <td>1</td>\n",
       "      <td>0.585753</td>\n",
       "    </tr>\n",
       "  </tbody>\n",
       "</table>\n",
       "<p>179 rows × 2 columns</p>\n",
       "</div>"
      ],
      "text/plain": [
       "     survived     proba\n",
       "862         1  0.911051\n",
       "223         0  0.090761\n",
       "84          1  0.791212\n",
       "680         0  0.584808\n",
       "535         1  0.792122\n",
       "..        ...       ...\n",
       "796         1  0.911051\n",
       "815         0  0.418390\n",
       "629         0  0.090756\n",
       "421         0  0.090756\n",
       "448         1  0.585753\n",
       "\n",
       "[179 rows x 2 columns]"
      ]
     },
     "execution_count": 105,
     "metadata": {},
     "output_type": "execute_result"
    }
   ],
   "source": [
    "df['proba'] = p[:,1]\n",
    "df"
   ]
  },
  {
   "cell_type": "code",
   "execution_count": 106,
   "id": "45d209a1",
   "metadata": {
    "ExecuteTime": {
     "end_time": "2021-07-22T08:47:23.039029Z",
     "start_time": "2021-07-22T08:47:22.620054Z"
    }
   },
   "outputs": [
    {
     "data": {
      "image/png": "[encoded data removed]",
      "text/plain": [
       "<Figure size 432x288 with 1 Axes>"
      ]
     },
     "metadata": {
      "needs_background": "light"
     },
     "output_type": "display_data"
    }
   ],
   "source": [
    "# roc_curve( y_test, p[:,1])\n",
    "fpr, tpr, thresholds = roc_curve( y_test, df['proba'].values )\n",
    "# print(fpr)\n",
    "# print(tpr)\n",
    "# print(thresholds)\n",
    "plt.plot(fpr, tpr, 'r--',)\n",
    "plt.plot([0,1],[0,1],'k--')\n",
    "plt.xlabel('FPR')\n",
    "plt.ylabel('TPR')\n",
    "plt.show()"
   ]
  },
  {
   "cell_type": "markdown",
   "id": "f45501cd",
   "metadata": {},
   "source": [
    "### 5 ~ 8 번 타이타닉 통계값  문제"
   ]
  },
  {
   "cell_type": "code",
   "execution_count": 107,
   "id": "3d22360d",
   "metadata": {
    "ExecuteTime": {
     "end_time": "2021-07-22T08:47:23.569709Z",
     "start_time": "2021-07-22T08:47:23.046020Z"
    }
   },
   "outputs": [
    {
     "data": {
      "image/png": "[encoded data removed]",
      "text/plain": [
       "<Figure size 1296x576 with 2 Axes>"
      ]
     },
     "metadata": {
      "needs_background": "light"
     },
     "output_type": "display_data"
    }
   ],
   "source": [
    "# 생존 사망 비율\n",
    "f, ax = plt.subplots(1, 2, figsize=(18, 8))\n",
    "\n",
    "titanic['survived'].value_counts().plot.pie(explode=[0, 0.1], autopct='%1.1f%%', ax=ax[0], shadow=True)\n",
    "ax[0].set_title('Pie plot - survived')\n",
    "ax[0].set_ylabel('')\n",
    "sns.countplot('survived', data=titanic, ax=ax[1])\n",
    "ax[1].set_title('Count plot - survived')\n",
    "\n",
    "plt.show()"
   ]
  },
  {
   "cell_type": "code",
   "execution_count": 109,
   "id": "2b8f6be2",
   "metadata": {
    "ExecuteTime": {
     "end_time": "2021-07-22T08:48:52.412481Z",
     "start_time": "2021-07-22T08:48:52.208222Z"
    }
   },
   "outputs": [
    {
     "data": {
      "text/plain": [
       "<AxesSubplot:xlabel='pclass'>"
      ]
     },
     "execution_count": 109,
     "metadata": {},
     "output_type": "execute_result"
    },
    {
     "data": {
      "image/png": "[encoded data removed]",
      "text/plain": [
       "<Figure size 432x288 with 1 Axes>"
      ]
     },
     "metadata": {
      "needs_background": "light"
     },
     "output_type": "display_data"
    }
   ],
   "source": [
    "# 클래스별 생존비율\n",
    "\n",
    "titanic[['pclass', 'survived']].groupby(['pclass'], as_index=True).mean().sort_values(by='survived', ascending=False).plot.bar()"
   ]
  },
  {
   "cell_type": "code",
   "execution_count": 110,
   "id": "5fb721f8",
   "metadata": {
    "ExecuteTime": {
     "end_time": "2021-07-22T08:52:40.548840Z",
     "start_time": "2021-07-22T08:52:40.498977Z"
    }
   },
   "outputs": [
    {
     "data": {
      "text/html": [
       "<div>\n",
       "<style scoped>\n",
       "    .dataframe tbody tr th:only-of-type {\n",
       "        vertical-align: middle;\n",
       "    }\n",
       "\n",
       "    .dataframe tbody tr th {\n",
       "        vertical-align: top;\n",
       "    }\n",
       "\n",
       "    .dataframe thead tr th {\n",
       "        text-align: left;\n",
       "    }\n",
       "\n",
       "    .dataframe thead tr:last-of-type th {\n",
       "        text-align: right;\n",
       "    }\n",
       "</style>\n",
       "<table border=\"1\" class=\"dataframe\">\n",
       "  <thead>\n",
       "    <tr>\n",
       "      <th></th>\n",
       "      <th colspan=\"3\" halign=\"left\">fare</th>\n",
       "    </tr>\n",
       "    <tr>\n",
       "      <th></th>\n",
       "      <th>min</th>\n",
       "      <th>max</th>\n",
       "      <th>mean</th>\n",
       "    </tr>\n",
       "    <tr>\n",
       "      <th>class</th>\n",
       "      <th></th>\n",
       "      <th></th>\n",
       "      <th></th>\n",
       "    </tr>\n",
       "  </thead>\n",
       "  <tbody>\n",
       "    <tr>\n",
       "      <th>First</th>\n",
       "      <td>0.0</td>\n",
       "      <td>512.3292</td>\n",
       "      <td>84.154687</td>\n",
       "    </tr>\n",
       "    <tr>\n",
       "      <th>Second</th>\n",
       "      <td>0.0</td>\n",
       "      <td>73.5000</td>\n",
       "      <td>20.662183</td>\n",
       "    </tr>\n",
       "    <tr>\n",
       "      <th>Third</th>\n",
       "      <td>0.0</td>\n",
       "      <td>69.5500</td>\n",
       "      <td>13.675550</td>\n",
       "    </tr>\n",
       "  </tbody>\n",
       "</table>\n",
       "</div>"
      ],
      "text/plain": [
       "       fare                     \n",
       "        min       max       mean\n",
       "class                           \n",
       "First   0.0  512.3292  84.154687\n",
       "Second  0.0   73.5000  20.662183\n",
       "Third   0.0   69.5500  13.675550"
      ]
     },
     "execution_count": 110,
     "metadata": {},
     "output_type": "execute_result"
    }
   ],
   "source": [
    "# class에 따른 fare 통계값 구하기\n",
    "df8 = titanic[['class','fare']]\n",
    "df8.groupby('class', as_index=False).agg(['min','max','mean'])  "
   ]
  },
  {
   "cell_type": "code",
   "execution_count": 111,
   "id": "d1d89be2",
   "metadata": {
    "ExecuteTime": {
     "end_time": "2021-07-22T08:53:26.512394Z",
     "start_time": "2021-07-22T08:53:26.134867Z"
    }
   },
   "outputs": [
    {
     "data": {
      "text/plain": [
       "<AxesSubplot:xlabel='alone', ylabel='count'>"
      ]
     },
     "execution_count": 111,
     "metadata": {},
     "output_type": "execute_result"
    },
    {
     "data": {
      "image/png": "[encoded data removed]",
      "text/plain": [
       "<Figure size 432x288 with 1 Axes>"
      ]
     },
     "metadata": {
      "needs_background": "light"
     },
     "output_type": "display_data"
    }
   ],
   "source": [
    "# 혼자 탑승(alone)한 여부와 생존 비율의 관계를 시각화하시오.\n",
    "sns.countplot(x='alone',hue = 'survived', data = titanic)"
   ]
  },
  {
   "cell_type": "code",
   "execution_count": null,
   "id": "b06538c1",
   "metadata": {},
   "outputs": [],
   "source": []
  }
 ],
 "metadata": {
  "kernelspec": {
   "display_name": "Python 3",
   "language": "python",
   "name": "python3"
  },
  "language_info": {
   "codemirror_mode": {
    "name": "ipython",
    "version": 3
   },
   "file_extension": ".py",
   "mimetype": "text/x-python",
   "name": "python",
   "nbconvert_exporter": "python",
   "pygments_lexer": "ipython3",
   "version": "3.8.8"
  },
  "latex_envs": {
   "LaTeX_envs_menu_present": true,
   "autoclose": false,
   "autocomplete": true,
   "bibliofile": "biblio.bib",
   "cite_by": "apalike",
   "current_citInitial": 1,
   "eqLabelWithNumbers": true,
   "eqNumInitial": 1,
   "hotkeys": {
    "equation": "Ctrl-E",
    "itemize": "Ctrl-I"
   },
   "labels_anchors": false,
   "latex_user_defs": false,
   "report_style_numbering": false,
   "user_envs_cfg": false
  }
 },
 "nbformat": 4,
 "nbformat_minor": 5
}
