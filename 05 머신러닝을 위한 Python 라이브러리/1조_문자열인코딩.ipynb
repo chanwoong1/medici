{
 "cells": [
  {
   "cell_type": "code",
   "execution_count": 17,
   "id": "fab8ae80-553b-4ecc-bc1e-13e0fe2a9b63",
   "metadata": {},
   "outputs": [],
   "source": [
    "import pandas as pd\n",
    "import numpy as np\n",
    "import seaborn as sns\n",
    "from sklearn.datasets import load_boston, load_iris\n",
    "\n",
    "from sklearn.linear_model import Ridge,Lasso,ElasticNet, LinearRegression\n",
    "from sklearn.preprocessing import PolynomialFeatures\n",
    "from sklearn.pipeline import make_pipeline, Pipeline\n",
    "\n",
    "from sklearn.preprocessing import StandardScaler\n",
    "\n",
    "from sklearn.neural_network import MLPRegressor\n",
    "from sklearn.model_selection import train_test_split\n",
    "from sklearn.model_selection import GridSearchCV\n",
    "from sklearn.model_selection import cross_val_score\n",
    "\n",
    "import mglearn\n",
    "import matplotlib.pyplot as plt\n",
    "import matplotlib\n",
    "\n",
    "from sklearn.preprocessing import OneHotEncoder, LabelEncoder\n",
    "\n",
    "matplotlib.rcParams['font.family']='Malgun Gothic'\n",
    "matplotlib.rcParams['axes.unicode_minus'] = False\n",
    "\n",
    "import warnings\n",
    "warnings.simplefilter('ignore')"
   ]
  },
  {
   "cell_type": "markdown",
   "id": "49bee243-d014-4b05-91a4-818d49232f2b",
   "metadata": {},
   "source": [
    "## 라벨인코딩을 수행한 후 자동차 가격 예측하기"
   ]
  },
  {
   "cell_type": "code",
   "execution_count": 18,
   "id": "c2a11d33-7547-4a68-872f-fda037554066",
   "metadata": {},
   "outputs": [],
   "source": [
    "train_df = pd.read_excel('data4/hyundaiCar.xlsx', sheet_name='train')"
   ]
  },
  {
   "cell_type": "code",
   "execution_count": 19,
   "id": "43262aba-b174-4cc2-a18c-8951a76e912c",
   "metadata": {},
   "outputs": [],
   "source": [
    "test_df = pd.read_excel('data4/hyundaiCar.xlsx', sheet_name='test')"
   ]
  },
  {
   "cell_type": "code",
   "execution_count": 20,
   "id": "f501baeb-1ff5-476c-be72-084392ee187d",
   "metadata": {},
   "outputs": [],
   "source": [
    "x_train = train_df.iloc[:, 1:]\n",
    "y_train = train_df['가격']"
   ]
  },
  {
   "cell_type": "code",
   "execution_count": 21,
   "id": "f79f2015-997c-45f9-a348-fd6cf9f28ac8",
   "metadata": {},
   "outputs": [],
   "source": [
    "x_test = test_df.iloc[:, 1:]\n",
    "y_test = test_df['가격']"
   ]
  },
  {
   "cell_type": "code",
   "execution_count": 22,
   "id": "eee34b22-15a2-411a-95da-8575570d18ae",
   "metadata": {},
   "outputs": [
    {
     "name": "stdout",
     "output_type": "stream",
     "text": [
      "['대형' '소형' '준중형' '중형']\n",
      "['LPG' '가솔린' '디젤']\n",
      "['수동' '자동']\n"
     ]
    }
   ],
   "source": [
    "lbl = LabelEncoder()\n",
    "x_lbl_size =  lbl.fit_transform(x_train['종류'])\n",
    "size = lbl.classes_\n",
    "x_train['종류'] = x_lbl_size\n",
    "print(size)\n",
    "\n",
    "x_lbl_fuel =  lbl.fit_transform(x_train['연료'])\n",
    "fuel = lbl.classes_\n",
    "x_train['연료'] = x_lbl_fuel\n",
    "print(fuel)\n",
    "\n",
    "x_lbl_alt =  lbl.fit_transform(x_train['변속기'])\n",
    "alt = lbl.classes_\n",
    "x_train['변속기'] = x_lbl_alt\n",
    "print(alt)"
   ]
  },
  {
   "cell_type": "code",
   "execution_count": 23,
   "id": "1106971f-af3d-4049-bcd7-8a297d1176f2",
   "metadata": {},
   "outputs": [
    {
     "data": {
      "text/html": [
       "<div>\n",
       "<style scoped>\n",
       "    .dataframe tbody tr th:only-of-type {\n",
       "        vertical-align: middle;\n",
       "    }\n",
       "\n",
       "    .dataframe tbody tr th {\n",
       "        vertical-align: top;\n",
       "    }\n",
       "\n",
       "    .dataframe thead th {\n",
       "        text-align: right;\n",
       "    }\n",
       "</style>\n",
       "<table border=\"1\" class=\"dataframe\">\n",
       "  <thead>\n",
       "    <tr style=\"text-align: right;\">\n",
       "      <th></th>\n",
       "      <th>년식</th>\n",
       "      <th>종류</th>\n",
       "      <th>연비</th>\n",
       "      <th>마력</th>\n",
       "      <th>토크</th>\n",
       "      <th>연료</th>\n",
       "      <th>하이브리드</th>\n",
       "      <th>배기량</th>\n",
       "      <th>중량</th>\n",
       "      <th>변속기</th>\n",
       "    </tr>\n",
       "  </thead>\n",
       "  <tbody>\n",
       "    <tr>\n",
       "      <th>0</th>\n",
       "      <td>2015</td>\n",
       "      <td>2</td>\n",
       "      <td>11.8</td>\n",
       "      <td>172</td>\n",
       "      <td>21.0</td>\n",
       "      <td>1</td>\n",
       "      <td>0</td>\n",
       "      <td>1999</td>\n",
       "      <td>1300</td>\n",
       "      <td>1</td>\n",
       "    </tr>\n",
       "    <tr>\n",
       "      <th>1</th>\n",
       "      <td>2015</td>\n",
       "      <td>2</td>\n",
       "      <td>12.3</td>\n",
       "      <td>204</td>\n",
       "      <td>27.0</td>\n",
       "      <td>1</td>\n",
       "      <td>0</td>\n",
       "      <td>1591</td>\n",
       "      <td>1300</td>\n",
       "      <td>1</td>\n",
       "    </tr>\n",
       "    <tr>\n",
       "      <th>2</th>\n",
       "      <td>2015</td>\n",
       "      <td>1</td>\n",
       "      <td>15.0</td>\n",
       "      <td>100</td>\n",
       "      <td>13.6</td>\n",
       "      <td>1</td>\n",
       "      <td>0</td>\n",
       "      <td>1368</td>\n",
       "      <td>1035</td>\n",
       "      <td>0</td>\n",
       "    </tr>\n",
       "    <tr>\n",
       "      <th>3</th>\n",
       "      <td>2014</td>\n",
       "      <td>1</td>\n",
       "      <td>14.0</td>\n",
       "      <td>140</td>\n",
       "      <td>17.0</td>\n",
       "      <td>1</td>\n",
       "      <td>0</td>\n",
       "      <td>1591</td>\n",
       "      <td>1090</td>\n",
       "      <td>1</td>\n",
       "    </tr>\n",
       "    <tr>\n",
       "      <th>4</th>\n",
       "      <td>2015</td>\n",
       "      <td>0</td>\n",
       "      <td>9.6</td>\n",
       "      <td>175</td>\n",
       "      <td>46.0</td>\n",
       "      <td>2</td>\n",
       "      <td>0</td>\n",
       "      <td>2497</td>\n",
       "      <td>1990</td>\n",
       "      <td>1</td>\n",
       "    </tr>\n",
       "    <tr>\n",
       "      <th>...</th>\n",
       "      <td>...</td>\n",
       "      <td>...</td>\n",
       "      <td>...</td>\n",
       "      <td>...</td>\n",
       "      <td>...</td>\n",
       "      <td>...</td>\n",
       "      <td>...</td>\n",
       "      <td>...</td>\n",
       "      <td>...</td>\n",
       "      <td>...</td>\n",
       "    </tr>\n",
       "    <tr>\n",
       "      <th>66</th>\n",
       "      <td>2015</td>\n",
       "      <td>3</td>\n",
       "      <td>8.5</td>\n",
       "      <td>290</td>\n",
       "      <td>34.8</td>\n",
       "      <td>1</td>\n",
       "      <td>0</td>\n",
       "      <td>3342</td>\n",
       "      <td>1901</td>\n",
       "      <td>1</td>\n",
       "    </tr>\n",
       "    <tr>\n",
       "      <th>67</th>\n",
       "      <td>2012</td>\n",
       "      <td>1</td>\n",
       "      <td>13.3</td>\n",
       "      <td>108</td>\n",
       "      <td>13.9</td>\n",
       "      <td>1</td>\n",
       "      <td>0</td>\n",
       "      <td>1396</td>\n",
       "      <td>1040</td>\n",
       "      <td>1</td>\n",
       "    </tr>\n",
       "    <tr>\n",
       "      <th>68</th>\n",
       "      <td>2015</td>\n",
       "      <td>2</td>\n",
       "      <td>12.8</td>\n",
       "      <td>186</td>\n",
       "      <td>41.0</td>\n",
       "      <td>2</td>\n",
       "      <td>0</td>\n",
       "      <td>1995</td>\n",
       "      <td>1665</td>\n",
       "      <td>1</td>\n",
       "    </tr>\n",
       "    <tr>\n",
       "      <th>69</th>\n",
       "      <td>2015</td>\n",
       "      <td>3</td>\n",
       "      <td>17.7</td>\n",
       "      <td>156</td>\n",
       "      <td>19.3</td>\n",
       "      <td>1</td>\n",
       "      <td>1</td>\n",
       "      <td>1999</td>\n",
       "      <td>1585</td>\n",
       "      <td>1</td>\n",
       "    </tr>\n",
       "    <tr>\n",
       "      <th>70</th>\n",
       "      <td>2015</td>\n",
       "      <td>0</td>\n",
       "      <td>13.8</td>\n",
       "      <td>202</td>\n",
       "      <td>45.0</td>\n",
       "      <td>2</td>\n",
       "      <td>0</td>\n",
       "      <td>2199</td>\n",
       "      <td>1691</td>\n",
       "      <td>1</td>\n",
       "    </tr>\n",
       "  </tbody>\n",
       "</table>\n",
       "<p>71 rows × 10 columns</p>\n",
       "</div>"
      ],
      "text/plain": [
       "      년식  종류    연비   마력    토크  연료  하이브리드   배기량    중량  변속기\n",
       "0   2015   2  11.8  172  21.0   1      0  1999  1300    1\n",
       "1   2015   2  12.3  204  27.0   1      0  1591  1300    1\n",
       "2   2015   1  15.0  100  13.6   1      0  1368  1035    0\n",
       "3   2014   1  14.0  140  17.0   1      0  1591  1090    1\n",
       "4   2015   0   9.6  175  46.0   2      0  2497  1990    1\n",
       "..   ...  ..   ...  ...   ...  ..    ...   ...   ...  ...\n",
       "66  2015   3   8.5  290  34.8   1      0  3342  1901    1\n",
       "67  2012   1  13.3  108  13.9   1      0  1396  1040    1\n",
       "68  2015   2  12.8  186  41.0   2      0  1995  1665    1\n",
       "69  2015   3  17.7  156  19.3   1      1  1999  1585    1\n",
       "70  2015   0  13.8  202  45.0   2      0  2199  1691    1\n",
       "\n",
       "[71 rows x 10 columns]"
      ]
     },
     "execution_count": 23,
     "metadata": {},
     "output_type": "execute_result"
    }
   ],
   "source": [
    "x_train"
   ]
  },
  {
   "cell_type": "code",
   "execution_count": 24,
   "id": "9124dd54-3305-4be7-afea-4cf605ffb67f",
   "metadata": {},
   "outputs": [],
   "source": [
    "x_test['종류'] = x_test['종류'].replace(['대형', '중형', '준중형', '소형'], [0,1,2,3])"
   ]
  },
  {
   "cell_type": "code",
   "execution_count": 25,
   "id": "0f632029-aae2-4b1d-9256-d684718150ba",
   "metadata": {},
   "outputs": [],
   "source": [
    "x_test['연료'] = x_test['연료'].replace(['LPG', '가솔린', '디젤'], [0,1,2])"
   ]
  },
  {
   "cell_type": "code",
   "execution_count": 26,
   "id": "705eaef5-6fb7-42a6-a5f2-4405cfe0253b",
   "metadata": {},
   "outputs": [],
   "source": [
    "x_test['변속기']= x_test['변속기'].replace(['수동', '자동'], [0,1])"
   ]
  },
  {
   "cell_type": "code",
   "execution_count": 27,
   "id": "3ece3484-83b9-439e-8775-dfdcc46a51ee",
   "metadata": {},
   "outputs": [
    {
     "name": "stdout",
     "output_type": "stream",
     "text": [
      "Fitting 10 folds for each of 54 candidates, totalling 540 fits\n"
     ]
    },
    {
     "data": {
      "text/plain": [
       "GridSearchCV(cv=10,\n",
       "             estimator=Pipeline(steps=[('scl', StandardScaler()),\n",
       "                                       ('esn', ElasticNet())]),\n",
       "             param_grid={'esn__alpha': [0.001, 0.01, 1, 2, 3, 4],\n",
       "                         'esn__l1_ratio': [0, 0.01, 0.1, 0.2, 0.3, 0.4, 0.5,\n",
       "                                           0.7, 1.0]},\n",
       "             scoring='r2', verbose=1)"
      ]
     },
     "execution_count": 27,
     "metadata": {},
     "output_type": "execute_result"
    }
   ],
   "source": [
    "model_Ela = Pipeline([('scl', StandardScaler()), ('esn', ElasticNet())])\n",
    "param_value = {'esn__alpha':[0.001, 0.01, 1,2,3,4], 'esn__l1_ratio':[0,0.01, 0.1, 0.2,0.3, 0.4, 0.5, 0.7, 1.0]}\n",
    "gridSearch = GridSearchCV(model_Ela, param_grid=param_value, cv=10, verbose=1, scoring='r2')\n",
    "\n",
    "gridSearch.fit(x_train, y_train)"
   ]
  },
  {
   "cell_type": "code",
   "execution_count": 28,
   "id": "2a63195f-78d5-4429-8844-db5abadb77e3",
   "metadata": {},
   "outputs": [
    {
     "data": {
      "text/plain": [
       "Pipeline(steps=[('scl', StandardScaler()),\n",
       "                ('esn', ElasticNet(alpha=0.01, l1_ratio=0))])"
      ]
     },
     "execution_count": 28,
     "metadata": {},
     "output_type": "execute_result"
    }
   ],
   "source": [
    "gridSearch.best_estimator_"
   ]
  },
  {
   "cell_type": "code",
   "execution_count": 29,
   "id": "201c98e8-8bf2-49e5-b8b4-7ee9e6740c23",
   "metadata": {},
   "outputs": [
    {
     "name": "stdout",
     "output_type": "stream",
     "text": [
      "0.8736892155670837\n",
      "0.759643821805259\n"
     ]
    }
   ],
   "source": [
    "print(gridSearch.score(x_train, y_train))\n",
    "print(gridSearch.score(x_test, y_test))"
   ]
  },
  {
   "cell_type": "code",
   "execution_count": 30,
   "id": "9e58670a-d109-47a7-b6aa-7840c98802f5",
   "metadata": {},
   "outputs": [
    {
     "data": {
      "text/plain": [
       "array([2100.64922277])"
      ]
     },
     "execution_count": 30,
     "metadata": {},
     "output_type": "execute_result"
    }
   ],
   "source": [
    "gridSearch.predict([[2015, 2, 12.3, 204, 27,1,0,1591,1300,1]])"
   ]
  },
  {
   "cell_type": "code",
   "execution_count": 31,
   "id": "8cc1577c-ef7d-428f-a72c-4a9bf98a2594",
   "metadata": {},
   "outputs": [
    {
     "name": "stdout",
     "output_type": "stream",
     "text": [
      "Fitting 10 folds for each of 6 candidates, totalling 60 fits\n"
     ]
    },
    {
     "data": {
      "text/plain": [
       "GridSearchCV(cv=10,\n",
       "             estimator=Pipeline(steps=[('scl', StandardScaler()),\n",
       "                                       ('rd', Ridge())]),\n",
       "             param_grid={'rd__alpha': [0.001, 0.01, 1, 2, 3, 4]}, scoring='r2',\n",
       "             verbose=1)"
      ]
     },
     "execution_count": 31,
     "metadata": {},
     "output_type": "execute_result"
    }
   ],
   "source": [
    "model_rdg = Pipeline([('scl', StandardScaler()), ('rd', Ridge())])\n",
    "param_value = {'rd__alpha':[0.001, 0.01, 1,2,3,4]}\n",
    "gridSearch = GridSearchCV(model_rdg, param_grid=param_value, cv=10, verbose=1, scoring='r2')\n",
    "\n",
    "gridSearch.fit(x_train, y_train)"
   ]
  },
  {
   "cell_type": "code",
   "execution_count": 32,
   "id": "9a96ae3d-ae82-47d0-b20c-2697580e177a",
   "metadata": {},
   "outputs": [
    {
     "data": {
      "text/plain": [
       "Pipeline(steps=[('scl', StandardScaler()), ('rd', Ridge(alpha=3))])"
      ]
     },
     "execution_count": 32,
     "metadata": {},
     "output_type": "execute_result"
    }
   ],
   "source": [
    "gridSearch.best_estimator_"
   ]
  },
  {
   "cell_type": "code",
   "execution_count": 33,
   "id": "e1124428-4612-43b5-8ab3-7bc71d728ffa",
   "metadata": {},
   "outputs": [
    {
     "name": "stdout",
     "output_type": "stream",
     "text": [
      "0.8701396090670609\n",
      "0.7463989336745318\n"
     ]
    }
   ],
   "source": [
    "print(gridSearch.score(x_train, y_train))\n",
    "print(gridSearch.score(x_test, y_test))"
   ]
  },
  {
   "cell_type": "code",
   "execution_count": 34,
   "id": "c224f0a8-1624-4ef1-a176-49224fbf7c58",
   "metadata": {},
   "outputs": [
    {
     "data": {
      "text/plain": [
       "array([2252.52136462])"
      ]
     },
     "execution_count": 34,
     "metadata": {},
     "output_type": "execute_result"
    }
   ],
   "source": [
    "gridSearch.predict([[2015, 2, 12.3, 204, 27,1,0,1591,1300,1]])"
   ]
  },
  {
   "cell_type": "code",
   "execution_count": 35,
   "id": "1921c011-9117-49b5-9f04-c42e3933a132",
   "metadata": {},
   "outputs": [
    {
     "data": {
      "text/plain": [
       "Pipeline(steps=[('standardscaler', StandardScaler()), ('ridge', Ridge())])"
      ]
     },
     "execution_count": 35,
     "metadata": {},
     "output_type": "execute_result"
    }
   ],
   "source": [
    "model=make_pipeline(StandardScaler(),Ridge() )\n",
    "model.fit(x_train, y_train)"
   ]
  },
  {
   "cell_type": "code",
   "execution_count": 37,
   "id": "4df2a551-e457-46d4-9667-dface62dc865",
   "metadata": {},
   "outputs": [
    {
     "name": "stdout",
     "output_type": "stream",
     "text": [
      "0.8733443420869326\n",
      "0.7577827979122559\n"
     ]
    }
   ],
   "source": [
    "print(model.score(x_train, y_train))\n",
    "print(model.score(x_test, y_test))"
   ]
  },
  {
   "cell_type": "code",
   "execution_count": 38,
   "id": "990875a7-fc97-4cb9-9748-a1234b4f9eee",
   "metadata": {},
   "outputs": [
    {
     "data": {
      "text/plain": [
       "array([2129.91186715])"
      ]
     },
     "execution_count": 38,
     "metadata": {},
     "output_type": "execute_result"
    }
   ],
   "source": [
    "model.predict([[2015, 2, 12.3, 204, 27,1,0,1591,1300,1]])"
   ]
  },
  {
   "cell_type": "code",
   "execution_count": null,
   "id": "e42c0864-497a-45b5-ae97-ac8bf444173b",
   "metadata": {},
   "outputs": [],
   "source": []
  }
 ],
 "metadata": {
  "kernelspec": {
   "display_name": "Python 3",
   "language": "python",
   "name": "python3"
  },
  "language_info": {
   "codemirror_mode": {
    "name": "ipython",
    "version": 3
   },
   "file_extension": ".py",
   "mimetype": "text/x-python",
   "name": "python",
   "nbconvert_exporter": "python",
   "pygments_lexer": "ipython3",
   "version": "3.8.8"
  }
 },
 "nbformat": 4,
 "nbformat_minor": 5
}
