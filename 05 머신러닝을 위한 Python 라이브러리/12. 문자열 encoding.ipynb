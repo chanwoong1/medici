{
 "cells": [
  {
   "cell_type": "code",
   "execution_count": 2,
   "id": "898b2147",
   "metadata": {},
   "outputs": [],
   "source": [
    "import pandas as pd\n",
    "import numpy as np\n",
    "import seaborn as sns\n",
    "from sklearn.datasets import load_boston, load_iris\n",
    "\n",
    "from sklearn.linear_model import Ridge,Lasso,ElasticNet, LinearRegression\n",
    "from sklearn.preprocessing import PolynomialFeatures\n",
    "from sklearn.pipeline import make_pipeline, Pipeline\n",
    "\n",
    "from sklearn.preprocessing import StandardScaler\n",
    "\n",
    "from sklearn.neural_network import MLPRegressor\n",
    "from sklearn.model_selection import train_test_split\n",
    "from sklearn.model_selection import GridSearchCV\n",
    "from sklearn.model_selection import cross_val_score\n",
    "\n",
    "import mglearn\n",
    "import matplotlib.pyplot as plt\n",
    "import matplotlib\n",
    "matplotlib.rcParams['font.family']='Malgun Gothic'\n",
    "matplotlib.rcParams['axes.unicode_minus'] = False\n",
    "\n",
    "import warnings\n",
    "warnings.simplefilter('ignore')"
   ]
  },
  {
   "cell_type": "code",
   "execution_count": 3,
   "id": "03cb685a",
   "metadata": {},
   "outputs": [],
   "source": [
    "train_df = pd.read_excel('data4/hyundaiCar.xlsx', sheet_name='train')\n",
    "test_df = pd.read_excel('data4/hyundaiCar.xlsx', sheet_name='test')"
   ]
  },
  {
   "cell_type": "code",
   "execution_count": 7,
   "id": "64856c7f",
   "metadata": {},
   "outputs": [],
   "source": [
    "x_train = train_df.iloc[:, 1:]\n",
    "y_train = train_df['가격']"
   ]
  },
  {
   "cell_type": "code",
   "execution_count": 11,
   "id": "c8c8ce37",
   "metadata": {
    "collapsed": true
   },
   "outputs": [
    {
     "data": {
      "text/html": [
       "<div>\n",
       "<style scoped>\n",
       "    .dataframe tbody tr th:only-of-type {\n",
       "        vertical-align: middle;\n",
       "    }\n",
       "\n",
       "    .dataframe tbody tr th {\n",
       "        vertical-align: top;\n",
       "    }\n",
       "\n",
       "    .dataframe thead th {\n",
       "        text-align: right;\n",
       "    }\n",
       "</style>\n",
       "<table border=\"1\" class=\"dataframe\">\n",
       "  <thead>\n",
       "    <tr style=\"text-align: right;\">\n",
       "      <th></th>\n",
       "      <th>년식</th>\n",
       "      <th>종류</th>\n",
       "      <th>연비</th>\n",
       "      <th>마력</th>\n",
       "      <th>토크</th>\n",
       "      <th>연료</th>\n",
       "      <th>하이브리드</th>\n",
       "      <th>배기량</th>\n",
       "      <th>중량</th>\n",
       "      <th>변속기</th>\n",
       "    </tr>\n",
       "  </thead>\n",
       "  <tbody>\n",
       "    <tr>\n",
       "      <th>0</th>\n",
       "      <td>2015</td>\n",
       "      <td>준중형</td>\n",
       "      <td>11.8</td>\n",
       "      <td>172</td>\n",
       "      <td>21.0</td>\n",
       "      <td>가솔린</td>\n",
       "      <td>0</td>\n",
       "      <td>1999</td>\n",
       "      <td>1300</td>\n",
       "      <td>자동</td>\n",
       "    </tr>\n",
       "    <tr>\n",
       "      <th>1</th>\n",
       "      <td>2015</td>\n",
       "      <td>준중형</td>\n",
       "      <td>12.3</td>\n",
       "      <td>204</td>\n",
       "      <td>27.0</td>\n",
       "      <td>가솔린</td>\n",
       "      <td>0</td>\n",
       "      <td>1591</td>\n",
       "      <td>1300</td>\n",
       "      <td>자동</td>\n",
       "    </tr>\n",
       "    <tr>\n",
       "      <th>2</th>\n",
       "      <td>2015</td>\n",
       "      <td>소형</td>\n",
       "      <td>15.0</td>\n",
       "      <td>100</td>\n",
       "      <td>13.6</td>\n",
       "      <td>가솔린</td>\n",
       "      <td>0</td>\n",
       "      <td>1368</td>\n",
       "      <td>1035</td>\n",
       "      <td>수동</td>\n",
       "    </tr>\n",
       "    <tr>\n",
       "      <th>3</th>\n",
       "      <td>2014</td>\n",
       "      <td>소형</td>\n",
       "      <td>14.0</td>\n",
       "      <td>140</td>\n",
       "      <td>17.0</td>\n",
       "      <td>가솔린</td>\n",
       "      <td>0</td>\n",
       "      <td>1591</td>\n",
       "      <td>1090</td>\n",
       "      <td>자동</td>\n",
       "    </tr>\n",
       "    <tr>\n",
       "      <th>4</th>\n",
       "      <td>2015</td>\n",
       "      <td>대형</td>\n",
       "      <td>9.6</td>\n",
       "      <td>175</td>\n",
       "      <td>46.0</td>\n",
       "      <td>디젤</td>\n",
       "      <td>0</td>\n",
       "      <td>2497</td>\n",
       "      <td>1990</td>\n",
       "      <td>자동</td>\n",
       "    </tr>\n",
       "    <tr>\n",
       "      <th>...</th>\n",
       "      <td>...</td>\n",
       "      <td>...</td>\n",
       "      <td>...</td>\n",
       "      <td>...</td>\n",
       "      <td>...</td>\n",
       "      <td>...</td>\n",
       "      <td>...</td>\n",
       "      <td>...</td>\n",
       "      <td>...</td>\n",
       "      <td>...</td>\n",
       "    </tr>\n",
       "    <tr>\n",
       "      <th>66</th>\n",
       "      <td>2015</td>\n",
       "      <td>중형</td>\n",
       "      <td>8.5</td>\n",
       "      <td>290</td>\n",
       "      <td>34.8</td>\n",
       "      <td>가솔린</td>\n",
       "      <td>0</td>\n",
       "      <td>3342</td>\n",
       "      <td>1901</td>\n",
       "      <td>자동</td>\n",
       "    </tr>\n",
       "    <tr>\n",
       "      <th>67</th>\n",
       "      <td>2012</td>\n",
       "      <td>소형</td>\n",
       "      <td>13.3</td>\n",
       "      <td>108</td>\n",
       "      <td>13.9</td>\n",
       "      <td>가솔린</td>\n",
       "      <td>0</td>\n",
       "      <td>1396</td>\n",
       "      <td>1040</td>\n",
       "      <td>자동</td>\n",
       "    </tr>\n",
       "    <tr>\n",
       "      <th>68</th>\n",
       "      <td>2015</td>\n",
       "      <td>준중형</td>\n",
       "      <td>12.8</td>\n",
       "      <td>186</td>\n",
       "      <td>41.0</td>\n",
       "      <td>디젤</td>\n",
       "      <td>0</td>\n",
       "      <td>1995</td>\n",
       "      <td>1665</td>\n",
       "      <td>자동</td>\n",
       "    </tr>\n",
       "    <tr>\n",
       "      <th>69</th>\n",
       "      <td>2015</td>\n",
       "      <td>중형</td>\n",
       "      <td>17.7</td>\n",
       "      <td>156</td>\n",
       "      <td>19.3</td>\n",
       "      <td>가솔린</td>\n",
       "      <td>1</td>\n",
       "      <td>1999</td>\n",
       "      <td>1585</td>\n",
       "      <td>자동</td>\n",
       "    </tr>\n",
       "    <tr>\n",
       "      <th>70</th>\n",
       "      <td>2015</td>\n",
       "      <td>대형</td>\n",
       "      <td>13.8</td>\n",
       "      <td>202</td>\n",
       "      <td>45.0</td>\n",
       "      <td>디젤</td>\n",
       "      <td>0</td>\n",
       "      <td>2199</td>\n",
       "      <td>1691</td>\n",
       "      <td>자동</td>\n",
       "    </tr>\n",
       "  </tbody>\n",
       "</table>\n",
       "<p>71 rows × 10 columns</p>\n",
       "</div>"
      ],
      "text/plain": [
       "      년식   종류    연비   마력    토크   연료  하이브리드   배기량    중량 변속기\n",
       "0   2015  준중형  11.8  172  21.0  가솔린      0  1999  1300  자동\n",
       "1   2015  준중형  12.3  204  27.0  가솔린      0  1591  1300  자동\n",
       "2   2015   소형  15.0  100  13.6  가솔린      0  1368  1035  수동\n",
       "3   2014   소형  14.0  140  17.0  가솔린      0  1591  1090  자동\n",
       "4   2015   대형   9.6  175  46.0   디젤      0  2497  1990  자동\n",
       "..   ...  ...   ...  ...   ...  ...    ...   ...   ...  ..\n",
       "66  2015   중형   8.5  290  34.8  가솔린      0  3342  1901  자동\n",
       "67  2012   소형  13.3  108  13.9  가솔린      0  1396  1040  자동\n",
       "68  2015  준중형  12.8  186  41.0   디젤      0  1995  1665  자동\n",
       "69  2015   중형  17.7  156  19.3  가솔린      1  1999  1585  자동\n",
       "70  2015   대형  13.8  202  45.0   디젤      0  2199  1691  자동\n",
       "\n",
       "[71 rows x 10 columns]"
      ]
     },
     "execution_count": 11,
     "metadata": {},
     "output_type": "execute_result"
    }
   ],
   "source": [
    "x_train"
   ]
  },
  {
   "cell_type": "code",
   "execution_count": 9,
   "id": "486d7197",
   "metadata": {
    "collapsed": true
   },
   "outputs": [
    {
     "data": {
      "text/plain": [
       "0     1885\n",
       "1     2190\n",
       "2     1135\n",
       "3     1645\n",
       "4     1960\n",
       "      ... \n",
       "66    3802\n",
       "67    1270\n",
       "68    2430\n",
       "69    2870\n",
       "70    3254\n",
       "Name: 가격, Length: 71, dtype: int64"
      ]
     },
     "execution_count": 9,
     "metadata": {},
     "output_type": "execute_result"
    }
   ],
   "source": [
    "y_train"
   ]
  },
  {
   "cell_type": "code",
   "execution_count": 12,
   "id": "2d4b3d4a",
   "metadata": {},
   "outputs": [],
   "source": [
    "x_test = test_df.iloc[:, 1:]\n",
    "y_test = test_df['가격']"
   ]
  },
  {
   "cell_type": "markdown",
   "id": "648e50b0",
   "metadata": {},
   "source": [
    "## 문자열 encoding\n",
    "- lable encoding\n",
    "- one hot encoding"
   ]
  },
  {
   "cell_type": "code",
   "execution_count": 14,
   "id": "20000045",
   "metadata": {},
   "outputs": [],
   "source": [
    "from sklearn.preprocessing import OneHotEncoder, LabelEncoder"
   ]
  },
  {
   "cell_type": "code",
   "execution_count": 16,
   "id": "ea9da2e4",
   "metadata": {},
   "outputs": [
    {
     "data": {
      "text/plain": [
       "0     준중형\n",
       "1     준중형\n",
       "2      소형\n",
       "3      소형\n",
       "4      대형\n",
       "     ... \n",
       "66     중형\n",
       "67     소형\n",
       "68    준중형\n",
       "69     중형\n",
       "70     대형\n",
       "Name: 종류, Length: 71, dtype: object"
      ]
     },
     "execution_count": 16,
     "metadata": {},
     "output_type": "execute_result"
    }
   ],
   "source": [
    "x_train['종류']"
   ]
  },
  {
   "cell_type": "markdown",
   "id": "e36122ff",
   "metadata": {},
   "source": [
    "### Label Encoder"
   ]
  },
  {
   "cell_type": "code",
   "execution_count": 18,
   "id": "f93f9814",
   "metadata": {},
   "outputs": [
    {
     "data": {
      "text/plain": [
       "array([2, 2, 1, 1, 0, 3, 3, 1, 3, 1, 2, 3, 2, 0, 1, 0, 0, 0, 3, 0, 0, 3,\n",
       "       2, 0, 3, 3, 3, 1, 1, 2, 0, 0, 0, 0, 1, 0, 2, 0, 2, 1, 1, 1, 0, 0,\n",
       "       0, 2, 1, 0, 2, 1, 3, 3, 0, 2, 2, 0, 3, 2, 0, 0, 2, 0, 1, 0, 0, 1,\n",
       "       3, 1, 2, 3, 0])"
      ]
     },
     "execution_count": 18,
     "metadata": {},
     "output_type": "execute_result"
    }
   ],
   "source": [
    "lbl = LabelEncoder()\n",
    "x_trainLabel = lbl.fit_transform(x_train['종류'])\n",
    "x_trainLabel"
   ]
  },
  {
   "cell_type": "code",
   "execution_count": 19,
   "id": "a91387b5",
   "metadata": {},
   "outputs": [
    {
     "data": {
      "text/plain": [
       "array(['대형', '소형', '준중형', '중형'], dtype=object)"
      ]
     },
     "execution_count": 19,
     "metadata": {},
     "output_type": "execute_result"
    }
   ],
   "source": [
    "lbl.classes_"
   ]
  },
  {
   "cell_type": "code",
   "execution_count": 20,
   "id": "412bdff3",
   "metadata": {},
   "outputs": [
    {
     "data": {
      "text/plain": [
       "'준중형'"
      ]
     },
     "execution_count": 20,
     "metadata": {},
     "output_type": "execute_result"
    }
   ],
   "source": [
    "lbl.classes_[2]"
   ]
  },
  {
   "cell_type": "code",
   "execution_count": 22,
   "id": "ab9514eb",
   "metadata": {},
   "outputs": [
    {
     "data": {
      "text/plain": [
       "array([1])"
      ]
     },
     "execution_count": 22,
     "metadata": {},
     "output_type": "execute_result"
    }
   ],
   "source": [
    "lbl.transform(['소형'])"
   ]
  },
  {
   "cell_type": "markdown",
   "id": "1b9f5b4c",
   "metadata": {},
   "source": [
    "### onehotEncoder(0과 1로 구성)"
   ]
  },
  {
   "cell_type": "code",
   "execution_count": null,
   "id": "2a0ba386",
   "metadata": {},
   "outputs": [],
   "source": [
    "oneH = OneHotEncoder()\n",
    "x_trainOne = "
   ]
  },
  {
   "cell_type": "code",
   "execution_count": null,
   "id": "72901192",
   "metadata": {},
   "outputs": [],
   "source": []
  },
  {
   "cell_type": "code",
   "execution_count": null,
   "id": "c6a050aa",
   "metadata": {},
   "outputs": [],
   "source": []
  }
 ],
 "metadata": {
  "kernelspec": {
   "display_name": "Python 3",
   "language": "python",
   "name": "python3"
  },
  "language_info": {
   "codemirror_mode": {
    "name": "ipython",
    "version": 3
   },
   "file_extension": ".py",
   "mimetype": "text/x-python",
   "name": "python",
   "nbconvert_exporter": "python",
   "pygments_lexer": "ipython3",
   "version": "3.8.8"
  },
  "toc": {
   "base_numbering": 1,
   "nav_menu": {},
   "number_sections": true,
   "sideBar": true,
   "skip_h1_title": false,
   "title_cell": "Table of Contents",
   "title_sidebar": "Contents",
   "toc_cell": false,
   "toc_position": {},
   "toc_section_display": true,
   "toc_window_display": false
  }
 },
 "nbformat": 4,
 "nbformat_minor": 5
}
