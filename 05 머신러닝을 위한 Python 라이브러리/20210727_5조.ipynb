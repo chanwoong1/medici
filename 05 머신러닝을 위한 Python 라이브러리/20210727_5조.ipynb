{
 "cells": [
  {
   "cell_type": "markdown",
   "metadata": {},
   "source": [
    "## 팀과제\n",
    "\n",
    "- feature : pclass, sex, fare\n",
    "- label : survived\n",
    "    \n",
    "1. 1등급, female, 32달러 인 경우 생사유무를 예측하시오(voting, bagging, boost, deep learning)\n",
    "2. 위의 모델의 train, test, f1 score를 구하시오\n",
    "3. confusion matrix 를 구하고 heatmap을 그리시오\n",
    "4. roc curve를 그리시오\n",
    "\n",
    "## voting"
   ]
  },
  {
   "cell_type": "code",
   "execution_count": 1,
   "metadata": {},
   "outputs": [],
   "source": [
    "import pandas as pd\n",
    "\n",
    "from sklearn.ensemble import VotingClassifier, BaggingClassifier, RandomForestClassifier, AdaBoostClassifier\n",
    "\n",
    "from sklearn.linear_model import LogisticRegression\n",
    "from sklearn.neighbors import KNeighborsClassifier\n",
    "from sklearn.tree import DecisionTreeClassifier\n",
    "\n",
    "from sklearn.datasets import load_breast_cancer, load_wine, make_classification, load_iris, fetch_openml\n",
    "from sklearn.model_selection import train_test_split, cross_val_score\n",
    "from sklearn.metrics import accuracy_score, f1_score, confusion_matrix, roc_auc_score, roc_curve\n",
    "import sklearn.metrics as metrics\n",
    "from sklearn.neural_network import MLPClassifier\n",
    "\n",
    "from sklearn.pipeline import Pipeline, make_pipeline\n",
    "from sklearn.preprocessing import StandardScaler, OneHotEncoder\n",
    "from sklearn.compose import make_column_transformer\n",
    "\n",
    "\n",
    "from xgboost import XGBClassifier\n",
    "import math\n",
    "import numpy as np\n",
    "import matplotlib.pyplot as plt\n",
    "import seaborn as sns\n",
    "\n",
    "from warnings import filterwarnings\n",
    "filterwarnings('ignore')"
   ]
  },
  {
   "cell_type": "code",
   "execution_count": 2,
   "metadata": {},
   "outputs": [],
   "source": [
    "titanic = sns.load_dataset('titanic')\n",
    "\n",
    "x_data = titanic[['pclass', 'sex', 'fare']]\n",
    "y_data = titanic[['survived']]\n",
    "\n",
    "x_train, x_test, y_train, y_test = train_test_split(x_data, y_data, test_size = 0.25, stratify = y_data, random_state = 1)"
   ]
  },
  {
   "cell_type": "code",
   "execution_count": 3,
   "metadata": {},
   "outputs": [],
   "source": [
    "mct = make_column_transformer(  ( OneHotEncoder(), ['sex'] ), remainder = 'passthrough' )\n",
    "model_logi = make_pipeline( mct, StandardScaler(), LogisticRegression() )\n",
    "model_knn = make_pipeline( mct, StandardScaler(), KNeighborsClassifier() )\n",
    "model_tree = make_pipeline( mct, StandardScaler(), DecisionTreeClassifier() )"
   ]
  },
  {
   "cell_type": "code",
   "execution_count": 4,
   "metadata": {},
   "outputs": [
    {
     "data": {
      "text/plain": [
       "VotingClassifier(estimators=[('logi',\n",
       "                              Pipeline(steps=[('columntransformer',\n",
       "                                               ColumnTransformer(remainder='passthrough',\n",
       "                                                                 transformers=[('onehotencoder',\n",
       "                                                                                OneHotEncoder(),\n",
       "                                                                                ['sex'])])),\n",
       "                                              ('standardscaler',\n",
       "                                               StandardScaler()),\n",
       "                                              ('logisticregression',\n",
       "                                               LogisticRegression())])),\n",
       "                             ('knn',\n",
       "                              Pipeline(steps=[('columntransformer',\n",
       "                                               ColumnTransformer(remainder='passthrough',\n",
       "                                                                 transf...\n",
       "                                                                                ['sex'])])),\n",
       "                                              ('standardscaler',\n",
       "                                               StandardScaler()),\n",
       "                                              ('kneighborsclassifier',\n",
       "                                               KNeighborsClassifier())])),\n",
       "                             ('tree',\n",
       "                              Pipeline(steps=[('columntransformer',\n",
       "                                               ColumnTransformer(remainder='passthrough',\n",
       "                                                                 transformers=[('onehotencoder',\n",
       "                                                                                OneHotEncoder(),\n",
       "                                                                                ['sex'])])),\n",
       "                                              ('standardscaler',\n",
       "                                               StandardScaler()),\n",
       "                                              ('decisiontreeclassifier',\n",
       "                                               DecisionTreeClassifier())]))],\n",
       "                 voting='soft')"
      ]
     },
     "execution_count": 4,
     "metadata": {},
     "output_type": "execute_result"
    }
   ],
   "source": [
    "model_vote = VotingClassifier(estimators = [('logi', model_logi), ('knn', model_knn), ('tree', model_tree)], voting = 'soft')\n",
    "model_vote.fit(x_train, y_train)"
   ]
  },
  {
   "cell_type": "code",
   "execution_count": 5,
   "metadata": {},
   "outputs": [
    {
     "name": "stdout",
     "output_type": "stream",
     "text": [
      "1등급, female, 32달러인 사람의 voting 생존여부는 1 로 생존할 가능성이 크다.\n"
     ]
    }
   ],
   "source": [
    "q1 = pd.DataFrame([1, 'female', 32]).T\n",
    "q1.columns = x_data.columns\n",
    "\n",
    "print('1등급, female, 32달러인 사람의 voting 생존여부는', model_vote.predict(q1)[0],'로 생존할 가능성이 크다.')"
   ]
  },
  {
   "cell_type": "code",
   "execution_count": 6,
   "metadata": {},
   "outputs": [
    {
     "name": "stdout",
     "output_type": "stream",
     "text": [
      "voting train f1 score :  0.8825092827828805\n",
      "voting test f1 score :  0.8158146409320117\n"
     ]
    }
   ],
   "source": [
    "## 2. train, test, f1 score\n",
    "print('voting train f1 score : ', metrics.f1_score(y_train, model_vote.predict(x_train), average='macro'))\n",
    "print('voting test f1 score : ', metrics.f1_score(y_test, model_vote.predict(x_test), average='macro'))"
   ]
  },
  {
   "cell_type": "code",
   "execution_count": 7,
   "metadata": {},
   "outputs": [
    {
     "data": {
      "image/png": "[encoded data removed]",
      "text/plain": [
       "<Figure size 864x720 with 2 Axes>"
      ]
     },
     "metadata": {
      "needs_background": "light"
     },
     "output_type": "display_data"
    }
   ],
   "source": [
    "## 3. confusion matrix, heatmap\n",
    "cm = confusion_matrix(y_test, model_vote.predict(x_test))\n",
    "plt.figure(figsize = (12, 10))\n",
    "sns.heatmap(cm, annot = True, cmap = 'Blues', fmt='d')\n",
    "plt.show()"
   ]
  },
  {
   "cell_type": "code",
   "execution_count": 11,
   "metadata": {},
   "outputs": [
    {
     "data": {
      "image/png": "[encoded data removed]",
      "text/plain": [
       "<Figure size 432x288 with 1 Axes>"
      ]
     },
     "metadata": {
      "needs_background": "light"
     },
     "output_type": "display_data"
    }
   ],
   "source": [
    "## 4. roc_curve\n",
    "from sklearn.metrics import roc_curve\n",
    "p = model_vote.predict_proba(x_test)\n",
    "y_test_cp = y_test.copy()\n",
    "df = pd.DataFrame( y_test_cp )\n",
    "df['proba'] = p[:, 1]\n",
    "fpr, tpr, thresholds = roc_curve(y_test.values, df['proba'])\n",
    "plt.plot(fpr, tpr, 'r--')\n",
    "plt.plot([0, 1], [0, 1], 'k--')\n",
    "plt.xlabel('FPR')\n",
    "plt.ylabel('TPR')\n",
    "plt.show()"
   ]
  },
  {
   "cell_type": "code",
   "execution_count": 13,
   "metadata": {
    "scrolled": false
   },
   "outputs": [
    {
     "data": {
      "text/plain": [
       "391    0.032269\n",
       "584    0.132301\n",
       "610    0.331609\n",
       "261    0.033122\n",
       "496    0.971101\n",
       "         ...   \n",
       "434    0.745025\n",
       "331    0.208945\n",
       "559    0.396906\n",
       "376    0.862568\n",
       "47     0.712618\n",
       "Name: proba, Length: 223, dtype: float64"
      ]
     },
     "execution_count": 13,
     "metadata": {},
     "output_type": "execute_result"
    }
   ],
   "source": [
    "df['proba']"
   ]
  },
  {
   "cell_type": "code",
   "execution_count": 21,
   "metadata": {},
   "outputs": [
    {
     "name": "stdout",
     "output_type": "stream",
     "text": [
      "1등급, female, 32달러인 사람의 voting 생존여부는 1 로 생존할 가능성이 크다.\n",
      "bagging train f1 score :  0.8989082261377148\n",
      "bagging test f1 score :  0.8098891730605285\n"
     ]
    },
    {
     "data": {
      "image/png": "[encoded data removed]",
      "text/plain": [
       "<Figure size 864x720 with 2 Axes>"
      ]
     },
     "metadata": {
      "needs_background": "light"
     },
     "output_type": "display_data"
    },
    {
     "data": {
      "image/png": "[encoded data removed]",
      "text/plain": [
       "<Figure size 432x288 with 1 Axes>"
      ]
     },
     "metadata": {
      "needs_background": "light"
     },
     "output_type": "display_data"
    }
   ],
   "source": [
    "from sklearn.ensemble import BaggingClassifier\n",
    "\n",
    "mct = make_column_transformer(  ( OneHotEncoder(), ['sex'] ), remainder = 'passthrough' )\n",
    "model_bagg = make_pipeline( mct, StandardScaler(), BaggingClassifier() )\n",
    "model_bagg.fit(x_train, y_train)\n",
    "\n",
    "q1 = pd.DataFrame([1, 'female', 32]).T\n",
    "q1.columns = x_data.columns\n",
    "\n",
    "print('1등급, female, 32달러인 사람의 voting 생존여부는', model_bagg.predict(q1)[0],'로 생존할 가능성이 크다.')\n",
    "\n",
    "## 2. train, test, f1 score\n",
    "print('bagging train f1 score : ', metrics.f1_score(y_train, model_bagg.predict(x_train), average='macro'))\n",
    "print('bagging test f1 score : ', metrics.f1_score(y_test, model_bagg.predict(x_test), average='macro'))\n",
    "\n",
    "## 3. confusion matrix, heatmap\n",
    "cm = confusion_matrix(y_test, model_bagg.predict(x_test))\n",
    "plt.figure(figsize = (12, 10))\n",
    "sns.heatmap(cm, annot = True, cmap = 'Blues', fmt='d')\n",
    "plt.show()\n",
    "\n",
    "## 4. roc_curve\n",
    "from sklearn.metrics import roc_curve\n",
    "p = model_bagg.predict_proba(x_test)\n",
    "y_test_cp = y_test.copy()\n",
    "df = pd.DataFrame( y_test_cp )\n",
    "df['proba'] = p[:, 1]\n",
    "fpr, tpr, thresholds = roc_curve(y_test.values, df['proba'])\n",
    "plt.plot(fpr, tpr, 'r--')\n",
    "plt.plot([0, 1], [0, 1], 'k--')\n",
    "plt.xlabel('FPR')\n",
    "plt.ylabel('TPR')\n",
    "plt.show()"
   ]
  }
 ],
 "metadata": {
  "kernelspec": {
   "display_name": "Python 3",
   "language": "python",
   "name": "python3"
  },
  "language_info": {
   "codemirror_mode": {
    "name": "ipython",
    "version": 3
   },
   "file_extension": ".py",
   "mimetype": "text/x-python",
   "name": "python",
   "nbconvert_exporter": "python",
   "pygments_lexer": "ipython3",
   "version": "3.8.5"
  }
 },
 "nbformat": 4,
 "nbformat_minor": 4
}
