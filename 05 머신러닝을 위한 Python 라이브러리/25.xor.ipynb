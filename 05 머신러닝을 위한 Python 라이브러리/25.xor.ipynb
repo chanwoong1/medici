{
 "cells": [
  {
   "cell_type": "code",
   "execution_count": 13,
   "id": "908253d4",
   "metadata": {},
   "outputs": [],
   "source": [
    "from sklearn.datasets import make_classification\n",
    "from sklearn.linear_model import LogisticRegression\n",
    "from sklearn.neural_network import MLPClassifier # 딥러닝 라이브러리\n",
    "from sklearn.model_selection import train_test_split\n",
    "from sklearn.model_selection import cross_val_score\n",
    "import sklearn.metrics as metrics\n",
    "import math\n",
    "import pandas as pd\n",
    "import numpy as np\n",
    "import matplotlib.pyplot as plt"
   ]
  },
  {
   "cell_type": "code",
   "execution_count": 2,
   "id": "5cb4e119",
   "metadata": {},
   "outputs": [],
   "source": [
    "x_data = np.array( [[0,0],[0,1],[1,0],[1,1]])\n",
    "y_data = np.array( [0,1,1,0])"
   ]
  },
  {
   "cell_type": "code",
   "execution_count": 7,
   "id": "9e002c1f",
   "metadata": {},
   "outputs": [
    {
     "name": "stderr",
     "output_type": "stream",
     "text": [
      "[Parallel(n_jobs=1)]: Using backend SequentialBackend with 1 concurrent workers.\n",
      "[Parallel(n_jobs=1)]: Done   1 out of   1 | elapsed:    0.0s finished\n"
     ]
    },
    {
     "data": {
      "text/plain": [
       "LogisticRegression(max_iter=1000, verbose=1)"
      ]
     },
     "execution_count": 7,
     "metadata": {},
     "output_type": "execute_result"
    }
   ],
   "source": [
    "model_logi = LogisticRegression(max_iter=1000, verbose=1)\n",
    "model_logi.fit( x_data, y_data )"
   ]
  },
  {
   "cell_type": "code",
   "execution_count": 8,
   "id": "b5083b2d",
   "metadata": {
    "collapsed": true
   },
   "outputs": [
    {
     "data": {
      "text/plain": [
       "array([[0., 0.]])"
      ]
     },
     "execution_count": 8,
     "metadata": {},
     "output_type": "execute_result"
    }
   ],
   "source": [
    "model_logi.coef_"
   ]
  },
  {
   "cell_type": "code",
   "execution_count": 9,
   "id": "151d01d2",
   "metadata": {
    "collapsed": true
   },
   "outputs": [
    {
     "data": {
      "text/plain": [
       "array([0.])"
      ]
     },
     "execution_count": 9,
     "metadata": {},
     "output_type": "execute_result"
    }
   ],
   "source": [
    "model_logi.intercept_"
   ]
  },
  {
   "cell_type": "code",
   "execution_count": 11,
   "id": "291e1f71",
   "metadata": {},
   "outputs": [
    {
     "data": {
      "text/plain": [
       "array([0, 0, 0, 0])"
      ]
     },
     "execution_count": 11,
     "metadata": {},
     "output_type": "execute_result"
    }
   ],
   "source": [
    "model_logi.predict(x_data)"
   ]
  },
  {
   "cell_type": "code",
   "execution_count": 12,
   "id": "4f99bb5b",
   "metadata": {},
   "outputs": [
    {
     "data": {
      "text/plain": [
       "0.5"
      ]
     },
     "execution_count": 12,
     "metadata": {},
     "output_type": "execute_result"
    }
   ],
   "source": [
    "model_logi.score(x_data, y_data)"
   ]
  },
  {
   "cell_type": "markdown",
   "id": "1cd3a3bf",
   "metadata": {},
   "source": [
    "## 딥러닝 라이브러리"
   ]
  },
  {
   "cell_type": "code",
   "execution_count": null,
   "id": "1560af07",
   "metadata": {},
   "outputs": [],
   "source": [
    "# "
   ]
  },
  {
   "cell_type": "code",
   "execution_count": 16,
   "id": "a1fc6771",
   "metadata": {},
   "outputs": [],
   "source": [
    "model_mlp = MLPClassifier(max_iter=1000) #hidden_layer_sizes=(100,)  : 2x1   : 2x100   100x1\n",
    "# 2x2 2x1  \n",
    "# 4x2    2x2 ==> 4x2  2x1 ==> 4x1 (0,1,1,0)"
   ]
  },
  {
   "cell_type": "code",
   "execution_count": 17,
   "id": "cf062027",
   "metadata": {},
   "outputs": [
    {
     "data": {
      "text/plain": [
       "MLPClassifier(max_iter=1000)"
      ]
     },
     "execution_count": 17,
     "metadata": {},
     "output_type": "execute_result"
    }
   ],
   "source": [
    "model_mlp.fit( x_data,y_data)"
   ]
  },
  {
   "cell_type": "code",
   "execution_count": 18,
   "id": "c76e9c23",
   "metadata": {},
   "outputs": [
    {
     "data": {
      "text/plain": [
       "array([0, 1, 1, 0])"
      ]
     },
     "execution_count": 18,
     "metadata": {},
     "output_type": "execute_result"
    }
   ],
   "source": [
    "model_mlp.predict( x_data)"
   ]
  },
  {
   "cell_type": "code",
   "execution_count": 20,
   "id": "01bde331",
   "metadata": {},
   "outputs": [
    {
     "data": {
      "text/plain": [
       "2"
      ]
     },
     "execution_count": 20,
     "metadata": {},
     "output_type": "execute_result"
    }
   ],
   "source": [
    "len( model_mlp.coefs_ )"
   ]
  },
  {
   "cell_type": "code",
   "execution_count": 22,
   "id": "2e3d209f",
   "metadata": {},
   "outputs": [
    {
     "data": {
      "text/plain": [
       "(2, 100)"
      ]
     },
     "execution_count": 22,
     "metadata": {},
     "output_type": "execute_result"
    }
   ],
   "source": [
    "model_mlp.coefs_[0].shape # w: 2x100"
   ]
  },
  {
   "cell_type": "code",
   "execution_count": 23,
   "id": "47d01623",
   "metadata": {},
   "outputs": [
    {
     "data": {
      "text/plain": [
       "(100, 1)"
      ]
     },
     "execution_count": 23,
     "metadata": {},
     "output_type": "execute_result"
    }
   ],
   "source": [
    "model_mlp.coefs_[1].shape # w:100x1"
   ]
  },
  {
   "cell_type": "code",
   "execution_count": 30,
   "id": "1589c0dc",
   "metadata": {},
   "outputs": [
    {
     "data": {
      "text/plain": [
       "2"
      ]
     },
     "execution_count": 30,
     "metadata": {},
     "output_type": "execute_result"
    }
   ],
   "source": [
    "len( model_mlp.intercepts_ )"
   ]
  },
  {
   "cell_type": "code",
   "execution_count": 32,
   "id": "cfad8ea2",
   "metadata": {},
   "outputs": [
    {
     "data": {
      "text/plain": [
       "(100,)"
      ]
     },
     "execution_count": 32,
     "metadata": {},
     "output_type": "execute_result"
    }
   ],
   "source": [
    "model_mlp.intercepts_[0].shape"
   ]
  },
  {
   "cell_type": "code",
   "execution_count": 33,
   "id": "d9ae2c0e",
   "metadata": {},
   "outputs": [
    {
     "data": {
      "text/plain": [
       "(1,)"
      ]
     },
     "execution_count": 33,
     "metadata": {},
     "output_type": "execute_result"
    }
   ],
   "source": [
    "model_mlp.intercepts_[1].shape"
   ]
  },
  {
   "cell_type": "code",
   "execution_count": null,
   "id": "d883fc39",
   "metadata": {},
   "outputs": [],
   "source": [
    "4x2  2x100  ==> 4x100   100x1  == >4x1"
   ]
  },
  {
   "cell_type": "code",
   "execution_count": 34,
   "id": "4c192cf5",
   "metadata": {},
   "outputs": [
    {
     "data": {
      "text/plain": [
       "(4, 1)"
      ]
     },
     "execution_count": 34,
     "metadata": {},
     "output_type": "execute_result"
    }
   ],
   "source": [
    "a = np.matmul( x_data, model_mlp.coefs_[0]) + model_mlp.intercepts_[0]  # 4x2 2x100\n",
    "# a --> relu \n",
    "b = np.matmul( a, model_mlp.coefs_[1] ) + model_mlp.intercepts_[1]  # 4x100 100x1\n",
    "# b-->sigmoid\n",
    "b.shape"
   ]
  },
  {
   "cell_type": "code",
   "execution_count": 36,
   "id": "ae0a3f44",
   "metadata": {},
   "outputs": [
    {
     "data": {
      "text/plain": [
       "MLPClassifier(hidden_layer_sizes=(200,), max_iter=1000)"
      ]
     },
     "execution_count": 36,
     "metadata": {},
     "output_type": "execute_result"
    }
   ],
   "source": [
    "model_mlp1 = MLPClassifier(hidden_layer_sizes=(200,), max_iter=1000) #2x200 200x1\n",
    "model_mlp1.fit( x_data,y_data)"
   ]
  },
  {
   "cell_type": "code",
   "execution_count": 37,
   "id": "93473066",
   "metadata": {},
   "outputs": [
    {
     "data": {
      "text/plain": [
       "(2, 200)"
      ]
     },
     "execution_count": 37,
     "metadata": {},
     "output_type": "execute_result"
    }
   ],
   "source": [
    "model_mlp1.coefs_[0].shape"
   ]
  },
  {
   "cell_type": "code",
   "execution_count": 38,
   "id": "20ca5ebb",
   "metadata": {},
   "outputs": [
    {
     "data": {
      "text/plain": [
       "(200, 1)"
      ]
     },
     "execution_count": 38,
     "metadata": {},
     "output_type": "execute_result"
    }
   ],
   "source": [
    "model_mlp1.coefs_[1].shape"
   ]
  },
  {
   "cell_type": "code",
   "execution_count": 39,
   "id": "9c7b6004",
   "metadata": {},
   "outputs": [
    {
     "data": {
      "text/plain": [
       "array([0, 1, 1, 0])"
      ]
     },
     "execution_count": 39,
     "metadata": {},
     "output_type": "execute_result"
    }
   ],
   "source": [
    "model_mlp1.predict( x_data) # 4x2  2x200 ==> 4x200   200x1    ==>4x1  "
   ]
  },
  {
   "cell_type": "code",
   "execution_count": 40,
   "id": "40ffd722",
   "metadata": {},
   "outputs": [
    {
     "data": {
      "text/plain": [
       "MLPClassifier(hidden_layer_sizes=(200, 4), max_iter=1000)"
      ]
     },
     "execution_count": 40,
     "metadata": {},
     "output_type": "execute_result"
    }
   ],
   "source": [
    "model_mlp2 = MLPClassifier(hidden_layer_sizes=(200,4), max_iter=1000)\n",
    "model_mlp2.fit( x_data,y_data)"
   ]
  },
  {
   "cell_type": "code",
   "execution_count": 41,
   "id": "e2b98f4e",
   "metadata": {},
   "outputs": [
    {
     "data": {
      "text/plain": [
       "(2, 200)"
      ]
     },
     "execution_count": 41,
     "metadata": {},
     "output_type": "execute_result"
    }
   ],
   "source": [
    "model_mlp2.coefs_[0].shape"
   ]
  },
  {
   "cell_type": "code",
   "execution_count": 42,
   "id": "cb986f70",
   "metadata": {},
   "outputs": [
    {
     "data": {
      "text/plain": [
       "(200, 4)"
      ]
     },
     "execution_count": 42,
     "metadata": {},
     "output_type": "execute_result"
    }
   ],
   "source": [
    "model_mlp2.coefs_[1].shape"
   ]
  },
  {
   "cell_type": "code",
   "execution_count": 43,
   "id": "d0d26dd9",
   "metadata": {},
   "outputs": [
    {
     "data": {
      "text/plain": [
       "(4, 1)"
      ]
     },
     "execution_count": 43,
     "metadata": {},
     "output_type": "execute_result"
    }
   ],
   "source": [
    "model_mlp2.coefs_[2].shape"
   ]
  },
  {
   "cell_type": "code",
   "execution_count": 44,
   "id": "cf65b9eb",
   "metadata": {},
   "outputs": [
    {
     "data": {
      "text/plain": [
       "array([0, 1, 1, 0])"
      ]
     },
     "execution_count": 44,
     "metadata": {},
     "output_type": "execute_result"
    }
   ],
   "source": [
    "model_mlp2.predict( x_data) # 4x2  2x200 => 4x200 200x4 ==> 4x4  4x1 => 4x1 "
   ]
  }
 ],
 "metadata": {
  "kernelspec": {
   "display_name": "Python 3",
   "language": "python",
   "name": "python3"
  },
  "language_info": {
   "codemirror_mode": {
    "name": "ipython",
    "version": 3
   },
   "file_extension": ".py",
   "mimetype": "text/x-python",
   "name": "python",
   "nbconvert_exporter": "python",
   "pygments_lexer": "ipython3",
   "version": "3.8.8"
  }
 },
 "nbformat": 4,
 "nbformat_minor": 5
}
