{
 "cells": [
  {
   "cell_type": "markdown",
   "id": "57035ab5",
   "metadata": {},
   "source": [
    "현대 자동차 데이터를 이용\n",
    "가격:1135 \n",
    "년식:2015\n",
    "연비: 15\n",
    "마력:100\n",
    "토크:13.6\n",
    "연료:가솔린\n",
    "하이브리드:0\n",
    "배기량:1368\n",
    "중량:1035\n",
    "변속기:수동\n",
    "    \n",
    "    \n",
    "\n",
    "\n",
    "인경우 종류( 준중형, 소형, 대형)\n",
    "를 예측하시요.\n",
    " KNN, decision tree, naive_bayes, svc \n",
    "각각의 모델에 대해 \n",
    "0. 각모델별 예측값 구하시요.\n",
    "1. f1 score(train, test) , confusion matrix,\n",
    "를 구하시요\n",
    "\n",
    "2. 각모델별 train ,test f1 를  bar 그래프로 그리고\n",
    "가장높은 f1 score 의 모델을 확인하시요."
   ]
  },
  {
   "cell_type": "code",
   "execution_count": 1,
   "id": "7903da02",
   "metadata": {},
   "outputs": [],
   "source": [
    "from sklearn.datasets import make_classification\n",
    "from sklearn.linear_model import LogisticRegression\n",
    "from sklearn.model_selection import train_test_split, GridSearchCV\n",
    "from sklearn.model_selection import cross_val_score, cross_validate\n",
    "from sklearn.metrics import confusion_matrix, precision_score, recall_score, f1_score\n",
    "import multiprocessing\n",
    "from sklearn.compose import make_column_transformer\n",
    "from sklearn.svm import SVC #SVM\n",
    "\n",
    "from sklearn.datasets import load_boston, load_breast_cancer,load_iris\n",
    "from sklearn.datasets import load_wine\n",
    "from sklearn.pipeline import make_pipeline, Pipeline\n",
    "from sklearn.preprocessing import StandardScaler, MinMaxScaler\n",
    "from sklearn.preprocessing import OneHotEncoder, LabelEncoder\n",
    "\n",
    "\n",
    "from sklearn.neighbors import KNeighborsClassifier,KNeighborsRegressor\n",
    "from sklearn.tree import DecisionTreeClassifier, DecisionTreeRegressor, export_graphviz,export_text, plot_tree \n",
    "from sklearn.naive_bayes import GaussianNB, BernoulliNB, MultinomialNB\n",
    "\n",
    "from sklearn.preprocessing import StandardScaler, MinMaxScaler\n",
    "from sklearn import metrics\n",
    "\n",
    "import pandas as pd\n",
    "import numpy as np\n",
    "import matplotlib.pyplot as plt\n",
    "import seaborn as sns"
   ]
  },
  {
   "cell_type": "code",
   "execution_count": 2,
   "id": "d0955a83",
   "metadata": {},
   "outputs": [],
   "source": [
    "import warnings\n",
    "warnings.simplefilter('ignore')"
   ]
  },
  {
   "cell_type": "code",
   "execution_count": 3,
   "id": "01b6668a",
   "metadata": {},
   "outputs": [
    {
     "data": {
      "text/html": [
       "<div>\n",
       "<style scoped>\n",
       "    .dataframe tbody tr th:only-of-type {\n",
       "        vertical-align: middle;\n",
       "    }\n",
       "\n",
       "    .dataframe tbody tr th {\n",
       "        vertical-align: top;\n",
       "    }\n",
       "\n",
       "    .dataframe thead th {\n",
       "        text-align: right;\n",
       "    }\n",
       "</style>\n",
       "<table border=\"1\" class=\"dataframe\">\n",
       "  <thead>\n",
       "    <tr style=\"text-align: right;\">\n",
       "      <th></th>\n",
       "      <th>가격</th>\n",
       "      <th>년식</th>\n",
       "      <th>종류</th>\n",
       "      <th>연비</th>\n",
       "      <th>마력</th>\n",
       "      <th>토크</th>\n",
       "      <th>연료</th>\n",
       "      <th>하이브리드</th>\n",
       "      <th>배기량</th>\n",
       "      <th>중량</th>\n",
       "      <th>변속기</th>\n",
       "    </tr>\n",
       "  </thead>\n",
       "  <tbody>\n",
       "    <tr>\n",
       "      <th>0</th>\n",
       "      <td>1885</td>\n",
       "      <td>2015</td>\n",
       "      <td>준중형</td>\n",
       "      <td>11.8</td>\n",
       "      <td>172</td>\n",
       "      <td>21.0</td>\n",
       "      <td>가솔린</td>\n",
       "      <td>0</td>\n",
       "      <td>1999</td>\n",
       "      <td>1300</td>\n",
       "      <td>자동</td>\n",
       "    </tr>\n",
       "    <tr>\n",
       "      <th>1</th>\n",
       "      <td>2190</td>\n",
       "      <td>2015</td>\n",
       "      <td>준중형</td>\n",
       "      <td>12.3</td>\n",
       "      <td>204</td>\n",
       "      <td>27.0</td>\n",
       "      <td>가솔린</td>\n",
       "      <td>0</td>\n",
       "      <td>1591</td>\n",
       "      <td>1300</td>\n",
       "      <td>자동</td>\n",
       "    </tr>\n",
       "    <tr>\n",
       "      <th>2</th>\n",
       "      <td>1135</td>\n",
       "      <td>2015</td>\n",
       "      <td>소형</td>\n",
       "      <td>15.0</td>\n",
       "      <td>100</td>\n",
       "      <td>13.6</td>\n",
       "      <td>가솔린</td>\n",
       "      <td>0</td>\n",
       "      <td>1368</td>\n",
       "      <td>1035</td>\n",
       "      <td>수동</td>\n",
       "    </tr>\n",
       "    <tr>\n",
       "      <th>3</th>\n",
       "      <td>1645</td>\n",
       "      <td>2014</td>\n",
       "      <td>소형</td>\n",
       "      <td>14.0</td>\n",
       "      <td>140</td>\n",
       "      <td>17.0</td>\n",
       "      <td>가솔린</td>\n",
       "      <td>0</td>\n",
       "      <td>1591</td>\n",
       "      <td>1090</td>\n",
       "      <td>자동</td>\n",
       "    </tr>\n",
       "    <tr>\n",
       "      <th>4</th>\n",
       "      <td>1960</td>\n",
       "      <td>2015</td>\n",
       "      <td>대형</td>\n",
       "      <td>9.6</td>\n",
       "      <td>175</td>\n",
       "      <td>46.0</td>\n",
       "      <td>디젤</td>\n",
       "      <td>0</td>\n",
       "      <td>2497</td>\n",
       "      <td>1990</td>\n",
       "      <td>자동</td>\n",
       "    </tr>\n",
       "    <tr>\n",
       "      <th>...</th>\n",
       "      <td>...</td>\n",
       "      <td>...</td>\n",
       "      <td>...</td>\n",
       "      <td>...</td>\n",
       "      <td>...</td>\n",
       "      <td>...</td>\n",
       "      <td>...</td>\n",
       "      <td>...</td>\n",
       "      <td>...</td>\n",
       "      <td>...</td>\n",
       "      <td>...</td>\n",
       "    </tr>\n",
       "    <tr>\n",
       "      <th>66</th>\n",
       "      <td>3802</td>\n",
       "      <td>2015</td>\n",
       "      <td>중형</td>\n",
       "      <td>8.5</td>\n",
       "      <td>290</td>\n",
       "      <td>34.8</td>\n",
       "      <td>가솔린</td>\n",
       "      <td>0</td>\n",
       "      <td>3342</td>\n",
       "      <td>1901</td>\n",
       "      <td>자동</td>\n",
       "    </tr>\n",
       "    <tr>\n",
       "      <th>67</th>\n",
       "      <td>1270</td>\n",
       "      <td>2012</td>\n",
       "      <td>소형</td>\n",
       "      <td>13.3</td>\n",
       "      <td>108</td>\n",
       "      <td>13.9</td>\n",
       "      <td>가솔린</td>\n",
       "      <td>0</td>\n",
       "      <td>1396</td>\n",
       "      <td>1040</td>\n",
       "      <td>자동</td>\n",
       "    </tr>\n",
       "    <tr>\n",
       "      <th>68</th>\n",
       "      <td>2430</td>\n",
       "      <td>2015</td>\n",
       "      <td>준중형</td>\n",
       "      <td>12.8</td>\n",
       "      <td>186</td>\n",
       "      <td>41.0</td>\n",
       "      <td>디젤</td>\n",
       "      <td>0</td>\n",
       "      <td>1995</td>\n",
       "      <td>1665</td>\n",
       "      <td>자동</td>\n",
       "    </tr>\n",
       "    <tr>\n",
       "      <th>69</th>\n",
       "      <td>2870</td>\n",
       "      <td>2015</td>\n",
       "      <td>중형</td>\n",
       "      <td>17.7</td>\n",
       "      <td>156</td>\n",
       "      <td>19.3</td>\n",
       "      <td>가솔린</td>\n",
       "      <td>1</td>\n",
       "      <td>1999</td>\n",
       "      <td>1585</td>\n",
       "      <td>자동</td>\n",
       "    </tr>\n",
       "    <tr>\n",
       "      <th>70</th>\n",
       "      <td>3254</td>\n",
       "      <td>2015</td>\n",
       "      <td>대형</td>\n",
       "      <td>13.8</td>\n",
       "      <td>202</td>\n",
       "      <td>45.0</td>\n",
       "      <td>디젤</td>\n",
       "      <td>0</td>\n",
       "      <td>2199</td>\n",
       "      <td>1691</td>\n",
       "      <td>자동</td>\n",
       "    </tr>\n",
       "  </tbody>\n",
       "</table>\n",
       "<p>71 rows × 11 columns</p>\n",
       "</div>"
      ],
      "text/plain": [
       "      가격    년식   종류    연비   마력    토크   연료  하이브리드   배기량    중량 변속기\n",
       "0   1885  2015  준중형  11.8  172  21.0  가솔린      0  1999  1300  자동\n",
       "1   2190  2015  준중형  12.3  204  27.0  가솔린      0  1591  1300  자동\n",
       "2   1135  2015   소형  15.0  100  13.6  가솔린      0  1368  1035  수동\n",
       "3   1645  2014   소형  14.0  140  17.0  가솔린      0  1591  1090  자동\n",
       "4   1960  2015   대형   9.6  175  46.0   디젤      0  2497  1990  자동\n",
       "..   ...   ...  ...   ...  ...   ...  ...    ...   ...   ...  ..\n",
       "66  3802  2015   중형   8.5  290  34.8  가솔린      0  3342  1901  자동\n",
       "67  1270  2012   소형  13.3  108  13.9  가솔린      0  1396  1040  자동\n",
       "68  2430  2015  준중형  12.8  186  41.0   디젤      0  1995  1665  자동\n",
       "69  2870  2015   중형  17.7  156  19.3  가솔린      1  1999  1585  자동\n",
       "70  3254  2015   대형  13.8  202  45.0   디젤      0  2199  1691  자동\n",
       "\n",
       "[71 rows x 11 columns]"
      ]
     },
     "execution_count": 3,
     "metadata": {},
     "output_type": "execute_result"
    }
   ],
   "source": [
    "df = pd.read_excel('data4/hyundaiCar.xlsx')\n",
    "df"
   ]
  },
  {
   "cell_type": "code",
   "execution_count": 4,
   "id": "8283ee36",
   "metadata": {},
   "outputs": [],
   "source": [
    "x_data = df.drop('종류', axis=1)\n",
    "y_data = df[['종류']]"
   ]
  },
  {
   "cell_type": "code",
   "execution_count": 5,
   "id": "7b493347",
   "metadata": {},
   "outputs": [
    {
     "data": {
      "text/html": [
       "<div>\n",
       "<style scoped>\n",
       "    .dataframe tbody tr th:only-of-type {\n",
       "        vertical-align: middle;\n",
       "    }\n",
       "\n",
       "    .dataframe tbody tr th {\n",
       "        vertical-align: top;\n",
       "    }\n",
       "\n",
       "    .dataframe thead th {\n",
       "        text-align: right;\n",
       "    }\n",
       "</style>\n",
       "<table border=\"1\" class=\"dataframe\">\n",
       "  <thead>\n",
       "    <tr style=\"text-align: right;\">\n",
       "      <th></th>\n",
       "      <th>가격</th>\n",
       "      <th>년식</th>\n",
       "      <th>연비</th>\n",
       "      <th>마력</th>\n",
       "      <th>토크</th>\n",
       "      <th>연료</th>\n",
       "      <th>하이브리드</th>\n",
       "      <th>배기량</th>\n",
       "      <th>중량</th>\n",
       "      <th>변속기</th>\n",
       "    </tr>\n",
       "  </thead>\n",
       "  <tbody>\n",
       "    <tr>\n",
       "      <th>0</th>\n",
       "      <td>1885</td>\n",
       "      <td>2015</td>\n",
       "      <td>11.8</td>\n",
       "      <td>172</td>\n",
       "      <td>21.0</td>\n",
       "      <td>가솔린</td>\n",
       "      <td>0</td>\n",
       "      <td>1999</td>\n",
       "      <td>1300</td>\n",
       "      <td>자동</td>\n",
       "    </tr>\n",
       "    <tr>\n",
       "      <th>1</th>\n",
       "      <td>2190</td>\n",
       "      <td>2015</td>\n",
       "      <td>12.3</td>\n",
       "      <td>204</td>\n",
       "      <td>27.0</td>\n",
       "      <td>가솔린</td>\n",
       "      <td>0</td>\n",
       "      <td>1591</td>\n",
       "      <td>1300</td>\n",
       "      <td>자동</td>\n",
       "    </tr>\n",
       "    <tr>\n",
       "      <th>2</th>\n",
       "      <td>1135</td>\n",
       "      <td>2015</td>\n",
       "      <td>15.0</td>\n",
       "      <td>100</td>\n",
       "      <td>13.6</td>\n",
       "      <td>가솔린</td>\n",
       "      <td>0</td>\n",
       "      <td>1368</td>\n",
       "      <td>1035</td>\n",
       "      <td>수동</td>\n",
       "    </tr>\n",
       "    <tr>\n",
       "      <th>3</th>\n",
       "      <td>1645</td>\n",
       "      <td>2014</td>\n",
       "      <td>14.0</td>\n",
       "      <td>140</td>\n",
       "      <td>17.0</td>\n",
       "      <td>가솔린</td>\n",
       "      <td>0</td>\n",
       "      <td>1591</td>\n",
       "      <td>1090</td>\n",
       "      <td>자동</td>\n",
       "    </tr>\n",
       "    <tr>\n",
       "      <th>4</th>\n",
       "      <td>1960</td>\n",
       "      <td>2015</td>\n",
       "      <td>9.6</td>\n",
       "      <td>175</td>\n",
       "      <td>46.0</td>\n",
       "      <td>디젤</td>\n",
       "      <td>0</td>\n",
       "      <td>2497</td>\n",
       "      <td>1990</td>\n",
       "      <td>자동</td>\n",
       "    </tr>\n",
       "    <tr>\n",
       "      <th>...</th>\n",
       "      <td>...</td>\n",
       "      <td>...</td>\n",
       "      <td>...</td>\n",
       "      <td>...</td>\n",
       "      <td>...</td>\n",
       "      <td>...</td>\n",
       "      <td>...</td>\n",
       "      <td>...</td>\n",
       "      <td>...</td>\n",
       "      <td>...</td>\n",
       "    </tr>\n",
       "    <tr>\n",
       "      <th>66</th>\n",
       "      <td>3802</td>\n",
       "      <td>2015</td>\n",
       "      <td>8.5</td>\n",
       "      <td>290</td>\n",
       "      <td>34.8</td>\n",
       "      <td>가솔린</td>\n",
       "      <td>0</td>\n",
       "      <td>3342</td>\n",
       "      <td>1901</td>\n",
       "      <td>자동</td>\n",
       "    </tr>\n",
       "    <tr>\n",
       "      <th>67</th>\n",
       "      <td>1270</td>\n",
       "      <td>2012</td>\n",
       "      <td>13.3</td>\n",
       "      <td>108</td>\n",
       "      <td>13.9</td>\n",
       "      <td>가솔린</td>\n",
       "      <td>0</td>\n",
       "      <td>1396</td>\n",
       "      <td>1040</td>\n",
       "      <td>자동</td>\n",
       "    </tr>\n",
       "    <tr>\n",
       "      <th>68</th>\n",
       "      <td>2430</td>\n",
       "      <td>2015</td>\n",
       "      <td>12.8</td>\n",
       "      <td>186</td>\n",
       "      <td>41.0</td>\n",
       "      <td>디젤</td>\n",
       "      <td>0</td>\n",
       "      <td>1995</td>\n",
       "      <td>1665</td>\n",
       "      <td>자동</td>\n",
       "    </tr>\n",
       "    <tr>\n",
       "      <th>69</th>\n",
       "      <td>2870</td>\n",
       "      <td>2015</td>\n",
       "      <td>17.7</td>\n",
       "      <td>156</td>\n",
       "      <td>19.3</td>\n",
       "      <td>가솔린</td>\n",
       "      <td>1</td>\n",
       "      <td>1999</td>\n",
       "      <td>1585</td>\n",
       "      <td>자동</td>\n",
       "    </tr>\n",
       "    <tr>\n",
       "      <th>70</th>\n",
       "      <td>3254</td>\n",
       "      <td>2015</td>\n",
       "      <td>13.8</td>\n",
       "      <td>202</td>\n",
       "      <td>45.0</td>\n",
       "      <td>디젤</td>\n",
       "      <td>0</td>\n",
       "      <td>2199</td>\n",
       "      <td>1691</td>\n",
       "      <td>자동</td>\n",
       "    </tr>\n",
       "  </tbody>\n",
       "</table>\n",
       "<p>71 rows × 10 columns</p>\n",
       "</div>"
      ],
      "text/plain": [
       "      가격    년식    연비   마력    토크   연료  하이브리드   배기량    중량 변속기\n",
       "0   1885  2015  11.8  172  21.0  가솔린      0  1999  1300  자동\n",
       "1   2190  2015  12.3  204  27.0  가솔린      0  1591  1300  자동\n",
       "2   1135  2015  15.0  100  13.6  가솔린      0  1368  1035  수동\n",
       "3   1645  2014  14.0  140  17.0  가솔린      0  1591  1090  자동\n",
       "4   1960  2015   9.6  175  46.0   디젤      0  2497  1990  자동\n",
       "..   ...   ...   ...  ...   ...  ...    ...   ...   ...  ..\n",
       "66  3802  2015   8.5  290  34.8  가솔린      0  3342  1901  자동\n",
       "67  1270  2012  13.3  108  13.9  가솔린      0  1396  1040  자동\n",
       "68  2430  2015  12.8  186  41.0   디젤      0  1995  1665  자동\n",
       "69  2870  2015  17.7  156  19.3  가솔린      1  1999  1585  자동\n",
       "70  3254  2015  13.8  202  45.0   디젤      0  2199  1691  자동\n",
       "\n",
       "[71 rows x 10 columns]"
      ]
     },
     "execution_count": 5,
     "metadata": {},
     "output_type": "execute_result"
    }
   ],
   "source": [
    "x_data"
   ]
  },
  {
   "cell_type": "code",
   "execution_count": 6,
   "id": "99ffc1f1",
   "metadata": {},
   "outputs": [
    {
     "data": {
      "text/html": [
       "<div>\n",
       "<style scoped>\n",
       "    .dataframe tbody tr th:only-of-type {\n",
       "        vertical-align: middle;\n",
       "    }\n",
       "\n",
       "    .dataframe tbody tr th {\n",
       "        vertical-align: top;\n",
       "    }\n",
       "\n",
       "    .dataframe thead th {\n",
       "        text-align: right;\n",
       "    }\n",
       "</style>\n",
       "<table border=\"1\" class=\"dataframe\">\n",
       "  <thead>\n",
       "    <tr style=\"text-align: right;\">\n",
       "      <th></th>\n",
       "      <th>종류</th>\n",
       "    </tr>\n",
       "  </thead>\n",
       "  <tbody>\n",
       "    <tr>\n",
       "      <th>0</th>\n",
       "      <td>준중형</td>\n",
       "    </tr>\n",
       "    <tr>\n",
       "      <th>1</th>\n",
       "      <td>준중형</td>\n",
       "    </tr>\n",
       "    <tr>\n",
       "      <th>2</th>\n",
       "      <td>소형</td>\n",
       "    </tr>\n",
       "    <tr>\n",
       "      <th>3</th>\n",
       "      <td>소형</td>\n",
       "    </tr>\n",
       "    <tr>\n",
       "      <th>4</th>\n",
       "      <td>대형</td>\n",
       "    </tr>\n",
       "    <tr>\n",
       "      <th>...</th>\n",
       "      <td>...</td>\n",
       "    </tr>\n",
       "    <tr>\n",
       "      <th>66</th>\n",
       "      <td>중형</td>\n",
       "    </tr>\n",
       "    <tr>\n",
       "      <th>67</th>\n",
       "      <td>소형</td>\n",
       "    </tr>\n",
       "    <tr>\n",
       "      <th>68</th>\n",
       "      <td>준중형</td>\n",
       "    </tr>\n",
       "    <tr>\n",
       "      <th>69</th>\n",
       "      <td>중형</td>\n",
       "    </tr>\n",
       "    <tr>\n",
       "      <th>70</th>\n",
       "      <td>대형</td>\n",
       "    </tr>\n",
       "  </tbody>\n",
       "</table>\n",
       "<p>71 rows × 1 columns</p>\n",
       "</div>"
      ],
      "text/plain": [
       "     종류\n",
       "0   준중형\n",
       "1   준중형\n",
       "2    소형\n",
       "3    소형\n",
       "4    대형\n",
       "..  ...\n",
       "66   중형\n",
       "67   소형\n",
       "68  준중형\n",
       "69   중형\n",
       "70   대형\n",
       "\n",
       "[71 rows x 1 columns]"
      ]
     },
     "execution_count": 6,
     "metadata": {},
     "output_type": "execute_result"
    }
   ],
   "source": [
    "y_data"
   ]
  },
  {
   "cell_type": "code",
   "execution_count": 7,
   "id": "b171745f",
   "metadata": {},
   "outputs": [],
   "source": [
    "# 연료, 변속기 인코딩\n",
    "from sklearn.compose import make_column_transformer\n",
    "ct = make_column_transformer((OneHotEncoder(), ['연료', '변속기']), remainder='passthrough')"
   ]
  },
  {
   "cell_type": "markdown",
   "id": "e0b5598c",
   "metadata": {},
   "source": [
    "### 1. KNN 모델"
   ]
  },
  {
   "cell_type": "code",
   "execution_count": 8,
   "id": "54d6646f",
   "metadata": {},
   "outputs": [],
   "source": [
    "# train, test 분류\n",
    "x_train, x_test, y_train, y_test = train_test_split(x_data, y_data, test_size=0.2,\n",
    "                                                    stratify=y_data, random_state=1 )"
   ]
  },
  {
   "cell_type": "code",
   "execution_count": 9,
   "id": "95259cfb",
   "metadata": {},
   "outputs": [
    {
     "data": {
      "text/plain": [
       "Pipeline(steps=[('columntransformer',\n",
       "                 ColumnTransformer(remainder='passthrough',\n",
       "                                   transformers=[('onehotencoder',\n",
       "                                                  OneHotEncoder(),\n",
       "                                                  ['연료', '변속기'])])),\n",
       "                ('kneighborsclassifier', KNeighborsClassifier(n_neighbors=3))])"
      ]
     },
     "execution_count": 9,
     "metadata": {},
     "output_type": "execute_result"
    }
   ],
   "source": [
    "# KNN모델 적용\n",
    "model_knn =  make_pipeline(ct, KNeighborsClassifier(n_neighbors=3)) \n",
    "model_knn.fit(x_train, y_train)"
   ]
  },
  {
   "cell_type": "code",
   "execution_count": 10,
   "id": "901ac903",
   "metadata": {},
   "outputs": [],
   "source": [
    "sample = {'가격':1135, '년식':2015, '연비': 15, '마력':100,\n",
    "          '토크':13.6, '연료':'가솔린','하이브리드':0,\n",
    "          '배기량':1368, '중량':1035, '변속기':'수동'}"
   ]
  },
  {
   "cell_type": "code",
   "execution_count": 11,
   "id": "ef88e01f",
   "metadata": {},
   "outputs": [
    {
     "data": {
      "text/html": [
       "<div>\n",
       "<style scoped>\n",
       "    .dataframe tbody tr th:only-of-type {\n",
       "        vertical-align: middle;\n",
       "    }\n",
       "\n",
       "    .dataframe tbody tr th {\n",
       "        vertical-align: top;\n",
       "    }\n",
       "\n",
       "    .dataframe thead th {\n",
       "        text-align: right;\n",
       "    }\n",
       "</style>\n",
       "<table border=\"1\" class=\"dataframe\">\n",
       "  <thead>\n",
       "    <tr style=\"text-align: right;\">\n",
       "      <th></th>\n",
       "      <th>가격</th>\n",
       "      <th>년식</th>\n",
       "      <th>연비</th>\n",
       "      <th>마력</th>\n",
       "      <th>토크</th>\n",
       "      <th>연료</th>\n",
       "      <th>하이브리드</th>\n",
       "      <th>배기량</th>\n",
       "      <th>중량</th>\n",
       "      <th>변속기</th>\n",
       "    </tr>\n",
       "  </thead>\n",
       "  <tbody>\n",
       "    <tr>\n",
       "      <th>0</th>\n",
       "      <td>1135</td>\n",
       "      <td>2015</td>\n",
       "      <td>15</td>\n",
       "      <td>100</td>\n",
       "      <td>13.6</td>\n",
       "      <td>가솔린</td>\n",
       "      <td>0</td>\n",
       "      <td>1368</td>\n",
       "      <td>1035</td>\n",
       "      <td>수동</td>\n",
       "    </tr>\n",
       "  </tbody>\n",
       "</table>\n",
       "</div>"
      ],
      "text/plain": [
       "     가격    년식  연비   마력    토크   연료  하이브리드   배기량    중량 변속기\n",
       "0  1135  2015  15  100  13.6  가솔린      0  1368  1035  수동"
      ]
     },
     "execution_count": 11,
     "metadata": {},
     "output_type": "execute_result"
    }
   ],
   "source": [
    "t_sample = pd.DataFrame([sample])\n",
    "t_sample"
   ]
  },
  {
   "cell_type": "markdown",
   "id": "fe243579",
   "metadata": {},
   "source": [
    "1) 예측값"
   ]
  },
  {
   "cell_type": "code",
   "execution_count": 12,
   "id": "b038d298",
   "metadata": {},
   "outputs": [
    {
     "name": "stdout",
     "output_type": "stream",
     "text": [
      "예측:  ['소형']\n"
     ]
    }
   ],
   "source": [
    "print('예측: ',model_knn.predict(t_sample))"
   ]
  },
  {
   "cell_type": "markdown",
   "id": "3c76891c",
   "metadata": {},
   "source": [
    "2) f1 score (train/test)"
   ]
  },
  {
   "cell_type": "code",
   "execution_count": 13,
   "id": "c30695d8",
   "metadata": {},
   "outputs": [
    {
     "name": "stdout",
     "output_type": "stream",
     "text": [
      "train f1 score:  0.8928571428571429\n",
      "test f1 score:  0.8666666666666667\n"
     ]
    }
   ],
   "source": [
    "print('train f1 score: ', model_knn.score(x_train, y_train))\n",
    "print('test f1 score: ', model_knn.score(x_test, y_test))"
   ]
  },
  {
   "cell_type": "markdown",
   "id": "7ef9071e",
   "metadata": {},
   "source": [
    "3) confusion matrix"
   ]
  },
  {
   "cell_type": "code",
   "execution_count": 14,
   "id": "dece2303",
   "metadata": {},
   "outputs": [
    {
     "data": {
      "image/png": "[encoded data removed]",
      "text/plain": [
       "<Figure size 432x288 with 2 Axes>"
      ]
     },
     "metadata": {
      "needs_background": "light"
     },
     "output_type": "display_data"
    }
   ],
   "source": [
    "y_test_pred = model_knn.predict(x_test)\n",
    "cm_train = confusion_matrix(y_test, y_test_pred)\n",
    "\n",
    "sns.heatmap( cm_train, annot=True, cmap='Reds', yticklabels=[0,1,2, 3],\n",
    "            xticklabels=[0,1, 2, 3])\n",
    "plt.show()"
   ]
  },
  {
   "cell_type": "markdown",
   "id": "ddfe93f6",
   "metadata": {},
   "source": [
    "### 2. decision tree"
   ]
  },
  {
   "cell_type": "code",
   "execution_count": 15,
   "id": "2d1287b6",
   "metadata": {
    "scrolled": true
   },
   "outputs": [
    {
     "data": {
      "text/plain": [
       "Pipeline(steps=[('columntransformer',\n",
       "                 ColumnTransformer(remainder='passthrough',\n",
       "                                   transformers=[('onehotencoder',\n",
       "                                                  OneHotEncoder(),\n",
       "                                                  ['연료', '변속기'])])),\n",
       "                ('standardscaler', StandardScaler()),\n",
       "                ('decisiontreeclassifier',\n",
       "                 DecisionTreeClassifier(criterion='entropy'))])"
      ]
     },
     "execution_count": 15,
     "metadata": {},
     "output_type": "execute_result"
    }
   ],
   "source": [
    "# pipline만들고 decision tree 모델 적용\n",
    "model_tree = make_pipeline(ct, StandardScaler(), DecisionTreeClassifier(criterion=\"entropy\"))\n",
    "model_tree.fit(x_train, y_train)"
   ]
  },
  {
   "cell_type": "markdown",
   "id": "c15eb31f",
   "metadata": {},
   "source": [
    "1) 예측값"
   ]
  },
  {
   "cell_type": "code",
   "execution_count": 16,
   "id": "94816eb3",
   "metadata": {},
   "outputs": [
    {
     "name": "stdout",
     "output_type": "stream",
     "text": [
      "예측값: ['소형']\n"
     ]
    }
   ],
   "source": [
    "print('예측값:' , model_tree.predict(t_sample))"
   ]
  },
  {
   "cell_type": "markdown",
   "id": "89f15869",
   "metadata": {},
   "source": [
    "2) f1 score (train/test)"
   ]
  },
  {
   "cell_type": "code",
   "execution_count": 17,
   "id": "7306a634",
   "metadata": {},
   "outputs": [
    {
     "name": "stdout",
     "output_type": "stream",
     "text": [
      "train f1 score :  1.0\n",
      "test f1 score :  0.8666666666666667\n"
     ]
    }
   ],
   "source": [
    "print('train f1 score : ', model_tree.score(x_train, y_train))\n",
    "print('test f1 score : ', model_tree.score(x_test, y_test))"
   ]
  },
  {
   "cell_type": "markdown",
   "id": "72eb4b41",
   "metadata": {},
   "source": [
    "3) confusion heatmap"
   ]
  },
  {
   "cell_type": "code",
   "execution_count": 18,
   "id": "d1d3f740",
   "metadata": {},
   "outputs": [
    {
     "data": {
      "image/png": "[encoded data removed]",
      "text/plain": [
       "<Figure size 432x288 with 2 Axes>"
      ]
     },
     "metadata": {
      "needs_background": "light"
     },
     "output_type": "display_data"
    }
   ],
   "source": [
    "y_test_pred = model_tree.predict(x_test)\n",
    "cm_train = confusion_matrix(y_test, y_test_pred)\n",
    "\n",
    "sns.heatmap( cm_train, annot=True, cmap='Reds', yticklabels=[0,1,2, 3],\n",
    "            xticklabels=[0,1, 2, 3])\n",
    "plt.show()"
   ]
  },
  {
   "cell_type": "markdown",
   "id": "3612a02f",
   "metadata": {},
   "source": [
    "### 3. Navie_Bayes"
   ]
  },
  {
   "cell_type": "code",
   "execution_count": 19,
   "id": "9a1353cf",
   "metadata": {},
   "outputs": [
    {
     "data": {
      "text/plain": [
       "Pipeline(steps=[('columntransformer',\n",
       "                 ColumnTransformer(remainder='passthrough',\n",
       "                                   transformers=[('onehotencoder',\n",
       "                                                  OneHotEncoder(),\n",
       "                                                  ['연료', '변속기'])])),\n",
       "                ('standardscaler', StandardScaler()),\n",
       "                ('gaussiannb', GaussianNB())])"
      ]
     },
     "execution_count": 19,
     "metadata": {},
     "output_type": "execute_result"
    }
   ],
   "source": [
    "# pipline 만들기\n",
    "model_nb = make_pipeline( ct, StandardScaler(), GaussianNB())\n",
    "model_nb.fit(x_data, y_data)"
   ]
  },
  {
   "cell_type": "markdown",
   "id": "ce3556b6",
   "metadata": {},
   "source": [
    "1) 예측값"
   ]
  },
  {
   "cell_type": "code",
   "execution_count": 20,
   "id": "787fd6cf",
   "metadata": {},
   "outputs": [
    {
     "name": "stdout",
     "output_type": "stream",
     "text": [
      "예측값:  ['소형']\n"
     ]
    }
   ],
   "source": [
    "print('예측값: ', model_nb.predict(t_sample))"
   ]
  },
  {
   "cell_type": "markdown",
   "id": "4abc7e37",
   "metadata": {},
   "source": [
    "2) f1 score (test/train)"
   ]
  },
  {
   "cell_type": "code",
   "execution_count": 21,
   "id": "cfb7a2aa",
   "metadata": {},
   "outputs": [
    {
     "name": "stdout",
     "output_type": "stream",
     "text": [
      "test f1 score:  0.6\n",
      "train f1 score:  0.5714285714285714\n"
     ]
    }
   ],
   "source": [
    "print('test f1 score: ', model_nb.score(x_test, y_test))\n",
    "print('train f1 score: ', model_nb.score(x_train, y_train))"
   ]
  },
  {
   "cell_type": "markdown",
   "id": "03b9266f",
   "metadata": {},
   "source": [
    "3) confusion heatmap"
   ]
  },
  {
   "cell_type": "code",
   "execution_count": 22,
   "id": "1dd01d28",
   "metadata": {},
   "outputs": [
    {
     "data": {
      "image/png": "[encoded data removed]",
      "text/plain": [
       "<Figure size 432x288 with 2 Axes>"
      ]
     },
     "metadata": {
      "needs_background": "light"
     },
     "output_type": "display_data"
    }
   ],
   "source": [
    "y_test_pred = model_nb.predict(x_test)\n",
    "cm_train = confusion_matrix(y_test, y_test_pred)\n",
    "\n",
    "sns.heatmap( cm_train, annot=True, cmap='Reds', yticklabels=[0,1,2, 3],\n",
    "            xticklabels=[0,1, 2, 3])\n",
    "plt.show()"
   ]
  },
  {
   "cell_type": "markdown",
   "id": "cd93a267",
   "metadata": {},
   "source": [
    "### 4. SVC"
   ]
  },
  {
   "cell_type": "code",
   "execution_count": 23,
   "id": "97bcc3bc",
   "metadata": {},
   "outputs": [
    {
     "data": {
      "text/plain": [
       "Pipeline(steps=[('columntransformer',\n",
       "                 ColumnTransformer(remainder='passthrough',\n",
       "                                   transformers=[('onehotencoder',\n",
       "                                                  OneHotEncoder(),\n",
       "                                                  ['연료', '변속기'])])),\n",
       "                ('standardscaler', StandardScaler()), ('svc', SVC())])"
      ]
     },
     "execution_count": 23,
     "metadata": {},
     "output_type": "execute_result"
    }
   ],
   "source": [
    "model_svc = make_pipeline(ct,StandardScaler(), SVC())\n",
    "model_svc.fit(x_train, y_train)"
   ]
  },
  {
   "cell_type": "markdown",
   "id": "1c7e8d3c",
   "metadata": {},
   "source": [
    "1) 예측값"
   ]
  },
  {
   "cell_type": "code",
   "execution_count": 24,
   "id": "dbd5b044",
   "metadata": {},
   "outputs": [
    {
     "name": "stdout",
     "output_type": "stream",
     "text": [
      "예측값:  ['소형']\n"
     ]
    }
   ],
   "source": [
    "print('예측값: ', model_svc.predict(t_sample))"
   ]
  },
  {
   "cell_type": "markdown",
   "id": "72e06e56",
   "metadata": {},
   "source": [
    "2) f1 score (test/train)"
   ]
  },
  {
   "cell_type": "code",
   "execution_count": 25,
   "id": "f8a80ad0",
   "metadata": {},
   "outputs": [
    {
     "name": "stdout",
     "output_type": "stream",
     "text": [
      "test f1 score:  0.8666666666666667\n",
      "train f1 score:  0.8571428571428571\n"
     ]
    }
   ],
   "source": [
    "print('test f1 score: ', model_svc.score(x_test, y_test))\n",
    "print('train f1 score: ', model_svc.score(x_train, y_train))"
   ]
  },
  {
   "cell_type": "markdown",
   "id": "e7cef714",
   "metadata": {},
   "source": [
    "3) confusion heatmap"
   ]
  },
  {
   "cell_type": "code",
   "execution_count": 27,
   "id": "434aecf7",
   "metadata": {},
   "outputs": [
    {
     "data": {
      "image/png": "[encoded data removed]",
      "text/plain": [
       "<Figure size 432x288 with 2 Axes>"
      ]
     },
     "metadata": {
      "needs_background": "light"
     },
     "output_type": "display_data"
    }
   ],
   "source": [
    "y_test_pred = model_svc.predict(x_test)\n",
    "cm_train = confusion_matrix(y_test, y_test_pred)\n",
    "\n",
    "sns.heatmap( cm_train, annot=True, cmap='Reds', yticklabels=[0,1,2, 3],\n",
    "            xticklabels=[0,1, 2, 3])\n",
    "plt.show()"
   ]
  },
  {
   "cell_type": "markdown",
   "id": "4c60830a",
   "metadata": {},
   "source": [
    "### 5. BAR CHART\n",
    "\n",
    "각모델별 train ,test f1 를  bar 그래프로 그리고,  \n",
    "가장높은 f1 score 의 모델을 확인하시요."
   ]
  },
  {
   "cell_type": "code",
   "execution_count": 28,
   "id": "191ffa0b",
   "metadata": {},
   "outputs": [],
   "source": [
    "df_chart = pd.DataFrame({\n",
    "    'KNN':[model_knn.score(x_train, y_train), model_knn.score(x_test, y_test)], \n",
    "    'D-Tree':[model_tree.score(x_train, y_train), model_tree.score(x_test, y_test)], \n",
    "    'Naive_Bayes':[model_nb.score(x_train, y_train), model_nb.score(x_test, y_test)], \n",
    "    'SVC':[model_svc.score(x_train, y_train), model_svc.score(x_test, y_test)]\n",
    "})"
   ]
  },
  {
   "cell_type": "code",
   "execution_count": 29,
   "id": "7ebb2674",
   "metadata": {},
   "outputs": [
    {
     "data": {
      "text/html": [
       "<div>\n",
       "<style scoped>\n",
       "    .dataframe tbody tr th:only-of-type {\n",
       "        vertical-align: middle;\n",
       "    }\n",
       "\n",
       "    .dataframe tbody tr th {\n",
       "        vertical-align: top;\n",
       "    }\n",
       "\n",
       "    .dataframe thead th {\n",
       "        text-align: right;\n",
       "    }\n",
       "</style>\n",
       "<table border=\"1\" class=\"dataframe\">\n",
       "  <thead>\n",
       "    <tr style=\"text-align: right;\">\n",
       "      <th></th>\n",
       "      <th>KNN</th>\n",
       "      <th>D-Tree</th>\n",
       "      <th>Naive_Bayes</th>\n",
       "      <th>SVC</th>\n",
       "    </tr>\n",
       "  </thead>\n",
       "  <tbody>\n",
       "    <tr>\n",
       "      <th>f1_train_score</th>\n",
       "      <td>0.892857</td>\n",
       "      <td>1.000000</td>\n",
       "      <td>0.571429</td>\n",
       "      <td>0.857143</td>\n",
       "    </tr>\n",
       "    <tr>\n",
       "      <th>f1_test_score</th>\n",
       "      <td>0.866667</td>\n",
       "      <td>0.866667</td>\n",
       "      <td>0.600000</td>\n",
       "      <td>0.866667</td>\n",
       "    </tr>\n",
       "  </tbody>\n",
       "</table>\n",
       "</div>"
      ],
      "text/plain": [
       "                     KNN    D-Tree  Naive_Bayes       SVC\n",
       "f1_train_score  0.892857  1.000000     0.571429  0.857143\n",
       "f1_test_score   0.866667  0.866667     0.600000  0.866667"
      ]
     },
     "execution_count": 29,
     "metadata": {},
     "output_type": "execute_result"
    }
   ],
   "source": [
    "df_chart.rename(index={0:'f1_train_score', 1:'f1_test_score'})"
   ]
  },
  {
   "cell_type": "code",
   "execution_count": 30,
   "id": "6258a4f7",
   "metadata": {},
   "outputs": [],
   "source": [
    "label = ['KNN','D-Tree','Naive_Bayes','SVC']\n",
    "index = np.arange(len(label))"
   ]
  },
  {
   "cell_type": "code",
   "execution_count": 35,
   "id": "ece481e6",
   "metadata": {},
   "outputs": [
    {
     "data": {
      "image/png": "[encoded data removed]",
      "text/plain": [
       "<Figure size 432x288 with 1 Axes>"
      ]
     },
     "metadata": {
      "needs_background": "light"
     },
     "output_type": "display_data"
    }
   ],
   "source": [
    "bar_width = 0.35\n",
    "alpha = 0.5\n",
    "\n",
    "p1 = plt.bar(index,  df_chart.iloc[0], \n",
    "             bar_width, \n",
    "             color='b', \n",
    "             alpha=alpha,\n",
    "             label='Train')\n",
    "\n",
    "p2 = plt.bar(index + bar_width,  df_chart.iloc[1], \n",
    "             bar_width, \n",
    "             color='r',\n",
    "             alpha=alpha,\n",
    "             label='Test')\n",
    "\n",
    "plt.title('F1 Score', fontsize=20)\n",
    "plt.ylabel('Score', fontsize=18)\n",
    "plt.xlabel('Model', fontsize=18)\n",
    "plt.xticks(index, label, fontsize=15)\n",
    "plt.legend((p1[0], p2[0]), ('Train', 'Test'), fontsize=15)\n",
    "\n",
    "plt.show()"
   ]
  },
  {
   "cell_type": "code",
   "execution_count": null,
   "id": "1927b3fd",
   "metadata": {},
   "outputs": [],
   "source": []
  }
 ],
 "metadata": {
  "kernelspec": {
   "display_name": "Python 3",
   "language": "python",
   "name": "python3"
  },
  "language_info": {
   "codemirror_mode": {
    "name": "ipython",
    "version": 3
   },
   "file_extension": ".py",
   "mimetype": "text/x-python",
   "name": "python",
   "nbconvert_exporter": "python",
   "pygments_lexer": "ipython3",
   "version": "3.8.8"
  },
  "toc": {
   "base_numbering": 1,
   "nav_menu": {},
   "number_sections": false,
   "sideBar": true,
   "skip_h1_title": false,
   "title_cell": "Table of Contents",
   "title_sidebar": "Contents",
   "toc_cell": false,
   "toc_position": {},
   "toc_section_display": true,
   "toc_window_display": false
  }
 },
 "nbformat": 4,
 "nbformat_minor": 5
}
