{
 "cells": [
  {
   "cell_type": "code",
   "execution_count": 1,
   "id": "1abdc1af",
   "metadata": {
    "ExecuteTime": {
     "end_time": "2021-07-21T05:37:09.784210Z",
     "start_time": "2021-07-21T05:37:07.459693Z"
    }
   },
   "outputs": [],
   "source": [
    "import pandas as pd\n",
    "import numpy as np\n",
    "import seaborn as sns\n",
    "from sklearn.datasets import load_boston, load_iris\n",
    "\n",
    "from sklearn.linear_model import Ridge,Lasso,ElasticNet, LinearRegression\n",
    "from sklearn.preprocessing import PolynomialFeatures\n",
    "from sklearn.pipeline import make_pipeline\n",
    "\n",
    "from sklearn.preprocessing import StandardScaler\n",
    "\n",
    "from sklearn.neural_network import MLPRegressor\n",
    "from sklearn.model_selection import train_test_split\n",
    "from sklearn.model_selection import GridSearchCV\n",
    "from sklearn.model_selection import cross_val_score\n",
    "\n",
    "import mglearn\n",
    "import matplotlib.pyplot as plt\n",
    "import matplotlib\n",
    "matplotlib.rcParams['font.family']='Malgun Gothic'\n",
    "matplotlib.rcParams['axes.unicode_minus'] = False\n",
    "\n",
    "import warnings\n",
    "warnings.simplefilter('ignore')"
   ]
  },
  {
   "cell_type": "code",
   "execution_count": 2,
   "id": "95983f64",
   "metadata": {
    "ExecuteTime": {
     "end_time": "2021-07-21T05:37:22.702595Z",
     "start_time": "2021-07-21T05:37:21.855026Z"
    }
   },
   "outputs": [],
   "source": [
    "train_df = pd.read_excel('./data4/hyundaiCar.xlsx', sheet_name='train')\n",
    "test_df = pd.read_excel('./data4/hyundaiCar.xlsx', sheet_name='test')"
   ]
  },
  {
   "cell_type": "code",
   "execution_count": 3,
   "id": "5aedb17f",
   "metadata": {
    "ExecuteTime": {
     "end_time": "2021-07-21T05:59:13.153701Z",
     "start_time": "2021-07-21T05:59:13.142133Z"
    }
   },
   "outputs": [],
   "source": [
    "x_train, y_train = train_df.iloc[:, 1:], train_df['가격']\n",
    "x_test, y_test = test_df.iloc[:, 1:], test_df['가격']"
   ]
  },
  {
   "cell_type": "markdown",
   "id": "dfdc955b",
   "metadata": {},
   "source": [
    "연습문제.\n",
    "\n",
    "라벨인코딩을 이용하여\n",
    "2015, 준중형, 12.3, 204, 27,가솔린,0,1591,1300,자동\n",
    "자동차가격을 예측하시요"
   ]
  },
  {
   "cell_type": "code",
   "execution_count": 4,
   "id": "621201f4",
   "metadata": {
    "ExecuteTime": {
     "end_time": "2021-07-21T05:39:25.121008Z",
     "start_time": "2021-07-21T05:39:25.080284Z"
    }
   },
   "outputs": [
    {
     "data": {
      "text/html": [
       "<div>\n",
       "<style scoped>\n",
       "    .dataframe tbody tr th:only-of-type {\n",
       "        vertical-align: middle;\n",
       "    }\n",
       "\n",
       "    .dataframe tbody tr th {\n",
       "        vertical-align: top;\n",
       "    }\n",
       "\n",
       "    .dataframe thead th {\n",
       "        text-align: right;\n",
       "    }\n",
       "</style>\n",
       "<table border=\"1\" class=\"dataframe\">\n",
       "  <thead>\n",
       "    <tr style=\"text-align: right;\">\n",
       "      <th></th>\n",
       "      <th>년식</th>\n",
       "      <th>종류</th>\n",
       "      <th>연비</th>\n",
       "      <th>마력</th>\n",
       "      <th>토크</th>\n",
       "      <th>연료</th>\n",
       "      <th>하이브리드</th>\n",
       "      <th>배기량</th>\n",
       "      <th>중량</th>\n",
       "      <th>변속기</th>\n",
       "    </tr>\n",
       "  </thead>\n",
       "  <tbody>\n",
       "    <tr>\n",
       "      <th>0</th>\n",
       "      <td>2015</td>\n",
       "      <td>준중형</td>\n",
       "      <td>11.8</td>\n",
       "      <td>172</td>\n",
       "      <td>21.0</td>\n",
       "      <td>가솔린</td>\n",
       "      <td>0</td>\n",
       "      <td>1999</td>\n",
       "      <td>1300</td>\n",
       "      <td>자동</td>\n",
       "    </tr>\n",
       "    <tr>\n",
       "      <th>1</th>\n",
       "      <td>2015</td>\n",
       "      <td>준중형</td>\n",
       "      <td>12.3</td>\n",
       "      <td>204</td>\n",
       "      <td>27.0</td>\n",
       "      <td>가솔린</td>\n",
       "      <td>0</td>\n",
       "      <td>1591</td>\n",
       "      <td>1300</td>\n",
       "      <td>자동</td>\n",
       "    </tr>\n",
       "    <tr>\n",
       "      <th>2</th>\n",
       "      <td>2015</td>\n",
       "      <td>소형</td>\n",
       "      <td>15.0</td>\n",
       "      <td>100</td>\n",
       "      <td>13.6</td>\n",
       "      <td>가솔린</td>\n",
       "      <td>0</td>\n",
       "      <td>1368</td>\n",
       "      <td>1035</td>\n",
       "      <td>수동</td>\n",
       "    </tr>\n",
       "    <tr>\n",
       "      <th>3</th>\n",
       "      <td>2014</td>\n",
       "      <td>소형</td>\n",
       "      <td>14.0</td>\n",
       "      <td>140</td>\n",
       "      <td>17.0</td>\n",
       "      <td>가솔린</td>\n",
       "      <td>0</td>\n",
       "      <td>1591</td>\n",
       "      <td>1090</td>\n",
       "      <td>자동</td>\n",
       "    </tr>\n",
       "    <tr>\n",
       "      <th>4</th>\n",
       "      <td>2015</td>\n",
       "      <td>대형</td>\n",
       "      <td>9.6</td>\n",
       "      <td>175</td>\n",
       "      <td>46.0</td>\n",
       "      <td>디젤</td>\n",
       "      <td>0</td>\n",
       "      <td>2497</td>\n",
       "      <td>1990</td>\n",
       "      <td>자동</td>\n",
       "    </tr>\n",
       "    <tr>\n",
       "      <th>...</th>\n",
       "      <td>...</td>\n",
       "      <td>...</td>\n",
       "      <td>...</td>\n",
       "      <td>...</td>\n",
       "      <td>...</td>\n",
       "      <td>...</td>\n",
       "      <td>...</td>\n",
       "      <td>...</td>\n",
       "      <td>...</td>\n",
       "      <td>...</td>\n",
       "    </tr>\n",
       "    <tr>\n",
       "      <th>66</th>\n",
       "      <td>2015</td>\n",
       "      <td>중형</td>\n",
       "      <td>8.5</td>\n",
       "      <td>290</td>\n",
       "      <td>34.8</td>\n",
       "      <td>가솔린</td>\n",
       "      <td>0</td>\n",
       "      <td>3342</td>\n",
       "      <td>1901</td>\n",
       "      <td>자동</td>\n",
       "    </tr>\n",
       "    <tr>\n",
       "      <th>67</th>\n",
       "      <td>2012</td>\n",
       "      <td>소형</td>\n",
       "      <td>13.3</td>\n",
       "      <td>108</td>\n",
       "      <td>13.9</td>\n",
       "      <td>가솔린</td>\n",
       "      <td>0</td>\n",
       "      <td>1396</td>\n",
       "      <td>1040</td>\n",
       "      <td>자동</td>\n",
       "    </tr>\n",
       "    <tr>\n",
       "      <th>68</th>\n",
       "      <td>2015</td>\n",
       "      <td>준중형</td>\n",
       "      <td>12.8</td>\n",
       "      <td>186</td>\n",
       "      <td>41.0</td>\n",
       "      <td>디젤</td>\n",
       "      <td>0</td>\n",
       "      <td>1995</td>\n",
       "      <td>1665</td>\n",
       "      <td>자동</td>\n",
       "    </tr>\n",
       "    <tr>\n",
       "      <th>69</th>\n",
       "      <td>2015</td>\n",
       "      <td>중형</td>\n",
       "      <td>17.7</td>\n",
       "      <td>156</td>\n",
       "      <td>19.3</td>\n",
       "      <td>가솔린</td>\n",
       "      <td>1</td>\n",
       "      <td>1999</td>\n",
       "      <td>1585</td>\n",
       "      <td>자동</td>\n",
       "    </tr>\n",
       "    <tr>\n",
       "      <th>70</th>\n",
       "      <td>2015</td>\n",
       "      <td>대형</td>\n",
       "      <td>13.8</td>\n",
       "      <td>202</td>\n",
       "      <td>45.0</td>\n",
       "      <td>디젤</td>\n",
       "      <td>0</td>\n",
       "      <td>2199</td>\n",
       "      <td>1691</td>\n",
       "      <td>자동</td>\n",
       "    </tr>\n",
       "  </tbody>\n",
       "</table>\n",
       "<p>71 rows × 10 columns</p>\n",
       "</div>"
      ],
      "text/plain": [
       "      년식   종류    연비   마력    토크   연료  하이브리드   배기량    중량 변속기\n",
       "0   2015  준중형  11.8  172  21.0  가솔린      0  1999  1300  자동\n",
       "1   2015  준중형  12.3  204  27.0  가솔린      0  1591  1300  자동\n",
       "2   2015   소형  15.0  100  13.6  가솔린      0  1368  1035  수동\n",
       "3   2014   소형  14.0  140  17.0  가솔린      0  1591  1090  자동\n",
       "4   2015   대형   9.6  175  46.0   디젤      0  2497  1990  자동\n",
       "..   ...  ...   ...  ...   ...  ...    ...   ...   ...  ..\n",
       "66  2015   중형   8.5  290  34.8  가솔린      0  3342  1901  자동\n",
       "67  2012   소형  13.3  108  13.9  가솔린      0  1396  1040  자동\n",
       "68  2015  준중형  12.8  186  41.0   디젤      0  1995  1665  자동\n",
       "69  2015   중형  17.7  156  19.3  가솔린      1  1999  1585  자동\n",
       "70  2015   대형  13.8  202  45.0   디젤      0  2199  1691  자동\n",
       "\n",
       "[71 rows x 10 columns]"
      ]
     },
     "execution_count": 4,
     "metadata": {},
     "output_type": "execute_result"
    }
   ],
   "source": [
    "x_train"
   ]
  },
  {
   "cell_type": "code",
   "execution_count": 5,
   "id": "f6de8833",
   "metadata": {
    "ExecuteTime": {
     "end_time": "2021-07-21T06:01:38.405444Z",
     "start_time": "2021-07-21T06:01:38.382890Z"
    }
   },
   "outputs": [
    {
     "data": {
      "text/html": [
       "<div>\n",
       "<style scoped>\n",
       "    .dataframe tbody tr th:only-of-type {\n",
       "        vertical-align: middle;\n",
       "    }\n",
       "\n",
       "    .dataframe tbody tr th {\n",
       "        vertical-align: top;\n",
       "    }\n",
       "\n",
       "    .dataframe thead th {\n",
       "        text-align: right;\n",
       "    }\n",
       "</style>\n",
       "<table border=\"1\" class=\"dataframe\">\n",
       "  <thead>\n",
       "    <tr style=\"text-align: right;\">\n",
       "      <th></th>\n",
       "      <th>년식</th>\n",
       "      <th>종류</th>\n",
       "      <th>연비</th>\n",
       "      <th>마력</th>\n",
       "      <th>토크</th>\n",
       "      <th>연료</th>\n",
       "      <th>하이브리드</th>\n",
       "      <th>배기량</th>\n",
       "      <th>중량</th>\n",
       "      <th>변속기</th>\n",
       "    </tr>\n",
       "  </thead>\n",
       "  <tbody>\n",
       "    <tr>\n",
       "      <th>0</th>\n",
       "      <td>2015</td>\n",
       "      <td>대형</td>\n",
       "      <td>6.8</td>\n",
       "      <td>159</td>\n",
       "      <td>23.0</td>\n",
       "      <td>LPG</td>\n",
       "      <td>0</td>\n",
       "      <td>2359</td>\n",
       "      <td>1935</td>\n",
       "      <td>수동</td>\n",
       "    </tr>\n",
       "    <tr>\n",
       "      <th>1</th>\n",
       "      <td>2012</td>\n",
       "      <td>소형</td>\n",
       "      <td>13.3</td>\n",
       "      <td>108</td>\n",
       "      <td>13.9</td>\n",
       "      <td>가솔린</td>\n",
       "      <td>0</td>\n",
       "      <td>1396</td>\n",
       "      <td>1035</td>\n",
       "      <td>자동</td>\n",
       "    </tr>\n",
       "    <tr>\n",
       "      <th>2</th>\n",
       "      <td>2015</td>\n",
       "      <td>중형</td>\n",
       "      <td>14.4</td>\n",
       "      <td>184</td>\n",
       "      <td>41.0</td>\n",
       "      <td>디젤</td>\n",
       "      <td>0</td>\n",
       "      <td>1995</td>\n",
       "      <td>1792</td>\n",
       "      <td>자동</td>\n",
       "    </tr>\n",
       "    <tr>\n",
       "      <th>3</th>\n",
       "      <td>2015</td>\n",
       "      <td>대형</td>\n",
       "      <td>10.9</td>\n",
       "      <td>175</td>\n",
       "      <td>46.0</td>\n",
       "      <td>디젤</td>\n",
       "      <td>0</td>\n",
       "      <td>2497</td>\n",
       "      <td>2210</td>\n",
       "      <td>수동</td>\n",
       "    </tr>\n",
       "    <tr>\n",
       "      <th>4</th>\n",
       "      <td>2015</td>\n",
       "      <td>대형</td>\n",
       "      <td>6.4</td>\n",
       "      <td>159</td>\n",
       "      <td>23.0</td>\n",
       "      <td>LPG</td>\n",
       "      <td>0</td>\n",
       "      <td>2359</td>\n",
       "      <td>1935</td>\n",
       "      <td>자동</td>\n",
       "    </tr>\n",
       "  </tbody>\n",
       "</table>\n",
       "</div>"
      ],
      "text/plain": [
       "     년식  종류    연비   마력    토크   연료  하이브리드   배기량    중량 변속기\n",
       "0  2015  대형   6.8  159  23.0  LPG      0  2359  1935  수동\n",
       "1  2012  소형  13.3  108  13.9  가솔린      0  1396  1035  자동\n",
       "2  2015  중형  14.4  184  41.0   디젤      0  1995  1792  자동\n",
       "3  2015  대형  10.9  175  46.0   디젤      0  2497  2210  수동\n",
       "4  2015  대형   6.4  159  23.0  LPG      0  2359  1935  자동"
      ]
     },
     "execution_count": 5,
     "metadata": {},
     "output_type": "execute_result"
    }
   ],
   "source": [
    "x_test.head()"
   ]
  },
  {
   "cell_type": "code",
   "execution_count": 6,
   "id": "425c3fcc",
   "metadata": {
    "ExecuteTime": {
     "end_time": "2021-07-21T05:58:36.691571Z",
     "start_time": "2021-07-21T05:58:36.652100Z"
    },
    "scrolled": true
   },
   "outputs": [],
   "source": [
    "from sklearn.preprocessing import OrdinalEncoder\n",
    "encoder = OrdinalEncoder()\n",
    "encoder.fit(x_train[['종류', '연료', '변속기']])\n",
    "x_train[['종류', '연료', '변속기']] = encoder.transform(x_train[['종류', '연료', '변속기']])\n"
   ]
  },
  {
   "cell_type": "code",
   "execution_count": 7,
   "id": "ac16ee4d",
   "metadata": {
    "ExecuteTime": {
     "end_time": "2021-07-21T06:00:46.310228Z",
     "start_time": "2021-07-21T06:00:46.296067Z"
    }
   },
   "outputs": [
    {
     "name": "stdout",
     "output_type": "stream",
     "text": [
      "[2. 1. 0. 3.] ['대형' '소형' '중형' '준중형']\n"
     ]
    }
   ],
   "source": [
    "print(x_train.종류.unique(), x_test.종류.unique())"
   ]
  },
  {
   "cell_type": "code",
   "execution_count": 8,
   "id": "94f91910",
   "metadata": {
    "ExecuteTime": {
     "end_time": "2021-07-21T06:01:02.682498Z",
     "start_time": "2021-07-21T06:01:02.640941Z"
    }
   },
   "outputs": [],
   "source": [
    "x_test[['종류', '연료', '변속기']] = encoder.transform(x_test[['종류', '연료', '변속기']])"
   ]
  },
  {
   "cell_type": "code",
   "execution_count": 9,
   "id": "00cc970d",
   "metadata": {
    "ExecuteTime": {
     "end_time": "2021-07-21T05:50:11.400655Z",
     "start_time": "2021-07-21T05:50:09.587547Z"
    }
   },
   "outputs": [
    {
     "name": "stdout",
     "output_type": "stream",
     "text": [
      "Fitting 5 folds for each of 40 candidates, totalling 200 fits\n"
     ]
    },
    {
     "data": {
      "text/plain": [
       "GridSearchCV(cv=5,\n",
       "             estimator=Pipeline(steps=[('scl', StandardScaler()),\n",
       "                                       ('clf', ElasticNet())]),\n",
       "             param_grid={'clf__alpha': [0.001, 0.01, 1, 2, 3, 4, 10, 100],\n",
       "                         'clf__l1_ratio': [0, 0.25, 0.5, 0.75, 1]},\n",
       "             scoring='r2', verbose=1)"
      ]
     },
     "execution_count": 9,
     "metadata": {},
     "output_type": "execute_result"
    }
   ],
   "source": [
    "from sklearn.pipeline import Pipeline\n",
    "model_elasticnet = Pipeline([('scl', StandardScaler()), ('clf', ElasticNet())])\n",
    "param_value = {'clf__alpha':[0.001, 0.01, 1, 2, 3, 4, 10, 100],'clf__l1_ratio':[0, 0.25, 0.5, 0.75, 1] }\n",
    "gridSearch = GridSearchCV(model_elasticnet, param_grid=param_value, cv=5, verbose=1, scoring='r2')\n",
    "gridSearch.fit(x_train, y_train)"
   ]
  },
  {
   "cell_type": "code",
   "execution_count": 10,
   "id": "eac11129",
   "metadata": {
    "ExecuteTime": {
     "end_time": "2021-07-21T05:55:16.728012Z",
     "start_time": "2021-07-21T05:55:16.706770Z"
    }
   },
   "outputs": [
    {
     "data": {
      "text/plain": [
       "{'clf__alpha': 1, 'clf__l1_ratio': 0.75}"
      ]
     },
     "execution_count": 10,
     "metadata": {},
     "output_type": "execute_result"
    }
   ],
   "source": [
    "gridSearch.best_params_"
   ]
  },
  {
   "cell_type": "code",
   "execution_count": 11,
   "id": "a25f7026",
   "metadata": {
    "ExecuteTime": {
     "end_time": "2021-07-21T05:57:25.843720Z",
     "start_time": "2021-07-21T05:57:25.825893Z"
    }
   },
   "outputs": [
    {
     "data": {
      "text/plain": [
       "0.7311557986127946"
      ]
     },
     "execution_count": 11,
     "metadata": {},
     "output_type": "execute_result"
    }
   ],
   "source": [
    "gridSearch.best_score_"
   ]
  },
  {
   "cell_type": "code",
   "execution_count": null,
   "id": "57db035a",
   "metadata": {},
   "outputs": [],
   "source": []
  },
  {
   "cell_type": "code",
   "execution_count": 12,
   "id": "11cfa56b",
   "metadata": {
    "ExecuteTime": {
     "end_time": "2021-07-21T05:58:05.598664Z",
     "start_time": "2021-07-21T05:58:05.575817Z"
    }
   },
   "outputs": [
    {
     "data": {
      "text/plain": [
       "0.6862743665390543"
      ]
     },
     "execution_count": 12,
     "metadata": {},
     "output_type": "execute_result"
    }
   ],
   "source": [
    "gridSearch.best_estimator_.score(x_test, y_test)"
   ]
  },
  {
   "cell_type": "code",
   "execution_count": 13,
   "id": "1ea835b9",
   "metadata": {
    "ExecuteTime": {
     "end_time": "2021-07-21T05:54:10.138216Z",
     "start_time": "2021-07-21T05:54:10.103834Z"
    }
   },
   "outputs": [
    {
     "data": {
      "text/html": [
       "<div>\n",
       "<style scoped>\n",
       "    .dataframe tbody tr th:only-of-type {\n",
       "        vertical-align: middle;\n",
       "    }\n",
       "\n",
       "    .dataframe tbody tr th {\n",
       "        vertical-align: top;\n",
       "    }\n",
       "\n",
       "    .dataframe thead th {\n",
       "        text-align: right;\n",
       "    }\n",
       "</style>\n",
       "<table border=\"1\" class=\"dataframe\">\n",
       "  <thead>\n",
       "    <tr style=\"text-align: right;\">\n",
       "      <th></th>\n",
       "      <th>년식</th>\n",
       "      <th>종류</th>\n",
       "      <th>연비</th>\n",
       "      <th>마력</th>\n",
       "      <th>토크</th>\n",
       "      <th>연료</th>\n",
       "      <th>하이브리드</th>\n",
       "      <th>배기량</th>\n",
       "      <th>중량</th>\n",
       "      <th>변속기</th>\n",
       "    </tr>\n",
       "  </thead>\n",
       "  <tbody>\n",
       "    <tr>\n",
       "      <th>0</th>\n",
       "      <td>2015</td>\n",
       "      <td>2.0</td>\n",
       "      <td>12.3</td>\n",
       "      <td>204</td>\n",
       "      <td>27</td>\n",
       "      <td>1.0</td>\n",
       "      <td>0</td>\n",
       "      <td>1591</td>\n",
       "      <td>1300</td>\n",
       "      <td>1.0</td>\n",
       "    </tr>\n",
       "  </tbody>\n",
       "</table>\n",
       "</div>"
      ],
      "text/plain": [
       "     년식   종류    연비   마력  토크   연료  하이브리드   배기량    중량  변속기\n",
       "0  2015  2.0  12.3  204  27  1.0      0  1591  1300  1.0"
      ]
     },
     "execution_count": 13,
     "metadata": {},
     "output_type": "execute_result"
    }
   ],
   "source": [
    "test = pd.DataFrame([[2015, '준중형', 12.3, 204, 27,'가솔린',0,1591,1300,'자동']], columns = x_train.columns)\n",
    "test[['종류', '연료', '변속기']] = encoder.transform(test[['종류', '연료', '변속기']])\n",
    "test"
   ]
  },
  {
   "cell_type": "code",
   "execution_count": 14,
   "id": "7675503f",
   "metadata": {
    "ExecuteTime": {
     "end_time": "2021-07-21T05:54:12.989718Z",
     "start_time": "2021-07-21T05:54:12.973549Z"
    }
   },
   "outputs": [
    {
     "data": {
      "text/plain": [
       "array([2413.62771031])"
      ]
     },
     "execution_count": 14,
     "metadata": {},
     "output_type": "execute_result"
    }
   ],
   "source": [
    "gridSearch.best_estimator_.predict(test)"
   ]
  },
  {
   "cell_type": "code",
   "execution_count": null,
   "id": "b7065fa3",
   "metadata": {},
   "outputs": [],
   "source": []
  }
 ],
 "metadata": {
  "hide_input": false,
  "kernelspec": {
   "display_name": "Python 3",
   "language": "python",
   "name": "python3"
  },
  "language_info": {
   "codemirror_mode": {
    "name": "ipython",
    "version": 3
   },
   "file_extension": ".py",
   "mimetype": "text/x-python",
   "name": "python",
   "nbconvert_exporter": "python",
   "pygments_lexer": "ipython3",
   "version": "3.8.10"
  },
  "toc": {
   "base_numbering": 1,
   "nav_menu": {},
   "number_sections": true,
   "sideBar": true,
   "skip_h1_title": false,
   "title_cell": "Table of Contents",
   "title_sidebar": "Contents",
   "toc_cell": false,
   "toc_position": {},
   "toc_section_display": true,
   "toc_window_display": false
  },
  "varInspector": {
   "cols": {
    "lenName": 16,
    "lenType": 16,
    "lenVar": 40
   },
   "kernels_config": {
    "python": {
     "delete_cmd_postfix": "",
     "delete_cmd_prefix": "del ",
     "library": "var_list.py",
     "varRefreshCmd": "print(var_dic_list())"
    },
    "r": {
     "delete_cmd_postfix": ") ",
     "delete_cmd_prefix": "rm(",
     "library": "var_list.r",
     "varRefreshCmd": "cat(var_dic_list()) "
    }
   },
   "types_to_exclude": [
    "module",
    "function",
    "builtin_function_or_method",
    "instance",
    "_Feature"
   ],
   "window_display": false
  }
 },
 "nbformat": 4,
 "nbformat_minor": 5
}
