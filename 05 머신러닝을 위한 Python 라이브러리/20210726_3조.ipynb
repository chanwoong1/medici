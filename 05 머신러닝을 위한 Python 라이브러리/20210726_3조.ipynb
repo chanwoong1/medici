{
 "cells": [
  {
   "cell_type": "markdown",
   "metadata": {},
   "source": [
    "현대 자동차 데이터를 이용\n",
    "\n",
    "가격:1135 \n",
    "년식:2015\n",
    "연비: 15\n",
    "마력:100\n",
    "토크:13.6\n",
    "연료:가솔린\n",
    "하이브리드:0\n",
    "배기량:1368\n",
    "중량:1035\n",
    "변속기:수동\n",
    "\n",
    "인경우 종류( 준중형, 소형, 대형)\n",
    "를 예측하시요.\n",
    " KNN, decision tree, naive_bayes, svc \n",
    "각각의 모델에 대해 \n",
    "1. f1 score(train, test) , confusion matrix,\n",
    "를 구하시요\n",
    "\n",
    "2. 각모델별 train ,test f1 를  bar 그래프로 그리고\n",
    "가장높은 f1 score 의 모델을 확인하시요."
   ]
  },
  {
   "cell_type": "code",
   "execution_count": 1,
   "metadata": {
    "ExecuteTime": {
     "end_time": "2021-07-26T11:49:03.446313Z",
     "start_time": "2021-07-26T11:48:58.727077Z"
    }
   },
   "outputs": [],
   "source": [
    "from sklearn.datasets import make_classification\n",
    "\n",
    "from sklearn.model_selection import train_test_split, GridSearchCV\n",
    "from sklearn.model_selection import cross_val_score, cross_validate\n",
    "import multiprocessing\n",
    "\n",
    "\n",
    "from sklearn.datasets import load_boston, load_breast_cancer,load_iris\n",
    "from sklearn.datasets import load_wine\n",
    "from sklearn.pipeline import make_pipeline, Pipeline\n",
    "from sklearn.preprocessing import StandardScaler, MinMaxScaler\n",
    "from sklearn.svm import SVC #SVM\n",
    "from sklearn import metrics\n",
    "from sklearn.datasets import make_classification, load_breast_cancer\n",
    "from sklearn.linear_model import LogisticRegression\n",
    "from sklearn.model_selection import train_test_split\n",
    "from sklearn.naive_bayes import GaussianNB, BernoulliNB, MultinomialNB\n",
    "from sklearn.tree import DecisionTreeClassifier, DecisionTreeRegressor, export_graphviz,export_text, plot_tree\n",
    "from sklearn.neighbors import KNeighborsClassifier,KNeighborsRegressor\n",
    "\n",
    "import pandas as pd\n",
    "import matplotlib.pyplot as plt\n",
    "import numpy as np\n",
    "import seaborn as sns\n",
    "\n",
    "from sklearn.pipeline import make_pipeline\n",
    "from sklearn.preprocessing import StandardScaler\n",
    "from sklearn.preprocessing import OneHotEncoder, LabelEncoder\n",
    "from sklearn.model_selection import train_test_split\n",
    "from sklearn.model_selection import GridSearchCV\n",
    "from sklearn.compose import make_column_transformer\n",
    "from sklearn.metrics import confusion_matrix, precision_score, recall_score, f1_score, roc_curve\n",
    "\n",
    "\n",
    "import matplotlib\n",
    "matplotlib.rcParams[\"font.family\"]=\"Malgun Gothic\"\n",
    "matplotlib.rcParams[\"axes.unicode_minus\"]= False\n",
    "\n",
    "import pandas as pd\n",
    "import numpy as np\n",
    "import matplotlib.pyplot as plt"
   ]
  },
  {
   "cell_type": "code",
   "execution_count": 2,
   "metadata": {
    "ExecuteTime": {
     "end_time": "2021-07-26T11:49:03.523440Z",
     "start_time": "2021-07-26T11:49:03.449309Z"
    }
   },
   "outputs": [
    {
     "data": {
      "text/html": [
       "<div>\n",
       "<style scoped>\n",
       "    .dataframe tbody tr th:only-of-type {\n",
       "        vertical-align: middle;\n",
       "    }\n",
       "\n",
       "    .dataframe tbody tr th {\n",
       "        vertical-align: top;\n",
       "    }\n",
       "\n",
       "    .dataframe thead th {\n",
       "        text-align: right;\n",
       "    }\n",
       "</style>\n",
       "<table border=\"1\" class=\"dataframe\">\n",
       "  <thead>\n",
       "    <tr style=\"text-align: right;\">\n",
       "      <th></th>\n",
       "      <th>가격</th>\n",
       "      <th>년식</th>\n",
       "      <th>종류</th>\n",
       "      <th>연비</th>\n",
       "      <th>마력</th>\n",
       "      <th>토크</th>\n",
       "      <th>연료</th>\n",
       "      <th>하이브리드</th>\n",
       "      <th>배기량</th>\n",
       "      <th>중량</th>\n",
       "      <th>변속기</th>\n",
       "    </tr>\n",
       "  </thead>\n",
       "  <tbody>\n",
       "    <tr>\n",
       "      <th>0</th>\n",
       "      <td>1885</td>\n",
       "      <td>2015</td>\n",
       "      <td>준중형</td>\n",
       "      <td>11.8</td>\n",
       "      <td>172</td>\n",
       "      <td>21.0</td>\n",
       "      <td>가솔린</td>\n",
       "      <td>0</td>\n",
       "      <td>1999</td>\n",
       "      <td>1300</td>\n",
       "      <td>자동</td>\n",
       "    </tr>\n",
       "    <tr>\n",
       "      <th>1</th>\n",
       "      <td>2190</td>\n",
       "      <td>2015</td>\n",
       "      <td>준중형</td>\n",
       "      <td>12.3</td>\n",
       "      <td>204</td>\n",
       "      <td>27.0</td>\n",
       "      <td>가솔린</td>\n",
       "      <td>0</td>\n",
       "      <td>1591</td>\n",
       "      <td>1300</td>\n",
       "      <td>자동</td>\n",
       "    </tr>\n",
       "    <tr>\n",
       "      <th>2</th>\n",
       "      <td>1135</td>\n",
       "      <td>2015</td>\n",
       "      <td>소형</td>\n",
       "      <td>15.0</td>\n",
       "      <td>100</td>\n",
       "      <td>13.6</td>\n",
       "      <td>가솔린</td>\n",
       "      <td>0</td>\n",
       "      <td>1368</td>\n",
       "      <td>1035</td>\n",
       "      <td>수동</td>\n",
       "    </tr>\n",
       "    <tr>\n",
       "      <th>3</th>\n",
       "      <td>1645</td>\n",
       "      <td>2014</td>\n",
       "      <td>소형</td>\n",
       "      <td>14.0</td>\n",
       "      <td>140</td>\n",
       "      <td>17.0</td>\n",
       "      <td>가솔린</td>\n",
       "      <td>0</td>\n",
       "      <td>1591</td>\n",
       "      <td>1090</td>\n",
       "      <td>자동</td>\n",
       "    </tr>\n",
       "    <tr>\n",
       "      <th>4</th>\n",
       "      <td>1960</td>\n",
       "      <td>2015</td>\n",
       "      <td>대형</td>\n",
       "      <td>9.6</td>\n",
       "      <td>175</td>\n",
       "      <td>46.0</td>\n",
       "      <td>디젤</td>\n",
       "      <td>0</td>\n",
       "      <td>2497</td>\n",
       "      <td>1990</td>\n",
       "      <td>자동</td>\n",
       "    </tr>\n",
       "    <tr>\n",
       "      <th>...</th>\n",
       "      <td>...</td>\n",
       "      <td>...</td>\n",
       "      <td>...</td>\n",
       "      <td>...</td>\n",
       "      <td>...</td>\n",
       "      <td>...</td>\n",
       "      <td>...</td>\n",
       "      <td>...</td>\n",
       "      <td>...</td>\n",
       "      <td>...</td>\n",
       "      <td>...</td>\n",
       "    </tr>\n",
       "    <tr>\n",
       "      <th>66</th>\n",
       "      <td>3802</td>\n",
       "      <td>2015</td>\n",
       "      <td>중형</td>\n",
       "      <td>8.5</td>\n",
       "      <td>290</td>\n",
       "      <td>34.8</td>\n",
       "      <td>가솔린</td>\n",
       "      <td>0</td>\n",
       "      <td>3342</td>\n",
       "      <td>1901</td>\n",
       "      <td>자동</td>\n",
       "    </tr>\n",
       "    <tr>\n",
       "      <th>67</th>\n",
       "      <td>1270</td>\n",
       "      <td>2012</td>\n",
       "      <td>소형</td>\n",
       "      <td>13.3</td>\n",
       "      <td>108</td>\n",
       "      <td>13.9</td>\n",
       "      <td>가솔린</td>\n",
       "      <td>0</td>\n",
       "      <td>1396</td>\n",
       "      <td>1040</td>\n",
       "      <td>자동</td>\n",
       "    </tr>\n",
       "    <tr>\n",
       "      <th>68</th>\n",
       "      <td>2430</td>\n",
       "      <td>2015</td>\n",
       "      <td>준중형</td>\n",
       "      <td>12.8</td>\n",
       "      <td>186</td>\n",
       "      <td>41.0</td>\n",
       "      <td>디젤</td>\n",
       "      <td>0</td>\n",
       "      <td>1995</td>\n",
       "      <td>1665</td>\n",
       "      <td>자동</td>\n",
       "    </tr>\n",
       "    <tr>\n",
       "      <th>69</th>\n",
       "      <td>2870</td>\n",
       "      <td>2015</td>\n",
       "      <td>중형</td>\n",
       "      <td>17.7</td>\n",
       "      <td>156</td>\n",
       "      <td>19.3</td>\n",
       "      <td>가솔린</td>\n",
       "      <td>1</td>\n",
       "      <td>1999</td>\n",
       "      <td>1585</td>\n",
       "      <td>자동</td>\n",
       "    </tr>\n",
       "    <tr>\n",
       "      <th>70</th>\n",
       "      <td>3254</td>\n",
       "      <td>2015</td>\n",
       "      <td>대형</td>\n",
       "      <td>13.8</td>\n",
       "      <td>202</td>\n",
       "      <td>45.0</td>\n",
       "      <td>디젤</td>\n",
       "      <td>0</td>\n",
       "      <td>2199</td>\n",
       "      <td>1691</td>\n",
       "      <td>자동</td>\n",
       "    </tr>\n",
       "  </tbody>\n",
       "</table>\n",
       "<p>71 rows × 11 columns</p>\n",
       "</div>"
      ],
      "text/plain": [
       "      가격    년식   종류    연비   마력    토크   연료  하이브리드   배기량    중량 변속기\n",
       "0   1885  2015  준중형  11.8  172  21.0  가솔린      0  1999  1300  자동\n",
       "1   2190  2015  준중형  12.3  204  27.0  가솔린      0  1591  1300  자동\n",
       "2   1135  2015   소형  15.0  100  13.6  가솔린      0  1368  1035  수동\n",
       "3   1645  2014   소형  14.0  140  17.0  가솔린      0  1591  1090  자동\n",
       "4   1960  2015   대형   9.6  175  46.0   디젤      0  2497  1990  자동\n",
       "..   ...   ...  ...   ...  ...   ...  ...    ...   ...   ...  ..\n",
       "66  3802  2015   중형   8.5  290  34.8  가솔린      0  3342  1901  자동\n",
       "67  1270  2012   소형  13.3  108  13.9  가솔린      0  1396  1040  자동\n",
       "68  2430  2015  준중형  12.8  186  41.0   디젤      0  1995  1665  자동\n",
       "69  2870  2015   중형  17.7  156  19.3  가솔린      1  1999  1585  자동\n",
       "70  3254  2015   대형  13.8  202  45.0   디젤      0  2199  1691  자동\n",
       "\n",
       "[71 rows x 11 columns]"
      ]
     },
     "execution_count": 2,
     "metadata": {},
     "output_type": "execute_result"
    }
   ],
   "source": [
    "df = pd.read_excel('hyundaiCar.xlsx')\n",
    "df"
   ]
  },
  {
   "cell_type": "code",
   "execution_count": 3,
   "metadata": {
    "ExecuteTime": {
     "end_time": "2021-07-26T11:49:03.555358Z",
     "start_time": "2021-07-26T11:49:03.525434Z"
    }
   },
   "outputs": [
    {
     "data": {
      "text/plain": [
       "array(['준중형', '소형', '대형', '중형'], dtype=object)"
      ]
     },
     "execution_count": 3,
     "metadata": {},
     "output_type": "execute_result"
    }
   ],
   "source": [
    "x_data = df.drop(['종류'], axis='columns')\n",
    "y_data = df['종류']\n",
    "x_data = pd.get_dummies(x_data, columns=['연료','변속기'])\n",
    "y_data.unique()"
   ]
  },
  {
   "cell_type": "code",
   "execution_count": 4,
   "metadata": {
    "ExecuteTime": {
     "end_time": "2021-07-26T11:49:03.571312Z",
     "start_time": "2021-07-26T11:49:03.558350Z"
    }
   },
   "outputs": [],
   "source": [
    "x_train, x_test, y_train, y_test = train_test_split( x_data, \n",
    "                           y_data,  test_size=0.2,  stratify=y_data, random_state=1)"
   ]
  },
  {
   "cell_type": "markdown",
   "metadata": {},
   "source": [
    "### KNN"
   ]
  },
  {
   "cell_type": "code",
   "execution_count": 5,
   "metadata": {
    "ExecuteTime": {
     "end_time": "2021-07-26T11:49:03.761809Z",
     "start_time": "2021-07-26T11:49:03.574306Z"
    }
   },
   "outputs": [
    {
     "data": {
      "text/plain": [
       "GridSearchCV(estimator=KNeighborsClassifier(),\n",
       "             param_grid={'n_neighbors': [1, 2, 3, 4, 5]}, scoring='f1_macro')"
      ]
     },
     "execution_count": 5,
     "metadata": {},
     "output_type": "execute_result"
    }
   ],
   "source": [
    "# 모델 생성 및 학습\n",
    "param_grid = {'n_neighbors':[1, 2, 3, 4, 5]}\n",
    "grid = GridSearchCV(KNeighborsClassifier(), param_grid=param_grid, scoring='f1_macro')\n",
    "grid.fit(x_train, y_train)"
   ]
  },
  {
   "cell_type": "code",
   "execution_count": 6,
   "metadata": {
    "ExecuteTime": {
     "end_time": "2021-07-26T11:49:03.776777Z",
     "start_time": "2021-07-26T11:49:03.764804Z"
    }
   },
   "outputs": [
    {
     "data": {
      "text/plain": [
       "{'n_neighbors': 1}"
      ]
     },
     "execution_count": 6,
     "metadata": {},
     "output_type": "execute_result"
    }
   ],
   "source": [
    "grid.best_params_"
   ]
  },
  {
   "cell_type": "code",
   "execution_count": 7,
   "metadata": {
    "ExecuteTime": {
     "end_time": "2021-07-26T11:49:03.821657Z",
     "start_time": "2021-07-26T11:49:03.790741Z"
    }
   },
   "outputs": [
    {
     "data": {
      "text/plain": [
       "0.8270238095238096"
      ]
     },
     "execution_count": 7,
     "metadata": {},
     "output_type": "execute_result"
    }
   ],
   "source": [
    "grid.best_score_"
   ]
  },
  {
   "cell_type": "code",
   "execution_count": 8,
   "metadata": {
    "ExecuteTime": {
     "end_time": "2021-07-26T11:49:03.868528Z",
     "start_time": "2021-07-26T11:49:03.827643Z"
    }
   },
   "outputs": [
    {
     "data": {
      "text/plain": [
       "array(['소형'], dtype=object)"
      ]
     },
     "execution_count": 8,
     "metadata": {},
     "output_type": "execute_result"
    }
   ],
   "source": [
    "xd = np.array([[1135,2015,15,100,13.6,0,1368,1035,0,1,0,1,0]])\n",
    "xdataF = pd.DataFrame( xd, columns=x_test.columns)\n",
    "grid.best_estimator_.predict(xdataF)"
   ]
  },
  {
   "cell_type": "code",
   "execution_count": 9,
   "metadata": {
    "ExecuteTime": {
     "end_time": "2021-07-26T11:49:03.899443Z",
     "start_time": "2021-07-26T11:49:03.871519Z"
    }
   },
   "outputs": [
    {
     "name": "stdout",
     "output_type": "stream",
     "text": [
      "1.0\n",
      "0.9142857142857144\n",
      "train f1-score: 1.0\n",
      "test f1-score: 0.9142857142857144\n"
     ]
    }
   ],
   "source": [
    "# test, train score\n",
    "# f1-score\n",
    "print(grid.score(x_train, y_train))\n",
    "print(grid.score(x_test, y_test))\n",
    "\n",
    "# test f1-score\n",
    "y_pred = grid.best_estimator_.predict(x_train)\n",
    "print('train f1-score:', f1_score(y_train,y_pred, average='macro'))\n",
    "# train f1-score\n",
    "y_pred = grid.best_estimator_.predict(x_test)\n",
    "print('test f1-score:', f1_score(y_test,y_pred, average='macro'))\n"
   ]
  },
  {
   "cell_type": "code",
   "execution_count": 10,
   "metadata": {
    "ExecuteTime": {
     "end_time": "2021-07-26T11:49:04.216566Z",
     "start_time": "2021-07-26T11:49:03.900442Z"
    },
    "scrolled": false
   },
   "outputs": [
    {
     "data": {
      "image/png": "[encoded data removed]",
      "text/plain": [
       "<Figure size 864x720 with 2 Axes>"
      ]
     },
     "metadata": {
      "needs_background": "light"
     },
     "output_type": "display_data"
    }
   ],
   "source": [
    "cm_train = confusion_matrix(y_test, y_pred)\n",
    "plt.figure(figsize=(12,10))\n",
    "sns.heatmap(cm_train, annot = True,fmt='d',yticklabels = ['준중형', '소형', '대형', '중형'], xticklabels = ['준중형예측', '소형예측', '대형예측', '중형예측'])\n",
    "plt.show()"
   ]
  },
  {
   "cell_type": "markdown",
   "metadata": {},
   "source": [
    "### decision tree"
   ]
  },
  {
   "cell_type": "code",
   "execution_count": 11,
   "metadata": {
    "ExecuteTime": {
     "end_time": "2021-07-26T11:49:04.264440Z",
     "start_time": "2021-07-26T11:49:04.218564Z"
    },
    "scrolled": true
   },
   "outputs": [
    {
     "data": {
      "text/plain": [
       "Pipeline(steps=[('standardscaler', StandardScaler()),\n",
       "                ('decisiontreeclassifier',\n",
       "                 DecisionTreeClassifier(criterion='entropy'))])"
      ]
     },
     "execution_count": 11,
     "metadata": {},
     "output_type": "execute_result"
    }
   ],
   "source": [
    "# 모델 생성 및 학습\n",
    "\n",
    "model_tree = make_pipeline(StandardScaler(), DecisionTreeClassifier(criterion=\"entropy\"))\n",
    "model_tree.fit( x_train, y_train)"
   ]
  },
  {
   "cell_type": "code",
   "execution_count": 12,
   "metadata": {
    "ExecuteTime": {
     "end_time": "2021-07-26T11:49:04.295671Z",
     "start_time": "2021-07-26T11:49:04.265444Z"
    }
   },
   "outputs": [
    {
     "data": {
      "text/plain": [
       "array(['소형'], dtype=object)"
      ]
     },
     "execution_count": 12,
     "metadata": {},
     "output_type": "execute_result"
    }
   ],
   "source": [
    "xd = np.array([[1135,2015,15,100,13.6,0,1368,1035,0,1,0,1,0]])\n",
    "xdataF = pd.DataFrame( xd, columns=x_test.columns)\n",
    "model_tree.predict(xdataF)"
   ]
  },
  {
   "cell_type": "code",
   "execution_count": 13,
   "metadata": {
    "ExecuteTime": {
     "end_time": "2021-07-26T11:49:04.341434Z",
     "start_time": "2021-07-26T11:49:04.297550Z"
    },
    "scrolled": true
   },
   "outputs": [
    {
     "name": "stdout",
     "output_type": "stream",
     "text": [
      "1.0\n",
      "0.8666666666666667\n",
      "train f1-score: 1.0\n",
      "test f1-score: 0.8875\n"
     ]
    }
   ],
   "source": [
    "# test, train score\n",
    "\n",
    "print(model_tree.score(x_train, y_train))\n",
    "print(model_tree.score(x_test, y_test))\n",
    "\n",
    "# f1-score (train)\n",
    "y_pred = grid.predict(x_train)\n",
    "print('train f1-score:', f1_score(y_train,y_pred, average='macro'))\n",
    "\n",
    "# f1-score (test)\n",
    "y_pred = model_tree.predict(x_test)\n",
    "print('test f1-score:', f1_score(y_test,y_pred, average='macro'))"
   ]
  },
  {
   "cell_type": "code",
   "execution_count": null,
   "metadata": {
    "ExecuteTime": {
     "end_time": "2021-07-26T11:49:04.884606Z",
     "start_time": "2021-07-26T11:48:58.464Z"
    }
   },
   "outputs": [],
   "source": [
    "cm_train = confusion_matrix(y_test, y_pred)\n",
    "plt.figure(figsize=(12,10))\n",
    "sns.heatmap(cm_train, annot = True,fmt='d',yticklabels = ['준중형', '소형', '대형', '중형'], xticklabels = ['준중형예측', '소형예측', '대형예측', '중형예측'])\n",
    "plt.show()"
   ]
  },
  {
   "cell_type": "markdown",
   "metadata": {
    "ExecuteTime": {
     "end_time": "2021-07-26T08:27:03.122840Z",
     "start_time": "2021-07-26T08:27:03.107877Z"
    }
   },
   "source": [
    "### naive_bayes"
   ]
  },
  {
   "cell_type": "code",
   "execution_count": 17,
   "metadata": {
    "ExecuteTime": {
     "end_time": "2021-07-26T11:53:14.148197Z",
     "start_time": "2021-07-26T11:53:14.105650Z"
    }
   },
   "outputs": [
    {
     "data": {
      "text/plain": [
       "Pipeline(steps=[('standardscaler', StandardScaler()),\n",
       "                ('bernoullinb', BernoulliNB())])"
      ]
     },
     "execution_count": 17,
     "metadata": {},
     "output_type": "execute_result"
    }
   ],
   "source": [
    "model = make_pipeline(StandardScaler(), BernoulliNB())\n",
    "model.fit(x_data, y_data)"
   ]
  },
  {
   "cell_type": "code",
   "execution_count": 18,
   "metadata": {
    "ExecuteTime": {
     "end_time": "2021-07-26T11:53:14.410184Z",
     "start_time": "2021-07-26T11:53:14.390238Z"
    }
   },
   "outputs": [
    {
     "data": {
      "text/plain": [
       "array(['소형'], dtype='<U3')"
      ]
     },
     "execution_count": 18,
     "metadata": {},
     "output_type": "execute_result"
    }
   ],
   "source": [
    "xd = np.array([[1135,2015,15,100,13.6,0,1368,1035,0,1,0,1,0]])\n",
    "xdataF = pd.DataFrame( xd, columns=x_test.columns)\n",
    "model.predict(xdataF)"
   ]
  },
  {
   "cell_type": "code",
   "execution_count": 19,
   "metadata": {
    "ExecuteTime": {
     "end_time": "2021-07-26T11:53:14.672608Z",
     "start_time": "2021-07-26T11:53:14.640696Z"
    }
   },
   "outputs": [
    {
     "name": "stdout",
     "output_type": "stream",
     "text": [
      "0.7857142857142857\n",
      "0.8666666666666667\n",
      "train f1-score: 0.764569804623829\n",
      "test f1-score: 0.875\n"
     ]
    }
   ],
   "source": [
    "# test, train score\n",
    "\n",
    "print(model.score(x_train, y_train))\n",
    "print(model.score(x_test, y_test))\n",
    "\n",
    "# f1-score (train)\n",
    "y_pred = model.predict(x_train)\n",
    "print('train f1-score:', f1_score(y_train,y_pred, average='macro'))\n",
    "\n",
    "# f1-score (test)\n",
    "y_pred = model.predict(x_test)\n",
    "print('test f1-score:', f1_score(y_test,y_pred, average='macro'))"
   ]
  },
  {
   "cell_type": "code",
   "execution_count": 20,
   "metadata": {
    "ExecuteTime": {
     "end_time": "2021-07-26T11:53:15.172134Z",
     "start_time": "2021-07-26T11:53:14.950726Z"
    }
   },
   "outputs": [
    {
     "data": {
      "image/png": "[encoded data removed]",
      "text/plain": [
       "<Figure size 864x720 with 2 Axes>"
      ]
     },
     "metadata": {
      "needs_background": "light"
     },
     "output_type": "display_data"
    }
   ],
   "source": [
    "cm_train = confusion_matrix(y_test, y_pred)\n",
    "plt.figure(figsize=(12,10))\n",
    "sns.heatmap(cm_train, annot = True,fmt='d',yticklabels = ['준중형', '소형', '대형', '중형'], xticklabels = ['준중형예측', '소형예측', '대형예측', '중형예측'])\n",
    "plt.show()"
   ]
  },
  {
   "cell_type": "markdown",
   "metadata": {
    "ExecuteTime": {
     "end_time": "2021-07-26T08:27:03.279528Z",
     "start_time": "2021-07-26T08:27:03.273543Z"
    }
   },
   "source": [
    "### SVC"
   ]
  },
  {
   "cell_type": "code",
   "execution_count": 21,
   "metadata": {
    "ExecuteTime": {
     "end_time": "2021-07-26T11:53:27.759415Z",
     "start_time": "2021-07-26T11:53:27.737470Z"
    }
   },
   "outputs": [
    {
     "data": {
      "text/plain": [
       "Pipeline(steps=[('standardscaler', StandardScaler()), ('svc', SVC())])"
      ]
     },
     "execution_count": 21,
     "metadata": {},
     "output_type": "execute_result"
    }
   ],
   "source": [
    "model = make_pipeline(StandardScaler(), SVC())\n",
    "model.fit(x_train, y_train)"
   ]
  },
  {
   "cell_type": "code",
   "execution_count": 22,
   "metadata": {
    "ExecuteTime": {
     "end_time": "2021-07-26T11:53:28.066400Z",
     "start_time": "2021-07-26T11:53:28.048452Z"
    }
   },
   "outputs": [
    {
     "data": {
      "text/plain": [
       "array(['소형'], dtype=object)"
      ]
     },
     "execution_count": 22,
     "metadata": {},
     "output_type": "execute_result"
    }
   ],
   "source": [
    "xd = np.array([[1135,2015,15,100,13.6,0,1368,1035,0,1,0,1,0]])\n",
    "xdataF = pd.DataFrame( xd, columns=x_test.columns)\n",
    "model.predict(xdataF)"
   ]
  },
  {
   "cell_type": "code",
   "execution_count": 23,
   "metadata": {
    "ExecuteTime": {
     "end_time": "2021-07-26T11:53:28.440994Z",
     "start_time": "2021-07-26T11:53:28.415057Z"
    }
   },
   "outputs": [
    {
     "name": "stdout",
     "output_type": "stream",
     "text": [
      "0.8571428571428571\n",
      "0.8666666666666667\n",
      "train f1-score: 0.8374765478424016\n",
      "test f1-score: 0.8647727272727272\n"
     ]
    }
   ],
   "source": [
    "# test, train score\n",
    "\n",
    "print(model.score(x_train, y_train))\n",
    "print(model.score(x_test, y_test))\n",
    "\n",
    "# f1-score (train)\n",
    "y_pred = model.predict(x_train)\n",
    "print('train f1-score:', f1_score(y_train,y_pred, average='macro'))\n",
    "\n",
    "# f1-score (test)\n",
    "y_pred = model.predict(x_test)\n",
    "print('test f1-score:', f1_score(y_test,y_pred, average='macro'))"
   ]
  },
  {
   "cell_type": "code",
   "execution_count": 24,
   "metadata": {
    "ExecuteTime": {
     "end_time": "2021-07-26T11:53:29.883399Z",
     "start_time": "2021-07-26T11:53:29.677939Z"
    }
   },
   "outputs": [
    {
     "data": {
      "image/png": "[encoded data removed]",
      "text/plain": [
       "<Figure size 864x720 with 2 Axes>"
      ]
     },
     "metadata": {
      "needs_background": "light"
     },
     "output_type": "display_data"
    }
   ],
   "source": [
    "cm_train = confusion_matrix(y_test, y_pred)\n",
    "plt.figure(figsize=(12,10))\n",
    "sns.heatmap(cm_train, annot = True,fmt='d',yticklabels = ['준중형', '소형', '대형', '중형'], xticklabels = ['준중형예측', '소형예측', '대형예측', '중형예측'])\n",
    "plt.show()"
   ]
  },
  {
   "cell_type": "code",
   "execution_count": 15,
   "metadata": {
    "ExecuteTime": {
     "end_time": "2021-07-26T11:51:05.497129Z",
     "start_time": "2021-07-26T11:51:05.346551Z"
    },
    "scrolled": true
   },
   "outputs": [
    {
     "data": {
      "image/png": "[encoded data removed]",
      "text/plain": [
       "<Figure size 432x288 with 1 Axes>"
      ]
     },
     "metadata": {
      "needs_background": "light"
     },
     "output_type": "display_data"
    },
    {
     "name": "stdout",
     "output_type": "stream",
     "text": [
      "1.0\n"
     ]
    }
   ],
   "source": [
    "import pandas as pd\n",
    "import matplotlib.pyplot as plt\n",
    "import seaborn as sn\n",
    "df = pd.DataFrame([\n",
    "        ['knn',1.0, 0.9142857142857144],\n",
    "        ['decision tree',1.0,  0.8875],\n",
    "    ['naive_bayes',0.764569804623829,0.875],\n",
    "    ['SVC',0.8374765478424016,0.8647727272727272]\n",
    "    ], columns=['모델', 'f1_test값','f1_train값'])\n",
    "\n",
    "\n",
    "sns.barplot(data=df, x='모델',y='f1_test값')\n",
    "plt.show()\n",
    "\n",
    "print(df['f1_test값'].max())"
   ]
  },
  {
   "cell_type": "code",
   "execution_count": 16,
   "metadata": {
    "ExecuteTime": {
     "end_time": "2021-07-26T11:51:37.164857Z",
     "start_time": "2021-07-26T11:51:37.018233Z"
    }
   },
   "outputs": [
    {
     "data": {
      "image/png": "[encoded data removed]",
      "text/plain": [
       "<Figure size 432x288 with 1 Axes>"
      ]
     },
     "metadata": {
      "needs_background": "light"
     },
     "output_type": "display_data"
    },
    {
     "name": "stdout",
     "output_type": "stream",
     "text": [
      "0.9142857142857144\n"
     ]
    }
   ],
   "source": [
    "sns.barplot(data=df, x='모델',y='f1_train값')\n",
    "plt.show()\n",
    "print(df['f1_train값'].max())"
   ]
  }
 ],
 "metadata": {
  "kernelspec": {
   "display_name": "Python 3",
   "language": "python",
   "name": "python3"
  },
  "language_info": {
   "codemirror_mode": {
    "name": "ipython",
    "version": 3
   },
   "file_extension": ".py",
   "mimetype": "text/x-python",
   "name": "python",
   "nbconvert_exporter": "python",
   "pygments_lexer": "ipython3",
   "version": "3.8.8"
  },
  "latex_envs": {
   "LaTeX_envs_menu_present": true,
   "autoclose": false,
   "autocomplete": true,
   "bibliofile": "biblio.bib",
   "cite_by": "apalike",
   "current_citInitial": 1,
   "eqLabelWithNumbers": true,
   "eqNumInitial": 1,
   "hotkeys": {
    "equation": "Ctrl-E",
    "itemize": "Ctrl-I"
   },
   "labels_anchors": false,
   "latex_user_defs": false,
   "report_style_numbering": false,
   "user_envs_cfg": false
  }
 },
 "nbformat": 4,
 "nbformat_minor": 4
}
