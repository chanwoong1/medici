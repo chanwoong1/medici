{
 "cells": [
  {
   "cell_type": "code",
   "execution_count": 1,
   "id": "1b8e86f0",
   "metadata": {},
   "outputs": [],
   "source": [
    "from statsmodels.tsa.ar_model import AR\n",
    "from statsmodels.tsa.arima_model import ARIMA\n",
    "\n",
    "from statsmodels.tsa.stattools import adfuller\n",
    "import pandas as pd\n",
    "import matplotlib.pyplot as plt\n",
    "import numpy as np\n",
    "from warnings import filterwarnings\n",
    "filterwarnings(\"ignore\")"
   ]
  },
  {
   "cell_type": "code",
   "execution_count": 2,
   "id": "9d084ea2",
   "metadata": {
    "collapsed": true
   },
   "outputs": [
    {
     "data": {
      "text/html": [
       "<div>\n",
       "<style scoped>\n",
       "    .dataframe tbody tr th:only-of-type {\n",
       "        vertical-align: middle;\n",
       "    }\n",
       "\n",
       "    .dataframe tbody tr th {\n",
       "        vertical-align: top;\n",
       "    }\n",
       "\n",
       "    .dataframe thead th {\n",
       "        text-align: right;\n",
       "    }\n",
       "</style>\n",
       "<table border=\"1\" class=\"dataframe\">\n",
       "  <thead>\n",
       "    <tr style=\"text-align: right;\">\n",
       "      <th></th>\n",
       "      <th>Births</th>\n",
       "    </tr>\n",
       "    <tr>\n",
       "      <th>Date</th>\n",
       "      <th></th>\n",
       "    </tr>\n",
       "  </thead>\n",
       "  <tbody>\n",
       "    <tr>\n",
       "      <th>1959-01-01</th>\n",
       "      <td>35</td>\n",
       "    </tr>\n",
       "    <tr>\n",
       "      <th>1959-01-02</th>\n",
       "      <td>32</td>\n",
       "    </tr>\n",
       "    <tr>\n",
       "      <th>1959-01-03</th>\n",
       "      <td>30</td>\n",
       "    </tr>\n",
       "    <tr>\n",
       "      <th>1959-01-04</th>\n",
       "      <td>31</td>\n",
       "    </tr>\n",
       "    <tr>\n",
       "      <th>1959-01-05</th>\n",
       "      <td>44</td>\n",
       "    </tr>\n",
       "    <tr>\n",
       "      <th>...</th>\n",
       "      <td>...</td>\n",
       "    </tr>\n",
       "    <tr>\n",
       "      <th>1959-12-27</th>\n",
       "      <td>37</td>\n",
       "    </tr>\n",
       "    <tr>\n",
       "      <th>1959-12-28</th>\n",
       "      <td>52</td>\n",
       "    </tr>\n",
       "    <tr>\n",
       "      <th>1959-12-29</th>\n",
       "      <td>48</td>\n",
       "    </tr>\n",
       "    <tr>\n",
       "      <th>1959-12-30</th>\n",
       "      <td>55</td>\n",
       "    </tr>\n",
       "    <tr>\n",
       "      <th>1959-12-31</th>\n",
       "      <td>50</td>\n",
       "    </tr>\n",
       "  </tbody>\n",
       "</table>\n",
       "<p>365 rows × 1 columns</p>\n",
       "</div>"
      ],
      "text/plain": [
       "            Births\n",
       "Date              \n",
       "1959-01-01      35\n",
       "1959-01-02      32\n",
       "1959-01-03      30\n",
       "1959-01-04      31\n",
       "1959-01-05      44\n",
       "...            ...\n",
       "1959-12-27      37\n",
       "1959-12-28      52\n",
       "1959-12-29      48\n",
       "1959-12-30      55\n",
       "1959-12-31      50\n",
       "\n",
       "[365 rows x 1 columns]"
      ]
     },
     "execution_count": 2,
     "metadata": {},
     "output_type": "execute_result"
    }
   ],
   "source": [
    "birthDF = pd.read_csv('data5/daily-total-female-births.txt',\n",
    "                parse_dates=['Date'], index_col='Date')\n",
    "birthDF"
   ]
  },
  {
   "cell_type": "code",
   "execution_count": 3,
   "id": "cf67ca43",
   "metadata": {
    "collapsed": true
   },
   "outputs": [
    {
     "data": {
      "text/plain": [
       "DatetimeIndex(['1959-01-01', '1959-01-02', '1959-01-03', '1959-01-04',\n",
       "               '1959-01-05', '1959-01-06', '1959-01-07', '1959-01-08',\n",
       "               '1959-01-09', '1959-01-10',\n",
       "               ...\n",
       "               '1959-12-22', '1959-12-23', '1959-12-24', '1959-12-25',\n",
       "               '1959-12-26', '1959-12-27', '1959-12-28', '1959-12-29',\n",
       "               '1959-12-30', '1959-12-31'],\n",
       "              dtype='datetime64[ns]', name='Date', length=365, freq=None)"
      ]
     },
     "execution_count": 3,
     "metadata": {},
     "output_type": "execute_result"
    }
   ],
   "source": [
    "birthDF.index"
   ]
  },
  {
   "cell_type": "code",
   "execution_count": 4,
   "id": "b994081c",
   "metadata": {
    "collapsed": true
   },
   "outputs": [
    {
     "data": {
      "text/html": [
       "<div>\n",
       "<style scoped>\n",
       "    .dataframe tbody tr th:only-of-type {\n",
       "        vertical-align: middle;\n",
       "    }\n",
       "\n",
       "    .dataframe tbody tr th {\n",
       "        vertical-align: top;\n",
       "    }\n",
       "\n",
       "    .dataframe thead th {\n",
       "        text-align: right;\n",
       "    }\n",
       "</style>\n",
       "<table border=\"1\" class=\"dataframe\">\n",
       "  <thead>\n",
       "    <tr style=\"text-align: right;\">\n",
       "      <th></th>\n",
       "      <th>passengers</th>\n",
       "    </tr>\n",
       "    <tr>\n",
       "      <th>time</th>\n",
       "      <th></th>\n",
       "    </tr>\n",
       "  </thead>\n",
       "  <tbody>\n",
       "    <tr>\n",
       "      <th>1949-01-01</th>\n",
       "      <td>112</td>\n",
       "    </tr>\n",
       "    <tr>\n",
       "      <th>1949-02-01</th>\n",
       "      <td>118</td>\n",
       "    </tr>\n",
       "    <tr>\n",
       "      <th>1949-03-01</th>\n",
       "      <td>132</td>\n",
       "    </tr>\n",
       "    <tr>\n",
       "      <th>1949-04-01</th>\n",
       "      <td>129</td>\n",
       "    </tr>\n",
       "    <tr>\n",
       "      <th>1949-05-01</th>\n",
       "      <td>121</td>\n",
       "    </tr>\n",
       "    <tr>\n",
       "      <th>...</th>\n",
       "      <td>...</td>\n",
       "    </tr>\n",
       "    <tr>\n",
       "      <th>1960-08-01</th>\n",
       "      <td>606</td>\n",
       "    </tr>\n",
       "    <tr>\n",
       "      <th>1960-09-01</th>\n",
       "      <td>508</td>\n",
       "    </tr>\n",
       "    <tr>\n",
       "      <th>1960-10-01</th>\n",
       "      <td>461</td>\n",
       "    </tr>\n",
       "    <tr>\n",
       "      <th>1960-11-01</th>\n",
       "      <td>390</td>\n",
       "    </tr>\n",
       "    <tr>\n",
       "      <th>1960-12-01</th>\n",
       "      <td>432</td>\n",
       "    </tr>\n",
       "  </tbody>\n",
       "</table>\n",
       "<p>144 rows × 1 columns</p>\n",
       "</div>"
      ],
      "text/plain": [
       "            passengers\n",
       "time                  \n",
       "1949-01-01         112\n",
       "1949-02-01         118\n",
       "1949-03-01         132\n",
       "1949-04-01         129\n",
       "1949-05-01         121\n",
       "...                ...\n",
       "1960-08-01         606\n",
       "1960-09-01         508\n",
       "1960-10-01         461\n",
       "1960-11-01         390\n",
       "1960-12-01         432\n",
       "\n",
       "[144 rows x 1 columns]"
      ]
     },
     "execution_count": 4,
     "metadata": {},
     "output_type": "execute_result"
    }
   ],
   "source": [
    "airDF = pd.read_csv('data5/international-airline-passengers.txt',\n",
    "                   parse_dates=['time'], index_col='time')\n",
    "airDF"
   ]
  },
  {
   "cell_type": "code",
   "execution_count": 5,
   "id": "530d1984",
   "metadata": {
    "collapsed": true
   },
   "outputs": [
    {
     "data": {
      "text/html": [
       "<div>\n",
       "<style scoped>\n",
       "    .dataframe tbody tr th:only-of-type {\n",
       "        vertical-align: middle;\n",
       "    }\n",
       "\n",
       "    .dataframe tbody tr th {\n",
       "        vertical-align: top;\n",
       "    }\n",
       "\n",
       "    .dataframe thead th {\n",
       "        text-align: right;\n",
       "    }\n",
       "</style>\n",
       "<table border=\"1\" class=\"dataframe\">\n",
       "  <thead>\n",
       "    <tr style=\"text-align: right;\">\n",
       "      <th></th>\n",
       "      <th>Temp</th>\n",
       "    </tr>\n",
       "    <tr>\n",
       "      <th>Date</th>\n",
       "      <th></th>\n",
       "    </tr>\n",
       "  </thead>\n",
       "  <tbody>\n",
       "    <tr>\n",
       "      <th>1981-01-01</th>\n",
       "      <td>20.7</td>\n",
       "    </tr>\n",
       "    <tr>\n",
       "      <th>1981-01-02</th>\n",
       "      <td>17.9</td>\n",
       "    </tr>\n",
       "    <tr>\n",
       "      <th>1981-01-03</th>\n",
       "      <td>18.8</td>\n",
       "    </tr>\n",
       "    <tr>\n",
       "      <th>1981-01-04</th>\n",
       "      <td>14.6</td>\n",
       "    </tr>\n",
       "    <tr>\n",
       "      <th>1981-01-05</th>\n",
       "      <td>15.8</td>\n",
       "    </tr>\n",
       "    <tr>\n",
       "      <th>...</th>\n",
       "      <td>...</td>\n",
       "    </tr>\n",
       "    <tr>\n",
       "      <th>1990-12-27</th>\n",
       "      <td>14.0</td>\n",
       "    </tr>\n",
       "    <tr>\n",
       "      <th>1990-12-28</th>\n",
       "      <td>13.6</td>\n",
       "    </tr>\n",
       "    <tr>\n",
       "      <th>1990-12-29</th>\n",
       "      <td>13.5</td>\n",
       "    </tr>\n",
       "    <tr>\n",
       "      <th>1990-12-30</th>\n",
       "      <td>15.7</td>\n",
       "    </tr>\n",
       "    <tr>\n",
       "      <th>1990-12-31</th>\n",
       "      <td>13.0</td>\n",
       "    </tr>\n",
       "  </tbody>\n",
       "</table>\n",
       "<p>3650 rows × 1 columns</p>\n",
       "</div>"
      ],
      "text/plain": [
       "            Temp\n",
       "Date            \n",
       "1981-01-01  20.7\n",
       "1981-01-02  17.9\n",
       "1981-01-03  18.8\n",
       "1981-01-04  14.6\n",
       "1981-01-05  15.8\n",
       "...          ...\n",
       "1990-12-27  14.0\n",
       "1990-12-28  13.6\n",
       "1990-12-29  13.5\n",
       "1990-12-30  15.7\n",
       "1990-12-31  13.0\n",
       "\n",
       "[3650 rows x 1 columns]"
      ]
     },
     "execution_count": 5,
     "metadata": {},
     "output_type": "execute_result"
    }
   ],
   "source": [
    "tempDF = pd.read_csv('data5/daily-min-temperatures.csv',\n",
    "                    parse_dates=['Date'], index_col='Date')\n",
    "tempDF"
   ]
  },
  {
   "cell_type": "code",
   "execution_count": 6,
   "id": "e059df1c",
   "metadata": {
    "collapsed": true
   },
   "outputs": [
    {
     "data": {
      "image/png": "[encoded data removed]",
      "text/plain": [
       "<Figure size 432x288 with 1 Axes>"
      ]
     },
     "metadata": {
      "needs_background": "light"
     },
     "output_type": "display_data"
    }
   ],
   "source": [
    "birthDF.plot()\n",
    "plt.show()"
   ]
  },
  {
   "cell_type": "code",
   "execution_count": 7,
   "id": "1ca0f77a",
   "metadata": {
    "collapsed": true
   },
   "outputs": [
    {
     "data": {
      "image/png": "[encoded data removed]",
      "text/plain": [
       "<Figure size 432x288 with 1 Axes>"
      ]
     },
     "metadata": {
      "needs_background": "light"
     },
     "output_type": "display_data"
    }
   ],
   "source": [
    "airDF.plot()\n",
    "plt.show()"
   ]
  },
  {
   "cell_type": "code",
   "execution_count": 8,
   "id": "5dc3a682",
   "metadata": {},
   "outputs": [
    {
     "data": {
      "image/png": "[encoded data removed]",
      "text/plain": [
       "<Figure size 432x288 with 1 Axes>"
      ]
     },
     "metadata": {
      "needs_background": "light"
     },
     "output_type": "display_data"
    }
   ],
   "source": [
    "tempDF.plot()\n",
    "plt.show()"
   ]
  },
  {
   "cell_type": "code",
   "execution_count": 17,
   "id": "ef376715",
   "metadata": {},
   "outputs": [
    {
     "name": "stdout",
     "output_type": "stream",
     "text": [
      "Births    39.763736\n",
      "dtype: float64\n",
      "Births    44.185792\n",
      "dtype: float64\n",
      "Births    49.485308\n",
      "dtype: float64\n",
      "Births    48.976281\n",
      "dtype: float64\n"
     ]
    }
   ],
   "source": [
    "n =int( len( birthDF)/2 )\n",
    "print( birthDF.iloc[:n].mean() )\n",
    "print( birthDF.iloc[n:].mean() )\n",
    "print( birthDF.iloc[:n].var() )\n",
    "print( birthDF.iloc[n:].var() )"
   ]
  },
  {
   "cell_type": "code",
   "execution_count": 18,
   "id": "61a40667",
   "metadata": {
    "collapsed": true
   },
   "outputs": [
    {
     "name": "stdout",
     "output_type": "stream",
     "text": [
      "passengers    182.902778\n",
      "dtype: float64\n",
      "passengers    377.694444\n",
      "dtype: float64\n",
      "passengers    2275.69464\n",
      "dtype: float64\n",
      "passengers    7471.736307\n",
      "dtype: float64\n"
     ]
    }
   ],
   "source": [
    "n =int( len( airDF)/2 )\n",
    "print( airDF.iloc[:n].mean() )\n",
    "print( airDF.iloc[n:].mean() )\n",
    "print( airDF.iloc[:n].var() )\n",
    "print( airDF.iloc[n:].var() )"
   ]
  },
  {
   "cell_type": "code",
   "execution_count": 19,
   "id": "ab710048",
   "metadata": {
    "collapsed": true
   },
   "outputs": [
    {
     "name": "stdout",
     "output_type": "stream",
     "text": [
      "Temp    11.043507\n",
      "dtype: float64\n",
      "Temp    11.312\n",
      "dtype: float64\n",
      "Temp    18.170782\n",
      "dtype: float64\n",
      "Temp    14.961956\n",
      "dtype: float64\n"
     ]
    }
   ],
   "source": [
    "n =int( len( tempDF)/2 )\n",
    "print( tempDF.iloc[:n].mean() )\n",
    "print( tempDF.iloc[n:].mean() )\n",
    "print( tempDF.iloc[:n].var() )\n",
    "print( tempDF.iloc[n:].var() )"
   ]
  },
  {
   "cell_type": "code",
   "execution_count": 20,
   "id": "70d74133",
   "metadata": {
    "collapsed": true
   },
   "outputs": [
    {
     "data": {
      "text/html": [
       "<div>\n",
       "<style scoped>\n",
       "    .dataframe tbody tr th:only-of-type {\n",
       "        vertical-align: middle;\n",
       "    }\n",
       "\n",
       "    .dataframe tbody tr th {\n",
       "        vertical-align: top;\n",
       "    }\n",
       "\n",
       "    .dataframe thead th {\n",
       "        text-align: right;\n",
       "    }\n",
       "</style>\n",
       "<table border=\"1\" class=\"dataframe\">\n",
       "  <thead>\n",
       "    <tr style=\"text-align: right;\">\n",
       "      <th></th>\n",
       "      <th>Temp</th>\n",
       "      <th>days</th>\n",
       "    </tr>\n",
       "    <tr>\n",
       "      <th>Date</th>\n",
       "      <th></th>\n",
       "      <th></th>\n",
       "    </tr>\n",
       "  </thead>\n",
       "  <tbody>\n",
       "    <tr>\n",
       "      <th>1981-01-01</th>\n",
       "      <td>20.7</td>\n",
       "      <td>0</td>\n",
       "    </tr>\n",
       "    <tr>\n",
       "      <th>1981-01-02</th>\n",
       "      <td>17.9</td>\n",
       "      <td>1</td>\n",
       "    </tr>\n",
       "    <tr>\n",
       "      <th>1981-01-03</th>\n",
       "      <td>18.8</td>\n",
       "      <td>2</td>\n",
       "    </tr>\n",
       "    <tr>\n",
       "      <th>1981-01-04</th>\n",
       "      <td>14.6</td>\n",
       "      <td>3</td>\n",
       "    </tr>\n",
       "    <tr>\n",
       "      <th>1981-01-05</th>\n",
       "      <td>15.8</td>\n",
       "      <td>4</td>\n",
       "    </tr>\n",
       "    <tr>\n",
       "      <th>...</th>\n",
       "      <td>...</td>\n",
       "      <td>...</td>\n",
       "    </tr>\n",
       "    <tr>\n",
       "      <th>1990-12-27</th>\n",
       "      <td>14.0</td>\n",
       "      <td>3645</td>\n",
       "    </tr>\n",
       "    <tr>\n",
       "      <th>1990-12-28</th>\n",
       "      <td>13.6</td>\n",
       "      <td>3646</td>\n",
       "    </tr>\n",
       "    <tr>\n",
       "      <th>1990-12-29</th>\n",
       "      <td>13.5</td>\n",
       "      <td>3647</td>\n",
       "    </tr>\n",
       "    <tr>\n",
       "      <th>1990-12-30</th>\n",
       "      <td>15.7</td>\n",
       "      <td>3648</td>\n",
       "    </tr>\n",
       "    <tr>\n",
       "      <th>1990-12-31</th>\n",
       "      <td>13.0</td>\n",
       "      <td>3649</td>\n",
       "    </tr>\n",
       "  </tbody>\n",
       "</table>\n",
       "<p>3650 rows × 2 columns</p>\n",
       "</div>"
      ],
      "text/plain": [
       "            Temp  days\n",
       "Date                  \n",
       "1981-01-01  20.7     0\n",
       "1981-01-02  17.9     1\n",
       "1981-01-03  18.8     2\n",
       "1981-01-04  14.6     3\n",
       "1981-01-05  15.8     4\n",
       "...          ...   ...\n",
       "1990-12-27  14.0  3645\n",
       "1990-12-28  13.6  3646\n",
       "1990-12-29  13.5  3647\n",
       "1990-12-30  15.7  3648\n",
       "1990-12-31  13.0  3649\n",
       "\n",
       "[3650 rows x 2 columns]"
      ]
     },
     "execution_count": 20,
     "metadata": {},
     "output_type": "execute_result"
    }
   ],
   "source": [
    "tempDF['days'] = range(0, len( tempDF))\n",
    "tempDF"
   ]
  },
  {
   "cell_type": "code",
   "execution_count": 21,
   "id": "0d4f33df",
   "metadata": {},
   "outputs": [],
   "source": [
    "temps = tempDF['Temp'].values\n",
    "days = tempDF['days'].values"
   ]
  },
  {
   "cell_type": "code",
   "execution_count": 22,
   "id": "0f34b20f",
   "metadata": {},
   "outputs": [
    {
     "data": {
      "text/plain": [
       "array([20.7, 17.9, 18.8, ..., 13.5, 15.7, 13. ])"
      ]
     },
     "execution_count": 22,
     "metadata": {},
     "output_type": "execute_result"
    }
   ],
   "source": [
    "temps"
   ]
  },
  {
   "cell_type": "code",
   "execution_count": 23,
   "id": "cb89a643",
   "metadata": {},
   "outputs": [
    {
     "data": {
      "text/plain": [
       "array([   0,    1,    2, ..., 3647, 3648, 3649])"
      ]
     },
     "execution_count": 23,
     "metadata": {},
     "output_type": "execute_result"
    }
   ],
   "source": [
    "days"
   ]
  },
  {
   "cell_type": "code",
   "execution_count": 24,
   "id": "b0e3159f",
   "metadata": {},
   "outputs": [
    {
     "data": {
      "text/html": [
       "<div>\n",
       "<style scoped>\n",
       "    .dataframe tbody tr th:only-of-type {\n",
       "        vertical-align: middle;\n",
       "    }\n",
       "\n",
       "    .dataframe tbody tr th {\n",
       "        vertical-align: top;\n",
       "    }\n",
       "\n",
       "    .dataframe thead th {\n",
       "        text-align: right;\n",
       "    }\n",
       "</style>\n",
       "<table border=\"1\" class=\"dataframe\">\n",
       "  <thead>\n",
       "    <tr style=\"text-align: right;\">\n",
       "      <th></th>\n",
       "      <th>Temp</th>\n",
       "      <th>days</th>\n",
       "    </tr>\n",
       "  </thead>\n",
       "  <tbody>\n",
       "    <tr>\n",
       "      <th>Temp</th>\n",
       "      <td>1.00000</td>\n",
       "      <td>0.01218</td>\n",
       "    </tr>\n",
       "    <tr>\n",
       "      <th>days</th>\n",
       "      <td>0.01218</td>\n",
       "      <td>1.00000</td>\n",
       "    </tr>\n",
       "  </tbody>\n",
       "</table>\n",
       "</div>"
      ],
      "text/plain": [
       "         Temp     days\n",
       "Temp  1.00000  0.01218\n",
       "days  0.01218  1.00000"
      ]
     },
     "execution_count": 24,
     "metadata": {},
     "output_type": "execute_result"
    }
   ],
   "source": [
    "tempDF.corr()"
   ]
  },
  {
   "cell_type": "code",
   "execution_count": 25,
   "id": "57d83609",
   "metadata": {},
   "outputs": [
    {
     "data": {
      "text/plain": [
       "array([[1.        , 0.01218004],\n",
       "       [0.01218004, 1.        ]])"
      ]
     },
     "execution_count": 25,
     "metadata": {},
     "output_type": "execute_result"
    }
   ],
   "source": [
    "np.corrcoef( temps, days)"
   ]
  },
  {
   "cell_type": "code",
   "execution_count": 27,
   "id": "6fc79acc",
   "metadata": {},
   "outputs": [
    {
     "data": {
      "text/plain": [
       "array([17.9, 18.8, 14.6, ..., 13.5, 15.7, 13. ])"
      ]
     },
     "execution_count": 27,
     "metadata": {},
     "output_type": "execute_result"
    }
   ],
   "source": [
    "temps[1:]"
   ]
  },
  {
   "cell_type": "code",
   "execution_count": 28,
   "id": "24bb0ae1",
   "metadata": {},
   "outputs": [
    {
     "data": {
      "text/plain": [
       "array([20.7, 17.9, 18.8, ..., 13.6, 13.5, 15.7])"
      ]
     },
     "execution_count": 28,
     "metadata": {},
     "output_type": "execute_result"
    }
   ],
   "source": [
    "temps[:-1]"
   ]
  },
  {
   "cell_type": "code",
   "execution_count": 29,
   "id": "1dc16f64",
   "metadata": {},
   "outputs": [
    {
     "data": {
      "text/plain": [
       "array([[1.        , 0.77487022],\n",
       "       [0.77487022, 1.        ]])"
      ]
     },
     "execution_count": 29,
     "metadata": {},
     "output_type": "execute_result"
    }
   ],
   "source": [
    "np.corrcoef( temps[1:], temps[:-1]) # lag1 "
   ]
  },
  {
   "cell_type": "code",
   "execution_count": 30,
   "id": "f4d175da",
   "metadata": {},
   "outputs": [
    {
     "data": {
      "text/plain": [
       "array([[1.        , 0.63111946],\n",
       "       [0.63111946, 1.        ]])"
      ]
     },
     "execution_count": 30,
     "metadata": {},
     "output_type": "execute_result"
    }
   ],
   "source": [
    "np.corrcoef( temps[2:], temps[:-2]) # lag2"
   ]
  },
  {
   "cell_type": "code",
   "execution_count": 33,
   "id": "7cee85f4",
   "metadata": {},
   "outputs": [
    {
     "data": {
      "text/plain": [
       "0.5863748620126278"
      ]
     },
     "execution_count": 33,
     "metadata": {},
     "output_type": "execute_result"
    }
   ],
   "source": [
    "np.corrcoef( temps[3:], temps[:-3])[0,1] # lag2"
   ]
  },
  {
   "cell_type": "code",
   "execution_count": 32,
   "id": "b1da85ed",
   "metadata": {},
   "outputs": [
    {
     "data": {
      "text/plain": [
       "[0.7748702165384457,\n",
       " 0.6311194620684836,\n",
       " 0.5863748620126278,\n",
       " 0.5788976133377621,\n",
       " 0.578571574411206,\n",
       " 0.5765484145122557,\n",
       " 0.575928953583158,\n",
       " 0.5695569780397494,\n",
       " 0.5634747178408281]"
      ]
     },
     "execution_count": 32,
     "metadata": {},
     "output_type": "execute_result"
    }
   ],
   "source": [
    "autocorrelation=[]\n",
    "for shift in range(1,10):\n",
    "    c = np.corrcoef(temps[:-shift], temps[shift:] )[0,1]\n",
    "    autocorrelation.append( c )\n",
    "autocorrelation"
   ]
  },
  {
   "cell_type": "code",
   "execution_count": 34,
   "id": "bd725706",
   "metadata": {},
   "outputs": [],
   "source": [
    "from statsmodels.graphics.tsaplots import plot_acf, acf"
   ]
  },
  {
   "cell_type": "code",
   "execution_count": 35,
   "id": "449899ab",
   "metadata": {},
   "outputs": [
    {
     "data": {
      "text/plain": [
       "array([20.7, 17.9, 18.8, ..., 13.5, 15.7, 13. ])"
      ]
     },
     "execution_count": 35,
     "metadata": {},
     "output_type": "execute_result"
    }
   ],
   "source": [
    "temps"
   ]
  },
  {
   "cell_type": "code",
   "execution_count": 36,
   "id": "a570c544",
   "metadata": {
    "collapsed": true
   },
   "outputs": [
    {
     "data": {
      "text/plain": [
       "Date\n",
       "1981-01-01    20.7\n",
       "1981-01-02    17.9\n",
       "1981-01-03    18.8\n",
       "1981-01-04    14.6\n",
       "1981-01-05    15.8\n",
       "              ... \n",
       "1990-12-27    14.0\n",
       "1990-12-28    13.6\n",
       "1990-12-29    13.5\n",
       "1990-12-30    15.7\n",
       "1990-12-31    13.0\n",
       "Name: Temp, Length: 3650, dtype: float64"
      ]
     },
     "execution_count": 36,
     "metadata": {},
     "output_type": "execute_result"
    }
   ],
   "source": [
    "tempDF['Temp']"
   ]
  },
  {
   "cell_type": "code",
   "execution_count": 37,
   "id": "71aaff3c",
   "metadata": {
    "collapsed": true
   },
   "outputs": [
    {
     "data": {
      "text/plain": [
       "array([1.        , 0.774268  , 0.6302866 , 0.58529312, 0.57774567,\n",
       "       0.57728013, 0.57510412, 0.57437039, 0.56782622, 0.56120131,\n",
       "       0.54668689, 0.53793111, 0.54012564, 0.54247126, 0.53688723,\n",
       "       0.53429917, 0.53043593, 0.52911166, 0.53037444, 0.52280732,\n",
       "       0.52303677, 0.52224579, 0.51426684, 0.49837745, 0.49302665,\n",
       "       0.49946731, 0.50428521, 0.50068173, 0.49157081, 0.48146406,\n",
       "       0.47421245, 0.47568054, 0.46311862, 0.46215585, 0.46630567,\n",
       "       0.45459092, 0.43378232, 0.4203594 , 0.42707505, 0.42196486,\n",
       "       0.4079607 ])"
      ]
     },
     "execution_count": 37,
     "metadata": {},
     "output_type": "execute_result"
    }
   ],
   "source": [
    "result = acf(tempDF['Temp'])\n",
    "result"
   ]
  },
  {
   "cell_type": "code",
   "execution_count": 38,
   "id": "ce3e2fe6",
   "metadata": {},
   "outputs": [
    {
     "data": {
      "image/png": "[encoded data removed]",
      "text/plain": [
       "<Figure size 432x288 with 1 Axes>"
      ]
     },
     "metadata": {
      "needs_background": "light"
     },
     "output_type": "display_data"
    }
   ],
   "source": [
    "plt.scatter( range(0,len(result ) ), result )\n",
    "plt.show()"
   ]
  },
  {
   "cell_type": "code",
   "execution_count": 39,
   "id": "d19c6360",
   "metadata": {},
   "outputs": [
    {
     "data": {
      "image/png": "[encoded data removed]",
      "text/plain": [
       "<Figure size 432x288 with 1 Axes>"
      ]
     },
     "metadata": {
      "needs_background": "light"
     },
     "output_type": "display_data"
    }
   ],
   "source": [
    "plot_acf( tempDF['Temp'])\n",
    "plt.show()"
   ]
  },
  {
   "cell_type": "code",
   "execution_count": 40,
   "id": "1172ea37",
   "metadata": {},
   "outputs": [
    {
     "data": {
      "image/png": "[encoded data removed]",
      "text/plain": [
       "<Figure size 432x288 with 1 Axes>"
      ]
     },
     "metadata": {
      "needs_background": "light"
     },
     "output_type": "display_data"
    }
   ],
   "source": [
    "plot_acf( birthDF['Births'] )\n",
    "plt.show()"
   ]
  },
  {
   "cell_type": "code",
   "execution_count": 41,
   "id": "cc1c6669",
   "metadata": {},
   "outputs": [
    {
     "data": {
      "image/png": "[encoded data removed]",
      "text/plain": [
       "<Figure size 432x288 with 1 Axes>"
      ]
     },
     "metadata": {
      "needs_background": "light"
     },
     "output_type": "display_data"
    }
   ],
   "source": [
    "plot_acf( airDF['passengers'] )\n",
    "plt.show()"
   ]
  },
  {
   "cell_type": "code",
   "execution_count": 42,
   "id": "4e4ef3fd",
   "metadata": {},
   "outputs": [],
   "source": [
    "from statsmodels.tsa.stattools import adfuller"
   ]
  },
  {
   "cell_type": "markdown",
   "id": "7817435e",
   "metadata": {},
   "source": [
    "#### 검증 조건 ( p-value : 5% 이내면 reject으로 대체가설 선택됨 )\n",
    "- 귀무가설(H0): non-stationary.\n",
    "- 대체가설 (H1): stationary."
   ]
  },
  {
   "cell_type": "code",
   "execution_count": 45,
   "id": "f8139468",
   "metadata": {},
   "outputs": [
    {
     "name": "stdout",
     "output_type": "stream",
     "text": [
      "-4.444804924611689\n",
      "0.0002470826300361109\n"
     ]
    }
   ],
   "source": [
    "result = adfuller( tempDF['Temp'])\n",
    "print( result[0] ) # adf ( 작을수록 :귀무가설을 기각시킬 확율이 높다)\n",
    "print( result[1] ) # p-value( 귀무가설기각: stationary)"
   ]
  },
  {
   "cell_type": "code",
   "execution_count": 43,
   "id": "6879f53e",
   "metadata": {},
   "outputs": [
    {
     "name": "stdout",
     "output_type": "stream",
     "text": [
      "-4.808291253559763\n",
      "5.243412990149865e-05\n"
     ]
    }
   ],
   "source": [
    "result = adfuller( birthDF['Births'] )\n",
    "print( result[0] ) # adf ( 작을수록 :귀무가설을 기각시킬 확율이 높다)\n",
    "print( result[1] ) # p-value( 귀무가설기각: stationary)"
   ]
  },
  {
   "cell_type": "code",
   "execution_count": 44,
   "id": "f02959d9",
   "metadata": {},
   "outputs": [
    {
     "name": "stdout",
     "output_type": "stream",
     "text": [
      "0.8153688792060569\n",
      "0.9918802434376411\n"
     ]
    }
   ],
   "source": [
    "result = adfuller( airDF['passengers'] )\n",
    "print( result[0] ) #adf ( 클수록: 귀무가설채택 확률이 높다 )\n",
    "print( result[1] ) # p-value( 귀무가설채택: non-stationary )"
   ]
  },
  {
   "cell_type": "code",
   "execution_count": 46,
   "id": "6386b19d",
   "metadata": {},
   "outputs": [],
   "source": [
    "order = (2,1,2)\n",
    "model = ARIMA( airDF, order )\n",
    "rfit = model.fit()"
   ]
  },
  {
   "cell_type": "code",
   "execution_count": 48,
   "id": "22f5b53c",
   "metadata": {
    "collapsed": true
   },
   "outputs": [
    {
     "data": {
      "text/html": [
       "<table class=\"simpletable\">\n",
       "<caption>ARIMA Model Results</caption>\n",
       "<tr>\n",
       "  <th>Dep. Variable:</th>   <td>D.passengers</td>   <th>  No. Observations:  </th>    <td>143</td>  \n",
       "</tr>\n",
       "<tr>\n",
       "  <th>Model:</th>          <td>ARIMA(2, 1, 2)</td>  <th>  Log Likelihood     </th> <td>-666.022</td>\n",
       "</tr>\n",
       "<tr>\n",
       "  <th>Method:</th>             <td>css-mle</td>     <th>  S.D. of innovations</th>  <td>24.712</td> \n",
       "</tr>\n",
       "<tr>\n",
       "  <th>Date:</th>          <td>Wed, 28 Jul 2021</td> <th>  AIC                </th> <td>1344.043</td>\n",
       "</tr>\n",
       "<tr>\n",
       "  <th>Time:</th>              <td>16:29:40</td>     <th>  BIC                </th> <td>1361.820</td>\n",
       "</tr>\n",
       "<tr>\n",
       "  <th>Sample:</th>           <td>02-01-1949</td>    <th>  HQIC               </th> <td>1351.267</td>\n",
       "</tr>\n",
       "<tr>\n",
       "  <th></th>                 <td>- 12-01-1960</td>   <th>                     </th>     <td> </td>   \n",
       "</tr>\n",
       "</table>\n",
       "<table class=\"simpletable\">\n",
       "<tr>\n",
       "           <td></td>             <th>coef</th>     <th>std err</th>      <th>z</th>      <th>P>|z|</th>  <th>[0.025</th>    <th>0.975]</th>  \n",
       "</tr>\n",
       "<tr>\n",
       "  <th>const</th>              <td>    2.5308</td> <td>    0.708</td> <td>    3.573</td> <td> 0.000</td> <td>    1.143</td> <td>    3.919</td>\n",
       "</tr>\n",
       "<tr>\n",
       "  <th>ar.L1.D.passengers</th> <td>    1.6477</td> <td>    0.033</td> <td>   49.934</td> <td> 0.000</td> <td>    1.583</td> <td>    1.712</td>\n",
       "</tr>\n",
       "<tr>\n",
       "  <th>ar.L2.D.passengers</th> <td>   -0.9094</td> <td>    0.033</td> <td>  -27.881</td> <td> 0.000</td> <td>   -0.973</td> <td>   -0.845</td>\n",
       "</tr>\n",
       "<tr>\n",
       "  <th>ma.L1.D.passengers</th> <td>   -1.9100</td> <td>    0.065</td> <td>  -29.498</td> <td> 0.000</td> <td>   -2.037</td> <td>   -1.783</td>\n",
       "</tr>\n",
       "<tr>\n",
       "  <th>ma.L2.D.passengers</th> <td>    0.9998</td> <td>    0.068</td> <td>   14.796</td> <td> 0.000</td> <td>    0.867</td> <td>    1.132</td>\n",
       "</tr>\n",
       "</table>\n",
       "<table class=\"simpletable\">\n",
       "<caption>Roots</caption>\n",
       "<tr>\n",
       "    <td></td>   <th>            Real</th>  <th>         Imaginary</th> <th>         Modulus</th>  <th>        Frequency</th>\n",
       "</tr>\n",
       "<tr>\n",
       "  <th>AR.1</th> <td>           0.9059</td> <td>          -0.5281j</td> <td>           1.0486</td> <td>          -0.0840</td>\n",
       "</tr>\n",
       "<tr>\n",
       "  <th>AR.2</th> <td>           0.9059</td> <td>          +0.5281j</td> <td>           1.0486</td> <td>           0.0840</td>\n",
       "</tr>\n",
       "<tr>\n",
       "  <th>MA.1</th> <td>           0.9551</td> <td>          -0.2964j</td> <td>           1.0001</td> <td>          -0.0479</td>\n",
       "</tr>\n",
       "<tr>\n",
       "  <th>MA.2</th> <td>           0.9551</td> <td>          +0.2964j</td> <td>           1.0001</td> <td>           0.0479</td>\n",
       "</tr>\n",
       "</table>"
      ],
      "text/plain": [
       "<class 'statsmodels.iolib.summary.Summary'>\n",
       "\"\"\"\n",
       "                             ARIMA Model Results                              \n",
       "==============================================================================\n",
       "Dep. Variable:           D.passengers   No. Observations:                  143\n",
       "Model:                 ARIMA(2, 1, 2)   Log Likelihood                -666.022\n",
       "Method:                       css-mle   S.D. of innovations             24.712\n",
       "Date:                Wed, 28 Jul 2021   AIC                           1344.043\n",
       "Time:                        16:29:40   BIC                           1361.820\n",
       "Sample:                    02-01-1949   HQIC                          1351.267\n",
       "                         - 12-01-1960                                         \n",
       "======================================================================================\n",
       "                         coef    std err          z      P>|z|      [0.025      0.975]\n",
       "--------------------------------------------------------------------------------------\n",
       "const                  2.5308      0.708      3.573      0.000       1.143       3.919\n",
       "ar.L1.D.passengers     1.6477      0.033     49.934      0.000       1.583       1.712\n",
       "ar.L2.D.passengers    -0.9094      0.033    -27.881      0.000      -0.973      -0.845\n",
       "ma.L1.D.passengers    -1.9100      0.065    -29.498      0.000      -2.037      -1.783\n",
       "ma.L2.D.passengers     0.9998      0.068     14.796      0.000       0.867       1.132\n",
       "                                    Roots                                    \n",
       "=============================================================================\n",
       "                  Real          Imaginary           Modulus         Frequency\n",
       "-----------------------------------------------------------------------------\n",
       "AR.1            0.9059           -0.5281j            1.0486           -0.0840\n",
       "AR.2            0.9059           +0.5281j            1.0486            0.0840\n",
       "MA.1            0.9551           -0.2964j            1.0001           -0.0479\n",
       "MA.2            0.9551           +0.2964j            1.0001            0.0479\n",
       "-----------------------------------------------------------------------------\n",
       "\"\"\""
      ]
     },
     "execution_count": 48,
     "metadata": {},
     "output_type": "execute_result"
    }
   ],
   "source": [
    "type( rfit)\n",
    "rfit.summary()"
   ]
  },
  {
   "cell_type": "markdown",
   "id": "447d2af0",
   "metadata": {},
   "source": [
    "ARIMA(2,1,2)\n",
    "\\begin{equation}\n",
    "y_t = 1.6477 y'_{t-1} -0.9094 y'_{t-2} + e_t -1.9101e_{t-1} +0.9999e_{t-2}\n",
    "\\end{equation}\n",
    "</h3>\n",
    "를 따르는 ARIMA모델임을 확인할 수 있다."
   ]
  },
  {
   "cell_type": "code",
   "execution_count": 49,
   "id": "660a37b4",
   "metadata": {},
   "outputs": [
    {
     "data": {
      "text/plain": [
       "1344.0433898318547"
      ]
     },
     "execution_count": 49,
     "metadata": {},
     "output_type": "execute_result"
    }
   ],
   "source": [
    "rfit.aic"
   ]
  },
  {
   "cell_type": "code",
   "execution_count": 50,
   "id": "4910fa53",
   "metadata": {},
   "outputs": [],
   "source": [
    "def arima_aic_check(data, order,sort = 'AIC'):\n",
    "    order_list = []\n",
    "    aic_list = []\n",
    "    bic_lsit = []\n",
    "    for p in range(order[0]):\n",
    "        for d in range(order[1]):\n",
    "            for q in range(order[2]):\n",
    "                model = ARIMA(data, order=(p,d,q))\n",
    "                try:\n",
    "                    model_fit = model.fit()\n",
    "                    c_order = f'p:{p} d:{d} q:{q}'\n",
    "                    aic = model_fit.aic\n",
    "                    bic = model_fit.bic\n",
    "                    order_list.append(c_order)\n",
    "                    aic_list.append(aic)\n",
    "                    bic_list.append(bic)\n",
    "                except:\n",
    "                    pass\n",
    "    result_df = pd.DataFrame(list(zip(order_list, aic_list)),columns=['order','AIC'])\n",
    "    result_df.sort_values(sort, inplace=True)\n",
    "    return result_df"
   ]
  },
  {
   "cell_type": "code",
   "execution_count": 51,
   "id": "58032e0a",
   "metadata": {
    "collapsed": true
   },
   "outputs": [
    {
     "data": {
      "text/html": [
       "<div>\n",
       "<style scoped>\n",
       "    .dataframe tbody tr th:only-of-type {\n",
       "        vertical-align: middle;\n",
       "    }\n",
       "\n",
       "    .dataframe tbody tr th {\n",
       "        vertical-align: top;\n",
       "    }\n",
       "\n",
       "    .dataframe thead th {\n",
       "        text-align: right;\n",
       "    }\n",
       "</style>\n",
       "<table border=\"1\" class=\"dataframe\">\n",
       "  <thead>\n",
       "    <tr style=\"text-align: right;\">\n",
       "      <th></th>\n",
       "      <th>order</th>\n",
       "      <th>AIC</th>\n",
       "    </tr>\n",
       "  </thead>\n",
       "  <tbody>\n",
       "    <tr>\n",
       "      <th>21</th>\n",
       "      <td>p:2 d:1 q:2</td>\n",
       "      <td>1344.043390</td>\n",
       "    </tr>\n",
       "    <tr>\n",
       "      <th>20</th>\n",
       "      <td>p:2 d:1 q:1</td>\n",
       "      <td>1361.695814</td>\n",
       "    </tr>\n",
       "    <tr>\n",
       "      <th>13</th>\n",
       "      <td>p:1 d:1 q:2</td>\n",
       "      <td>1371.815374</td>\n",
       "    </tr>\n",
       "    <tr>\n",
       "      <th>15</th>\n",
       "      <td>p:1 d:2 q:2</td>\n",
       "      <td>1393.908442</td>\n",
       "    </tr>\n",
       "    <tr>\n",
       "      <th>23</th>\n",
       "      <td>p:2 d:2 q:2</td>\n",
       "      <td>1394.656208</td>\n",
       "    </tr>\n",
       "    <tr>\n",
       "      <th>7</th>\n",
       "      <td>p:0 d:2 q:2</td>\n",
       "      <td>1396.371696</td>\n",
       "    </tr>\n",
       "    <tr>\n",
       "      <th>19</th>\n",
       "      <td>p:2 d:1 q:0</td>\n",
       "      <td>1397.975152</td>\n",
       "    </tr>\n",
       "    <tr>\n",
       "      <th>4</th>\n",
       "      <td>p:0 d:1 q:2</td>\n",
       "      <td>1398.385532</td>\n",
       "    </tr>\n",
       "    <tr>\n",
       "      <th>3</th>\n",
       "      <td>p:0 d:1 q:1</td>\n",
       "      <td>1398.827110</td>\n",
       "    </tr>\n",
       "    <tr>\n",
       "      <th>12</th>\n",
       "      <td>p:1 d:1 q:1</td>\n",
       "      <td>1402.145400</td>\n",
       "    </tr>\n",
       "    <tr>\n",
       "      <th>11</th>\n",
       "      <td>p:1 d:1 q:0</td>\n",
       "      <td>1403.472861</td>\n",
       "    </tr>\n",
       "    <tr>\n",
       "      <th>17</th>\n",
       "      <td>p:2 d:0 q:1</td>\n",
       "      <td>1408.249223</td>\n",
       "    </tr>\n",
       "    <tr>\n",
       "      <th>9</th>\n",
       "      <td>p:1 d:0 q:1</td>\n",
       "      <td>1409.748270</td>\n",
       "    </tr>\n",
       "    <tr>\n",
       "      <th>10</th>\n",
       "      <td>p:1 d:0 q:2</td>\n",
       "      <td>1411.050254</td>\n",
       "    </tr>\n",
       "    <tr>\n",
       "      <th>6</th>\n",
       "      <td>p:0 d:2 q:1</td>\n",
       "      <td>1413.362709</td>\n",
       "    </tr>\n",
       "    <tr>\n",
       "      <th>16</th>\n",
       "      <td>p:2 d:0 q:0</td>\n",
       "      <td>1413.638784</td>\n",
       "    </tr>\n",
       "    <tr>\n",
       "      <th>2</th>\n",
       "      <td>p:0 d:1 q:0</td>\n",
       "      <td>1415.277587</td>\n",
       "    </tr>\n",
       "    <tr>\n",
       "      <th>18</th>\n",
       "      <td>p:2 d:0 q:2</td>\n",
       "      <td>1427.039792</td>\n",
       "    </tr>\n",
       "    <tr>\n",
       "      <th>8</th>\n",
       "      <td>p:1 d:0 q:0</td>\n",
       "      <td>1428.179379</td>\n",
       "    </tr>\n",
       "    <tr>\n",
       "      <th>22</th>\n",
       "      <td>p:2 d:2 q:0</td>\n",
       "      <td>1442.077736</td>\n",
       "    </tr>\n",
       "    <tr>\n",
       "      <th>14</th>\n",
       "      <td>p:1 d:2 q:0</td>\n",
       "      <td>1449.026002</td>\n",
       "    </tr>\n",
       "    <tr>\n",
       "      <th>5</th>\n",
       "      <td>p:0 d:2 q:0</td>\n",
       "      <td>1452.590161</td>\n",
       "    </tr>\n",
       "    <tr>\n",
       "      <th>1</th>\n",
       "      <td>p:0 d:0 q:1</td>\n",
       "      <td>1618.862527</td>\n",
       "    </tr>\n",
       "    <tr>\n",
       "      <th>0</th>\n",
       "      <td>p:0 d:0 q:0</td>\n",
       "      <td>1790.367580</td>\n",
       "    </tr>\n",
       "  </tbody>\n",
       "</table>\n",
       "</div>"
      ],
      "text/plain": [
       "          order          AIC\n",
       "21  p:2 d:1 q:2  1344.043390\n",
       "20  p:2 d:1 q:1  1361.695814\n",
       "13  p:1 d:1 q:2  1371.815374\n",
       "15  p:1 d:2 q:2  1393.908442\n",
       "23  p:2 d:2 q:2  1394.656208\n",
       "7   p:0 d:2 q:2  1396.371696\n",
       "19  p:2 d:1 q:0  1397.975152\n",
       "4   p:0 d:1 q:2  1398.385532\n",
       "3   p:0 d:1 q:1  1398.827110\n",
       "12  p:1 d:1 q:1  1402.145400\n",
       "11  p:1 d:1 q:0  1403.472861\n",
       "17  p:2 d:0 q:1  1408.249223\n",
       "9   p:1 d:0 q:1  1409.748270\n",
       "10  p:1 d:0 q:2  1411.050254\n",
       "6   p:0 d:2 q:1  1413.362709\n",
       "16  p:2 d:0 q:0  1413.638784\n",
       "2   p:0 d:1 q:0  1415.277587\n",
       "18  p:2 d:0 q:2  1427.039792\n",
       "8   p:1 d:0 q:0  1428.179379\n",
       "22  p:2 d:2 q:0  1442.077736\n",
       "14  p:1 d:2 q:0  1449.026002\n",
       "5   p:0 d:2 q:0  1452.590161\n",
       "1   p:0 d:0 q:1  1618.862527\n",
       "0   p:0 d:0 q:0  1790.367580"
      ]
     },
     "execution_count": 51,
     "metadata": {},
     "output_type": "execute_result"
    }
   ],
   "source": [
    "arima_aic_check( airDF, [3,3,3] )"
   ]
  },
  {
   "cell_type": "code",
   "execution_count": 52,
   "id": "22076566",
   "metadata": {
    "collapsed": true
   },
   "outputs": [
    {
     "data": {
      "text/plain": [
       "1949-02-01    114.530757\n",
       "1949-03-01    121.350748\n",
       "1949-04-01    137.221457\n",
       "1949-05-01    129.789092\n",
       "1949-06-01    119.168608\n",
       "1949-07-01    136.761944\n",
       "1949-08-01    149.738605\n",
       "1949-09-01    147.366526\n",
       "1949-10-01    134.797514\n",
       "1949-11-01    121.075654\n",
       "Freq: MS, dtype: float64"
      ]
     },
     "execution_count": 52,
     "metadata": {},
     "output_type": "execute_result"
    }
   ],
   "source": [
    "rfit.predict( 1, 10, typ='levels')"
   ]
  },
  {
   "cell_type": "code",
   "execution_count": 54,
   "id": "caabf3cd",
   "metadata": {
    "collapsed": true
   },
   "outputs": [
    {
     "data": {
      "text/plain": [
       "1950-01-01    131.475133\n",
       "1950-02-01    132.057210\n",
       "1950-03-01    143.952499\n",
       "1950-04-01    156.327486\n",
       "1950-05-01    147.709413\n",
       "1950-06-01    136.540833\n",
       "1950-07-01    155.852622\n",
       "1950-08-01    168.938373\n",
       "1950-09-01    162.269454\n",
       "1950-10-01    147.631481\n",
       "1950-11-01    126.284860\n",
       "1950-12-01    115.223830\n",
       "Freq: MS, dtype: float64"
      ]
     },
     "execution_count": 54,
     "metadata": {},
     "output_type": "execute_result"
    }
   ],
   "source": [
    "rfit.predict( '1950-01-01', '1950-12-01', typ='levels')"
   ]
  },
  {
   "cell_type": "code",
   "execution_count": 55,
   "id": "c6fe31ec",
   "metadata": {
    "collapsed": true
   },
   "outputs": [
    {
     "data": {
      "text/plain": [
       "1960-07-01    553.886382\n",
       "1960-08-01    599.047244\n",
       "1960-09-01    555.148495\n",
       "1960-10-01    458.015781\n",
       "1960-11-01    421.193060\n",
       "1960-12-01    378.522291\n",
       "1961-01-01    433.105255\n",
       "1961-02-01    450.862833\n",
       "1961-03-01    479.779438\n",
       "1961-04-01    511.939286\n",
       "1961-05-01    539.295020\n",
       "1961-06-01    555.785523\n",
       "1961-07-01    558.742071\n",
       "Freq: MS, dtype: float64"
      ]
     },
     "execution_count": 55,
     "metadata": {},
     "output_type": "execute_result"
    }
   ],
   "source": [
    "rfit.predict( '1960-07-01', '1961-07-01', typ='levels')"
   ]
  },
  {
   "cell_type": "code",
   "execution_count": 56,
   "id": "6fc70719",
   "metadata": {},
   "outputs": [],
   "source": [
    "preds = rfit.predict( '1960-07-01', '1961-07-01', typ='levels')"
   ]
  },
  {
   "cell_type": "code",
   "execution_count": 57,
   "id": "108e9e81",
   "metadata": {},
   "outputs": [],
   "source": [
    "train = airDF[:'1960-07-01']\n",
    "test = airDF['1960-07-01':]"
   ]
  },
  {
   "cell_type": "code",
   "execution_count": 61,
   "id": "310fe582",
   "metadata": {},
   "outputs": [
    {
     "data": {
      "image/png": "[encoded data removed]",
      "text/plain": [
       "<Figure size 432x288 with 1 Axes>"
      ]
     },
     "metadata": {
      "needs_background": "light"
     },
     "output_type": "display_data"
    }
   ],
   "source": [
    "plt.plot( train )\n",
    "plt.plot( test)\n",
    "plt.plot(preds, 'r--')\n",
    "plt.show()"
   ]
  },
  {
   "cell_type": "code",
   "execution_count": 53,
   "id": "82900932",
   "metadata": {},
   "outputs": [
    {
     "data": {
      "text/html": [
       "<div>\n",
       "<style scoped>\n",
       "    .dataframe tbody tr th:only-of-type {\n",
       "        vertical-align: middle;\n",
       "    }\n",
       "\n",
       "    .dataframe tbody tr th {\n",
       "        vertical-align: top;\n",
       "    }\n",
       "\n",
       "    .dataframe thead th {\n",
       "        text-align: right;\n",
       "    }\n",
       "</style>\n",
       "<table border=\"1\" class=\"dataframe\">\n",
       "  <thead>\n",
       "    <tr style=\"text-align: right;\">\n",
       "      <th></th>\n",
       "      <th>passengers</th>\n",
       "    </tr>\n",
       "    <tr>\n",
       "      <th>time</th>\n",
       "      <th></th>\n",
       "    </tr>\n",
       "  </thead>\n",
       "  <tbody>\n",
       "    <tr>\n",
       "      <th>1949-01-01</th>\n",
       "      <td>112</td>\n",
       "    </tr>\n",
       "    <tr>\n",
       "      <th>1949-02-01</th>\n",
       "      <td>118</td>\n",
       "    </tr>\n",
       "    <tr>\n",
       "      <th>1949-03-01</th>\n",
       "      <td>132</td>\n",
       "    </tr>\n",
       "    <tr>\n",
       "      <th>1949-04-01</th>\n",
       "      <td>129</td>\n",
       "    </tr>\n",
       "    <tr>\n",
       "      <th>1949-05-01</th>\n",
       "      <td>121</td>\n",
       "    </tr>\n",
       "    <tr>\n",
       "      <th>...</th>\n",
       "      <td>...</td>\n",
       "    </tr>\n",
       "    <tr>\n",
       "      <th>1960-08-01</th>\n",
       "      <td>606</td>\n",
       "    </tr>\n",
       "    <tr>\n",
       "      <th>1960-09-01</th>\n",
       "      <td>508</td>\n",
       "    </tr>\n",
       "    <tr>\n",
       "      <th>1960-10-01</th>\n",
       "      <td>461</td>\n",
       "    </tr>\n",
       "    <tr>\n",
       "      <th>1960-11-01</th>\n",
       "      <td>390</td>\n",
       "    </tr>\n",
       "    <tr>\n",
       "      <th>1960-12-01</th>\n",
       "      <td>432</td>\n",
       "    </tr>\n",
       "  </tbody>\n",
       "</table>\n",
       "<p>144 rows × 1 columns</p>\n",
       "</div>"
      ],
      "text/plain": [
       "            passengers\n",
       "time                  \n",
       "1949-01-01         112\n",
       "1949-02-01         118\n",
       "1949-03-01         132\n",
       "1949-04-01         129\n",
       "1949-05-01         121\n",
       "...                ...\n",
       "1960-08-01         606\n",
       "1960-09-01         508\n",
       "1960-10-01         461\n",
       "1960-11-01         390\n",
       "1960-12-01         432\n",
       "\n",
       "[144 rows x 1 columns]"
      ]
     },
     "execution_count": 53,
     "metadata": {},
     "output_type": "execute_result"
    }
   ],
   "source": [
    "airDF"
   ]
  }
 ],
 "metadata": {
  "kernelspec": {
   "display_name": "Python 3",
   "language": "python",
   "name": "python3"
  },
  "language_info": {
   "codemirror_mode": {
    "name": "ipython",
    "version": 3
   },
   "file_extension": ".py",
   "mimetype": "text/x-python",
   "name": "python",
   "nbconvert_exporter": "python",
   "pygments_lexer": "ipython3",
   "version": "3.8.8"
  }
 },
 "nbformat": 4,
 "nbformat_minor": 5
}
