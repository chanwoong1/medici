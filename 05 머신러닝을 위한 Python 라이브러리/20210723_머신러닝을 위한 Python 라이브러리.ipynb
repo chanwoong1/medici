{
    "cells": [
        {
            "cell_type": "markdown",
            "source": [
                "# 기본 모듈"
            ],
            "metadata": {}
        },
        {
            "cell_type": "code",
            "execution_count": 73,
            "source": [
                "import pandas as pd\r\n",
                "import numpy as np\r\n",
                "import seaborn as sns\r\n",
                "from sklearn.datasets import load_boston, load_iris, load_wine\r\n",
                "\r\n",
                "from sklearn.linear_model import Ridge,Lasso,ElasticNet, LinearRegression, SGDRegressor, LogisticRegression\r\n",
                "from sklearn.preprocessing import PolynomialFeatures\r\n",
                "from sklearn.pipeline import make_pipeline\r\n",
                "\r\n",
                "from sklearn.metrics import confusion_matrix, precision_score, recall_score, f1_score, roc_curve\r\n",
                "\r\n",
                "from sklearn.preprocessing import StandardScaler\r\n",
                "\r\n",
                "from sklearn.neural_network import MLPRegressor\r\n",
                "from sklearn.model_selection import train_test_split\r\n",
                "from sklearn.model_selection import GridSearchCV\r\n",
                "from sklearn.model_selection import cross_val_score\r\n",
                "import math\r\n",
                "\r\n",
                "import mglearn\r\n",
                "import matplotlib.pyplot as plt\r\n",
                "import matplotlib\r\n",
                "matplotlib.rcParams['font.family']='Malgun Gothic'\r\n",
                "matplotlib.rcParams['axes.unicode_minus'] = False\r\n",
                "\r\n",
                "import warnings\r\n",
                "warnings.simplefilter('ignore')\r\n"
            ],
            "outputs": [],
            "metadata": {}
        },
        {
            "cell_type": "markdown",
            "source": [
                "# 17. softmax"
            ],
            "metadata": {}
        },
        {
            "cell_type": "code",
            "execution_count": 2,
            "source": [
                "import numpy as np"
            ],
            "outputs": [],
            "metadata": {}
        },
        {
            "cell_type": "code",
            "execution_count": 3,
            "source": [
                "def fn(x) :\r\n",
                "    print(x / x.sum())"
            ],
            "outputs": [],
            "metadata": {}
        },
        {
            "cell_type": "code",
            "execution_count": 5,
            "source": [
                "def softmax(x) :\r\n",
                "    e = np.exp(x)\r\n",
                "    print(e)\r\n",
                "    print(e / np.sum(e))"
            ],
            "outputs": [],
            "metadata": {}
        },
        {
            "cell_type": "code",
            "execution_count": 7,
            "source": [
                "a = np.array([2.0, 1.0, 0.1])\r\n",
                "# fn(a)\r\n",
                "softmax(a)"
            ],
            "outputs": [
                {
                    "output_type": "stream",
                    "name": "stdout",
                    "text": [
                        "[7.3890561  2.71828183 1.10517092]\n",
                        "[0.65900114 0.24243297 0.09856589]\n"
                    ]
                }
            ],
            "metadata": {}
        },
        {
            "cell_type": "markdown",
            "source": [
                "# 18. 다중분류"
            ],
            "metadata": {}
        },
        {
            "cell_type": "markdown",
            "source": [
                "![iris.png](https://drive.google.com/uc?id=1M-rZSCsgOylvAq82HwPdmn2MikZeDQ9a)"
            ],
            "metadata": {}
        },
        {
            "cell_type": "code",
            "execution_count": 9,
            "source": [
                "iris = load_iris()\r\n",
                "iris"
            ],
            "outputs": [
                {
                    "output_type": "execute_result",
                    "data": {
                        "text/plain": [
                            "{'data': array([[5.1, 3.5, 1.4, 0.2],\n",
                            "        [4.9, 3. , 1.4, 0.2],\n",
                            "        [4.7, 3.2, 1.3, 0.2],\n",
                            "        [4.6, 3.1, 1.5, 0.2],\n",
                            "        [5. , 3.6, 1.4, 0.2],\n",
                            "        [5.4, 3.9, 1.7, 0.4],\n",
                            "        [4.6, 3.4, 1.4, 0.3],\n",
                            "        [5. , 3.4, 1.5, 0.2],\n",
                            "        [4.4, 2.9, 1.4, 0.2],\n",
                            "        [4.9, 3.1, 1.5, 0.1],\n",
                            "        [5.4, 3.7, 1.5, 0.2],\n",
                            "        [4.8, 3.4, 1.6, 0.2],\n",
                            "        [4.8, 3. , 1.4, 0.1],\n",
                            "        [4.3, 3. , 1.1, 0.1],\n",
                            "        [5.8, 4. , 1.2, 0.2],\n",
                            "        [5.7, 4.4, 1.5, 0.4],\n",
                            "        [5.4, 3.9, 1.3, 0.4],\n",
                            "        [5.1, 3.5, 1.4, 0.3],\n",
                            "        [5.7, 3.8, 1.7, 0.3],\n",
                            "        [5.1, 3.8, 1.5, 0.3],\n",
                            "        [5.4, 3.4, 1.7, 0.2],\n",
                            "        [5.1, 3.7, 1.5, 0.4],\n",
                            "        [4.6, 3.6, 1. , 0.2],\n",
                            "        [5.1, 3.3, 1.7, 0.5],\n",
                            "        [4.8, 3.4, 1.9, 0.2],\n",
                            "        [5. , 3. , 1.6, 0.2],\n",
                            "        [5. , 3.4, 1.6, 0.4],\n",
                            "        [5.2, 3.5, 1.5, 0.2],\n",
                            "        [5.2, 3.4, 1.4, 0.2],\n",
                            "        [4.7, 3.2, 1.6, 0.2],\n",
                            "        [4.8, 3.1, 1.6, 0.2],\n",
                            "        [5.4, 3.4, 1.5, 0.4],\n",
                            "        [5.2, 4.1, 1.5, 0.1],\n",
                            "        [5.5, 4.2, 1.4, 0.2],\n",
                            "        [4.9, 3.1, 1.5, 0.2],\n",
                            "        [5. , 3.2, 1.2, 0.2],\n",
                            "        [5.5, 3.5, 1.3, 0.2],\n",
                            "        [4.9, 3.6, 1.4, 0.1],\n",
                            "        [4.4, 3. , 1.3, 0.2],\n",
                            "        [5.1, 3.4, 1.5, 0.2],\n",
                            "        [5. , 3.5, 1.3, 0.3],\n",
                            "        [4.5, 2.3, 1.3, 0.3],\n",
                            "        [4.4, 3.2, 1.3, 0.2],\n",
                            "        [5. , 3.5, 1.6, 0.6],\n",
                            "        [5.1, 3.8, 1.9, 0.4],\n",
                            "        [4.8, 3. , 1.4, 0.3],\n",
                            "        [5.1, 3.8, 1.6, 0.2],\n",
                            "        [4.6, 3.2, 1.4, 0.2],\n",
                            "        [5.3, 3.7, 1.5, 0.2],\n",
                            "        [5. , 3.3, 1.4, 0.2],\n",
                            "        [7. , 3.2, 4.7, 1.4],\n",
                            "        [6.4, 3.2, 4.5, 1.5],\n",
                            "        [6.9, 3.1, 4.9, 1.5],\n",
                            "        [5.5, 2.3, 4. , 1.3],\n",
                            "        [6.5, 2.8, 4.6, 1.5],\n",
                            "        [5.7, 2.8, 4.5, 1.3],\n",
                            "        [6.3, 3.3, 4.7, 1.6],\n",
                            "        [4.9, 2.4, 3.3, 1. ],\n",
                            "        [6.6, 2.9, 4.6, 1.3],\n",
                            "        [5.2, 2.7, 3.9, 1.4],\n",
                            "        [5. , 2. , 3.5, 1. ],\n",
                            "        [5.9, 3. , 4.2, 1.5],\n",
                            "        [6. , 2.2, 4. , 1. ],\n",
                            "        [6.1, 2.9, 4.7, 1.4],\n",
                            "        [5.6, 2.9, 3.6, 1.3],\n",
                            "        [6.7, 3.1, 4.4, 1.4],\n",
                            "        [5.6, 3. , 4.5, 1.5],\n",
                            "        [5.8, 2.7, 4.1, 1. ],\n",
                            "        [6.2, 2.2, 4.5, 1.5],\n",
                            "        [5.6, 2.5, 3.9, 1.1],\n",
                            "        [5.9, 3.2, 4.8, 1.8],\n",
                            "        [6.1, 2.8, 4. , 1.3],\n",
                            "        [6.3, 2.5, 4.9, 1.5],\n",
                            "        [6.1, 2.8, 4.7, 1.2],\n",
                            "        [6.4, 2.9, 4.3, 1.3],\n",
                            "        [6.6, 3. , 4.4, 1.4],\n",
                            "        [6.8, 2.8, 4.8, 1.4],\n",
                            "        [6.7, 3. , 5. , 1.7],\n",
                            "        [6. , 2.9, 4.5, 1.5],\n",
                            "        [5.7, 2.6, 3.5, 1. ],\n",
                            "        [5.5, 2.4, 3.8, 1.1],\n",
                            "        [5.5, 2.4, 3.7, 1. ],\n",
                            "        [5.8, 2.7, 3.9, 1.2],\n",
                            "        [6. , 2.7, 5.1, 1.6],\n",
                            "        [5.4, 3. , 4.5, 1.5],\n",
                            "        [6. , 3.4, 4.5, 1.6],\n",
                            "        [6.7, 3.1, 4.7, 1.5],\n",
                            "        [6.3, 2.3, 4.4, 1.3],\n",
                            "        [5.6, 3. , 4.1, 1.3],\n",
                            "        [5.5, 2.5, 4. , 1.3],\n",
                            "        [5.5, 2.6, 4.4, 1.2],\n",
                            "        [6.1, 3. , 4.6, 1.4],\n",
                            "        [5.8, 2.6, 4. , 1.2],\n",
                            "        [5. , 2.3, 3.3, 1. ],\n",
                            "        [5.6, 2.7, 4.2, 1.3],\n",
                            "        [5.7, 3. , 4.2, 1.2],\n",
                            "        [5.7, 2.9, 4.2, 1.3],\n",
                            "        [6.2, 2.9, 4.3, 1.3],\n",
                            "        [5.1, 2.5, 3. , 1.1],\n",
                            "        [5.7, 2.8, 4.1, 1.3],\n",
                            "        [6.3, 3.3, 6. , 2.5],\n",
                            "        [5.8, 2.7, 5.1, 1.9],\n",
                            "        [7.1, 3. , 5.9, 2.1],\n",
                            "        [6.3, 2.9, 5.6, 1.8],\n",
                            "        [6.5, 3. , 5.8, 2.2],\n",
                            "        [7.6, 3. , 6.6, 2.1],\n",
                            "        [4.9, 2.5, 4.5, 1.7],\n",
                            "        [7.3, 2.9, 6.3, 1.8],\n",
                            "        [6.7, 2.5, 5.8, 1.8],\n",
                            "        [7.2, 3.6, 6.1, 2.5],\n",
                            "        [6.5, 3.2, 5.1, 2. ],\n",
                            "        [6.4, 2.7, 5.3, 1.9],\n",
                            "        [6.8, 3. , 5.5, 2.1],\n",
                            "        [5.7, 2.5, 5. , 2. ],\n",
                            "        [5.8, 2.8, 5.1, 2.4],\n",
                            "        [6.4, 3.2, 5.3, 2.3],\n",
                            "        [6.5, 3. , 5.5, 1.8],\n",
                            "        [7.7, 3.8, 6.7, 2.2],\n",
                            "        [7.7, 2.6, 6.9, 2.3],\n",
                            "        [6. , 2.2, 5. , 1.5],\n",
                            "        [6.9, 3.2, 5.7, 2.3],\n",
                            "        [5.6, 2.8, 4.9, 2. ],\n",
                            "        [7.7, 2.8, 6.7, 2. ],\n",
                            "        [6.3, 2.7, 4.9, 1.8],\n",
                            "        [6.7, 3.3, 5.7, 2.1],\n",
                            "        [7.2, 3.2, 6. , 1.8],\n",
                            "        [6.2, 2.8, 4.8, 1.8],\n",
                            "        [6.1, 3. , 4.9, 1.8],\n",
                            "        [6.4, 2.8, 5.6, 2.1],\n",
                            "        [7.2, 3. , 5.8, 1.6],\n",
                            "        [7.4, 2.8, 6.1, 1.9],\n",
                            "        [7.9, 3.8, 6.4, 2. ],\n",
                            "        [6.4, 2.8, 5.6, 2.2],\n",
                            "        [6.3, 2.8, 5.1, 1.5],\n",
                            "        [6.1, 2.6, 5.6, 1.4],\n",
                            "        [7.7, 3. , 6.1, 2.3],\n",
                            "        [6.3, 3.4, 5.6, 2.4],\n",
                            "        [6.4, 3.1, 5.5, 1.8],\n",
                            "        [6. , 3. , 4.8, 1.8],\n",
                            "        [6.9, 3.1, 5.4, 2.1],\n",
                            "        [6.7, 3.1, 5.6, 2.4],\n",
                            "        [6.9, 3.1, 5.1, 2.3],\n",
                            "        [5.8, 2.7, 5.1, 1.9],\n",
                            "        [6.8, 3.2, 5.9, 2.3],\n",
                            "        [6.7, 3.3, 5.7, 2.5],\n",
                            "        [6.7, 3. , 5.2, 2.3],\n",
                            "        [6.3, 2.5, 5. , 1.9],\n",
                            "        [6.5, 3. , 5.2, 2. ],\n",
                            "        [6.2, 3.4, 5.4, 2.3],\n",
                            "        [5.9, 3. , 5.1, 1.8]]),\n",
                            " 'target': array([0, 0, 0, 0, 0, 0, 0, 0, 0, 0, 0, 0, 0, 0, 0, 0, 0, 0, 0, 0, 0, 0,\n",
                            "        0, 0, 0, 0, 0, 0, 0, 0, 0, 0, 0, 0, 0, 0, 0, 0, 0, 0, 0, 0, 0, 0,\n",
                            "        0, 0, 0, 0, 0, 0, 1, 1, 1, 1, 1, 1, 1, 1, 1, 1, 1, 1, 1, 1, 1, 1,\n",
                            "        1, 1, 1, 1, 1, 1, 1, 1, 1, 1, 1, 1, 1, 1, 1, 1, 1, 1, 1, 1, 1, 1,\n",
                            "        1, 1, 1, 1, 1, 1, 1, 1, 1, 1, 1, 1, 2, 2, 2, 2, 2, 2, 2, 2, 2, 2,\n",
                            "        2, 2, 2, 2, 2, 2, 2, 2, 2, 2, 2, 2, 2, 2, 2, 2, 2, 2, 2, 2, 2, 2,\n",
                            "        2, 2, 2, 2, 2, 2, 2, 2, 2, 2, 2, 2, 2, 2, 2, 2, 2, 2]),\n",
                            " 'frame': None,\n",
                            " 'target_names': array(['setosa', 'versicolor', 'virginica'], dtype='<U10'),\n",
                            " 'DESCR': '.. _iris_dataset:\\n\\nIris plants dataset\\n--------------------\\n\\n**Data Set Characteristics:**\\n\\n    :Number of Instances: 150 (50 in each of three classes)\\n    :Number of Attributes: 4 numeric, predictive attributes and the class\\n    :Attribute Information:\\n        - sepal length in cm\\n        - sepal width in cm\\n        - petal length in cm\\n        - petal width in cm\\n        - class:\\n                - Iris-Setosa\\n                - Iris-Versicolour\\n                - Iris-Virginica\\n                \\n    :Summary Statistics:\\n\\n    ============== ==== ==== ======= ===== ====================\\n                    Min  Max   Mean    SD   Class Correlation\\n    ============== ==== ==== ======= ===== ====================\\n    sepal length:   4.3  7.9   5.84   0.83    0.7826\\n    sepal width:    2.0  4.4   3.05   0.43   -0.4194\\n    petal length:   1.0  6.9   3.76   1.76    0.9490  (high!)\\n    petal width:    0.1  2.5   1.20   0.76    0.9565  (high!)\\n    ============== ==== ==== ======= ===== ====================\\n\\n    :Missing Attribute Values: None\\n    :Class Distribution: 33.3% for each of 3 classes.\\n    :Creator: R.A. Fisher\\n    :Donor: Michael Marshall (MARSHALL%PLU@io.arc.nasa.gov)\\n    :Date: July, 1988\\n\\nThe famous Iris database, first used by Sir R.A. Fisher. The dataset is taken\\nfrom Fisher\\'s paper. Note that it\\'s the same as in R, but not as in the UCI\\nMachine Learning Repository, which has two wrong data points.\\n\\nThis is perhaps the best known database to be found in the\\npattern recognition literature.  Fisher\\'s paper is a classic in the field and\\nis referenced frequently to this day.  (See Duda & Hart, for example.)  The\\ndata set contains 3 classes of 50 instances each, where each class refers to a\\ntype of iris plant.  One class is linearly separable from the other 2; the\\nlatter are NOT linearly separable from each other.\\n\\n.. topic:: References\\n\\n   - Fisher, R.A. \"The use of multiple measurements in taxonomic problems\"\\n     Annual Eugenics, 7, Part II, 179-188 (1936); also in \"Contributions to\\n     Mathematical Statistics\" (John Wiley, NY, 1950).\\n   - Duda, R.O., & Hart, P.E. (1973) Pattern Classification and Scene Analysis.\\n     (Q327.D83) John Wiley & Sons.  ISBN 0-471-22361-1.  See page 218.\\n   - Dasarathy, B.V. (1980) \"Nosing Around the Neighborhood: A New System\\n     Structure and Classification Rule for Recognition in Partially Exposed\\n     Environments\".  IEEE Transactions on Pattern Analysis and Machine\\n     Intelligence, Vol. PAMI-2, No. 1, 67-71.\\n   - Gates, G.W. (1972) \"The Reduced Nearest Neighbor Rule\".  IEEE Transactions\\n     on Information Theory, May 1972, 431-433.\\n   - See also: 1988 MLC Proceedings, 54-64.  Cheeseman et al\"s AUTOCLASS II\\n     conceptual clustering system finds 3 classes in the data.\\n   - Many, many more ...',\n",
                            " 'feature_names': ['sepal length (cm)',\n",
                            "  'sepal width (cm)',\n",
                            "  'petal length (cm)',\n",
                            "  'petal width (cm)'],\n",
                            " 'filename': 'C:\\\\Users\\\\medici\\\\anaconda3\\\\lib\\\\site-packages\\\\sklearn\\\\datasets\\\\data\\\\iris.csv'}"
                        ]
                    },
                    "metadata": {},
                    "execution_count": 9
                }
            ],
            "metadata": {}
        },
        {
            "cell_type": "code",
            "execution_count": 10,
            "source": [
                "iris.keys()"
            ],
            "outputs": [
                {
                    "output_type": "execute_result",
                    "data": {
                        "text/plain": [
                            "dict_keys(['data', 'target', 'frame', 'target_names', 'DESCR', 'feature_names', 'filename'])"
                        ]
                    },
                    "metadata": {},
                    "execution_count": 10
                }
            ],
            "metadata": {}
        },
        {
            "cell_type": "code",
            "execution_count": 11,
            "source": [
                "iris['data']"
            ],
            "outputs": [
                {
                    "output_type": "execute_result",
                    "data": {
                        "text/plain": [
                            "array([[5.1, 3.5, 1.4, 0.2],\n",
                            "       [4.9, 3. , 1.4, 0.2],\n",
                            "       [4.7, 3.2, 1.3, 0.2],\n",
                            "       [4.6, 3.1, 1.5, 0.2],\n",
                            "       [5. , 3.6, 1.4, 0.2],\n",
                            "       [5.4, 3.9, 1.7, 0.4],\n",
                            "       [4.6, 3.4, 1.4, 0.3],\n",
                            "       [5. , 3.4, 1.5, 0.2],\n",
                            "       [4.4, 2.9, 1.4, 0.2],\n",
                            "       [4.9, 3.1, 1.5, 0.1],\n",
                            "       [5.4, 3.7, 1.5, 0.2],\n",
                            "       [4.8, 3.4, 1.6, 0.2],\n",
                            "       [4.8, 3. , 1.4, 0.1],\n",
                            "       [4.3, 3. , 1.1, 0.1],\n",
                            "       [5.8, 4. , 1.2, 0.2],\n",
                            "       [5.7, 4.4, 1.5, 0.4],\n",
                            "       [5.4, 3.9, 1.3, 0.4],\n",
                            "       [5.1, 3.5, 1.4, 0.3],\n",
                            "       [5.7, 3.8, 1.7, 0.3],\n",
                            "       [5.1, 3.8, 1.5, 0.3],\n",
                            "       [5.4, 3.4, 1.7, 0.2],\n",
                            "       [5.1, 3.7, 1.5, 0.4],\n",
                            "       [4.6, 3.6, 1. , 0.2],\n",
                            "       [5.1, 3.3, 1.7, 0.5],\n",
                            "       [4.8, 3.4, 1.9, 0.2],\n",
                            "       [5. , 3. , 1.6, 0.2],\n",
                            "       [5. , 3.4, 1.6, 0.4],\n",
                            "       [5.2, 3.5, 1.5, 0.2],\n",
                            "       [5.2, 3.4, 1.4, 0.2],\n",
                            "       [4.7, 3.2, 1.6, 0.2],\n",
                            "       [4.8, 3.1, 1.6, 0.2],\n",
                            "       [5.4, 3.4, 1.5, 0.4],\n",
                            "       [5.2, 4.1, 1.5, 0.1],\n",
                            "       [5.5, 4.2, 1.4, 0.2],\n",
                            "       [4.9, 3.1, 1.5, 0.2],\n",
                            "       [5. , 3.2, 1.2, 0.2],\n",
                            "       [5.5, 3.5, 1.3, 0.2],\n",
                            "       [4.9, 3.6, 1.4, 0.1],\n",
                            "       [4.4, 3. , 1.3, 0.2],\n",
                            "       [5.1, 3.4, 1.5, 0.2],\n",
                            "       [5. , 3.5, 1.3, 0.3],\n",
                            "       [4.5, 2.3, 1.3, 0.3],\n",
                            "       [4.4, 3.2, 1.3, 0.2],\n",
                            "       [5. , 3.5, 1.6, 0.6],\n",
                            "       [5.1, 3.8, 1.9, 0.4],\n",
                            "       [4.8, 3. , 1.4, 0.3],\n",
                            "       [5.1, 3.8, 1.6, 0.2],\n",
                            "       [4.6, 3.2, 1.4, 0.2],\n",
                            "       [5.3, 3.7, 1.5, 0.2],\n",
                            "       [5. , 3.3, 1.4, 0.2],\n",
                            "       [7. , 3.2, 4.7, 1.4],\n",
                            "       [6.4, 3.2, 4.5, 1.5],\n",
                            "       [6.9, 3.1, 4.9, 1.5],\n",
                            "       [5.5, 2.3, 4. , 1.3],\n",
                            "       [6.5, 2.8, 4.6, 1.5],\n",
                            "       [5.7, 2.8, 4.5, 1.3],\n",
                            "       [6.3, 3.3, 4.7, 1.6],\n",
                            "       [4.9, 2.4, 3.3, 1. ],\n",
                            "       [6.6, 2.9, 4.6, 1.3],\n",
                            "       [5.2, 2.7, 3.9, 1.4],\n",
                            "       [5. , 2. , 3.5, 1. ],\n",
                            "       [5.9, 3. , 4.2, 1.5],\n",
                            "       [6. , 2.2, 4. , 1. ],\n",
                            "       [6.1, 2.9, 4.7, 1.4],\n",
                            "       [5.6, 2.9, 3.6, 1.3],\n",
                            "       [6.7, 3.1, 4.4, 1.4],\n",
                            "       [5.6, 3. , 4.5, 1.5],\n",
                            "       [5.8, 2.7, 4.1, 1. ],\n",
                            "       [6.2, 2.2, 4.5, 1.5],\n",
                            "       [5.6, 2.5, 3.9, 1.1],\n",
                            "       [5.9, 3.2, 4.8, 1.8],\n",
                            "       [6.1, 2.8, 4. , 1.3],\n",
                            "       [6.3, 2.5, 4.9, 1.5],\n",
                            "       [6.1, 2.8, 4.7, 1.2],\n",
                            "       [6.4, 2.9, 4.3, 1.3],\n",
                            "       [6.6, 3. , 4.4, 1.4],\n",
                            "       [6.8, 2.8, 4.8, 1.4],\n",
                            "       [6.7, 3. , 5. , 1.7],\n",
                            "       [6. , 2.9, 4.5, 1.5],\n",
                            "       [5.7, 2.6, 3.5, 1. ],\n",
                            "       [5.5, 2.4, 3.8, 1.1],\n",
                            "       [5.5, 2.4, 3.7, 1. ],\n",
                            "       [5.8, 2.7, 3.9, 1.2],\n",
                            "       [6. , 2.7, 5.1, 1.6],\n",
                            "       [5.4, 3. , 4.5, 1.5],\n",
                            "       [6. , 3.4, 4.5, 1.6],\n",
                            "       [6.7, 3.1, 4.7, 1.5],\n",
                            "       [6.3, 2.3, 4.4, 1.3],\n",
                            "       [5.6, 3. , 4.1, 1.3],\n",
                            "       [5.5, 2.5, 4. , 1.3],\n",
                            "       [5.5, 2.6, 4.4, 1.2],\n",
                            "       [6.1, 3. , 4.6, 1.4],\n",
                            "       [5.8, 2.6, 4. , 1.2],\n",
                            "       [5. , 2.3, 3.3, 1. ],\n",
                            "       [5.6, 2.7, 4.2, 1.3],\n",
                            "       [5.7, 3. , 4.2, 1.2],\n",
                            "       [5.7, 2.9, 4.2, 1.3],\n",
                            "       [6.2, 2.9, 4.3, 1.3],\n",
                            "       [5.1, 2.5, 3. , 1.1],\n",
                            "       [5.7, 2.8, 4.1, 1.3],\n",
                            "       [6.3, 3.3, 6. , 2.5],\n",
                            "       [5.8, 2.7, 5.1, 1.9],\n",
                            "       [7.1, 3. , 5.9, 2.1],\n",
                            "       [6.3, 2.9, 5.6, 1.8],\n",
                            "       [6.5, 3. , 5.8, 2.2],\n",
                            "       [7.6, 3. , 6.6, 2.1],\n",
                            "       [4.9, 2.5, 4.5, 1.7],\n",
                            "       [7.3, 2.9, 6.3, 1.8],\n",
                            "       [6.7, 2.5, 5.8, 1.8],\n",
                            "       [7.2, 3.6, 6.1, 2.5],\n",
                            "       [6.5, 3.2, 5.1, 2. ],\n",
                            "       [6.4, 2.7, 5.3, 1.9],\n",
                            "       [6.8, 3. , 5.5, 2.1],\n",
                            "       [5.7, 2.5, 5. , 2. ],\n",
                            "       [5.8, 2.8, 5.1, 2.4],\n",
                            "       [6.4, 3.2, 5.3, 2.3],\n",
                            "       [6.5, 3. , 5.5, 1.8],\n",
                            "       [7.7, 3.8, 6.7, 2.2],\n",
                            "       [7.7, 2.6, 6.9, 2.3],\n",
                            "       [6. , 2.2, 5. , 1.5],\n",
                            "       [6.9, 3.2, 5.7, 2.3],\n",
                            "       [5.6, 2.8, 4.9, 2. ],\n",
                            "       [7.7, 2.8, 6.7, 2. ],\n",
                            "       [6.3, 2.7, 4.9, 1.8],\n",
                            "       [6.7, 3.3, 5.7, 2.1],\n",
                            "       [7.2, 3.2, 6. , 1.8],\n",
                            "       [6.2, 2.8, 4.8, 1.8],\n",
                            "       [6.1, 3. , 4.9, 1.8],\n",
                            "       [6.4, 2.8, 5.6, 2.1],\n",
                            "       [7.2, 3. , 5.8, 1.6],\n",
                            "       [7.4, 2.8, 6.1, 1.9],\n",
                            "       [7.9, 3.8, 6.4, 2. ],\n",
                            "       [6.4, 2.8, 5.6, 2.2],\n",
                            "       [6.3, 2.8, 5.1, 1.5],\n",
                            "       [6.1, 2.6, 5.6, 1.4],\n",
                            "       [7.7, 3. , 6.1, 2.3],\n",
                            "       [6.3, 3.4, 5.6, 2.4],\n",
                            "       [6.4, 3.1, 5.5, 1.8],\n",
                            "       [6. , 3. , 4.8, 1.8],\n",
                            "       [6.9, 3.1, 5.4, 2.1],\n",
                            "       [6.7, 3.1, 5.6, 2.4],\n",
                            "       [6.9, 3.1, 5.1, 2.3],\n",
                            "       [5.8, 2.7, 5.1, 1.9],\n",
                            "       [6.8, 3.2, 5.9, 2.3],\n",
                            "       [6.7, 3.3, 5.7, 2.5],\n",
                            "       [6.7, 3. , 5.2, 2.3],\n",
                            "       [6.3, 2.5, 5. , 1.9],\n",
                            "       [6.5, 3. , 5.2, 2. ],\n",
                            "       [6.2, 3.4, 5.4, 2.3],\n",
                            "       [5.9, 3. , 5.1, 1.8]])"
                        ]
                    },
                    "metadata": {},
                    "execution_count": 11
                }
            ],
            "metadata": {}
        },
        {
            "cell_type": "code",
            "execution_count": 12,
            "source": [
                "print(iris['DESCR'])"
            ],
            "outputs": [
                {
                    "output_type": "stream",
                    "name": "stdout",
                    "text": [
                        ".. _iris_dataset:\n",
                        "\n",
                        "Iris plants dataset\n",
                        "--------------------\n",
                        "\n",
                        "**Data Set Characteristics:**\n",
                        "\n",
                        "    :Number of Instances: 150 (50 in each of three classes)\n",
                        "    :Number of Attributes: 4 numeric, predictive attributes and the class\n",
                        "    :Attribute Information:\n",
                        "        - sepal length in cm\n",
                        "        - sepal width in cm\n",
                        "        - petal length in cm\n",
                        "        - petal width in cm\n",
                        "        - class:\n",
                        "                - Iris-Setosa\n",
                        "                - Iris-Versicolour\n",
                        "                - Iris-Virginica\n",
                        "                \n",
                        "    :Summary Statistics:\n",
                        "\n",
                        "    ============== ==== ==== ======= ===== ====================\n",
                        "                    Min  Max   Mean    SD   Class Correlation\n",
                        "    ============== ==== ==== ======= ===== ====================\n",
                        "    sepal length:   4.3  7.9   5.84   0.83    0.7826\n",
                        "    sepal width:    2.0  4.4   3.05   0.43   -0.4194\n",
                        "    petal length:   1.0  6.9   3.76   1.76    0.9490  (high!)\n",
                        "    petal width:    0.1  2.5   1.20   0.76    0.9565  (high!)\n",
                        "    ============== ==== ==== ======= ===== ====================\n",
                        "\n",
                        "    :Missing Attribute Values: None\n",
                        "    :Class Distribution: 33.3% for each of 3 classes.\n",
                        "    :Creator: R.A. Fisher\n",
                        "    :Donor: Michael Marshall (MARSHALL%PLU@io.arc.nasa.gov)\n",
                        "    :Date: July, 1988\n",
                        "\n",
                        "The famous Iris database, first used by Sir R.A. Fisher. The dataset is taken\n",
                        "from Fisher's paper. Note that it's the same as in R, but not as in the UCI\n",
                        "Machine Learning Repository, which has two wrong data points.\n",
                        "\n",
                        "This is perhaps the best known database to be found in the\n",
                        "pattern recognition literature.  Fisher's paper is a classic in the field and\n",
                        "is referenced frequently to this day.  (See Duda & Hart, for example.)  The\n",
                        "data set contains 3 classes of 50 instances each, where each class refers to a\n",
                        "type of iris plant.  One class is linearly separable from the other 2; the\n",
                        "latter are NOT linearly separable from each other.\n",
                        "\n",
                        ".. topic:: References\n",
                        "\n",
                        "   - Fisher, R.A. \"The use of multiple measurements in taxonomic problems\"\n",
                        "     Annual Eugenics, 7, Part II, 179-188 (1936); also in \"Contributions to\n",
                        "     Mathematical Statistics\" (John Wiley, NY, 1950).\n",
                        "   - Duda, R.O., & Hart, P.E. (1973) Pattern Classification and Scene Analysis.\n",
                        "     (Q327.D83) John Wiley & Sons.  ISBN 0-471-22361-1.  See page 218.\n",
                        "   - Dasarathy, B.V. (1980) \"Nosing Around the Neighborhood: A New System\n",
                        "     Structure and Classification Rule for Recognition in Partially Exposed\n",
                        "     Environments\".  IEEE Transactions on Pattern Analysis and Machine\n",
                        "     Intelligence, Vol. PAMI-2, No. 1, 67-71.\n",
                        "   - Gates, G.W. (1972) \"The Reduced Nearest Neighbor Rule\".  IEEE Transactions\n",
                        "     on Information Theory, May 1972, 431-433.\n",
                        "   - See also: 1988 MLC Proceedings, 54-64.  Cheeseman et al\"s AUTOCLASS II\n",
                        "     conceptual clustering system finds 3 classes in the data.\n",
                        "   - Many, many more ...\n"
                    ]
                }
            ],
            "metadata": {}
        },
        {
            "cell_type": "code",
            "execution_count": 15,
            "source": [
                "iris_df = pd.DataFrame(iris['data'], columns = iris['feature_names'])\r\n",
                "iris_df['species'] = iris['target']\r\n",
                "iris_df"
            ],
            "outputs": [
                {
                    "output_type": "execute_result",
                    "data": {
                        "text/plain": [
                            "     sepal length (cm)  sepal width (cm)  petal length (cm)  petal width (cm)  \\\n",
                            "0                  5.1               3.5                1.4               0.2   \n",
                            "1                  4.9               3.0                1.4               0.2   \n",
                            "2                  4.7               3.2                1.3               0.2   \n",
                            "3                  4.6               3.1                1.5               0.2   \n",
                            "4                  5.0               3.6                1.4               0.2   \n",
                            "..                 ...               ...                ...               ...   \n",
                            "145                6.7               3.0                5.2               2.3   \n",
                            "146                6.3               2.5                5.0               1.9   \n",
                            "147                6.5               3.0                5.2               2.0   \n",
                            "148                6.2               3.4                5.4               2.3   \n",
                            "149                5.9               3.0                5.1               1.8   \n",
                            "\n",
                            "     species  \n",
                            "0          0  \n",
                            "1          0  \n",
                            "2          0  \n",
                            "3          0  \n",
                            "4          0  \n",
                            "..       ...  \n",
                            "145        2  \n",
                            "146        2  \n",
                            "147        2  \n",
                            "148        2  \n",
                            "149        2  \n",
                            "\n",
                            "[150 rows x 5 columns]"
                        ],
                        "text/html": [
                            "<div>\n",
                            "<style scoped>\n",
                            "    .dataframe tbody tr th:only-of-type {\n",
                            "        vertical-align: middle;\n",
                            "    }\n",
                            "\n",
                            "    .dataframe tbody tr th {\n",
                            "        vertical-align: top;\n",
                            "    }\n",
                            "\n",
                            "    .dataframe thead th {\n",
                            "        text-align: right;\n",
                            "    }\n",
                            "</style>\n",
                            "<table border=\"1\" class=\"dataframe\">\n",
                            "  <thead>\n",
                            "    <tr style=\"text-align: right;\">\n",
                            "      <th></th>\n",
                            "      <th>sepal length (cm)</th>\n",
                            "      <th>sepal width (cm)</th>\n",
                            "      <th>petal length (cm)</th>\n",
                            "      <th>petal width (cm)</th>\n",
                            "      <th>species</th>\n",
                            "    </tr>\n",
                            "  </thead>\n",
                            "  <tbody>\n",
                            "    <tr>\n",
                            "      <th>0</th>\n",
                            "      <td>5.1</td>\n",
                            "      <td>3.5</td>\n",
                            "      <td>1.4</td>\n",
                            "      <td>0.2</td>\n",
                            "      <td>0</td>\n",
                            "    </tr>\n",
                            "    <tr>\n",
                            "      <th>1</th>\n",
                            "      <td>4.9</td>\n",
                            "      <td>3.0</td>\n",
                            "      <td>1.4</td>\n",
                            "      <td>0.2</td>\n",
                            "      <td>0</td>\n",
                            "    </tr>\n",
                            "    <tr>\n",
                            "      <th>2</th>\n",
                            "      <td>4.7</td>\n",
                            "      <td>3.2</td>\n",
                            "      <td>1.3</td>\n",
                            "      <td>0.2</td>\n",
                            "      <td>0</td>\n",
                            "    </tr>\n",
                            "    <tr>\n",
                            "      <th>3</th>\n",
                            "      <td>4.6</td>\n",
                            "      <td>3.1</td>\n",
                            "      <td>1.5</td>\n",
                            "      <td>0.2</td>\n",
                            "      <td>0</td>\n",
                            "    </tr>\n",
                            "    <tr>\n",
                            "      <th>4</th>\n",
                            "      <td>5.0</td>\n",
                            "      <td>3.6</td>\n",
                            "      <td>1.4</td>\n",
                            "      <td>0.2</td>\n",
                            "      <td>0</td>\n",
                            "    </tr>\n",
                            "    <tr>\n",
                            "      <th>...</th>\n",
                            "      <td>...</td>\n",
                            "      <td>...</td>\n",
                            "      <td>...</td>\n",
                            "      <td>...</td>\n",
                            "      <td>...</td>\n",
                            "    </tr>\n",
                            "    <tr>\n",
                            "      <th>145</th>\n",
                            "      <td>6.7</td>\n",
                            "      <td>3.0</td>\n",
                            "      <td>5.2</td>\n",
                            "      <td>2.3</td>\n",
                            "      <td>2</td>\n",
                            "    </tr>\n",
                            "    <tr>\n",
                            "      <th>146</th>\n",
                            "      <td>6.3</td>\n",
                            "      <td>2.5</td>\n",
                            "      <td>5.0</td>\n",
                            "      <td>1.9</td>\n",
                            "      <td>2</td>\n",
                            "    </tr>\n",
                            "    <tr>\n",
                            "      <th>147</th>\n",
                            "      <td>6.5</td>\n",
                            "      <td>3.0</td>\n",
                            "      <td>5.2</td>\n",
                            "      <td>2.0</td>\n",
                            "      <td>2</td>\n",
                            "    </tr>\n",
                            "    <tr>\n",
                            "      <th>148</th>\n",
                            "      <td>6.2</td>\n",
                            "      <td>3.4</td>\n",
                            "      <td>5.4</td>\n",
                            "      <td>2.3</td>\n",
                            "      <td>2</td>\n",
                            "    </tr>\n",
                            "    <tr>\n",
                            "      <th>149</th>\n",
                            "      <td>5.9</td>\n",
                            "      <td>3.0</td>\n",
                            "      <td>5.1</td>\n",
                            "      <td>1.8</td>\n",
                            "      <td>2</td>\n",
                            "    </tr>\n",
                            "  </tbody>\n",
                            "</table>\n",
                            "<p>150 rows × 5 columns</p>\n",
                            "</div>"
                        ]
                    },
                    "metadata": {},
                    "execution_count": 15
                }
            ],
            "metadata": {}
        },
        {
            "cell_type": "code",
            "execution_count": 16,
            "source": [
                "iris_df.corr()"
            ],
            "outputs": [
                {
                    "output_type": "execute_result",
                    "data": {
                        "text/plain": [
                            "                   sepal length (cm)  sepal width (cm)  petal length (cm)  \\\n",
                            "sepal length (cm)           1.000000         -0.117570           0.871754   \n",
                            "sepal width (cm)           -0.117570          1.000000          -0.428440   \n",
                            "petal length (cm)           0.871754         -0.428440           1.000000   \n",
                            "petal width (cm)            0.817941         -0.366126           0.962865   \n",
                            "species                     0.782561         -0.426658           0.949035   \n",
                            "\n",
                            "                   petal width (cm)   species  \n",
                            "sepal length (cm)          0.817941  0.782561  \n",
                            "sepal width (cm)          -0.366126 -0.426658  \n",
                            "petal length (cm)          0.962865  0.949035  \n",
                            "petal width (cm)           1.000000  0.956547  \n",
                            "species                    0.956547  1.000000  "
                        ],
                        "text/html": [
                            "<div>\n",
                            "<style scoped>\n",
                            "    .dataframe tbody tr th:only-of-type {\n",
                            "        vertical-align: middle;\n",
                            "    }\n",
                            "\n",
                            "    .dataframe tbody tr th {\n",
                            "        vertical-align: top;\n",
                            "    }\n",
                            "\n",
                            "    .dataframe thead th {\n",
                            "        text-align: right;\n",
                            "    }\n",
                            "</style>\n",
                            "<table border=\"1\" class=\"dataframe\">\n",
                            "  <thead>\n",
                            "    <tr style=\"text-align: right;\">\n",
                            "      <th></th>\n",
                            "      <th>sepal length (cm)</th>\n",
                            "      <th>sepal width (cm)</th>\n",
                            "      <th>petal length (cm)</th>\n",
                            "      <th>petal width (cm)</th>\n",
                            "      <th>species</th>\n",
                            "    </tr>\n",
                            "  </thead>\n",
                            "  <tbody>\n",
                            "    <tr>\n",
                            "      <th>sepal length (cm)</th>\n",
                            "      <td>1.000000</td>\n",
                            "      <td>-0.117570</td>\n",
                            "      <td>0.871754</td>\n",
                            "      <td>0.817941</td>\n",
                            "      <td>0.782561</td>\n",
                            "    </tr>\n",
                            "    <tr>\n",
                            "      <th>sepal width (cm)</th>\n",
                            "      <td>-0.117570</td>\n",
                            "      <td>1.000000</td>\n",
                            "      <td>-0.428440</td>\n",
                            "      <td>-0.366126</td>\n",
                            "      <td>-0.426658</td>\n",
                            "    </tr>\n",
                            "    <tr>\n",
                            "      <th>petal length (cm)</th>\n",
                            "      <td>0.871754</td>\n",
                            "      <td>-0.428440</td>\n",
                            "      <td>1.000000</td>\n",
                            "      <td>0.962865</td>\n",
                            "      <td>0.949035</td>\n",
                            "    </tr>\n",
                            "    <tr>\n",
                            "      <th>petal width (cm)</th>\n",
                            "      <td>0.817941</td>\n",
                            "      <td>-0.366126</td>\n",
                            "      <td>0.962865</td>\n",
                            "      <td>1.000000</td>\n",
                            "      <td>0.956547</td>\n",
                            "    </tr>\n",
                            "    <tr>\n",
                            "      <th>species</th>\n",
                            "      <td>0.782561</td>\n",
                            "      <td>-0.426658</td>\n",
                            "      <td>0.949035</td>\n",
                            "      <td>0.956547</td>\n",
                            "      <td>1.000000</td>\n",
                            "    </tr>\n",
                            "  </tbody>\n",
                            "</table>\n",
                            "</div>"
                        ]
                    },
                    "metadata": {},
                    "execution_count": 16
                }
            ],
            "metadata": {}
        },
        {
            "cell_type": "code",
            "execution_count": 18,
            "source": [
                "sns.pairplot(iris_df, hue = 'species')\r\n",
                "plt.show()"
            ],
            "outputs": [
                {
                    "output_type": "display_data",
                    "data": {
                        "text/plain": [
                            "<Figure size 761.5x720 with 20 Axes>"
                        ],
                        "image/png": "[encoded data removed]"
                    },
                    "metadata": {
                        "needs_background": "light"
                    }
                }
            ],
            "metadata": {}
        },
        {
            "cell_type": "code",
            "execution_count": 22,
            "source": [
                "plt.xticks(rotation = 45)\r\n",
                "sns.boxplot(data = iris_df)\r\n",
                "plt.show()"
            ],
            "outputs": [
                {
                    "output_type": "display_data",
                    "data": {
                        "text/plain": [
                            "<Figure size 432x288 with 1 Axes>"
                        ],
                        "image/png": "[encoded data removed]"
                    },
                    "metadata": {
                        "needs_background": "light"
                    }
                }
            ],
            "metadata": {}
        },
        {
            "cell_type": "code",
            "execution_count": 23,
            "source": [
                "x_data = iris_df.iloc[:, :-1]\r\n",
                "y_data = iris_df.iloc[:, -1]"
            ],
            "outputs": [],
            "metadata": {}
        },
        {
            "cell_type": "code",
            "execution_count": 24,
            "source": [
                "x_train, x_test, y_train, y_test = train_test_split(x_data, y_data, test_size = 0.2, stratify = y_data)"
            ],
            "outputs": [],
            "metadata": {}
        },
        {
            "cell_type": "code",
            "execution_count": 28,
            "source": [
                "model_logi = LogisticRegression()\r\n",
                "model_logi.fit(x_train, y_train)"
            ],
            "outputs": [
                {
                    "output_type": "execute_result",
                    "data": {
                        "text/plain": [
                            "LogisticRegression()"
                        ]
                    },
                    "metadata": {},
                    "execution_count": 28
                }
            ],
            "metadata": {}
        },
        {
            "cell_type": "code",
            "execution_count": 29,
            "source": [
                "model_logi.score(x_test, y_test)"
            ],
            "outputs": [
                {
                    "output_type": "execute_result",
                    "data": {
                        "text/plain": [
                            "0.9666666666666667"
                        ]
                    },
                    "metadata": {},
                    "execution_count": 29
                }
            ],
            "metadata": {}
        },
        {
            "cell_type": "code",
            "execution_count": 31,
            "source": [
                "model_logi.coef_"
            ],
            "outputs": [
                {
                    "output_type": "execute_result",
                    "data": {
                        "text/plain": [
                            "array([[-0.38372288,  0.9228183 , -2.37348877, -0.97730602],\n",
                            "       [ 0.54310307, -0.41322471, -0.19668546, -0.90092329],\n",
                            "       [-0.15938019, -0.50959359,  2.57017424,  1.87822931]])"
                        ]
                    },
                    "metadata": {},
                    "execution_count": 31
                }
            ],
            "metadata": {}
        },
        {
            "cell_type": "code",
            "execution_count": 32,
            "source": [
                "model_logi.intercept_"
            ],
            "outputs": [
                {
                    "output_type": "execute_result",
                    "data": {
                        "text/plain": [
                            "array([  9.10451512,   2.17432657, -11.27884169])"
                        ]
                    },
                    "metadata": {},
                    "execution_count": 32
                }
            ],
            "metadata": {}
        },
        {
            "cell_type": "code",
            "execution_count": 37,
            "source": [
                "model_logi.predict_proba([[5.6, 2.9, 3.6, 1.3]])"
            ],
            "outputs": [
                {
                    "output_type": "execute_result",
                    "data": {
                        "text/plain": [
                            "array([[0.08803609, 0.89699318, 0.01497074]])"
                        ]
                    },
                    "metadata": {},
                    "execution_count": 37
                }
            ],
            "metadata": {}
        },
        {
            "cell_type": "code",
            "execution_count": 44,
            "source": [
                "model_logi.predict([[5.6, 2.9, 3.6, 1.3]])"
            ],
            "outputs": [
                {
                    "output_type": "execute_result",
                    "data": {
                        "text/plain": [
                            "array([1])"
                        ]
                    },
                    "metadata": {},
                    "execution_count": 44
                }
            ],
            "metadata": {}
        },
        {
            "cell_type": "code",
            "execution_count": 40,
            "source": [
                "z = np.matmul( [[5.6, 2.9, 3.6, 1.3]], model_logi.coef_.T) + model_logi.intercept_\r\n",
                "z"
            ],
            "outputs": [
                {
                    "output_type": "execute_result",
                    "data": {
                        "text/plain": [
                            "array([[-0.18321733,  2.13808412, -1.9548668 ]])"
                        ]
                    },
                    "metadata": {},
                    "execution_count": 40
                }
            ],
            "metadata": {}
        },
        {
            "cell_type": "code",
            "execution_count": 35,
            "source": [
                "model_logi.coef_.T"
            ],
            "outputs": [
                {
                    "output_type": "execute_result",
                    "data": {
                        "text/plain": [
                            "array([[-0.38372288,  0.54310307, -0.15938019],\n",
                            "       [ 0.9228183 , -0.41322471, -0.50959359],\n",
                            "       [-2.37348877, -0.19668546,  2.57017424],\n",
                            "       [-0.97730602, -0.90092329,  1.87822931]])"
                        ]
                    },
                    "metadata": {},
                    "execution_count": 35
                }
            ],
            "metadata": {}
        },
        {
            "cell_type": "code",
            "execution_count": 39,
            "source": [
                "def softmax(x) :\r\n",
                "    e = np.exp(x)\r\n",
                "    return e / np.sum(e)"
            ],
            "outputs": [],
            "metadata": {}
        },
        {
            "cell_type": "code",
            "execution_count": 42,
            "source": [
                "softmax(z)"
            ],
            "outputs": [
                {
                    "output_type": "execute_result",
                    "data": {
                        "text/plain": [
                            "array([[0.08803609, 0.89699318, 0.01497074]])"
                        ]
                    },
                    "metadata": {},
                    "execution_count": 42
                }
            ],
            "metadata": {}
        },
        {
            "cell_type": "markdown",
            "source": [
                "# 연습문제\r\n",
                "1. 6.8, 3.0, 5.5, 2.1\r\n",
                "각각의 종을 예측\r\n",
                "\r\n",
                "2. confusion matrix 구하고 heatmap을 그리시오\r\n",
                "\r\n",
                "3. f1 score를 구하시오\r\n"
            ],
            "metadata": {}
        },
        {
            "cell_type": "code",
            "execution_count": 45,
            "source": [
                "iris = load_iris()\r\n",
                "iris_df = pd.DataFrame(iris['data'], columns = iris['feature_names'])\r\n",
                "iris_df['species'] = iris['target']\r\n",
                "iris_df"
            ],
            "outputs": [
                {
                    "output_type": "execute_result",
                    "data": {
                        "text/plain": [
                            "     sepal length (cm)  sepal width (cm)  petal length (cm)  petal width (cm)  \\\n",
                            "0                  5.1               3.5                1.4               0.2   \n",
                            "1                  4.9               3.0                1.4               0.2   \n",
                            "2                  4.7               3.2                1.3               0.2   \n",
                            "3                  4.6               3.1                1.5               0.2   \n",
                            "4                  5.0               3.6                1.4               0.2   \n",
                            "..                 ...               ...                ...               ...   \n",
                            "145                6.7               3.0                5.2               2.3   \n",
                            "146                6.3               2.5                5.0               1.9   \n",
                            "147                6.5               3.0                5.2               2.0   \n",
                            "148                6.2               3.4                5.4               2.3   \n",
                            "149                5.9               3.0                5.1               1.8   \n",
                            "\n",
                            "     species  \n",
                            "0          0  \n",
                            "1          0  \n",
                            "2          0  \n",
                            "3          0  \n",
                            "4          0  \n",
                            "..       ...  \n",
                            "145        2  \n",
                            "146        2  \n",
                            "147        2  \n",
                            "148        2  \n",
                            "149        2  \n",
                            "\n",
                            "[150 rows x 5 columns]"
                        ],
                        "text/html": [
                            "<div>\n",
                            "<style scoped>\n",
                            "    .dataframe tbody tr th:only-of-type {\n",
                            "        vertical-align: middle;\n",
                            "    }\n",
                            "\n",
                            "    .dataframe tbody tr th {\n",
                            "        vertical-align: top;\n",
                            "    }\n",
                            "\n",
                            "    .dataframe thead th {\n",
                            "        text-align: right;\n",
                            "    }\n",
                            "</style>\n",
                            "<table border=\"1\" class=\"dataframe\">\n",
                            "  <thead>\n",
                            "    <tr style=\"text-align: right;\">\n",
                            "      <th></th>\n",
                            "      <th>sepal length (cm)</th>\n",
                            "      <th>sepal width (cm)</th>\n",
                            "      <th>petal length (cm)</th>\n",
                            "      <th>petal width (cm)</th>\n",
                            "      <th>species</th>\n",
                            "    </tr>\n",
                            "  </thead>\n",
                            "  <tbody>\n",
                            "    <tr>\n",
                            "      <th>0</th>\n",
                            "      <td>5.1</td>\n",
                            "      <td>3.5</td>\n",
                            "      <td>1.4</td>\n",
                            "      <td>0.2</td>\n",
                            "      <td>0</td>\n",
                            "    </tr>\n",
                            "    <tr>\n",
                            "      <th>1</th>\n",
                            "      <td>4.9</td>\n",
                            "      <td>3.0</td>\n",
                            "      <td>1.4</td>\n",
                            "      <td>0.2</td>\n",
                            "      <td>0</td>\n",
                            "    </tr>\n",
                            "    <tr>\n",
                            "      <th>2</th>\n",
                            "      <td>4.7</td>\n",
                            "      <td>3.2</td>\n",
                            "      <td>1.3</td>\n",
                            "      <td>0.2</td>\n",
                            "      <td>0</td>\n",
                            "    </tr>\n",
                            "    <tr>\n",
                            "      <th>3</th>\n",
                            "      <td>4.6</td>\n",
                            "      <td>3.1</td>\n",
                            "      <td>1.5</td>\n",
                            "      <td>0.2</td>\n",
                            "      <td>0</td>\n",
                            "    </tr>\n",
                            "    <tr>\n",
                            "      <th>4</th>\n",
                            "      <td>5.0</td>\n",
                            "      <td>3.6</td>\n",
                            "      <td>1.4</td>\n",
                            "      <td>0.2</td>\n",
                            "      <td>0</td>\n",
                            "    </tr>\n",
                            "    <tr>\n",
                            "      <th>...</th>\n",
                            "      <td>...</td>\n",
                            "      <td>...</td>\n",
                            "      <td>...</td>\n",
                            "      <td>...</td>\n",
                            "      <td>...</td>\n",
                            "    </tr>\n",
                            "    <tr>\n",
                            "      <th>145</th>\n",
                            "      <td>6.7</td>\n",
                            "      <td>3.0</td>\n",
                            "      <td>5.2</td>\n",
                            "      <td>2.3</td>\n",
                            "      <td>2</td>\n",
                            "    </tr>\n",
                            "    <tr>\n",
                            "      <th>146</th>\n",
                            "      <td>6.3</td>\n",
                            "      <td>2.5</td>\n",
                            "      <td>5.0</td>\n",
                            "      <td>1.9</td>\n",
                            "      <td>2</td>\n",
                            "    </tr>\n",
                            "    <tr>\n",
                            "      <th>147</th>\n",
                            "      <td>6.5</td>\n",
                            "      <td>3.0</td>\n",
                            "      <td>5.2</td>\n",
                            "      <td>2.0</td>\n",
                            "      <td>2</td>\n",
                            "    </tr>\n",
                            "    <tr>\n",
                            "      <th>148</th>\n",
                            "      <td>6.2</td>\n",
                            "      <td>3.4</td>\n",
                            "      <td>5.4</td>\n",
                            "      <td>2.3</td>\n",
                            "      <td>2</td>\n",
                            "    </tr>\n",
                            "    <tr>\n",
                            "      <th>149</th>\n",
                            "      <td>5.9</td>\n",
                            "      <td>3.0</td>\n",
                            "      <td>5.1</td>\n",
                            "      <td>1.8</td>\n",
                            "      <td>2</td>\n",
                            "    </tr>\n",
                            "  </tbody>\n",
                            "</table>\n",
                            "<p>150 rows × 5 columns</p>\n",
                            "</div>"
                        ]
                    },
                    "metadata": {},
                    "execution_count": 45
                }
            ],
            "metadata": {}
        },
        {
            "cell_type": "code",
            "execution_count": 111,
            "source": [
                "x_data = iris_df.iloc[:, :-1]\r\n",
                "y_data = iris_df.iloc[:, -1]\r\n",
                "x_train, x_test, y_train, y_test = train_test_split(x_data, y_data, test_size = 0.2, stratify = y_data)"
            ],
            "outputs": [],
            "metadata": {}
        },
        {
            "cell_type": "code",
            "execution_count": 112,
            "source": [
                "model_logi = LogisticRegression()\r\n",
                "model_logi.fit(x_train, y_train)"
            ],
            "outputs": [
                {
                    "output_type": "execute_result",
                    "data": {
                        "text/plain": [
                            "LogisticRegression()"
                        ]
                    },
                    "metadata": {},
                    "execution_count": 112
                }
            ],
            "metadata": {}
        },
        {
            "cell_type": "code",
            "execution_count": 113,
            "source": [
                "model_logi.predict([[6.8, 3.0, 5.5, 2.1], [5.8, 2.8, 5.1, 2.4]])"
            ],
            "outputs": [
                {
                    "output_type": "execute_result",
                    "data": {
                        "text/plain": [
                            "array([2, 2])"
                        ]
                    },
                    "metadata": {},
                    "execution_count": 113
                }
            ],
            "metadata": {}
        },
        {
            "cell_type": "code",
            "execution_count": 114,
            "source": [
                "y_pred = model_logi.predict(x_test)\r\n",
                "cm = confusion_matrix(y_test, y_pred)\r\n",
                "display(cm)\r\n",
                "\r\n",
                "sns.heatmap(cm, annot = True, cmap = 'Reds')\r\n",
                "plt.ylabel('실제')\r\n",
                "plt.xlabel('예측')\r\n",
                "plt.show()"
            ],
            "outputs": [
                {
                    "output_type": "display_data",
                    "data": {
                        "text/plain": [
                            "array([[10,  0,  0],\n",
                            "       [ 0,  8,  2],\n",
                            "       [ 0,  0, 10]], dtype=int64)"
                        ]
                    },
                    "metadata": {}
                },
                {
                    "output_type": "display_data",
                    "data": {
                        "text/plain": [
                            "<Figure size 432x288 with 2 Axes>"
                        ],
                        "image/png": "[encoded data removed]"
                    },
                    "metadata": {
                        "needs_background": "light"
                    }
                }
            ],
            "metadata": {}
        },
        {
            "cell_type": "code",
            "execution_count": 59,
            "source": [
                "y_pred"
            ],
            "outputs": [
                {
                    "output_type": "execute_result",
                    "data": {
                        "text/plain": [
                            "array([0, 2, 1, 0, 1, 0, 2, 2, 0, 1, 2, 1, 2, 0, 0, 1, 2, 2, 1, 0, 2, 0,\n",
                            "       1, 2, 1, 2, 1, 1, 0, 0])"
                        ]
                    },
                    "metadata": {},
                    "execution_count": 59
                }
            ],
            "metadata": {}
        },
        {
            "cell_type": "code",
            "execution_count": 64,
            "source": [
                "y_test = np.array(y_test)"
            ],
            "outputs": [],
            "metadata": {}
        },
        {
            "cell_type": "code",
            "execution_count": 69,
            "source": [
                "f1_score(y_test, y_pred, average = 'weighted')"
            ],
            "outputs": [
                {
                    "output_type": "execute_result",
                    "data": {
                        "text/plain": [
                            "0.9333333333333333"
                        ]
                    },
                    "metadata": {},
                    "execution_count": 69
                }
            ],
            "metadata": {}
        },
        {
            "cell_type": "markdown",
            "source": [
                "# 19. 다중분류 연습문제"
            ],
            "metadata": {}
        },
        {
            "cell_type": "code",
            "execution_count": 71,
            "source": [
                "from sklearn.datasets import load_iris, load_wine"
            ],
            "outputs": [],
            "metadata": {}
        },
        {
            "cell_type": "code",
            "execution_count": 74,
            "source": [
                "wine = load_wine()\r\n",
                "wine"
            ],
            "outputs": [
                {
                    "output_type": "execute_result",
                    "data": {
                        "text/plain": [
                            "{'data': array([[1.423e+01, 1.710e+00, 2.430e+00, ..., 1.040e+00, 3.920e+00,\n",
                            "         1.065e+03],\n",
                            "        [1.320e+01, 1.780e+00, 2.140e+00, ..., 1.050e+00, 3.400e+00,\n",
                            "         1.050e+03],\n",
                            "        [1.316e+01, 2.360e+00, 2.670e+00, ..., 1.030e+00, 3.170e+00,\n",
                            "         1.185e+03],\n",
                            "        ...,\n",
                            "        [1.327e+01, 4.280e+00, 2.260e+00, ..., 5.900e-01, 1.560e+00,\n",
                            "         8.350e+02],\n",
                            "        [1.317e+01, 2.590e+00, 2.370e+00, ..., 6.000e-01, 1.620e+00,\n",
                            "         8.400e+02],\n",
                            "        [1.413e+01, 4.100e+00, 2.740e+00, ..., 6.100e-01, 1.600e+00,\n",
                            "         5.600e+02]]),\n",
                            " 'target': array([0, 0, 0, 0, 0, 0, 0, 0, 0, 0, 0, 0, 0, 0, 0, 0, 0, 0, 0, 0, 0, 0,\n",
                            "        0, 0, 0, 0, 0, 0, 0, 0, 0, 0, 0, 0, 0, 0, 0, 0, 0, 0, 0, 0, 0, 0,\n",
                            "        0, 0, 0, 0, 0, 0, 0, 0, 0, 0, 0, 0, 0, 0, 0, 1, 1, 1, 1, 1, 1, 1,\n",
                            "        1, 1, 1, 1, 1, 1, 1, 1, 1, 1, 1, 1, 1, 1, 1, 1, 1, 1, 1, 1, 1, 1,\n",
                            "        1, 1, 1, 1, 1, 1, 1, 1, 1, 1, 1, 1, 1, 1, 1, 1, 1, 1, 1, 1, 1, 1,\n",
                            "        1, 1, 1, 1, 1, 1, 1, 1, 1, 1, 1, 1, 1, 1, 1, 1, 1, 1, 1, 1, 2, 2,\n",
                            "        2, 2, 2, 2, 2, 2, 2, 2, 2, 2, 2, 2, 2, 2, 2, 2, 2, 2, 2, 2, 2, 2,\n",
                            "        2, 2, 2, 2, 2, 2, 2, 2, 2, 2, 2, 2, 2, 2, 2, 2, 2, 2, 2, 2, 2, 2,\n",
                            "        2, 2]),\n",
                            " 'frame': None,\n",
                            " 'target_names': array(['class_0', 'class_1', 'class_2'], dtype='<U7'),\n",
                            " 'DESCR': '.. _wine_dataset:\\n\\nWine recognition dataset\\n------------------------\\n\\n**Data Set Characteristics:**\\n\\n    :Number of Instances: 178 (50 in each of three classes)\\n    :Number of Attributes: 13 numeric, predictive attributes and the class\\n    :Attribute Information:\\n \\t\\t- Alcohol\\n \\t\\t- Malic acid\\n \\t\\t- Ash\\n\\t\\t- Alcalinity of ash  \\n \\t\\t- Magnesium\\n\\t\\t- Total phenols\\n \\t\\t- Flavanoids\\n \\t\\t- Nonflavanoid phenols\\n \\t\\t- Proanthocyanins\\n\\t\\t- Color intensity\\n \\t\\t- Hue\\n \\t\\t- OD280/OD315 of diluted wines\\n \\t\\t- Proline\\n\\n    - class:\\n            - class_0\\n            - class_1\\n            - class_2\\n\\t\\t\\n    :Summary Statistics:\\n    \\n    ============================= ==== ===== ======= =====\\n                                   Min   Max   Mean     SD\\n    ============================= ==== ===== ======= =====\\n    Alcohol:                      11.0  14.8    13.0   0.8\\n    Malic Acid:                   0.74  5.80    2.34  1.12\\n    Ash:                          1.36  3.23    2.36  0.27\\n    Alcalinity of Ash:            10.6  30.0    19.5   3.3\\n    Magnesium:                    70.0 162.0    99.7  14.3\\n    Total Phenols:                0.98  3.88    2.29  0.63\\n    Flavanoids:                   0.34  5.08    2.03  1.00\\n    Nonflavanoid Phenols:         0.13  0.66    0.36  0.12\\n    Proanthocyanins:              0.41  3.58    1.59  0.57\\n    Colour Intensity:              1.3  13.0     5.1   2.3\\n    Hue:                          0.48  1.71    0.96  0.23\\n    OD280/OD315 of diluted wines: 1.27  4.00    2.61  0.71\\n    Proline:                       278  1680     746   315\\n    ============================= ==== ===== ======= =====\\n\\n    :Missing Attribute Values: None\\n    :Class Distribution: class_0 (59), class_1 (71), class_2 (48)\\n    :Creator: R.A. Fisher\\n    :Donor: Michael Marshall (MARSHALL%PLU@io.arc.nasa.gov)\\n    :Date: July, 1988\\n\\nThis is a copy of UCI ML Wine recognition datasets.\\nhttps://archive.ics.uci.edu/ml/machine-learning-databases/wine/wine.data\\n\\nThe data is the results of a chemical analysis of wines grown in the same\\nregion in Italy by three different cultivators. There are thirteen different\\nmeasurements taken for different constituents found in the three types of\\nwine.\\n\\nOriginal Owners: \\n\\nForina, M. et al, PARVUS - \\nAn Extendible Package for Data Exploration, Classification and Correlation. \\nInstitute of Pharmaceutical and Food Analysis and Technologies,\\nVia Brigata Salerno, 16147 Genoa, Italy.\\n\\nCitation:\\n\\nLichman, M. (2013). UCI Machine Learning Repository\\n[https://archive.ics.uci.edu/ml]. Irvine, CA: University of California,\\nSchool of Information and Computer Science. \\n\\n.. topic:: References\\n\\n  (1) S. Aeberhard, D. Coomans and O. de Vel, \\n  Comparison of Classifiers in High Dimensional Settings, \\n  Tech. Rep. no. 92-02, (1992), Dept. of Computer Science and Dept. of  \\n  Mathematics and Statistics, James Cook University of North Queensland. \\n  (Also submitted to Technometrics). \\n\\n  The data was used with many others for comparing various \\n  classifiers. The classes are separable, though only RDA \\n  has achieved 100% correct classification. \\n  (RDA : 100%, QDA 99.4%, LDA 98.9%, 1NN 96.1% (z-transformed data)) \\n  (All results using the leave-one-out technique) \\n\\n  (2) S. Aeberhard, D. Coomans and O. de Vel, \\n  \"THE CLASSIFICATION PERFORMANCE OF RDA\" \\n  Tech. Rep. no. 92-01, (1992), Dept. of Computer Science and Dept. of \\n  Mathematics and Statistics, James Cook University of North Queensland. \\n  (Also submitted to Journal of Chemometrics).\\n',\n",
                            " 'feature_names': ['alcohol',\n",
                            "  'malic_acid',\n",
                            "  'ash',\n",
                            "  'alcalinity_of_ash',\n",
                            "  'magnesium',\n",
                            "  'total_phenols',\n",
                            "  'flavanoids',\n",
                            "  'nonflavanoid_phenols',\n",
                            "  'proanthocyanins',\n",
                            "  'color_intensity',\n",
                            "  'hue',\n",
                            "  'od280/od315_of_diluted_wines',\n",
                            "  'proline']}"
                        ]
                    },
                    "metadata": {},
                    "execution_count": 74
                }
            ],
            "metadata": {}
        },
        {
            "cell_type": "code",
            "execution_count": 75,
            "source": [
                "wine.keys()"
            ],
            "outputs": [
                {
                    "output_type": "execute_result",
                    "data": {
                        "text/plain": [
                            "dict_keys(['data', 'target', 'frame', 'target_names', 'DESCR', 'feature_names'])"
                        ]
                    },
                    "metadata": {},
                    "execution_count": 75
                }
            ],
            "metadata": {}
        },
        {
            "cell_type": "code",
            "execution_count": 76,
            "source": [
                "print(wine['DESCR'])"
            ],
            "outputs": [
                {
                    "output_type": "stream",
                    "name": "stdout",
                    "text": [
                        ".. _wine_dataset:\n",
                        "\n",
                        "Wine recognition dataset\n",
                        "------------------------\n",
                        "\n",
                        "**Data Set Characteristics:**\n",
                        "\n",
                        "    :Number of Instances: 178 (50 in each of three classes)\n",
                        "    :Number of Attributes: 13 numeric, predictive attributes and the class\n",
                        "    :Attribute Information:\n",
                        " \t\t- Alcohol\n",
                        " \t\t- Malic acid\n",
                        " \t\t- Ash\n",
                        "\t\t- Alcalinity of ash  \n",
                        " \t\t- Magnesium\n",
                        "\t\t- Total phenols\n",
                        " \t\t- Flavanoids\n",
                        " \t\t- Nonflavanoid phenols\n",
                        " \t\t- Proanthocyanins\n",
                        "\t\t- Color intensity\n",
                        " \t\t- Hue\n",
                        " \t\t- OD280/OD315 of diluted wines\n",
                        " \t\t- Proline\n",
                        "\n",
                        "    - class:\n",
                        "            - class_0\n",
                        "            - class_1\n",
                        "            - class_2\n",
                        "\t\t\n",
                        "    :Summary Statistics:\n",
                        "    \n",
                        "    ============================= ==== ===== ======= =====\n",
                        "                                   Min   Max   Mean     SD\n",
                        "    ============================= ==== ===== ======= =====\n",
                        "    Alcohol:                      11.0  14.8    13.0   0.8\n",
                        "    Malic Acid:                   0.74  5.80    2.34  1.12\n",
                        "    Ash:                          1.36  3.23    2.36  0.27\n",
                        "    Alcalinity of Ash:            10.6  30.0    19.5   3.3\n",
                        "    Magnesium:                    70.0 162.0    99.7  14.3\n",
                        "    Total Phenols:                0.98  3.88    2.29  0.63\n",
                        "    Flavanoids:                   0.34  5.08    2.03  1.00\n",
                        "    Nonflavanoid Phenols:         0.13  0.66    0.36  0.12\n",
                        "    Proanthocyanins:              0.41  3.58    1.59  0.57\n",
                        "    Colour Intensity:              1.3  13.0     5.1   2.3\n",
                        "    Hue:                          0.48  1.71    0.96  0.23\n",
                        "    OD280/OD315 of diluted wines: 1.27  4.00    2.61  0.71\n",
                        "    Proline:                       278  1680     746   315\n",
                        "    ============================= ==== ===== ======= =====\n",
                        "\n",
                        "    :Missing Attribute Values: None\n",
                        "    :Class Distribution: class_0 (59), class_1 (71), class_2 (48)\n",
                        "    :Creator: R.A. Fisher\n",
                        "    :Donor: Michael Marshall (MARSHALL%PLU@io.arc.nasa.gov)\n",
                        "    :Date: July, 1988\n",
                        "\n",
                        "This is a copy of UCI ML Wine recognition datasets.\n",
                        "https://archive.ics.uci.edu/ml/machine-learning-databases/wine/wine.data\n",
                        "\n",
                        "The data is the results of a chemical analysis of wines grown in the same\n",
                        "region in Italy by three different cultivators. There are thirteen different\n",
                        "measurements taken for different constituents found in the three types of\n",
                        "wine.\n",
                        "\n",
                        "Original Owners: \n",
                        "\n",
                        "Forina, M. et al, PARVUS - \n",
                        "An Extendible Package for Data Exploration, Classification and Correlation. \n",
                        "Institute of Pharmaceutical and Food Analysis and Technologies,\n",
                        "Via Brigata Salerno, 16147 Genoa, Italy.\n",
                        "\n",
                        "Citation:\n",
                        "\n",
                        "Lichman, M. (2013). UCI Machine Learning Repository\n",
                        "[https://archive.ics.uci.edu/ml]. Irvine, CA: University of California,\n",
                        "School of Information and Computer Science. \n",
                        "\n",
                        ".. topic:: References\n",
                        "\n",
                        "  (1) S. Aeberhard, D. Coomans and O. de Vel, \n",
                        "  Comparison of Classifiers in High Dimensional Settings, \n",
                        "  Tech. Rep. no. 92-02, (1992), Dept. of Computer Science and Dept. of  \n",
                        "  Mathematics and Statistics, James Cook University of North Queensland. \n",
                        "  (Also submitted to Technometrics). \n",
                        "\n",
                        "  The data was used with many others for comparing various \n",
                        "  classifiers. The classes are separable, though only RDA \n",
                        "  has achieved 100% correct classification. \n",
                        "  (RDA : 100%, QDA 99.4%, LDA 98.9%, 1NN 96.1% (z-transformed data)) \n",
                        "  (All results using the leave-one-out technique) \n",
                        "\n",
                        "  (2) S. Aeberhard, D. Coomans and O. de Vel, \n",
                        "  \"THE CLASSIFICATION PERFORMANCE OF RDA\" \n",
                        "  Tech. Rep. no. 92-01, (1992), Dept. of Computer Science and Dept. of \n",
                        "  Mathematics and Statistics, James Cook University of North Queensland. \n",
                        "  (Also submitted to Journal of Chemometrics).\n",
                        "\n"
                    ]
                }
            ],
            "metadata": {}
        },
        {
            "cell_type": "markdown",
            "source": [
                "1. 상관관계, heatmap\r\n",
                "2. train, test score\r\n",
                "3. test[0]번째 데이터 예측\r\n",
                "4. confusion matrix, heatmap\r\n",
                "5. f1 score (train, test)"
            ],
            "metadata": {}
        },
        {
            "cell_type": "markdown",
            "source": [
                "## 1. 상관관계, heatmap"
            ],
            "metadata": {}
        },
        {
            "cell_type": "code",
            "execution_count": 116,
            "source": [
                "x_data = pd.DataFrame(wine['data'], columns = wine['feature_names'])\r\n",
                "x_data"
            ],
            "outputs": [
                {
                    "output_type": "execute_result",
                    "data": {
                        "text/plain": [
                            "     alcohol  malic_acid   ash  alcalinity_of_ash  magnesium  total_phenols  \\\n",
                            "0      14.23        1.71  2.43               15.6      127.0           2.80   \n",
                            "1      13.20        1.78  2.14               11.2      100.0           2.65   \n",
                            "2      13.16        2.36  2.67               18.6      101.0           2.80   \n",
                            "3      14.37        1.95  2.50               16.8      113.0           3.85   \n",
                            "4      13.24        2.59  2.87               21.0      118.0           2.80   \n",
                            "..       ...         ...   ...                ...        ...            ...   \n",
                            "173    13.71        5.65  2.45               20.5       95.0           1.68   \n",
                            "174    13.40        3.91  2.48               23.0      102.0           1.80   \n",
                            "175    13.27        4.28  2.26               20.0      120.0           1.59   \n",
                            "176    13.17        2.59  2.37               20.0      120.0           1.65   \n",
                            "177    14.13        4.10  2.74               24.5       96.0           2.05   \n",
                            "\n",
                            "     flavanoids  nonflavanoid_phenols  proanthocyanins  color_intensity   hue  \\\n",
                            "0          3.06                  0.28             2.29             5.64  1.04   \n",
                            "1          2.76                  0.26             1.28             4.38  1.05   \n",
                            "2          3.24                  0.30             2.81             5.68  1.03   \n",
                            "3          3.49                  0.24             2.18             7.80  0.86   \n",
                            "4          2.69                  0.39             1.82             4.32  1.04   \n",
                            "..          ...                   ...              ...              ...   ...   \n",
                            "173        0.61                  0.52             1.06             7.70  0.64   \n",
                            "174        0.75                  0.43             1.41             7.30  0.70   \n",
                            "175        0.69                  0.43             1.35            10.20  0.59   \n",
                            "176        0.68                  0.53             1.46             9.30  0.60   \n",
                            "177        0.76                  0.56             1.35             9.20  0.61   \n",
                            "\n",
                            "     od280/od315_of_diluted_wines  proline  \n",
                            "0                            3.92   1065.0  \n",
                            "1                            3.40   1050.0  \n",
                            "2                            3.17   1185.0  \n",
                            "3                            3.45   1480.0  \n",
                            "4                            2.93    735.0  \n",
                            "..                            ...      ...  \n",
                            "173                          1.74    740.0  \n",
                            "174                          1.56    750.0  \n",
                            "175                          1.56    835.0  \n",
                            "176                          1.62    840.0  \n",
                            "177                          1.60    560.0  \n",
                            "\n",
                            "[178 rows x 13 columns]"
                        ],
                        "text/html": [
                            "<div>\n",
                            "<style scoped>\n",
                            "    .dataframe tbody tr th:only-of-type {\n",
                            "        vertical-align: middle;\n",
                            "    }\n",
                            "\n",
                            "    .dataframe tbody tr th {\n",
                            "        vertical-align: top;\n",
                            "    }\n",
                            "\n",
                            "    .dataframe thead th {\n",
                            "        text-align: right;\n",
                            "    }\n",
                            "</style>\n",
                            "<table border=\"1\" class=\"dataframe\">\n",
                            "  <thead>\n",
                            "    <tr style=\"text-align: right;\">\n",
                            "      <th></th>\n",
                            "      <th>alcohol</th>\n",
                            "      <th>malic_acid</th>\n",
                            "      <th>ash</th>\n",
                            "      <th>alcalinity_of_ash</th>\n",
                            "      <th>magnesium</th>\n",
                            "      <th>total_phenols</th>\n",
                            "      <th>flavanoids</th>\n",
                            "      <th>nonflavanoid_phenols</th>\n",
                            "      <th>proanthocyanins</th>\n",
                            "      <th>color_intensity</th>\n",
                            "      <th>hue</th>\n",
                            "      <th>od280/od315_of_diluted_wines</th>\n",
                            "      <th>proline</th>\n",
                            "    </tr>\n",
                            "  </thead>\n",
                            "  <tbody>\n",
                            "    <tr>\n",
                            "      <th>0</th>\n",
                            "      <td>14.23</td>\n",
                            "      <td>1.71</td>\n",
                            "      <td>2.43</td>\n",
                            "      <td>15.6</td>\n",
                            "      <td>127.0</td>\n",
                            "      <td>2.80</td>\n",
                            "      <td>3.06</td>\n",
                            "      <td>0.28</td>\n",
                            "      <td>2.29</td>\n",
                            "      <td>5.64</td>\n",
                            "      <td>1.04</td>\n",
                            "      <td>3.92</td>\n",
                            "      <td>1065.0</td>\n",
                            "    </tr>\n",
                            "    <tr>\n",
                            "      <th>1</th>\n",
                            "      <td>13.20</td>\n",
                            "      <td>1.78</td>\n",
                            "      <td>2.14</td>\n",
                            "      <td>11.2</td>\n",
                            "      <td>100.0</td>\n",
                            "      <td>2.65</td>\n",
                            "      <td>2.76</td>\n",
                            "      <td>0.26</td>\n",
                            "      <td>1.28</td>\n",
                            "      <td>4.38</td>\n",
                            "      <td>1.05</td>\n",
                            "      <td>3.40</td>\n",
                            "      <td>1050.0</td>\n",
                            "    </tr>\n",
                            "    <tr>\n",
                            "      <th>2</th>\n",
                            "      <td>13.16</td>\n",
                            "      <td>2.36</td>\n",
                            "      <td>2.67</td>\n",
                            "      <td>18.6</td>\n",
                            "      <td>101.0</td>\n",
                            "      <td>2.80</td>\n",
                            "      <td>3.24</td>\n",
                            "      <td>0.30</td>\n",
                            "      <td>2.81</td>\n",
                            "      <td>5.68</td>\n",
                            "      <td>1.03</td>\n",
                            "      <td>3.17</td>\n",
                            "      <td>1185.0</td>\n",
                            "    </tr>\n",
                            "    <tr>\n",
                            "      <th>3</th>\n",
                            "      <td>14.37</td>\n",
                            "      <td>1.95</td>\n",
                            "      <td>2.50</td>\n",
                            "      <td>16.8</td>\n",
                            "      <td>113.0</td>\n",
                            "      <td>3.85</td>\n",
                            "      <td>3.49</td>\n",
                            "      <td>0.24</td>\n",
                            "      <td>2.18</td>\n",
                            "      <td>7.80</td>\n",
                            "      <td>0.86</td>\n",
                            "      <td>3.45</td>\n",
                            "      <td>1480.0</td>\n",
                            "    </tr>\n",
                            "    <tr>\n",
                            "      <th>4</th>\n",
                            "      <td>13.24</td>\n",
                            "      <td>2.59</td>\n",
                            "      <td>2.87</td>\n",
                            "      <td>21.0</td>\n",
                            "      <td>118.0</td>\n",
                            "      <td>2.80</td>\n",
                            "      <td>2.69</td>\n",
                            "      <td>0.39</td>\n",
                            "      <td>1.82</td>\n",
                            "      <td>4.32</td>\n",
                            "      <td>1.04</td>\n",
                            "      <td>2.93</td>\n",
                            "      <td>735.0</td>\n",
                            "    </tr>\n",
                            "    <tr>\n",
                            "      <th>...</th>\n",
                            "      <td>...</td>\n",
                            "      <td>...</td>\n",
                            "      <td>...</td>\n",
                            "      <td>...</td>\n",
                            "      <td>...</td>\n",
                            "      <td>...</td>\n",
                            "      <td>...</td>\n",
                            "      <td>...</td>\n",
                            "      <td>...</td>\n",
                            "      <td>...</td>\n",
                            "      <td>...</td>\n",
                            "      <td>...</td>\n",
                            "      <td>...</td>\n",
                            "    </tr>\n",
                            "    <tr>\n",
                            "      <th>173</th>\n",
                            "      <td>13.71</td>\n",
                            "      <td>5.65</td>\n",
                            "      <td>2.45</td>\n",
                            "      <td>20.5</td>\n",
                            "      <td>95.0</td>\n",
                            "      <td>1.68</td>\n",
                            "      <td>0.61</td>\n",
                            "      <td>0.52</td>\n",
                            "      <td>1.06</td>\n",
                            "      <td>7.70</td>\n",
                            "      <td>0.64</td>\n",
                            "      <td>1.74</td>\n",
                            "      <td>740.0</td>\n",
                            "    </tr>\n",
                            "    <tr>\n",
                            "      <th>174</th>\n",
                            "      <td>13.40</td>\n",
                            "      <td>3.91</td>\n",
                            "      <td>2.48</td>\n",
                            "      <td>23.0</td>\n",
                            "      <td>102.0</td>\n",
                            "      <td>1.80</td>\n",
                            "      <td>0.75</td>\n",
                            "      <td>0.43</td>\n",
                            "      <td>1.41</td>\n",
                            "      <td>7.30</td>\n",
                            "      <td>0.70</td>\n",
                            "      <td>1.56</td>\n",
                            "      <td>750.0</td>\n",
                            "    </tr>\n",
                            "    <tr>\n",
                            "      <th>175</th>\n",
                            "      <td>13.27</td>\n",
                            "      <td>4.28</td>\n",
                            "      <td>2.26</td>\n",
                            "      <td>20.0</td>\n",
                            "      <td>120.0</td>\n",
                            "      <td>1.59</td>\n",
                            "      <td>0.69</td>\n",
                            "      <td>0.43</td>\n",
                            "      <td>1.35</td>\n",
                            "      <td>10.20</td>\n",
                            "      <td>0.59</td>\n",
                            "      <td>1.56</td>\n",
                            "      <td>835.0</td>\n",
                            "    </tr>\n",
                            "    <tr>\n",
                            "      <th>176</th>\n",
                            "      <td>13.17</td>\n",
                            "      <td>2.59</td>\n",
                            "      <td>2.37</td>\n",
                            "      <td>20.0</td>\n",
                            "      <td>120.0</td>\n",
                            "      <td>1.65</td>\n",
                            "      <td>0.68</td>\n",
                            "      <td>0.53</td>\n",
                            "      <td>1.46</td>\n",
                            "      <td>9.30</td>\n",
                            "      <td>0.60</td>\n",
                            "      <td>1.62</td>\n",
                            "      <td>840.0</td>\n",
                            "    </tr>\n",
                            "    <tr>\n",
                            "      <th>177</th>\n",
                            "      <td>14.13</td>\n",
                            "      <td>4.10</td>\n",
                            "      <td>2.74</td>\n",
                            "      <td>24.5</td>\n",
                            "      <td>96.0</td>\n",
                            "      <td>2.05</td>\n",
                            "      <td>0.76</td>\n",
                            "      <td>0.56</td>\n",
                            "      <td>1.35</td>\n",
                            "      <td>9.20</td>\n",
                            "      <td>0.61</td>\n",
                            "      <td>1.60</td>\n",
                            "      <td>560.0</td>\n",
                            "    </tr>\n",
                            "  </tbody>\n",
                            "</table>\n",
                            "<p>178 rows × 13 columns</p>\n",
                            "</div>"
                        ]
                    },
                    "metadata": {},
                    "execution_count": 116
                }
            ],
            "metadata": {}
        },
        {
            "cell_type": "code",
            "execution_count": 115,
            "source": [
                "y_data = pd.DataFrame(wine['target'], columns = ['target'])\r\n",
                "y_data"
            ],
            "outputs": [
                {
                    "output_type": "execute_result",
                    "data": {
                        "text/plain": [
                            "     target\n",
                            "0         0\n",
                            "1         0\n",
                            "2         0\n",
                            "3         0\n",
                            "4         0\n",
                            "..      ...\n",
                            "173       2\n",
                            "174       2\n",
                            "175       2\n",
                            "176       2\n",
                            "177       2\n",
                            "\n",
                            "[178 rows x 1 columns]"
                        ],
                        "text/html": [
                            "<div>\n",
                            "<style scoped>\n",
                            "    .dataframe tbody tr th:only-of-type {\n",
                            "        vertical-align: middle;\n",
                            "    }\n",
                            "\n",
                            "    .dataframe tbody tr th {\n",
                            "        vertical-align: top;\n",
                            "    }\n",
                            "\n",
                            "    .dataframe thead th {\n",
                            "        text-align: right;\n",
                            "    }\n",
                            "</style>\n",
                            "<table border=\"1\" class=\"dataframe\">\n",
                            "  <thead>\n",
                            "    <tr style=\"text-align: right;\">\n",
                            "      <th></th>\n",
                            "      <th>target</th>\n",
                            "    </tr>\n",
                            "  </thead>\n",
                            "  <tbody>\n",
                            "    <tr>\n",
                            "      <th>0</th>\n",
                            "      <td>0</td>\n",
                            "    </tr>\n",
                            "    <tr>\n",
                            "      <th>1</th>\n",
                            "      <td>0</td>\n",
                            "    </tr>\n",
                            "    <tr>\n",
                            "      <th>2</th>\n",
                            "      <td>0</td>\n",
                            "    </tr>\n",
                            "    <tr>\n",
                            "      <th>3</th>\n",
                            "      <td>0</td>\n",
                            "    </tr>\n",
                            "    <tr>\n",
                            "      <th>4</th>\n",
                            "      <td>0</td>\n",
                            "    </tr>\n",
                            "    <tr>\n",
                            "      <th>...</th>\n",
                            "      <td>...</td>\n",
                            "    </tr>\n",
                            "    <tr>\n",
                            "      <th>173</th>\n",
                            "      <td>2</td>\n",
                            "    </tr>\n",
                            "    <tr>\n",
                            "      <th>174</th>\n",
                            "      <td>2</td>\n",
                            "    </tr>\n",
                            "    <tr>\n",
                            "      <th>175</th>\n",
                            "      <td>2</td>\n",
                            "    </tr>\n",
                            "    <tr>\n",
                            "      <th>176</th>\n",
                            "      <td>2</td>\n",
                            "    </tr>\n",
                            "    <tr>\n",
                            "      <th>177</th>\n",
                            "      <td>2</td>\n",
                            "    </tr>\n",
                            "  </tbody>\n",
                            "</table>\n",
                            "<p>178 rows × 1 columns</p>\n",
                            "</div>"
                        ]
                    },
                    "metadata": {},
                    "execution_count": 115
                }
            ],
            "metadata": {}
        },
        {
            "cell_type": "markdown",
            "source": [
                "### 상관관계"
            ],
            "metadata": {}
        },
        {
            "cell_type": "code",
            "execution_count": 83,
            "source": [
                "x_corr = x_data.corr()\r\n",
                "x_corr"
            ],
            "outputs": [
                {
                    "output_type": "execute_result",
                    "data": {
                        "text/plain": [
                            "                               alcohol  malic_acid       ash  \\\n",
                            "alcohol                       1.000000    0.094397  0.211545   \n",
                            "malic_acid                    0.094397    1.000000  0.164045   \n",
                            "ash                           0.211545    0.164045  1.000000   \n",
                            "alcalinity_of_ash            -0.310235    0.288500  0.443367   \n",
                            "magnesium                     0.270798   -0.054575  0.286587   \n",
                            "total_phenols                 0.289101   -0.335167  0.128980   \n",
                            "flavanoids                    0.236815   -0.411007  0.115077   \n",
                            "nonflavanoid_phenols         -0.155929    0.292977  0.186230   \n",
                            "proanthocyanins               0.136698   -0.220746  0.009652   \n",
                            "color_intensity               0.546364    0.248985  0.258887   \n",
                            "hue                          -0.071747   -0.561296 -0.074667   \n",
                            "od280/od315_of_diluted_wines  0.072343   -0.368710  0.003911   \n",
                            "proline                       0.643720   -0.192011  0.223626   \n",
                            "\n",
                            "                              alcalinity_of_ash  magnesium  total_phenols  \\\n",
                            "alcohol                               -0.310235   0.270798       0.289101   \n",
                            "malic_acid                             0.288500  -0.054575      -0.335167   \n",
                            "ash                                    0.443367   0.286587       0.128980   \n",
                            "alcalinity_of_ash                      1.000000  -0.083333      -0.321113   \n",
                            "magnesium                             -0.083333   1.000000       0.214401   \n",
                            "total_phenols                         -0.321113   0.214401       1.000000   \n",
                            "flavanoids                            -0.351370   0.195784       0.864564   \n",
                            "nonflavanoid_phenols                   0.361922  -0.256294      -0.449935   \n",
                            "proanthocyanins                       -0.197327   0.236441       0.612413   \n",
                            "color_intensity                        0.018732   0.199950      -0.055136   \n",
                            "hue                                   -0.273955   0.055398       0.433681   \n",
                            "od280/od315_of_diluted_wines          -0.276769   0.066004       0.699949   \n",
                            "proline                               -0.440597   0.393351       0.498115   \n",
                            "\n",
                            "                              flavanoids  nonflavanoid_phenols  \\\n",
                            "alcohol                         0.236815             -0.155929   \n",
                            "malic_acid                     -0.411007              0.292977   \n",
                            "ash                             0.115077              0.186230   \n",
                            "alcalinity_of_ash              -0.351370              0.361922   \n",
                            "magnesium                       0.195784             -0.256294   \n",
                            "total_phenols                   0.864564             -0.449935   \n",
                            "flavanoids                      1.000000             -0.537900   \n",
                            "nonflavanoid_phenols           -0.537900              1.000000   \n",
                            "proanthocyanins                 0.652692             -0.365845   \n",
                            "color_intensity                -0.172379              0.139057   \n",
                            "hue                             0.543479             -0.262640   \n",
                            "od280/od315_of_diluted_wines    0.787194             -0.503270   \n",
                            "proline                         0.494193             -0.311385   \n",
                            "\n",
                            "                              proanthocyanins  color_intensity       hue  \\\n",
                            "alcohol                              0.136698         0.546364 -0.071747   \n",
                            "malic_acid                          -0.220746         0.248985 -0.561296   \n",
                            "ash                                  0.009652         0.258887 -0.074667   \n",
                            "alcalinity_of_ash                   -0.197327         0.018732 -0.273955   \n",
                            "magnesium                            0.236441         0.199950  0.055398   \n",
                            "total_phenols                        0.612413        -0.055136  0.433681   \n",
                            "flavanoids                           0.652692        -0.172379  0.543479   \n",
                            "nonflavanoid_phenols                -0.365845         0.139057 -0.262640   \n",
                            "proanthocyanins                      1.000000        -0.025250  0.295544   \n",
                            "color_intensity                     -0.025250         1.000000 -0.521813   \n",
                            "hue                                  0.295544        -0.521813  1.000000   \n",
                            "od280/od315_of_diluted_wines         0.519067        -0.428815  0.565468   \n",
                            "proline                              0.330417         0.316100  0.236183   \n",
                            "\n",
                            "                              od280/od315_of_diluted_wines   proline  \n",
                            "alcohol                                           0.072343  0.643720  \n",
                            "malic_acid                                       -0.368710 -0.192011  \n",
                            "ash                                               0.003911  0.223626  \n",
                            "alcalinity_of_ash                                -0.276769 -0.440597  \n",
                            "magnesium                                         0.066004  0.393351  \n",
                            "total_phenols                                     0.699949  0.498115  \n",
                            "flavanoids                                        0.787194  0.494193  \n",
                            "nonflavanoid_phenols                             -0.503270 -0.311385  \n",
                            "proanthocyanins                                   0.519067  0.330417  \n",
                            "color_intensity                                  -0.428815  0.316100  \n",
                            "hue                                               0.565468  0.236183  \n",
                            "od280/od315_of_diluted_wines                      1.000000  0.312761  \n",
                            "proline                                           0.312761  1.000000  "
                        ],
                        "text/html": [
                            "<div>\n",
                            "<style scoped>\n",
                            "    .dataframe tbody tr th:only-of-type {\n",
                            "        vertical-align: middle;\n",
                            "    }\n",
                            "\n",
                            "    .dataframe tbody tr th {\n",
                            "        vertical-align: top;\n",
                            "    }\n",
                            "\n",
                            "    .dataframe thead th {\n",
                            "        text-align: right;\n",
                            "    }\n",
                            "</style>\n",
                            "<table border=\"1\" class=\"dataframe\">\n",
                            "  <thead>\n",
                            "    <tr style=\"text-align: right;\">\n",
                            "      <th></th>\n",
                            "      <th>alcohol</th>\n",
                            "      <th>malic_acid</th>\n",
                            "      <th>ash</th>\n",
                            "      <th>alcalinity_of_ash</th>\n",
                            "      <th>magnesium</th>\n",
                            "      <th>total_phenols</th>\n",
                            "      <th>flavanoids</th>\n",
                            "      <th>nonflavanoid_phenols</th>\n",
                            "      <th>proanthocyanins</th>\n",
                            "      <th>color_intensity</th>\n",
                            "      <th>hue</th>\n",
                            "      <th>od280/od315_of_diluted_wines</th>\n",
                            "      <th>proline</th>\n",
                            "    </tr>\n",
                            "  </thead>\n",
                            "  <tbody>\n",
                            "    <tr>\n",
                            "      <th>alcohol</th>\n",
                            "      <td>1.000000</td>\n",
                            "      <td>0.094397</td>\n",
                            "      <td>0.211545</td>\n",
                            "      <td>-0.310235</td>\n",
                            "      <td>0.270798</td>\n",
                            "      <td>0.289101</td>\n",
                            "      <td>0.236815</td>\n",
                            "      <td>-0.155929</td>\n",
                            "      <td>0.136698</td>\n",
                            "      <td>0.546364</td>\n",
                            "      <td>-0.071747</td>\n",
                            "      <td>0.072343</td>\n",
                            "      <td>0.643720</td>\n",
                            "    </tr>\n",
                            "    <tr>\n",
                            "      <th>malic_acid</th>\n",
                            "      <td>0.094397</td>\n",
                            "      <td>1.000000</td>\n",
                            "      <td>0.164045</td>\n",
                            "      <td>0.288500</td>\n",
                            "      <td>-0.054575</td>\n",
                            "      <td>-0.335167</td>\n",
                            "      <td>-0.411007</td>\n",
                            "      <td>0.292977</td>\n",
                            "      <td>-0.220746</td>\n",
                            "      <td>0.248985</td>\n",
                            "      <td>-0.561296</td>\n",
                            "      <td>-0.368710</td>\n",
                            "      <td>-0.192011</td>\n",
                            "    </tr>\n",
                            "    <tr>\n",
                            "      <th>ash</th>\n",
                            "      <td>0.211545</td>\n",
                            "      <td>0.164045</td>\n",
                            "      <td>1.000000</td>\n",
                            "      <td>0.443367</td>\n",
                            "      <td>0.286587</td>\n",
                            "      <td>0.128980</td>\n",
                            "      <td>0.115077</td>\n",
                            "      <td>0.186230</td>\n",
                            "      <td>0.009652</td>\n",
                            "      <td>0.258887</td>\n",
                            "      <td>-0.074667</td>\n",
                            "      <td>0.003911</td>\n",
                            "      <td>0.223626</td>\n",
                            "    </tr>\n",
                            "    <tr>\n",
                            "      <th>alcalinity_of_ash</th>\n",
                            "      <td>-0.310235</td>\n",
                            "      <td>0.288500</td>\n",
                            "      <td>0.443367</td>\n",
                            "      <td>1.000000</td>\n",
                            "      <td>-0.083333</td>\n",
                            "      <td>-0.321113</td>\n",
                            "      <td>-0.351370</td>\n",
                            "      <td>0.361922</td>\n",
                            "      <td>-0.197327</td>\n",
                            "      <td>0.018732</td>\n",
                            "      <td>-0.273955</td>\n",
                            "      <td>-0.276769</td>\n",
                            "      <td>-0.440597</td>\n",
                            "    </tr>\n",
                            "    <tr>\n",
                            "      <th>magnesium</th>\n",
                            "      <td>0.270798</td>\n",
                            "      <td>-0.054575</td>\n",
                            "      <td>0.286587</td>\n",
                            "      <td>-0.083333</td>\n",
                            "      <td>1.000000</td>\n",
                            "      <td>0.214401</td>\n",
                            "      <td>0.195784</td>\n",
                            "      <td>-0.256294</td>\n",
                            "      <td>0.236441</td>\n",
                            "      <td>0.199950</td>\n",
                            "      <td>0.055398</td>\n",
                            "      <td>0.066004</td>\n",
                            "      <td>0.393351</td>\n",
                            "    </tr>\n",
                            "    <tr>\n",
                            "      <th>total_phenols</th>\n",
                            "      <td>0.289101</td>\n",
                            "      <td>-0.335167</td>\n",
                            "      <td>0.128980</td>\n",
                            "      <td>-0.321113</td>\n",
                            "      <td>0.214401</td>\n",
                            "      <td>1.000000</td>\n",
                            "      <td>0.864564</td>\n",
                            "      <td>-0.449935</td>\n",
                            "      <td>0.612413</td>\n",
                            "      <td>-0.055136</td>\n",
                            "      <td>0.433681</td>\n",
                            "      <td>0.699949</td>\n",
                            "      <td>0.498115</td>\n",
                            "    </tr>\n",
                            "    <tr>\n",
                            "      <th>flavanoids</th>\n",
                            "      <td>0.236815</td>\n",
                            "      <td>-0.411007</td>\n",
                            "      <td>0.115077</td>\n",
                            "      <td>-0.351370</td>\n",
                            "      <td>0.195784</td>\n",
                            "      <td>0.864564</td>\n",
                            "      <td>1.000000</td>\n",
                            "      <td>-0.537900</td>\n",
                            "      <td>0.652692</td>\n",
                            "      <td>-0.172379</td>\n",
                            "      <td>0.543479</td>\n",
                            "      <td>0.787194</td>\n",
                            "      <td>0.494193</td>\n",
                            "    </tr>\n",
                            "    <tr>\n",
                            "      <th>nonflavanoid_phenols</th>\n",
                            "      <td>-0.155929</td>\n",
                            "      <td>0.292977</td>\n",
                            "      <td>0.186230</td>\n",
                            "      <td>0.361922</td>\n",
                            "      <td>-0.256294</td>\n",
                            "      <td>-0.449935</td>\n",
                            "      <td>-0.537900</td>\n",
                            "      <td>1.000000</td>\n",
                            "      <td>-0.365845</td>\n",
                            "      <td>0.139057</td>\n",
                            "      <td>-0.262640</td>\n",
                            "      <td>-0.503270</td>\n",
                            "      <td>-0.311385</td>\n",
                            "    </tr>\n",
                            "    <tr>\n",
                            "      <th>proanthocyanins</th>\n",
                            "      <td>0.136698</td>\n",
                            "      <td>-0.220746</td>\n",
                            "      <td>0.009652</td>\n",
                            "      <td>-0.197327</td>\n",
                            "      <td>0.236441</td>\n",
                            "      <td>0.612413</td>\n",
                            "      <td>0.652692</td>\n",
                            "      <td>-0.365845</td>\n",
                            "      <td>1.000000</td>\n",
                            "      <td>-0.025250</td>\n",
                            "      <td>0.295544</td>\n",
                            "      <td>0.519067</td>\n",
                            "      <td>0.330417</td>\n",
                            "    </tr>\n",
                            "    <tr>\n",
                            "      <th>color_intensity</th>\n",
                            "      <td>0.546364</td>\n",
                            "      <td>0.248985</td>\n",
                            "      <td>0.258887</td>\n",
                            "      <td>0.018732</td>\n",
                            "      <td>0.199950</td>\n",
                            "      <td>-0.055136</td>\n",
                            "      <td>-0.172379</td>\n",
                            "      <td>0.139057</td>\n",
                            "      <td>-0.025250</td>\n",
                            "      <td>1.000000</td>\n",
                            "      <td>-0.521813</td>\n",
                            "      <td>-0.428815</td>\n",
                            "      <td>0.316100</td>\n",
                            "    </tr>\n",
                            "    <tr>\n",
                            "      <th>hue</th>\n",
                            "      <td>-0.071747</td>\n",
                            "      <td>-0.561296</td>\n",
                            "      <td>-0.074667</td>\n",
                            "      <td>-0.273955</td>\n",
                            "      <td>0.055398</td>\n",
                            "      <td>0.433681</td>\n",
                            "      <td>0.543479</td>\n",
                            "      <td>-0.262640</td>\n",
                            "      <td>0.295544</td>\n",
                            "      <td>-0.521813</td>\n",
                            "      <td>1.000000</td>\n",
                            "      <td>0.565468</td>\n",
                            "      <td>0.236183</td>\n",
                            "    </tr>\n",
                            "    <tr>\n",
                            "      <th>od280/od315_of_diluted_wines</th>\n",
                            "      <td>0.072343</td>\n",
                            "      <td>-0.368710</td>\n",
                            "      <td>0.003911</td>\n",
                            "      <td>-0.276769</td>\n",
                            "      <td>0.066004</td>\n",
                            "      <td>0.699949</td>\n",
                            "      <td>0.787194</td>\n",
                            "      <td>-0.503270</td>\n",
                            "      <td>0.519067</td>\n",
                            "      <td>-0.428815</td>\n",
                            "      <td>0.565468</td>\n",
                            "      <td>1.000000</td>\n",
                            "      <td>0.312761</td>\n",
                            "    </tr>\n",
                            "    <tr>\n",
                            "      <th>proline</th>\n",
                            "      <td>0.643720</td>\n",
                            "      <td>-0.192011</td>\n",
                            "      <td>0.223626</td>\n",
                            "      <td>-0.440597</td>\n",
                            "      <td>0.393351</td>\n",
                            "      <td>0.498115</td>\n",
                            "      <td>0.494193</td>\n",
                            "      <td>-0.311385</td>\n",
                            "      <td>0.330417</td>\n",
                            "      <td>0.316100</td>\n",
                            "      <td>0.236183</td>\n",
                            "      <td>0.312761</td>\n",
                            "      <td>1.000000</td>\n",
                            "    </tr>\n",
                            "  </tbody>\n",
                            "</table>\n",
                            "</div>"
                        ]
                    },
                    "metadata": {},
                    "execution_count": 83
                }
            ],
            "metadata": {}
        },
        {
            "cell_type": "markdown",
            "source": [
                "### heatmap"
            ],
            "metadata": {}
        },
        {
            "cell_type": "code",
            "execution_count": 85,
            "source": [
                "plt.figure(figsize = (12, 10))\r\n",
                "sns.heatmap(x_corr, annot = True, cmap = 'Blues', vmin = -1, vmax = 1)\r\n",
                "plt.show()"
            ],
            "outputs": [
                {
                    "output_type": "display_data",
                    "data": {
                        "text/plain": [
                            "<Figure size 864x720 with 2 Axes>"
                        ],
                        "image/png": "[encoded data removed]"
                    },
                    "metadata": {
                        "needs_background": "light"
                    }
                }
            ],
            "metadata": {}
        },
        {
            "cell_type": "markdown",
            "source": [
                "## 2. train, test score"
            ],
            "metadata": {}
        },
        {
            "cell_type": "code",
            "execution_count": 117,
            "source": [
                "# train, test\r\n",
                "x_train, x_test, y_train, y_test = train_test_split(x_data, y_data, test_size = 0.2, stratify = y_data)\r\n",
                "\r\n",
                "# modeling\r\n",
                "model_wine = make_pipeline(StandardScaler(), LogisticRegression())\r\n",
                "# param_value = {'logisticregression__C': np.linspace(0,1, 10),\r\n",
                "#                'logisticregression__penalty':['l1', 'l2', 'elasticnet', 'none']\r\n",
                "#               , 'logisticregression__solver': ['newton-cg', 'lbfgs', 'liblinear', 'sag', 'saga']}\r\n",
                "# gridS = GridSearchCV(model_wine, param_grid = param_value,\r\n",
                "#                     scoring='f1')\r\n",
                "model_wine.fit(x_train, y_train)"
            ],
            "outputs": [
                {
                    "output_type": "execute_result",
                    "data": {
                        "text/plain": [
                            "Pipeline(steps=[('standardscaler', StandardScaler()),\n",
                            "                ('logisticregression', LogisticRegression())])"
                        ]
                    },
                    "metadata": {},
                    "execution_count": 117
                }
            ],
            "metadata": {}
        },
        {
            "cell_type": "code",
            "execution_count": 120,
            "source": [
                "print('train :', model_wine.score(x_train, y_train))\r\n",
                "print('test :', model_wine.score(x_test, y_test))"
            ],
            "outputs": [
                {
                    "output_type": "stream",
                    "name": "stdout",
                    "text": [
                        "train : 1.0\n",
                        "test : 0.9444444444444444\n"
                    ]
                }
            ],
            "metadata": {}
        },
        {
            "cell_type": "markdown",
            "source": [
                "## 3. test[0] 번째 데이터 예측"
            ],
            "metadata": {}
        },
        {
            "cell_type": "code",
            "execution_count": 121,
            "source": [
                "test0_pred = model_wine.predict([x_test.iloc[0]])"
            ],
            "outputs": [],
            "metadata": {}
        },
        {
            "cell_type": "code",
            "execution_count": 122,
            "source": [
                "print('예측결과 :', test0_pred == y_test.iloc[0])"
            ],
            "outputs": [
                {
                    "output_type": "stream",
                    "name": "stdout",
                    "text": [
                        "예측결과 : target    True\n",
                        "Name: 100, dtype: bool\n"
                    ]
                }
            ],
            "metadata": {}
        },
        {
            "cell_type": "markdown",
            "source": [
                "## 4. confusion matrix, heatmap"
            ],
            "metadata": {}
        },
        {
            "cell_type": "code",
            "execution_count": 123,
            "source": [
                "y_pred = model_wine.predict(x_test)"
            ],
            "outputs": [],
            "metadata": {}
        },
        {
            "cell_type": "code",
            "execution_count": 124,
            "source": [
                "cm = confusion_matrix(y_test, y_pred)\r\n",
                "cm"
            ],
            "outputs": [
                {
                    "output_type": "execute_result",
                    "data": {
                        "text/plain": [
                            "array([[12,  0,  0],\n",
                            "       [ 0, 13,  1],\n",
                            "       [ 0,  1,  9]], dtype=int64)"
                        ]
                    },
                    "metadata": {},
                    "execution_count": 124
                }
            ],
            "metadata": {}
        },
        {
            "cell_type": "code",
            "execution_count": 125,
            "source": [
                "sns.heatmap(cm, annot = True, cmap = 'Blues')\r\n",
                "plt.xlabel('예측')\r\n",
                "plt.ylabel('실제')\r\n",
                "plt.show()"
            ],
            "outputs": [
                {
                    "output_type": "display_data",
                    "data": {
                        "text/plain": [
                            "<Figure size 432x288 with 2 Axes>"
                        ],
                        "image/png": "[encoded data removed]"
                    },
                    "metadata": {
                        "needs_background": "light"
                    }
                }
            ],
            "metadata": {}
        },
        {
            "cell_type": "markdown",
            "source": [
                "## 5. f1 score(train. test)"
            ],
            "metadata": {}
        },
        {
            "cell_type": "code",
            "execution_count": 130,
            "source": [
                "print('train f1 score :', f1_score(y_train, model_wine.predict(x_train), average = 'weighted'))\r\n",
                "print('test f1 score :', f1_score(y_test, y_pred, average = 'weighted'))"
            ],
            "outputs": [
                {
                    "output_type": "stream",
                    "name": "stdout",
                    "text": [
                        "train f1 score : 1.0\n",
                        "test f1 score : 0.9444444444444444\n"
                    ]
                }
            ],
            "metadata": {}
        },
        {
            "cell_type": "code",
            "execution_count": null,
            "source": [],
            "outputs": [],
            "metadata": {}
        }
    ],
    "metadata": {
        "orig_nbformat": 4,
        "language_info": {
            "name": "python",
            "version": "3.8.5",
            "mimetype": "text/x-python",
            "codemirror_mode": {
                "name": "ipython",
                "version": 3
            },
            "pygments_lexer": "ipython3",
            "nbconvert_exporter": "python",
            "file_extension": ".py"
        },
        "kernelspec": {
            "name": "python3",
            "display_name": "Python 3.8.5 64-bit ('base': conda)"
        },
        "interpreter": {
            "hash": "3daa3430744053f4748a69c6948da8999f75f0c797f8ffecf263e95f10f995f6"
        }
    },
    "nbformat": 4,
    "nbformat_minor": 2
}