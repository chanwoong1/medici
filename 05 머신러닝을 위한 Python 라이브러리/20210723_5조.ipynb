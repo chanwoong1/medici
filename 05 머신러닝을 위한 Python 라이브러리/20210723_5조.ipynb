{
 "cells": [
  {
   "cell_type": "code",
   "execution_count": 1,
   "source": [
    "from sklearn.datasets import make_classification, load_breast_cancer\r\n",
    "from sklearn.linear_model import LogisticRegression, LinearRegression, ElasticNet, SGDRegressor\r\n",
    "from sklearn.model_selection import train_test_split\r\n",
    "\r\n",
    "import pandas as pd\r\n",
    "import matplotlib.pyplot as plt\r\n",
    "import numpy as np\r\n",
    "import seaborn as sns\r\n",
    "\r\n",
    "from sklearn.pipeline import make_pipeline\r\n",
    "from sklearn.preprocessing import StandardScaler\r\n",
    "from sklearn.preprocessing import OneHotEncoder, LabelEncoder\r\n",
    "from sklearn.model_selection import train_test_split\r\n",
    "from sklearn.model_selection import GridSearchCV\r\n",
    "from sklearn.compose import make_column_transformer\r\n",
    "from sklearn.datasets import load_iris, load_wine\r\n",
    "import sklearn.metrics as metrics\r\n",
    "\r\n",
    "import warnings\r\n",
    "warnings.simplefilter('ignore')\r\n",
    "\r\n",
    "import matplotlib\r\n",
    "matplotlib.rcParams[\"font.family\"]=\"Malgun Gothic\"\r\n",
    "matplotlib.rcParams[\"axes.unicode_minus\"]= False\r\n",
    "\r\n",
    "import requests\r\n",
    "from xml.etree import ElementTree "
   ],
   "outputs": [],
   "metadata": {}
  },
  {
   "cell_type": "markdown",
   "source": [
    "### 데이터 가져오기"
   ],
   "metadata": {}
  },
  {
   "cell_type": "code",
   "execution_count": 2,
   "source": [
    "url = 'https://www.weather.go.kr/weather/forecast/mid-term-rss3.jsp?stnId=109'\r\n",
    "response = requests.get(url)\r\n",
    "\r\n",
    "#파싱\r\n",
    "tree = ElementTree.fromstring(response.content)\r\n",
    "elements = tree.iter(\"location\")\r\n",
    "\r\n",
    "df = []\r\n",
    "for el in elements:\r\n",
    "    city = el.find(\"city\").text\r\n",
    "    for data in el.iter('data'):\r\n",
    "        tmEf = data.find('tmEf').text\r\n",
    "        wf = data.find('wf').text\r\n",
    "        tmn = data.find('tmn').text\r\n",
    "        tmx = data.find('tmx').text\r\n",
    "        \r\n",
    "        df.append([city,tmEf,wf,tmn,tmx])\r\n",
    "df = pd.DataFrame(df, columns =['city','tmEf','wf','tmn','tmx'])\r\n",
    "display(df.head())"
   ],
   "outputs": [
    {
     "output_type": "display_data",
     "data": {
      "text/plain": [
       "  city              tmEf    wf tmn tmx\n",
       "0   서울  2021-07-28 00:00    맑음  26  35\n",
       "1   서울  2021-07-28 12:00    맑음  26  35\n",
       "2   서울  2021-07-29 00:00    맑음  25  34\n",
       "3   서울  2021-07-29 12:00  구름많음  25  34\n",
       "4   서울  2021-07-30 00:00  구름많음  26  34"
      ],
      "text/html": [
       "<div>\n",
       "<style scoped>\n",
       "    .dataframe tbody tr th:only-of-type {\n",
       "        vertical-align: middle;\n",
       "    }\n",
       "\n",
       "    .dataframe tbody tr th {\n",
       "        vertical-align: top;\n",
       "    }\n",
       "\n",
       "    .dataframe thead th {\n",
       "        text-align: right;\n",
       "    }\n",
       "</style>\n",
       "<table border=\"1\" class=\"dataframe\">\n",
       "  <thead>\n",
       "    <tr style=\"text-align: right;\">\n",
       "      <th></th>\n",
       "      <th>city</th>\n",
       "      <th>tmEf</th>\n",
       "      <th>wf</th>\n",
       "      <th>tmn</th>\n",
       "      <th>tmx</th>\n",
       "    </tr>\n",
       "  </thead>\n",
       "  <tbody>\n",
       "    <tr>\n",
       "      <th>0</th>\n",
       "      <td>서울</td>\n",
       "      <td>2021-07-28 00:00</td>\n",
       "      <td>맑음</td>\n",
       "      <td>26</td>\n",
       "      <td>35</td>\n",
       "    </tr>\n",
       "    <tr>\n",
       "      <th>1</th>\n",
       "      <td>서울</td>\n",
       "      <td>2021-07-28 12:00</td>\n",
       "      <td>맑음</td>\n",
       "      <td>26</td>\n",
       "      <td>35</td>\n",
       "    </tr>\n",
       "    <tr>\n",
       "      <th>2</th>\n",
       "      <td>서울</td>\n",
       "      <td>2021-07-29 00:00</td>\n",
       "      <td>맑음</td>\n",
       "      <td>25</td>\n",
       "      <td>34</td>\n",
       "    </tr>\n",
       "    <tr>\n",
       "      <th>3</th>\n",
       "      <td>서울</td>\n",
       "      <td>2021-07-29 12:00</td>\n",
       "      <td>구름많음</td>\n",
       "      <td>25</td>\n",
       "      <td>34</td>\n",
       "    </tr>\n",
       "    <tr>\n",
       "      <th>4</th>\n",
       "      <td>서울</td>\n",
       "      <td>2021-07-30 00:00</td>\n",
       "      <td>구름많음</td>\n",
       "      <td>26</td>\n",
       "      <td>34</td>\n",
       "    </tr>\n",
       "  </tbody>\n",
       "</table>\n",
       "</div>"
      ]
     },
     "metadata": {}
    }
   ],
   "metadata": {}
  },
  {
   "cell_type": "markdown",
   "source": [
    "---\n",
    "### 데이터 전처리"
   ],
   "metadata": {}
  },
  {
   "cell_type": "code",
   "execution_count": 3,
   "source": [
    "df.info()"
   ],
   "outputs": [
    {
     "output_type": "stream",
     "name": "stdout",
     "text": [
      "<class 'pandas.core.frame.DataFrame'>\n",
      "RangeIndex: 455 entries, 0 to 454\n",
      "Data columns (total 5 columns):\n",
      " #   Column  Non-Null Count  Dtype \n",
      "---  ------  --------------  ----- \n",
      " 0   city    455 non-null    object\n",
      " 1   tmEf    455 non-null    object\n",
      " 2   wf      455 non-null    object\n",
      " 3   tmn     455 non-null    object\n",
      " 4   tmx     455 non-null    object\n",
      "dtypes: object(5)\n",
      "memory usage: 17.9+ KB\n"
     ]
    }
   ],
   "metadata": {}
  },
  {
   "cell_type": "code",
   "execution_count": 4,
   "source": [
    "#온도 컬럼의 자료형 변경\r\n",
    "df[['tmn','tmx']] = df[['tmn','tmx']].astype(np.float32)\r\n",
    "df.info()"
   ],
   "outputs": [
    {
     "output_type": "stream",
     "name": "stdout",
     "text": [
      "<class 'pandas.core.frame.DataFrame'>\n",
      "RangeIndex: 455 entries, 0 to 454\n",
      "Data columns (total 5 columns):\n",
      " #   Column  Non-Null Count  Dtype  \n",
      "---  ------  --------------  -----  \n",
      " 0   city    455 non-null    object \n",
      " 1   tmEf    455 non-null    object \n",
      " 2   wf      455 non-null    object \n",
      " 3   tmn     455 non-null    float32\n",
      " 4   tmx     455 non-null    float32\n",
      "dtypes: float32(2), object(3)\n",
      "memory usage: 14.3+ KB\n"
     ]
    }
   ],
   "metadata": {}
  },
  {
   "cell_type": "code",
   "execution_count": 5,
   "source": [
    "#target 만들기\r\n",
    "df[['target_tmn','target_tmx']] = df[['tmn','tmx']].shift(-1)\r\n",
    "df.head()"
   ],
   "outputs": [
    {
     "output_type": "execute_result",
     "data": {
      "text/plain": [
       "  city              tmEf    wf   tmn   tmx  target_tmn  target_tmx\n",
       "0   서울  2021-07-28 00:00    맑음  26.0  35.0        26.0        35.0\n",
       "1   서울  2021-07-28 12:00    맑음  26.0  35.0        25.0        34.0\n",
       "2   서울  2021-07-29 00:00    맑음  25.0  34.0        25.0        34.0\n",
       "3   서울  2021-07-29 12:00  구름많음  25.0  34.0        26.0        34.0\n",
       "4   서울  2021-07-30 00:00  구름많음  26.0  34.0        26.0        34.0"
      ],
      "text/html": [
       "<div>\n",
       "<style scoped>\n",
       "    .dataframe tbody tr th:only-of-type {\n",
       "        vertical-align: middle;\n",
       "    }\n",
       "\n",
       "    .dataframe tbody tr th {\n",
       "        vertical-align: top;\n",
       "    }\n",
       "\n",
       "    .dataframe thead th {\n",
       "        text-align: right;\n",
       "    }\n",
       "</style>\n",
       "<table border=\"1\" class=\"dataframe\">\n",
       "  <thead>\n",
       "    <tr style=\"text-align: right;\">\n",
       "      <th></th>\n",
       "      <th>city</th>\n",
       "      <th>tmEf</th>\n",
       "      <th>wf</th>\n",
       "      <th>tmn</th>\n",
       "      <th>tmx</th>\n",
       "      <th>target_tmn</th>\n",
       "      <th>target_tmx</th>\n",
       "    </tr>\n",
       "  </thead>\n",
       "  <tbody>\n",
       "    <tr>\n",
       "      <th>0</th>\n",
       "      <td>서울</td>\n",
       "      <td>2021-07-28 00:00</td>\n",
       "      <td>맑음</td>\n",
       "      <td>26.0</td>\n",
       "      <td>35.0</td>\n",
       "      <td>26.0</td>\n",
       "      <td>35.0</td>\n",
       "    </tr>\n",
       "    <tr>\n",
       "      <th>1</th>\n",
       "      <td>서울</td>\n",
       "      <td>2021-07-28 12:00</td>\n",
       "      <td>맑음</td>\n",
       "      <td>26.0</td>\n",
       "      <td>35.0</td>\n",
       "      <td>25.0</td>\n",
       "      <td>34.0</td>\n",
       "    </tr>\n",
       "    <tr>\n",
       "      <th>2</th>\n",
       "      <td>서울</td>\n",
       "      <td>2021-07-29 00:00</td>\n",
       "      <td>맑음</td>\n",
       "      <td>25.0</td>\n",
       "      <td>34.0</td>\n",
       "      <td>25.0</td>\n",
       "      <td>34.0</td>\n",
       "    </tr>\n",
       "    <tr>\n",
       "      <th>3</th>\n",
       "      <td>서울</td>\n",
       "      <td>2021-07-29 12:00</td>\n",
       "      <td>구름많음</td>\n",
       "      <td>25.0</td>\n",
       "      <td>34.0</td>\n",
       "      <td>26.0</td>\n",
       "      <td>34.0</td>\n",
       "    </tr>\n",
       "    <tr>\n",
       "      <th>4</th>\n",
       "      <td>서울</td>\n",
       "      <td>2021-07-30 00:00</td>\n",
       "      <td>구름많음</td>\n",
       "      <td>26.0</td>\n",
       "      <td>34.0</td>\n",
       "      <td>26.0</td>\n",
       "      <td>34.0</td>\n",
       "    </tr>\n",
       "  </tbody>\n",
       "</table>\n",
       "</div>"
      ]
     },
     "metadata": {},
     "execution_count": 5
    }
   ],
   "metadata": {}
  },
  {
   "cell_type": "code",
   "execution_count": 6,
   "source": [
    "#각 지역별 마지막 행은 의미가 없으므로 삭제\r\n",
    "lst = [i % 13 != 12 for i in range(len(df))]\r\n",
    "df = df[lst]\r\n",
    "df.reset_index(drop = True,inplace = True)\r\n",
    "display(df[df['city'] == '서울'].tail())\r\n",
    "display(df[df['city'] == '여주'].tail())"
   ],
   "outputs": [
    {
     "output_type": "display_data",
     "data": {
      "text/plain": [
       "   city              tmEf    wf   tmn   tmx  target_tmn  target_tmx\n",
       "7    서울  2021-07-31 12:00  구름많음  26.0  35.0        26.0        34.0\n",
       "8    서울  2021-08-01 00:00  구름많음  26.0  34.0        26.0        34.0\n",
       "9    서울  2021-08-01 12:00  구름많음  26.0  34.0        26.0        34.0\n",
       "10   서울  2021-08-02 00:00  구름많음  26.0  34.0        26.0        34.0\n",
       "11   서울  2021-08-03 00:00    맑음  26.0  34.0        26.0        34.0"
      ],
      "text/html": [
       "<div>\n",
       "<style scoped>\n",
       "    .dataframe tbody tr th:only-of-type {\n",
       "        vertical-align: middle;\n",
       "    }\n",
       "\n",
       "    .dataframe tbody tr th {\n",
       "        vertical-align: top;\n",
       "    }\n",
       "\n",
       "    .dataframe thead th {\n",
       "        text-align: right;\n",
       "    }\n",
       "</style>\n",
       "<table border=\"1\" class=\"dataframe\">\n",
       "  <thead>\n",
       "    <tr style=\"text-align: right;\">\n",
       "      <th></th>\n",
       "      <th>city</th>\n",
       "      <th>tmEf</th>\n",
       "      <th>wf</th>\n",
       "      <th>tmn</th>\n",
       "      <th>tmx</th>\n",
       "      <th>target_tmn</th>\n",
       "      <th>target_tmx</th>\n",
       "    </tr>\n",
       "  </thead>\n",
       "  <tbody>\n",
       "    <tr>\n",
       "      <th>7</th>\n",
       "      <td>서울</td>\n",
       "      <td>2021-07-31 12:00</td>\n",
       "      <td>구름많음</td>\n",
       "      <td>26.0</td>\n",
       "      <td>35.0</td>\n",
       "      <td>26.0</td>\n",
       "      <td>34.0</td>\n",
       "    </tr>\n",
       "    <tr>\n",
       "      <th>8</th>\n",
       "      <td>서울</td>\n",
       "      <td>2021-08-01 00:00</td>\n",
       "      <td>구름많음</td>\n",
       "      <td>26.0</td>\n",
       "      <td>34.0</td>\n",
       "      <td>26.0</td>\n",
       "      <td>34.0</td>\n",
       "    </tr>\n",
       "    <tr>\n",
       "      <th>9</th>\n",
       "      <td>서울</td>\n",
       "      <td>2021-08-01 12:00</td>\n",
       "      <td>구름많음</td>\n",
       "      <td>26.0</td>\n",
       "      <td>34.0</td>\n",
       "      <td>26.0</td>\n",
       "      <td>34.0</td>\n",
       "    </tr>\n",
       "    <tr>\n",
       "      <th>10</th>\n",
       "      <td>서울</td>\n",
       "      <td>2021-08-02 00:00</td>\n",
       "      <td>구름많음</td>\n",
       "      <td>26.0</td>\n",
       "      <td>34.0</td>\n",
       "      <td>26.0</td>\n",
       "      <td>34.0</td>\n",
       "    </tr>\n",
       "    <tr>\n",
       "      <th>11</th>\n",
       "      <td>서울</td>\n",
       "      <td>2021-08-03 00:00</td>\n",
       "      <td>맑음</td>\n",
       "      <td>26.0</td>\n",
       "      <td>34.0</td>\n",
       "      <td>26.0</td>\n",
       "      <td>34.0</td>\n",
       "    </tr>\n",
       "  </tbody>\n",
       "</table>\n",
       "</div>"
      ]
     },
     "metadata": {}
    },
    {
     "output_type": "display_data",
     "data": {
      "text/plain": [
       "    city              tmEf    wf   tmn   tmx  target_tmn  target_tmx\n",
       "415   여주  2021-07-31 12:00  구름많음  24.0  33.0        24.0        31.0\n",
       "416   여주  2021-08-01 00:00  구름많음  24.0  31.0        24.0        31.0\n",
       "417   여주  2021-08-01 12:00  구름많음  24.0  31.0        23.0        32.0\n",
       "418   여주  2021-08-02 00:00  구름많음  23.0  32.0        23.0        32.0\n",
       "419   여주  2021-08-03 00:00    맑음  23.0  32.0        24.0        32.0"
      ],
      "text/html": [
       "<div>\n",
       "<style scoped>\n",
       "    .dataframe tbody tr th:only-of-type {\n",
       "        vertical-align: middle;\n",
       "    }\n",
       "\n",
       "    .dataframe tbody tr th {\n",
       "        vertical-align: top;\n",
       "    }\n",
       "\n",
       "    .dataframe thead th {\n",
       "        text-align: right;\n",
       "    }\n",
       "</style>\n",
       "<table border=\"1\" class=\"dataframe\">\n",
       "  <thead>\n",
       "    <tr style=\"text-align: right;\">\n",
       "      <th></th>\n",
       "      <th>city</th>\n",
       "      <th>tmEf</th>\n",
       "      <th>wf</th>\n",
       "      <th>tmn</th>\n",
       "      <th>tmx</th>\n",
       "      <th>target_tmn</th>\n",
       "      <th>target_tmx</th>\n",
       "    </tr>\n",
       "  </thead>\n",
       "  <tbody>\n",
       "    <tr>\n",
       "      <th>415</th>\n",
       "      <td>여주</td>\n",
       "      <td>2021-07-31 12:00</td>\n",
       "      <td>구름많음</td>\n",
       "      <td>24.0</td>\n",
       "      <td>33.0</td>\n",
       "      <td>24.0</td>\n",
       "      <td>31.0</td>\n",
       "    </tr>\n",
       "    <tr>\n",
       "      <th>416</th>\n",
       "      <td>여주</td>\n",
       "      <td>2021-08-01 00:00</td>\n",
       "      <td>구름많음</td>\n",
       "      <td>24.0</td>\n",
       "      <td>31.0</td>\n",
       "      <td>24.0</td>\n",
       "      <td>31.0</td>\n",
       "    </tr>\n",
       "    <tr>\n",
       "      <th>417</th>\n",
       "      <td>여주</td>\n",
       "      <td>2021-08-01 12:00</td>\n",
       "      <td>구름많음</td>\n",
       "      <td>24.0</td>\n",
       "      <td>31.0</td>\n",
       "      <td>23.0</td>\n",
       "      <td>32.0</td>\n",
       "    </tr>\n",
       "    <tr>\n",
       "      <th>418</th>\n",
       "      <td>여주</td>\n",
       "      <td>2021-08-02 00:00</td>\n",
       "      <td>구름많음</td>\n",
       "      <td>23.0</td>\n",
       "      <td>32.0</td>\n",
       "      <td>23.0</td>\n",
       "      <td>32.0</td>\n",
       "    </tr>\n",
       "    <tr>\n",
       "      <th>419</th>\n",
       "      <td>여주</td>\n",
       "      <td>2021-08-03 00:00</td>\n",
       "      <td>맑음</td>\n",
       "      <td>23.0</td>\n",
       "      <td>32.0</td>\n",
       "      <td>24.0</td>\n",
       "      <td>32.0</td>\n",
       "    </tr>\n",
       "  </tbody>\n",
       "</table>\n",
       "</div>"
      ]
     },
     "metadata": {}
    }
   ],
   "metadata": {}
  },
  {
   "cell_type": "code",
   "execution_count": 7,
   "source": [
    "x_data = df[['city','tmn','tmx']]\r\n",
    "y_data = df[['target_tmn','target_tmx']]"
   ],
   "outputs": [],
   "metadata": {}
  },
  {
   "cell_type": "code",
   "execution_count": 8,
   "source": [
    "#원핫 인코딩\r\n",
    "# x_data = pd.get_dummies(x_data,columns=['city'])\r\n",
    "onehot = OneHotEncoder(sparse = False)\r\n",
    "city_onehot = onehot.fit_transform(x_data[['city']])\r\n",
    "#onehot 데이터를 df로\r\n",
    "city_onehot = pd.DataFrame(data = city_onehot, columns=onehot.get_feature_names(['city']))\r\n",
    "x_data = pd.concat([x_data, city_onehot], axis =1 ).drop(['city'], axis = 1)"
   ],
   "outputs": [],
   "metadata": {}
  },
  {
   "cell_type": "markdown",
   "source": [
    "---\n",
    "### 모델"
   ],
   "metadata": {}
  },
  {
   "cell_type": "code",
   "execution_count": 9,
   "source": [
    "#train test split\r\n",
    "x_train, x_test, y_train, y_test = train_test_split(x_data, y_data, test_size = 0.2, random_state = 2020)\r\n",
    "\r\n",
    "model = make_pipeline(StandardScaler(), LinearRegression())\r\n",
    "model.fit(x_train, y_train)"
   ],
   "outputs": [
    {
     "output_type": "execute_result",
     "data": {
      "text/plain": [
       "Pipeline(steps=[('standardscaler', StandardScaler()),\n",
       "                ('linearregression', LinearRegression())])"
      ]
     },
     "metadata": {},
     "execution_count": 9
    }
   ],
   "metadata": {}
  },
  {
   "cell_type": "code",
   "execution_count": 10,
   "source": [
    "#점수 확인\r\n",
    "print(model.score(x_train,y_train))\r\n",
    "print(model.score(x_test,y_test))"
   ],
   "outputs": [
    {
     "output_type": "stream",
     "name": "stdout",
     "text": [
      "0.8570383435859907\n",
      "0.7836722818778108\n"
     ]
    }
   ],
   "metadata": {}
  },
  {
   "cell_type": "markdown",
   "source": [
    "# 예측해보기"
   ],
   "metadata": {}
  },
  {
   "cell_type": "markdown",
   "source": [
    "서울, 2021-08-01 00:00, 구름많음, 26.0, 34.0 / 답:26.0, 33.0  \n",
    "여주, 2021-08-01 00:00, 구름많음, 23.0, 32.0 / 답:23.0, 33.0"
   ],
   "metadata": {}
  },
  {
   "cell_type": "code",
   "execution_count": 11,
   "source": [
    "test = pd.DataFrame([['서울',23.0, 32.0],['여주',23.0,32.0,]], columns = ['city','tmn','tmx'])"
   ],
   "outputs": [],
   "metadata": {}
  },
  {
   "cell_type": "code",
   "execution_count": 12,
   "source": [
    "#test data \r\n",
    "test_onehot = onehot.transform(test[['city']])\r\n",
    "test_onehot = pd.DataFrame(data = test_onehot, columns=onehot.get_feature_names(['city']))\r\n",
    "test = pd.concat([test, test_onehot], axis =1 ).drop(['city'], axis = 1)\r\n",
    "test"
   ],
   "outputs": [
    {
     "output_type": "execute_result",
     "data": {
      "text/plain": [
       "    tmn   tmx  city_가평  city_강화  city_고양  city_과천  city_광명  city_광주  city_구리  \\\n",
       "0  23.0  32.0      0.0      0.0      0.0      0.0      0.0      0.0      0.0   \n",
       "1  23.0  32.0      0.0      0.0      0.0      0.0      0.0      0.0      0.0   \n",
       "\n",
       "   city_군포  ...  city_용인  city_의왕  city_의정부  city_이천  city_인천  city_파주  \\\n",
       "0      0.0  ...      0.0      0.0       0.0      0.0      0.0      0.0   \n",
       "1      0.0  ...      0.0      0.0       0.0      0.0      0.0      0.0   \n",
       "\n",
       "   city_평택  city_포천  city_하남  city_화성  \n",
       "0      0.0      0.0      0.0      0.0  \n",
       "1      0.0      0.0      0.0      0.0  \n",
       "\n",
       "[2 rows x 37 columns]"
      ],
      "text/html": [
       "<div>\n",
       "<style scoped>\n",
       "    .dataframe tbody tr th:only-of-type {\n",
       "        vertical-align: middle;\n",
       "    }\n",
       "\n",
       "    .dataframe tbody tr th {\n",
       "        vertical-align: top;\n",
       "    }\n",
       "\n",
       "    .dataframe thead th {\n",
       "        text-align: right;\n",
       "    }\n",
       "</style>\n",
       "<table border=\"1\" class=\"dataframe\">\n",
       "  <thead>\n",
       "    <tr style=\"text-align: right;\">\n",
       "      <th></th>\n",
       "      <th>tmn</th>\n",
       "      <th>tmx</th>\n",
       "      <th>city_가평</th>\n",
       "      <th>city_강화</th>\n",
       "      <th>city_고양</th>\n",
       "      <th>city_과천</th>\n",
       "      <th>city_광명</th>\n",
       "      <th>city_광주</th>\n",
       "      <th>city_구리</th>\n",
       "      <th>city_군포</th>\n",
       "      <th>...</th>\n",
       "      <th>city_용인</th>\n",
       "      <th>city_의왕</th>\n",
       "      <th>city_의정부</th>\n",
       "      <th>city_이천</th>\n",
       "      <th>city_인천</th>\n",
       "      <th>city_파주</th>\n",
       "      <th>city_평택</th>\n",
       "      <th>city_포천</th>\n",
       "      <th>city_하남</th>\n",
       "      <th>city_화성</th>\n",
       "    </tr>\n",
       "  </thead>\n",
       "  <tbody>\n",
       "    <tr>\n",
       "      <th>0</th>\n",
       "      <td>23.0</td>\n",
       "      <td>32.0</td>\n",
       "      <td>0.0</td>\n",
       "      <td>0.0</td>\n",
       "      <td>0.0</td>\n",
       "      <td>0.0</td>\n",
       "      <td>0.0</td>\n",
       "      <td>0.0</td>\n",
       "      <td>0.0</td>\n",
       "      <td>0.0</td>\n",
       "      <td>...</td>\n",
       "      <td>0.0</td>\n",
       "      <td>0.0</td>\n",
       "      <td>0.0</td>\n",
       "      <td>0.0</td>\n",
       "      <td>0.0</td>\n",
       "      <td>0.0</td>\n",
       "      <td>0.0</td>\n",
       "      <td>0.0</td>\n",
       "      <td>0.0</td>\n",
       "      <td>0.0</td>\n",
       "    </tr>\n",
       "    <tr>\n",
       "      <th>1</th>\n",
       "      <td>23.0</td>\n",
       "      <td>32.0</td>\n",
       "      <td>0.0</td>\n",
       "      <td>0.0</td>\n",
       "      <td>0.0</td>\n",
       "      <td>0.0</td>\n",
       "      <td>0.0</td>\n",
       "      <td>0.0</td>\n",
       "      <td>0.0</td>\n",
       "      <td>0.0</td>\n",
       "      <td>...</td>\n",
       "      <td>0.0</td>\n",
       "      <td>0.0</td>\n",
       "      <td>0.0</td>\n",
       "      <td>0.0</td>\n",
       "      <td>0.0</td>\n",
       "      <td>0.0</td>\n",
       "      <td>0.0</td>\n",
       "      <td>0.0</td>\n",
       "      <td>0.0</td>\n",
       "      <td>0.0</td>\n",
       "    </tr>\n",
       "  </tbody>\n",
       "</table>\n",
       "<p>2 rows × 37 columns</p>\n",
       "</div>"
      ]
     },
     "metadata": {},
     "execution_count": 12
    }
   ],
   "metadata": {}
  },
  {
   "cell_type": "code",
   "execution_count": 13,
   "source": [
    "predict =  model.predict(test)\r\n",
    "print('서울 : ' , predict[0])\r\n",
    "print('여주 : ' , predict[1])"
   ],
   "outputs": [
    {
     "output_type": "stream",
     "name": "stdout",
     "text": [
      "서울 :  [24.22214219 33.47590524]\n",
      "여주 :  [23.30612656 32.02473337]\n"
     ]
    }
   ],
   "metadata": {}
  },
  {
   "cell_type": "markdown",
   "source": [
    "---\n",
    "### 일교차 구하기"
   ],
   "metadata": {}
  },
  {
   "cell_type": "code",
   "execution_count": 14,
   "source": [
    "df['tmn'] = df['tmn']\r\n",
    "df['tmx'] = df['tmx']\r\n",
    "df['daily_diff'] = df['tmx'] - df['tmn']\r\n",
    "df.sort_values('daily_diff', ascending=False)\r\n",
    "df.head()"
   ],
   "outputs": [
    {
     "output_type": "execute_result",
     "data": {
      "text/plain": [
       "  city              tmEf    wf   tmn   tmx  target_tmn  target_tmx  daily_diff\n",
       "0   서울  2021-07-28 00:00    맑음  26.0  35.0        26.0        35.0         9.0\n",
       "1   서울  2021-07-28 12:00    맑음  26.0  35.0        25.0        34.0         9.0\n",
       "2   서울  2021-07-29 00:00    맑음  25.0  34.0        25.0        34.0         9.0\n",
       "3   서울  2021-07-29 12:00  구름많음  25.0  34.0        26.0        34.0         9.0\n",
       "4   서울  2021-07-30 00:00  구름많음  26.0  34.0        26.0        34.0         8.0"
      ],
      "text/html": [
       "<div>\n",
       "<style scoped>\n",
       "    .dataframe tbody tr th:only-of-type {\n",
       "        vertical-align: middle;\n",
       "    }\n",
       "\n",
       "    .dataframe tbody tr th {\n",
       "        vertical-align: top;\n",
       "    }\n",
       "\n",
       "    .dataframe thead th {\n",
       "        text-align: right;\n",
       "    }\n",
       "</style>\n",
       "<table border=\"1\" class=\"dataframe\">\n",
       "  <thead>\n",
       "    <tr style=\"text-align: right;\">\n",
       "      <th></th>\n",
       "      <th>city</th>\n",
       "      <th>tmEf</th>\n",
       "      <th>wf</th>\n",
       "      <th>tmn</th>\n",
       "      <th>tmx</th>\n",
       "      <th>target_tmn</th>\n",
       "      <th>target_tmx</th>\n",
       "      <th>daily_diff</th>\n",
       "    </tr>\n",
       "  </thead>\n",
       "  <tbody>\n",
       "    <tr>\n",
       "      <th>0</th>\n",
       "      <td>서울</td>\n",
       "      <td>2021-07-28 00:00</td>\n",
       "      <td>맑음</td>\n",
       "      <td>26.0</td>\n",
       "      <td>35.0</td>\n",
       "      <td>26.0</td>\n",
       "      <td>35.0</td>\n",
       "      <td>9.0</td>\n",
       "    </tr>\n",
       "    <tr>\n",
       "      <th>1</th>\n",
       "      <td>서울</td>\n",
       "      <td>2021-07-28 12:00</td>\n",
       "      <td>맑음</td>\n",
       "      <td>26.0</td>\n",
       "      <td>35.0</td>\n",
       "      <td>25.0</td>\n",
       "      <td>34.0</td>\n",
       "      <td>9.0</td>\n",
       "    </tr>\n",
       "    <tr>\n",
       "      <th>2</th>\n",
       "      <td>서울</td>\n",
       "      <td>2021-07-29 00:00</td>\n",
       "      <td>맑음</td>\n",
       "      <td>25.0</td>\n",
       "      <td>34.0</td>\n",
       "      <td>25.0</td>\n",
       "      <td>34.0</td>\n",
       "      <td>9.0</td>\n",
       "    </tr>\n",
       "    <tr>\n",
       "      <th>3</th>\n",
       "      <td>서울</td>\n",
       "      <td>2021-07-29 12:00</td>\n",
       "      <td>구름많음</td>\n",
       "      <td>25.0</td>\n",
       "      <td>34.0</td>\n",
       "      <td>26.0</td>\n",
       "      <td>34.0</td>\n",
       "      <td>9.0</td>\n",
       "    </tr>\n",
       "    <tr>\n",
       "      <th>4</th>\n",
       "      <td>서울</td>\n",
       "      <td>2021-07-30 00:00</td>\n",
       "      <td>구름많음</td>\n",
       "      <td>26.0</td>\n",
       "      <td>34.0</td>\n",
       "      <td>26.0</td>\n",
       "      <td>34.0</td>\n",
       "      <td>8.0</td>\n",
       "    </tr>\n",
       "  </tbody>\n",
       "</table>\n",
       "</div>"
      ]
     },
     "metadata": {},
     "execution_count": 14
    }
   ],
   "metadata": {}
  },
  {
   "cell_type": "code",
   "execution_count": 15,
   "source": [
    "#도시별 평균일교차\r\n",
    "\r\n",
    "df.groupby('city')[['daily_diff']].mean().sort_values(by= 'daily_diff', ascending = False).plot.bar(figsize = (20,6))\r\n",
    "plt.title('도시별 평균 일교차')\r\n",
    "plt.xticks(rotation = 0)\r\n",
    "plt.show()"
   ],
   "outputs": [
    {
     "output_type": "display_data",
     "data": {
      "text/plain": [
       "<Figure size 1440x432 with 1 Axes>"
      ],
      "image/png": "[encoded data removed]"
     },
     "metadata": {
      "needs_background": "light"
     }
    }
   ],
   "metadata": {}
  },
  {
   "cell_type": "markdown",
   "source": [
    "### 시계열 데이터 그려보기"
   ],
   "metadata": {}
  },
  {
   "cell_type": "code",
   "execution_count": 16,
   "source": [
    "df_time_index = df.drop(['target_tmn','target_tmx'], axis = 1)\r\n",
    "df_time_index.index = pd.to_datetime(df['tmEf'])\r\n",
    "df_time_index.head()"
   ],
   "outputs": [
    {
     "output_type": "execute_result",
     "data": {
      "text/plain": [
       "                    city              tmEf    wf   tmn   tmx  daily_diff\n",
       "tmEf                                                                    \n",
       "2021-07-28 00:00:00   서울  2021-07-28 00:00    맑음  26.0  35.0         9.0\n",
       "2021-07-28 12:00:00   서울  2021-07-28 12:00    맑음  26.0  35.0         9.0\n",
       "2021-07-29 00:00:00   서울  2021-07-29 00:00    맑음  25.0  34.0         9.0\n",
       "2021-07-29 12:00:00   서울  2021-07-29 12:00  구름많음  25.0  34.0         9.0\n",
       "2021-07-30 00:00:00   서울  2021-07-30 00:00  구름많음  26.0  34.0         8.0"
      ],
      "text/html": [
       "<div>\n",
       "<style scoped>\n",
       "    .dataframe tbody tr th:only-of-type {\n",
       "        vertical-align: middle;\n",
       "    }\n",
       "\n",
       "    .dataframe tbody tr th {\n",
       "        vertical-align: top;\n",
       "    }\n",
       "\n",
       "    .dataframe thead th {\n",
       "        text-align: right;\n",
       "    }\n",
       "</style>\n",
       "<table border=\"1\" class=\"dataframe\">\n",
       "  <thead>\n",
       "    <tr style=\"text-align: right;\">\n",
       "      <th></th>\n",
       "      <th>city</th>\n",
       "      <th>tmEf</th>\n",
       "      <th>wf</th>\n",
       "      <th>tmn</th>\n",
       "      <th>tmx</th>\n",
       "      <th>daily_diff</th>\n",
       "    </tr>\n",
       "    <tr>\n",
       "      <th>tmEf</th>\n",
       "      <th></th>\n",
       "      <th></th>\n",
       "      <th></th>\n",
       "      <th></th>\n",
       "      <th></th>\n",
       "      <th></th>\n",
       "    </tr>\n",
       "  </thead>\n",
       "  <tbody>\n",
       "    <tr>\n",
       "      <th>2021-07-28 00:00:00</th>\n",
       "      <td>서울</td>\n",
       "      <td>2021-07-28 00:00</td>\n",
       "      <td>맑음</td>\n",
       "      <td>26.0</td>\n",
       "      <td>35.0</td>\n",
       "      <td>9.0</td>\n",
       "    </tr>\n",
       "    <tr>\n",
       "      <th>2021-07-28 12:00:00</th>\n",
       "      <td>서울</td>\n",
       "      <td>2021-07-28 12:00</td>\n",
       "      <td>맑음</td>\n",
       "      <td>26.0</td>\n",
       "      <td>35.0</td>\n",
       "      <td>9.0</td>\n",
       "    </tr>\n",
       "    <tr>\n",
       "      <th>2021-07-29 00:00:00</th>\n",
       "      <td>서울</td>\n",
       "      <td>2021-07-29 00:00</td>\n",
       "      <td>맑음</td>\n",
       "      <td>25.0</td>\n",
       "      <td>34.0</td>\n",
       "      <td>9.0</td>\n",
       "    </tr>\n",
       "    <tr>\n",
       "      <th>2021-07-29 12:00:00</th>\n",
       "      <td>서울</td>\n",
       "      <td>2021-07-29 12:00</td>\n",
       "      <td>구름많음</td>\n",
       "      <td>25.0</td>\n",
       "      <td>34.0</td>\n",
       "      <td>9.0</td>\n",
       "    </tr>\n",
       "    <tr>\n",
       "      <th>2021-07-30 00:00:00</th>\n",
       "      <td>서울</td>\n",
       "      <td>2021-07-30 00:00</td>\n",
       "      <td>구름많음</td>\n",
       "      <td>26.0</td>\n",
       "      <td>34.0</td>\n",
       "      <td>8.0</td>\n",
       "    </tr>\n",
       "  </tbody>\n",
       "</table>\n",
       "</div>"
      ]
     },
     "metadata": {},
     "execution_count": 16
    }
   ],
   "metadata": {}
  },
  {
   "cell_type": "code",
   "execution_count": 17,
   "source": [
    "#서울과 화성의 온도 그래프\r\n",
    "\r\n",
    "fig, ax = plt.subplots(1,2, figsize=(12,5))\r\n",
    "ax[0].set_title('서울')\r\n",
    "ax[1].set_title('화성')\r\n",
    "df_time_index[df_time_index['city'] == '서울'].plot(ax = ax[0])\r\n",
    "df_time_index[df_time_index['city'] == '화성'].plot(ax = ax[1])\r\n",
    "plt.show()"
   ],
   "outputs": [
    {
     "output_type": "display_data",
     "data": {
      "text/plain": [
       "<Figure size 864x360 with 2 Axes>"
      ],
      "image/png": "[encoded data removed]"
     },
     "metadata": {
      "needs_background": "light"
     }
    }
   ],
   "metadata": {}
  },
  {
   "cell_type": "code",
   "execution_count": 18,
   "source": [
    "# 5개 지역 최고기온 그래프\r\n",
    "cites = ['서울','고양','인천','안양','백령도']\r\n",
    "plt.figure(figsize = (10, 5))\r\n",
    "for city in cites:\r\n",
    "    plt.plot(df_time_index[df_time_index['city'] == city]['tmx'])\r\n",
    "plt.legend(cites)\r\n",
    "plt.ylim([25, 40])\r\n",
    "plt.show()"
   ],
   "outputs": [
    {
     "output_type": "display_data",
     "data": {
      "text/plain": [
       "<Figure size 720x360 with 1 Axes>"
      ],
      "image/png": "[encoded data removed]"
     },
     "metadata": {
      "needs_background": "light"
     }
    }
   ],
   "metadata": {}
  },
  {
   "cell_type": "markdown",
   "source": [
    "### 서울 시계열 그래프에 예측선 추가"
   ],
   "metadata": {}
  },
  {
   "cell_type": "code",
   "execution_count": 19,
   "source": [
    "# 서울의 최고기온 예측선 그리기\r\n",
    "pred_line = pd.DataFrame(model.predict(x_data[x_data['city_서울'] == 1]), columns = ['tmEf', 'tmx'])\r\n",
    "pred_line['tmEf'] = df[df['city'] == '서울']['tmEf']\r\n",
    "pred_line.index = pd.to_datetime(pred_line['tmEf'])"
   ],
   "outputs": [],
   "metadata": {}
  },
  {
   "cell_type": "code",
   "execution_count": 20,
   "source": [
    "pred_line"
   ],
   "outputs": [
    {
     "output_type": "execute_result",
     "data": {
      "text/plain": [
       "                                 tmEf        tmx\n",
       "tmEf                                            \n",
       "2021-07-28 00:00:00  2021-07-28 00:00  34.653628\n",
       "2021-07-28 12:00:00  2021-07-28 12:00  34.653628\n",
       "2021-07-29 00:00:00  2021-07-29 00:00  34.261050\n",
       "2021-07-29 12:00:00  2021-07-29 12:00  34.261050\n",
       "2021-07-30 00:00:00  2021-07-30 00:00  34.175113\n",
       "2021-07-30 12:00:00  2021-07-30 12:00  34.175113\n",
       "2021-07-31 00:00:00  2021-07-31 00:00  34.653628\n",
       "2021-07-31 12:00:00  2021-07-31 12:00  34.653628\n",
       "2021-08-01 00:00:00  2021-08-01 00:00  34.175113\n",
       "2021-08-01 12:00:00  2021-08-01 12:00  34.175113\n",
       "2021-08-02 00:00:00  2021-08-02 00:00  34.175113\n",
       "2021-08-03 00:00:00  2021-08-03 00:00  34.175113"
      ],
      "text/html": [
       "<div>\n",
       "<style scoped>\n",
       "    .dataframe tbody tr th:only-of-type {\n",
       "        vertical-align: middle;\n",
       "    }\n",
       "\n",
       "    .dataframe tbody tr th {\n",
       "        vertical-align: top;\n",
       "    }\n",
       "\n",
       "    .dataframe thead th {\n",
       "        text-align: right;\n",
       "    }\n",
       "</style>\n",
       "<table border=\"1\" class=\"dataframe\">\n",
       "  <thead>\n",
       "    <tr style=\"text-align: right;\">\n",
       "      <th></th>\n",
       "      <th>tmEf</th>\n",
       "      <th>tmx</th>\n",
       "    </tr>\n",
       "    <tr>\n",
       "      <th>tmEf</th>\n",
       "      <th></th>\n",
       "      <th></th>\n",
       "    </tr>\n",
       "  </thead>\n",
       "  <tbody>\n",
       "    <tr>\n",
       "      <th>2021-07-28 00:00:00</th>\n",
       "      <td>2021-07-28 00:00</td>\n",
       "      <td>34.653628</td>\n",
       "    </tr>\n",
       "    <tr>\n",
       "      <th>2021-07-28 12:00:00</th>\n",
       "      <td>2021-07-28 12:00</td>\n",
       "      <td>34.653628</td>\n",
       "    </tr>\n",
       "    <tr>\n",
       "      <th>2021-07-29 00:00:00</th>\n",
       "      <td>2021-07-29 00:00</td>\n",
       "      <td>34.261050</td>\n",
       "    </tr>\n",
       "    <tr>\n",
       "      <th>2021-07-29 12:00:00</th>\n",
       "      <td>2021-07-29 12:00</td>\n",
       "      <td>34.261050</td>\n",
       "    </tr>\n",
       "    <tr>\n",
       "      <th>2021-07-30 00:00:00</th>\n",
       "      <td>2021-07-30 00:00</td>\n",
       "      <td>34.175113</td>\n",
       "    </tr>\n",
       "    <tr>\n",
       "      <th>2021-07-30 12:00:00</th>\n",
       "      <td>2021-07-30 12:00</td>\n",
       "      <td>34.175113</td>\n",
       "    </tr>\n",
       "    <tr>\n",
       "      <th>2021-07-31 00:00:00</th>\n",
       "      <td>2021-07-31 00:00</td>\n",
       "      <td>34.653628</td>\n",
       "    </tr>\n",
       "    <tr>\n",
       "      <th>2021-07-31 12:00:00</th>\n",
       "      <td>2021-07-31 12:00</td>\n",
       "      <td>34.653628</td>\n",
       "    </tr>\n",
       "    <tr>\n",
       "      <th>2021-08-01 00:00:00</th>\n",
       "      <td>2021-08-01 00:00</td>\n",
       "      <td>34.175113</td>\n",
       "    </tr>\n",
       "    <tr>\n",
       "      <th>2021-08-01 12:00:00</th>\n",
       "      <td>2021-08-01 12:00</td>\n",
       "      <td>34.175113</td>\n",
       "    </tr>\n",
       "    <tr>\n",
       "      <th>2021-08-02 00:00:00</th>\n",
       "      <td>2021-08-02 00:00</td>\n",
       "      <td>34.175113</td>\n",
       "    </tr>\n",
       "    <tr>\n",
       "      <th>2021-08-03 00:00:00</th>\n",
       "      <td>2021-08-03 00:00</td>\n",
       "      <td>34.175113</td>\n",
       "    </tr>\n",
       "  </tbody>\n",
       "</table>\n",
       "</div>"
      ]
     },
     "metadata": {},
     "execution_count": 20
    }
   ],
   "metadata": {}
  },
  {
   "cell_type": "code",
   "execution_count": 28,
   "source": [
    "plt.figure(figsize = (12, 10))\r\n",
    "plt.plot(pred_line['tmx'])\r\n",
    "plt.ylim([30, 40])\r\n",
    "plt.show()"
   ],
   "outputs": [
    {
     "output_type": "display_data",
     "data": {
      "text/plain": [
       "<Figure size 864x720 with 1 Axes>"
      ],
      "image/png": "[encoded data removed]"
     },
     "metadata": {
      "needs_background": "light"
     }
    }
   ],
   "metadata": {}
  },
  {
   "cell_type": "code",
   "execution_count": 27,
   "source": [
    "# 기존 데이터 선과 함께 보기\r\n",
    "plt.figure(figsize = (12, 10))\r\n",
    "plt.plot(df_time_index[df_time_index['city'] == '서울']['tmx'], 'rs-', label='실제값')\r\n",
    "plt.plot(pred_line['tmx'], 'bs-', label='예측값')\r\n",
    "plt.legend()\r\n",
    "plt.xticks(rotation = 45)\r\n",
    "plt.ylim([30, 40])\r\n",
    "plt.show()"
   ],
   "outputs": [
    {
     "output_type": "display_data",
     "data": {
      "text/plain": [
       "<Figure size 864x720 with 1 Axes>"
      ],
      "image/png": "[encoded data removed]"
     },
     "metadata": {
      "needs_background": "light"
     }
    }
   ],
   "metadata": {}
  },
  {
   "cell_type": "markdown",
   "source": [
    "### 최고기온 최빈값, 누적합계, 백분율 "
   ],
   "metadata": {}
  },
  {
   "cell_type": "code",
   "execution_count": 23,
   "source": [
    "#최고기온 sidetable\r\n",
    "!pip install sidetable\r\n",
    "import sidetable \r\n",
    "df.stb.freq(['tmx'], style=True)"
   ],
   "outputs": [
    {
     "output_type": "stream",
     "name": "stdout",
     "text": [
      "Requirement already satisfied: sidetable in c:\\users\\medici\\anaconda3\\lib\\site-packages (0.8.0)\n",
      "Requirement already satisfied: pandas>=1.0 in c:\\users\\medici\\anaconda3\\lib\\site-packages (from sidetable) (1.2.4)\n",
      "Requirement already satisfied: pytz>=2017.3 in c:\\users\\medici\\anaconda3\\lib\\site-packages (from pandas>=1.0->sidetable) (2020.1)\n",
      "Requirement already satisfied: numpy>=1.16.5 in c:\\users\\medici\\anaconda3\\lib\\site-packages (from pandas>=1.0->sidetable) (1.19.2)\n",
      "Requirement already satisfied: python-dateutil>=2.7.3 in c:\\users\\medici\\anaconda3\\lib\\site-packages (from pandas>=1.0->sidetable) (2.8.1)\n",
      "Requirement already satisfied: six>=1.5 in c:\\users\\medici\\anaconda3\\lib\\site-packages (from python-dateutil>=2.7.3->pandas>=1.0->sidetable) (1.15.0)\n"
     ]
    },
    {
     "output_type": "execute_result",
     "data": {
      "text/plain": [
       "<pandas.io.formats.style.Styler at 0x26db6c43940>"
      ],
      "text/html": [
       "<style  type=\"text/css\" >\n",
       "</style><table id=\"T_0d40e_\" ><thead>    <tr>        <th class=\"blank level0\" ></th>        <th class=\"col_heading level0 col0\" >tmx</th>        <th class=\"col_heading level0 col1\" >count</th>        <th class=\"col_heading level0 col2\" >percent</th>        <th class=\"col_heading level0 col3\" >cumulative_count</th>        <th class=\"col_heading level0 col4\" >cumulative_percent</th>    </tr></thead><tbody>\n",
       "                <tr>\n",
       "                        <th id=\"T_0d40e_level0_row0\" class=\"row_heading level0 row0\" >0</th>\n",
       "                        <td id=\"T_0d40e_row0_col0\" class=\"data row0 col0\" >33.000000</td>\n",
       "                        <td id=\"T_0d40e_row0_col1\" class=\"data row0 col1\" >174</td>\n",
       "                        <td id=\"T_0d40e_row0_col2\" class=\"data row0 col2\" >41.43%</td>\n",
       "                        <td id=\"T_0d40e_row0_col3\" class=\"data row0 col3\" >174</td>\n",
       "                        <td id=\"T_0d40e_row0_col4\" class=\"data row0 col4\" >41.43%</td>\n",
       "            </tr>\n",
       "            <tr>\n",
       "                        <th id=\"T_0d40e_level0_row1\" class=\"row_heading level0 row1\" >1</th>\n",
       "                        <td id=\"T_0d40e_row1_col0\" class=\"data row1 col0\" >34.000000</td>\n",
       "                        <td id=\"T_0d40e_row1_col1\" class=\"data row1 col1\" >145</td>\n",
       "                        <td id=\"T_0d40e_row1_col2\" class=\"data row1 col2\" >34.52%</td>\n",
       "                        <td id=\"T_0d40e_row1_col3\" class=\"data row1 col3\" >319</td>\n",
       "                        <td id=\"T_0d40e_row1_col4\" class=\"data row1 col4\" >75.95%</td>\n",
       "            </tr>\n",
       "            <tr>\n",
       "                        <th id=\"T_0d40e_level0_row2\" class=\"row_heading level0 row2\" >2</th>\n",
       "                        <td id=\"T_0d40e_row2_col0\" class=\"data row2 col0\" >32.000000</td>\n",
       "                        <td id=\"T_0d40e_row2_col1\" class=\"data row2 col1\" >63</td>\n",
       "                        <td id=\"T_0d40e_row2_col2\" class=\"data row2 col2\" >15.00%</td>\n",
       "                        <td id=\"T_0d40e_row2_col3\" class=\"data row2 col3\" >382</td>\n",
       "                        <td id=\"T_0d40e_row2_col4\" class=\"data row2 col4\" >90.95%</td>\n",
       "            </tr>\n",
       "            <tr>\n",
       "                        <th id=\"T_0d40e_level0_row3\" class=\"row_heading level0 row3\" >3</th>\n",
       "                        <td id=\"T_0d40e_row3_col0\" class=\"data row3 col0\" >35.000000</td>\n",
       "                        <td id=\"T_0d40e_row3_col1\" class=\"data row3 col1\" >22</td>\n",
       "                        <td id=\"T_0d40e_row3_col2\" class=\"data row3 col2\" >5.24%</td>\n",
       "                        <td id=\"T_0d40e_row3_col3\" class=\"data row3 col3\" >404</td>\n",
       "                        <td id=\"T_0d40e_row3_col4\" class=\"data row3 col4\" >96.19%</td>\n",
       "            </tr>\n",
       "            <tr>\n",
       "                        <th id=\"T_0d40e_level0_row4\" class=\"row_heading level0 row4\" >4</th>\n",
       "                        <td id=\"T_0d40e_row4_col0\" class=\"data row4 col0\" >29.000000</td>\n",
       "                        <td id=\"T_0d40e_row4_col1\" class=\"data row4 col1\" >6</td>\n",
       "                        <td id=\"T_0d40e_row4_col2\" class=\"data row4 col2\" >1.43%</td>\n",
       "                        <td id=\"T_0d40e_row4_col3\" class=\"data row4 col3\" >410</td>\n",
       "                        <td id=\"T_0d40e_row4_col4\" class=\"data row4 col4\" >97.62%</td>\n",
       "            </tr>\n",
       "            <tr>\n",
       "                        <th id=\"T_0d40e_level0_row5\" class=\"row_heading level0 row5\" >5</th>\n",
       "                        <td id=\"T_0d40e_row5_col0\" class=\"data row5 col0\" >28.000000</td>\n",
       "                        <td id=\"T_0d40e_row5_col1\" class=\"data row5 col1\" >6</td>\n",
       "                        <td id=\"T_0d40e_row5_col2\" class=\"data row5 col2\" >1.43%</td>\n",
       "                        <td id=\"T_0d40e_row5_col3\" class=\"data row5 col3\" >416</td>\n",
       "                        <td id=\"T_0d40e_row5_col4\" class=\"data row5 col4\" >99.05%</td>\n",
       "            </tr>\n",
       "            <tr>\n",
       "                        <th id=\"T_0d40e_level0_row6\" class=\"row_heading level0 row6\" >6</th>\n",
       "                        <td id=\"T_0d40e_row6_col0\" class=\"data row6 col0\" >31.000000</td>\n",
       "                        <td id=\"T_0d40e_row6_col1\" class=\"data row6 col1\" >2</td>\n",
       "                        <td id=\"T_0d40e_row6_col2\" class=\"data row6 col2\" >0.48%</td>\n",
       "                        <td id=\"T_0d40e_row6_col3\" class=\"data row6 col3\" >418</td>\n",
       "                        <td id=\"T_0d40e_row6_col4\" class=\"data row6 col4\" >99.52%</td>\n",
       "            </tr>\n",
       "            <tr>\n",
       "                        <th id=\"T_0d40e_level0_row7\" class=\"row_heading level0 row7\" >7</th>\n",
       "                        <td id=\"T_0d40e_row7_col0\" class=\"data row7 col0\" >30.000000</td>\n",
       "                        <td id=\"T_0d40e_row7_col1\" class=\"data row7 col1\" >2</td>\n",
       "                        <td id=\"T_0d40e_row7_col2\" class=\"data row7 col2\" >0.48%</td>\n",
       "                        <td id=\"T_0d40e_row7_col3\" class=\"data row7 col3\" >420</td>\n",
       "                        <td id=\"T_0d40e_row7_col4\" class=\"data row7 col4\" >100.00%</td>\n",
       "            </tr>\n",
       "    </tbody></table>"
      ]
     },
     "metadata": {},
     "execution_count": 23
    }
   ],
   "metadata": {
    "scrolled": true
   }
  },
  {
   "cell_type": "markdown",
   "source": [
    "### 도시별 최고기온 산점도"
   ],
   "metadata": {}
  },
  {
   "cell_type": "code",
   "execution_count": 24,
   "source": [
    "!pip install plotly_express\r\n",
    "import plotly.express as px"
   ],
   "outputs": [
    {
     "output_type": "stream",
     "name": "stdout",
     "text": [
      "Requirement already satisfied: plotly_express in c:\\users\\medici\\anaconda3\\lib\\site-packages (0.4.1)\n",
      "Requirement already satisfied: scipy>=0.18 in c:\\users\\medici\\anaconda3\\lib\\site-packages (from plotly_express) (1.5.2)\n",
      "Requirement already satisfied: plotly>=4.1.0 in c:\\users\\medici\\anaconda3\\lib\\site-packages (from plotly_express) (5.1.0)\n",
      "Requirement already satisfied: statsmodels>=0.9.0 in c:\\users\\medici\\anaconda3\\lib\\site-packages (from plotly_express) (0.12.0)\n",
      "Requirement already satisfied: numpy>=1.11 in c:\\users\\medici\\anaconda3\\lib\\site-packages (from plotly_express) (1.19.2)\n",
      "Requirement already satisfied: patsy>=0.5 in c:\\users\\medici\\anaconda3\\lib\\site-packages (from plotly_express) (0.5.1)\n",
      "Requirement already satisfied: pandas>=0.20.0 in c:\\users\\medici\\anaconda3\\lib\\site-packages (from plotly_express) (1.2.4)\n",
      "Requirement already satisfied: pytz>=2017.3 in c:\\users\\medici\\anaconda3\\lib\\site-packages (from pandas>=0.20.0->plotly_express) (2020.1)\n",
      "Requirement already satisfied: python-dateutil>=2.7.3 in c:\\users\\medici\\anaconda3\\lib\\site-packages (from pandas>=0.20.0->plotly_express) (2.8.1)\n",
      "Requirement already satisfied: six in c:\\users\\medici\\anaconda3\\lib\\site-packages (from patsy>=0.5->plotly_express) (1.15.0)\n",
      "Requirement already satisfied: tenacity>=6.2.0 in c:\\users\\medici\\anaconda3\\lib\\site-packages (from plotly>=4.1.0->plotly_express) (8.0.1)\n"
     ]
    }
   ],
   "metadata": {}
  },
  {
   "cell_type": "code",
   "execution_count": 25,
   "source": [
    "fig = px.scatter(df, x=\"tmx\", y=\"city\", color=\"tmEf\",\r\n",
    "        labels=dict(tmx=\"최고 기온\", city=\"지역\", tmEf=\"날짜\"))\r\n",
    "fig.show()"
   ],
   "outputs": [
    {
     "output_type": "display_data",
     "data": {
      "application/vnd.plotly.v1+json": {
       "config": {
        "plotlyServerURL": "https://plot.ly"
       },
       "data": [
        {
         "hovertemplate": "날짜=2021-07-28 00:00<br>최고 기온=%{x}<br>지역=%{y}<extra></extra>",
         "legendgroup": "2021-07-28 00:00",
         "marker": {
          "color": "#636efa",
          "symbol": "circle"
         },
         "mode": "markers",
         "name": "2021-07-28 00:00",
         "orientation": "h",
         "showlegend": true,
         "type": "scatter",
         "x": [
          35,
          33,
          35,
          34,
          34,
          33,
          29,
          34,
          35,
          33,
          33,
          34,
          34,
          32,
          33,
          34,
          34,
          33,
          33,
          33,
          35,
          34,
          33,
          33,
          34,
          34,
          34,
          33,
          34,
          33,
          34,
          33,
          33,
          33,
          32
         ],
         "xaxis": "x",
         "y": [
          "서울",
          "인천",
          "수원",
          "파주",
          "이천",
          "평택",
          "백령도",
          "과천",
          "광명",
          "강화",
          "김포",
          "시흥",
          "안산",
          "부천",
          "의정부",
          "고양",
          "양주",
          "동두천",
          "연천",
          "포천",
          "가평",
          "구리",
          "남양주",
          "양평",
          "하남",
          "안양",
          "오산",
          "화성",
          "성남",
          "의왕",
          "군포",
          "안성",
          "용인",
          "광주",
          "여주"
         ],
         "yaxis": "y"
        },
        {
         "hovertemplate": "날짜=2021-07-28 12:00<br>최고 기온=%{x}<br>지역=%{y}<extra></extra>",
         "legendgroup": "2021-07-28 12:00",
         "marker": {
          "color": "#EF553B",
          "symbol": "circle"
         },
         "mode": "markers",
         "name": "2021-07-28 12:00",
         "orientation": "h",
         "showlegend": true,
         "type": "scatter",
         "x": [
          35,
          33,
          35,
          34,
          34,
          33,
          29,
          34,
          35,
          33,
          33,
          34,
          34,
          32,
          33,
          34,
          34,
          33,
          33,
          33,
          35,
          34,
          33,
          33,
          34,
          34,
          34,
          33,
          34,
          33,
          34,
          33,
          33,
          33,
          32
         ],
         "xaxis": "x",
         "y": [
          "서울",
          "인천",
          "수원",
          "파주",
          "이천",
          "평택",
          "백령도",
          "과천",
          "광명",
          "강화",
          "김포",
          "시흥",
          "안산",
          "부천",
          "의정부",
          "고양",
          "양주",
          "동두천",
          "연천",
          "포천",
          "가평",
          "구리",
          "남양주",
          "양평",
          "하남",
          "안양",
          "오산",
          "화성",
          "성남",
          "의왕",
          "군포",
          "안성",
          "용인",
          "광주",
          "여주"
         ],
         "yaxis": "y"
        },
        {
         "hovertemplate": "날짜=2021-07-29 00:00<br>최고 기온=%{x}<br>지역=%{y}<extra></extra>",
         "legendgroup": "2021-07-29 00:00",
         "marker": {
          "color": "#00cc96",
          "symbol": "circle"
         },
         "mode": "markers",
         "name": "2021-07-29 00:00",
         "orientation": "h",
         "showlegend": true,
         "type": "scatter",
         "x": [
          34,
          32,
          34,
          34,
          34,
          34,
          29,
          34,
          34,
          30,
          32,
          33,
          34,
          33,
          34,
          34,
          33,
          33,
          34,
          33,
          34,
          34,
          33,
          33,
          34,
          34,
          34,
          33,
          34,
          33,
          34,
          33,
          33,
          33,
          32
         ],
         "xaxis": "x",
         "y": [
          "서울",
          "인천",
          "수원",
          "파주",
          "이천",
          "평택",
          "백령도",
          "과천",
          "광명",
          "강화",
          "김포",
          "시흥",
          "안산",
          "부천",
          "의정부",
          "고양",
          "양주",
          "동두천",
          "연천",
          "포천",
          "가평",
          "구리",
          "남양주",
          "양평",
          "하남",
          "안양",
          "오산",
          "화성",
          "성남",
          "의왕",
          "군포",
          "안성",
          "용인",
          "광주",
          "여주"
         ],
         "yaxis": "y"
        },
        {
         "hovertemplate": "날짜=2021-07-29 12:00<br>최고 기온=%{x}<br>지역=%{y}<extra></extra>",
         "legendgroup": "2021-07-29 12:00",
         "marker": {
          "color": "#ab63fa",
          "symbol": "circle"
         },
         "mode": "markers",
         "name": "2021-07-29 12:00",
         "orientation": "h",
         "showlegend": true,
         "type": "scatter",
         "x": [
          34,
          32,
          34,
          34,
          34,
          34,
          29,
          34,
          34,
          30,
          32,
          33,
          34,
          33,
          34,
          34,
          33,
          33,
          34,
          33,
          34,
          34,
          33,
          33,
          34,
          34,
          34,
          33,
          34,
          33,
          34,
          33,
          33,
          33,
          32
         ],
         "xaxis": "x",
         "y": [
          "서울",
          "인천",
          "수원",
          "파주",
          "이천",
          "평택",
          "백령도",
          "과천",
          "광명",
          "강화",
          "김포",
          "시흥",
          "안산",
          "부천",
          "의정부",
          "고양",
          "양주",
          "동두천",
          "연천",
          "포천",
          "가평",
          "구리",
          "남양주",
          "양평",
          "하남",
          "안양",
          "오산",
          "화성",
          "성남",
          "의왕",
          "군포",
          "안성",
          "용인",
          "광주",
          "여주"
         ],
         "yaxis": "y"
        },
        {
         "hovertemplate": "날짜=2021-07-30 00:00<br>최고 기온=%{x}<br>지역=%{y}<extra></extra>",
         "legendgroup": "2021-07-30 00:00",
         "marker": {
          "color": "#FFA15A",
          "symbol": "circle"
         },
         "mode": "markers",
         "name": "2021-07-30 00:00",
         "orientation": "h",
         "showlegend": true,
         "type": "scatter",
         "x": [
          34,
          32,
          35,
          34,
          34,
          33,
          29,
          34,
          34,
          32,
          32,
          34,
          35,
          33,
          33,
          34,
          33,
          33,
          33,
          33,
          33,
          34,
          33,
          33,
          34,
          34,
          34,
          33,
          34,
          33,
          34,
          33,
          32,
          33,
          33
         ],
         "xaxis": "x",
         "y": [
          "서울",
          "인천",
          "수원",
          "파주",
          "이천",
          "평택",
          "백령도",
          "과천",
          "광명",
          "강화",
          "김포",
          "시흥",
          "안산",
          "부천",
          "의정부",
          "고양",
          "양주",
          "동두천",
          "연천",
          "포천",
          "가평",
          "구리",
          "남양주",
          "양평",
          "하남",
          "안양",
          "오산",
          "화성",
          "성남",
          "의왕",
          "군포",
          "안성",
          "용인",
          "광주",
          "여주"
         ],
         "yaxis": "y"
        },
        {
         "hovertemplate": "날짜=2021-07-30 12:00<br>최고 기온=%{x}<br>지역=%{y}<extra></extra>",
         "legendgroup": "2021-07-30 12:00",
         "marker": {
          "color": "#19d3f3",
          "symbol": "circle"
         },
         "mode": "markers",
         "name": "2021-07-30 12:00",
         "orientation": "h",
         "showlegend": true,
         "type": "scatter",
         "x": [
          34,
          32,
          35,
          34,
          34,
          33,
          29,
          34,
          34,
          32,
          32,
          34,
          35,
          33,
          33,
          34,
          33,
          33,
          33,
          33,
          33,
          34,
          33,
          33,
          34,
          34,
          34,
          33,
          34,
          33,
          34,
          33,
          32,
          33,
          33
         ],
         "xaxis": "x",
         "y": [
          "서울",
          "인천",
          "수원",
          "파주",
          "이천",
          "평택",
          "백령도",
          "과천",
          "광명",
          "강화",
          "김포",
          "시흥",
          "안산",
          "부천",
          "의정부",
          "고양",
          "양주",
          "동두천",
          "연천",
          "포천",
          "가평",
          "구리",
          "남양주",
          "양평",
          "하남",
          "안양",
          "오산",
          "화성",
          "성남",
          "의왕",
          "군포",
          "안성",
          "용인",
          "광주",
          "여주"
         ],
         "yaxis": "y"
        },
        {
         "hovertemplate": "날짜=2021-07-31 00:00<br>최고 기온=%{x}<br>지역=%{y}<extra></extra>",
         "legendgroup": "2021-07-31 00:00",
         "marker": {
          "color": "#FF6692",
          "symbol": "circle"
         },
         "mode": "markers",
         "name": "2021-07-31 00:00",
         "orientation": "h",
         "showlegend": true,
         "type": "scatter",
         "x": [
          35,
          33,
          34,
          35,
          35,
          34,
          28,
          33,
          34,
          32,
          33,
          33,
          34,
          33,
          33,
          33,
          33,
          33,
          34,
          32,
          33,
          34,
          34,
          33,
          33,
          34,
          34,
          33,
          33,
          33,
          34,
          33,
          32,
          33,
          33
         ],
         "xaxis": "x",
         "y": [
          "서울",
          "인천",
          "수원",
          "파주",
          "이천",
          "평택",
          "백령도",
          "과천",
          "광명",
          "강화",
          "김포",
          "시흥",
          "안산",
          "부천",
          "의정부",
          "고양",
          "양주",
          "동두천",
          "연천",
          "포천",
          "가평",
          "구리",
          "남양주",
          "양평",
          "하남",
          "안양",
          "오산",
          "화성",
          "성남",
          "의왕",
          "군포",
          "안성",
          "용인",
          "광주",
          "여주"
         ],
         "yaxis": "y"
        },
        {
         "hovertemplate": "날짜=2021-07-31 12:00<br>최고 기온=%{x}<br>지역=%{y}<extra></extra>",
         "legendgroup": "2021-07-31 12:00",
         "marker": {
          "color": "#B6E880",
          "symbol": "circle"
         },
         "mode": "markers",
         "name": "2021-07-31 12:00",
         "orientation": "h",
         "showlegend": true,
         "type": "scatter",
         "x": [
          35,
          33,
          34,
          35,
          35,
          34,
          28,
          33,
          34,
          32,
          33,
          33,
          34,
          33,
          33,
          33,
          33,
          33,
          34,
          32,
          33,
          34,
          34,
          33,
          33,
          34,
          34,
          33,
          33,
          33,
          34,
          33,
          32,
          33,
          33
         ],
         "xaxis": "x",
         "y": [
          "서울",
          "인천",
          "수원",
          "파주",
          "이천",
          "평택",
          "백령도",
          "과천",
          "광명",
          "강화",
          "김포",
          "시흥",
          "안산",
          "부천",
          "의정부",
          "고양",
          "양주",
          "동두천",
          "연천",
          "포천",
          "가평",
          "구리",
          "남양주",
          "양평",
          "하남",
          "안양",
          "오산",
          "화성",
          "성남",
          "의왕",
          "군포",
          "안성",
          "용인",
          "광주",
          "여주"
         ],
         "yaxis": "y"
        },
        {
         "hovertemplate": "날짜=2021-08-01 00:00<br>최고 기온=%{x}<br>지역=%{y}<extra></extra>",
         "legendgroup": "2021-08-01 00:00",
         "marker": {
          "color": "#FF97FF",
          "symbol": "circle"
         },
         "mode": "markers",
         "name": "2021-08-01 00:00",
         "orientation": "h",
         "showlegend": true,
         "type": "scatter",
         "x": [
          34,
          32,
          34,
          34,
          35,
          34,
          28,
          33,
          34,
          32,
          33,
          34,
          34,
          33,
          32,
          33,
          32,
          33,
          33,
          32,
          32,
          33,
          32,
          33,
          34,
          33,
          33,
          33,
          33,
          33,
          34,
          32,
          32,
          32,
          31
         ],
         "xaxis": "x",
         "y": [
          "서울",
          "인천",
          "수원",
          "파주",
          "이천",
          "평택",
          "백령도",
          "과천",
          "광명",
          "강화",
          "김포",
          "시흥",
          "안산",
          "부천",
          "의정부",
          "고양",
          "양주",
          "동두천",
          "연천",
          "포천",
          "가평",
          "구리",
          "남양주",
          "양평",
          "하남",
          "안양",
          "오산",
          "화성",
          "성남",
          "의왕",
          "군포",
          "안성",
          "용인",
          "광주",
          "여주"
         ],
         "yaxis": "y"
        },
        {
         "hovertemplate": "날짜=2021-08-01 12:00<br>최고 기온=%{x}<br>지역=%{y}<extra></extra>",
         "legendgroup": "2021-08-01 12:00",
         "marker": {
          "color": "#FECB52",
          "symbol": "circle"
         },
         "mode": "markers",
         "name": "2021-08-01 12:00",
         "orientation": "h",
         "showlegend": true,
         "type": "scatter",
         "x": [
          34,
          32,
          34,
          34,
          35,
          34,
          28,
          33,
          34,
          32,
          33,
          34,
          34,
          33,
          32,
          33,
          32,
          33,
          33,
          32,
          32,
          33,
          32,
          33,
          34,
          33,
          33,
          33,
          33,
          33,
          34,
          32,
          32,
          32,
          31
         ],
         "xaxis": "x",
         "y": [
          "서울",
          "인천",
          "수원",
          "파주",
          "이천",
          "평택",
          "백령도",
          "과천",
          "광명",
          "강화",
          "김포",
          "시흥",
          "안산",
          "부천",
          "의정부",
          "고양",
          "양주",
          "동두천",
          "연천",
          "포천",
          "가평",
          "구리",
          "남양주",
          "양평",
          "하남",
          "안양",
          "오산",
          "화성",
          "성남",
          "의왕",
          "군포",
          "안성",
          "용인",
          "광주",
          "여주"
         ],
         "yaxis": "y"
        },
        {
         "hovertemplate": "날짜=2021-08-02 00:00<br>최고 기온=%{x}<br>지역=%{y}<extra></extra>",
         "legendgroup": "2021-08-02 00:00",
         "marker": {
          "color": "#636efa",
          "symbol": "circle"
         },
         "mode": "markers",
         "name": "2021-08-02 00:00",
         "orientation": "h",
         "showlegend": true,
         "type": "scatter",
         "x": [
          34,
          32,
          35,
          33,
          34,
          33,
          28,
          33,
          33,
          32,
          32,
          34,
          34,
          33,
          33,
          33,
          32,
          33,
          32,
          32,
          33,
          33,
          33,
          33,
          33,
          33,
          34,
          33,
          33,
          34,
          34,
          33,
          32,
          32,
          32
         ],
         "xaxis": "x",
         "y": [
          "서울",
          "인천",
          "수원",
          "파주",
          "이천",
          "평택",
          "백령도",
          "과천",
          "광명",
          "강화",
          "김포",
          "시흥",
          "안산",
          "부천",
          "의정부",
          "고양",
          "양주",
          "동두천",
          "연천",
          "포천",
          "가평",
          "구리",
          "남양주",
          "양평",
          "하남",
          "안양",
          "오산",
          "화성",
          "성남",
          "의왕",
          "군포",
          "안성",
          "용인",
          "광주",
          "여주"
         ],
         "yaxis": "y"
        },
        {
         "hovertemplate": "날짜=2021-08-03 00:00<br>최고 기온=%{x}<br>지역=%{y}<extra></extra>",
         "legendgroup": "2021-08-03 00:00",
         "marker": {
          "color": "#EF553B",
          "symbol": "circle"
         },
         "mode": "markers",
         "name": "2021-08-03 00:00",
         "orientation": "h",
         "showlegend": true,
         "type": "scatter",
         "x": [
          34,
          32,
          34,
          34,
          34,
          33,
          28,
          33,
          34,
          32,
          33,
          34,
          34,
          33,
          33,
          34,
          32,
          33,
          32,
          32,
          34,
          33,
          33,
          32,
          33,
          34,
          34,
          32,
          33,
          34,
          35,
          33,
          32,
          32,
          32
         ],
         "xaxis": "x",
         "y": [
          "서울",
          "인천",
          "수원",
          "파주",
          "이천",
          "평택",
          "백령도",
          "과천",
          "광명",
          "강화",
          "김포",
          "시흥",
          "안산",
          "부천",
          "의정부",
          "고양",
          "양주",
          "동두천",
          "연천",
          "포천",
          "가평",
          "구리",
          "남양주",
          "양평",
          "하남",
          "안양",
          "오산",
          "화성",
          "성남",
          "의왕",
          "군포",
          "안성",
          "용인",
          "광주",
          "여주"
         ],
         "yaxis": "y"
        }
       ],
       "layout": {
        "legend": {
         "title": {
          "text": "날짜"
         },
         "tracegroupgap": 0
        },
        "margin": {
         "t": 60
        },
        "template": {
         "data": {
          "bar": [
           {
            "error_x": {
             "color": "#2a3f5f"
            },
            "error_y": {
             "color": "#2a3f5f"
            },
            "marker": {
             "line": {
              "color": "#E5ECF6",
              "width": 0.5
             },
             "pattern": {
              "fillmode": "overlay",
              "size": 10,
              "solidity": 0.2
             }
            },
            "type": "bar"
           }
          ],
          "barpolar": [
           {
            "marker": {
             "line": {
              "color": "#E5ECF6",
              "width": 0.5
             },
             "pattern": {
              "fillmode": "overlay",
              "size": 10,
              "solidity": 0.2
             }
            },
            "type": "barpolar"
           }
          ],
          "carpet": [
           {
            "aaxis": {
             "endlinecolor": "#2a3f5f",
             "gridcolor": "white",
             "linecolor": "white",
             "minorgridcolor": "white",
             "startlinecolor": "#2a3f5f"
            },
            "baxis": {
             "endlinecolor": "#2a3f5f",
             "gridcolor": "white",
             "linecolor": "white",
             "minorgridcolor": "white",
             "startlinecolor": "#2a3f5f"
            },
            "type": "carpet"
           }
          ],
          "choropleth": [
           {
            "colorbar": {
             "outlinewidth": 0,
             "ticks": ""
            },
            "type": "choropleth"
           }
          ],
          "contour": [
           {
            "colorbar": {
             "outlinewidth": 0,
             "ticks": ""
            },
            "colorscale": [
             [
              0,
              "#0d0887"
             ],
             [
              0.1111111111111111,
              "#46039f"
             ],
             [
              0.2222222222222222,
              "#7201a8"
             ],
             [
              0.3333333333333333,
              "#9c179e"
             ],
             [
              0.4444444444444444,
              "#bd3786"
             ],
             [
              0.5555555555555556,
              "#d8576b"
             ],
             [
              0.6666666666666666,
              "#ed7953"
             ],
             [
              0.7777777777777778,
              "#fb9f3a"
             ],
             [
              0.8888888888888888,
              "#fdca26"
             ],
             [
              1,
              "#f0f921"
             ]
            ],
            "type": "contour"
           }
          ],
          "contourcarpet": [
           {
            "colorbar": {
             "outlinewidth": 0,
             "ticks": ""
            },
            "type": "contourcarpet"
           }
          ],
          "heatmap": [
           {
            "colorbar": {
             "outlinewidth": 0,
             "ticks": ""
            },
            "colorscale": [
             [
              0,
              "#0d0887"
             ],
             [
              0.1111111111111111,
              "#46039f"
             ],
             [
              0.2222222222222222,
              "#7201a8"
             ],
             [
              0.3333333333333333,
              "#9c179e"
             ],
             [
              0.4444444444444444,
              "#bd3786"
             ],
             [
              0.5555555555555556,
              "#d8576b"
             ],
             [
              0.6666666666666666,
              "#ed7953"
             ],
             [
              0.7777777777777778,
              "#fb9f3a"
             ],
             [
              0.8888888888888888,
              "#fdca26"
             ],
             [
              1,
              "#f0f921"
             ]
            ],
            "type": "heatmap"
           }
          ],
          "heatmapgl": [
           {
            "colorbar": {
             "outlinewidth": 0,
             "ticks": ""
            },
            "colorscale": [
             [
              0,
              "#0d0887"
             ],
             [
              0.1111111111111111,
              "#46039f"
             ],
             [
              0.2222222222222222,
              "#7201a8"
             ],
             [
              0.3333333333333333,
              "#9c179e"
             ],
             [
              0.4444444444444444,
              "#bd3786"
             ],
             [
              0.5555555555555556,
              "#d8576b"
             ],
             [
              0.6666666666666666,
              "#ed7953"
             ],
             [
              0.7777777777777778,
              "#fb9f3a"
             ],
             [
              0.8888888888888888,
              "#fdca26"
             ],
             [
              1,
              "#f0f921"
             ]
            ],
            "type": "heatmapgl"
           }
          ],
          "histogram": [
           {
            "marker": {
             "pattern": {
              "fillmode": "overlay",
              "size": 10,
              "solidity": 0.2
             }
            },
            "type": "histogram"
           }
          ],
          "histogram2d": [
           {
            "colorbar": {
             "outlinewidth": 0,
             "ticks": ""
            },
            "colorscale": [
             [
              0,
              "#0d0887"
             ],
             [
              0.1111111111111111,
              "#46039f"
             ],
             [
              0.2222222222222222,
              "#7201a8"
             ],
             [
              0.3333333333333333,
              "#9c179e"
             ],
             [
              0.4444444444444444,
              "#bd3786"
             ],
             [
              0.5555555555555556,
              "#d8576b"
             ],
             [
              0.6666666666666666,
              "#ed7953"
             ],
             [
              0.7777777777777778,
              "#fb9f3a"
             ],
             [
              0.8888888888888888,
              "#fdca26"
             ],
             [
              1,
              "#f0f921"
             ]
            ],
            "type": "histogram2d"
           }
          ],
          "histogram2dcontour": [
           {
            "colorbar": {
             "outlinewidth": 0,
             "ticks": ""
            },
            "colorscale": [
             [
              0,
              "#0d0887"
             ],
             [
              0.1111111111111111,
              "#46039f"
             ],
             [
              0.2222222222222222,
              "#7201a8"
             ],
             [
              0.3333333333333333,
              "#9c179e"
             ],
             [
              0.4444444444444444,
              "#bd3786"
             ],
             [
              0.5555555555555556,
              "#d8576b"
             ],
             [
              0.6666666666666666,
              "#ed7953"
             ],
             [
              0.7777777777777778,
              "#fb9f3a"
             ],
             [
              0.8888888888888888,
              "#fdca26"
             ],
             [
              1,
              "#f0f921"
             ]
            ],
            "type": "histogram2dcontour"
           }
          ],
          "mesh3d": [
           {
            "colorbar": {
             "outlinewidth": 0,
             "ticks": ""
            },
            "type": "mesh3d"
           }
          ],
          "parcoords": [
           {
            "line": {
             "colorbar": {
              "outlinewidth": 0,
              "ticks": ""
             }
            },
            "type": "parcoords"
           }
          ],
          "pie": [
           {
            "automargin": true,
            "type": "pie"
           }
          ],
          "scatter": [
           {
            "marker": {
             "colorbar": {
              "outlinewidth": 0,
              "ticks": ""
             }
            },
            "type": "scatter"
           }
          ],
          "scatter3d": [
           {
            "line": {
             "colorbar": {
              "outlinewidth": 0,
              "ticks": ""
             }
            },
            "marker": {
             "colorbar": {
              "outlinewidth": 0,
              "ticks": ""
             }
            },
            "type": "scatter3d"
           }
          ],
          "scattercarpet": [
           {
            "marker": {
             "colorbar": {
              "outlinewidth": 0,
              "ticks": ""
             }
            },
            "type": "scattercarpet"
           }
          ],
          "scattergeo": [
           {
            "marker": {
             "colorbar": {
              "outlinewidth": 0,
              "ticks": ""
             }
            },
            "type": "scattergeo"
           }
          ],
          "scattergl": [
           {
            "marker": {
             "colorbar": {
              "outlinewidth": 0,
              "ticks": ""
             }
            },
            "type": "scattergl"
           }
          ],
          "scattermapbox": [
           {
            "marker": {
             "colorbar": {
              "outlinewidth": 0,
              "ticks": ""
             }
            },
            "type": "scattermapbox"
           }
          ],
          "scatterpolar": [
           {
            "marker": {
             "colorbar": {
              "outlinewidth": 0,
              "ticks": ""
             }
            },
            "type": "scatterpolar"
           }
          ],
          "scatterpolargl": [
           {
            "marker": {
             "colorbar": {
              "outlinewidth": 0,
              "ticks": ""
             }
            },
            "type": "scatterpolargl"
           }
          ],
          "scatterternary": [
           {
            "marker": {
             "colorbar": {
              "outlinewidth": 0,
              "ticks": ""
             }
            },
            "type": "scatterternary"
           }
          ],
          "surface": [
           {
            "colorbar": {
             "outlinewidth": 0,
             "ticks": ""
            },
            "colorscale": [
             [
              0,
              "#0d0887"
             ],
             [
              0.1111111111111111,
              "#46039f"
             ],
             [
              0.2222222222222222,
              "#7201a8"
             ],
             [
              0.3333333333333333,
              "#9c179e"
             ],
             [
              0.4444444444444444,
              "#bd3786"
             ],
             [
              0.5555555555555556,
              "#d8576b"
             ],
             [
              0.6666666666666666,
              "#ed7953"
             ],
             [
              0.7777777777777778,
              "#fb9f3a"
             ],
             [
              0.8888888888888888,
              "#fdca26"
             ],
             [
              1,
              "#f0f921"
             ]
            ],
            "type": "surface"
           }
          ],
          "table": [
           {
            "cells": {
             "fill": {
              "color": "#EBF0F8"
             },
             "line": {
              "color": "white"
             }
            },
            "header": {
             "fill": {
              "color": "#C8D4E3"
             },
             "line": {
              "color": "white"
             }
            },
            "type": "table"
           }
          ]
         },
         "layout": {
          "annotationdefaults": {
           "arrowcolor": "#2a3f5f",
           "arrowhead": 0,
           "arrowwidth": 1
          },
          "autotypenumbers": "strict",
          "coloraxis": {
           "colorbar": {
            "outlinewidth": 0,
            "ticks": ""
           }
          },
          "colorscale": {
           "diverging": [
            [
             0,
             "#8e0152"
            ],
            [
             0.1,
             "#c51b7d"
            ],
            [
             0.2,
             "#de77ae"
            ],
            [
             0.3,
             "#f1b6da"
            ],
            [
             0.4,
             "#fde0ef"
            ],
            [
             0.5,
             "#f7f7f7"
            ],
            [
             0.6,
             "#e6f5d0"
            ],
            [
             0.7,
             "#b8e186"
            ],
            [
             0.8,
             "#7fbc41"
            ],
            [
             0.9,
             "#4d9221"
            ],
            [
             1,
             "#276419"
            ]
           ],
           "sequential": [
            [
             0,
             "#0d0887"
            ],
            [
             0.1111111111111111,
             "#46039f"
            ],
            [
             0.2222222222222222,
             "#7201a8"
            ],
            [
             0.3333333333333333,
             "#9c179e"
            ],
            [
             0.4444444444444444,
             "#bd3786"
            ],
            [
             0.5555555555555556,
             "#d8576b"
            ],
            [
             0.6666666666666666,
             "#ed7953"
            ],
            [
             0.7777777777777778,
             "#fb9f3a"
            ],
            [
             0.8888888888888888,
             "#fdca26"
            ],
            [
             1,
             "#f0f921"
            ]
           ],
           "sequentialminus": [
            [
             0,
             "#0d0887"
            ],
            [
             0.1111111111111111,
             "#46039f"
            ],
            [
             0.2222222222222222,
             "#7201a8"
            ],
            [
             0.3333333333333333,
             "#9c179e"
            ],
            [
             0.4444444444444444,
             "#bd3786"
            ],
            [
             0.5555555555555556,
             "#d8576b"
            ],
            [
             0.6666666666666666,
             "#ed7953"
            ],
            [
             0.7777777777777778,
             "#fb9f3a"
            ],
            [
             0.8888888888888888,
             "#fdca26"
            ],
            [
             1,
             "#f0f921"
            ]
           ]
          },
          "colorway": [
           "#636efa",
           "#EF553B",
           "#00cc96",
           "#ab63fa",
           "#FFA15A",
           "#19d3f3",
           "#FF6692",
           "#B6E880",
           "#FF97FF",
           "#FECB52"
          ],
          "font": {
           "color": "#2a3f5f"
          },
          "geo": {
           "bgcolor": "white",
           "lakecolor": "white",
           "landcolor": "#E5ECF6",
           "showlakes": true,
           "showland": true,
           "subunitcolor": "white"
          },
          "hoverlabel": {
           "align": "left"
          },
          "hovermode": "closest",
          "mapbox": {
           "style": "light"
          },
          "paper_bgcolor": "white",
          "plot_bgcolor": "#E5ECF6",
          "polar": {
           "angularaxis": {
            "gridcolor": "white",
            "linecolor": "white",
            "ticks": ""
           },
           "bgcolor": "#E5ECF6",
           "radialaxis": {
            "gridcolor": "white",
            "linecolor": "white",
            "ticks": ""
           }
          },
          "scene": {
           "xaxis": {
            "backgroundcolor": "#E5ECF6",
            "gridcolor": "white",
            "gridwidth": 2,
            "linecolor": "white",
            "showbackground": true,
            "ticks": "",
            "zerolinecolor": "white"
           },
           "yaxis": {
            "backgroundcolor": "#E5ECF6",
            "gridcolor": "white",
            "gridwidth": 2,
            "linecolor": "white",
            "showbackground": true,
            "ticks": "",
            "zerolinecolor": "white"
           },
           "zaxis": {
            "backgroundcolor": "#E5ECF6",
            "gridcolor": "white",
            "gridwidth": 2,
            "linecolor": "white",
            "showbackground": true,
            "ticks": "",
            "zerolinecolor": "white"
           }
          },
          "shapedefaults": {
           "line": {
            "color": "#2a3f5f"
           }
          },
          "ternary": {
           "aaxis": {
            "gridcolor": "white",
            "linecolor": "white",
            "ticks": ""
           },
           "baxis": {
            "gridcolor": "white",
            "linecolor": "white",
            "ticks": ""
           },
           "bgcolor": "#E5ECF6",
           "caxis": {
            "gridcolor": "white",
            "linecolor": "white",
            "ticks": ""
           }
          },
          "title": {
           "x": 0.05
          },
          "xaxis": {
           "automargin": true,
           "gridcolor": "white",
           "linecolor": "white",
           "ticks": "",
           "title": {
            "standoff": 15
           },
           "zerolinecolor": "white",
           "zerolinewidth": 2
          },
          "yaxis": {
           "automargin": true,
           "gridcolor": "white",
           "linecolor": "white",
           "ticks": "",
           "title": {
            "standoff": 15
           },
           "zerolinecolor": "white",
           "zerolinewidth": 2
          }
         }
        },
        "xaxis": {
         "anchor": "y",
         "domain": [
          0,
          1
         ],
         "title": {
          "text": "최고 기온"
         }
        },
        "yaxis": {
         "anchor": "x",
         "domain": [
          0,
          1
         ],
         "title": {
          "text": "지역"
         }
        }
       }
      }
     },
     "metadata": {}
    }
   ],
   "metadata": {}
  },
  {
   "cell_type": "code",
   "execution_count": null,
   "source": [],
   "outputs": [],
   "metadata": {}
  }
 ],
 "metadata": {
  "kernelspec": {
   "name": "python3",
   "display_name": "Python 3.8.5 64-bit ('base': conda)"
  },
  "language_info": {
   "codemirror_mode": {
    "name": "ipython",
    "version": 3
   },
   "file_extension": ".py",
   "mimetype": "text/x-python",
   "name": "python",
   "nbconvert_exporter": "python",
   "pygments_lexer": "ipython3",
   "version": "3.8.5"
  },
  "interpreter": {
   "hash": "3daa3430744053f4748a69c6948da8999f75f0c797f8ffecf263e95f10f995f6"
  }
 },
 "nbformat": 4,
 "nbformat_minor": 4
}